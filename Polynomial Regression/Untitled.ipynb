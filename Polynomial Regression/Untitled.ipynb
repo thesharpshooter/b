{
 "cells": [
  {
   "cell_type": "code",
   "execution_count": 93,
   "metadata": {
    "collapsed": true
   },
   "outputs": [],
   "source": [
    "import numpy as np\n",
    "import pandas as pd \n",
    "import matplotlib.pyplot as plt\n",
    "from sklearn import linear_model as lm\n",
    "%matplotlib inline"
   ]
  },
  {
   "cell_type": "code",
   "execution_count": 94,
   "metadata": {
    "collapsed": true
   },
   "outputs": [],
   "source": [
    "dtype_dict = {'bathrooms':float, 'waterfront':int, 'sqft_above':int, 'sqft_living15':float, 'grade':int,\n",
    "              'yr_renovated':int, 'price':float, 'bedrooms':float, 'zipcode':str, 'long':float, 'sqft_lot15':float,\n",
    "              'sqft_living':float, 'floors':str, 'condition':int,\n",
    "              'lat':float, 'date':str, 'sqft_basement':int, 'yr_built':int, 'id':str, 'sqft_lot':int, 'view':int}\n",
    "data = pd.read_csv('kc_house_data.csv',dtype=dtype_dict)\n",
    "data_test = pd.read_csv('wk3_kc_house_test_data.csv',dtype=dtype_dict)\n",
    "data_train = pd.read_csv('wk3_kc_house_train_data.csv',dtype=dtype_dict)\n",
    "data_validation = pd.read_csv('wk3_kc_house_valid_data.csv',dtype=dtype_dict)\n",
    "data_subset_1 = pd.read_csv('wk3_kc_house_set_1_data.csv',dtype=dtype_dict)\n",
    "data_subset_2 = pd.read_csv('wk3_kc_house_set_2_data.csv',dtype=dtype_dict)\n",
    "data_subset_3 = pd.read_csv('wk3_kc_house_set_3_data.csv',dtype=dtype_dict)\n",
    "data_subset_4 = pd.read_csv('wk3_kc_house_set_4_data.csv',dtype=dtype_dict)"
   ]
  },
  {
   "cell_type": "code",
   "execution_count": 95,
   "metadata": {
    "collapsed": false
   },
   "outputs": [
    {
     "data": {
      "text/html": [
       "<div>\n",
       "<table border=\"1\" class=\"dataframe\">\n",
       "  <thead>\n",
       "    <tr style=\"text-align: right;\">\n",
       "      <th></th>\n",
       "      <th>id</th>\n",
       "      <th>date</th>\n",
       "      <th>price</th>\n",
       "      <th>bedrooms</th>\n",
       "      <th>bathrooms</th>\n",
       "      <th>sqft_living</th>\n",
       "      <th>sqft_lot</th>\n",
       "      <th>floors</th>\n",
       "      <th>waterfront</th>\n",
       "      <th>view</th>\n",
       "      <th>...</th>\n",
       "      <th>grade</th>\n",
       "      <th>sqft_above</th>\n",
       "      <th>sqft_basement</th>\n",
       "      <th>yr_built</th>\n",
       "      <th>yr_renovated</th>\n",
       "      <th>zipcode</th>\n",
       "      <th>lat</th>\n",
       "      <th>long</th>\n",
       "      <th>sqft_living15</th>\n",
       "      <th>sqft_lot15</th>\n",
       "    </tr>\n",
       "  </thead>\n",
       "  <tbody>\n",
       "    <tr>\n",
       "      <th>0</th>\n",
       "      <td>7129300520</td>\n",
       "      <td>20141013T000000</td>\n",
       "      <td>221900.0</td>\n",
       "      <td>3.0</td>\n",
       "      <td>1.00</td>\n",
       "      <td>1180.0</td>\n",
       "      <td>5650</td>\n",
       "      <td>1</td>\n",
       "      <td>0</td>\n",
       "      <td>0</td>\n",
       "      <td>...</td>\n",
       "      <td>7</td>\n",
       "      <td>1180</td>\n",
       "      <td>0</td>\n",
       "      <td>1955</td>\n",
       "      <td>0</td>\n",
       "      <td>98178</td>\n",
       "      <td>47.5112</td>\n",
       "      <td>-122.257</td>\n",
       "      <td>1340.0</td>\n",
       "      <td>5650.0</td>\n",
       "    </tr>\n",
       "    <tr>\n",
       "      <th>1</th>\n",
       "      <td>6414100192</td>\n",
       "      <td>20141209T000000</td>\n",
       "      <td>538000.0</td>\n",
       "      <td>3.0</td>\n",
       "      <td>2.25</td>\n",
       "      <td>2570.0</td>\n",
       "      <td>7242</td>\n",
       "      <td>2</td>\n",
       "      <td>0</td>\n",
       "      <td>0</td>\n",
       "      <td>...</td>\n",
       "      <td>7</td>\n",
       "      <td>2170</td>\n",
       "      <td>400</td>\n",
       "      <td>1951</td>\n",
       "      <td>1991</td>\n",
       "      <td>98125</td>\n",
       "      <td>47.7210</td>\n",
       "      <td>-122.319</td>\n",
       "      <td>1690.0</td>\n",
       "      <td>7639.0</td>\n",
       "    </tr>\n",
       "    <tr>\n",
       "      <th>2</th>\n",
       "      <td>5631500400</td>\n",
       "      <td>20150225T000000</td>\n",
       "      <td>180000.0</td>\n",
       "      <td>2.0</td>\n",
       "      <td>1.00</td>\n",
       "      <td>770.0</td>\n",
       "      <td>10000</td>\n",
       "      <td>1</td>\n",
       "      <td>0</td>\n",
       "      <td>0</td>\n",
       "      <td>...</td>\n",
       "      <td>6</td>\n",
       "      <td>770</td>\n",
       "      <td>0</td>\n",
       "      <td>1933</td>\n",
       "      <td>0</td>\n",
       "      <td>98028</td>\n",
       "      <td>47.7379</td>\n",
       "      <td>-122.233</td>\n",
       "      <td>2720.0</td>\n",
       "      <td>8062.0</td>\n",
       "    </tr>\n",
       "    <tr>\n",
       "      <th>3</th>\n",
       "      <td>2487200875</td>\n",
       "      <td>20141209T000000</td>\n",
       "      <td>604000.0</td>\n",
       "      <td>4.0</td>\n",
       "      <td>3.00</td>\n",
       "      <td>1960.0</td>\n",
       "      <td>5000</td>\n",
       "      <td>1</td>\n",
       "      <td>0</td>\n",
       "      <td>0</td>\n",
       "      <td>...</td>\n",
       "      <td>7</td>\n",
       "      <td>1050</td>\n",
       "      <td>910</td>\n",
       "      <td>1965</td>\n",
       "      <td>0</td>\n",
       "      <td>98136</td>\n",
       "      <td>47.5208</td>\n",
       "      <td>-122.393</td>\n",
       "      <td>1360.0</td>\n",
       "      <td>5000.0</td>\n",
       "    </tr>\n",
       "    <tr>\n",
       "      <th>4</th>\n",
       "      <td>1954400510</td>\n",
       "      <td>20150218T000000</td>\n",
       "      <td>510000.0</td>\n",
       "      <td>3.0</td>\n",
       "      <td>2.00</td>\n",
       "      <td>1680.0</td>\n",
       "      <td>8080</td>\n",
       "      <td>1</td>\n",
       "      <td>0</td>\n",
       "      <td>0</td>\n",
       "      <td>...</td>\n",
       "      <td>8</td>\n",
       "      <td>1680</td>\n",
       "      <td>0</td>\n",
       "      <td>1987</td>\n",
       "      <td>0</td>\n",
       "      <td>98074</td>\n",
       "      <td>47.6168</td>\n",
       "      <td>-122.045</td>\n",
       "      <td>1800.0</td>\n",
       "      <td>7503.0</td>\n",
       "    </tr>\n",
       "    <tr>\n",
       "      <th>5</th>\n",
       "      <td>7237550310</td>\n",
       "      <td>20140512T000000</td>\n",
       "      <td>1225000.0</td>\n",
       "      <td>4.0</td>\n",
       "      <td>4.50</td>\n",
       "      <td>5420.0</td>\n",
       "      <td>101930</td>\n",
       "      <td>1</td>\n",
       "      <td>0</td>\n",
       "      <td>0</td>\n",
       "      <td>...</td>\n",
       "      <td>11</td>\n",
       "      <td>3890</td>\n",
       "      <td>1530</td>\n",
       "      <td>2001</td>\n",
       "      <td>0</td>\n",
       "      <td>98053</td>\n",
       "      <td>47.6561</td>\n",
       "      <td>-122.005</td>\n",
       "      <td>4760.0</td>\n",
       "      <td>101930.0</td>\n",
       "    </tr>\n",
       "    <tr>\n",
       "      <th>6</th>\n",
       "      <td>1321400060</td>\n",
       "      <td>20140627T000000</td>\n",
       "      <td>257500.0</td>\n",
       "      <td>3.0</td>\n",
       "      <td>2.25</td>\n",
       "      <td>1715.0</td>\n",
       "      <td>6819</td>\n",
       "      <td>2</td>\n",
       "      <td>0</td>\n",
       "      <td>0</td>\n",
       "      <td>...</td>\n",
       "      <td>7</td>\n",
       "      <td>1715</td>\n",
       "      <td>0</td>\n",
       "      <td>1995</td>\n",
       "      <td>0</td>\n",
       "      <td>98003</td>\n",
       "      <td>47.3097</td>\n",
       "      <td>-122.327</td>\n",
       "      <td>2238.0</td>\n",
       "      <td>6819.0</td>\n",
       "    </tr>\n",
       "    <tr>\n",
       "      <th>7</th>\n",
       "      <td>2008000270</td>\n",
       "      <td>20150115T000000</td>\n",
       "      <td>291850.0</td>\n",
       "      <td>3.0</td>\n",
       "      <td>1.50</td>\n",
       "      <td>1060.0</td>\n",
       "      <td>9711</td>\n",
       "      <td>1</td>\n",
       "      <td>0</td>\n",
       "      <td>0</td>\n",
       "      <td>...</td>\n",
       "      <td>7</td>\n",
       "      <td>1060</td>\n",
       "      <td>0</td>\n",
       "      <td>1963</td>\n",
       "      <td>0</td>\n",
       "      <td>98198</td>\n",
       "      <td>47.4095</td>\n",
       "      <td>-122.315</td>\n",
       "      <td>1650.0</td>\n",
       "      <td>9711.0</td>\n",
       "    </tr>\n",
       "    <tr>\n",
       "      <th>8</th>\n",
       "      <td>2414600126</td>\n",
       "      <td>20150415T000000</td>\n",
       "      <td>229500.0</td>\n",
       "      <td>3.0</td>\n",
       "      <td>1.00</td>\n",
       "      <td>1780.0</td>\n",
       "      <td>7470</td>\n",
       "      <td>1</td>\n",
       "      <td>0</td>\n",
       "      <td>0</td>\n",
       "      <td>...</td>\n",
       "      <td>7</td>\n",
       "      <td>1050</td>\n",
       "      <td>730</td>\n",
       "      <td>1960</td>\n",
       "      <td>0</td>\n",
       "      <td>98146</td>\n",
       "      <td>47.5123</td>\n",
       "      <td>-122.337</td>\n",
       "      <td>1780.0</td>\n",
       "      <td>8113.0</td>\n",
       "    </tr>\n",
       "    <tr>\n",
       "      <th>9</th>\n",
       "      <td>3793500160</td>\n",
       "      <td>20150312T000000</td>\n",
       "      <td>323000.0</td>\n",
       "      <td>3.0</td>\n",
       "      <td>2.50</td>\n",
       "      <td>1890.0</td>\n",
       "      <td>6560</td>\n",
       "      <td>2</td>\n",
       "      <td>0</td>\n",
       "      <td>0</td>\n",
       "      <td>...</td>\n",
       "      <td>7</td>\n",
       "      <td>1890</td>\n",
       "      <td>0</td>\n",
       "      <td>2003</td>\n",
       "      <td>0</td>\n",
       "      <td>98038</td>\n",
       "      <td>47.3684</td>\n",
       "      <td>-122.031</td>\n",
       "      <td>2390.0</td>\n",
       "      <td>7570.0</td>\n",
       "    </tr>\n",
       "  </tbody>\n",
       "</table>\n",
       "<p>10 rows × 21 columns</p>\n",
       "</div>"
      ],
      "text/plain": [
       "           id             date      price  bedrooms  bathrooms  sqft_living  \\\n",
       "0  7129300520  20141013T000000   221900.0       3.0       1.00       1180.0   \n",
       "1  6414100192  20141209T000000   538000.0       3.0       2.25       2570.0   \n",
       "2  5631500400  20150225T000000   180000.0       2.0       1.00        770.0   \n",
       "3  2487200875  20141209T000000   604000.0       4.0       3.00       1960.0   \n",
       "4  1954400510  20150218T000000   510000.0       3.0       2.00       1680.0   \n",
       "5  7237550310  20140512T000000  1225000.0       4.0       4.50       5420.0   \n",
       "6  1321400060  20140627T000000   257500.0       3.0       2.25       1715.0   \n",
       "7  2008000270  20150115T000000   291850.0       3.0       1.50       1060.0   \n",
       "8  2414600126  20150415T000000   229500.0       3.0       1.00       1780.0   \n",
       "9  3793500160  20150312T000000   323000.0       3.0       2.50       1890.0   \n",
       "\n",
       "   sqft_lot floors  waterfront  view     ...      grade  sqft_above  \\\n",
       "0      5650      1           0     0     ...          7        1180   \n",
       "1      7242      2           0     0     ...          7        2170   \n",
       "2     10000      1           0     0     ...          6         770   \n",
       "3      5000      1           0     0     ...          7        1050   \n",
       "4      8080      1           0     0     ...          8        1680   \n",
       "5    101930      1           0     0     ...         11        3890   \n",
       "6      6819      2           0     0     ...          7        1715   \n",
       "7      9711      1           0     0     ...          7        1060   \n",
       "8      7470      1           0     0     ...          7        1050   \n",
       "9      6560      2           0     0     ...          7        1890   \n",
       "\n",
       "   sqft_basement  yr_built  yr_renovated  zipcode      lat     long  \\\n",
       "0              0      1955             0    98178  47.5112 -122.257   \n",
       "1            400      1951          1991    98125  47.7210 -122.319   \n",
       "2              0      1933             0    98028  47.7379 -122.233   \n",
       "3            910      1965             0    98136  47.5208 -122.393   \n",
       "4              0      1987             0    98074  47.6168 -122.045   \n",
       "5           1530      2001             0    98053  47.6561 -122.005   \n",
       "6              0      1995             0    98003  47.3097 -122.327   \n",
       "7              0      1963             0    98198  47.4095 -122.315   \n",
       "8            730      1960             0    98146  47.5123 -122.337   \n",
       "9              0      2003             0    98038  47.3684 -122.031   \n",
       "\n",
       "   sqft_living15  sqft_lot15  \n",
       "0         1340.0      5650.0  \n",
       "1         1690.0      7639.0  \n",
       "2         2720.0      8062.0  \n",
       "3         1360.0      5000.0  \n",
       "4         1800.0      7503.0  \n",
       "5         4760.0    101930.0  \n",
       "6         2238.0      6819.0  \n",
       "7         1650.0      9711.0  \n",
       "8         1780.0      8113.0  \n",
       "9         2390.0      7570.0  \n",
       "\n",
       "[10 rows x 21 columns]"
      ]
     },
     "execution_count": 95,
     "metadata": {},
     "output_type": "execute_result"
    }
   ],
   "source": [
    "data.head(10)"
   ]
  },
  {
   "cell_type": "markdown",
   "metadata": {},
   "source": [
    "# A function that returns the column raised to the given power"
   ]
  },
  {
   "cell_type": "code",
   "execution_count": 96,
   "metadata": {
    "collapsed": false
   },
   "outputs": [],
   "source": [
    "def power(feature,degree):\n",
    "    my_data_frame = pd.DataFrame()\n",
    "    my_data_frame['feature'] = np.power(feature,degree)\n",
    "    return my_data_frame"
   ]
  },
  {
   "cell_type": "markdown",
   "metadata": {},
   "source": [
    "# A polynomial data frame that takes feature and degree and returns dataframe with feature polynomial"
   ]
  },
  {
   "cell_type": "code",
   "execution_count": 97,
   "metadata": {
    "collapsed": false
   },
   "outputs": [],
   "source": [
    "def polynomial_dataframe(feature,degree):\n",
    "    my_data_frame = pd.DataFrame()\n",
    "    for x in range(1,degree + 1):\n",
    "        my_data_frame['Feature_%s' %x] = np.power(feature,x)\n",
    "    return my_data_frame"
   ]
  },
  {
   "cell_type": "code",
   "execution_count": 177,
   "metadata": {
    "collapsed": false
   },
   "outputs": [
    {
     "name": "stderr",
     "output_type": "stream",
     "text": [
      "/home/om/gl-env/lib/python2.7/site-packages/ipykernel/__main__.py:1: FutureWarning: sort(columns=....) is deprecated, use sort_values(by=.....)\n",
      "  if __name__ == '__main__':\n",
      "/home/om/gl-env/lib/python2.7/site-packages/ipykernel/__main__.py:2: FutureWarning: sort(columns=....) is deprecated, use sort_values(by=.....)\n",
      "  from ipykernel import kernelapp as app\n",
      "/home/om/gl-env/lib/python2.7/site-packages/ipykernel/__main__.py:3: FutureWarning: sort(columns=....) is deprecated, use sort_values(by=.....)\n",
      "  app.launch_new_instance()\n",
      "/home/om/gl-env/lib/python2.7/site-packages/ipykernel/__main__.py:4: FutureWarning: sort(columns=....) is deprecated, use sort_values(by=.....)\n",
      "/home/om/gl-env/lib/python2.7/site-packages/ipykernel/__main__.py:5: FutureWarning: sort(columns=....) is deprecated, use sort_values(by=.....)\n",
      "/home/om/gl-env/lib/python2.7/site-packages/ipykernel/__main__.py:6: FutureWarning: sort(columns=....) is deprecated, use sort_values(by=.....)\n",
      "/home/om/gl-env/lib/python2.7/site-packages/ipykernel/__main__.py:7: FutureWarning: sort(columns=....) is deprecated, use sort_values(by=.....)\n"
     ]
    }
   ],
   "source": [
    "data = data.sort(['sqft_living','price'])\n",
    "data_train = data_train.sort(['sqft_living','price'])\n",
    "data_test = data_test.sort(['sqft_living','price'])\n",
    "data_subset_1 = data_subset_1.sort(['sqft_living','price'])\n",
    "data_subset_2 = data_subset_2.sort(['sqft_living','price'])\n",
    "data_subset_3 = data_subset_3.sort(['sqft_living','price'])\n",
    "data_subset_4 = data_subset_4.sort(['sqft_living','price'])"
   ]
  },
  {
   "cell_type": "code",
   "execution_count": 178,
   "metadata": {
    "collapsed": false
   },
   "outputs": [
    {
     "name": "stdout",
     "output_type": "stream",
     "text": [
      "(21613,)\n",
      "(21613,)\n"
     ]
    }
   ],
   "source": [
    "poly1_data = polynomial_dataframe(data['sqft_living'],1)\n",
    "poly1_data['price'] = data['price']\n",
    "print (poly1_data['price']).shape\n",
    "print (poly1_data['Feature_1']).shape"
   ]
  },
  {
   "cell_type": "code",
   "execution_count": 179,
   "metadata": {
    "collapsed": false
   },
   "outputs": [
    {
     "name": "stderr",
     "output_type": "stream",
     "text": [
      "/home/om/gl-env/lib/python2.7/site-packages/ipykernel/__main__.py:2: FutureWarning: reshape is deprecated and will raise in a subsequent release. Please use .values.reshape(...) instead\n",
      "  from ipykernel import kernelapp as app\n"
     ]
    },
    {
     "data": {
      "text/plain": [
       "LinearRegression(copy_X=True, fit_intercept=True, n_jobs=1, normalize=False)"
      ]
     },
     "execution_count": 179,
     "metadata": {},
     "output_type": "execute_result"
    }
   ],
   "source": [
    "model1 = lm.LinearRegression()\n",
    "model1.fit(poly1_data['Feature_1'].reshape(21613,1),poly1_data['price'])"
   ]
  },
  {
   "cell_type": "code",
   "execution_count": 180,
   "metadata": {
    "collapsed": false
   },
   "outputs": [
    {
     "name": "stdout",
     "output_type": "stream",
     "text": [
      "[ 280.6235679]\n",
      "-43580.7430945\n"
     ]
    }
   ],
   "source": [
    "print model1.coef_\n",
    "print model1.intercept_"
   ]
  },
  {
   "cell_type": "code",
   "execution_count": 181,
   "metadata": {
    "collapsed": false
   },
   "outputs": [
    {
     "name": "stderr",
     "output_type": "stream",
     "text": [
      "/home/om/gl-env/lib/python2.7/site-packages/ipykernel/__main__.py:2: FutureWarning: reshape is deprecated and will raise in a subsequent release. Please use .values.reshape(...) instead\n",
      "  from ipykernel import kernelapp as app\n"
     ]
    },
    {
     "data": {
      "text/plain": [
       "[<matplotlib.lines.Line2D at 0x7fca6d2e1350>,\n",
       " <matplotlib.lines.Line2D at 0x7fca6d2e1ad0>]"
      ]
     },
     "execution_count": 181,
     "metadata": {},
     "output_type": "execute_result"
    },
    {
     "data": {
      "image/png": "[encoded data removed]",
      "text/plain": [
       "<matplotlib.figure.Figure at 0x7fca7c152810>"
      ]
     },
     "metadata": {},
     "output_type": "display_data"
    }
   ],
   "source": [
    "plt.plot(poly1_data['Feature_1'],poly1_data['price'],'.',\n",
    "poly1_data['Feature_1'], model1.predict(poly1_data['Feature_1'].reshape(21613,1)),'-')"
   ]
  },
  {
   "cell_type": "code",
   "execution_count": 182,
   "metadata": {
    "collapsed": true
   },
   "outputs": [],
   "source": [
    "poly2_data = polynomial_dataframe(data['sqft_living'],2)\n",
    "poly2_data['price'] = data['price']\n"
   ]
  },
  {
   "cell_type": "code",
   "execution_count": 183,
   "metadata": {
    "collapsed": false
   },
   "outputs": [
    {
     "name": "stdout",
     "output_type": "stream",
     "text": [
      "[  6.79940947e+01   3.85812609e-02]\n",
      "199222.279305\n"
     ]
    }
   ],
   "source": [
    "model2 = lm.LinearRegression()\n",
    "model2.fit(poly2_data[['Feature_1','Feature_2']],poly2_data['price'])\n",
    "print model2.coef_\n",
    "print model2.intercept_"
   ]
  },
  {
   "cell_type": "code",
   "execution_count": 184,
   "metadata": {
    "collapsed": false
   },
   "outputs": [
    {
     "data": {
      "text/plain": [
       "[<matplotlib.lines.Line2D at 0x7fca6ceacf90>,\n",
       " <matplotlib.lines.Line2D at 0x7fca6ce99050>,\n",
       " <matplotlib.lines.Line2D at 0x7fca6ce991d0>,\n",
       " <matplotlib.lines.Line2D at 0x7fca6ce99dd0>]"
      ]
     },
     "execution_count": 184,
     "metadata": {},
     "output_type": "execute_result"
    },
    {
     "data": {
      "image/png": "[encoded data removed]",
      "text/plain": [
       "<matplotlib.figure.Figure at 0x7fca6c9ea910>"
      ]
     },
     "metadata": {},
     "output_type": "display_data"
    }
   ],
   "source": [
    "plt.plot(poly2_data[['Feature_1','Feature_2']],poly2_data['price'],'.',\n",
    "poly2_data[['Feature_1','Feature_2']], model2.predict(poly2_data[['Feature_1','Feature_2']]),'-')"
   ]
  },
  {
   "cell_type": "code",
   "execution_count": 185,
   "metadata": {
    "collapsed": false
   },
   "outputs": [
    {
     "name": "stdout",
     "output_type": "stream",
     "text": [
      "['Feature_1', 'Feature_2', 'Feature_3', 'price']\n"
     ]
    }
   ],
   "source": [
    "poly3_data = polynomial_dataframe(data['sqft_living'],3)\n",
    "poly3_data['price'] = data['price']\n",
    "features = list(poly3_data)\n",
    "print features"
   ]
  },
  {
   "cell_type": "code",
   "execution_count": 186,
   "metadata": {
    "collapsed": false
   },
   "outputs": [
    {
     "name": "stdout",
     "output_type": "stream",
     "text": [
      "[ -9.01819864e+01   8.70465089e-02  -3.84055260e-06]\n",
      "336819.74822\n"
     ]
    }
   ],
   "source": [
    "model3 = lm.LinearRegression()\n",
    "model3.fit(poly3_data[features[:-1]],poly2_data['price'])\n",
    "print model3.coef_\n",
    "print model3.intercept_"
   ]
  },
  {
   "cell_type": "code",
   "execution_count": 187,
   "metadata": {
    "collapsed": false
   },
   "outputs": [
    {
     "data": {
      "text/plain": [
       "[<matplotlib.lines.Line2D at 0x7fca6d047dd0>,\n",
       " <matplotlib.lines.Line2D at 0x7fca6d047e50>,\n",
       " <matplotlib.lines.Line2D at 0x7fca6d047fd0>,\n",
       " <matplotlib.lines.Line2D at 0x7fca6d078110>,\n",
       " <matplotlib.lines.Line2D at 0x7fca6d054250>,\n",
       " <matplotlib.lines.Line2D at 0x7fca6d054390>]"
      ]
     },
     "execution_count": 187,
     "metadata": {},
     "output_type": "execute_result"
    },
    {
     "data": {
      "image/png": "[encoded data removed]",
      "text/plain": [
       "<matplotlib.figure.Figure at 0x7fca6c8c7650>"
      ]
     },
     "metadata": {},
     "output_type": "display_data"
    }
   ],
   "source": [
    "plt.plot(poly3_data[features[:-1]],poly3_data['price'],'.',\n",
    "poly3_data[features[:-1]], model3.predict(poly3_data[features[:-1]]),'-')"
   ]
  },
  {
   "cell_type": "code",
   "execution_count": 188,
   "metadata": {
    "collapsed": false
   },
   "outputs": [
    {
     "name": "stdout",
     "output_type": "stream",
     "text": [
      "['Feature_1', 'Feature_2', 'Feature_3', 'Feature_4', 'Feature_5', 'Feature_6', 'Feature_7', 'Feature_8', 'Feature_9', 'Feature_10', 'Feature_11', 'Feature_12', 'Feature_13', 'Feature_14', 'Feature_15', 'price']\n"
     ]
    }
   ],
   "source": [
    "poly15_data = polynomial_dataframe(data['sqft_living'],15)\n",
    "poly15_data['price'] = data['price']\n",
    "features = list(poly15_data)\n",
    "print features"
   ]
  },
  {
   "cell_type": "code",
   "execution_count": 189,
   "metadata": {
    "collapsed": false
   },
   "outputs": [
    {
     "name": "stdout",
     "output_type": "stream",
     "text": [
      "[  4.56404164e-91  -6.23779018e-50   2.87786017e-56   2.78197725e-88\n",
      "   1.19863929e-74   2.68575522e-71   2.26147568e-67   1.85900299e-63\n",
      "   1.47144115e-59   1.09771012e-55   7.43509038e-52   4.23015577e-48\n",
      "   1.61618577e-44  -2.49283826e-48   9.59718336e-53]\n",
      "537116.329638\n"
     ]
    }
   ],
   "source": [
    "model15 = lm.LinearRegression()\n",
    "model15.fit(poly15_data[features[:-1]],poly15_data['price'])\n",
    "print model15.coef_\n",
    "print model15.intercept_"
   ]
  },
  {
   "cell_type": "code",
   "execution_count": 190,
   "metadata": {
    "collapsed": false
   },
   "outputs": [
    {
     "data": {
      "text/plain": [
       "[<matplotlib.lines.Line2D at 0x7fca6c8a6a10>,\n",
       " <matplotlib.lines.Line2D at 0x7fca6c8a6a90>,\n",
       " <matplotlib.lines.Line2D at 0x7fca6c8a6c10>,\n",
       " <matplotlib.lines.Line2D at 0x7fca6c8a6d10>,\n",
       " <matplotlib.lines.Line2D at 0x7fca6c8a6e10>,\n",
       " <matplotlib.lines.Line2D at 0x7fca6c8a6f10>,\n",
       " <matplotlib.lines.Line2D at 0x7fca6c8b2050>,\n",
       " <matplotlib.lines.Line2D at 0x7fca6c8b2150>,\n",
       " <matplotlib.lines.Line2D at 0x7fca6c8b2250>,\n",
       " <matplotlib.lines.Line2D at 0x7fca6c8b2350>,\n",
       " <matplotlib.lines.Line2D at 0x7fca6c8b2450>,\n",
       " <matplotlib.lines.Line2D at 0x7fca6c8b2550>,\n",
       " <matplotlib.lines.Line2D at 0x7fca6c8b2650>,\n",
       " <matplotlib.lines.Line2D at 0x7fca6c8b2750>,\n",
       " <matplotlib.lines.Line2D at 0x7fca6c8b2850>,\n",
       " <matplotlib.lines.Line2D at 0x7fca6c8b2950>,\n",
       " <matplotlib.lines.Line2D at 0x7fca6c871790>,\n",
       " <matplotlib.lines.Line2D at 0x7fca6c8718d0>,\n",
       " <matplotlib.lines.Line2D at 0x7fca6c871a10>,\n",
       " <matplotlib.lines.Line2D at 0x7fca6c871b50>,\n",
       " <matplotlib.lines.Line2D at 0x7fca6d34d8d0>,\n",
       " <matplotlib.lines.Line2D at 0x7fca6c871dd0>,\n",
       " <matplotlib.lines.Line2D at 0x7fca6c871f10>,\n",
       " <matplotlib.lines.Line2D at 0x7fca6c87d090>,\n",
       " <matplotlib.lines.Line2D at 0x7fca6c87d1d0>,\n",
       " <matplotlib.lines.Line2D at 0x7fca6c87d310>,\n",
       " <matplotlib.lines.Line2D at 0x7fca6c87d450>,\n",
       " <matplotlib.lines.Line2D at 0x7fca6c87d590>,\n",
       " <matplotlib.lines.Line2D at 0x7fca6c87d6d0>,\n",
       " <matplotlib.lines.Line2D at 0x7fca6c87d810>]"
      ]
     },
     "execution_count": 190,
     "metadata": {},
     "output_type": "execute_result"
    },
    {
     "data": {
      "image/png": "[encoded data removed]",
      "text/plain": [
       "<matplotlib.figure.Figure at 0x7fca6d2900d0>"
      ]
     },
     "metadata": {},
     "output_type": "display_data"
    }
   ],
   "source": [
    "plt.plot(poly15_data[features[:-1]],poly15_data['price'],'.',\n",
    "poly15_data[features[:-1]], model15.predict(poly15_data[features[:-1]]),'-')"
   ]
  },
  {
   "cell_type": "code",
   "execution_count": 191,
   "metadata": {
    "collapsed": false
   },
   "outputs": [],
   "source": [
    "poly15_data_subset1 = polynomial_dataframe(data_subset_1['sqft_living'],15)\n",
    "poly15_data_subset1['price'] = data_subset_1['price']\n",
    "features = list(poly15_data)\n"
   ]
  },
  {
   "cell_type": "code",
   "execution_count": 192,
   "metadata": {
    "collapsed": false
   },
   "outputs": [
    {
     "name": "stdout",
     "output_type": "stream",
     "text": [
      "[  3.05794168e-90   2.21229708e-49   8.37177586e-55   1.21888889e-88\n",
      "   3.23082736e-74   1.10340647e-70   8.37724029e-67   6.23411957e-63\n",
      "   4.49156442e-59   3.06938763e-55   1.91749300e-51   1.01335180e-47\n",
      "   3.62176959e-44  -5.63501661e-48   2.18641116e-52]\n",
      "539058.818668\n"
     ]
    }
   ],
   "source": [
    "model15_subset1 = lm.LinearRegression()\n",
    "model15_subset1.fit(poly15_data_subset1[features[:-1]],poly15_data_subset1['price'])\n",
    "print model15_subset1.coef_\n",
    "print model15_subset1.intercept_"
   ]
  },
  {
   "cell_type": "markdown",
   "metadata": {},
   "source": [
    "# PLot on subset 1"
   ]
  },
  {
   "cell_type": "code",
   "execution_count": 193,
   "metadata": {
    "collapsed": false
   },
   "outputs": [
    {
     "data": {
      "text/plain": [
       "[<matplotlib.lines.Line2D at 0x7fca6cd4ab50>,\n",
       " <matplotlib.lines.Line2D at 0x7fca6cd4a890>,\n",
       " <matplotlib.lines.Line2D at 0x7fca6d3c2250>,\n",
       " <matplotlib.lines.Line2D at 0x7fca6cd8a6d0>,\n",
       " <matplotlib.lines.Line2D at 0x7fca6cd8ad10>,\n",
       " <matplotlib.lines.Line2D at 0x7fca6cd8a950>,\n",
       " <matplotlib.lines.Line2D at 0x7fca6cd8a0d0>,\n",
       " <matplotlib.lines.Line2D at 0x7fca6cd8a610>,\n",
       " <matplotlib.lines.Line2D at 0x7fca6cd8ac10>,\n",
       " <matplotlib.lines.Line2D at 0x7fca6cd8a390>,\n",
       " <matplotlib.lines.Line2D at 0x7fca6cd8a290>,\n",
       " <matplotlib.lines.Line2D at 0x7fca6cd8a190>,\n",
       " <matplotlib.lines.Line2D at 0x7fca6cd8af50>,\n",
       " <matplotlib.lines.Line2D at 0x7fca6cd8ae10>,\n",
       " <matplotlib.lines.Line2D at 0x7fca6cd8aa50>,\n",
       " <matplotlib.lines.Line2D at 0x7fca6cd8a910>,\n",
       " <matplotlib.lines.Line2D at 0x7fca6d294b50>,\n",
       " <matplotlib.lines.Line2D at 0x7fca6d294210>,\n",
       " <matplotlib.lines.Line2D at 0x7fca6d46a5d0>,\n",
       " <matplotlib.lines.Line2D at 0x7fca6d2e54d0>,\n",
       " <matplotlib.lines.Line2D at 0x7fca6d309290>,\n",
       " <matplotlib.lines.Line2D at 0x7fca6d0b6550>,\n",
       " <matplotlib.lines.Line2D at 0x7fca6d0b6dd0>,\n",
       " <matplotlib.lines.Line2D at 0x7fca6d0b6bd0>,\n",
       " <matplotlib.lines.Line2D at 0x7fca6d0b6fd0>,\n",
       " <matplotlib.lines.Line2D at 0x7fca6d0b6c50>,\n",
       " <matplotlib.lines.Line2D at 0x7fca6c9fee90>,\n",
       " <matplotlib.lines.Line2D at 0x7fca6c9fe110>,\n",
       " <matplotlib.lines.Line2D at 0x7fca6c9fe090>,\n",
       " <matplotlib.lines.Line2D at 0x7fca6c9fecd0>]"
      ]
     },
     "execution_count": 193,
     "metadata": {},
     "output_type": "execute_result"
    },
    {
     "data": {
      "image/png": "[encoded data removed]",
      "text/plain": [
       "<matplotlib.figure.Figure at 0x7fca6cec1f90>"
      ]
     },
     "metadata": {},
     "output_type": "display_data"
    }
   ],
   "source": [
    "plt.plot(poly15_data_subset1[features[:-1]],poly15_data_subset1['price'],'.',\n",
    "poly15_data_subset1[features[:-1]], model15_subset1.predict(poly15_data_subset1[features[:-1]]),'-')"
   ]
  },
  {
   "cell_type": "markdown",
   "metadata": {},
   "source": [
    "# Plot on subset model 2"
   ]
  },
  {
   "cell_type": "code",
   "execution_count": 194,
   "metadata": {
    "collapsed": false
   },
   "outputs": [
    {
     "name": "stdout",
     "output_type": "stream",
     "text": [
      "[  2.68007766e-77  -1.28313530e-39  -1.45840380e-44   8.23309543e-50\n",
      "   1.04404871e-53   1.35479893e-58   3.62867884e-55   1.49807489e-51\n",
      "   5.73974461e-48   1.95158341e-44   5.37897065e-41   9.38035579e-38\n",
      "  -3.62478330e-41   4.63968383e-45  -1.96500572e-49]\n",
      "506812.109343\n"
     ]
    },
    {
     "data": {
      "text/plain": [
       "[<matplotlib.lines.Line2D at 0x7fca6cc2bed0>,\n",
       " <matplotlib.lines.Line2D at 0x7fca6cc2bf50>,\n",
       " <matplotlib.lines.Line2D at 0x7fca6cc2bb50>,\n",
       " <matplotlib.lines.Line2D at 0x7fca6cc2b950>,\n",
       " <matplotlib.lines.Line2D at 0x7fca6cc2b990>,\n",
       " <matplotlib.lines.Line2D at 0x7fca6cc2b6d0>,\n",
       " <matplotlib.lines.Line2D at 0x7fca6cc2b590>,\n",
       " <matplotlib.lines.Line2D at 0x7fca6cc8a090>,\n",
       " <matplotlib.lines.Line2D at 0x7fca6cc8a590>,\n",
       " <matplotlib.lines.Line2D at 0x7fca6cc8aa50>,\n",
       " <matplotlib.lines.Line2D at 0x7fca6cc8abd0>,\n",
       " <matplotlib.lines.Line2D at 0x7fca6cc8af50>,\n",
       " <matplotlib.lines.Line2D at 0x7fca6cc8a450>,\n",
       " <matplotlib.lines.Line2D at 0x7fca6cc8a410>,\n",
       " <matplotlib.lines.Line2D at 0x7fca6cc8ab90>,\n",
       " <matplotlib.lines.Line2D at 0x7fca6cc8a210>,\n",
       " <matplotlib.lines.Line2D at 0x7fca6cac2750>,\n",
       " <matplotlib.lines.Line2D at 0x7fca6cac26d0>,\n",
       " <matplotlib.lines.Line2D at 0x7fca6cac2a90>,\n",
       " <matplotlib.lines.Line2D at 0x7fca6cac2dd0>,\n",
       " <matplotlib.lines.Line2D at 0x7fca6cda4e90>,\n",
       " <matplotlib.lines.Line2D at 0x7fca6cac2f90>,\n",
       " <matplotlib.lines.Line2D at 0x7fca6cac2cd0>,\n",
       " <matplotlib.lines.Line2D at 0x7fca6cac20d0>,\n",
       " <matplotlib.lines.Line2D at 0x7fca6cac2390>,\n",
       " <matplotlib.lines.Line2D at 0x7fca6cac2490>,\n",
       " <matplotlib.lines.Line2D at 0x7fca6cac2410>,\n",
       " <matplotlib.lines.Line2D at 0x7fca6cac2c10>,\n",
       " <matplotlib.lines.Line2D at 0x7fca6c901bd0>,\n",
       " <matplotlib.lines.Line2D at 0x7fca6c901810>]"
      ]
     },
     "execution_count": 194,
     "metadata": {},
     "output_type": "execute_result"
    },
    {
     "data": {
      "image/png": "[encoded data removed]",
      "text/plain": [
       "<matplotlib.figure.Figure at 0x7fca6d371790>"
      ]
     },
     "metadata": {},
     "output_type": "display_data"
    }
   ],
   "source": [
    "poly15_data_subset2 = polynomial_dataframe(data_subset_2['sqft_living'],15)\n",
    "poly15_data_subset2['price'] = data_subset_2['price']\n",
    "features = list(poly15_data_subset2)\n",
    "model15_subset2 = lm.LinearRegression()\n",
    "model15_subset2.fit(poly15_data_subset2[features[:-1]],poly15_data_subset2['price'])\n",
    "print model15_subset2.coef_\n",
    "print model15_subset2.intercept_\n",
    "plt.plot(poly15_data_subset2[features[:-1]],poly15_data_subset2['price'],'.',\n",
    "poly15_data_subset2[features[:-1]], model15_subset2.predict(poly15_data_subset2[features[:-1]]),'-')"
   ]
  },
  {
   "cell_type": "markdown",
   "metadata": {},
   "source": [
    "# PLot on subset 3"
   ]
  },
  {
   "cell_type": "code",
   "execution_count": 195,
   "metadata": {
    "collapsed": false
   },
   "outputs": [
    {
     "name": "stdout",
     "output_type": "stream",
     "text": [
      "[  2.83751934e-88  -3.80811673e-49  -8.52600697e-55  -3.98272978e-59\n",
      "   1.57170169e-72   4.27894908e-69   2.68009626e-65   1.63911362e-61\n",
      "   9.66435015e-58   5.38044653e-54   2.72563636e-50   1.16253248e-46\n",
      "   3.33756141e-43  -6.76238818e-47   3.43132932e-51]\n",
      "530874.316653\n"
     ]
    },
    {
     "data": {
      "text/plain": [
       "[<matplotlib.lines.Line2D at 0x7fca6cc65b10>,\n",
       " <matplotlib.lines.Line2D at 0x7fca6cc65b90>,\n",
       " <matplotlib.lines.Line2D at 0x7fca6cc65d10>,\n",
       " <matplotlib.lines.Line2D at 0x7fca6cc65e10>,\n",
       " <matplotlib.lines.Line2D at 0x7fca6cc65f10>,\n",
       " <matplotlib.lines.Line2D at 0x7fca6cc59050>,\n",
       " <matplotlib.lines.Line2D at 0x7fca6cc59150>,\n",
       " <matplotlib.lines.Line2D at 0x7fca6cc59250>,\n",
       " <matplotlib.lines.Line2D at 0x7fca6cc59350>,\n",
       " <matplotlib.lines.Line2D at 0x7fca6cc59450>,\n",
       " <matplotlib.lines.Line2D at 0x7fca6cc59550>,\n",
       " <matplotlib.lines.Line2D at 0x7fca6cc59650>,\n",
       " <matplotlib.lines.Line2D at 0x7fca6cc59750>,\n",
       " <matplotlib.lines.Line2D at 0x7fca6cc59850>,\n",
       " <matplotlib.lines.Line2D at 0x7fca6cc59950>,\n",
       " <matplotlib.lines.Line2D at 0x7fca6cc59a50>,\n",
       " <matplotlib.lines.Line2D at 0x7fca6cc82890>,\n",
       " <matplotlib.lines.Line2D at 0x7fca6cc829d0>,\n",
       " <matplotlib.lines.Line2D at 0x7fca6cc82b10>,\n",
       " <matplotlib.lines.Line2D at 0x7fca6cc82c50>,\n",
       " <matplotlib.lines.Line2D at 0x7fca6ca6d710>,\n",
       " <matplotlib.lines.Line2D at 0x7fca6cc82ed0>,\n",
       " <matplotlib.lines.Line2D at 0x7fca6cb7cf90>,\n",
       " <matplotlib.lines.Line2D at 0x7fca6cb7cc50>,\n",
       " <matplotlib.lines.Line2D at 0x7fca6cb7ca50>,\n",
       " <matplotlib.lines.Line2D at 0x7fca6cb7c7d0>,\n",
       " <matplotlib.lines.Line2D at 0x7fca6cb7c110>,\n",
       " <matplotlib.lines.Line2D at 0x7fca6cb7c950>,\n",
       " <matplotlib.lines.Line2D at 0x7fca6cb7c690>,\n",
       " <matplotlib.lines.Line2D at 0x7fca6cb7cad0>]"
      ]
     },
     "execution_count": 195,
     "metadata": {},
     "output_type": "execute_result"
    },
    {
     "data": {
      "image/png": "[encoded data removed]",
      "text/plain": [
       "<matplotlib.figure.Figure at 0x7fca6d371290>"
      ]
     },
     "metadata": {},
     "output_type": "display_data"
    }
   ],
   "source": [
    "poly15_data_subset3 = polynomial_dataframe(data_subset_3['sqft_living'],15)\n",
    "poly15_data_subset3['price'] = data_subset_3['price']\n",
    "features = list(poly15_data_subset3)\n",
    "model15_subset3 = lm.LinearRegression()\n",
    "model15_subset3.fit(poly15_data_subset3[features[:-1]],poly15_data_subset3['price'])\n",
    "print model15_subset3.coef_\n",
    "print model15_subset3.intercept_\n",
    "plt.plot(poly15_data_subset3[features[:-1]],poly15_data_subset3['price'],'.',\n",
    "poly15_data_subset3[features[:-1]], model15_subset3.predict(poly15_data_subset3[features[:-1]]),'-')"
   ]
  },
  {
   "cell_type": "code",
   "execution_count": 196,
   "metadata": {
    "collapsed": false
   },
   "outputs": [
    {
     "name": "stdout",
     "output_type": "stream",
     "text": [
      "[  1.37062035e-76  -7.34929304e-40  -2.99040235e-44  -3.69992257e-49\n",
      "  -4.17619486e-53   1.30559251e-54   1.27051326e-54   4.87799084e-51\n",
      "   1.73524691e-47   5.46982653e-44   1.39568452e-40   2.25011155e-37\n",
      "  -9.43820708e-41   1.31553951e-44  -6.09073061e-49]\n",
      "494822.426631\n"
     ]
    },
    {
     "data": {
      "text/plain": [
       "[<matplotlib.lines.Line2D at 0x7fca6c96cf90>,\n",
       " <matplotlib.lines.Line2D at 0x7fca6caaf0d0>,\n",
       " <matplotlib.lines.Line2D at 0x7fca6caaf250>,\n",
       " <matplotlib.lines.Line2D at 0x7fca6caaf350>,\n",
       " <matplotlib.lines.Line2D at 0x7fca6caaf450>,\n",
       " <matplotlib.lines.Line2D at 0x7fca6caaf550>,\n",
       " <matplotlib.lines.Line2D at 0x7fca6caaf650>,\n",
       " <matplotlib.lines.Line2D at 0x7fca6caaf750>,\n",
       " <matplotlib.lines.Line2D at 0x7fca6caaf850>,\n",
       " <matplotlib.lines.Line2D at 0x7fca6caaf950>,\n",
       " <matplotlib.lines.Line2D at 0x7fca6caafa50>,\n",
       " <matplotlib.lines.Line2D at 0x7fca6caafb50>,\n",
       " <matplotlib.lines.Line2D at 0x7fca6caafc50>,\n",
       " <matplotlib.lines.Line2D at 0x7fca6caafd50>,\n",
       " <matplotlib.lines.Line2D at 0x7fca6caafe50>,\n",
       " <matplotlib.lines.Line2D at 0x7fca6caaff50>,\n",
       " <matplotlib.lines.Line2D at 0x7fca6cbb4d90>,\n",
       " <matplotlib.lines.Line2D at 0x7fca6cbb4ed0>,\n",
       " <matplotlib.lines.Line2D at 0x7fca6cb9f050>,\n",
       " <matplotlib.lines.Line2D at 0x7fca6cb9f190>,\n",
       " <matplotlib.lines.Line2D at 0x7fca6cd06a50>,\n",
       " <matplotlib.lines.Line2D at 0x7fca6cb9f410>,\n",
       " <matplotlib.lines.Line2D at 0x7fca6cb9f550>,\n",
       " <matplotlib.lines.Line2D at 0x7fca6cb9f690>,\n",
       " <matplotlib.lines.Line2D at 0x7fca6cb9f7d0>,\n",
       " <matplotlib.lines.Line2D at 0x7fca6cb9f910>,\n",
       " <matplotlib.lines.Line2D at 0x7fca6cb9fa50>,\n",
       " <matplotlib.lines.Line2D at 0x7fca6cb9fb90>,\n",
       " <matplotlib.lines.Line2D at 0x7fca6cb9fcd0>,\n",
       " <matplotlib.lines.Line2D at 0x7fca6cb9fe10>]"
      ]
     },
     "execution_count": 196,
     "metadata": {},
     "output_type": "execute_result"
    },
    {
     "data": {
      "image/png": "[encoded data removed]",
      "text/plain": [
       "<matplotlib.figure.Figure at 0x7fca6cfa0190>"
      ]
     },
     "metadata": {},
     "output_type": "display_data"
    }
   ],
   "source": [
    "poly15_data_subset4 = polynomial_dataframe(data_subset_4['sqft_living'],15)\n",
    "poly15_data_subset4['price'] = data_subset_4['price']\n",
    "features = list(poly15_data_subset4)\n",
    "model15_subset4 = lm.LinearRegression()\n",
    "model15_subset4.fit(poly15_data_subset4[features[:-1]],poly15_data_subset4['price'])\n",
    "print model15_subset4.coef_\n",
    "print model15_subset4.intercept_\n",
    "plt.plot(poly15_data_subset4[features[:-1]],poly15_data_subset4['price'],'.',\n",
    "poly15_data_subset4[features[:-1]], model15_subset4.predict(poly15_data_subset4[features[:-1]]),'-')"
   ]
  },
  {
   "cell_type": "markdown",
   "metadata": {},
   "source": [
    "# Lets test for the best polynomial model"
   ]
  },
  {
   "cell_type": "code",
   "execution_count": 197,
   "metadata": {
    "collapsed": false
   },
   "outputs": [
    {
     "data": {
      "text/html": [
       "<div>\n",
       "<table border=\"1\" class=\"dataframe\">\n",
       "  <thead>\n",
       "    <tr style=\"text-align: right;\">\n",
       "      <th></th>\n",
       "      <th>Feature_1</th>\n",
       "      <th>Feature_2</th>\n",
       "      <th>Feature_3</th>\n",
       "      <th>Feature_4</th>\n",
       "      <th>Feature_5</th>\n",
       "      <th>Feature_6</th>\n",
       "      <th>Feature_7</th>\n",
       "      <th>Feature_8</th>\n",
       "      <th>Feature_9</th>\n",
       "      <th>Feature_10</th>\n",
       "      <th>Feature_11</th>\n",
       "      <th>Feature_12</th>\n",
       "      <th>Feature_13</th>\n",
       "      <th>Feature_14</th>\n",
       "      <th>Feature_15</th>\n",
       "      <th>price</th>\n",
       "    </tr>\n",
       "  </thead>\n",
       "  <tbody>\n",
       "    <tr>\n",
       "      <th>8840</th>\n",
       "      <td>290.0</td>\n",
       "      <td>84100.0</td>\n",
       "      <td>24389000.0</td>\n",
       "      <td>7.072810e+09</td>\n",
       "      <td>2.051115e+12</td>\n",
       "      <td>5.948233e+14</td>\n",
       "      <td>1.724988e+17</td>\n",
       "      <td>5.002464e+19</td>\n",
       "      <td>1.450715e+22</td>\n",
       "      <td>4.207072e+24</td>\n",
       "      <td>1.220051e+27</td>\n",
       "      <td>3.538148e+29</td>\n",
       "      <td>1.026063e+32</td>\n",
       "      <td>2.975582e+34</td>\n",
       "      <td>8.629189e+36</td>\n",
       "      <td>142000.0</td>\n",
       "    </tr>\n",
       "    <tr>\n",
       "      <th>6982</th>\n",
       "      <td>370.0</td>\n",
       "      <td>136900.0</td>\n",
       "      <td>50653000.0</td>\n",
       "      <td>1.874161e+10</td>\n",
       "      <td>6.934396e+12</td>\n",
       "      <td>2.565726e+15</td>\n",
       "      <td>9.493188e+17</td>\n",
       "      <td>3.512479e+20</td>\n",
       "      <td>1.299617e+23</td>\n",
       "      <td>4.808584e+25</td>\n",
       "      <td>1.779176e+28</td>\n",
       "      <td>6.582952e+30</td>\n",
       "      <td>2.435692e+33</td>\n",
       "      <td>9.012061e+35</td>\n",
       "      <td>3.334463e+38</td>\n",
       "      <td>276000.0</td>\n",
       "    </tr>\n",
       "    <tr>\n",
       "      <th>8338</th>\n",
       "      <td>384.0</td>\n",
       "      <td>147456.0</td>\n",
       "      <td>56623104.0</td>\n",
       "      <td>2.174327e+10</td>\n",
       "      <td>8.349416e+12</td>\n",
       "      <td>3.206176e+15</td>\n",
       "      <td>1.231172e+18</td>\n",
       "      <td>4.727699e+20</td>\n",
       "      <td>1.815436e+23</td>\n",
       "      <td>6.971275e+25</td>\n",
       "      <td>2.676970e+28</td>\n",
       "      <td>1.027956e+31</td>\n",
       "      <td>3.947353e+33</td>\n",
       "      <td>1.515783e+36</td>\n",
       "      <td>5.820608e+38</td>\n",
       "      <td>265000.0</td>\n",
       "    </tr>\n",
       "    <tr>\n",
       "      <th>2228</th>\n",
       "      <td>390.0</td>\n",
       "      <td>152100.0</td>\n",
       "      <td>59319000.0</td>\n",
       "      <td>2.313441e+10</td>\n",
       "      <td>9.022420e+12</td>\n",
       "      <td>3.518744e+15</td>\n",
       "      <td>1.372310e+18</td>\n",
       "      <td>5.352009e+20</td>\n",
       "      <td>2.087284e+23</td>\n",
       "      <td>8.140406e+25</td>\n",
       "      <td>3.174758e+28</td>\n",
       "      <td>1.238156e+31</td>\n",
       "      <td>4.828807e+33</td>\n",
       "      <td>1.883235e+36</td>\n",
       "      <td>7.344616e+38</td>\n",
       "      <td>228000.0</td>\n",
       "    </tr>\n",
       "    <tr>\n",
       "      <th>9631</th>\n",
       "      <td>390.0</td>\n",
       "      <td>152100.0</td>\n",
       "      <td>59319000.0</td>\n",
       "      <td>2.313441e+10</td>\n",
       "      <td>9.022420e+12</td>\n",
       "      <td>3.518744e+15</td>\n",
       "      <td>1.372310e+18</td>\n",
       "      <td>5.352009e+20</td>\n",
       "      <td>2.087284e+23</td>\n",
       "      <td>8.140406e+25</td>\n",
       "      <td>3.174758e+28</td>\n",
       "      <td>1.238156e+31</td>\n",
       "      <td>4.828807e+33</td>\n",
       "      <td>1.883235e+36</td>\n",
       "      <td>7.344616e+38</td>\n",
       "      <td>245000.0</td>\n",
       "    </tr>\n",
       "  </tbody>\n",
       "</table>\n",
       "</div>"
      ],
      "text/plain": [
       "      Feature_1  Feature_2   Feature_3     Feature_4     Feature_5  \\\n",
       "8840      290.0    84100.0  24389000.0  7.072810e+09  2.051115e+12   \n",
       "6982      370.0   136900.0  50653000.0  1.874161e+10  6.934396e+12   \n",
       "8338      384.0   147456.0  56623104.0  2.174327e+10  8.349416e+12   \n",
       "2228      390.0   152100.0  59319000.0  2.313441e+10  9.022420e+12   \n",
       "9631      390.0   152100.0  59319000.0  2.313441e+10  9.022420e+12   \n",
       "\n",
       "         Feature_6     Feature_7     Feature_8     Feature_9    Feature_10  \\\n",
       "8840  5.948233e+14  1.724988e+17  5.002464e+19  1.450715e+22  4.207072e+24   \n",
       "6982  2.565726e+15  9.493188e+17  3.512479e+20  1.299617e+23  4.808584e+25   \n",
       "8338  3.206176e+15  1.231172e+18  4.727699e+20  1.815436e+23  6.971275e+25   \n",
       "2228  3.518744e+15  1.372310e+18  5.352009e+20  2.087284e+23  8.140406e+25   \n",
       "9631  3.518744e+15  1.372310e+18  5.352009e+20  2.087284e+23  8.140406e+25   \n",
       "\n",
       "        Feature_11    Feature_12    Feature_13    Feature_14    Feature_15  \\\n",
       "8840  1.220051e+27  3.538148e+29  1.026063e+32  2.975582e+34  8.629189e+36   \n",
       "6982  1.779176e+28  6.582952e+30  2.435692e+33  9.012061e+35  3.334463e+38   \n",
       "8338  2.676970e+28  1.027956e+31  3.947353e+33  1.515783e+36  5.820608e+38   \n",
       "2228  3.174758e+28  1.238156e+31  4.828807e+33  1.883235e+36  7.344616e+38   \n",
       "9631  3.174758e+28  1.238156e+31  4.828807e+33  1.883235e+36  7.344616e+38   \n",
       "\n",
       "         price  \n",
       "8840  142000.0  \n",
       "6982  276000.0  \n",
       "8338  265000.0  \n",
       "2228  228000.0  \n",
       "9631  245000.0  "
      ]
     },
     "execution_count": 197,
     "metadata": {},
     "output_type": "execute_result"
    }
   ],
   "source": [
    "poly_data_15 = polynomial_dataframe(data_train['sqft_living'],15)\n",
    "poly_data_15['price'] = data_train['price']\n",
    "poly_data_15.head()"
   ]
  },
  {
   "cell_type": "code",
   "execution_count": 198,
   "metadata": {
    "collapsed": false
   },
   "outputs": [
    {
     "name": "stdout",
     "output_type": "stream",
     "text": [
      "[0, 0, 0, 0, 0, 0, 0, 0, 0, 0, 0, 0, 0, 0, 0, 0]\n",
      "RSS OF  2  Degree polynomial is  6.290978863e+14\n",
      "RSS OF  3  Degree polynomial is  6.23955062707e+14\n",
      "RSS OF  4  Degree polynomial is  6.25820280252e+14\n",
      "RSS OF  5  Degree polynomial is  6.29987339802e+14\n",
      "RSS OF  6  Degree polynomial is  6.28275338416e+14\n",
      "RSS OF  7  Degree polynomial is  5.66268636824e+14\n",
      "RSS OF  8  Degree polynomial is  1.07384509491e+15\n",
      "RSS OF  9  Degree polynomial is  7.08806245404e+15\n",
      "RSS OF  10  Degree polynomial is  4.52985980494e+16\n",
      "RSS OF  11  Degree polynomial is  2.47409746521e+17\n",
      "RSS OF  12  Degree polynomial is  1.19273661536e+18\n",
      "RSS OF  13  Degree polynomial is  5.22695384274e+18\n",
      "RSS OF  14  Degree polynomial is  7.6162300213e+17\n",
      "RSS OF  15  Degree polynomial is  2.29756092491e+18\n",
      "RSS OF  16  Degree polynomial is  6.95503809645e+18\n"
     ]
    },
    {
     "data": {
      "image/png": "[encoded data removed]",
      "text/plain": [
       "<matplotlib.figure.Figure at 0x7fca6ca99250>"
      ]
     },
     "metadata": {},
     "output_type": "display_data"
    }
   ],
   "source": [
    "model = [0]*16\n",
    "prediction = [0]*16\n",
    "error = [0]*16\n",
    "rss = [0]*16\n",
    "print model\n",
    "for i in range(1,16):\n",
    "    model[i] = lm.LinearRegression()\n",
    "    x = poly_data_15[features[:i]]\n",
    "    y = poly_data_15['price']\n",
    "    model[i].fit(x,y)\n",
    "    \n",
    "    validation_data_15 = polynomial_dataframe(data_validation['sqft_living'],15)\n",
    "    validation_data_15['price'] = data_validation['price']\n",
    "    validation_x = validation_data_15[features[:i]]\n",
    "    validation_y = validation_data_15['price']\n",
    "    prediction[i] = model[i].predict(validation_x)\n",
    "    error[i] = validation_y - prediction[i]\n",
    "    rss[i] = (error[i]**2).sum()\n",
    "    plt.plot(validation_x,validation_y,'o',validation_x,prediction[i])\n",
    "    print \"RSS OF \",i+1,\" Degree polynomial is \",rss[i]\n",
    "\n",
    "\n",
    "\n",
    "    \n"
   ]
  },
  {
   "cell_type": "markdown",
   "metadata": {},
   "source": [
    "# 7 Degree model gives the LEAST rss"
   ]
  },
  {
   "cell_type": "code",
   "execution_count": 199,
   "metadata": {
    "collapsed": false
   },
   "outputs": [
    {
     "name": "stdout",
     "output_type": "stream",
     "text": [
      "      Feature_1  Feature_2    Feature_3     Feature_4     Feature_5  \\\n",
      "1462      420.0   176400.0   74088000.0  3.111696e+10  1.306912e+13   \n",
      "1172      550.0   302500.0  166375000.0  9.150625e+10  5.032844e+13   \n",
      "29        560.0   313600.0  175616000.0  9.834496e+10  5.507318e+13   \n",
      "793       600.0   360000.0  216000000.0  1.296000e+11  7.776000e+13   \n",
      "1254      620.0   384400.0  238328000.0  1.477634e+11  9.161328e+13   \n",
      "\n",
      "         Feature_6     Feature_7     price  \n",
      "1462  5.489032e+15  2.305393e+18  280000.0  \n",
      "1172  2.768064e+16  1.522435e+19  188000.0  \n",
      "29    3.084098e+16  1.727095e+19  299000.0  \n",
      "793   4.665600e+16  2.799360e+19  174000.0  \n",
      "1254  5.680024e+16  3.521615e+19  244900.0  \n"
     ]
    },
    {
     "name": "stderr",
     "output_type": "stream",
     "text": [
      "/home/om/gl-env/lib/python2.7/site-packages/ipykernel/__main__.py:1: FutureWarning: sort(columns=....) is deprecated, use sort_values(by=.....)\n",
      "  if __name__ == '__main__':\n"
     ]
    },
    {
     "data": {
      "text/plain": [
       "['Feature_1',\n",
       " 'Feature_2',\n",
       " 'Feature_3',\n",
       " 'Feature_4',\n",
       " 'Feature_5',\n",
       " 'Feature_6',\n",
       " 'Feature_7',\n",
       " 'price']"
      ]
     },
     "execution_count": 199,
     "metadata": {},
     "output_type": "execute_result"
    }
   ],
   "source": [
    "data_test = data_test.sort(['sqft_living','price'])\n",
    "poly_data_test = polynomial_dataframe(data_test['sqft_living'],7)\n",
    "poly_data_test['price'] = data_test['price']\n",
    "print poly_data_test.head()\n",
    "test_features = list(poly_data_test)\n",
    "test_features"
   ]
  },
  {
   "cell_type": "code",
   "execution_count": 200,
   "metadata": {
    "collapsed": false
   },
   "outputs": [
    {
     "data": {
      "text/plain": [
       "[<matplotlib.lines.Line2D at 0x7fca6c256d90>,\n",
       " <matplotlib.lines.Line2D at 0x7fca6c256e10>,\n",
       " <matplotlib.lines.Line2D at 0x7fca6c256ed0>,\n",
       " <matplotlib.lines.Line2D at 0x7fca6c256f90>,\n",
       " <matplotlib.lines.Line2D at 0x7fca6c270090>,\n",
       " <matplotlib.lines.Line2D at 0x7fca6c270150>,\n",
       " <matplotlib.lines.Line2D at 0x7fca6c270210>,\n",
       " <matplotlib.lines.Line2D at 0x7fca6c2702d0>,\n",
       " <matplotlib.lines.Line2D at 0x7fca6c1cd750>,\n",
       " <matplotlib.lines.Line2D at 0x7fca6c1cd890>,\n",
       " <matplotlib.lines.Line2D at 0x7fca6c1cd9d0>,\n",
       " <matplotlib.lines.Line2D at 0x7fca6c1cdb10>,\n",
       " <matplotlib.lines.Line2D at 0x7fca6c1cdc50>,\n",
       " <matplotlib.lines.Line2D at 0x7fca6c1cdd90>]"
      ]
     },
     "execution_count": 200,
     "metadata": {},
     "output_type": "execute_result"
    },
    {
     "data": {
      "image/png": "[encoded data removed]",
      "text/plain": [
       "<matplotlib.figure.Figure at 0x7fca6cd27c50>"
      ]
     },
     "metadata": {},
     "output_type": "display_data"
    }
   ],
   "source": [
    "\n",
    "test_x = poly_data_test[test_features[:7]]\n",
    "test_y = poly_data_test['price']\n",
    "test_prediction = model[7].predict(test_x)\n",
    "plt.plot(test_x,test_y,'o',test_x,test_prediction,'-')\n",
    "test_error = test_prediction -\n"
   ]
  },
  {
   "cell_type": "code",
   "execution_count": null,
   "metadata": {
    "collapsed": true
   },
   "outputs": [],
   "source": []
  },
  {
   "cell_type": "code",
   "execution_count": null,
   "metadata": {
    "collapsed": true
   },
   "outputs": [],
   "source": []
  }
 ],
 "metadata": {
  "kernelspec": {
   "display_name": "Python 2",
   "language": "python",
   "name": "python2"
  },
  "language_info": {
   "codemirror_mode": {
    "name": "ipython",
    "version": 2
   },
   "file_extension": ".py",
   "mimetype": "text/x-python",
   "name": "python",
   "nbconvert_exporter": "python",
   "pygments_lexer": "ipython2",
   "version": "2.7.12"
  }
 },
 "nbformat": 4,
 "nbformat_minor": 2
}
