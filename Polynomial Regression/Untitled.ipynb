{
 "cells": [
  {
   "cell_type": "code",
   "execution_count": 93,
   "metadata": {
    "collapsed": true
   },
   "outputs": [],
   "source": [
    "import numpy as np\n",
    "import pandas as pd \n",
    "import matplotlib.pyplot as plt\n",
    "from sklearn import linear_model as lm\n",
    "%matplotlib inline"
   ]
  },
  {
   "cell_type": "code",
   "execution_count": 94,
   "metadata": {
    "collapsed": true
   },
   "outputs": [],
   "source": [
    "dtype_dict = {'bathrooms':float, 'waterfront':int, 'sqft_above':int, 'sqft_living15':float, 'grade':int,\n",
    "              'yr_renovated':int, 'price':float, 'bedrooms':float, 'zipcode':str, 'long':float, 'sqft_lot15':float,\n",
    "              'sqft_living':float, 'floors':str, 'condition':int,\n",
    "              'lat':float, 'date':str, 'sqft_basement':int, 'yr_built':int, 'id':str, 'sqft_lot':int, 'view':int}\n",
    "data = pd.read_csv('kc_house_data.csv',dtype=dtype_dict)\n",
    "data_test = pd.read_csv('wk3_kc_house_test_data.csv',dtype=dtype_dict)\n",
    "data_train = pd.read_csv('wk3_kc_house_train_data.csv',dtype=dtype_dict)\n",
    "data_validation = pd.read_csv('wk3_kc_house_valid_data.csv',dtype=dtype_dict)\n",
    "data_subset_1 = pd.read_csv('wk3_kc_house_set_1_data.csv',dtype=dtype_dict)\n",
    "data_subset_2 = pd.read_csv('wk3_kc_house_set_2_data.csv',dtype=dtype_dict)\n",
    "data_subset_3 = pd.read_csv('wk3_kc_house_set_3_data.csv',dtype=dtype_dict)\n",
    "data_subset_4 = pd.read_csv('wk3_kc_house_set_4_data.csv',dtype=dtype_dict)"
   ]
  },
  {
   "cell_type": "code",
   "execution_count": 95,
   "metadata": {
    "collapsed": false
   },
   "outputs": [
    {
     "data": {
      "text/html": [
       "<div>\n",
       "<table border=\"1\" class=\"dataframe\">\n",
       "  <thead>\n",
       "    <tr style=\"text-align: right;\">\n",
       "      <th></th>\n",
       "      <th>id</th>\n",
       "      <th>date</th>\n",
       "      <th>price</th>\n",
       "      <th>bedrooms</th>\n",
       "      <th>bathrooms</th>\n",
       "      <th>sqft_living</th>\n",
       "      <th>sqft_lot</th>\n",
       "      <th>floors</th>\n",
       "      <th>waterfront</th>\n",
       "      <th>view</th>\n",
       "      <th>...</th>\n",
       "      <th>grade</th>\n",
       "      <th>sqft_above</th>\n",
       "      <th>sqft_basement</th>\n",
       "      <th>yr_built</th>\n",
       "      <th>yr_renovated</th>\n",
       "      <th>zipcode</th>\n",
       "      <th>lat</th>\n",
       "      <th>long</th>\n",
       "      <th>sqft_living15</th>\n",
       "      <th>sqft_lot15</th>\n",
       "    </tr>\n",
       "  </thead>\n",
       "  <tbody>\n",
       "    <tr>\n",
       "      <th>0</th>\n",
       "      <td>7129300520</td>\n",
       "      <td>20141013T000000</td>\n",
       "      <td>221900.0</td>\n",
       "      <td>3.0</td>\n",
       "      <td>1.00</td>\n",
       "      <td>1180.0</td>\n",
       "      <td>5650</td>\n",
       "      <td>1</td>\n",
       "      <td>0</td>\n",
       "      <td>0</td>\n",
       "      <td>...</td>\n",
       "      <td>7</td>\n",
       "      <td>1180</td>\n",
       "      <td>0</td>\n",
       "      <td>1955</td>\n",
       "      <td>0</td>\n",
       "      <td>98178</td>\n",
       "      <td>47.5112</td>\n",
       "      <td>-122.257</td>\n",
       "      <td>1340.0</td>\n",
       "      <td>5650.0</td>\n",
       "    </tr>\n",
       "    <tr>\n",
       "      <th>1</th>\n",
       "      <td>6414100192</td>\n",
       "      <td>20141209T000000</td>\n",
       "      <td>538000.0</td>\n",
       "      <td>3.0</td>\n",
       "      <td>2.25</td>\n",
       "      <td>2570.0</td>\n",
       "      <td>7242</td>\n",
       "      <td>2</td>\n",
       "      <td>0</td>\n",
       "      <td>0</td>\n",
       "      <td>...</td>\n",
       "      <td>7</td>\n",
       "      <td>2170</td>\n",
       "      <td>400</td>\n",
       "      <td>1951</td>\n",
       "      <td>1991</td>\n",
       "      <td>98125</td>\n",
       "      <td>47.7210</td>\n",
       "      <td>-122.319</td>\n",
       "      <td>1690.0</td>\n",
       "      <td>7639.0</td>\n",
       "    </tr>\n",
       "    <tr>\n",
       "      <th>2</th>\n",
       "      <td>5631500400</td>\n",
       "      <td>20150225T000000</td>\n",
       "      <td>180000.0</td>\n",
       "      <td>2.0</td>\n",
       "      <td>1.00</td>\n",
       "      <td>770.0</td>\n",
       "      <td>10000</td>\n",
       "      <td>1</td>\n",
       "      <td>0</td>\n",
       "      <td>0</td>\n",
       "      <td>...</td>\n",
       "      <td>6</td>\n",
       "      <td>770</td>\n",
       "      <td>0</td>\n",
       "      <td>1933</td>\n",
       "      <td>0</td>\n",
       "      <td>98028</td>\n",
       "      <td>47.7379</td>\n",
       "      <td>-122.233</td>\n",
       "      <td>2720.0</td>\n",
       "      <td>8062.0</td>\n",
       "    </tr>\n",
       "    <tr>\n",
       "      <th>3</th>\n",
       "      <td>2487200875</td>\n",
       "      <td>20141209T000000</td>\n",
       "      <td>604000.0</td>\n",
       "      <td>4.0</td>\n",
       "      <td>3.00</td>\n",
       "      <td>1960.0</td>\n",
       "      <td>5000</td>\n",
       "      <td>1</td>\n",
       "      <td>0</td>\n",
       "      <td>0</td>\n",
       "      <td>...</td>\n",
       "      <td>7</td>\n",
       "      <td>1050</td>\n",
       "      <td>910</td>\n",
       "      <td>1965</td>\n",
       "      <td>0</td>\n",
       "      <td>98136</td>\n",
       "      <td>47.5208</td>\n",
       "      <td>-122.393</td>\n",
       "      <td>1360.0</td>\n",
       "      <td>5000.0</td>\n",
       "    </tr>\n",
       "    <tr>\n",
       "      <th>4</th>\n",
       "      <td>1954400510</td>\n",
       "      <td>20150218T000000</td>\n",
       "      <td>510000.0</td>\n",
       "      <td>3.0</td>\n",
       "      <td>2.00</td>\n",
       "      <td>1680.0</td>\n",
       "      <td>8080</td>\n",
       "      <td>1</td>\n",
       "      <td>0</td>\n",
       "      <td>0</td>\n",
       "      <td>...</td>\n",
       "      <td>8</td>\n",
       "      <td>1680</td>\n",
       "      <td>0</td>\n",
       "      <td>1987</td>\n",
       "      <td>0</td>\n",
       "      <td>98074</td>\n",
       "      <td>47.6168</td>\n",
       "      <td>-122.045</td>\n",
       "      <td>1800.0</td>\n",
       "      <td>7503.0</td>\n",
       "    </tr>\n",
       "    <tr>\n",
       "      <th>5</th>\n",
       "      <td>7237550310</td>\n",
       "      <td>20140512T000000</td>\n",
       "      <td>1225000.0</td>\n",
       "      <td>4.0</td>\n",
       "      <td>4.50</td>\n",
       "      <td>5420.0</td>\n",
       "      <td>101930</td>\n",
       "      <td>1</td>\n",
       "      <td>0</td>\n",
       "      <td>0</td>\n",
       "      <td>...</td>\n",
       "      <td>11</td>\n",
       "      <td>3890</td>\n",
       "      <td>1530</td>\n",
       "      <td>2001</td>\n",
       "      <td>0</td>\n",
       "      <td>98053</td>\n",
       "      <td>47.6561</td>\n",
       "      <td>-122.005</td>\n",
       "      <td>4760.0</td>\n",
       "      <td>101930.0</td>\n",
       "    </tr>\n",
       "    <tr>\n",
       "      <th>6</th>\n",
       "      <td>1321400060</td>\n",
       "      <td>20140627T000000</td>\n",
       "      <td>257500.0</td>\n",
       "      <td>3.0</td>\n",
       "      <td>2.25</td>\n",
       "      <td>1715.0</td>\n",
       "      <td>6819</td>\n",
       "      <td>2</td>\n",
       "      <td>0</td>\n",
       "      <td>0</td>\n",
       "      <td>...</td>\n",
       "      <td>7</td>\n",
       "      <td>1715</td>\n",
       "      <td>0</td>\n",
       "      <td>1995</td>\n",
       "      <td>0</td>\n",
       "      <td>98003</td>\n",
       "      <td>47.3097</td>\n",
       "      <td>-122.327</td>\n",
       "      <td>2238.0</td>\n",
       "      <td>6819.0</td>\n",
       "    </tr>\n",
       "    <tr>\n",
       "      <th>7</th>\n",
       "      <td>2008000270</td>\n",
       "      <td>20150115T000000</td>\n",
       "      <td>291850.0</td>\n",
       "      <td>3.0</td>\n",
       "      <td>1.50</td>\n",
       "      <td>1060.0</td>\n",
       "      <td>9711</td>\n",
       "      <td>1</td>\n",
       "      <td>0</td>\n",
       "      <td>0</td>\n",
       "      <td>...</td>\n",
       "      <td>7</td>\n",
       "      <td>1060</td>\n",
       "      <td>0</td>\n",
       "      <td>1963</td>\n",
       "      <td>0</td>\n",
       "      <td>98198</td>\n",
       "      <td>47.4095</td>\n",
       "      <td>-122.315</td>\n",
       "      <td>1650.0</td>\n",
       "      <td>9711.0</td>\n",
       "    </tr>\n",
       "    <tr>\n",
       "      <th>8</th>\n",
       "      <td>2414600126</td>\n",
       "      <td>20150415T000000</td>\n",
       "      <td>229500.0</td>\n",
       "      <td>3.0</td>\n",
       "      <td>1.00</td>\n",
       "      <td>1780.0</td>\n",
       "      <td>7470</td>\n",
       "      <td>1</td>\n",
       "      <td>0</td>\n",
       "      <td>0</td>\n",
       "      <td>...</td>\n",
       "      <td>7</td>\n",
       "      <td>1050</td>\n",
       "      <td>730</td>\n",
       "      <td>1960</td>\n",
       "      <td>0</td>\n",
       "      <td>98146</td>\n",
       "      <td>47.5123</td>\n",
       "      <td>-122.337</td>\n",
       "      <td>1780.0</td>\n",
       "      <td>8113.0</td>\n",
       "    </tr>\n",
       "    <tr>\n",
       "      <th>9</th>\n",
       "      <td>3793500160</td>\n",
       "      <td>20150312T000000</td>\n",
       "      <td>323000.0</td>\n",
       "      <td>3.0</td>\n",
       "      <td>2.50</td>\n",
       "      <td>1890.0</td>\n",
       "      <td>6560</td>\n",
       "      <td>2</td>\n",
       "      <td>0</td>\n",
       "      <td>0</td>\n",
       "      <td>...</td>\n",
       "      <td>7</td>\n",
       "      <td>1890</td>\n",
       "      <td>0</td>\n",
       "      <td>2003</td>\n",
       "      <td>0</td>\n",
       "      <td>98038</td>\n",
       "      <td>47.3684</td>\n",
       "      <td>-122.031</td>\n",
       "      <td>2390.0</td>\n",
       "      <td>7570.0</td>\n",
       "    </tr>\n",
       "  </tbody>\n",
       "</table>\n",
       "<p>10 rows × 21 columns</p>\n",
       "</div>"
      ],
      "text/plain": [
       "           id             date      price  bedrooms  bathrooms  sqft_living  \\\n",
       "0  7129300520  20141013T000000   221900.0       3.0       1.00       1180.0   \n",
       "1  6414100192  20141209T000000   538000.0       3.0       2.25       2570.0   \n",
       "2  5631500400  20150225T000000   180000.0       2.0       1.00        770.0   \n",
       "3  2487200875  20141209T000000   604000.0       4.0       3.00       1960.0   \n",
       "4  1954400510  20150218T000000   510000.0       3.0       2.00       1680.0   \n",
       "5  7237550310  20140512T000000  1225000.0       4.0       4.50       5420.0   \n",
       "6  1321400060  20140627T000000   257500.0       3.0       2.25       1715.0   \n",
       "7  2008000270  20150115T000000   291850.0       3.0       1.50       1060.0   \n",
       "8  2414600126  20150415T000000   229500.0       3.0       1.00       1780.0   \n",
       "9  3793500160  20150312T000000   323000.0       3.0       2.50       1890.0   \n",
       "\n",
       "   sqft_lot floors  waterfront  view     ...      grade  sqft_above  \\\n",
       "0      5650      1           0     0     ...          7        1180   \n",
       "1      7242      2           0     0     ...          7        2170   \n",
       "2     10000      1           0     0     ...          6         770   \n",
       "3      5000      1           0     0     ...          7        1050   \n",
       "4      8080      1           0     0     ...          8        1680   \n",
       "5    101930      1           0     0     ...         11        3890   \n",
       "6      6819      2           0     0     ...          7        1715   \n",
       "7      9711      1           0     0     ...          7        1060   \n",
       "8      7470      1           0     0     ...          7        1050   \n",
       "9      6560      2           0     0     ...          7        1890   \n",
       "\n",
       "   sqft_basement  yr_built  yr_renovated  zipcode      lat     long  \\\n",
       "0              0      1955             0    98178  47.5112 -122.257   \n",
       "1            400      1951          1991    98125  47.7210 -122.319   \n",
       "2              0      1933             0    98028  47.7379 -122.233   \n",
       "3            910      1965             0    98136  47.5208 -122.393   \n",
       "4              0      1987             0    98074  47.6168 -122.045   \n",
       "5           1530      2001             0    98053  47.6561 -122.005   \n",
       "6              0      1995             0    98003  47.3097 -122.327   \n",
       "7              0      1963             0    98198  47.4095 -122.315   \n",
       "8            730      1960             0    98146  47.5123 -122.337   \n",
       "9              0      2003             0    98038  47.3684 -122.031   \n",
       "\n",
       "   sqft_living15  sqft_lot15  \n",
       "0         1340.0      5650.0  \n",
       "1         1690.0      7639.0  \n",
       "2         2720.0      8062.0  \n",
       "3         1360.0      5000.0  \n",
       "4         1800.0      7503.0  \n",
       "5         4760.0    101930.0  \n",
       "6         2238.0      6819.0  \n",
       "7         1650.0      9711.0  \n",
       "8         1780.0      8113.0  \n",
       "9         2390.0      7570.0  \n",
       "\n",
       "[10 rows x 21 columns]"
      ]
     },
     "execution_count": 95,
     "metadata": {},
     "output_type": "execute_result"
    }
   ],
   "source": [
    "data.head(10)"
   ]
  },
  {
   "cell_type": "markdown",
   "metadata": {},
   "source": [
    "# A function that returns the column raised to the given power"
   ]
  },
  {
   "cell_type": "code",
   "execution_count": 96,
   "metadata": {
    "collapsed": false
   },
   "outputs": [],
   "source": [
    "def power(feature,degree):\n",
    "    my_data_frame = pd.DataFrame()\n",
    "    my_data_frame['feature'] = np.power(feature,degree)\n",
    "    return my_data_frame"
   ]
  },
  {
   "cell_type": "markdown",
   "metadata": {},
   "source": [
    "# A polynomial data frame that takes feature and degree and returns dataframe with feature polynomial"
   ]
  },
  {
   "cell_type": "code",
   "execution_count": 97,
   "metadata": {
    "collapsed": false
   },
   "outputs": [],
   "source": [
    "def polynomial_dataframe(feature,degree):\n",
    "    my_data_frame = pd.DataFrame()\n",
    "    for x in range(1,degree + 1):\n",
    "        my_data_frame['Feature_%s' %x] = np.power(feature,x)\n",
    "    return my_data_frame"
   ]
  },
  {
   "cell_type": "code",
   "execution_count": 98,
   "metadata": {
    "collapsed": false
   },
   "outputs": [
    {
     "name": "stderr",
     "output_type": "stream",
     "text": [
      "/home/om/gl-env/lib/python2.7/site-packages/ipykernel/__main__.py:1: FutureWarning: sort(columns=....) is deprecated, use sort_values(by=.....)\n",
      "  if __name__ == '__main__':\n"
     ]
    }
   ],
   "source": [
    "data = data.sort(['sqft_living','price'])"
   ]
  },
  {
   "cell_type": "code",
   "execution_count": 111,
   "metadata": {
    "collapsed": false
   },
   "outputs": [
    {
     "name": "stdout",
     "output_type": "stream",
     "text": [
      "(21613,)\n",
      "(21613,)\n"
     ]
    }
   ],
   "source": [
    "poly1_data = polynomial_dataframe(data['sqft_living'],1)\n",
    "poly1_data['price'] = data['price']\n",
    "print (poly1_data['price']).shape\n",
    "print (poly1_data['Feature_1']).shape"
   ]
  },
  {
   "cell_type": "code",
   "execution_count": 103,
   "metadata": {
    "collapsed": false
   },
   "outputs": [
    {
     "name": "stderr",
     "output_type": "stream",
     "text": [
      "/home/om/gl-env/lib/python2.7/site-packages/ipykernel/__main__.py:2: FutureWarning: reshape is deprecated and will raise in a subsequent release. Please use .values.reshape(...) instead\n",
      "  from ipykernel import kernelapp as app\n"
     ]
    },
    {
     "data": {
      "text/plain": [
       "LinearRegression(copy_X=True, fit_intercept=True, n_jobs=1, normalize=False)"
      ]
     },
     "execution_count": 103,
     "metadata": {},
     "output_type": "execute_result"
    }
   ],
   "source": [
    "model1 = lm.LinearRegression()\n",
    "model1.fit(poly1_data['Feature_1'].reshape(21613,1),poly1_data['price'])"
   ]
  },
  {
   "cell_type": "code",
   "execution_count": 106,
   "metadata": {
    "collapsed": false
   },
   "outputs": [
    {
     "name": "stdout",
     "output_type": "stream",
     "text": [
      "[ 280.6235679]\n",
      "-43580.7430945\n"
     ]
    }
   ],
   "source": [
    "print model1.coef_\n",
    "print model1.intercept_"
   ]
  },
  {
   "cell_type": "code",
   "execution_count": 112,
   "metadata": {
    "collapsed": false
   },
   "outputs": [
    {
     "name": "stderr",
     "output_type": "stream",
     "text": [
      "/home/om/gl-env/lib/python2.7/site-packages/ipykernel/__main__.py:2: FutureWarning: reshape is deprecated and will raise in a subsequent release. Please use .values.reshape(...) instead\n",
      "  from ipykernel import kernelapp as app\n"
     ]
    },
    {
     "data": {
      "text/plain": [
       "[<matplotlib.lines.Line2D at 0x7fcaaf3b9550>,\n",
       " <matplotlib.lines.Line2D at 0x7fca7af85b10>]"
      ]
     },
     "execution_count": 112,
     "metadata": {},
     "output_type": "execute_result"
    },
    {
     "data": {
      "image/png": "[encoded data removed]",
      "text/plain": [
       "<matplotlib.figure.Figure at 0x7fca70347650>"
      ]
     },
     "metadata": {},
     "output_type": "display_data"
    }
   ],
   "source": [
    "plt.plot(poly1_data['Feature_1'],poly1_data['price'],'.',\n",
    "poly1_data['Feature_1'], model1.predict(poly1_data['Feature_1'].reshape(21613,1)),'-')"
   ]
  },
  {
   "cell_type": "code",
   "execution_count": 113,
   "metadata": {
    "collapsed": true
   },
   "outputs": [],
   "source": [
    "poly2_data = polynomial_dataframe(data['sqft_living'],2)\n",
    "poly2_data['price'] = data['price']\n"
   ]
  },
  {
   "cell_type": "code",
   "execution_count": 116,
   "metadata": {
    "collapsed": false
   },
   "outputs": [
    {
     "name": "stdout",
     "output_type": "stream",
     "text": [
      "[  6.79940947e+01   3.85812609e-02]\n",
      "199222.279305\n"
     ]
    }
   ],
   "source": [
    "model2 = lm.LinearRegression()\n",
    "model2.fit(poly2_data[['Feature_1','Feature_2']],poly2_data['price'])\n",
    "print model2.coef_\n",
    "print model2.intercept_"
   ]
  },
  {
   "cell_type": "code",
   "execution_count": 120,
   "metadata": {
    "collapsed": false
   },
   "outputs": [
    {
     "data": {
      "text/plain": [
       "[<matplotlib.lines.Line2D at 0x7fca6ded7610>,\n",
       " <matplotlib.lines.Line2D at 0x7fca6ded7690>,\n",
       " <matplotlib.lines.Line2D at 0x7fca6ded77d0>,\n",
       " <matplotlib.lines.Line2D at 0x7fca6dee6410>]"
      ]
     },
     "execution_count": 120,
     "metadata": {},
     "output_type": "execute_result"
    },
    {
     "data": {
      "image/png": "[encoded data removed]",
      "text/plain": [
       "<matplotlib.figure.Figure at 0x7fca7ba57cd0>"
      ]
     },
     "metadata": {},
     "output_type": "display_data"
    }
   ],
   "source": [
    "plt.plot(poly2_data[['Feature_1','Feature_2']],poly2_data['price'],'.',\n",
    "poly2_data[['Feature_1','Feature_2']], model2.predict(poly2_data[['Feature_1','Feature_2']]),'-')"
   ]
  },
  {
   "cell_type": "code",
   "execution_count": 121,
   "metadata": {
    "collapsed": false
   },
   "outputs": [
    {
     "name": "stdout",
     "output_type": "stream",
     "text": [
      "['Feature_1', 'Feature_2', 'Feature_3', 'price']\n"
     ]
    }
   ],
   "source": [
    "poly3_data = polynomial_dataframe(data['sqft_living'],3)\n",
    "poly3_data['price'] = data['price']\n",
    "features = list(poly3_data)\n",
    "print features"
   ]
  },
  {
   "cell_type": "code",
   "execution_count": 122,
   "metadata": {
    "collapsed": false
   },
   "outputs": [
    {
     "name": "stdout",
     "output_type": "stream",
     "text": [
      "[ -9.01819864e+01   8.70465089e-02  -3.84055260e-06]\n",
      "336819.74822\n"
     ]
    }
   ],
   "source": [
    "model3 = lm.LinearRegression()\n",
    "model3.fit(poly3_data[features[:-1]],poly2_data['price'])\n",
    "print model3.coef_\n",
    "print model3.intercept_"
   ]
  },
  {
   "cell_type": "code",
   "execution_count": 123,
   "metadata": {
    "collapsed": false
   },
   "outputs": [
    {
     "data": {
      "text/plain": [
       "[<matplotlib.lines.Line2D at 0x7fca6de29f90>,\n",
       " <matplotlib.lines.Line2D at 0x7fca6de38050>,\n",
       " <matplotlib.lines.Line2D at 0x7fca6de381d0>,\n",
       " <matplotlib.lines.Line2D at 0x7fca6de382d0>,\n",
       " <matplotlib.lines.Line2D at 0x7fca6de43410>,\n",
       " <matplotlib.lines.Line2D at 0x7fca6de43550>]"
      ]
     },
     "execution_count": 123,
     "metadata": {},
     "output_type": "execute_result"
    },
    {
     "data": {
      "image/png": "[encoded data removed]",
      "text/plain": [
       "<matplotlib.figure.Figure at 0x7fca7ba57bd0>"
      ]
     },
     "metadata": {},
     "output_type": "display_data"
    }
   ],
   "source": [
    "plt.plot(poly3_data[features[:-1]],poly3_data['price'],'.',\n",
    "poly3_data[features[:-1]], model3.predict(poly3_data[features[:-1]]),'-')"
   ]
  },
  {
   "cell_type": "code",
   "execution_count": 124,
   "metadata": {
    "collapsed": false
   },
   "outputs": [
    {
     "name": "stdout",
     "output_type": "stream",
     "text": [
      "['Feature_1', 'Feature_2', 'Feature_3', 'Feature_4', 'Feature_5', 'Feature_6', 'Feature_7', 'Feature_8', 'Feature_9', 'Feature_10', 'Feature_11', 'Feature_12', 'Feature_13', 'Feature_14', 'Feature_15', 'price']\n"
     ]
    }
   ],
   "source": [
    "poly15_data = polynomial_dataframe(data['sqft_living'],15)\n",
    "poly15_data['price'] = data['price']\n",
    "features = list(poly15_data)\n",
    "print features"
   ]
  },
  {
   "cell_type": "code",
   "execution_count": 125,
   "metadata": {
    "collapsed": false
   },
   "outputs": [
    {
     "name": "stdout",
     "output_type": "stream",
     "text": [
      "[  4.56404164e-91  -6.23779018e-50   2.87786017e-56   2.78197725e-88\n",
      "   1.19863929e-74   2.68575522e-71   2.26147568e-67   1.85900299e-63\n",
      "   1.47144115e-59   1.09771012e-55   7.43509038e-52   4.23015577e-48\n",
      "   1.61618577e-44  -2.49283826e-48   9.59718336e-53]\n",
      "537116.329638\n"
     ]
    }
   ],
   "source": [
    "model15 = lm.LinearRegression()\n",
    "model15.fit(poly15_data[features[:-1]],poly15_data['price'])\n",
    "print model15.coef_\n",
    "print model15.intercept_"
   ]
  },
  {
   "cell_type": "code",
   "execution_count": 126,
   "metadata": {
    "collapsed": false
   },
   "outputs": [
    {
     "data": {
      "text/plain": [
       "[<matplotlib.lines.Line2D at 0x7fca6dd0ad90>,\n",
       " <matplotlib.lines.Line2D at 0x7fca6dd0ae10>,\n",
       " <matplotlib.lines.Line2D at 0x7fca6dd0af90>,\n",
       " <matplotlib.lines.Line2D at 0x7fca6dd190d0>,\n",
       " <matplotlib.lines.Line2D at 0x7fca6dd191d0>,\n",
       " <matplotlib.lines.Line2D at 0x7fca6dd192d0>,\n",
       " <matplotlib.lines.Line2D at 0x7fca6dd193d0>,\n",
       " <matplotlib.lines.Line2D at 0x7fca6dd194d0>,\n",
       " <matplotlib.lines.Line2D at 0x7fca6dd195d0>,\n",
       " <matplotlib.lines.Line2D at 0x7fca6dd196d0>,\n",
       " <matplotlib.lines.Line2D at 0x7fca6dd197d0>,\n",
       " <matplotlib.lines.Line2D at 0x7fca6dd198d0>,\n",
       " <matplotlib.lines.Line2D at 0x7fca6dd199d0>,\n",
       " <matplotlib.lines.Line2D at 0x7fca6dd19ad0>,\n",
       " <matplotlib.lines.Line2D at 0x7fca6dd19bd0>,\n",
       " <matplotlib.lines.Line2D at 0x7fca6dd19cd0>,\n",
       " <matplotlib.lines.Line2D at 0x7fca6dcd6b10>,\n",
       " <matplotlib.lines.Line2D at 0x7fca6dcd6c50>,\n",
       " <matplotlib.lines.Line2D at 0x7fca6dcd6d90>,\n",
       " <matplotlib.lines.Line2D at 0x7fca6dcd6ed0>,\n",
       " <matplotlib.lines.Line2D at 0x7fca6dfdca90>,\n",
       " <matplotlib.lines.Line2D at 0x7fca6dce1190>,\n",
       " <matplotlib.lines.Line2D at 0x7fca6dce12d0>,\n",
       " <matplotlib.lines.Line2D at 0x7fca6dce1410>,\n",
       " <matplotlib.lines.Line2D at 0x7fca6dce1550>,\n",
       " <matplotlib.lines.Line2D at 0x7fca6dce1690>,\n",
       " <matplotlib.lines.Line2D at 0x7fca6dce17d0>,\n",
       " <matplotlib.lines.Line2D at 0x7fca6dce1910>,\n",
       " <matplotlib.lines.Line2D at 0x7fca6dce1a50>,\n",
       " <matplotlib.lines.Line2D at 0x7fca6dce1b90>]"
      ]
     },
     "execution_count": 126,
     "metadata": {},
     "output_type": "execute_result"
    },
    {
     "data": {
      "image/png": "[encoded data removed]",
      "text/plain": [
       "<matplotlib.figure.Figure at 0x7fca6e236750>"
      ]
     },
     "metadata": {},
     "output_type": "display_data"
    }
   ],
   "source": [
    "plt.plot(poly15_data[features[:-1]],poly15_data['price'],'.',\n",
    "poly15_data[features[:-1]], model15.predict(poly15_data[features[:-1]]),'-')"
   ]
  },
  {
   "cell_type": "code",
   "execution_count": 127,
   "metadata": {
    "collapsed": false
   },
   "outputs": [
    {
     "name": "stdout",
     "output_type": "stream",
     "text": [
      "['Feature_1', 'Feature_2', 'Feature_3', 'Feature_4', 'Feature_5', 'Feature_6', 'Feature_7', 'Feature_8', 'Feature_9', 'Feature_10', 'Feature_11', 'Feature_12', 'Feature_13', 'Feature_14', 'Feature_15', 'price']\n"
     ]
    }
   ],
   "source": [
    "poly15_data_subset1 = polynomial_dataframe(data_subset_1['sqft_living'],15)\n",
    "poly15_data_subset1['price'] = data_subset_1['price']\n",
    "features = list(poly15_data)\n"
   ]
  },
  {
   "cell_type": "code",
   "execution_count": 128,
   "metadata": {
    "collapsed": false
   },
   "outputs": [
    {
     "name": "stdout",
     "output_type": "stream",
     "text": [
      "[  3.05794168e-90   2.21229708e-49   8.37177586e-55   1.21888889e-88\n",
      "   3.23082736e-74   1.10340647e-70   8.37724029e-67   6.23411957e-63\n",
      "   4.49156442e-59   3.06938763e-55   1.91749300e-51   1.01335180e-47\n",
      "   3.62176959e-44  -5.63501661e-48   2.18641116e-52]\n",
      "539058.818668\n"
     ]
    }
   ],
   "source": [
    "model15_subset1 = lm.LinearRegression()\n",
    "model15_subset1.fit(poly15_data_subset1[features[:-1]],poly15_data_subset1['price'])\n",
    "print model15_subset1.coef_\n",
    "print model15_subset1.intercept_"
   ]
  },
  {
   "cell_type": "markdown",
   "metadata": {},
   "source": [
    "# PLot on subset 1"
   ]
  },
  {
   "cell_type": "code",
   "execution_count": 129,
   "metadata": {
    "collapsed": false
   },
   "outputs": [
    {
     "data": {
      "text/plain": [
       "[<matplotlib.lines.Line2D at 0x7fca6dbf3590>,\n",
       " <matplotlib.lines.Line2D at 0x7fca6dbf3610>,\n",
       " <matplotlib.lines.Line2D at 0x7fca6dbf3790>,\n",
       " <matplotlib.lines.Line2D at 0x7fca6dbf3890>,\n",
       " <matplotlib.lines.Line2D at 0x7fca6dbf3990>,\n",
       " <matplotlib.lines.Line2D at 0x7fca6dbf3a90>,\n",
       " <matplotlib.lines.Line2D at 0x7fca6dbf3b90>,\n",
       " <matplotlib.lines.Line2D at 0x7fca6dbf3c90>,\n",
       " <matplotlib.lines.Line2D at 0x7fca6dbf3d90>,\n",
       " <matplotlib.lines.Line2D at 0x7fca6dbf3e90>,\n",
       " <matplotlib.lines.Line2D at 0x7fca6dbf3f90>,\n",
       " <matplotlib.lines.Line2D at 0x7fca6dc000d0>,\n",
       " <matplotlib.lines.Line2D at 0x7fca6dc001d0>,\n",
       " <matplotlib.lines.Line2D at 0x7fca6dc002d0>,\n",
       " <matplotlib.lines.Line2D at 0x7fca6dc003d0>,\n",
       " <matplotlib.lines.Line2D at 0x7fca6dc004d0>,\n",
       " <matplotlib.lines.Line2D at 0x7fca6dbbe310>,\n",
       " <matplotlib.lines.Line2D at 0x7fca6dbbe450>,\n",
       " <matplotlib.lines.Line2D at 0x7fca6dbbe590>,\n",
       " <matplotlib.lines.Line2D at 0x7fca6dbbe6d0>,\n",
       " <matplotlib.lines.Line2D at 0x7fca6dc1a110>,\n",
       " <matplotlib.lines.Line2D at 0x7fca6dbbe950>,\n",
       " <matplotlib.lines.Line2D at 0x7fca6dbbea90>,\n",
       " <matplotlib.lines.Line2D at 0x7fca6dbbebd0>,\n",
       " <matplotlib.lines.Line2D at 0x7fca6dbbed10>,\n",
       " <matplotlib.lines.Line2D at 0x7fca6dbbee50>,\n",
       " <matplotlib.lines.Line2D at 0x7fca6dbbef90>,\n",
       " <matplotlib.lines.Line2D at 0x7fca6db48110>,\n",
       " <matplotlib.lines.Line2D at 0x7fca6db48250>,\n",
       " <matplotlib.lines.Line2D at 0x7fca6db48390>]"
      ]
     },
     "execution_count": 129,
     "metadata": {},
     "output_type": "execute_result"
    },
    {
     "data": {
      "image/png": "[encoded data removed]",
      "text/plain": [
       "<matplotlib.figure.Figure at 0x7fca6de04350>"
      ]
     },
     "metadata": {},
     "output_type": "display_data"
    }
   ],
   "source": [
    "plt.plot(poly15_data_subset1[features[:-1]],poly15_data_subset1['price'],'.',\n",
    "poly15_data_subset1[features[:-1]], model15_subset1.predict(poly15_data_subset1[features[:-1]]),'-')"
   ]
  },
  {
   "cell_type": "markdown",
   "metadata": {},
   "source": [
    "# Plot on subset model 2"
   ]
  },
  {
   "cell_type": "code",
   "execution_count": 131,
   "metadata": {
    "collapsed": false
   },
   "outputs": [
    {
     "name": "stdout",
     "output_type": "stream",
     "text": [
      "[  2.68007766e-77  -1.28313530e-39  -1.45840380e-44   8.23309543e-50\n",
      "   1.04404871e-53   1.35479893e-58   3.62867884e-55   1.49807489e-51\n",
      "   5.73974461e-48   1.95158341e-44   5.37897065e-41   9.38035579e-38\n",
      "  -3.62478330e-41   4.63968383e-45  -1.96500572e-49]\n",
      "506812.109343\n"
     ]
    },
    {
     "data": {
      "text/plain": [
       "[<matplotlib.lines.Line2D at 0x7fca6d7d1410>,\n",
       " <matplotlib.lines.Line2D at 0x7fca6d7d1490>,\n",
       " <matplotlib.lines.Line2D at 0x7fca6d7d1610>,\n",
       " <matplotlib.lines.Line2D at 0x7fca6d7d1710>,\n",
       " <matplotlib.lines.Line2D at 0x7fca6d7d1810>,\n",
       " <matplotlib.lines.Line2D at 0x7fca6d7d1910>,\n",
       " <matplotlib.lines.Line2D at 0x7fca6d7d1a10>,\n",
       " <matplotlib.lines.Line2D at 0x7fca6d7d1b10>,\n",
       " <matplotlib.lines.Line2D at 0x7fca6d7d1c10>,\n",
       " <matplotlib.lines.Line2D at 0x7fca6d7d1d10>,\n",
       " <matplotlib.lines.Line2D at 0x7fca6d7d1e10>,\n",
       " <matplotlib.lines.Line2D at 0x7fca6d7d1f10>,\n",
       " <matplotlib.lines.Line2D at 0x7fca6d7df050>,\n",
       " <matplotlib.lines.Line2D at 0x7fca6d7df150>,\n",
       " <matplotlib.lines.Line2D at 0x7fca6d7df250>,\n",
       " <matplotlib.lines.Line2D at 0x7fca6d7df350>,\n",
       " <matplotlib.lines.Line2D at 0x7fca6d75b190>,\n",
       " <matplotlib.lines.Line2D at 0x7fca6d75b2d0>,\n",
       " <matplotlib.lines.Line2D at 0x7fca6d75b410>,\n",
       " <matplotlib.lines.Line2D at 0x7fca6d75b550>,\n",
       " <matplotlib.lines.Line2D at 0x7fca6d832910>,\n",
       " <matplotlib.lines.Line2D at 0x7fca6d75b7d0>,\n",
       " <matplotlib.lines.Line2D at 0x7fca6d75b910>,\n",
       " <matplotlib.lines.Line2D at 0x7fca6d75ba50>,\n",
       " <matplotlib.lines.Line2D at 0x7fca6d75bb90>,\n",
       " <matplotlib.lines.Line2D at 0x7fca6d75bcd0>,\n",
       " <matplotlib.lines.Line2D at 0x7fca6d75be10>,\n",
       " <matplotlib.lines.Line2D at 0x7fca6d75bf50>,\n",
       " <matplotlib.lines.Line2D at 0x7fca6d7670d0>,\n",
       " <matplotlib.lines.Line2D at 0x7fca6d767210>]"
      ]
     },
     "execution_count": 131,
     "metadata": {},
     "output_type": "execute_result"
    },
    {
     "data": {
      "image/png": "[encoded data removed]",
      "text/plain": [
       "<matplotlib.figure.Figure at 0x7fca7baadb90>"
      ]
     },
     "metadata": {},
     "output_type": "display_data"
    }
   ],
   "source": [
    "poly15_data_subset2 = polynomial_dataframe(data_subset_2['sqft_living'],15)\n",
    "poly15_data_subset2['price'] = data_subset_2['price']\n",
    "features = list(poly15_data_subset2)\n",
    "model15_subset2 = lm.LinearRegression()\n",
    "model15_subset2.fit(poly15_data_subset2[features[:-1]],poly15_data_subset2['price'])\n",
    "print model15_subset2.coef_\n",
    "print model15_subset2.intercept_\n",
    "plt.plot(poly15_data_subset2[features[:-1]],poly15_data_subset2['price'],'.',\n",
    "poly15_data_subset2[features[:-1]], model15_subset2.predict(poly15_data_subset2[features[:-1]]),'-')"
   ]
  },
  {
   "cell_type": "markdown",
   "metadata": {},
   "source": [
    "# PLot on subset 3"
   ]
  },
  {
   "cell_type": "code",
   "execution_count": null,
   "metadata": {
    "collapsed": true
   },
   "outputs": [],
   "source": [
    "poly15_data_subset3 = polynomial_dataframe(data_subset_3['sqft_living'],15)\n",
    "poly15_data_subset3['price'] = data_subset_3['price']\n",
    "features = list(poly15_data_subset3)\n",
    "model15_subset2 = lm.LinearRegression()\n",
    "model15_subset2.fit(poly15_data_subset2[features[:-1]],poly15_data_subset2['price'])\n",
    "print model15_subset2.coef_\n",
    "print model15_subset2.intercept_\n",
    "plt.plot(poly15_data_subset2[features[:-1]],poly15_data_subset2['price'],'.',\n",
    "poly15_data_subset2[features[:-1]], model15_subset2.predict(poly15_data_subset2[features[:-1]]),'-')"
   ]
  }
 ],
 "metadata": {
  "kernelspec": {
   "display_name": "Python 2",
   "language": "python",
   "name": "python2"
  },
  "language_info": {
   "codemirror_mode": {
    "name": "ipython",
    "version": 2
   },
   "file_extension": ".py",
   "mimetype": "text/x-python",
   "name": "python",
   "nbconvert_exporter": "python",
   "pygments_lexer": "ipython2",
   "version": "2.7.12"
  }
 },
 "nbformat": 4,
 "nbformat_minor": 2
}
