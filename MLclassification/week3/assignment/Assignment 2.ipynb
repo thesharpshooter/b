{
 "cells": [
  {
   "cell_type": "code",
   "execution_count": 34,
   "metadata": {
    "collapsed": true
   },
   "outputs": [],
   "source": [
    "import numpy as np\n",
    "import pandas as pd\n"
   ]
  },
  {
   "cell_type": "code",
   "execution_count": 35,
   "metadata": {
    "collapsed": false
   },
   "outputs": [],
   "source": [
    "loans = pd.read_csv('../data/lending-club-data.csv')"
   ]
  },
  {
   "cell_type": "code",
   "execution_count": 36,
   "metadata": {
    "collapsed": false
   },
   "outputs": [],
   "source": [
    "loans['safe_loans'] = loans['bad_loans'].apply(lambda x : 1 if x ==0 else -1)\n",
    "loans = loans.drop(['bad_loans'],axis=1)"
   ]
  },
  {
   "cell_type": "code",
   "execution_count": 37,
   "metadata": {
    "collapsed": false
   },
   "outputs": [],
   "source": [
    "features = ['grade',              # grade of the loan\n",
    "            'term',               # the term of the loan\n",
    "            'home_ownership',     # home_ownership status: own, mortgage or rent\n",
    "            'emp_length',         # number of years of employment\n",
    "           ]\n",
    "target = 'safe_loans'"
   ]
  },
  {
   "cell_type": "code",
   "execution_count": 38,
   "metadata": {
    "collapsed": true
   },
   "outputs": [],
   "source": [
    "loans = loans[features + [target]]"
   ]
  },
  {
   "cell_type": "code",
   "execution_count": 39,
   "metadata": {
    "collapsed": true
   },
   "outputs": [],
   "source": [
    "train_id = list(pd.read_json('../data/module-5-assignment-1-train-idx.json')[0])\n",
    "validaiton_id = list(pd.read_json('../data/module-5-assignment-1-validation-idx.json')[0])\n"
   ]
  },
  {
   "cell_type": "code",
   "execution_count": 40,
   "metadata": {
    "collapsed": true
   },
   "outputs": [],
   "source": [
    "data_train = loans.iloc[train_id]\n",
    "data_validation = loans.iloc[validaiton_id]"
   ]
  },
  {
   "cell_type": "code",
   "execution_count": 41,
   "metadata": {
    "collapsed": false
   },
   "outputs": [
    {
     "name": "stdout",
     "output_type": "stream",
     "text": [
      "Data train 37224\n",
      "Data validation 9284\n"
     ]
    }
   ],
   "source": [
    "print \"Data train\", len(data_train)\n",
    "print \"Data validation\", len(data_validation)"
   ]
  },
  {
   "cell_type": "markdown",
   "metadata": {},
   "source": [
    "# Sub sampling the data to make it balanced"
   ]
  },
  {
   "cell_type": "code",
   "execution_count": 42,
   "metadata": {
    "collapsed": false
   },
   "outputs": [
    {
     "name": "stdout",
     "output_type": "stream",
     "text": [
      "Percentage of safe loans :  0.5\n",
      "Percentage of risky loans :  0.5\n",
      "Total loan data :  46300\n"
     ]
    }
   ],
   "source": [
    "safe_loans_raw = loans[loans[target] == 1]\n",
    "risky_loans_raw = loans[loans[target] == -1]\n",
    "\n",
    "percentage = len(risky_loans_raw)/float(len(safe_loans_raw))\n",
    "\n",
    "safe_loans = safe_loans_raw.sample(frac=percentage,random_state=1)\n",
    "risky_loans = risky_loans_raw\n",
    "loans_data = risky_loans.append(safe_loans)\n",
    "\n",
    "print \"Percentage of safe loans : \",len(safe_loans)/float(len(loans_data))\n",
    "print \"Percentage of risky loans : \",len(risky_loans)/float(len(loans_data))\n",
    "print \"Total loan data : \",len(loans_data)"
   ]
  },
  {
   "cell_type": "code",
   "execution_count": 43,
   "metadata": {
    "collapsed": false
   },
   "outputs": [],
   "source": [
    "string = []\n",
    "for x in features :\n",
    "    if loans_data[x].dtype == 'object':\n",
    "        string.append(x)\n"
   ]
  },
  {
   "cell_type": "markdown",
   "metadata": {},
   "source": [
    "# Converting string features into binary values"
   ]
  },
  {
   "cell_type": "code",
   "execution_count": 44,
   "metadata": {
    "collapsed": true
   },
   "outputs": [],
   "source": [
    "for x in string:\n",
    "    for y in loans_data[x].unique():\n",
    "        loans_data[y] = loans_data[x].apply(lambda z : 1 if z == y else 0)"
   ]
  },
  {
   "cell_type": "code",
   "execution_count": 45,
   "metadata": {
    "collapsed": false
   },
   "outputs": [],
   "source": [
    "loans_data = loans_data.drop(string,axis=1)"
   ]
  },
  {
   "cell_type": "code",
   "execution_count": 46,
   "metadata": {
    "collapsed": false
   },
   "outputs": [],
   "source": [
    "from sklearn import model_selection\n",
    "train_data,test_data = model_selection.train_test_split(loans_data,random_state = 1)"
   ]
  },
  {
   "cell_type": "code",
   "execution_count": 47,
   "metadata": {
    "collapsed": false
   },
   "outputs": [
    {
     "data": {
      "text/plain": [
       "26"
      ]
     },
     "execution_count": 47,
     "metadata": {},
     "output_type": "execute_result"
    }
   ],
   "source": [
    "len(list(loans_data))"
   ]
  },
  {
   "cell_type": "code",
   "execution_count": 57,
   "metadata": {
    "collapsed": true
   },
   "outputs": [],
   "source": [
    "def intermediate_node_num_mistakes(labels_in_node):\n",
    "    if len(labels_in_node) == 0:\n",
    "        return 0\n",
    "    safe = list(labels_in_node).count(1)\n",
    "    risky = list(labels_in_node).count(-1)\n",
    "    if safe > risky:\n",
    "        return risky\n",
    "    elif safe < risky:\n",
    "        return safe\n",
    "    else :\n",
    "        return safe\n",
    "    "
   ]
  },
  {
   "cell_type": "code",
   "execution_count": 59,
   "metadata": {
    "collapsed": false
   },
   "outputs": [
    {
     "name": "stdout",
     "output_type": "stream",
     "text": [
      "Test passed!\n",
      "Test passed!\n",
      "Test passed!\n"
     ]
    }
   ],
   "source": [
    "# Test case 1\n",
    "example_labels = np.array([-1, -1, 1, 1, 1])\n",
    "if intermediate_node_num_mistakes(example_labels) == 2:\n",
    "    print 'Test passed!'\n",
    "else:\n",
    "    print 'Test 1 failed... try again!'\n",
    "\n",
    "# Test case 2\n",
    "example_labels = np.array([-1, -1, 1, 1, 1, 1, 1])\n",
    "if intermediate_node_num_mistakes(example_labels) == 2:\n",
    "    print 'Test passed!'\n",
    "else:\n",
    "    print 'Test 3 failed... try again!'\n",
    "    \n",
    "# Test case 3\n",
    "example_labels = np.array([-1, -1, -1, -1, -1, 1, 1])\n",
    "if intermediate_node_num_mistakes(example_labels) == 2:\n",
    "    print 'Test passed!'\n",
    "else:\n",
    "    print 'Test 3 failed... try again!'"
   ]
  },
  {
   "cell_type": "code",
   "execution_count": 60,
   "metadata": {
    "collapsed": false
   },
   "outputs": [],
   "source": [
    "def best_splitting_features(data,features,target):\n",
    "    target_value = data[target]\n",
    "    best_feature = None\n",
    "    best_error = 10\n",
    "    num_data_points = float(len(data))\n",
    "    \n",
    "    for feature in features:\n",
    "        left_split = data[data[feature] == 0]\n",
    "        right_split = data[data[feature] == 1]\n",
    "        \n",
    "        left_mistakes = intermediate_node_num_mistakes(left_split[target])\n",
    "        right_mistakes = intermediate_node_num_mistakes(right_split[target])\n",
    "        \n",
    "        error = (left_mistakes + right_mistakes) / num_data_points\n",
    "        if error < best_error:\n",
    "            best_feature = feature\n",
    "    return best_feature"
   ]
  },
  {
   "cell_type": "markdown",
   "metadata": {},
   "source": [
    "# A function to define the leaf node"
   ]
  },
  {
   "cell_type": "code",
   "execution_count": 61,
   "metadata": {
    "collapsed": true
   },
   "outputs": [],
   "source": [
    "def create_leaf(target_values):\n",
    "    leaf = {'splitting_feature' : None,\n",
    "            'left' : None,\n",
    "            'right' : None,\n",
    "            'is_leaf': True }   ## YOUR CODE HERE \n",
    "    num_ones = len(target_values[target_values == +1])\n",
    "    num_minus_ones = len(target_values[target_values == -1])\n",
    "    \n",
    "    if num_ones > num_minus_ones:\n",
    "        leaf['prediction'] = +1\n",
    "    else:\n",
    "        leaf['prediction'] = -1\n",
    "    return leaf\n",
    "            "
   ]
  },
  {
   "cell_type": "markdown",
   "metadata": {},
   "source": [
    "# Create decision tree"
   ]
  },
  {
   "cell_type": "code",
   "execution_count": 71,
   "metadata": {
    "collapsed": false
   },
   "outputs": [],
   "source": [
    "def decision_tree_create(data,features,target,current_depth = 0,max_depth = 10):\n",
    "    remaining_features = features[:]\n",
    "    target_values = data[target]\n",
    "    print \"-----------------------------------------------------------------------------------------\"\n",
    "    print \"Subtree, depth = %s (%s data points).\" % (current_depth, len(target_values))\n",
    "    if intermediate_node_num_mistakes(target_values) == 0:\n",
    "        print \"Stopping condition 1 reached\"\n",
    "        return create_leaf(target_values)\n",
    "    if remaining_features == []:\n",
    "        print \"Stopping condition 2 reached\"\n",
    "        return create_leaf(target_values)\n",
    "    if current_depth >= max_depth:\n",
    "        print \"Reached maximum depth. Stopping for now\"\n",
    "        return create_leaf(target_values)\n",
    "    \n",
    "    splitting_feature = best_splitting_features(data,remaining_features,target)\n",
    "    left_split = data[data[splitting_feature] == 0]\n",
    "    right_split = data[data[splitting_feature] == 1]\n",
    "    remaining_features.remove(splitting_feature)\n",
    "    print \"Split on feature %s. (%s, %s)\" % (\\\n",
    "                      splitting_feature, len(left_split), len(right_split))\n",
    "    \n",
    "    \n",
    "    if len(left_split) == len(data):\n",
    "        print \"Creating leaf node\"\n",
    "        return create_leaf(left_split[target])\n",
    "    if len(right_split) == len(data):\n",
    "        print \"Creating leaf node\"\n",
    "        return create_leaf(right_split[target])\n",
    "    \n",
    "    left_tree = decision_tree_create(left_split,remaining_features,\n",
    "                                    target,current_depth+1,max_depth)\n",
    "    right_tree = decision_tree_create(right_split,remaining_features,\n",
    "                                     target,current_depth+1,max_depth)\n",
    "    \n",
    "    return {\n",
    "        \"is_leaf\" : False,\n",
    "        \"prediction\" : None,\n",
    "        'splitting_feature' : splitting_feature,\n",
    "        'left' : left_tree,\n",
    "        'right' : right_tree\n",
    "    }\n",
    "      \n",
    "    "
   ]
  },
  {
   "cell_type": "code",
   "execution_count": 68,
   "metadata": {
    "collapsed": false
   },
   "outputs": [
    {
     "name": "stdout",
     "output_type": "stream",
     "text": [
      "safe_loans\n"
     ]
    }
   ],
   "source": [
    "features = list(loans_data)\n",
    "print features.pop(features.index(target))"
   ]
  },
  {
   "cell_type": "code",
   "execution_count": null,
   "metadata": {
    "collapsed": false
   },
   "outputs": [],
   "source": []
  },
  {
   "cell_type": "code",
   "execution_count": 73,
   "metadata": {
    "collapsed": false
   },
   "outputs": [
    {
     "name": "stdout",
     "output_type": "stream",
     "text": [
      "-----------------------------------------------------------------------------------------\n",
      "Subtree, depth = 0 (34725 data points).\n",
      "Split on feature 6 years. (32556, 2169)\n",
      "-----------------------------------------------------------------------------------------\n",
      "Subtree, depth = 1 (32556 data points).\n",
      "Split on feature n/a. (31216, 1340)\n",
      "-----------------------------------------------------------------------------------------\n",
      "Subtree, depth = 2 (31216 data points).\n",
      "Split on feature 5 years. (28516, 2700)\n",
      "-----------------------------------------------------------------------------------------\n",
      "Subtree, depth = 3 (28516 data points).\n",
      "Split on feature 7 years. (26514, 2002)\n",
      "-----------------------------------------------------------------------------------------\n",
      "Subtree, depth = 4 (26514 data points).\n",
      "Split on feature 8 years. (24987, 1527)\n",
      "-----------------------------------------------------------------------------------------\n",
      "Subtree, depth = 5 (24987 data points).\n",
      "Split on feature 2 years. (21678, 3309)\n",
      "-----------------------------------------------------------------------------------------\n",
      "Subtree, depth = 6 (21678 data points).\n",
      "Reached maximum depth. Stopping for now\n",
      "-----------------------------------------------------------------------------------------\n",
      "Subtree, depth = 6 (3309 data points).\n",
      "Reached maximum depth. Stopping for now\n",
      "-----------------------------------------------------------------------------------------\n",
      "Subtree, depth = 5 (1527 data points).\n",
      "Split on feature 2 years. (1527, 0)\n",
      "Creating leaf node\n",
      "-----------------------------------------------------------------------------------------\n",
      "Subtree, depth = 4 (2002 data points).\n",
      "Split on feature 8 years. (2002, 0)\n",
      "Creating leaf node\n",
      "-----------------------------------------------------------------------------------------\n",
      "Subtree, depth = 3 (2700 data points).\n",
      "Split on feature 7 years. (2700, 0)\n",
      "Creating leaf node\n",
      "-----------------------------------------------------------------------------------------\n",
      "Subtree, depth = 2 (1340 data points).\n",
      "Split on feature 5 years. (1340, 0)\n",
      "Creating leaf node\n",
      "-----------------------------------------------------------------------------------------\n",
      "Subtree, depth = 1 (2169 data points).\n",
      "Split on feature n/a. (2169, 0)\n",
      "Creating leaf node\n"
     ]
    }
   ],
   "source": [
    "decision_tree = decision_tree_create(train_data,features,target,max_depth=6)"
   ]
  },
  {
   "cell_type": "code",
   "execution_count": 158,
   "metadata": {
    "collapsed": false
   },
   "outputs": [
    {
     "name": "stdout",
     "output_type": "stream",
     "text": [
      "\n"
     ]
    }
   ],
   "source": [
    "def classify(tree, x, annotate = False):\n",
    "       # if the node is a leaf node.\n",
    "    if tree['is_leaf']:\n",
    "        if annotate:\n",
    "             print \"At leaf, predicting %s\" % tree['prediction']\n",
    "        return tree['prediction']\n",
    "    else:\n",
    "        # split on feature.\n",
    "        splitting_feature = tree['splitting_feature']\n",
    "        split_feature_value = x[splitting_feature]\n",
    "        if annotate:\n",
    "             print \"Split on %s = %s\" % (tree['splitting_feature'], split_feature_value)\n",
    "        if split_feature_value == 0:\n",
    "            return classify(tree['left'], x, annotate)\n",
    "        else:\n",
    "            return classify(tree['right'],x,annotate)"
   ]
  },
  {
   "cell_type": "code",
   "execution_count": 159,
   "metadata": {
    "collapsed": false
   },
   "outputs": [
    {
     "name": "stdout",
     "output_type": "stream",
     "text": [
      "Predicted class: 1 \n"
     ]
    }
   ],
   "source": [
    "x = test_data.iloc[0]\n",
    "\n",
    "print 'Predicted class: %s ' % classify(decision_tree, x)\n"
   ]
  },
  {
   "cell_type": "code",
   "execution_count": 160,
   "metadata": {
    "collapsed": false
   },
   "outputs": [
    {
     "name": "stdout",
     "output_type": "stream",
     "text": [
      "Split on 6 years = 0\n",
      "Split on n/a = 0\n",
      "Split on 5 years = 0\n",
      "Split on 7 years = 0\n",
      "Split on 8 years = 0\n",
      "Split on 2 years = 0\n",
      "At leaf, predicting 1\n"
     ]
    },
    {
     "data": {
      "text/plain": [
       "1"
      ]
     },
     "execution_count": 160,
     "metadata": {},
     "output_type": "execute_result"
    }
   ],
   "source": [
    "classify(decision_tree, x, annotate=True)"
   ]
  },
  {
   "cell_type": "markdown",
   "metadata": {},
   "source": [
    "# Quiz 1)\n",
    "\n",
    "## Split on 6 years = 0\n",
    "## Split on n/a = 0\n",
    "## Split on 5 years = 0\n",
    "## Split on 7 years = 0\n",
    "## Split on 8 years = 0\n",
    "## Split on 2 years = 0\n",
    "## At leaf, predicting 1\n",
    "\n",
    "# Prediction = 1"
   ]
  },
  {
   "cell_type": "code",
   "execution_count": 165,
   "metadata": {
    "collapsed": true
   },
   "outputs": [],
   "source": [
    "def evaluate_classification(tree,data):\n",
    "    data['prediction'] = data.apply(lambda z : classify(decision_tree,z),axis = 1)\n",
    "    error = data[data[target] != data['prediction']]\n",
    "    print \"Error  : \", len(error)/float(len(data))\n",
    "    return len(error)/float(len(data))\n",
    "    "
   ]
  },
  {
   "cell_type": "code",
   "execution_count": 167,
   "metadata": {
    "collapsed": false
   },
   "outputs": [
    {
     "name": "stderr",
     "output_type": "stream",
     "text": [
      "/home/om/gl-env/lib/python2.7/site-packages/ipykernel/__main__.py:2: SettingWithCopyWarning: \n",
      "A value is trying to be set on a copy of a slice from a DataFrame.\n",
      "Try using .loc[row_indexer,col_indexer] = value instead\n",
      "\n",
      "See the caveats in the documentation: http://pandas.pydata.org/pandas-docs/stable/indexing.html#indexing-view-versus-copy\n",
      "  from ipykernel import kernelapp as app\n"
     ]
    },
    {
     "name": "stdout",
     "output_type": "stream",
     "text": [
      "Error  :  0.486652267819\n",
      "Error  :  0.490971922246\n",
      "Train error :  0.486652267819\n",
      "Test error :  0.490971922246\n"
     ]
    }
   ],
   "source": [
    "train_error = evaluate_classification(decision_tree,train_data)\n",
    "test_error = evaluate_classification(decision_tree,test_data)\n",
    "print \"Train error : \",train_error\n",
    "print \"Test error : \",test_error"
   ]
  },
  {
   "cell_type": "markdown",
   "metadata": {},
   "source": [
    "# Train error :  0.486652267819\n",
    "\n",
    "# Test error :  0.490971922246"
   ]
  },
  {
   "cell_type": "code",
   "execution_count": 170,
   "metadata": {
    "collapsed": true
   },
   "outputs": [],
   "source": [
    "def print_stump(tree, name = 'root'):\n",
    "    split_name = tree['splitting_feature'] # split_name is something like 'term. 36 months'\n",
    "    if split_name is None:\n",
    "        print \"(leaf, label: %s)\" % tree['prediction']\n",
    "        return None\n",
    "    print '                       %s' % name\n",
    "    print '         |---------------|----------------|'\n",
    "    print '         |                                |'\n",
    "    print '         |                                |'\n",
    "    print '         |                                |'\n",
    "    print '  [{0} == 0]               [{0} == 1]    '.format(split_name)\n",
    "    print '         |                                |'\n",
    "    print '         |                                |'\n",
    "    print '         |                                |'\n",
    "    print '    (%s)                         (%s)' \\\n",
    "        % (('leaf, label: ' + str(tree['left']['prediction']) if tree['left']['is_leaf'] else 'subtree'),\n",
    "           ('leaf, label: ' + str(tree['right']['prediction']) if tree['right']['is_leaf'] else 'subtree'))"
   ]
  },
  {
   "cell_type": "code",
   "execution_count": 171,
   "metadata": {
    "collapsed": false
   },
   "outputs": [
    {
     "name": "stdout",
     "output_type": "stream",
     "text": [
      "                       root\n",
      "         |---------------|----------------|\n",
      "         |                                |\n",
      "         |                                |\n",
      "         |                                |\n",
      "  [6 years == 0]               [6 years == 1]    \n",
      "         |                                |\n",
      "         |                                |\n",
      "         |                                |\n",
      "    (subtree)                         (leaf, label: -1)\n"
     ]
    }
   ],
   "source": [
    "print_stump(decision_tree)"
   ]
  },
  {
   "cell_type": "code",
   "execution_count": 172,
   "metadata": {
    "collapsed": false
   },
   "outputs": [
    {
     "name": "stdout",
     "output_type": "stream",
     "text": [
      "                       6 years\n",
      "         |---------------|----------------|\n",
      "         |                                |\n",
      "         |                                |\n",
      "         |                                |\n",
      "  [n/a == 0]               [n/a == 1]    \n",
      "         |                                |\n",
      "         |                                |\n",
      "         |                                |\n",
      "    (subtree)                         (leaf, label: -1)\n"
     ]
    }
   ],
   "source": [
    "print_stump(decision_tree['left'], \n",
    "            decision_tree['splitting_feature'])"
   ]
  },
  {
   "cell_type": "code",
   "execution_count": 173,
   "metadata": {
    "collapsed": false
   },
   "outputs": [
    {
     "name": "stdout",
     "output_type": "stream",
     "text": [
      "                       n/a\n",
      "         |---------------|----------------|\n",
      "         |                                |\n",
      "         |                                |\n",
      "         |                                |\n",
      "  [5 years == 0]               [5 years == 1]    \n",
      "         |                                |\n",
      "         |                                |\n",
      "         |                                |\n",
      "    (subtree)                         (leaf, label: 1)\n"
     ]
    }
   ],
   "source": [
    "print_stump(decision_tree['left']['left'], decision_tree['left']['splitting_feature'])"
   ]
  },
  {
   "cell_type": "code",
   "execution_count": null,
   "metadata": {
    "collapsed": true
   },
   "outputs": [],
   "source": []
  }
 ],
 "metadata": {
  "kernelspec": {
   "display_name": "Python 2",
   "language": "python",
   "name": "python2"
  },
  "language_info": {
   "codemirror_mode": {
    "name": "ipython",
    "version": 2
   },
   "file_extension": ".py",
   "mimetype": "text/x-python",
   "name": "python",
   "nbconvert_exporter": "python",
   "pygments_lexer": "ipython2",
   "version": "2.7.12"
  }
 },
 "nbformat": 4,
 "nbformat_minor": 2
}
