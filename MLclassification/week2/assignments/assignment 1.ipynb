{
 "cells": [
  {
   "cell_type": "code",
   "execution_count": 1,
   "metadata": {
    "collapsed": true
   },
   "outputs": [],
   "source": [
    "import numpy as np\n",
    "import pandas as pd"
   ]
  },
  {
   "cell_type": "code",
   "execution_count": 29,
   "metadata": {
    "collapsed": false
   },
   "outputs": [
    {
     "name": "stdout",
     "output_type": "stream",
     "text": [
      "['name', 'review', 'rating', 'sentiment']\n",
      "0    Stop Pacifier Sucking without tears with Thumb...\n",
      "1      Nature's Lullabies Second Year Sticker Calendar\n",
      "2      Nature's Lullabies Second Year Sticker Calendar\n",
      "3                          Lamaze Peekaboo, I Love You\n",
      "4    SoftPlay Peek-A-Boo Where's Elmo A Children's ...\n",
      "5                            Our Baby Girl Memory Book\n",
      "6    Hunnt&reg; Falling Flowers and Birds Kids Nurs...\n",
      "7    Blessed By Pope Benedict XVI Divine Mercy Full...\n",
      "8    Cloth Diaper Pins Stainless Steel Traditional ...\n",
      "9    Cloth Diaper Pins Stainless Steel Traditional ...\n",
      "Name: name, dtype: object\n"
     ]
    }
   ],
   "source": [
    "products = pd.read_csv('../data/amazon_baby_subset.csv')\n",
    "important_words = list(pd.read_json('../data/important_words.json')[0])\n",
    "print list(products)\n",
    "print products.head(10)['name']"
   ]
  },
  {
   "cell_type": "code",
   "execution_count": 9,
   "metadata": {
    "collapsed": true
   },
   "outputs": [],
   "source": [
    "positive_reviews = len(products[products['sentiment'] > 0])\n",
    "negative_review = len(products[products['sentiment'] < 0])\n"
   ]
  },
  {
   "cell_type": "code",
   "execution_count": 10,
   "metadata": {
    "collapsed": false
   },
   "outputs": [
    {
     "name": "stdout",
     "output_type": "stream",
     "text": [
      "Positive reviews :  26579\n",
      "Negative reviews :  26493\n"
     ]
    }
   ],
   "source": [
    "print 'Positive reviews : ',positive_reviews\n",
    "print 'Negative reviews : ',negative_review"
   ]
  },
  {
   "cell_type": "code",
   "execution_count": 36,
   "metadata": {
    "collapsed": false
   },
   "outputs": [],
   "source": [
    "products = products.fillna({'review':''})\n",
    "def remove_punctuation(word):\n",
    "    import string\n",
    "    return word.translate(None,string.punctuation)"
   ]
  },
  {
   "cell_type": "code",
   "execution_count": 40,
   "metadata": {
    "collapsed": false
   },
   "outputs": [
    {
     "data": {
      "text/html": [
       "<div>\n",
       "<table border=\"1\" class=\"dataframe\">\n",
       "  <thead>\n",
       "    <tr style=\"text-align: right;\">\n",
       "      <th></th>\n",
       "      <th>name</th>\n",
       "      <th>review</th>\n",
       "      <th>rating</th>\n",
       "      <th>sentiment</th>\n",
       "      <th>review_clean</th>\n",
       "    </tr>\n",
       "  </thead>\n",
       "  <tbody>\n",
       "    <tr>\n",
       "      <th>0</th>\n",
       "      <td>Stop Pacifier Sucking without tears with Thumb...</td>\n",
       "      <td>All of my kids have cried non-stop when I trie...</td>\n",
       "      <td>5</td>\n",
       "      <td>1</td>\n",
       "      <td>All of my kids have cried nonstop when I tried...</td>\n",
       "    </tr>\n",
       "    <tr>\n",
       "      <th>1</th>\n",
       "      <td>Nature's Lullabies Second Year Sticker Calendar</td>\n",
       "      <td>We wanted to get something to keep track of ou...</td>\n",
       "      <td>5</td>\n",
       "      <td>1</td>\n",
       "      <td>We wanted to get something to keep track of ou...</td>\n",
       "    </tr>\n",
       "    <tr>\n",
       "      <th>2</th>\n",
       "      <td>Nature's Lullabies Second Year Sticker Calendar</td>\n",
       "      <td>My daughter had her 1st baby over a year ago. ...</td>\n",
       "      <td>5</td>\n",
       "      <td>1</td>\n",
       "      <td>My daughter had her 1st baby over a year ago S...</td>\n",
       "    </tr>\n",
       "    <tr>\n",
       "      <th>3</th>\n",
       "      <td>Lamaze Peekaboo, I Love You</td>\n",
       "      <td>One of baby's first and favorite books, and it...</td>\n",
       "      <td>4</td>\n",
       "      <td>1</td>\n",
       "      <td>One of babys first and favorite books and it i...</td>\n",
       "    </tr>\n",
       "    <tr>\n",
       "      <th>4</th>\n",
       "      <td>SoftPlay Peek-A-Boo Where's Elmo A Children's ...</td>\n",
       "      <td>Very cute interactive book! My son loves this ...</td>\n",
       "      <td>5</td>\n",
       "      <td>1</td>\n",
       "      <td>Very cute interactive book My son loves this b...</td>\n",
       "    </tr>\n",
       "  </tbody>\n",
       "</table>\n",
       "</div>"
      ],
      "text/plain": [
       "                                                name  \\\n",
       "0  Stop Pacifier Sucking without tears with Thumb...   \n",
       "1    Nature's Lullabies Second Year Sticker Calendar   \n",
       "2    Nature's Lullabies Second Year Sticker Calendar   \n",
       "3                        Lamaze Peekaboo, I Love You   \n",
       "4  SoftPlay Peek-A-Boo Where's Elmo A Children's ...   \n",
       "\n",
       "                                              review  rating  sentiment  \\\n",
       "0  All of my kids have cried non-stop when I trie...       5          1   \n",
       "1  We wanted to get something to keep track of ou...       5          1   \n",
       "2  My daughter had her 1st baby over a year ago. ...       5          1   \n",
       "3  One of baby's first and favorite books, and it...       4          1   \n",
       "4  Very cute interactive book! My son loves this ...       5          1   \n",
       "\n",
       "                                        review_clean  \n",
       "0  All of my kids have cried nonstop when I tried...  \n",
       "1  We wanted to get something to keep track of ou...  \n",
       "2  My daughter had her 1st baby over a year ago S...  \n",
       "3  One of babys first and favorite books and it i...  \n",
       "4  Very cute interactive book My son loves this b...  "
      ]
     },
     "execution_count": 40,
     "metadata": {},
     "output_type": "execute_result"
    }
   ],
   "source": [
    "products['review_clean'] = products['review'].apply(remove_punctuation)\n",
    "products.head(5)"
   ]
  },
  {
   "cell_type": "code",
   "execution_count": 41,
   "metadata": {
    "collapsed": true
   },
   "outputs": [],
   "source": [
    "for word in important_words:\n",
    "    products[word] = products['review_clean'].apply(lambda x : x.split(' ').count(word))"
   ]
  },
  {
   "cell_type": "code",
   "execution_count": 49,
   "metadata": {
    "collapsed": false
   },
   "outputs": [
    {
     "data": {
      "text/html": [
       "<div>\n",
       "<table border=\"1\" class=\"dataframe\">\n",
       "  <thead>\n",
       "    <tr style=\"text-align: right;\">\n",
       "      <th></th>\n",
       "      <th>name</th>\n",
       "      <th>review</th>\n",
       "      <th>rating</th>\n",
       "      <th>sentiment</th>\n",
       "      <th>review_clean</th>\n",
       "      <th>baby</th>\n",
       "      <th>one</th>\n",
       "      <th>great</th>\n",
       "      <th>love</th>\n",
       "      <th>use</th>\n",
       "      <th>...</th>\n",
       "      <th>seems</th>\n",
       "      <th>picture</th>\n",
       "      <th>completely</th>\n",
       "      <th>wish</th>\n",
       "      <th>buying</th>\n",
       "      <th>babies</th>\n",
       "      <th>won</th>\n",
       "      <th>tub</th>\n",
       "      <th>almost</th>\n",
       "      <th>either</th>\n",
       "    </tr>\n",
       "  </thead>\n",
       "  <tbody>\n",
       "    <tr>\n",
       "      <th>0</th>\n",
       "      <td>Stop Pacifier Sucking without tears with Thumb...</td>\n",
       "      <td>All of my kids have cried non-stop when I trie...</td>\n",
       "      <td>5</td>\n",
       "      <td>1</td>\n",
       "      <td>All of my kids have cried nonstop when I tried...</td>\n",
       "      <td>0</td>\n",
       "      <td>0</td>\n",
       "      <td>1</td>\n",
       "      <td>0</td>\n",
       "      <td>0</td>\n",
       "      <td>...</td>\n",
       "      <td>0</td>\n",
       "      <td>0</td>\n",
       "      <td>0</td>\n",
       "      <td>0</td>\n",
       "      <td>0</td>\n",
       "      <td>0</td>\n",
       "      <td>0</td>\n",
       "      <td>0</td>\n",
       "      <td>0</td>\n",
       "      <td>0</td>\n",
       "    </tr>\n",
       "    <tr>\n",
       "      <th>1</th>\n",
       "      <td>Nature's Lullabies Second Year Sticker Calendar</td>\n",
       "      <td>We wanted to get something to keep track of ou...</td>\n",
       "      <td>5</td>\n",
       "      <td>1</td>\n",
       "      <td>We wanted to get something to keep track of ou...</td>\n",
       "      <td>0</td>\n",
       "      <td>0</td>\n",
       "      <td>0</td>\n",
       "      <td>0</td>\n",
       "      <td>0</td>\n",
       "      <td>...</td>\n",
       "      <td>0</td>\n",
       "      <td>0</td>\n",
       "      <td>0</td>\n",
       "      <td>0</td>\n",
       "      <td>0</td>\n",
       "      <td>0</td>\n",
       "      <td>0</td>\n",
       "      <td>0</td>\n",
       "      <td>0</td>\n",
       "      <td>0</td>\n",
       "    </tr>\n",
       "    <tr>\n",
       "      <th>2</th>\n",
       "      <td>Nature's Lullabies Second Year Sticker Calendar</td>\n",
       "      <td>My daughter had her 1st baby over a year ago. ...</td>\n",
       "      <td>5</td>\n",
       "      <td>1</td>\n",
       "      <td>My daughter had her 1st baby over a year ago S...</td>\n",
       "      <td>1</td>\n",
       "      <td>0</td>\n",
       "      <td>0</td>\n",
       "      <td>0</td>\n",
       "      <td>0</td>\n",
       "      <td>...</td>\n",
       "      <td>0</td>\n",
       "      <td>0</td>\n",
       "      <td>0</td>\n",
       "      <td>0</td>\n",
       "      <td>0</td>\n",
       "      <td>0</td>\n",
       "      <td>0</td>\n",
       "      <td>0</td>\n",
       "      <td>0</td>\n",
       "      <td>0</td>\n",
       "    </tr>\n",
       "    <tr>\n",
       "      <th>3</th>\n",
       "      <td>Lamaze Peekaboo, I Love You</td>\n",
       "      <td>One of baby's first and favorite books, and it...</td>\n",
       "      <td>4</td>\n",
       "      <td>1</td>\n",
       "      <td>One of babys first and favorite books and it i...</td>\n",
       "      <td>0</td>\n",
       "      <td>0</td>\n",
       "      <td>0</td>\n",
       "      <td>0</td>\n",
       "      <td>0</td>\n",
       "      <td>...</td>\n",
       "      <td>0</td>\n",
       "      <td>0</td>\n",
       "      <td>0</td>\n",
       "      <td>0</td>\n",
       "      <td>0</td>\n",
       "      <td>0</td>\n",
       "      <td>0</td>\n",
       "      <td>0</td>\n",
       "      <td>0</td>\n",
       "      <td>0</td>\n",
       "    </tr>\n",
       "    <tr>\n",
       "      <th>4</th>\n",
       "      <td>SoftPlay Peek-A-Boo Where's Elmo A Children's ...</td>\n",
       "      <td>Very cute interactive book! My son loves this ...</td>\n",
       "      <td>5</td>\n",
       "      <td>1</td>\n",
       "      <td>Very cute interactive book My son loves this b...</td>\n",
       "      <td>0</td>\n",
       "      <td>0</td>\n",
       "      <td>1</td>\n",
       "      <td>0</td>\n",
       "      <td>0</td>\n",
       "      <td>...</td>\n",
       "      <td>0</td>\n",
       "      <td>0</td>\n",
       "      <td>0</td>\n",
       "      <td>0</td>\n",
       "      <td>0</td>\n",
       "      <td>1</td>\n",
       "      <td>0</td>\n",
       "      <td>0</td>\n",
       "      <td>0</td>\n",
       "      <td>0</td>\n",
       "    </tr>\n",
       "  </tbody>\n",
       "</table>\n",
       "<p>5 rows × 198 columns</p>\n",
       "</div>"
      ],
      "text/plain": [
       "                                                name  \\\n",
       "0  Stop Pacifier Sucking without tears with Thumb...   \n",
       "1    Nature's Lullabies Second Year Sticker Calendar   \n",
       "2    Nature's Lullabies Second Year Sticker Calendar   \n",
       "3                        Lamaze Peekaboo, I Love You   \n",
       "4  SoftPlay Peek-A-Boo Where's Elmo A Children's ...   \n",
       "\n",
       "                                              review  rating  sentiment  \\\n",
       "0  All of my kids have cried non-stop when I trie...       5          1   \n",
       "1  We wanted to get something to keep track of ou...       5          1   \n",
       "2  My daughter had her 1st baby over a year ago. ...       5          1   \n",
       "3  One of baby's first and favorite books, and it...       4          1   \n",
       "4  Very cute interactive book! My son loves this ...       5          1   \n",
       "\n",
       "                                        review_clean  baby  one  great  love  \\\n",
       "0  All of my kids have cried nonstop when I tried...     0    0      1     0   \n",
       "1  We wanted to get something to keep track of ou...     0    0      0     0   \n",
       "2  My daughter had her 1st baby over a year ago S...     1    0      0     0   \n",
       "3  One of babys first and favorite books and it i...     0    0      0     0   \n",
       "4  Very cute interactive book My son loves this b...     0    0      1     0   \n",
       "\n",
       "   use   ...    seems  picture  completely  wish  buying  babies  won  tub  \\\n",
       "0    0   ...        0        0           0     0       0       0    0    0   \n",
       "1    0   ...        0        0           0     0       0       0    0    0   \n",
       "2    0   ...        0        0           0     0       0       0    0    0   \n",
       "3    0   ...        0        0           0     0       0       0    0    0   \n",
       "4    0   ...        0        0           0     0       0       1    0    0   \n",
       "\n",
       "   almost  either  \n",
       "0       0       0  \n",
       "1       0       0  \n",
       "2       0       0  \n",
       "3       0       0  \n",
       "4       0       0  \n",
       "\n",
       "[5 rows x 198 columns]"
      ]
     },
     "execution_count": 49,
     "metadata": {},
     "output_type": "execute_result"
    }
   ],
   "source": [
    "products.head(5)"
   ]
  },
  {
   "cell_type": "code",
   "execution_count": 52,
   "metadata": {
    "collapsed": false
   },
   "outputs": [
    {
     "name": "stdout",
     "output_type": "stream",
     "text": [
      "Contains Perfect :  2955\n"
     ]
    }
   ],
   "source": [
    "contain_perfect = len(products[products['perfect'] > 0])\n",
    "print 'Contains Perfect : ',contain_perfect"
   ]
  },
  {
   "cell_type": "markdown",
   "metadata": {},
   "source": [
    "# Quiz 1)\n",
    "\n",
    "## Contains Perfect : 2955"
   ]
  },
  {
   "cell_type": "code",
   "execution_count": 53,
   "metadata": {
    "collapsed": true
   },
   "outputs": [],
   "source": [
    "def get_numpy_data(data_frame,features,labels):\n",
    "    data_frame['ones'] = 1\n",
    "    features = ['ones'] + features\n",
    "    feature_matrix = data_frame[features].as_matrix()\n",
    "    label_matrix = data_frame[labels].as_matrix()\n",
    "    return feature_matrix,label_matrix"
   ]
  },
  {
   "cell_type": "markdown",
   "metadata": {},
   "source": [
    "### A function that returns numpy matrix for the dataframes"
   ]
  },
  {
   "cell_type": "code",
   "execution_count": 54,
   "metadata": {
    "collapsed": true
   },
   "outputs": [],
   "source": [
    "feature_matrix,sentiment = get_numpy_data(products,important_words,'sentiment')"
   ]
  },
  {
   "cell_type": "code",
   "execution_count": 56,
   "metadata": {
    "collapsed": false
   },
   "outputs": [
    {
     "name": "stdout",
     "output_type": "stream",
     "text": [
      "Feature Matrix :  (53072, 194)\n",
      "Sentiment Matrix :  (53072,)\n"
     ]
    }
   ],
   "source": [
    "print \"Feature Matrix : \",feature_matrix.shape\n",
    "print 'Sentiment Matrix : ',sentiment.shape"
   ]
  },
  {
   "cell_type": "markdown",
   "metadata": {},
   "source": [
    "# Quiz 2)            \n",
    "\n",
    "## 194 features in the feature_matrix('ones' plus the important words)"
   ]
  },
  {
   "cell_type": "markdown",
   "metadata": {},
   "source": [
    "# Quiz 3)\n",
    "\n",
    "## Number of features in the feature matrix is GREATER THAN OR THE SAME AS the number of features in the model"
   ]
  },
  {
   "cell_type": "code",
   "execution_count": 57,
   "metadata": {
    "collapsed": true
   },
   "outputs": [],
   "source": [
    "def predict_probability(feature_matrix,coefficients):\n",
    "    score = np.dot(feature_matrix,coefficients)\n",
    "    probability = 1/(1 + np.exp(-score))\n",
    "    return probability"
   ]
  },
  {
   "cell_type": "code",
   "execution_count": 108,
   "metadata": {
    "collapsed": false
   },
   "outputs": [],
   "source": [
    "def feature_derivative(errors,feature):\n",
    "    return np.dot(errors.transpose(),feature)"
   ]
  },
  {
   "cell_type": "code",
   "execution_count": 109,
   "metadata": {
    "collapsed": false
   },
   "outputs": [],
   "source": [
    "def compute_log_likelihood(feature_matrix, sentiment, coefficients):\n",
    "    indicator = (sentiment==+1)\n",
    "    scores = np.dot(feature_matrix, coefficients)\n",
    "    lp = np.sum((indicator-1)*scores - np.log(1. + np.exp(-scores)))\n",
    "    return lp"
   ]
  },
  {
   "cell_type": "code",
   "execution_count": 134,
   "metadata": {
    "collapsed": true
   },
   "outputs": [],
   "source": [
    "def logistic_regression(feature_matrix,sentiment,initial_coeff,step_size,max_iter):\n",
    "    senti = sentiment\n",
    "    sentiment = map(lambda y : 1 if y ==1 else 0,sentiment)\n",
    "    for i in range(max_iter):\n",
    "        prediction = predict_probability(feature_matrix,initial_coeff)\n",
    "        error = sentiment - prediction\n",
    "        grad = feature_derivative(error,feature_matrix)\n",
    "        initial_coeff = initial_coeff + step_size*grad\n",
    "        l = compute_log_likelihood(feature_matrix,senti,initial_coeff)\n",
    "        if i%50 == 0:\n",
    "            print 'Iterations : ',i,\"Likelihood : \",l\n",
    "    return initial_coeff"
   ]
  },
  {
   "cell_type": "code",
   "execution_count": 135,
   "metadata": {
    "collapsed": false
   },
   "outputs": [],
   "source": [
    "feature_matrix = feature_matrix\n",
    "sentiment = sentiment\n",
    "initial_coeff = np.array([0]*feature_matrix.shape[1])\n",
    "step_size = 1e-7\n",
    "max_iter = 301\n"
   ]
  },
  {
   "cell_type": "code",
   "execution_count": 136,
   "metadata": {
    "collapsed": false
   },
   "outputs": [
    {
     "name": "stdout",
     "output_type": "stream",
     "text": [
      "Iterations :  0 Likelihood :  -36780.9176848\n",
      "Iterations :  50 Likelihood :  -36498.933161\n",
      "Iterations :  100 Likelihood :  -36230.4610235\n",
      "Iterations :  150 Likelihood :  -35974.1285439\n",
      "Iterations :  200 Likelihood :  -35728.8941877\n",
      "Iterations :  250 Likelihood :  -35493.9225113\n",
      "Iterations :  300 Likelihood :  -35268.5121268\n",
      "Final Coefficients :  [  5.16220157e-03   1.55656966e-02  -8.50204675e-03   6.65460842e-02\n",
      "   6.58907629e-02   5.01743882e-03  -5.38601484e-02  -3.50488413e-03\n",
      "   6.47945868e-02   4.54356263e-02   3.98353364e-03   2.00775410e-02\n",
      "   3.01350011e-02  -2.87115530e-02   1.52161964e-02   2.72592062e-04\n",
      "   1.19448177e-02  -1.82461935e-02  -1.21706420e-02  -4.15110334e-02\n",
      "   2.76820391e-03   1.77031999e-02  -4.39700067e-03   4.49764014e-02\n",
      "   9.90916464e-03   8.99239081e-04  -1.36219516e-03   1.26859357e-02\n",
      "   8.26466695e-03  -2.77426972e-02   6.10128809e-04   1.54084501e-02\n",
      "  -1.32134753e-02  -3.00512492e-02   2.97399371e-02   1.84087080e-02\n",
      "   2.86178752e-03  -1.05768015e-02  -6.57350362e-04  -1.01476555e-02\n",
      "  -4.79579528e-03   7.50891810e-03   4.27938289e-03   3.06785501e-03\n",
      "  -2.20317661e-03   9.57273354e-03   9.91666827e-05  -1.98462567e-02\n",
      "   1.75702722e-02   1.55478612e-03  -1.77375440e-02   9.78324102e-03\n",
      "   1.17031606e-02  -7.35345937e-03  -6.08714030e-03   6.43766808e-03\n",
      "   1.07159665e-02  -3.05345476e-03   7.17190727e-03   5.73320003e-03\n",
      "   4.60661876e-03  -5.20588421e-03   6.71012331e-03   9.03281814e-03\n",
      "   1.74563147e-03   6.00279979e-03   1.20181744e-02  -1.83594607e-02\n",
      "  -6.91010811e-03  -1.38687273e-02  -1.50406590e-02   5.92353611e-03\n",
      "   5.67478991e-03  -5.28786220e-03   3.08147864e-03   5.53751236e-03\n",
      "   1.49917916e-02  -3.35666000e-04  -3.30695153e-02  -4.78990943e-03\n",
      "  -6.41368859e-03   7.99938935e-03  -8.61390444e-04   1.68052959e-02\n",
      "   1.32539901e-02   1.72307051e-03   2.98030675e-03   8.58284300e-03\n",
      "   1.17082481e-02   2.80825907e-03   2.18724016e-03   1.68824711e-02\n",
      "  -4.65973741e-03   1.51368285e-03  -1.09509122e-02   9.17842898e-03\n",
      "  -1.88572281e-04  -3.89820373e-02  -2.44821005e-02  -1.87023714e-02\n",
      "  -2.13943485e-02  -1.29690465e-02  -1.71378670e-02  -1.37566767e-02\n",
      "  -1.49770449e-02  -5.10287978e-03  -2.89789761e-02  -1.48663194e-02\n",
      "  -1.28088380e-02  -1.07709355e-02  -6.95286915e-03  -5.04082164e-03\n",
      "  -9.25914404e-03  -2.40427481e-02  -2.65927785e-02  -1.97320937e-03\n",
      "  -5.04127508e-03  -7.00791912e-03  -3.48088523e-03  -6.40958916e-03\n",
      "  -4.07497010e-03  -6.30054296e-03  -1.09187932e-02  -1.26051900e-02\n",
      "  -1.66895314e-03  -7.76418781e-03  -5.15960485e-04  -1.94199551e-03\n",
      "  -1.24761586e-03  -5.01291731e-03  -9.12049191e-03  -7.22098801e-03\n",
      "  -8.31782981e-03  -5.60573348e-03  -1.47098335e-02  -9.31520819e-03\n",
      "  -2.22034402e-03  -7.07573098e-03  -5.10115608e-03  -8.93572862e-03\n",
      "  -1.27545713e-02  -7.04171991e-03  -9.76219676e-04   4.12091713e-04\n",
      "   8.29251160e-04   2.64661064e-03  -7.73228782e-03   1.53471164e-03\n",
      "  -7.37263060e-03  -3.73694386e-03  -3.81416409e-03  -1.64575145e-03\n",
      "  -3.31887732e-03   1.22257832e-03   1.36699286e-05  -3.01866601e-03\n",
      "  -1.02826343e-02  -1.06691327e-02   2.23639046e-03  -9.87424798e-03\n",
      "  -1.02192048e-02  -3.41330929e-03   3.34489960e-03  -3.50984516e-03\n",
      "  -6.26283150e-03  -7.22419943e-03  -5.47016154e-03  -1.25063947e-02\n",
      "  -2.47805699e-03  -1.60017985e-02  -6.40098934e-03  -4.26644386e-03\n",
      "  -1.55376990e-02   2.31349237e-03  -9.06653337e-03  -6.30012672e-03\n",
      "  -1.21010303e-02  -3.02578875e-03  -6.76289718e-03  -5.65498722e-03\n",
      "  -6.87050239e-03  -1.18950595e-02  -1.86489236e-04  -1.15230476e-02\n",
      "   2.81533219e-03  -8.10150295e-03  -1.00062131e-02   4.02037651e-03\n",
      "  -5.44300346e-03   2.85818985e-03   1.19885003e-04  -6.47587687e-03\n",
      "  -1.14493516e-03  -7.09205934e-03]\n"
     ]
    }
   ],
   "source": [
    "W = logistic_regression(feature_matrix,sentiment,initial_coeff,step_size,max_iter)"
   ]
  },
  {
   "cell_type": "markdown",
   "metadata": {},
   "source": [
    "# Quiz 4)\n",
    "\n",
    "## After each iterations loglikelihood increases"
   ]
  },
  {
   "cell_type": "code",
   "execution_count": 139,
   "metadata": {
    "collapsed": false
   },
   "outputs": [],
   "source": [
    "products['score'] = np.dot(feature_matrix,W.transpose())\n",
    "products['prediction'] = products['score'].apply(lambda z : 1 if z>0 else -1)"
   ]
  },
  {
   "cell_type": "code",
   "execution_count": 147,
   "metadata": {
    "collapsed": false
   },
   "outputs": [
    {
     "data": {
      "text/html": [
       "<div>\n",
       "<table border=\"1\" class=\"dataframe\">\n",
       "  <thead>\n",
       "    <tr style=\"text-align: right;\">\n",
       "      <th></th>\n",
       "      <th>name</th>\n",
       "      <th>review</th>\n",
       "      <th>rating</th>\n",
       "      <th>sentiment</th>\n",
       "      <th>review_clean</th>\n",
       "      <th>baby</th>\n",
       "      <th>one</th>\n",
       "      <th>great</th>\n",
       "      <th>love</th>\n",
       "      <th>use</th>\n",
       "      <th>...</th>\n",
       "      <th>wish</th>\n",
       "      <th>buying</th>\n",
       "      <th>babies</th>\n",
       "      <th>won</th>\n",
       "      <th>tub</th>\n",
       "      <th>almost</th>\n",
       "      <th>either</th>\n",
       "      <th>ones</th>\n",
       "      <th>score</th>\n",
       "      <th>prediction</th>\n",
       "    </tr>\n",
       "  </thead>\n",
       "  <tbody>\n",
       "    <tr>\n",
       "      <th>0</th>\n",
       "      <td>Stop Pacifier Sucking without tears with Thumb...</td>\n",
       "      <td>All of my kids have cried non-stop when I trie...</td>\n",
       "      <td>5</td>\n",
       "      <td>1</td>\n",
       "      <td>All of my kids have cried nonstop when I tried...</td>\n",
       "      <td>0</td>\n",
       "      <td>0</td>\n",
       "      <td>1</td>\n",
       "      <td>0</td>\n",
       "      <td>0</td>\n",
       "      <td>...</td>\n",
       "      <td>0</td>\n",
       "      <td>0</td>\n",
       "      <td>0</td>\n",
       "      <td>0</td>\n",
       "      <td>0</td>\n",
       "      <td>0</td>\n",
       "      <td>0</td>\n",
       "      <td>1</td>\n",
       "      <td>0.051046</td>\n",
       "      <td>1</td>\n",
       "    </tr>\n",
       "    <tr>\n",
       "      <th>1</th>\n",
       "      <td>Nature's Lullabies Second Year Sticker Calendar</td>\n",
       "      <td>We wanted to get something to keep track of ou...</td>\n",
       "      <td>5</td>\n",
       "      <td>1</td>\n",
       "      <td>We wanted to get something to keep track of ou...</td>\n",
       "      <td>0</td>\n",
       "      <td>0</td>\n",
       "      <td>0</td>\n",
       "      <td>0</td>\n",
       "      <td>0</td>\n",
       "      <td>...</td>\n",
       "      <td>0</td>\n",
       "      <td>0</td>\n",
       "      <td>0</td>\n",
       "      <td>0</td>\n",
       "      <td>0</td>\n",
       "      <td>0</td>\n",
       "      <td>0</td>\n",
       "      <td>1</td>\n",
       "      <td>-0.029365</td>\n",
       "      <td>-1</td>\n",
       "    </tr>\n",
       "  </tbody>\n",
       "</table>\n",
       "<p>2 rows × 201 columns</p>\n",
       "</div>"
      ],
      "text/plain": [
       "                                                name  \\\n",
       "0  Stop Pacifier Sucking without tears with Thumb...   \n",
       "1    Nature's Lullabies Second Year Sticker Calendar   \n",
       "\n",
       "                                              review  rating  sentiment  \\\n",
       "0  All of my kids have cried non-stop when I trie...       5          1   \n",
       "1  We wanted to get something to keep track of ou...       5          1   \n",
       "\n",
       "                                        review_clean  baby  one  great  love  \\\n",
       "0  All of my kids have cried nonstop when I tried...     0    0      1     0   \n",
       "1  We wanted to get something to keep track of ou...     0    0      0     0   \n",
       "\n",
       "   use     ...      wish  buying  babies  won  tub  almost  either  ones  \\\n",
       "0    0     ...         0       0       0    0    0       0       0     1   \n",
       "1    0     ...         0       0       0    0    0       0       0     1   \n",
       "\n",
       "      score  prediction  \n",
       "0  0.051046           1  \n",
       "1 -0.029365          -1  \n",
       "\n",
       "[2 rows x 201 columns]"
      ]
     },
     "execution_count": 147,
     "metadata": {},
     "output_type": "execute_result"
    }
   ],
   "source": [
    "products.head(2)"
   ]
  },
  {
   "cell_type": "code",
   "execution_count": 141,
   "metadata": {
    "collapsed": false
   },
   "outputs": [
    {
     "name": "stdout",
     "output_type": "stream",
     "text": [
      "Predicted Positive :  25126\n",
      "Predicted Negative :  27946\n"
     ]
    }
   ],
   "source": [
    "predicted_positive = len(products[products['prediction'] == 1])\n",
    "predicted_negative = len(products[products['prediction'] == -1])\n",
    "print 'Predicted Positive : ',predicted_positive\n",
    "print 'Predicted Negative : ',predicted_negative"
   ]
  },
  {
   "cell_type": "markdown",
   "metadata": {},
   "source": [
    "# Quiz 5)\n",
    "\n",
    "## Predicted Positive :  25126\n",
    "## Predicted Negative :  27946"
   ]
  },
  {
   "cell_type": "code",
   "execution_count": 145,
   "metadata": {
    "collapsed": false
   },
   "outputs": [
    {
     "name": "stdout",
     "output_type": "stream",
     "text": [
      "Accurate Prediction :  39903\n",
      "Accuracy :  0.751865390413\n"
     ]
    }
   ],
   "source": [
    "accurate = len(products[products['prediction'] == products['sentiment']])\n",
    "accuracy = float(accurate)/len(products)\n",
    "print 'Accurate Prediction : ',accurate\n",
    "print 'Accuracy : ',accuracy"
   ]
  },
  {
   "cell_type": "markdown",
   "metadata": {},
   "source": [
    "# Quiz 6)\n",
    "\n",
    "## Accurate Prediction :  39903\n",
    "## Accuracy :  0.751865390413"
   ]
  },
  {
   "cell_type": "code",
   "execution_count": 148,
   "metadata": {
    "collapsed": true
   },
   "outputs": [],
   "source": [
    "coefficients = list(W[1:]) # exclude intercept\n",
    "word_coefficient_tuples = [(word, coefficient) for word, coefficient in zip(important_words, coefficients)]\n",
    "word_coefficient_tuples = sorted(word_coefficient_tuples, key=lambda x:x[1], reverse=True)"
   ]
  },
  {
   "cell_type": "code",
   "execution_count": 150,
   "metadata": {
    "collapsed": false
   },
   "outputs": [
    {
     "name": "stdout",
     "output_type": "stream",
     "text": [
      "[(u'great', 0.066546084170457709), (u'love', 0.065890762922123244), (u'easy', 0.064794586802578394), (u'little', 0.045435626308421372), (u'loves', 0.044976401394906038), (u'well', 0.030135001092107077), (u'perfect', 0.029739937104968459), (u'old', 0.020077541034775385), (u'nice', 0.018408707995268989), (u'daughter', 0.017703199905701697)]\n"
     ]
    }
   ],
   "source": [
    "print word_coefficient_tuples[:10]"
   ]
  },
  {
   "cell_type": "code",
   "execution_count": 152,
   "metadata": {
    "collapsed": false
   },
   "outputs": [
    {
     "name": "stdout",
     "output_type": "stream",
     "text": [
      "[(u'broke', -0.015537698955653887), (u'returned', -0.016001798500102516), (u'item', -0.01713786701085479), (u'buy', -0.017737543997218049), (u'time', -0.018246193486087036), (u'way', -0.018359460662945692), (u'tried', -0.018702371424325834), (u'could', -0.019846256660777207), (u'thought', -0.021394348543682488), (u'waste', -0.024042748071154956), (u'monitor', -0.024482100545891717), (u'return', -0.026592778462247283), (u'back', -0.027742697230661327), (u'get', -0.028711552980192585), (u'disappointed', -0.028978976142317068), (u'even', -0.030051249236035808), (u'work', -0.03306951529475273), (u'money', -0.038982037286487116), (u'product', -0.04151103339210889), (u'would', -0.053860148445203128)]\n"
     ]
    }
   ],
   "source": [
    "print word_coefficient_tuples[-20:]"
   ]
  },
  {
   "cell_type": "code",
   "execution_count": null,
   "metadata": {
    "collapsed": true
   },
   "outputs": [],
   "source": []
  }
 ],
 "metadata": {
  "kernelspec": {
   "display_name": "Python 2",
   "language": "python",
   "name": "python2"
  },
  "language_info": {
   "codemirror_mode": {
    "name": "ipython",
    "version": 2
   },
   "file_extension": ".py",
   "mimetype": "text/x-python",
   "name": "python",
   "nbconvert_exporter": "python",
   "pygments_lexer": "ipython2",
   "version": "2.7.12"
  }
 },
 "nbformat": 4,
 "nbformat_minor": 2
}
