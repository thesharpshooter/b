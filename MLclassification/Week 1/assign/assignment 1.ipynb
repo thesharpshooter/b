{
 "cells": [
  {
   "cell_type": "code",
   "execution_count": 92,
   "metadata": {
    "collapsed": false,
    "deletable": true,
    "editable": true
   },
   "outputs": [],
   "source": [
    "import pandas as pd\n",
    "import numpy as np\n",
    "from sklearn.feature_extraction.text import CountVectorizer \n",
    "from sklearn import linear_model\n",
    "dtype_dict = {'name':str,'review':str,'rating':int}"
   ]
  },
  {
   "cell_type": "code",
   "execution_count": 8,
   "metadata": {
    "collapsed": false,
    "deletable": true,
    "editable": true
   },
   "outputs": [],
   "source": [
    "products = pd.read_csv('../data/amazon_baby.csv',dtype=dtype_dict)\n",
    "train_series = pd.read_json('../data/module-2-assignment-train-idx.json')\n",
    "test_series = pd.read_json('../data/module-2-assignment-test-idx.json')\n",
    "train_series = list(train_series[0])\n",
    "test_series = list(test_series[0])"
   ]
  },
  {
   "cell_type": "markdown",
   "metadata": {
    "deletable": true,
    "editable": true
   },
   "source": [
    "# A function to remove the punctuations from the reviews to make 'good' and 'good!' the same"
   ]
  },
  {
   "cell_type": "code",
   "execution_count": 9,
   "metadata": {
    "collapsed": true,
    "deletable": true,
    "editable": true
   },
   "outputs": [],
   "source": [
    "def remove_punctuations(text):\n",
    "    import string\n",
    "    text = text.translate(None,string.punctuation)\n",
    "    return text"
   ]
  },
  {
   "cell_type": "code",
   "execution_count": 10,
   "metadata": {
    "collapsed": false,
    "deletable": true,
    "editable": true
   },
   "outputs": [],
   "source": [
    "products['review_clean'] = remove_punctuations(products['review'].str)"
   ]
  },
  {
   "cell_type": "markdown",
   "metadata": {
    "deletable": true,
    "editable": true
   },
   "source": [
    "# Setting Null review with empty review and selecting reviews which are not 3"
   ]
  },
  {
   "cell_type": "code",
   "execution_count": 11,
   "metadata": {
    "collapsed": false,
    "deletable": true,
    "editable": true
   },
   "outputs": [],
   "source": [
    "products = products.fillna({'review':''}) \n",
    "products = products[products['rating']!=3]\n"
   ]
  },
  {
   "cell_type": "markdown",
   "metadata": {
    "deletable": true,
    "editable": true
   },
   "source": [
    "## Assinging class to the rating column(+1 or -1)"
   ]
  },
  {
   "cell_type": "code",
   "execution_count": 12,
   "metadata": {
    "collapsed": true,
    "deletable": true,
    "editable": true
   },
   "outputs": [],
   "source": [
    "products['sentiment'] = products['rating'].apply(lambda x : 1 if x >3 else -1 )"
   ]
  },
  {
   "cell_type": "code",
   "execution_count": 14,
   "metadata": {
    "collapsed": false,
    "deletable": true,
    "editable": true
   },
   "outputs": [],
   "source": [
    "data_train = products.ix[train_series]\n",
    "data_test = products.ix[test_series]\n",
    "data_train = data_train[data_train['name'].isnull() == False]\n",
    "data_test = data_test[data_test['name'].isnull() == False]\n",
    "data_test = data_test.fillna({'review':''})\n",
    "\n",
    "\n",
    "# vectorizer = CountVectorizer(token_pattern=r'\\b\\w+\\b')\n",
    "\n",
    "# train_matrix = vectorizer.fit_transform(data_train['review_clean'].values.astype('U'))\n",
    "# test_matrix = vectorizer.transform(data_test['review_clean'].values.astype('U'))\n"
   ]
  },
  {
   "cell_type": "code",
   "execution_count": 18,
   "metadata": {
    "collapsed": false,
    "deletable": true,
    "editable": true
   },
   "outputs": [
    {
     "name": "stdout",
     "output_type": "stream",
     "text": [
      "121011\n",
      "30209\n",
      "CountVectorizer(analyzer=u'word', binary=False, decode_error=u'strict',\n",
      "        dtype=<type 'numpy.int64'>, encoding=u'utf-8', input=u'content',\n",
      "        lowercase=True, max_df=1.0, max_features=None, min_df=1,\n",
      "        ngram_range=(1, 1), preprocessor=None, stop_words=None,\n",
      "        strip_accents=None, token_pattern=u'(?u)\\\\b\\\\w\\\\w+\\\\b',\n",
      "        tokenizer=None,\n",
      "        vocabulary=['love', 'great', 'easy', 'old', 'little', 'perfect', 'loves', 'well', 'able', 'car', 'broke', 'less', 'even', 'waste', 'disappointed', 'work', 'product', 'money', 'would', 'return'])\n"
     ]
    }
   ],
   "source": [
    "significant_words = ['love', 'great', 'easy', 'old', 'little', 'perfect', 'loves', \n",
    "      'well', 'able', 'car', 'broke', 'less', 'even', 'waste', 'disappointed', \n",
    "      'work', 'product', 'money', 'would', 'return']\n",
    "vectorizer = CountVectorizer(vocabulary=significant_words)\n",
    "train_matrix = vectorizer.fit_transform(data_train['review_clean'].values.astype('U'))\n"
   ]
  },
  {
   "cell_type": "code",
   "execution_count": 20,
   "metadata": {
    "collapsed": false
   },
   "outputs": [],
   "source": [
    "test_matrix = vectorizer.transform(data_test['review_clean'].values.astype('U'))"
   ]
  },
  {
   "cell_type": "code",
   "execution_count": 21,
   "metadata": {
    "collapsed": false,
    "deletable": true,
    "editable": true
   },
   "outputs": [
    {
     "data": {
      "text/plain": [
       "LogisticRegression(C=1.0, class_weight=None, dual=False, fit_intercept=True,\n",
       "          intercept_scaling=1, max_iter=100, multi_class='ovr', n_jobs=1,\n",
       "          penalty='l2', random_state=None, solver='liblinear', tol=0.0001,\n",
       "          verbose=0, warm_start=False)"
      ]
     },
     "execution_count": 21,
     "metadata": {},
     "output_type": "execute_result"
    }
   ],
   "source": [
    "simple_model = linear_model.LogisticRegression()\n",
    "simple_model.fit(train_matrix,data_train['sentiment'])\n"
   ]
  },
  {
   "cell_type": "code",
   "execution_count": 36,
   "metadata": {
    "collapsed": false,
    "deletable": true,
    "editable": true
   },
   "outputs": [
    {
     "name": "stdout",
     "output_type": "stream",
     "text": [
      "       love     great      easy       old   little   perfect     loves  \\\n",
      "0  1.362158  0.926066  1.184082  0.123218  0.49935  1.515748  1.744287   \n",
      "\n",
      "       well      able       car     broke      less      even    waste  \\\n",
      "0  0.470564  0.182177  0.091737 -1.667943 -0.188437 -0.520674 -2.01268   \n",
      "\n",
      "   disappointed      work   product     money    would    return  \n",
      "0     -2.354803 -0.637185 -0.310005 -0.884779 -0.33753 -2.020611  \n"
     ]
    }
   ],
   "source": [
    "coeff = simple_model.coef_\n",
    "W = pd.DataFrame(data=coeff,columns=significant_words)\n",
    "print W\n",
    "\n"
   ]
  },
  {
   "cell_type": "markdown",
   "metadata": {},
   "source": [
    "# 10 positive, 10 negative "
   ]
  },
  {
   "cell_type": "code",
   "execution_count": 37,
   "metadata": {
    "collapsed": false
   },
   "outputs": [],
   "source": [
    "data_train['prediction'] = simple_model.predict(train_matrix)\n",
    "data_test['prediction'] = simple_model.predict(test_matrix)"
   ]
  },
  {
   "cell_type": "code",
   "execution_count": 48,
   "metadata": {
    "collapsed": false
   },
   "outputs": [],
   "source": [
    "correct_prediction_train = data_train[data_train['sentiment'] == data_train['prediction']]\n",
    "correct_prediction_test = data_test[data_test['sentiment'] == data_test['prediction']]\n"
   ]
  },
  {
   "cell_type": "code",
   "execution_count": 50,
   "metadata": {
    "collapsed": false
   },
   "outputs": [
    {
     "name": "stdout",
     "output_type": "stream",
     "text": [
      "Train accuracy simple model  0.864995744189\n",
      "Test accuract simple model 0.868681518753\n"
     ]
    }
   ],
   "source": [
    "train_acc_simple = float(len(correct_prediction_train))/len(data_train)\n",
    "test_acc_simple = float(len(correct_prediction_test))/len(data_test)\n",
    "print \"Train accuracy simple model \",train_acc_simple\n",
    "print \"Test accuract simple model\", test_acc_simple"
   ]
  },
  {
   "cell_type": "code",
   "execution_count": 55,
   "metadata": {
    "collapsed": false
   },
   "outputs": [
    {
     "name": "stdout",
     "output_type": "stream",
     "text": [
      "Majority class accuracy 0.841537290212\n"
     ]
    }
   ],
   "source": [
    "majority_class = max(len(data_test[data_test['sentiment'] == 1]),len(data_test[data_test['sentiment'] == 1]))\n",
    "majority_class_acc = float(majority_class)/len(data_test)\n",
    "print \"Majority class accuracy\", majority_class_acc"
   ]
  },
  {
   "cell_type": "code",
   "execution_count": 56,
   "metadata": {
    "collapsed": true
   },
   "outputs": [],
   "source": [
    "vectorizer_sentiments = CountVectorizer(token_pattern=r'\\b\\w+\\b')\n",
    "train_matrix_sentiments = vectorizer_sentiments.fit_transform(data_train['review_clean'].values.astype('U'))"
   ]
  },
  {
   "cell_type": "code",
   "execution_count": 58,
   "metadata": {
    "collapsed": false
   },
   "outputs": [],
   "source": [
    "test_matrix_sentiments = vectorizer_sentiments.transform(data_test['review_clean'].values.astype('U'))"
   ]
  },
  {
   "cell_type": "code",
   "execution_count": 60,
   "metadata": {
    "collapsed": false
   },
   "outputs": [
    {
     "data": {
      "text/plain": [
       "LogisticRegression(C=1.0, class_weight=None, dual=False, fit_intercept=True,\n",
       "          intercept_scaling=1, max_iter=100, multi_class='ovr', n_jobs=1,\n",
       "          penalty='l2', random_state=None, solver='liblinear', tol=0.0001,\n",
       "          verbose=0, warm_start=False)"
      ]
     },
     "execution_count": 60,
     "metadata": {},
     "output_type": "execute_result"
    }
   ],
   "source": [
    "sentiment_model= linear_model.LogisticRegression()\n",
    "sentiment_model.fit(train_matrix_sentiments,data_train['sentiment'])"
   ]
  },
  {
   "cell_type": "code",
   "execution_count": 64,
   "metadata": {
    "collapsed": false
   },
   "outputs": [
    {
     "name": "stdout",
     "output_type": "stream",
     "text": [
      "113129\n",
      "79501\n"
     ]
    }
   ],
   "source": [
    "sentiments_coeff = list(sentiment_model.coef_[0,:])\n",
    "print len(sentiments_coeff)\n",
    "count = 1\n",
    "for x in sentiments_coeff:\n",
    "    if x >= 0 :\n",
    "        count += 1\n",
    "print count"
   ]
  },
  {
   "cell_type": "markdown",
   "metadata": {},
   "source": [
    "# Non zero coeff 79501"
   ]
  },
  {
   "cell_type": "code",
   "execution_count": 72,
   "metadata": {
    "collapsed": false
   },
   "outputs": [
    {
     "data": {
      "text/plain": [
       "64    Really happy with this purchase. I was looking...\n",
       "Name: review, dtype: object"
      ]
     },
     "execution_count": 72,
     "metadata": {},
     "output_type": "execute_result"
    }
   ],
   "source": [
    "sample_test_data = data_test[10:13]\n",
    "sample_test_data['review'][0:1]"
   ]
  },
  {
   "cell_type": "code",
   "execution_count": 75,
   "metadata": {
    "collapsed": false
   },
   "outputs": [
    {
     "name": "stdout",
     "output_type": "stream",
     "text": [
      "[  9.05478641   8.13453431  10.07155764]\n"
     ]
    }
   ],
   "source": [
    "sample_test_matrix = vectorizer_sentiments.transform(sample_test_data['review'])\n",
    "scores = sentiment_model.decision_function(sample_test_matrix)\n",
    "print scores"
   ]
  },
  {
   "cell_type": "code",
   "execution_count": 79,
   "metadata": {
    "collapsed": false
   },
   "outputs": [
    {
     "name": "stdout",
     "output_type": "stream",
     "text": [
      "[1.0, 1.0, 1.0]\n"
     ]
    }
   ],
   "source": [
    "sample_prediction = [np.sign(x) for x in scores] \n",
    "print sample_prediction"
   ]
  },
  {
   "cell_type": "code",
   "execution_count": 93,
   "metadata": {
    "collapsed": false
   },
   "outputs": [],
   "source": [
    "def probability(score):\n",
    "    return 1/(1+np.exp(-score))"
   ]
  },
  {
   "cell_type": "code",
   "execution_count": 94,
   "metadata": {
    "collapsed": false
   },
   "outputs": [
    {
     "name": "stdout",
     "output_type": "stream",
     "text": [
      "[0.99988318315027835, 0.99970685039990215, 0.9999577370569166]\n"
     ]
    }
   ],
   "source": [
    "print [probability(x) for x in scores]"
   ]
  },
  {
   "cell_type": "code",
   "execution_count": 95,
   "metadata": {
    "collapsed": false
   },
   "outputs": [
    {
     "name": "stdout",
     "output_type": "stream",
     "text": [
      "[[  1.16816850e-04   9.99883183e-01]\n",
      " [  2.93149600e-04   9.99706850e-01]\n",
      " [  4.22629431e-05   9.99957737e-01]]\n"
     ]
    }
   ],
   "source": [
    "print sentiment_model.predict_proba(sample_test_matrix)"
   ]
  },
  {
   "cell_type": "code",
   "execution_count": 96,
   "metadata": {
    "collapsed": true
   },
   "outputs": [],
   "source": [
    "data_train['sentiment_prediction'] = sentiment_model.predict(train_matrix_sentiments)\n",
    "data_test['sentiments_prediction'] = sentiment_model.predict(test_matrix_sentiments)"
   ]
  },
  {
   "cell_type": "code",
   "execution_count": 104,
   "metadata": {
    "collapsed": false
   },
   "outputs": [
    {
     "name": "stdout",
     "output_type": "stream",
     "text": [
      "                                                     name  \\\n",
      "131869                     Aqueduck Faucet Extender, Pink   \n",
      "77728                     Skip Hop Bath Spout Cover, Moby   \n",
      "132697  Infantino Baby Girl Animals Twist and Fold Act...   \n",
      "32044   Ginsey Angel Baby Blanket With Halo &amp; Wing...   \n",
      "160557     Nuby 16 Piece Bath Tub Foam, Animal Characters   \n",
      "149463  Munchkin Click Lock 2 Count Flip Straw Cup, 9 ...   \n",
      "21864   North States Supergate Classic Plastic Gate Mo...   \n",
      "63257   Philips AVENT Basic Baby Monitor with DECT Tec...   \n",
      "118517      Baby Jogger City Select Single Stroller, Onyx   \n",
      "135793  Waterproof Bamboo Nursing Pads - Green Flowers...   \n",
      "46143   Kids Preferred Amazing Baby Feel and Learn - S...   \n",
      "58025   Avent SCF274 30 BPA Free Electric Steam Steril...   \n",
      "147719           Evenflo Modern 200 High Chair, Tangerine   \n",
      "67823   Fisher-Price 2-in-1 Projection Mobile, Preciou...   \n",
      "106089      Luvable Friends 6 Pack Baby Burp Cloths, Blue   \n",
      "151592     Nurtria Basic BPA Free Baby Bottle 4oz. - Blue   \n",
      "128375  Boon Water Bugs Floating Bath Toys with Net,Or...   \n",
      "67935                  Bearington Baby - Luxe Leopard Bib   \n",
      "120343              Munchkin Easy-Close Metal Gate, White   \n",
      "68850                     Munchkin Bobble Bee Suction Toy   \n",
      "57133   Adiri BPA Free Natural Nurser Ultimate Bottle ...   \n",
      "100040     Summer Infant Elite DuoMat for Car Seat, Black   \n",
      "26008       Munchkin Deluxe Bottle Brush, Colors May Vary   \n",
      "163326             Hudson Baby Multi-Fabric Blanket, Pink   \n",
      "142519  Graco Pack 'n Play Playard with Cuddle Cove Ro...   \n",
      "93558   Amber Alert My Child ID Information Storage De...   \n",
      "125012  Baby Jogger 81268KIT2 2011 City Select Strolle...   \n",
      "82581   The Safe Sippy 2 2-in-1 Sippy to Straw Bottle,...   \n",
      "75238                               NoJo Jungle Tales Rug   \n",
      "77867                     Skip Hop Bath Spout Cover, Moby   \n",
      "...                                                   ...   \n",
      "113929        ERGObaby Organic Baby Carrier, Desert Bloom   \n",
      "22625                    Tiny LoveDVD MagIQ - Dot the Cow   \n",
      "20909                               Boppy Newborn Lounger   \n",
      "147275               BRICA Super Scoop Bath Toy Organizer   \n",
      "30206                              Cheeky Monkey Pac Back   \n",
      "11853                         Gossamer Wings Switch Plate   \n",
      "2149                     Philips Avent 3 Pack 9oz Bottles   \n",
      "42109              Kathe Kruse Waldorf Gugguli Doll, Pink   \n",
      "82491   The First Years Meal Mates Toddler Suction Bow...   \n",
      "164944                              The Diaper One N Done   \n",
      "101479                     OXO Tot Jar Opener, Greenwhite   \n",
      "156807       Babys First Christmas 2012 Hallmark Ornament   \n",
      "106798                   Munchkin Stroller Netting, White   \n",
      "154727  Disney Jake and the Neverland Pirates 4 Piece ...   \n",
      "64246   Mud Pie Baby Perfectly Princess Giant Ceramic ...   \n",
      "97479                             Woodland Musical Mobile   \n",
      "140140  Kidsme Food Feeder Replacement Sac (Large size...   \n",
      "37795                         Kathe Kruse Puppe Doll, Boy   \n",
      "33953   Fisher-Price Papasan Cradle Swing, Butterfly G...   \n",
      "166423  Pacifier - Wubbanub Infant Plush Pacifier - Tu...   \n",
      "136043  Kushies Deluxe Flannel Change Pad, Yellow with...   \n",
      "84809                               Sassy Look Photo Book   \n",
      "80217   Simple Wishes Hands-Free Breastpump Bra, Pink,...   \n",
      "68880   Starting Small Monkey Novelty Hamper in Brown,...   \n",
      "128071  Prince Lionheart bebePOD Flex Plus Baby Seat, ...   \n",
      "5686      Leachco Safer Bather Infant Bath Pad, Blue Fish   \n",
      "79149            Beaba Multiportion Freezer Tray - Orange   \n",
      "155258  VTech Communications Safe &amp; Sounds Full Co...   \n",
      "19281          Tiny Steps 2-in-1 Walker With Mini Maestro   \n",
      "63741   Carters Easy Fit Jersey Bassinet Fitted Sheet,...   \n",
      "\n",
      "                                                   review  rating  \\\n",
      "131869  Our daughter is beginning the potty training p...     5.0   \n",
      "77728   This is perfect for the tub, it's simple, cute...     5.0   \n",
      "132697  Love the mat but the mirror is pretty crappy, ...     4.0   \n",
      "32044   My new great-granddaughter looks like she's wr...     5.0   \n",
      "160557  For the price I was expecting these to be like...     5.0   \n",
      "149463  I was expecting better results from this. Id b...     2.0   \n",
      "21864   Perfect gate for keeping two dogs out of the l...     5.0   \n",
      "63257   if you set the sensitivity and volume properly...     5.0   \n",
      "118517  Awesome stroller for two kids. We have a newbo...     5.0   \n",
      "135793  Ideally I'd give this three and a half stars. ...     4.0   \n",
      "46143   There are many pluses to this book:  size, col...     4.0   \n",
      "58025   THIS IS EN EXCELLENT PRODUCT IT DOES MY LIFE E...     5.0   \n",
      "147719  My Baby looks very comfortable. The Color is b...     5.0   \n",
      "67823   Our 4 month old likes to be rocked to sleep.Wh...     5.0   \n",
      "106089  I got this for my sister's baby shower and she...     4.0   \n",
      "151592  I give these bottles to a crisis pregnancy cen...     5.0   \n",
      "128375  Our 8 month old loves biting on the &#34;spide...     5.0   \n",
      "67935   The high quality faux fur looks so real!  Very...     5.0   \n",
      "120343  We originally got one of these to keep the dog...     5.0   \n",
      "68850   I got this for my new little grandson !! he st...     4.0   \n",
      "57133   This is perfect for babies that don't take the...     5.0   \n",
      "100040  This does as advertised. It protects my seat f...     5.0   \n",
      "26008   I have tried several bottle brushes and like t...     5.0   \n",
      "163326  This blanket is ultra soft .. It has a smooth ...     4.0   \n",
      "142519  Really a lovely piece. The print is so chic. I...     5.0   \n",
      "93558   I have been trying for 2 days now and I can't ...     1.0   \n",
      "125012  Had the baby jogger by city mini, and lopved i...     5.0   \n",
      "82581   Believe me when I say, I researched sippies! I...     5.0   \n",
      "75238   I love the whole nojo bedding set that I purch...     5.0   \n",
      "77867   I love this spout cover! Not only is it adorab...     5.0   \n",
      "...                                                   ...     ...   \n",
      "113929  Best baby carrier! I recieved as a baby shower...     5.0   \n",
      "22625   My wife and I received this as a gift for our ...     1.0   \n",
      "20909   I wish I had this with my first son. Our baby ...     5.0   \n",
      "147275  This was a Christmas gift for my 11 month old ...     5.0   \n",
      "30206   It worked for a handful of trips. Getting it's...     2.0   \n",
      "11853   This is a very cute yet subtle addition to the...     4.0   \n",
      "2149    I purchased these bottles after hearing how wo...     1.0   \n",
      "42109   Well made, adorable, nice size for a baby.  I ...     4.0   \n",
      "82491   If it didnt cost me as much to return this thi...     1.0   \n",
      "164944  A Simple, Easy, Clean way to deal with every d...     5.0   \n",
      "101479  This thing is pure junk. When you try to open ...     1.0   \n",
      "156807  beautiful, timeless, sadly by the time you rea...     5.0   \n",
      "106798  this is a wonderful product for walks in the p...     5.0   \n",
      "154727  My son loves Jake and this was the best gift f...     5.0   \n",
      "64246   This is a huge bank. It's much bigger than I e...     5.0   \n",
      "97479   The only thing that is a con is the pre-knotte...     5.0   \n",
      "140140  We first purchased different feeders with a wi...     5.0   \n",
      "37795   I bought this for my baby to snuggle with whil...     4.0   \n",
      "33953   Just wish it was as perfectly quiet as the fis...     4.0   \n",
      "166423  My daughter loves these binkies. They are grea...     5.0   \n",
      "136043  This flannel changing pad met all of my needs ...     4.0   \n",
      "84809   I had this photo book for my son who is now 7 ...     5.0   \n",
      "80217   I have a very stresful job in which my scheudl...     4.0   \n",
      "68880   This basket isn't as big as some but it sure i...     5.0   \n",
      "128071  I love this handy little seat. My son likes th...     5.0   \n",
      "5686    I absolutely love this product...it is the bes...     4.0   \n",
      "79149   This item is good easy to clean. But the fact ...     4.0   \n",
      "155258  This unit has been a pain since day one.  I wa...     1.0   \n",
      "19281   My son is 7 months old and he loves his new wa...     5.0   \n",
      "63741   I actually bought it for my granddaughter's. A...     5.0   \n",
      "\n",
      "                                             review_clean  sentiment  \\\n",
      "131869  Our daughter is beginning the potty training p...        1.0   \n",
      "77728   This is perfect for the tub its simple cute an...        1.0   \n",
      "132697  Love the mat but the mirror is pretty crappy s...        1.0   \n",
      "32044   My new greatgranddaughter looks like shes wrap...        1.0   \n",
      "160557  For the price I was expecting these to be like...        1.0   \n",
      "149463  I was expecting better results from this Id be...       -1.0   \n",
      "21864   Perfect gate for keeping two dogs out of the l...        1.0   \n",
      "63257   if you set the sensitivity and volume properly...        1.0   \n",
      "118517  Awesome stroller for two kids We have a newbor...        1.0   \n",
      "135793  Ideally Id give this three and a half stars It...        1.0   \n",
      "46143   There are many pluses to this book  size color...        1.0   \n",
      "58025   THIS IS EN EXCELLENT PRODUCT IT DOES MY LIFE E...        1.0   \n",
      "147719  My Baby looks very comfortable The Color is be...        1.0   \n",
      "67823   Our 4 month old likes to be rocked to sleepWhe...        1.0   \n",
      "106089  I got this for my sisters baby shower and she ...        1.0   \n",
      "151592  I give these bottles to a crisis pregnancy cen...        1.0   \n",
      "128375  Our 8 month old loves biting on the 34spiders3...        1.0   \n",
      "67935   The high quality faux fur looks so real  Very ...        1.0   \n",
      "120343  We originally got one of these to keep the dog...        1.0   \n",
      "68850   I got this for my new little grandson  he stil...        1.0   \n",
      "57133   This is perfect for babies that dont take the ...        1.0   \n",
      "100040  This does as advertised It protects my seat fr...        1.0   \n",
      "26008   I have tried several bottle brushes and like t...        1.0   \n",
      "163326  This blanket is ultra soft  It has a smooth fe...        1.0   \n",
      "142519  Really a lovely piece The print is so chic I h...        1.0   \n",
      "93558   I have been trying for 2 days now and I cant u...       -1.0   \n",
      "125012  Had the baby jogger by city mini and lopved it...        1.0   \n",
      "82581   Believe me when I say I researched sippies I l...        1.0   \n",
      "75238   I love the whole nojo bedding set that I purch...        1.0   \n",
      "77867   I love this spout cover Not only is it adorabl...        1.0   \n",
      "...                                                   ...        ...   \n",
      "113929  Best baby carrier I recieved as a baby shower ...        1.0   \n",
      "22625   My wife and I received this as a gift for our ...       -1.0   \n",
      "20909   I wish I had this with my first son Our baby i...        1.0   \n",
      "147275  This was a Christmas gift for my 11 month old ...        1.0   \n",
      "30206   It worked for a handful of trips Getting its f...       -1.0   \n",
      "11853   This is a very cute yet subtle addition to the...        1.0   \n",
      "2149    I purchased these bottles after hearing how wo...       -1.0   \n",
      "42109   Well made adorable nice size for a baby  I wan...        1.0   \n",
      "82491   If it didnt cost me as much to return this thi...       -1.0   \n",
      "164944  A Simple Easy Clean way to deal with every dia...        1.0   \n",
      "101479  This thing is pure junk When you try to open a...       -1.0   \n",
      "156807  beautiful timeless sadly by the time you read ...        1.0   \n",
      "106798  this is a wonderful product for walks in the p...        1.0   \n",
      "154727  My son loves Jake and this was the best gift f...        1.0   \n",
      "64246   This is a huge bank Its much bigger than I exp...        1.0   \n",
      "97479   The only thing that is a con is the preknotted...        1.0   \n",
      "140140  We first purchased different feeders with a wi...        1.0   \n",
      "37795   I bought this for my baby to snuggle with whil...        1.0   \n",
      "33953   Just wish it was as perfectly quiet as the fis...        1.0   \n",
      "166423  My daughter loves these binkies They are great...        1.0   \n",
      "136043  This flannel changing pad met all of my needs ...        1.0   \n",
      "84809   I had this photo book for my son who is now 7 ...        1.0   \n",
      "80217   I have a very stresful job in which my scheudl...        1.0   \n",
      "68880   This basket isnt as big as some but it sure is...        1.0   \n",
      "128071  I love this handy little seat My son likes the...        1.0   \n",
      "5686    I absolutely love this productit is the best o...        1.0   \n",
      "79149   This item is good easy to clean But the fact t...        1.0   \n",
      "155258  This unit has been a pain since day one  I was...       -1.0   \n",
      "19281   My son is 7 months old and he loves his new wa...        1.0   \n",
      "63741   I actually bought it for my granddaughters Acc...        1.0   \n",
      "\n",
      "        prediction  sentiments_prediction  sentiments_probability  \n",
      "131869         1.0                    1.0                0.973008  \n",
      "77728          1.0                    1.0                0.877448  \n",
      "132697         1.0                    1.0                0.993271  \n",
      "32044          1.0                    1.0                0.995402  \n",
      "160557         1.0                    1.0                0.995797  \n",
      "149463        -1.0                   -1.0                0.891760  \n",
      "21864          1.0                    1.0                0.999985  \n",
      "63257          1.0                    1.0                0.999917  \n",
      "118517         1.0                    1.0                0.881263  \n",
      "135793         1.0                    1.0                0.049986  \n",
      "46143          1.0                    1.0                0.999913  \n",
      "58025          1.0                    1.0                0.999314  \n",
      "147719         1.0                    1.0                0.999974  \n",
      "67823          1.0                    1.0                0.993437  \n",
      "106089         1.0                    1.0                0.980870  \n",
      "151592         1.0                    1.0                0.990745  \n",
      "128375         1.0                    1.0                0.994974  \n",
      "67935          1.0                    1.0                0.957104  \n",
      "120343         1.0                    1.0                0.853745  \n",
      "68850          1.0                    1.0                0.999999  \n",
      "57133          1.0                    1.0                0.080719  \n",
      "100040         1.0                    1.0                0.999968  \n",
      "26008          1.0                    1.0                0.993334  \n",
      "163326         1.0                    1.0                0.911648  \n",
      "142519         1.0                    1.0                0.999794  \n",
      "93558          1.0                   -1.0                1.000000  \n",
      "125012         1.0                    1.0                0.999969  \n",
      "82581          1.0                    1.0                0.997925  \n",
      "75238          1.0                    1.0                0.999999  \n",
      "77867          1.0                    1.0                0.999914  \n",
      "...            ...                    ...                     ...  \n",
      "113929         1.0                    1.0                1.000000  \n",
      "22625          1.0                   -1.0                0.998327  \n",
      "20909          1.0                    1.0                0.000050  \n",
      "147275         1.0                    1.0                0.989224  \n",
      "30206         -1.0                   -1.0                0.984691  \n",
      "11853          1.0                    1.0                0.960861  \n",
      "2149           1.0                   -1.0                0.977576  \n",
      "42109          1.0                    1.0                0.988425  \n",
      "82491         -1.0                   -1.0                0.999746  \n",
      "164944         1.0                    1.0                0.536100  \n",
      "101479        -1.0                   -1.0                0.997051  \n",
      "156807         1.0                    1.0                0.998080  \n",
      "106798         1.0                    1.0                0.913314  \n",
      "154727         1.0                    1.0                0.999952  \n",
      "64246          1.0                    1.0                0.235851  \n",
      "97479          1.0                    1.0                0.986733  \n",
      "140140         1.0                    1.0                0.997928  \n",
      "37795          1.0                    1.0                0.999376  \n",
      "33953          1.0                    1.0                0.999802  \n",
      "166423         1.0                    1.0                0.952280  \n",
      "136043         1.0                    1.0                0.994165  \n",
      "84809          1.0                    1.0                0.996411  \n",
      "80217          1.0                    1.0                0.316113  \n",
      "68880          1.0                    1.0                0.989700  \n",
      "128071         1.0                    1.0                0.949263  \n",
      "5686           1.0                    1.0                0.998582  \n",
      "79149          1.0                    1.0                0.995043  \n",
      "155258         1.0                   -1.0                0.617824  \n",
      "19281          1.0                    1.0                0.349328  \n",
      "63741          1.0                    1.0                0.978076  \n",
      "\n",
      "[30209 rows x 8 columns]\n"
     ]
    },
    {
     "name": "stderr",
     "output_type": "stream",
     "text": [
      "/home/om/gl-env/lib/python2.7/site-packages/ipykernel/__main__.py:3: FutureWarning: sort(columns=....) is deprecated, use sort_values(by=.....)\n",
      "  app.launch_new_instance()\n"
     ]
    },
    {
     "data": {
      "text/html": [
       "<div>\n",
       "<table border=\"1\" class=\"dataframe\">\n",
       "  <thead>\n",
       "    <tr style=\"text-align: right;\">\n",
       "      <th></th>\n",
       "      <th>name</th>\n",
       "      <th>review</th>\n",
       "      <th>rating</th>\n",
       "      <th>review_clean</th>\n",
       "      <th>sentiment</th>\n",
       "      <th>prediction</th>\n",
       "      <th>sentiments_prediction</th>\n",
       "      <th>sentiments_probability</th>\n",
       "    </tr>\n",
       "  </thead>\n",
       "  <tbody>\n",
       "    <tr>\n",
       "      <th>123940</th>\n",
       "      <td>Lifenest Sleep System</td>\n",
       "      <td>I know 2 babies who improved their flat heads ...</td>\n",
       "      <td>5.0</td>\n",
       "      <td>I know 2 babies who improved their flat heads ...</td>\n",
       "      <td>1.0</td>\n",
       "      <td>1.0</td>\n",
       "      <td>1.0</td>\n",
       "      <td>1.0</td>\n",
       "    </tr>\n",
       "    <tr>\n",
       "      <th>31459</th>\n",
       "      <td>Cosco High Back Booster Car Seat</td>\n",
       "      <td>I am by no means a brand snob, so when I wante...</td>\n",
       "      <td>4.0</td>\n",
       "      <td>I am by no means a brand snob so when I wanted...</td>\n",
       "      <td>1.0</td>\n",
       "      <td>1.0</td>\n",
       "      <td>1.0</td>\n",
       "      <td>1.0</td>\n",
       "    </tr>\n",
       "    <tr>\n",
       "      <th>30724</th>\n",
       "      <td>Baby Buddy: Baby's 1st Toothbrush</td>\n",
       "      <td>This is a perfect 1st toothbrush. My LO loves ...</td>\n",
       "      <td>5.0</td>\n",
       "      <td>This is a perfect 1st toothbrush My LO loves t...</td>\n",
       "      <td>1.0</td>\n",
       "      <td>1.0</td>\n",
       "      <td>1.0</td>\n",
       "      <td>1.0</td>\n",
       "    </tr>\n",
       "    <tr>\n",
       "      <th>37377</th>\n",
       "      <td>Inglesina Zippy Stroller Sabbia</td>\n",
       "      <td>I'm always looking for excuses to use mine! Do...</td>\n",
       "      <td>5.0</td>\n",
       "      <td>Im always looking for excuses to use mine Down...</td>\n",
       "      <td>1.0</td>\n",
       "      <td>1.0</td>\n",
       "      <td>1.0</td>\n",
       "      <td>1.0</td>\n",
       "    </tr>\n",
       "    <tr>\n",
       "      <th>130374</th>\n",
       "      <td>Evenflo Bounce and Learn Bee Exersaucer</td>\n",
       "      <td>Such a cute excersaucer. I looked around for a...</td>\n",
       "      <td>5.0</td>\n",
       "      <td>Such a cute excersaucer I looked around for aw...</td>\n",
       "      <td>1.0</td>\n",
       "      <td>1.0</td>\n",
       "      <td>1.0</td>\n",
       "      <td>1.0</td>\n",
       "    </tr>\n",
       "    <tr>\n",
       "      <th>33110</th>\n",
       "      <td>Lamaze Play &amp;amp; Grow Mortimer the Moose Take...</td>\n",
       "      <td>It's a great teether and is cuddly and holds m...</td>\n",
       "      <td>5.0</td>\n",
       "      <td>Its a great teether and is cuddly and holds my...</td>\n",
       "      <td>1.0</td>\n",
       "      <td>1.0</td>\n",
       "      <td>1.0</td>\n",
       "      <td>1.0</td>\n",
       "    </tr>\n",
       "    <tr>\n",
       "      <th>79822</th>\n",
       "      <td>Simple Wishes Hands-Free Breastpump Bra, Pink,...</td>\n",
       "      <td>This is sooo wonderful. I can now do something...</td>\n",
       "      <td>5.0</td>\n",
       "      <td>This is sooo wonderful I can now do something ...</td>\n",
       "      <td>1.0</td>\n",
       "      <td>1.0</td>\n",
       "      <td>1.0</td>\n",
       "      <td>1.0</td>\n",
       "    </tr>\n",
       "    <tr>\n",
       "      <th>60407</th>\n",
       "      <td>Balboa Baby Dr. Sears Adjustable Sling, Blue P...</td>\n",
       "      <td>Have not used it yet bc I have not given birth...</td>\n",
       "      <td>5.0</td>\n",
       "      <td>Have not used it yet bc I have not given birth...</td>\n",
       "      <td>1.0</td>\n",
       "      <td>1.0</td>\n",
       "      <td>1.0</td>\n",
       "      <td>1.0</td>\n",
       "    </tr>\n",
       "    <tr>\n",
       "      <th>68730</th>\n",
       "      <td>UPPAbaby G-Luxe Stroller, Black Jake</td>\n",
       "      <td>Ok Moms- The lite weight stroller we bought is...</td>\n",
       "      <td>5.0</td>\n",
       "      <td>Ok Moms The lite weight stroller we bought is ...</td>\n",
       "      <td>1.0</td>\n",
       "      <td>1.0</td>\n",
       "      <td>1.0</td>\n",
       "      <td>1.0</td>\n",
       "    </tr>\n",
       "    <tr>\n",
       "      <th>135008</th>\n",
       "      <td>Infant Optics DXR-5 2.4 GHz Digital Video Baby...</td>\n",
       "      <td>We bought this baby monitor a little under 1 y...</td>\n",
       "      <td>5.0</td>\n",
       "      <td>We bought this baby monitor a little under 1 y...</td>\n",
       "      <td>1.0</td>\n",
       "      <td>1.0</td>\n",
       "      <td>1.0</td>\n",
       "      <td>1.0</td>\n",
       "    </tr>\n",
       "    <tr>\n",
       "      <th>146186</th>\n",
       "      <td>Danzo Diaper Canvas Tote Bag, Deep Ocean</td>\n",
       "      <td>If you're a person who likes making lists and ...</td>\n",
       "      <td>5.0</td>\n",
       "      <td>If youre a person who likes making lists and s...</td>\n",
       "      <td>1.0</td>\n",
       "      <td>1.0</td>\n",
       "      <td>1.0</td>\n",
       "      <td>1.0</td>\n",
       "    </tr>\n",
       "    <tr>\n",
       "      <th>148841</th>\n",
       "      <td>Boppy Travel Pillow, Mama Dot/Basket Green</td>\n",
       "      <td>Great and practical pillow when you are out an...</td>\n",
       "      <td>5.0</td>\n",
       "      <td>Great and practical pillow when you are out an...</td>\n",
       "      <td>1.0</td>\n",
       "      <td>1.0</td>\n",
       "      <td>1.0</td>\n",
       "      <td>1.0</td>\n",
       "    </tr>\n",
       "    <tr>\n",
       "      <th>6855</th>\n",
       "      <td>Leachco Snoogle Total Body Pillow</td>\n",
       "      <td>I was in need of ANYTHING that would help my s...</td>\n",
       "      <td>5.0</td>\n",
       "      <td>I was in need of ANYTHING that would help my s...</td>\n",
       "      <td>1.0</td>\n",
       "      <td>1.0</td>\n",
       "      <td>1.0</td>\n",
       "      <td>1.0</td>\n",
       "    </tr>\n",
       "    <tr>\n",
       "      <th>46812</th>\n",
       "      <td>Maxi-Cosi Infant Car Seat Bug Shield</td>\n",
       "      <td>This car seat net is very good. The material i...</td>\n",
       "      <td>4.0</td>\n",
       "      <td>This car seat net is very good The material is...</td>\n",
       "      <td>1.0</td>\n",
       "      <td>1.0</td>\n",
       "      <td>1.0</td>\n",
       "      <td>1.0</td>\n",
       "    </tr>\n",
       "    <tr>\n",
       "      <th>14020</th>\n",
       "      <td>Stork Craft Beatrice 5 Drawer Chest, White</td>\n",
       "      <td>Given all of the OVERWHELMINGLY negative revie...</td>\n",
       "      <td>5.0</td>\n",
       "      <td>Given all of the OVERWHELMINGLY negative revie...</td>\n",
       "      <td>1.0</td>\n",
       "      <td>-1.0</td>\n",
       "      <td>1.0</td>\n",
       "      <td>1.0</td>\n",
       "    </tr>\n",
       "    <tr>\n",
       "      <th>2559</th>\n",
       "      <td>Prince Lionheart Stroller Connectors</td>\n",
       "      <td>do not waste your moneyi got it and i tried wi...</td>\n",
       "      <td>1.0</td>\n",
       "      <td>do not waste your moneyi got it and i tried wi...</td>\n",
       "      <td>-1.0</td>\n",
       "      <td>-1.0</td>\n",
       "      <td>-1.0</td>\n",
       "      <td>1.0</td>\n",
       "    </tr>\n",
       "    <tr>\n",
       "      <th>59986</th>\n",
       "      <td>JJ Cole Original Infant Bundleme, Apple, Infant</td>\n",
       "      <td>Just what I wanted. These are a great item. I ...</td>\n",
       "      <td>5.0</td>\n",
       "      <td>Just what I wanted These are a great item I ha...</td>\n",
       "      <td>1.0</td>\n",
       "      <td>1.0</td>\n",
       "      <td>1.0</td>\n",
       "      <td>1.0</td>\n",
       "    </tr>\n",
       "    <tr>\n",
       "      <th>79498</th>\n",
       "      <td>Fisher-Price Ocean Wonders Projector Soother</td>\n",
       "      <td>My family received this toy as a baby shower g...</td>\n",
       "      <td>5.0</td>\n",
       "      <td>My family received this toy as a baby shower g...</td>\n",
       "      <td>1.0</td>\n",
       "      <td>1.0</td>\n",
       "      <td>1.0</td>\n",
       "      <td>1.0</td>\n",
       "    </tr>\n",
       "    <tr>\n",
       "      <th>27780</th>\n",
       "      <td>Learning Curve Disney Pooh Teething Beads</td>\n",
       "      <td>I found this on sale for $2 when I bought it. ...</td>\n",
       "      <td>5.0</td>\n",
       "      <td>I found this on sale for 2 when I bought it Be...</td>\n",
       "      <td>1.0</td>\n",
       "      <td>1.0</td>\n",
       "      <td>-1.0</td>\n",
       "      <td>1.0</td>\n",
       "    </tr>\n",
       "    <tr>\n",
       "      <th>137736</th>\n",
       "      <td>Infantino Sash Mei Tai Carrier Black/Gray</td>\n",
       "      <td>I bought one of these to try out because of th...</td>\n",
       "      <td>4.0</td>\n",
       "      <td>I bought one of these to try out because of th...</td>\n",
       "      <td>1.0</td>\n",
       "      <td>1.0</td>\n",
       "      <td>1.0</td>\n",
       "      <td>1.0</td>\n",
       "    </tr>\n",
       "  </tbody>\n",
       "</table>\n",
       "</div>"
      ],
      "text/plain": [
       "                                                     name  \\\n",
       "123940                              Lifenest Sleep System   \n",
       "31459                    Cosco High Back Booster Car Seat   \n",
       "30724                   Baby Buddy: Baby's 1st Toothbrush   \n",
       "37377                     Inglesina Zippy Stroller Sabbia   \n",
       "130374            Evenflo Bounce and Learn Bee Exersaucer   \n",
       "33110   Lamaze Play &amp; Grow Mortimer the Moose Take...   \n",
       "79822   Simple Wishes Hands-Free Breastpump Bra, Pink,...   \n",
       "60407   Balboa Baby Dr. Sears Adjustable Sling, Blue P...   \n",
       "68730                UPPAbaby G-Luxe Stroller, Black Jake   \n",
       "135008  Infant Optics DXR-5 2.4 GHz Digital Video Baby...   \n",
       "146186           Danzo Diaper Canvas Tote Bag, Deep Ocean   \n",
       "148841         Boppy Travel Pillow, Mama Dot/Basket Green   \n",
       "6855                    Leachco Snoogle Total Body Pillow   \n",
       "46812                Maxi-Cosi Infant Car Seat Bug Shield   \n",
       "14020          Stork Craft Beatrice 5 Drawer Chest, White   \n",
       "2559                 Prince Lionheart Stroller Connectors   \n",
       "59986     JJ Cole Original Infant Bundleme, Apple, Infant   \n",
       "79498        Fisher-Price Ocean Wonders Projector Soother   \n",
       "27780           Learning Curve Disney Pooh Teething Beads   \n",
       "137736          Infantino Sash Mei Tai Carrier Black/Gray   \n",
       "\n",
       "                                                   review  rating  \\\n",
       "123940  I know 2 babies who improved their flat heads ...     5.0   \n",
       "31459   I am by no means a brand snob, so when I wante...     4.0   \n",
       "30724   This is a perfect 1st toothbrush. My LO loves ...     5.0   \n",
       "37377   I'm always looking for excuses to use mine! Do...     5.0   \n",
       "130374  Such a cute excersaucer. I looked around for a...     5.0   \n",
       "33110   It's a great teether and is cuddly and holds m...     5.0   \n",
       "79822   This is sooo wonderful. I can now do something...     5.0   \n",
       "60407   Have not used it yet bc I have not given birth...     5.0   \n",
       "68730   Ok Moms- The lite weight stroller we bought is...     5.0   \n",
       "135008  We bought this baby monitor a little under 1 y...     5.0   \n",
       "146186  If you're a person who likes making lists and ...     5.0   \n",
       "148841  Great and practical pillow when you are out an...     5.0   \n",
       "6855    I was in need of ANYTHING that would help my s...     5.0   \n",
       "46812   This car seat net is very good. The material i...     4.0   \n",
       "14020   Given all of the OVERWHELMINGLY negative revie...     5.0   \n",
       "2559    do not waste your moneyi got it and i tried wi...     1.0   \n",
       "59986   Just what I wanted. These are a great item. I ...     5.0   \n",
       "79498   My family received this toy as a baby shower g...     5.0   \n",
       "27780   I found this on sale for $2 when I bought it. ...     5.0   \n",
       "137736  I bought one of these to try out because of th...     4.0   \n",
       "\n",
       "                                             review_clean  sentiment  \\\n",
       "123940  I know 2 babies who improved their flat heads ...        1.0   \n",
       "31459   I am by no means a brand snob so when I wanted...        1.0   \n",
       "30724   This is a perfect 1st toothbrush My LO loves t...        1.0   \n",
       "37377   Im always looking for excuses to use mine Down...        1.0   \n",
       "130374  Such a cute excersaucer I looked around for aw...        1.0   \n",
       "33110   Its a great teether and is cuddly and holds my...        1.0   \n",
       "79822   This is sooo wonderful I can now do something ...        1.0   \n",
       "60407   Have not used it yet bc I have not given birth...        1.0   \n",
       "68730   Ok Moms The lite weight stroller we bought is ...        1.0   \n",
       "135008  We bought this baby monitor a little under 1 y...        1.0   \n",
       "146186  If youre a person who likes making lists and s...        1.0   \n",
       "148841  Great and practical pillow when you are out an...        1.0   \n",
       "6855    I was in need of ANYTHING that would help my s...        1.0   \n",
       "46812   This car seat net is very good The material is...        1.0   \n",
       "14020   Given all of the OVERWHELMINGLY negative revie...        1.0   \n",
       "2559    do not waste your moneyi got it and i tried wi...       -1.0   \n",
       "59986   Just what I wanted These are a great item I ha...        1.0   \n",
       "79498   My family received this toy as a baby shower g...        1.0   \n",
       "27780   I found this on sale for 2 when I bought it Be...        1.0   \n",
       "137736  I bought one of these to try out because of th...        1.0   \n",
       "\n",
       "        prediction  sentiments_prediction  sentiments_probability  \n",
       "123940         1.0                    1.0                     1.0  \n",
       "31459          1.0                    1.0                     1.0  \n",
       "30724          1.0                    1.0                     1.0  \n",
       "37377          1.0                    1.0                     1.0  \n",
       "130374         1.0                    1.0                     1.0  \n",
       "33110          1.0                    1.0                     1.0  \n",
       "79822          1.0                    1.0                     1.0  \n",
       "60407          1.0                    1.0                     1.0  \n",
       "68730          1.0                    1.0                     1.0  \n",
       "135008         1.0                    1.0                     1.0  \n",
       "146186         1.0                    1.0                     1.0  \n",
       "148841         1.0                    1.0                     1.0  \n",
       "6855           1.0                    1.0                     1.0  \n",
       "46812          1.0                    1.0                     1.0  \n",
       "14020         -1.0                    1.0                     1.0  \n",
       "2559          -1.0                   -1.0                     1.0  \n",
       "59986          1.0                    1.0                     1.0  \n",
       "79498          1.0                    1.0                     1.0  \n",
       "27780          1.0                   -1.0                     1.0  \n",
       "137736         1.0                    1.0                     1.0  "
      ]
     },
     "execution_count": 104,
     "metadata": {},
     "output_type": "execute_result"
    }
   ],
   "source": [
    "data_test['sentiments_probability'] = sentiment_model.predict_proba(test_matrix_sentiments)[:,1]\n",
    "print data_test\n",
    "data_test = data_test.sort(columns=['sentiments_probability'])\n",
    "data_test[-20:]"
   ]
  },
  {
   "cell_type": "code",
   "execution_count": 105,
   "metadata": {
    "collapsed": false
   },
   "outputs": [
    {
     "data": {
      "text/html": [
       "<div>\n",
       "<table border=\"1\" class=\"dataframe\">\n",
       "  <thead>\n",
       "    <tr style=\"text-align: right;\">\n",
       "      <th></th>\n",
       "      <th>name</th>\n",
       "      <th>review</th>\n",
       "      <th>rating</th>\n",
       "      <th>review_clean</th>\n",
       "      <th>sentiment</th>\n",
       "      <th>prediction</th>\n",
       "      <th>sentiments_prediction</th>\n",
       "      <th>sentiments_probability</th>\n",
       "    </tr>\n",
       "  </thead>\n",
       "  <tbody>\n",
       "    <tr>\n",
       "      <th>164336</th>\n",
       "      <td>Modern Littles Bold Folding Laundry Basket, So...</td>\n",
       "      <td>This awesome &amp; durable Laundry bin is perfect ...</td>\n",
       "      <td>5.0</td>\n",
       "      <td>This awesome  durable Laundry bin is perfect f...</td>\n",
       "      <td>1.0</td>\n",
       "      <td>1.0</td>\n",
       "      <td>1.0</td>\n",
       "      <td>4.324334e-21</td>\n",
       "    </tr>\n",
       "    <tr>\n",
       "      <th>36012</th>\n",
       "      <td>Manhattan Toy Snuggle Pod, Peanut</td>\n",
       "      <td>This item is super cute, soft, and seems well ...</td>\n",
       "      <td>4.0</td>\n",
       "      <td>This item is super cute soft and seems well ma...</td>\n",
       "      <td>1.0</td>\n",
       "      <td>1.0</td>\n",
       "      <td>1.0</td>\n",
       "      <td>9.922759e-18</td>\n",
       "    </tr>\n",
       "    <tr>\n",
       "      <th>127392</th>\n",
       "      <td>North American Bear 12&amp;quot; Velveteenie Circu...</td>\n",
       "      <td>Excellent gift for a newborn. Super soft, no l...</td>\n",
       "      <td>5.0</td>\n",
       "      <td>Excellent gift for a newborn Super soft no loo...</td>\n",
       "      <td>1.0</td>\n",
       "      <td>1.0</td>\n",
       "      <td>1.0</td>\n",
       "      <td>7.453433e-17</td>\n",
       "    </tr>\n",
       "    <tr>\n",
       "      <th>16416</th>\n",
       "      <td>BABYBJ&amp;Ouml;RN Active Carrier - Black</td>\n",
       "      <td>We used this carrier until our baby was 8.5 mo...</td>\n",
       "      <td>5.0</td>\n",
       "      <td>We used this carrier until our baby was 85 mon...</td>\n",
       "      <td>1.0</td>\n",
       "      <td>1.0</td>\n",
       "      <td>1.0</td>\n",
       "      <td>1.910418e-15</td>\n",
       "    </tr>\n",
       "    <tr>\n",
       "      <th>115710</th>\n",
       "      <td>Safety 1st Alpha Omega Elite Convertible Car S...</td>\n",
       "      <td>This car seat is so safe and so comfortable, a...</td>\n",
       "      <td>5.0</td>\n",
       "      <td>This car seat is so safe and so comfortable an...</td>\n",
       "      <td>1.0</td>\n",
       "      <td>1.0</td>\n",
       "      <td>1.0</td>\n",
       "      <td>1.098422e-13</td>\n",
       "    </tr>\n",
       "    <tr>\n",
       "      <th>93372</th>\n",
       "      <td>Lamaze Early Development Toy, Captain Calamari</td>\n",
       "      <td>This is the perfect toy design! The legs are s...</td>\n",
       "      <td>5.0</td>\n",
       "      <td>This is the perfect toy design The legs are si...</td>\n",
       "      <td>1.0</td>\n",
       "      <td>1.0</td>\n",
       "      <td>1.0</td>\n",
       "      <td>1.735050e-12</td>\n",
       "    </tr>\n",
       "    <tr>\n",
       "      <th>81243</th>\n",
       "      <td>SheetWorld - Baby Pillow Case - Percale Pillow...</td>\n",
       "      <td>I'm pretty sure this pillow case says it is 10...</td>\n",
       "      <td>4.0</td>\n",
       "      <td>Im pretty sure this pillow case says it is 100...</td>\n",
       "      <td>1.0</td>\n",
       "      <td>1.0</td>\n",
       "      <td>-1.0</td>\n",
       "      <td>3.242297e-12</td>\n",
       "    </tr>\n",
       "    <tr>\n",
       "      <th>75327</th>\n",
       "      <td>Munchkin Jelly Bean Reversible Sling, Champagn...</td>\n",
       "      <td>I found this sling to be much better than the ...</td>\n",
       "      <td>4.0</td>\n",
       "      <td>I found this sling to be much better than the ...</td>\n",
       "      <td>1.0</td>\n",
       "      <td>1.0</td>\n",
       "      <td>1.0</td>\n",
       "      <td>5.688879e-12</td>\n",
       "    </tr>\n",
       "    <tr>\n",
       "      <th>40402</th>\n",
       "      <td>Itzbeen Pocket Nanny Baby Care Timer, Blue</td>\n",
       "      <td>OK, I know this seems like an idiot gift, but ...</td>\n",
       "      <td>4.0</td>\n",
       "      <td>OK I know this seems like an idiot gift but if...</td>\n",
       "      <td>1.0</td>\n",
       "      <td>1.0</td>\n",
       "      <td>1.0</td>\n",
       "      <td>9.222306e-12</td>\n",
       "    </tr>\n",
       "    <tr>\n",
       "      <th>58841</th>\n",
       "      <td>7A.M. ENFANT &amp;quot;Blanket 212 Evolution&amp;quot;...</td>\n",
       "      <td>Now that it served my son for almost four mont...</td>\n",
       "      <td>5.0</td>\n",
       "      <td>Now that it served my son for almost four mont...</td>\n",
       "      <td>1.0</td>\n",
       "      <td>1.0</td>\n",
       "      <td>1.0</td>\n",
       "      <td>1.121439e-11</td>\n",
       "    </tr>\n",
       "    <tr>\n",
       "      <th>126381</th>\n",
       "      <td>Tommee Tippee Anti Collic Bottle, 5 Ounce, 2-C...</td>\n",
       "      <td>Used these bottles and my baby never suffered ...</td>\n",
       "      <td>5.0</td>\n",
       "      <td>Used these bottles and my baby never suffered ...</td>\n",
       "      <td>1.0</td>\n",
       "      <td>1.0</td>\n",
       "      <td>1.0</td>\n",
       "      <td>1.726347e-11</td>\n",
       "    </tr>\n",
       "    <tr>\n",
       "      <th>80282</th>\n",
       "      <td>Bearington Baby Large Dottie Snuggle Blanket Blue</td>\n",
       "      <td>I have a 2 yr old that is so attached to her s...</td>\n",
       "      <td>4.0</td>\n",
       "      <td>I have a 2 yr old that is so attached to her s...</td>\n",
       "      <td>1.0</td>\n",
       "      <td>1.0</td>\n",
       "      <td>1.0</td>\n",
       "      <td>2.245812e-11</td>\n",
       "    </tr>\n",
       "    <tr>\n",
       "      <th>11401</th>\n",
       "      <td>Fisher-Price Booster Seat, Blue/Green/Gray</td>\n",
       "      <td>I did a ton of research before ultimately deci...</td>\n",
       "      <td>5.0</td>\n",
       "      <td>I did a ton of research before ultimately deci...</td>\n",
       "      <td>1.0</td>\n",
       "      <td>1.0</td>\n",
       "      <td>1.0</td>\n",
       "      <td>6.143631e-11</td>\n",
       "    </tr>\n",
       "    <tr>\n",
       "      <th>111811</th>\n",
       "      <td>Blueberry Coveralls Diaper Cover Hook/Loop, Bu...</td>\n",
       "      <td>My frient is planning to cloth diaper so I got...</td>\n",
       "      <td>5.0</td>\n",
       "      <td>My frient is planning to cloth diaper so I got...</td>\n",
       "      <td>1.0</td>\n",
       "      <td>1.0</td>\n",
       "      <td>1.0</td>\n",
       "      <td>1.244903e-10</td>\n",
       "    </tr>\n",
       "    <tr>\n",
       "      <th>69117</th>\n",
       "      <td>Dr. Brown's Formula Mixing Pitcher</td>\n",
       "      <td>I wish I'd gotten this when we first started d...</td>\n",
       "      <td>5.0</td>\n",
       "      <td>I wish Id gotten this when we first started do...</td>\n",
       "      <td>1.0</td>\n",
       "      <td>1.0</td>\n",
       "      <td>1.0</td>\n",
       "      <td>1.826137e-10</td>\n",
       "    </tr>\n",
       "    <tr>\n",
       "      <th>51341</th>\n",
       "      <td>Mustang Survival Lil' Legends MV3155 Child Ves...</td>\n",
       "      <td>I ordered the infant size for our 2 year old. ...</td>\n",
       "      <td>5.0</td>\n",
       "      <td>I ordered the infant size for our 2 year old I...</td>\n",
       "      <td>1.0</td>\n",
       "      <td>1.0</td>\n",
       "      <td>1.0</td>\n",
       "      <td>3.009209e-10</td>\n",
       "    </tr>\n",
       "    <tr>\n",
       "      <th>85299</th>\n",
       "      <td>green sprouts Teether Keys</td>\n",
       "      <td>This Green Sprouts teether key ring toy is gre...</td>\n",
       "      <td>5.0</td>\n",
       "      <td>This Green Sprouts teether key ring toy is gre...</td>\n",
       "      <td>1.0</td>\n",
       "      <td>1.0</td>\n",
       "      <td>1.0</td>\n",
       "      <td>7.231542e-10</td>\n",
       "    </tr>\n",
       "    <tr>\n",
       "      <th>114635</th>\n",
       "      <td>Fisher-Price Luv U Zoo EZ Clean High Chair</td>\n",
       "      <td>I have 3 kids but this is my first high chair....</td>\n",
       "      <td>5.0</td>\n",
       "      <td>I have 3 kids but this is my first high chair ...</td>\n",
       "      <td>1.0</td>\n",
       "      <td>1.0</td>\n",
       "      <td>1.0</td>\n",
       "      <td>1.882587e-09</td>\n",
       "    </tr>\n",
       "    <tr>\n",
       "      <th>16842</th>\n",
       "      <td>Kalencom On the Go Potty, Blue</td>\n",
       "      <td>I ordered this because a friend of mine has it...</td>\n",
       "      <td>5.0</td>\n",
       "      <td>I ordered this because a friend of mine has it...</td>\n",
       "      <td>1.0</td>\n",
       "      <td>1.0</td>\n",
       "      <td>1.0</td>\n",
       "      <td>2.034686e-09</td>\n",
       "    </tr>\n",
       "    <tr>\n",
       "      <th>13524</th>\n",
       "      <td>Summer Infant Deluxe Day &amp;amp; Night Handheld ...</td>\n",
       "      <td>When my first child was born, I thought I didn...</td>\n",
       "      <td>5.0</td>\n",
       "      <td>When my first child was born I thought I didnt...</td>\n",
       "      <td>1.0</td>\n",
       "      <td>1.0</td>\n",
       "      <td>1.0</td>\n",
       "      <td>2.627937e-09</td>\n",
       "    </tr>\n",
       "  </tbody>\n",
       "</table>\n",
       "</div>"
      ],
      "text/plain": [
       "                                                     name  \\\n",
       "164336  Modern Littles Bold Folding Laundry Basket, So...   \n",
       "36012                   Manhattan Toy Snuggle Pod, Peanut   \n",
       "127392  North American Bear 12&quot; Velveteenie Circu...   \n",
       "16416               BABYBJ&Ouml;RN Active Carrier - Black   \n",
       "115710  Safety 1st Alpha Omega Elite Convertible Car S...   \n",
       "93372      Lamaze Early Development Toy, Captain Calamari   \n",
       "81243   SheetWorld - Baby Pillow Case - Percale Pillow...   \n",
       "75327   Munchkin Jelly Bean Reversible Sling, Champagn...   \n",
       "40402          Itzbeen Pocket Nanny Baby Care Timer, Blue   \n",
       "58841   7A.M. ENFANT &quot;Blanket 212 Evolution&quot;...   \n",
       "126381  Tommee Tippee Anti Collic Bottle, 5 Ounce, 2-C...   \n",
       "80282   Bearington Baby Large Dottie Snuggle Blanket Blue   \n",
       "11401          Fisher-Price Booster Seat, Blue/Green/Gray   \n",
       "111811  Blueberry Coveralls Diaper Cover Hook/Loop, Bu...   \n",
       "69117                  Dr. Brown's Formula Mixing Pitcher   \n",
       "51341   Mustang Survival Lil' Legends MV3155 Child Ves...   \n",
       "85299                          green sprouts Teether Keys   \n",
       "114635         Fisher-Price Luv U Zoo EZ Clean High Chair   \n",
       "16842                      Kalencom On the Go Potty, Blue   \n",
       "13524   Summer Infant Deluxe Day &amp; Night Handheld ...   \n",
       "\n",
       "                                                   review  rating  \\\n",
       "164336  This awesome & durable Laundry bin is perfect ...     5.0   \n",
       "36012   This item is super cute, soft, and seems well ...     4.0   \n",
       "127392  Excellent gift for a newborn. Super soft, no l...     5.0   \n",
       "16416   We used this carrier until our baby was 8.5 mo...     5.0   \n",
       "115710  This car seat is so safe and so comfortable, a...     5.0   \n",
       "93372   This is the perfect toy design! The legs are s...     5.0   \n",
       "81243   I'm pretty sure this pillow case says it is 10...     4.0   \n",
       "75327   I found this sling to be much better than the ...     4.0   \n",
       "40402   OK, I know this seems like an idiot gift, but ...     4.0   \n",
       "58841   Now that it served my son for almost four mont...     5.0   \n",
       "126381  Used these bottles and my baby never suffered ...     5.0   \n",
       "80282   I have a 2 yr old that is so attached to her s...     4.0   \n",
       "11401   I did a ton of research before ultimately deci...     5.0   \n",
       "111811  My frient is planning to cloth diaper so I got...     5.0   \n",
       "69117   I wish I'd gotten this when we first started d...     5.0   \n",
       "51341   I ordered the infant size for our 2 year old. ...     5.0   \n",
       "85299   This Green Sprouts teether key ring toy is gre...     5.0   \n",
       "114635  I have 3 kids but this is my first high chair....     5.0   \n",
       "16842   I ordered this because a friend of mine has it...     5.0   \n",
       "13524   When my first child was born, I thought I didn...     5.0   \n",
       "\n",
       "                                             review_clean  sentiment  \\\n",
       "164336  This awesome  durable Laundry bin is perfect f...        1.0   \n",
       "36012   This item is super cute soft and seems well ma...        1.0   \n",
       "127392  Excellent gift for a newborn Super soft no loo...        1.0   \n",
       "16416   We used this carrier until our baby was 85 mon...        1.0   \n",
       "115710  This car seat is so safe and so comfortable an...        1.0   \n",
       "93372   This is the perfect toy design The legs are si...        1.0   \n",
       "81243   Im pretty sure this pillow case says it is 100...        1.0   \n",
       "75327   I found this sling to be much better than the ...        1.0   \n",
       "40402   OK I know this seems like an idiot gift but if...        1.0   \n",
       "58841   Now that it served my son for almost four mont...        1.0   \n",
       "126381  Used these bottles and my baby never suffered ...        1.0   \n",
       "80282   I have a 2 yr old that is so attached to her s...        1.0   \n",
       "11401   I did a ton of research before ultimately deci...        1.0   \n",
       "111811  My frient is planning to cloth diaper so I got...        1.0   \n",
       "69117   I wish Id gotten this when we first started do...        1.0   \n",
       "51341   I ordered the infant size for our 2 year old I...        1.0   \n",
       "85299   This Green Sprouts teether key ring toy is gre...        1.0   \n",
       "114635  I have 3 kids but this is my first high chair ...        1.0   \n",
       "16842   I ordered this because a friend of mine has it...        1.0   \n",
       "13524   When my first child was born I thought I didnt...        1.0   \n",
       "\n",
       "        prediction  sentiments_prediction  sentiments_probability  \n",
       "164336         1.0                    1.0            4.324334e-21  \n",
       "36012          1.0                    1.0            9.922759e-18  \n",
       "127392         1.0                    1.0            7.453433e-17  \n",
       "16416          1.0                    1.0            1.910418e-15  \n",
       "115710         1.0                    1.0            1.098422e-13  \n",
       "93372          1.0                    1.0            1.735050e-12  \n",
       "81243          1.0                   -1.0            3.242297e-12  \n",
       "75327          1.0                    1.0            5.688879e-12  \n",
       "40402          1.0                    1.0            9.222306e-12  \n",
       "58841          1.0                    1.0            1.121439e-11  \n",
       "126381         1.0                    1.0            1.726347e-11  \n",
       "80282          1.0                    1.0            2.245812e-11  \n",
       "11401          1.0                    1.0            6.143631e-11  \n",
       "111811         1.0                    1.0            1.244903e-10  \n",
       "69117          1.0                    1.0            1.826137e-10  \n",
       "51341          1.0                    1.0            3.009209e-10  \n",
       "85299          1.0                    1.0            7.231542e-10  \n",
       "114635         1.0                    1.0            1.882587e-09  \n",
       "16842          1.0                    1.0            2.034686e-09  \n",
       "13524          1.0                    1.0            2.627937e-09  "
      ]
     },
     "execution_count": 105,
     "metadata": {},
     "output_type": "execute_result"
    }
   ],
   "source": [
    "data_test[:20]"
   ]
  },
  {
   "cell_type": "code",
   "execution_count": 106,
   "metadata": {
    "collapsed": false
   },
   "outputs": [
    {
     "name": "stdout",
     "output_type": "stream",
     "text": [
      "116502\n",
      "28225\n"
     ]
    }
   ],
   "source": [
    "correct_prediction_sentiment_data_train = len(data_train[data_train['sentiment'] == data_train['sentiment_prediction']])\n",
    "correct_prediction_sentiment_data_test = len(data_test[data_test['sentiment'] == data_test['sentiments_prediction']])\n",
    "print correct_prediction_sentiment_data_train\n",
    "print correct_prediction_sentiment_data_test"
   ]
  },
  {
   "cell_type": "code",
   "execution_count": 109,
   "metadata": {
    "collapsed": false
   },
   "outputs": [
    {
     "name": "stdout",
     "output_type": "stream",
     "text": [
      "train accuracy sentiments 0.962738924561\n",
      "test accuracy sentiments 0.934324208017\n"
     ]
    }
   ],
   "source": [
    "train_acc_sentiment = correct_prediction_sentiment_data_train/float(len(data_train))\n",
    "test_acc_sentiment = correct_prediction_sentiment_data_test/float(len(data_test))\n",
    "print 'train accuracy sentiments',train_acc_sentiment\n",
    "print 'test accuracy sentiments',test_acc_sentiment"
   ]
  },
  {
   "cell_type": "code",
   "execution_count": null,
   "metadata": {
    "collapsed": true
   },
   "outputs": [],
   "source": []
  }
 ],
 "metadata": {
  "kernelspec": {
   "display_name": "Python 2",
   "language": "python",
   "name": "python2"
  },
  "language_info": {
   "codemirror_mode": {
    "name": "ipython",
    "version": 2
   },
   "file_extension": ".py",
   "mimetype": "text/x-python",
   "name": "python",
   "nbconvert_exporter": "python",
   "pygments_lexer": "ipython2",
   "version": "2.7.12"
  }
 },
 "nbformat": 4,
 "nbformat_minor": 2
}
