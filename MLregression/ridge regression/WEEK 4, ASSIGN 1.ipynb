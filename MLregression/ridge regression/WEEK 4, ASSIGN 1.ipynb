{
 "cells": [
  {
   "cell_type": "code",
   "execution_count": 20,
   "metadata": {
    "collapsed": true
   },
   "outputs": [],
   "source": [
    "import numpy as np\n",
    "import pandas as pd\n",
    "import sklearn as sk\n",
    "import matplotlib.pyplot as plt\n",
    "from sklearn import linear_model\n",
    "%matplotlib inline"
   ]
  },
  {
   "cell_type": "code",
   "execution_count": 21,
   "metadata": {
    "collapsed": false
   },
   "outputs": [
    {
     "name": "stderr",
     "output_type": "stream",
     "text": [
      "/home/om/gl-env/lib/python2.7/site-packages/ipykernel/__main__.py:7: FutureWarning: sort(columns=....) is deprecated, use sort_values(by=.....)\n"
     ]
    }
   ],
   "source": [
    "dtype_dict = {'bathrooms':float, 'waterfront':int, 'sqft_above':int, 'sqft_living15':float,\n",
    "              'grade':int, 'yr_renovated':int, 'price':float, 'bedrooms':float, 'zipcode':str,\n",
    "              'long':float, 'sqft_lot15':float, 'sqft_living':float, 'floors':float, 'condition':int,\n",
    "              'lat':float, 'date':str, 'sqft_basement':int, 'yr_built':int, 'id':str, 'sqft_lot':int, 'view':int}\n",
    "\n",
    "sales = pd.read_csv('data/kc_house_data.csv',dtype=dtype_dict)\n",
    "sales = sales.sort(['sqft_living','price'])\n",
    "\n"
   ]
  },
  {
   "cell_type": "code",
   "execution_count": 27,
   "metadata": {
    "collapsed": true
   },
   "outputs": [],
   "source": [
    "def polynomial_dataframe(data,degree):\n",
    "    data_frame = pd.DataFrame()\n",
    "    data_frame['X1'] = data.copy()\n",
    "    for i in range(2,degree+1):\n",
    "        data_frame['X'+str(i)] = data_frame['X'+str(i-1)]*data_frame['X1']\n",
    "    return data_frame"
   ]
  },
  {
   "cell_type": "code",
   "execution_count": 28,
   "metadata": {
    "collapsed": false
   },
   "outputs": [
    {
     "data": {
      "text/html": [
       "<div>\n",
       "<table border=\"1\" class=\"dataframe\">\n",
       "  <thead>\n",
       "    <tr style=\"text-align: right;\">\n",
       "      <th></th>\n",
       "      <th>X1</th>\n",
       "      <th>X2</th>\n",
       "      <th>X3</th>\n",
       "      <th>X4</th>\n",
       "      <th>X5</th>\n",
       "      <th>X6</th>\n",
       "      <th>X7</th>\n",
       "      <th>X8</th>\n",
       "      <th>X9</th>\n",
       "      <th>X10</th>\n",
       "      <th>X11</th>\n",
       "      <th>X12</th>\n",
       "      <th>X13</th>\n",
       "      <th>X14</th>\n",
       "      <th>X15</th>\n",
       "    </tr>\n",
       "  </thead>\n",
       "  <tbody>\n",
       "    <tr>\n",
       "      <th>19452</th>\n",
       "      <td>290.0</td>\n",
       "      <td>84100.0</td>\n",
       "      <td>24389000.0</td>\n",
       "      <td>7.072810e+09</td>\n",
       "      <td>2.051115e+12</td>\n",
       "      <td>5.948233e+14</td>\n",
       "      <td>1.724988e+17</td>\n",
       "      <td>5.002464e+19</td>\n",
       "      <td>1.450715e+22</td>\n",
       "      <td>4.207072e+24</td>\n",
       "      <td>1.220051e+27</td>\n",
       "      <td>3.538148e+29</td>\n",
       "      <td>1.026063e+32</td>\n",
       "      <td>2.975582e+34</td>\n",
       "      <td>8.629189e+36</td>\n",
       "    </tr>\n",
       "    <tr>\n",
       "      <th>15381</th>\n",
       "      <td>370.0</td>\n",
       "      <td>136900.0</td>\n",
       "      <td>50653000.0</td>\n",
       "      <td>1.874161e+10</td>\n",
       "      <td>6.934396e+12</td>\n",
       "      <td>2.565726e+15</td>\n",
       "      <td>9.493188e+17</td>\n",
       "      <td>3.512479e+20</td>\n",
       "      <td>1.299617e+23</td>\n",
       "      <td>4.808584e+25</td>\n",
       "      <td>1.779176e+28</td>\n",
       "      <td>6.582952e+30</td>\n",
       "      <td>2.435692e+33</td>\n",
       "      <td>9.012061e+35</td>\n",
       "      <td>3.334463e+38</td>\n",
       "    </tr>\n",
       "    <tr>\n",
       "      <th>860</th>\n",
       "      <td>380.0</td>\n",
       "      <td>144400.0</td>\n",
       "      <td>54872000.0</td>\n",
       "      <td>2.085136e+10</td>\n",
       "      <td>7.923517e+12</td>\n",
       "      <td>3.010936e+15</td>\n",
       "      <td>1.144156e+18</td>\n",
       "      <td>4.347792e+20</td>\n",
       "      <td>1.652161e+23</td>\n",
       "      <td>6.278212e+25</td>\n",
       "      <td>2.385721e+28</td>\n",
       "      <td>9.065738e+30</td>\n",
       "      <td>3.444980e+33</td>\n",
       "      <td>1.309093e+36</td>\n",
       "      <td>4.974552e+38</td>\n",
       "    </tr>\n",
       "    <tr>\n",
       "      <th>18379</th>\n",
       "      <td>384.0</td>\n",
       "      <td>147456.0</td>\n",
       "      <td>56623104.0</td>\n",
       "      <td>2.174327e+10</td>\n",
       "      <td>8.349416e+12</td>\n",
       "      <td>3.206176e+15</td>\n",
       "      <td>1.231172e+18</td>\n",
       "      <td>4.727699e+20</td>\n",
       "      <td>1.815436e+23</td>\n",
       "      <td>6.971275e+25</td>\n",
       "      <td>2.676970e+28</td>\n",
       "      <td>1.027956e+31</td>\n",
       "      <td>3.947353e+33</td>\n",
       "      <td>1.515783e+36</td>\n",
       "      <td>5.820608e+38</td>\n",
       "    </tr>\n",
       "    <tr>\n",
       "      <th>4868</th>\n",
       "      <td>390.0</td>\n",
       "      <td>152100.0</td>\n",
       "      <td>59319000.0</td>\n",
       "      <td>2.313441e+10</td>\n",
       "      <td>9.022420e+12</td>\n",
       "      <td>3.518744e+15</td>\n",
       "      <td>1.372310e+18</td>\n",
       "      <td>5.352009e+20</td>\n",
       "      <td>2.087284e+23</td>\n",
       "      <td>8.140406e+25</td>\n",
       "      <td>3.174758e+28</td>\n",
       "      <td>1.238156e+31</td>\n",
       "      <td>4.828807e+33</td>\n",
       "      <td>1.883235e+36</td>\n",
       "      <td>7.344616e+38</td>\n",
       "    </tr>\n",
       "  </tbody>\n",
       "</table>\n",
       "</div>"
      ],
      "text/plain": [
       "          X1        X2          X3            X4            X5            X6  \\\n",
       "19452  290.0   84100.0  24389000.0  7.072810e+09  2.051115e+12  5.948233e+14   \n",
       "15381  370.0  136900.0  50653000.0  1.874161e+10  6.934396e+12  2.565726e+15   \n",
       "860    380.0  144400.0  54872000.0  2.085136e+10  7.923517e+12  3.010936e+15   \n",
       "18379  384.0  147456.0  56623104.0  2.174327e+10  8.349416e+12  3.206176e+15   \n",
       "4868   390.0  152100.0  59319000.0  2.313441e+10  9.022420e+12  3.518744e+15   \n",
       "\n",
       "                 X7            X8            X9           X10           X11  \\\n",
       "19452  1.724988e+17  5.002464e+19  1.450715e+22  4.207072e+24  1.220051e+27   \n",
       "15381  9.493188e+17  3.512479e+20  1.299617e+23  4.808584e+25  1.779176e+28   \n",
       "860    1.144156e+18  4.347792e+20  1.652161e+23  6.278212e+25  2.385721e+28   \n",
       "18379  1.231172e+18  4.727699e+20  1.815436e+23  6.971275e+25  2.676970e+28   \n",
       "4868   1.372310e+18  5.352009e+20  2.087284e+23  8.140406e+25  3.174758e+28   \n",
       "\n",
       "                X12           X13           X14           X15  \n",
       "19452  3.538148e+29  1.026063e+32  2.975582e+34  8.629189e+36  \n",
       "15381  6.582952e+30  2.435692e+33  9.012061e+35  3.334463e+38  \n",
       "860    9.065738e+30  3.444980e+33  1.309093e+36  4.974552e+38  \n",
       "18379  1.027956e+31  3.947353e+33  1.515783e+36  5.820608e+38  \n",
       "4868   1.238156e+31  4.828807e+33  1.883235e+36  7.344616e+38  "
      ]
     },
     "execution_count": 28,
     "metadata": {},
     "output_type": "execute_result"
    }
   ],
   "source": [
    "poly15 = polynomial_dataframe(sales['sqft_living'],15)\n",
    "poly15.head()\n",
    "\n"
   ]
  },
  {
   "cell_type": "code",
   "execution_count": 29,
   "metadata": {
    "collapsed": false
   },
   "outputs": [],
   "source": [
    "l2_small_penalty = 1.5e-5"
   ]
  },
  {
   "cell_type": "code",
   "execution_count": 30,
   "metadata": {
    "collapsed": false
   },
   "outputs": [
    {
     "data": {
      "text/plain": [
       "Ridge(alpha=1.5e-05, copy_X=True, fit_intercept=True, max_iter=None,\n",
       "   normalize=True, random_state=None, solver='auto', tol=0.001)"
      ]
     },
     "execution_count": 30,
     "metadata": {},
     "output_type": "execute_result"
    }
   ],
   "source": [
    "ridge_model = sk.linear_model.Ridge(alpha=l2_small_penalty,normalize=True)\n",
    "ridge_model.fit(poly15,sales['price'])"
   ]
  },
  {
   "cell_type": "code",
   "execution_count": 31,
   "metadata": {
    "collapsed": false
   },
   "outputs": [
    {
     "name": "stdout",
     "output_type": "stream",
     "text": [
      "[  1.24873306e+02  -4.77376011e-02   3.01446238e-05  -2.44419942e-09\n",
      "  -1.94153675e-13   8.54085686e-18   1.51142121e-21   8.27979094e-26\n",
      "   6.52603100e-31  -3.27895017e-34  -3.87962315e-38  -2.72437650e-42\n",
      "  -1.07790800e-46   3.78242694e-51   1.39790296e-54]\n"
     ]
    }
   ],
   "source": [
    "print ridge_model.coef_"
   ]
  },
  {
   "cell_type": "code",
   "execution_count": 33,
   "metadata": {
    "collapsed": false
   },
   "outputs": [
    {
     "data": {
      "text/plain": [
       "[<matplotlib.lines.Line2D at 0x7fc81d0b5550>,\n",
       " <matplotlib.lines.Line2D at 0x7fc7deb5bd90>]"
      ]
     },
     "execution_count": 33,
     "metadata": {},
     "output_type": "execute_result"
    },
    {
     "data": {
      "image/png": "[encoded data removed]",
      "text/plain": [
       "<matplotlib.figure.Figure at 0x7fc7dec36890>"
      ]
     },
     "metadata": {},
     "output_type": "display_data"
    }
   ],
   "source": [
    "plt.plot(poly15['X1'],sales['price'],'k.',poly15['X1'],ridge_model.predict(poly15))"
   ]
  },
  {
   "cell_type": "code",
   "execution_count": 36,
   "metadata": {
    "collapsed": true
   },
   "outputs": [],
   "source": [
    "set1 = pd.read_csv('data/wk3_kc_house_set_1_data.csv')\n",
    "set2 = pd.read_csv('data/wk3_kc_house_set_2_data.csv')\n",
    "set3 = pd.read_csv('data/wk3_kc_house_set_3_data.csv')\n",
    "set4 = pd.read_csv('data/wk3_kc_house_set_4_data.csv')"
   ]
  },
  {
   "cell_type": "code",
   "execution_count": 39,
   "metadata": {
    "collapsed": false
   },
   "outputs": [
    {
     "name": "stderr",
     "output_type": "stream",
     "text": [
      "/home/om/gl-env/lib/python2.7/site-packages/ipykernel/__main__.py:1: FutureWarning: sort(columns=....) is deprecated, use sort_values(by=.....)\n",
      "  if __name__ == '__main__':\n",
      "/home/om/gl-env/lib/python2.7/site-packages/ipykernel/__main__.py:2: FutureWarning: sort(columns=....) is deprecated, use sort_values(by=.....)\n",
      "  from ipykernel import kernelapp as app\n",
      "/home/om/gl-env/lib/python2.7/site-packages/ipykernel/__main__.py:3: FutureWarning: sort(columns=....) is deprecated, use sort_values(by=.....)\n",
      "  app.launch_new_instance()\n",
      "/home/om/gl-env/lib/python2.7/site-packages/ipykernel/__main__.py:4: FutureWarning: sort(columns=....) is deprecated, use sort_values(by=.....)\n"
     ]
    }
   ],
   "source": [
    "set1 = set1.sort(['sqft_living','price'])\n",
    "set2 = set2.sort(['sqft_living','price'])\n",
    "set3 = set3.sort(['sqft_living','price'])\n",
    "set4 = set4.sort(['sqft_living','price'])"
   ]
  },
  {
   "cell_type": "code",
   "execution_count": 41,
   "metadata": {
    "collapsed": false
   },
   "outputs": [],
   "source": [
    "poly_set1 = polynomial_dataframe(set1['sqft_living'],15)\n",
    "poly_set2 = polynomial_dataframe(set2['sqft_living'],15)\n",
    "poly_set3 = polynomial_dataframe(set3['sqft_living'],15)\n",
    "poly_set4 = polynomial_dataframe(set4['sqft_living'],15)"
   ]
  },
  {
   "cell_type": "code",
   "execution_count": 43,
   "metadata": {
    "collapsed": false
   },
   "outputs": [
    {
     "data": {
      "text/plain": [
       "Ridge(alpha=1e-09, copy_X=True, fit_intercept=True, max_iter=None,\n",
       "   normalize=True, random_state=None, solver='auto', tol=0.001)"
      ]
     },
     "execution_count": 43,
     "metadata": {},
     "output_type": "execute_result"
    }
   ],
   "source": [
    "l2_small_penalty=1e-9\n",
    "submodel1 = sk.linear_model.Ridge(alpha=l2_small_penalty,normalize=True)\n",
    "submodel2 = sk.linear_model.Ridge(alpha=l2_small_penalty,normalize=True)\n",
    "submodel3 = sk.linear_model.Ridge(alpha=l2_small_penalty,normalize=True)\n",
    "submodel4 = sk.linear_model.Ridge(alpha=l2_small_penalty,normalize=True)\n",
    "submodel1.fit(poly_set1,set1['price'])\n",
    "submodel2.fit(poly_set2,set2['price'])\n",
    "submodel3.fit(poly_set3,set3['price'])\n",
    "submodel4.fit(poly_set4,set4['price'])\n"
   ]
  },
  {
   "cell_type": "code",
   "execution_count": 44,
   "metadata": {
    "collapsed": false
   },
   "outputs": [
    {
     "name": "stdout",
     "output_type": "stream",
     "text": [
      "[  6.23857718e+01   1.98235299e-02   7.56558420e-06  -5.91491377e-10\n",
      "  -1.96217953e-14   1.86865173e-16  -6.62909386e-16   2.79625958e-16\n",
      "  -1.81062210e-16  -1.24404650e-15   2.30366670e-16   5.06433875e-16\n",
      "   2.25732230e-16  -3.14308031e-16  -3.32978688e-16]\n",
      "[ -2.19894686e+02   1.69130364e-01  -2.27849601e-05   1.34431957e-09\n",
      "  -1.20432513e-14   7.64003745e-16  -4.89141524e-16  -2.93941735e-16\n",
      "  -6.17970420e-16   3.81800372e-16   5.15069439e-16   8.98788959e-16\n",
      "   1.08009405e-15  -4.37750733e-16   1.40403443e-15]\n",
      "[ -1.98970177e+02   1.57531730e-01  -2.04008046e-05   1.26203624e-09\n",
      "  -1.59074526e-14  -2.70708681e-16  -4.55047514e-16   5.97386817e-16\n",
      "   4.28518765e-16   5.27358368e-16  -4.79130198e-16   1.20138611e-15\n",
      "   6.23420738e-16   3.65494169e-16  -3.00231269e-16]\n",
      "[ -3.48248202e+01   7.33755964e-02  -5.31371126e-06   3.38536611e-10\n",
      "   3.57683193e-14  -1.23385098e-15  -4.13869228e-16   8.99222180e-16\n",
      "  -4.98668926e-16  -5.35366910e-16   2.49778932e-16   4.01979504e-16\n",
      "   3.06323327e-16  -1.03551797e-15  -3.19399858e-16]\n"
     ]
    }
   ],
   "source": [
    "print submodel1.coef_\n",
    "print submodel2.coef_\n",
    "print submodel3.coef_\n",
    "print submodel4.coef_\n"
   ]
  },
  {
   "cell_type": "code",
   "execution_count": 45,
   "metadata": {
    "collapsed": false
   },
   "outputs": [
    {
     "data": {
      "text/plain": [
       "[<matplotlib.lines.Line2D at 0x7fc7de953990>,\n",
       " <matplotlib.lines.Line2D at 0x7fc7de953f90>]"
      ]
     },
     "execution_count": 45,
     "metadata": {},
     "output_type": "execute_result"
    },
    {
     "data": {
      "image/png": "[encoded data removed]",
      "text/plain": [
       "<matplotlib.figure.Figure at 0x7fc7dea5c350>"
      ]
     },
     "metadata": {},
     "output_type": "display_data"
    }
   ],
   "source": [
    "plt.plot(poly_set1['X1'],set1['price'],'k.',poly_set1['X1'],submodel1.predict(poly_set1))"
   ]
  },
  {
   "cell_type": "code",
   "execution_count": 46,
   "metadata": {
    "collapsed": false
   },
   "outputs": [
    {
     "data": {
      "text/plain": [
       "[<matplotlib.lines.Line2D at 0x7fc7de920710>,\n",
       " <matplotlib.lines.Line2D at 0x7fc7de920dd0>]"
      ]
     },
     "execution_count": 46,
     "metadata": {},
     "output_type": "execute_result"
    },
    {
     "data": {
      "image/png": "[encoded data removed]",
      "text/plain": [
       "<matplotlib.figure.Figure at 0x7fc7dea0b110>"
      ]
     },
     "metadata": {},
     "output_type": "display_data"
    }
   ],
   "source": [
    "plt.plot(poly_set2['X1'],set2['price'],'k.',poly_set2['X1'],submodel2.predict(poly_set2))"
   ]
  },
  {
   "cell_type": "code",
   "execution_count": 47,
   "metadata": {
    "collapsed": false
   },
   "outputs": [
    {
     "data": {
      "text/plain": [
       "[<matplotlib.lines.Line2D at 0x7fc7de8cb4d0>,\n",
       " <matplotlib.lines.Line2D at 0x7fc7de8cbb90>]"
      ]
     },
     "execution_count": 47,
     "metadata": {},
     "output_type": "execute_result"
    },
    {
     "data": {
      "image/png": "[encoded data removed]",
      "text/plain": [
       "<matplotlib.figure.Figure at 0x7fc7de935810>"
      ]
     },
     "metadata": {},
     "output_type": "display_data"
    }
   ],
   "source": [
    "plt.plot(poly_set3['X1'],set3['price'],'k.',poly_set3['X1'],submodel3.predict(poly_set3))"
   ]
  },
  {
   "cell_type": "code",
   "execution_count": 48,
   "metadata": {
    "collapsed": false
   },
   "outputs": [
    {
     "data": {
      "text/plain": [
       "[<matplotlib.lines.Line2D at 0x7fc7de7fff10>,\n",
       " <matplotlib.lines.Line2D at 0x7fc7de7fff90>]"
      ]
     },
     "execution_count": 48,
     "metadata": {},
     "output_type": "execute_result"
    },
    {
     "data": {
      "image/png": "[encoded data removed]",
      "text/plain": [
       "<matplotlib.figure.Figure at 0x7fc7de862950>"
      ]
     },
     "metadata": {},
     "output_type": "display_data"
    }
   ],
   "source": [
    "plt.plot(poly_set4['X1'],set4['price'],'k.',poly_set4['X1'],submodel4.predict(poly_set4))"
   ]
  },
  {
   "cell_type": "markdown",
   "metadata": {},
   "source": [
    "# Ridge regression using large penalty"
   ]
  },
  {
   "cell_type": "code",
   "execution_count": 49,
   "metadata": {
    "collapsed": true
   },
   "outputs": [],
   "source": [
    "l2_large_penalty=1.23e2"
   ]
  },
  {
   "cell_type": "code",
   "execution_count": 50,
   "metadata": {
    "collapsed": false
   },
   "outputs": [
    {
     "data": {
      "text/plain": [
       "Ridge(alpha=123.0, copy_X=True, fit_intercept=True, max_iter=None,\n",
       "   normalize=True, random_state=None, solver='auto', tol=0.001)"
      ]
     },
     "execution_count": 50,
     "metadata": {},
     "output_type": "execute_result"
    }
   ],
   "source": [
    "submodel1 = sk.linear_model.Ridge(alpha=l2_large_penalty,normalize=True)\n",
    "submodel2 = sk.linear_model.Ridge(alpha=l2_large_penalty,normalize=True)\n",
    "submodel3 = sk.linear_model.Ridge(alpha=l2_large_penalty,normalize=True)\n",
    "submodel4 = sk.linear_model.Ridge(alpha=l2_large_penalty,normalize=True)\n",
    "submodel1.fit(poly_set1,set1['price'])\n",
    "submodel2.fit(poly_set2,set2['price'])\n",
    "submodel3.fit(poly_set3,set3['price'])\n",
    "submodel4.fit(poly_set4,set4['price'])\n"
   ]
  },
  {
   "cell_type": "code",
   "execution_count": 51,
   "metadata": {
    "collapsed": false
   },
   "outputs": [
    {
     "name": "stdout",
     "output_type": "stream",
     "text": [
      "[  2.33302293e+00   3.56038341e-04   3.37288360e-08   2.06040887e-12\n",
      "   1.36746708e-15  -1.92341983e-17   1.04834390e-17  -9.30269146e-18\n",
      "  -8.46418543e-18  -1.59248399e-17   9.41566963e-18   1.22423043e-18\n",
      "   5.91820334e-18  -1.47750360e-17  -2.35836923e-17]\n",
      "[  2.10772269e+00   3.94453401e-04   6.78444742e-08   9.15014451e-12\n",
      "   1.94720746e-15  -2.53164281e-17   1.02334725e-17  -4.38033903e-18\n",
      "  -7.39193953e-18  -1.03274762e-18   8.33154295e-18   4.90077187e-18\n",
      "  -3.58306755e-18  -1.75676068e-17  -1.57687979e-17]\n",
      "[  2.31123641e+00   4.20062138e-04   6.28136039e-08   6.89987701e-12\n",
      "   1.20756329e-15  -1.89793802e-17   5.95314134e-18  -8.07909989e-18\n",
      "  -5.49082928e-18  -1.34742751e-17   2.35169643e-18  -4.76775704e-18\n",
      "  -1.73049455e-17  -1.11975184e-17  -3.04976179e-17]\n",
      "[  2.10018378e+00   4.09722690e-04   7.60925093e-08   1.16346493e-11\n",
      "   2.52725095e-15  -3.60823239e-17   1.34459584e-17  -1.42653353e-18\n",
      "  -1.20066039e-17  -7.79542974e-18   1.44429140e-17  -7.79955285e-18\n",
      "  -2.56592299e-18  -2.15123845e-17  -2.67990091e-17]\n"
     ]
    }
   ],
   "source": [
    "print submodel1.coef_\n",
    "print submodel2.coef_\n",
    "print submodel3.coef_\n",
    "print submodel4.coef_"
   ]
  },
  {
   "cell_type": "markdown",
   "metadata": {},
   "source": [
    "# PLOTS AFTER INTRODUCING LARGE PENALTY"
   ]
  },
  {
   "cell_type": "code",
   "execution_count": 52,
   "metadata": {
    "collapsed": false
   },
   "outputs": [
    {
     "data": {
      "text/plain": [
       "[<matplotlib.lines.Line2D at 0x7fc7de74b750>,\n",
       " <matplotlib.lines.Line2D at 0x7fc7de74bed0>]"
      ]
     },
     "execution_count": 52,
     "metadata": {},
     "output_type": "execute_result"
    },
    {
     "data": {
      "image/png": "[encoded data removed]",
      "text/plain": [
       "<matplotlib.figure.Figure at 0x7fc7de7a5810>"
      ]
     },
     "metadata": {},
     "output_type": "display_data"
    }
   ],
   "source": [
    "plt.plot(poly_set1['X1'],set1['price'],'k.',poly_set1['X1'],submodel1.predict(poly_set1))"
   ]
  },
  {
   "cell_type": "code",
   "execution_count": 53,
   "metadata": {
    "collapsed": false
   },
   "outputs": [
    {
     "data": {
      "text/plain": [
       "[<matplotlib.lines.Line2D at 0x7fc7dc227b90>,\n",
       " <matplotlib.lines.Line2D at 0x7fc7dc227cd0>]"
      ]
     },
     "execution_count": 53,
     "metadata": {},
     "output_type": "execute_result"
    },
    {
     "data": {
      "image/png": "[encoded data removed]",
      "text/plain": [
       "<matplotlib.figure.Figure at 0x7fc7dc29df50>"
      ]
     },
     "metadata": {},
     "output_type": "display_data"
    }
   ],
   "source": [
    "plt.plot(poly_set2['X1'],set2['price'],'k.',poly_set2['X1'],submodel2.predict(poly_set2))"
   ]
  },
  {
   "cell_type": "code",
   "execution_count": 54,
   "metadata": {
    "collapsed": false
   },
   "outputs": [
    {
     "data": {
      "text/plain": [
       "[<matplotlib.lines.Line2D at 0x7fc7dc163210>,\n",
       " <matplotlib.lines.Line2D at 0x7fc7dc163990>]"
      ]
     },
     "execution_count": 54,
     "metadata": {},
     "output_type": "execute_result"
    },
    {
     "data": {
      "image/png": "[encoded data removed]",
      "text/plain": [
       "<matplotlib.figure.Figure at 0x7fc7dc1ec390>"
      ]
     },
     "metadata": {},
     "output_type": "display_data"
    }
   ],
   "source": [
    "plt.plot(poly_set3['X1'],set3['price'],'k.',poly_set3['X1'],submodel3.predict(poly_set3))"
   ]
  },
  {
   "cell_type": "code",
   "execution_count": 55,
   "metadata": {
    "collapsed": false
   },
   "outputs": [
    {
     "data": {
      "text/plain": [
       "[<matplotlib.lines.Line2D at 0x7fc7dc09ebd0>,\n",
       " <matplotlib.lines.Line2D at 0x7fc7dc09ed10>]"
      ]
     },
     "execution_count": 55,
     "metadata": {},
     "output_type": "execute_result"
    },
    {
     "data": {
      "image/png": "[encoded data removed]",
      "text/plain": [
       "<matplotlib.figure.Figure at 0x7fc7dc11e110>"
      ]
     },
     "metadata": {},
     "output_type": "display_data"
    }
   ],
   "source": [
    "plt.plot(poly_set4['X1'],set4['price'],'k.',poly_set4['X1'],submodel4.predict(poly_set4))"
   ]
  },
  {
   "cell_type": "markdown",
   "metadata": {},
   "source": [
    "# Observation : For a large value of l2 w approxes to 0 , very small\n",
    "# All the models appears to be the same"
   ]
  },
  {
   "cell_type": "code",
   "execution_count": 65,
   "metadata": {
    "collapsed": true
   },
   "outputs": [],
   "source": [
    "train_valid_shuffled = pd.read_csv('data/wk3_kc_house_train_valid_shuffled.csv',dtype=dtype_dict)\n",
    "test = pd.read_csv('data/wk3_kc_house_test_data.csv',dtype=dtype_dict)"
   ]
  },
  {
   "cell_type": "markdown",
   "metadata": {},
   "source": [
    "# 10-K CROSS VALIDATION"
   ]
  },
  {
   "cell_type": "code",
   "execution_count": 66,
   "metadata": {
    "collapsed": false
   },
   "outputs": [
    {
     "name": "stdout",
     "output_type": "stream",
     "text": [
      "19396\n",
      "1939\n",
      "\n",
      "0\n",
      "START : 0\n",
      "END : 1939\n",
      "1\n",
      "START : 1939\n",
      "END : 3878\n",
      "2\n",
      "START : 3878\n",
      "END : 5817\n",
      "3\n",
      "START : 5817\n",
      "END : 7756\n",
      "4\n",
      "START : 7756\n",
      "END : 9695\n",
      "5\n",
      "START : 9695\n",
      "END : 11634\n",
      "6\n",
      "START : 11634\n",
      "END : 13573\n",
      "7\n",
      "START : 13573\n",
      "END : 15512\n",
      "8\n",
      "START : 15512\n",
      "END : 17451\n",
      "9\n",
      "START : 17451\n",
      "END : 19390\n"
     ]
    }
   ],
   "source": [
    "n = len(train_valid_shuffled)\n",
    "k = 10\n",
    "print n\n",
    "print n/k\n",
    "print \n",
    "for i in range(10):\n",
    "    start = (n/k)*i\n",
    "    end = start + n/k\n",
    "    print i\n",
    "    print \"START :\",start\n",
    "    print \"END :\",end"
   ]
  },
  {
   "cell_type": "code",
   "execution_count": 67,
   "metadata": {
    "collapsed": true
   },
   "outputs": [],
   "source": [
    "def validation_train_gen(data,k):\n",
    "    n = len(data)\n",
    "    validation = {}\n",
    "    train = {}\n",
    "    for i in range(k):\n",
    "        start = (n/k)*i\n",
    "        end = (n/k)*(i+1)\n",
    "        validation[i+1] = data[start:end+1]\n",
    "        train[i+1] = data[:start].append(data[end+1:n])\n",
    "    return validation,train"
   ]
  },
  {
   "cell_type": "code",
   "execution_count": 68,
   "metadata": {
    "collapsed": false
   },
   "outputs": [],
   "source": [
    "validation,train = validation_train_gen(train_valid_shuffled,10)"
   ]
  },
  {
   "cell_type": "markdown",
   "metadata": {},
   "source": [
    "# A function to complete k fold cross validation"
   ]
  },
  {
   "cell_type": "code",
   "execution_count": 80,
   "metadata": {
    "collapsed": true
   },
   "outputs": [],
   "source": [
    "def k_fold_cross_validation(k,l2_penalty,data,output):\n",
    "    error = 0\n",
    "    features = []\n",
    "    for x in range(1,16):\n",
    "        features.append('X'+str(x))\n",
    "    validation,train = validation_train_gen(data,k)\n",
    "    for x in validation:\n",
    "        model = sk.linear_model.Ridge(alpha=l2_penalty,normalize=True)\n",
    "        model.fit(train[x][features],train[x][output])\n",
    "        OUTPUT = model.predict(validation[x][features])\n",
    "        error += ((validation[x][output]-OUTPUT)**2).sum()\n",
    "    return error/k"
   ]
  },
  {
   "cell_type": "code",
   "execution_count": 81,
   "metadata": {
    "collapsed": true
   },
   "outputs": [],
   "source": [
    "poly_new_15 = polynomial_dataframe(train_valid_shuffled['sqft_living'],15)\n",
    "poly_new_15['price'] = train_valid_shuffled['price'].copy()"
   ]
  },
  {
   "cell_type": "code",
   "execution_count": 82,
   "metadata": {
    "collapsed": false
   },
   "outputs": [
    {
     "data": {
      "text/html": [
       "<div>\n",
       "<table border=\"1\" class=\"dataframe\">\n",
       "  <thead>\n",
       "    <tr style=\"text-align: right;\">\n",
       "      <th></th>\n",
       "      <th>X1</th>\n",
       "      <th>X2</th>\n",
       "      <th>X3</th>\n",
       "      <th>X4</th>\n",
       "      <th>X5</th>\n",
       "      <th>X6</th>\n",
       "      <th>X7</th>\n",
       "      <th>X8</th>\n",
       "      <th>X9</th>\n",
       "      <th>X10</th>\n",
       "      <th>X11</th>\n",
       "      <th>X12</th>\n",
       "      <th>X13</th>\n",
       "      <th>X14</th>\n",
       "      <th>X15</th>\n",
       "      <th>price</th>\n",
       "    </tr>\n",
       "  </thead>\n",
       "  <tbody>\n",
       "    <tr>\n",
       "      <th>0</th>\n",
       "      <td>2800.0</td>\n",
       "      <td>7840000.0</td>\n",
       "      <td>2.195200e+10</td>\n",
       "      <td>6.146560e+13</td>\n",
       "      <td>1.721037e+17</td>\n",
       "      <td>4.818903e+20</td>\n",
       "      <td>1.349293e+24</td>\n",
       "      <td>3.778020e+27</td>\n",
       "      <td>1.057846e+31</td>\n",
       "      <td>2.961968e+34</td>\n",
       "      <td>8.293509e+37</td>\n",
       "      <td>2.322183e+41</td>\n",
       "      <td>6.502111e+44</td>\n",
       "      <td>1.820591e+48</td>\n",
       "      <td>5.097655e+51</td>\n",
       "      <td>665000.0</td>\n",
       "    </tr>\n",
       "    <tr>\n",
       "      <th>1</th>\n",
       "      <td>2490.0</td>\n",
       "      <td>6200100.0</td>\n",
       "      <td>1.543825e+10</td>\n",
       "      <td>3.844124e+13</td>\n",
       "      <td>9.571869e+16</td>\n",
       "      <td>2.383395e+20</td>\n",
       "      <td>5.934654e+23</td>\n",
       "      <td>1.477729e+27</td>\n",
       "      <td>3.679545e+30</td>\n",
       "      <td>9.162067e+33</td>\n",
       "      <td>2.281355e+37</td>\n",
       "      <td>5.680573e+40</td>\n",
       "      <td>1.414463e+44</td>\n",
       "      <td>3.522012e+47</td>\n",
       "      <td>8.769810e+50</td>\n",
       "      <td>645000.0</td>\n",
       "    </tr>\n",
       "    <tr>\n",
       "      <th>2</th>\n",
       "      <td>2340.0</td>\n",
       "      <td>5475600.0</td>\n",
       "      <td>1.281290e+10</td>\n",
       "      <td>2.998220e+13</td>\n",
       "      <td>7.015834e+16</td>\n",
       "      <td>1.641705e+20</td>\n",
       "      <td>3.841590e+23</td>\n",
       "      <td>8.989320e+26</td>\n",
       "      <td>2.103501e+30</td>\n",
       "      <td>4.922192e+33</td>\n",
       "      <td>1.151793e+37</td>\n",
       "      <td>2.695196e+40</td>\n",
       "      <td>6.306758e+43</td>\n",
       "      <td>1.475781e+47</td>\n",
       "      <td>3.453328e+50</td>\n",
       "      <td>640000.0</td>\n",
       "    </tr>\n",
       "    <tr>\n",
       "      <th>3</th>\n",
       "      <td>1320.0</td>\n",
       "      <td>1742400.0</td>\n",
       "      <td>2.299968e+09</td>\n",
       "      <td>3.035958e+12</td>\n",
       "      <td>4.007464e+15</td>\n",
       "      <td>5.289853e+18</td>\n",
       "      <td>6.982606e+21</td>\n",
       "      <td>9.217040e+24</td>\n",
       "      <td>1.216649e+28</td>\n",
       "      <td>1.605977e+31</td>\n",
       "      <td>2.119890e+34</td>\n",
       "      <td>2.798254e+37</td>\n",
       "      <td>3.693696e+40</td>\n",
       "      <td>4.875678e+43</td>\n",
       "      <td>6.435895e+46</td>\n",
       "      <td>594000.0</td>\n",
       "    </tr>\n",
       "    <tr>\n",
       "      <th>4</th>\n",
       "      <td>1904.0</td>\n",
       "      <td>3625216.0</td>\n",
       "      <td>6.902411e+09</td>\n",
       "      <td>1.314219e+13</td>\n",
       "      <td>2.502273e+16</td>\n",
       "      <td>4.764328e+19</td>\n",
       "      <td>9.071281e+22</td>\n",
       "      <td>1.727172e+26</td>\n",
       "      <td>3.288535e+29</td>\n",
       "      <td>6.261371e+32</td>\n",
       "      <td>1.192165e+36</td>\n",
       "      <td>2.269882e+39</td>\n",
       "      <td>4.321856e+42</td>\n",
       "      <td>8.228813e+45</td>\n",
       "      <td>1.566766e+49</td>\n",
       "      <td>365000.0</td>\n",
       "    </tr>\n",
       "  </tbody>\n",
       "</table>\n",
       "</div>"
      ],
      "text/plain": [
       "       X1         X2            X3            X4            X5            X6  \\\n",
       "0  2800.0  7840000.0  2.195200e+10  6.146560e+13  1.721037e+17  4.818903e+20   \n",
       "1  2490.0  6200100.0  1.543825e+10  3.844124e+13  9.571869e+16  2.383395e+20   \n",
       "2  2340.0  5475600.0  1.281290e+10  2.998220e+13  7.015834e+16  1.641705e+20   \n",
       "3  1320.0  1742400.0  2.299968e+09  3.035958e+12  4.007464e+15  5.289853e+18   \n",
       "4  1904.0  3625216.0  6.902411e+09  1.314219e+13  2.502273e+16  4.764328e+19   \n",
       "\n",
       "             X7            X8            X9           X10           X11  \\\n",
       "0  1.349293e+24  3.778020e+27  1.057846e+31  2.961968e+34  8.293509e+37   \n",
       "1  5.934654e+23  1.477729e+27  3.679545e+30  9.162067e+33  2.281355e+37   \n",
       "2  3.841590e+23  8.989320e+26  2.103501e+30  4.922192e+33  1.151793e+37   \n",
       "3  6.982606e+21  9.217040e+24  1.216649e+28  1.605977e+31  2.119890e+34   \n",
       "4  9.071281e+22  1.727172e+26  3.288535e+29  6.261371e+32  1.192165e+36   \n",
       "\n",
       "            X12           X13           X14           X15     price  \n",
       "0  2.322183e+41  6.502111e+44  1.820591e+48  5.097655e+51  665000.0  \n",
       "1  5.680573e+40  1.414463e+44  3.522012e+47  8.769810e+50  645000.0  \n",
       "2  2.695196e+40  6.306758e+43  1.475781e+47  3.453328e+50  640000.0  \n",
       "3  2.798254e+37  3.693696e+40  4.875678e+43  6.435895e+46  594000.0  \n",
       "4  2.269882e+39  4.321856e+42  8.228813e+45  1.566766e+49  365000.0  "
      ]
     },
     "execution_count": 82,
     "metadata": {},
     "output_type": "execute_result"
    }
   ],
   "source": [
    "poly_new_15.head()"
   ]
  },
  {
   "cell_type": "code",
   "execution_count": 92,
   "metadata": {
    "collapsed": false
   },
   "outputs": [],
   "source": [
    "l2_penalty = np.logspace(3,9,num=13)\n"
   ]
  },
  {
   "cell_type": "code",
   "execution_count": 93,
   "metadata": {
    "collapsed": false
   },
   "outputs": [
    {
     "name": "stdout",
     "output_type": "stream",
     "text": [
      "RSS on :  1000.0  :  2.65143291737e+14\n",
      "RSS on :  3162.27766017  :  2.6585921076e+14\n",
      "RSS on :  10000.0  :  2.66090752284e+14\n",
      "RSS on :  31622.7766017  :  2.66164499076e+14\n",
      "RSS on :  100000.0  :  2.66187872944e+14\n",
      "RSS on :  316227.766017  :  2.6619526973e+14\n",
      "RSS on :  1000000.0  :  2.66197609332e+14\n",
      "RSS on :  3162277.66017  :  2.66198349232e+14\n",
      "RSS on :  10000000.0  :  2.66198583215e+14\n",
      "RSS on :  31622776.6017  :  2.66198657207e+14\n",
      "RSS on :  100000000.0  :  2.66198680606e+14\n",
      "RSS on :  316227766.017  :  2.66198688005e+14\n",
      "RSS on :  1000000000.0  :  2.66198690345e+14\n"
     ]
    }
   ],
   "source": [
    "for l2 in l2_penalty:\n",
    "    print \"RSS on : \",l2,\" : \",k_fold_cross_validation(10,l2,poly_new_15,'price')"
   ]
  },
  {
   "cell_type": "markdown",
   "metadata": {},
   "source": [
    "# l2 = 1000 produces least RSS ON THE VALIDATION SET"
   ]
  },
  {
   "cell_type": "code",
   "execution_count": 97,
   "metadata": {
    "collapsed": false
   },
   "outputs": [
    {
     "name": "stderr",
     "output_type": "stream",
     "text": [
      "/home/om/gl-env/lib/python2.7/site-packages/ipykernel/__main__.py:3: FutureWarning: sort(columns=....) is deprecated, use sort_values(by=.....)\n",
      "  app.launch_new_instance()\n",
      "/home/om/gl-env/lib/python2.7/site-packages/ipykernel/__main__.py:4: FutureWarning: sort(columns=....) is deprecated, use sort_values(by=.....)\n"
     ]
    }
   ],
   "source": [
    "sales_train = pd.read_csv('data/kc_house_train_data.csv',dtype=dtype_dict)\n",
    "sales_test = pd.read_csv('data/kc_house_test_data.csv',dtype=dtype_dict)\n",
    "sales_train = sales_train.sort(['sqft_living','price'])\n",
    "sales_test = sales_test.sort(['sqft_living','price'])"
   ]
  },
  {
   "cell_type": "code",
   "execution_count": 99,
   "metadata": {
    "collapsed": false
   },
   "outputs": [
    {
     "data": {
      "text/plain": [
       "Ridge(alpha=1000.0, copy_X=True, fit_intercept=True, max_iter=None,\n",
       "   normalize=True, random_state=None, solver='auto', tol=0.001)"
      ]
     },
     "execution_count": 99,
     "metadata": {},
     "output_type": "execute_result"
    }
   ],
   "source": [
    "poly15_final_train = polynomial_dataframe(sales_train['sqft_living'],15)\n",
    "poly15_final_test = polynomial_dataframe(sales_test['sqft_living'],15)\n",
    "l2_final = 1e3\n",
    "model_final = sk.linear_model.Ridge(alpha=l2_final,normalize=True)\n",
    "model_final.fit(poly15_final_train,sales_train['price'])"
   ]
  },
  {
   "cell_type": "markdown",
   "metadata": {},
   "source": [
    "# Final WEIGHTS BASED ON THE BEST L2_NORM COEFFICIENT "
   ]
  },
  {
   "cell_type": "code",
   "execution_count": 100,
   "metadata": {
    "collapsed": false
   },
   "outputs": [
    {
     "data": {
      "text/plain": [
       "array([  2.81069062e-01,   4.88340096e-05,   5.96794952e-09,\n",
       "         4.22475366e-13,   2.36154192e-17,   1.31726073e-21,\n",
       "         7.76349655e-26,   4.81417895e-30,   3.09729655e-34,\n",
       "         2.04400499e-38,   1.37306760e-42,   9.34290094e-47,\n",
       "         6.41929917e-51,   4.44448110e-55,   3.09661900e-59])"
      ]
     },
     "execution_count": 100,
     "metadata": {},
     "output_type": "execute_result"
    }
   ],
   "source": [
    "model_final.coef_"
   ]
  },
  {
   "cell_type": "code",
   "execution_count": 104,
   "metadata": {
    "collapsed": true
   },
   "outputs": [],
   "source": [
    "OUTPUT_FINAL = model_final.predict(poly15_final_test)\n",
    "Y = sales_test['price']\n",
    "X = poly15_final_test['X1']\n",
    "RSS = ((Y - OUTPUT_FINAL)**2).sum()\n",
    "\n"
   ]
  },
  {
   "cell_type": "code",
   "execution_count": 105,
   "metadata": {
    "collapsed": false
   },
   "outputs": [
    {
     "data": {
      "text/plain": [
       "[<matplotlib.lines.Line2D at 0x7fc7da22e9d0>,\n",
       " <matplotlib.lines.Line2D at 0x7fc7da22eb10>]"
      ]
     },
     "execution_count": 105,
     "metadata": {},
     "output_type": "execute_result"
    },
    {
     "data": {
      "image/png": "[encoded data removed]",
      "text/plain": [
       "<matplotlib.figure.Figure at 0x7fc7db335410>"
      ]
     },
     "metadata": {},
     "output_type": "display_data"
    }
   ],
   "source": [
    "plt.plot(X,Y,'o',X,OUTPUT_FINAL)"
   ]
  },
  {
   "cell_type": "code",
   "execution_count": 106,
   "metadata": {
    "collapsed": false
   },
   "outputs": [
    {
     "name": "stdout",
     "output_type": "stream",
     "text": [
      "RSS ON THE TEST DATA IS :  5.35487711809e+14\n"
     ]
    }
   ],
   "source": [
    "print \"RSS ON THE TEST DATA IS : \",RSS"
   ]
  },
  {
   "cell_type": "code",
   "execution_count": null,
   "metadata": {
    "collapsed": true
   },
   "outputs": [],
   "source": []
  }
 ],
 "metadata": {
  "kernelspec": {
   "display_name": "Python 2",
   "language": "python",
   "name": "python2"
  },
  "language_info": {
   "codemirror_mode": {
    "name": "ipython",
    "version": 2
   },
   "file_extension": ".py",
   "mimetype": "text/x-python",
   "name": "python",
   "nbconvert_exporter": "python",
   "pygments_lexer": "ipython2",
   "version": "2.7.12"
  }
 },
 "nbformat": 4,
 "nbformat_minor": 2
}
