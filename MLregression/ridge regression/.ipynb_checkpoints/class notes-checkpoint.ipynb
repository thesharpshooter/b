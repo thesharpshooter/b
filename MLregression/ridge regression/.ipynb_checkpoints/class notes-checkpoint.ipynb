{
 "cells": [
  {
   "cell_type": "code",
   "execution_count": 3,
   "metadata": {
    "collapsed": true,
    "deletable": true,
    "editable": true
   },
   "outputs": [],
   "source": [
    "import numpy as np\n",
    "import pandas as pd\n",
    "import matplotlib.pyplot as plt\n",
    "import sklearn as sk\n",
    "from sklearn import linear_model\n",
    "np.random.seed(98103)\n",
    "%matplotlib inline\n"
   ]
  },
  {
   "cell_type": "code",
   "execution_count": 4,
   "metadata": {
    "collapsed": false,
    "deletable": true,
    "editable": true
   },
   "outputs": [],
   "source": [
    "data = pd.DataFrame(np.random.rand(30),columns=['X1'])\n",
    "def result(x):\n",
    "    return np.random.randn() + np.math.sin(4*x)"
   ]
  },
  {
   "cell_type": "code",
   "execution_count": 5,
   "metadata": {
    "collapsed": false,
    "deletable": true,
    "editable": true
   },
   "outputs": [
    {
     "data": {
      "text/html": [
       "<div>\n",
       "<table border=\"1\" class=\"dataframe\">\n",
       "  <thead>\n",
       "    <tr style=\"text-align: right;\">\n",
       "      <th></th>\n",
       "      <th>X1</th>\n",
       "      <th>Y</th>\n",
       "    </tr>\n",
       "  </thead>\n",
       "  <tbody>\n",
       "    <tr>\n",
       "      <th>0</th>\n",
       "      <td>0.405565</td>\n",
       "      <td>1.463437</td>\n",
       "    </tr>\n",
       "    <tr>\n",
       "      <th>1</th>\n",
       "      <td>0.816612</td>\n",
       "      <td>0.425837</td>\n",
       "    </tr>\n",
       "    <tr>\n",
       "      <th>2</th>\n",
       "      <td>0.157389</td>\n",
       "      <td>2.443378</td>\n",
       "    </tr>\n",
       "    <tr>\n",
       "      <th>3</th>\n",
       "      <td>0.807876</td>\n",
       "      <td>-0.953097</td>\n",
       "    </tr>\n",
       "    <tr>\n",
       "      <th>4</th>\n",
       "      <td>0.212137</td>\n",
       "      <td>-0.332137</td>\n",
       "    </tr>\n",
       "  </tbody>\n",
       "</table>\n",
       "</div>"
      ],
      "text/plain": [
       "         X1         Y\n",
       "0  0.405565  1.463437\n",
       "1  0.816612  0.425837\n",
       "2  0.157389  2.443378\n",
       "3  0.807876 -0.953097\n",
       "4  0.212137 -0.332137"
      ]
     },
     "execution_count": 5,
     "metadata": {},
     "output_type": "execute_result"
    }
   ],
   "source": [
    "data['Y'] = data['X1'].apply(result)\n",
    "data.head()"
   ]
  },
  {
   "cell_type": "markdown",
   "metadata": {
    "deletable": true,
    "editable": true
   },
   "source": [
    "# A function to plot the data"
   ]
  },
  {
   "cell_type": "code",
   "execution_count": 6,
   "metadata": {
    "collapsed": true,
    "deletable": true,
    "editable": true
   },
   "outputs": [],
   "source": [
    "def plot_data(data):\n",
    "    plt.plot(data['X1'],data['Y'],'k.')\n",
    "    plt.xlabel('X')\n",
    "    plt.ylabel('Y')"
   ]
  },
  {
   "cell_type": "code",
   "execution_count": 7,
   "metadata": {
    "collapsed": false,
    "deletable": true,
    "editable": true
   },
   "outputs": [
    {
     "data": {
      "image/png": "[encoded data removed]",
      "text/plain": [
       "<matplotlib.figure.Figure at 0x7f32e0cb5ed0>"
      ]
     },
     "metadata": {},
     "output_type": "display_data"
    }
   ],
   "source": [
    "plot_data(data)"
   ]
  },
  {
   "cell_type": "markdown",
   "metadata": {
    "deletable": true,
    "editable": true
   },
   "source": [
    "# A function that returns polynomial features"
   ]
  },
  {
   "cell_type": "code",
   "execution_count": 8,
   "metadata": {
    "collapsed": false,
    "deletable": true,
    "editable": true
   },
   "outputs": [],
   "source": [
    "def polynomial_features(data,degree):\n",
    "    data_copy = data.copy()\n",
    "    for i in range(2,degree+1):\n",
    "        data_copy['X%x' %i] = data_copy['X%x' %(i-1)]*data_copy['X1']\n",
    "    return data_copy\n"
   ]
  },
  {
   "cell_type": "markdown",
   "metadata": {
    "deletable": true,
    "editable": true
   },
   "source": [
    "# Function to make regression model"
   ]
  },
  {
   "cell_type": "code",
   "execution_count": 9,
   "metadata": {
    "collapsed": false,
    "deletable": true,
    "editable": true
   },
   "outputs": [],
   "source": [
    "def polynomial_regression(data,degree):\n",
    "    data_new = polynomial_features(data,degree)\n",
    "    features = list(data_new)\n",
    "    features.pop(features.index('Y'))\n",
    "                 \n",
    "    model = sk.linear_model.LinearRegression()\n",
    "    model.fit(data_new[features],data_new['Y'])\n",
    "    \n",
    "    return model\n",
    "    "
   ]
  },
  {
   "cell_type": "markdown",
   "metadata": {
    "deletable": true,
    "editable": true
   },
   "source": [
    "# Function to plot prediction"
   ]
  },
  {
   "cell_type": "code",
   "execution_count": 10,
   "metadata": {
    "collapsed": false,
    "deletable": true,
    "editable": true
   },
   "outputs": [],
   "source": [
    "def plot_poly_prediction(data,model):\n",
    "    \n",
    "    plot_data(data)\n",
    "    features = list(data)\n",
    "    features.pop(features.index('Y'))\n",
    "    deg = len(features)\n",
    "    data = data.sort(['X1','Y'])\n",
    "    X = data[features]\n",
    "    Y = data['Y']\n",
    "    Y_predicted = model.predict(X)\n",
    "    \n",
    "    plt.plot(X['X1'],Y_predicted,'g-',label = 'Label'+str(deg)+'fit')"
   ]
  },
  {
   "cell_type": "markdown",
   "metadata": {
    "deletable": true,
    "editable": true
   },
   "source": [
    "# Function to print coefficients"
   ]
  },
  {
   "cell_type": "code",
   "execution_count": 11,
   "metadata": {
    "collapsed": false,
    "deletable": true,
    "editable": true
   },
   "outputs": [],
   "source": [
    "def print_coefficients(model):\n",
    "    w1 = model.coef_\n",
    "    w0 = model.intercept_\n",
    "    return [w0] + list(w1)"
   ]
  },
  {
   "cell_type": "markdown",
   "metadata": {
    "deletable": true,
    "editable": true
   },
   "source": [
    "# A degree 2 polynomial"
   ]
  },
  {
   "cell_type": "code",
   "execution_count": 12,
   "metadata": {
    "collapsed": false,
    "deletable": true,
    "editable": true
   },
   "outputs": [],
   "source": [
    "data_1 = polynomial_features(data,2)\n",
    "model = polynomial_regression(data,2)\n"
   ]
  },
  {
   "cell_type": "code",
   "execution_count": 13,
   "metadata": {
    "collapsed": false,
    "deletable": true,
    "editable": true
   },
   "outputs": [
    {
     "name": "stdout",
     "output_type": "stream",
     "text": [
      "[-0.28660591274584646, 9.876640951467218, -11.926472266296804]\n"
     ]
    }
   ],
   "source": [
    "print print_coefficients(model)"
   ]
  },
  {
   "cell_type": "code",
   "execution_count": 14,
   "metadata": {
    "collapsed": false,
    "deletable": true,
    "editable": true
   },
   "outputs": [
    {
     "name": "stderr",
     "output_type": "stream",
     "text": [
      "/home/om/gl-env/lib/python2.7/site-packages/ipykernel/__main__.py:7: FutureWarning: sort(columns=....) is deprecated, use sort_values(by=.....)\n"
     ]
    },
    {
     "data": {
      "image/png": "[encoded data removed]",
      "text/plain": [
       "<matplotlib.figure.Figure at 0x7f32af5e9110>"
      ]
     },
     "metadata": {},
     "output_type": "display_data"
    }
   ],
   "source": [
    "plot_poly_prediction(data_1,model)"
   ]
  },
  {
   "cell_type": "code",
   "execution_count": 15,
   "metadata": {
    "collapsed": false,
    "deletable": true,
    "editable": true
   },
   "outputs": [
    {
     "name": "stdout",
     "output_type": "stream",
     "text": [
      "[-0.35618642955677227, 13.951547182090243, -39.978258601888577, 57.861351374378685, -36.002223173892901]\n"
     ]
    },
    {
     "name": "stderr",
     "output_type": "stream",
     "text": [
      "/home/om/gl-env/lib/python2.7/site-packages/ipykernel/__main__.py:7: FutureWarning: sort(columns=....) is deprecated, use sort_values(by=.....)\n"
     ]
    },
    {
     "data": {
      "image/png": "[encoded data removed]",
      "text/plain": [
       "<matplotlib.figure.Figure at 0x7f32af52ffd0>"
      ]
     },
     "metadata": {},
     "output_type": "display_data"
    }
   ],
   "source": [
    "data_4 = polynomial_features(data,4)\n",
    "model = polynomial_regression(data,4)\n",
    "print print_coefficients(model)\n",
    "plot_poly_prediction(data_4,model)\n"
   ]
  },
  {
   "cell_type": "code",
   "execution_count": 16,
   "metadata": {
    "collapsed": false,
    "deletable": true,
    "editable": true
   },
   "outputs": [
    {
     "name": "stdout",
     "output_type": "stream",
     "text": [
      "[21.830448498282962, -4727.5139118448205, 299876.36875512439, -8889195.9992579408, 148155979.4923884, -1553425080.8048921, 10991965302.788322, -54882455279.864853, 198844191176.68375, -531255801049.28644, 1053371252434.082, -1545487115022.8711, 1654945422440.4338, -1256642211637.3999, 640781356276.72681, -196731712598.60522, 27479066552.341774]\n"
     ]
    }
   ],
   "source": [
    "data_16 = polynomial_features(data,16)\n",
    "model = polynomial_regression(data,16)\n",
    "print print_coefficients(model)"
   ]
  },
  {
   "cell_type": "code",
   "execution_count": 17,
   "metadata": {
    "collapsed": false,
    "deletable": true,
    "editable": true
   },
   "outputs": [
    {
     "name": "stderr",
     "output_type": "stream",
     "text": [
      "/home/om/gl-env/lib/python2.7/site-packages/ipykernel/__main__.py:7: FutureWarning: sort(columns=....) is deprecated, use sort_values(by=.....)\n"
     ]
    },
    {
     "data": {
      "image/png": "[encoded data removed]",
      "text/plain": [
       "<matplotlib.figure.Figure at 0x7f32af396c10>"
      ]
     },
     "metadata": {},
     "output_type": "display_data"
    }
   ],
   "source": [
    "plot_poly_prediction(data_16,model)"
   ]
  },
  {
   "cell_type": "markdown",
   "metadata": {
    "deletable": true,
    "editable": true
   },
   "source": [
    "# Ridge regression"
   ]
  },
  {
   "cell_type": "code",
   "execution_count": null,
   "metadata": {
    "collapsed": false,
    "deletable": true,
    "editable": true
   },
   "outputs": [],
   "source": [
    "def ridge_regression(data,degree):\n",
    "    \n",
    "    data_new = polynomial_features(data,degree)\n",
    "    data_new['X0'] = 1\n",
    "    \n",
    "    \n",
    "    features = []\n",
    "    for i in range (0,degree+1):\n",
    "        features.append('X%i'%i)\n",
    "    \n",
    "    H = data_new[features]\n",
    "    Y = data_new['Y']\n",
    "    D = len(features)\n",
    "    W = np.array([0.0]*D)\n",
    "    \n",
    "    OUTPUT = H.dot(W)\n",
    "    step = 0.06\n",
    "    ERROR = Y - OUTPUT\n",
    "    GRAD = -2*H.transpose().dot(ERROR)\n",
    "    LAMBDA = 1\n",
    "    i = 0\n",
    "    print W\n",
    "    print \" GRADIENT MAGNITUDE : \",np.math.sqrt((GRAD**2).sum())\n",
    "    while i < 10 :\n",
    "        W = (1-2*step*LAMBDA)*W + 2*step*GRAD\n",
    "        \n",
    "        OUTPUT = H.dot(W)\n",
    "        ERROR = Y - OUTPUT\n",
    "        GRAD = -2*H.transpose().dot(ERROR)\n",
    "        print \" GRADIENT MAGNITUDE : \",np.math.sqrt((GRAD**2).sum())\n",
    "        print \"W : \",W\n",
    "    \n",
    "        \n",
    "        \n",
    "    \n",
    "    \n",
    "    \n",
    "    \n",
    "ridge_regression(data,3)"
   ]
  },
  {
   "cell_type": "code",
   "execution_count": null,
   "metadata": {
    "collapsed": true,
    "deletable": true,
    "editable": true
   },
   "outputs": [],
   "source": []
  },
  {
   "cell_type": "code",
   "execution_count": null,
   "metadata": {
    "collapsed": true,
    "deletable": true,
    "editable": true
   },
   "outputs": [],
   "source": []
  }
 ],
 "metadata": {
  "kernelspec": {
   "display_name": "Python 2",
   "language": "python",
   "name": "python2"
  },
  "language_info": {
   "codemirror_mode": {
    "name": "ipython",
    "version": 2
   },
   "file_extension": ".py",
   "mimetype": "text/x-python",
   "name": "python",
   "nbconvert_exporter": "python",
   "pygments_lexer": "ipython2",
   "version": "2.7.12"
  }
 },
 "nbformat": 4,
 "nbformat_minor": 2
}
