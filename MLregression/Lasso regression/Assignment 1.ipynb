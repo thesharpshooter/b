{
 "cells": [
  {
   "cell_type": "code",
   "execution_count": 8,
   "metadata": {
    "collapsed": false
   },
   "outputs": [],
   "source": [
    "import sklearn as sk\n",
    "import pandas as pd\n",
    "import numpy as np\n",
    "import matplotlib.pyplot as plt\n",
    "from sklearn import linear_model\n",
    "from math import sqrt,log\n"
   ]
  },
  {
   "cell_type": "code",
   "execution_count": 4,
   "metadata": {
    "collapsed": true
   },
   "outputs": [],
   "source": [
    "dtype_dict = {'bathrooms':float, 'waterfront':int, 'sqft_above':int, 'sqft_living15':float, 'grade':int, 'yr_renovated':int, 'price':float, 'bedrooms':float, 'zipcode':str, 'long':float, 'sqft_lot15':float, 'sqft_living':float, 'floors':float, 'condition':int, 'lat':float, 'date':str, 'sqft_basement':int, 'yr_built':int, 'id':str, 'sqft_lot':int, 'view':int}\n"
   ]
  },
  {
   "cell_type": "code",
   "execution_count": 7,
   "metadata": {
    "collapsed": false
   },
   "outputs": [],
   "source": [
    "sales = pd.read_csv('kc_house_data.csv',dtype=dtype_dict)\n"
   ]
  },
  {
   "cell_type": "markdown",
   "metadata": {},
   "source": [
    "# Adding new features to our model"
   ]
  },
  {
   "cell_type": "code",
   "execution_count": 11,
   "metadata": {
    "collapsed": true
   },
   "outputs": [],
   "source": [
    "sales['sqft_living_sqrt'] = sales['sqft_living'].apply(sqrt)\n",
    "sales['sqft_lot_sqrt'] = sales['sqft_lot'].apply(sqrt)\n",
    "sales['bedrooms_square'] = sales['bedrooms']*sales['bedrooms']\n",
    "sales['floors_square'] = sales['floors']*sales['floors']"
   ]
  },
  {
   "cell_type": "code",
   "execution_count": 15,
   "metadata": {
    "collapsed": false
   },
   "outputs": [],
   "source": [
    "all_features = ['bedrooms', 'bedrooms_square',\n",
    "            'bathrooms',\n",
    "            'sqft_living', 'sqft_living_sqrt',\n",
    "            'sqft_lot', 'sqft_lot_sqrt',\n",
    "            'floors', 'floors_square',\n",
    "            'waterfront', 'view', 'condition', 'grade',\n",
    "            'sqft_above',\n",
    "            'sqft_basement',\n",
    "            'yr_built', 'yr_renovated']\n"
   ]
  },
  {
   "cell_type": "code",
   "execution_count": 16,
   "metadata": {
    "collapsed": false
   },
   "outputs": [
    {
     "data": {
      "text/plain": [
       "Lasso(alpha=500.0, copy_X=True, fit_intercept=True, max_iter=1000,\n",
       "   normalize=True, positive=False, precompute=False, random_state=None,\n",
       "   selection='cyclic', tol=0.0001, warm_start=False)"
      ]
     },
     "execution_count": 16,
     "metadata": {},
     "output_type": "execute_result"
    }
   ],
   "source": [
    "model_all = sk.linear_model.Lasso(normalize=True,alpha=5e2)\n",
    "model_all.fit(sales[all_features],sales['price'])"
   ]
  },
  {
   "cell_type": "code",
   "execution_count": 24,
   "metadata": {
    "collapsed": false
   },
   "outputs": [],
   "source": [
    "w_all = list(model_all.coef_)"
   ]
  },
  {
   "cell_type": "code",
   "execution_count": 27,
   "metadata": {
    "collapsed": false
   },
   "outputs": [
    {
     "name": "stdout",
     "output_type": "stream",
     "text": [
      "bedrooms 0.0\n",
      "bedrooms_square 0.0\n",
      "bathrooms 0.0\n",
      "sqft_living 134.439313955\n",
      "sqft_living_sqrt 0.0\n",
      "sqft_lot 0.0\n",
      "sqft_lot_sqrt 0.0\n",
      "floors 0.0\n",
      "floors_square 0.0\n",
      "waterfront 0.0\n",
      "view 24750.0045856\n",
      "condition 0.0\n",
      "grade 61749.1030907\n",
      "sqft_above 0.0\n",
      "sqft_basement 0.0\n",
      "yr_built -0.0\n",
      "yr_renovated 0.0\n"
     ]
    }
   ],
   "source": [
    "for i in range(len(all_features)):\n",
    "    print all_features[i],w_all[i]"
   ]
  },
  {
   "cell_type": "markdown",
   "metadata": {},
   "source": [
    "# NONZERO FEATURES :\n",
    "## sqft_living 134.439313955\n",
    "## view 24750.0045856\n",
    "## grade 61749.1030907\n"
   ]
  },
  {
   "cell_type": "code",
   "execution_count": 28,
   "metadata": {
    "collapsed": true
   },
   "outputs": [],
   "source": [
    "test_data = pd.read_csv('wk3_kc_house_test_data.csv',dtype=dtype_dict)\n",
    "train_data = pd.read_csv('wk3_kc_house_train_data.csv',dtype = dtype_dict)\n",
    "validation_data = pd.read_csv('wk3_kc_house_valid_data.csv',dtype=dtype_dict)"
   ]
  },
  {
   "cell_type": "code",
   "execution_count": 29,
   "metadata": {
    "collapsed": true
   },
   "outputs": [],
   "source": [
    "test_data['sqft_living_sqrt'] = sales['sqft_living'].apply(sqrt)\n",
    "test_data['sqft_lot_sqrt'] = sales['sqft_lot'].apply(sqrt)\n",
    "test_data['bedrooms_square'] = sales['bedrooms']*sales['bedrooms']\n",
    "test_data['floors_square'] = sales['floors']*sales['floors']\n",
    "\n",
    "train_data['sqft_living_sqrt'] = sales['sqft_living'].apply(sqrt)\n",
    "train_data['sqft_lot_sqrt'] = sales['sqft_lot'].apply(sqrt)\n",
    "train_data['bedrooms_square'] = sales['bedrooms']*sales['bedrooms']\n",
    "train_data['floors_square'] = sales['floors']*sales['floors']\n",
    "\n",
    "validation_data['sqft_living_sqrt'] = sales['sqft_living'].apply(sqrt)\n",
    "validation_data['sqft_lot_sqrt'] = sales['sqft_lot'].apply(sqrt)\n",
    "validation_data['bedrooms_square'] = sales['bedrooms']*sales['bedrooms']\n",
    "validation_data['floors_square'] = sales['floors']*sales['floors']"
   ]
  },
  {
   "cell_type": "code",
   "execution_count": 30,
   "metadata": {
    "collapsed": true
   },
   "outputs": [],
   "source": [
    "L1 = np.logspace(1,7,num=13)"
   ]
  },
  {
   "cell_type": "code",
   "execution_count": 36,
   "metadata": {
    "collapsed": false
   },
   "outputs": [
    {
     "name": "stdout",
     "output_type": "stream",
     "text": [
      "20637259.4965 10.0\n",
      "20635272.1437 31.6227766017\n",
      "20793220.4335 100.0\n",
      "21534619.3615 316.227766017\n",
      "25414537.8403 1000.0\n",
      "34964365.5659 3162.27766017\n",
      "34964365.5659 10000.0\n",
      "34964365.5659 31622.7766017\n",
      "34964365.5659 100000.0\n",
      "34964365.5659 316227.766017\n",
      "34964365.5659 1000000.0\n",
      "34964365.5659 3162277.66017\n",
      "34964365.5659 10000000.0\n"
     ]
    }
   ],
   "source": [
    "for l in L1:\n",
    "    model = sk.linear_model.Lasso(normalize=True,alpha=l)\n",
    "    model.fit(train_data[all_features],train_data['price'])\n",
    "    prediction = model.predict(validation_data[all_features])\n",
    "    error = prediction - validation_data['price']\n",
    "    print sqrt((error*error).sum()), l"
   ]
  },
  {
   "cell_type": "markdown",
   "metadata": {},
   "source": [
    "# l1 = 31.6227766017 Produced minimum RSS"
   ]
  },
  {
   "cell_type": "code",
   "execution_count": 41,
   "metadata": {
    "collapsed": false
   },
   "outputs": [
    {
     "data": {
      "text/plain": [
       "Lasso(alpha=31.6227766017, copy_X=True, fit_intercept=True, max_iter=1000,\n",
       "   normalize=True, positive=False, precompute=False, random_state=None,\n",
       "   selection='cyclic', tol=0.0001, warm_start=False)"
      ]
     },
     "execution_count": 41,
     "metadata": {},
     "output_type": "execute_result"
    }
   ],
   "source": [
    "final_model = sk.linear_model.Lasso(normalize=True,alpha=31.6227766017)\n",
    "final_model.fit(train_data[all_features],train_data['price'])"
   ]
  },
  {
   "cell_type": "code",
   "execution_count": 42,
   "metadata": {
    "collapsed": false
   },
   "outputs": [
    {
     "name": "stdout",
     "output_type": "stream",
     "text": [
      "10297030.5789\n"
     ]
    }
   ],
   "source": [
    "prediction = final_model.predict(test_data[all_features])\n",
    "error = test_data['price'] - prediction\n",
    "print sqrt((error*error).sum())"
   ]
  },
  {
   "cell_type": "code",
   "execution_count": 43,
   "metadata": {
    "collapsed": false
   },
   "outputs": [
    {
     "data": {
      "text/plain": [
       "array([ -2.76729393e+04,   1.67230240e+02,   4.10384139e+04,\n",
       "         1.71521611e+02,  -0.00000000e+00,  -1.25120980e-01,\n",
       "        -1.94053934e+01,   1.71158856e+04,  -1.00860209e+03,\n",
       "         5.93010322e+05,   4.28665240e+04,   1.16493744e+04,\n",
       "         1.22281472e+05,   2.96713405e+00,   0.00000000e+00,\n",
       "        -3.56025727e+03,   2.40572982e-01])"
      ]
     },
     "execution_count": 43,
     "metadata": {},
     "output_type": "execute_result"
    }
   ],
   "source": [
    "final_model.coef_"
   ]
  },
  {
   "cell_type": "code",
   "execution_count": 44,
   "metadata": {
    "collapsed": false
   },
   "outputs": [
    {
     "data": {
      "text/plain": [
       "6189101.1820576582"
      ]
     },
     "execution_count": 44,
     "metadata": {},
     "output_type": "execute_result"
    }
   ],
   "source": [
    "final_model.intercept_"
   ]
  },
  {
   "cell_type": "markdown",
   "metadata": {},
   "source": [
    "# RSS ON THE TEST DATA WITH THE BEST MODEL IS : 10297030.5789"
   ]
  },
  {
   "cell_type": "code",
   "execution_count": 68,
   "metadata": {
    "collapsed": false
   },
   "outputs": [
    {
     "data": {
      "text/plain": [
       "16"
      ]
     },
     "execution_count": 68,
     "metadata": {},
     "output_type": "execute_result"
    }
   ],
   "source": [
    "np.count_nonzero(final_model.coef_) + np.count_nonzero(final_model.intercept_)\n"
   ]
  },
  {
   "cell_type": "markdown",
   "metadata": {},
   "source": [
    "# TOTAL NONZEROS COEFFICIENTS IN THE FINAL MODEL ARE 16"
   ]
  },
  {
   "cell_type": "code",
   "execution_count": 56,
   "metadata": {
    "collapsed": false
   },
   "outputs": [
    {
     "name": "stdout",
     "output_type": "stream",
     "text": [
      "127.42749857\n",
      "263.665089873\n"
     ]
    }
   ],
   "source": [
    "max_nonzeroes = 7\n",
    "l1_penalty = np.logspace(1,4,num=20)\n",
    "box1 = []\n",
    "box2 = []\n",
    "for l in l1_penalty:\n",
    "    model = sk.linear_model.Lasso(normalize=True,alpha=l)\n",
    "    model.fit(train_data[all_features],train_data['price'])\n",
    "    count = np.count_nonzero(model.coef_)+np.count_nonzero(model.intercept_)\n",
    "    if count > 7 :\n",
    "        box1.append(l)\n",
    "    elif count < 7:\n",
    "        box2.append(l)\n",
    "            \n",
    "print max(box1)\n",
    "print min(box2)"
   ]
  },
  {
   "cell_type": "code",
   "execution_count": 57,
   "metadata": {
    "collapsed": true
   },
   "outputs": [],
   "source": [
    "l1_penalty_min = max(box1)\n",
    "l1_penalty_max = min(box2)"
   ]
  },
  {
   "cell_type": "markdown",
   "metadata": {},
   "source": [
    "# l1_penalty_min = 127.42749857\n",
    "# l1_penalty_max = 263.665089873"
   ]
  },
  {
   "cell_type": "code",
   "execution_count": 61,
   "metadata": {
    "collapsed": false
   },
   "outputs": [
    {
     "name": "stdout",
     "output_type": "stream",
     "text": [
      "alpha =  127.42749857  non_zeroes =  8 RSS is :  20895204.9962\n",
      "alpha =  134.597898113  non_zeroes =  8 RSS is :  20924478.7952\n",
      "alpha =  141.768297655  non_zeroes =  7 RSS is :  20945458.9641\n",
      "alpha =  148.938697197  non_zeroes =  7 RSS is :  20960667.4992\n",
      "alpha =  156.109096739  non_zeroes =  7 RSS is :  20977073.9868\n",
      "alpha =  163.279496282  non_zeroes =  7 RSS is :  20994713.4941\n",
      "alpha =  170.449895824  non_zeroes =  7 RSS is :  21013497.7571\n",
      "alpha =  177.620295366  non_zeroes =  7 RSS is :  21033466.0691\n",
      "alpha =  184.790694908  non_zeroes =  7 RSS is :  21054617.6842\n",
      "alpha =  191.961094451  non_zeroes =  7 RSS is :  21077000.5181\n",
      "alpha =  199.131493993  non_zeroes =  7 RSS is :  21100493.0591\n",
      "alpha =  206.301893535  non_zeroes =  6 RSS is :  21125077.5483\n",
      "alpha =  213.472293077  non_zeroes =  6 RSS is :  21145044.7962\n",
      "alpha =  220.64269262  non_zeroes =  6 RSS is :  21165967.6805\n",
      "alpha =  227.813092162  non_zeroes =  6 RSS is :  21187843.37\n",
      "alpha =  234.983491704  non_zeroes =  6 RSS is :  21210668.9168\n",
      "alpha =  242.153891246  non_zeroes =  6 RSS is :  21234441.3343\n",
      "alpha =  249.324290789  non_zeroes =  6 RSS is :  21259172.7651\n",
      "alpha =  256.494690331  non_zeroes =  6 RSS is :  21284828.5022\n",
      "alpha =  263.665089873  non_zeroes =  6 RSS is :  21311421.1085\n"
     ]
    }
   ],
   "source": [
    "L = np.linspace(l1_penalty_min,l1_penalty_max,20)\n",
    "for l1 in L :\n",
    "    model = sk.linear_model.Lasso(normalize=True,alpha=l1)\n",
    "    model.fit(train_data[all_features],train_data['price'])\n",
    "    prediction = model.predict(validation_data[all_features])\n",
    "    error = prediction - validation_data['price']\n",
    "#     print sqrt((error*error).sum())\n",
    "    print \"alpha = \",l1,\" non_zeroes = \",np.count_nonzero(model.coef_)+np.count_nonzero(model.intercept_),'RSS is : ',sqrt((error*error).sum())"
   ]
  },
  {
   "cell_type": "markdown",
   "metadata": {},
   "source": [
    "# alpha =  141.768297655  non_zeroes =  7 RSS is :  20945458.9641"
   ]
  },
  {
   "cell_type": "code",
   "execution_count": 62,
   "metadata": {
    "collapsed": false
   },
   "outputs": [
    {
     "data": {
      "text/plain": [
       "Lasso(alpha=141.768297655, copy_X=True, fit_intercept=True, max_iter=1000,\n",
       "   normalize=True, positive=False, precompute=False, random_state=None,\n",
       "   selection='cyclic', tol=0.0001, warm_start=False)"
      ]
     },
     "execution_count": 62,
     "metadata": {},
     "output_type": "execute_result"
    }
   ],
   "source": [
    "final_model_7 = sk.linear_model.Lasso(normalize=True,alpha=141.768297655)\n",
    "final_model_7.fit(train_data[all_features],train_data['price'])\n"
   ]
  },
  {
   "cell_type": "code",
   "execution_count": 66,
   "metadata": {
    "collapsed": false
   },
   "outputs": [
    {
     "name": "stdout",
     "output_type": "stream",
     "text": [
      "bedrooms -0.0\n",
      "bedrooms_square 0.0\n",
      "bathrooms 13640.8669422\n",
      "sqft_living 162.420730103\n",
      "sqft_living_sqrt -0.0\n",
      "sqft_lot -0.0\n",
      "sqft_lot_sqrt -0.0\n",
      "floors 0.0\n",
      "floors_square -0.0\n",
      "waterfront 517880.636737\n",
      "view 42203.3982868\n",
      "condition 0.0\n",
      "grade 117754.029315\n",
      "sqft_above 0.0\n",
      "sqft_basement 0.0\n",
      "yr_built -2716.78668132\n",
      "yr_renovated 0.0\n"
     ]
    }
   ],
   "source": [
    "for i in range(len(all_features)):\n",
    "    print all_features[i],final_model_7.coef_[i]"
   ]
  },
  {
   "cell_type": "code",
   "execution_count": null,
   "metadata": {
    "collapsed": true
   },
   "outputs": [],
   "source": []
  }
 ],
 "metadata": {
  "kernelspec": {
   "display_name": "Python 2",
   "language": "python",
   "name": "python2"
  },
  "language_info": {
   "codemirror_mode": {
    "name": "ipython",
    "version": 2
   },
   "file_extension": ".py",
   "mimetype": "text/x-python",
   "name": "python",
   "nbconvert_exporter": "python",
   "pygments_lexer": "ipython2",
   "version": "2.7.12"
  }
 },
 "nbformat": 4,
 "nbformat_minor": 2
}
