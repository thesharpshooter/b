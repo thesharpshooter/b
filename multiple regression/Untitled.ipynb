{
 "cells": [
  {
   "cell_type": "code",
   "execution_count": 17,
   "metadata": {
    "collapsed": false,
    "deletable": true,
    "editable": true
   },
   "outputs": [],
   "source": [
    "import pandas as pd\n",
    "import numpy as np \n",
    "import matplotlib.pyplot as plt\n",
    "import sklearn as sk\n"
   ]
  },
  {
   "cell_type": "code",
   "execution_count": 29,
   "metadata": {
    "collapsed": false,
    "deletable": true,
    "editable": true
   },
   "outputs": [],
   "source": [
    "data = pd.read_csv(\"kc_house_data.csv\",dtype = {'bathrooms':float, 'waterfront':int, 'sqft_above':int, 'sqft_living15':float, 'grade':int, 'yr_renovated':int, 'price':float, 'bedrooms':float, 'zipcode':str, 'long':float, 'sqft_lot15':float, 'sqft_living':float, 'floors':str, 'condition':int, 'lat':float, 'date':str, 'sqft_basement':int, 'yr_built':int, 'id':str, 'sqft_lot':int, 'view':int})\n",
    "data_train = pd.read_csv(\"kc_house_train_data.csv\",dtype = {'bathrooms':float, 'waterfront':int, 'sqft_above':int, 'sqft_living15':float, 'grade':int, 'yr_renovated':int, 'price':float, 'bedrooms':float, 'zipcode':str, 'long':float, 'sqft_lot15':float, 'sqft_living':float, 'floors':str, 'condition':int, 'lat':float, 'date':str, 'sqft_basement':int, 'yr_built':int, 'id':str, 'sqft_lot':int, 'view':int})\n",
    "data_test = pd.read_csv(\"kc_house_test_data.csv\",dtype = {'bathrooms':float, 'waterfront':int, 'sqft_above':int, 'sqft_living15':float, 'grade':int, 'yr_renovated':int, 'price':float, 'bedrooms':float, 'zipcode':str, 'long':float, 'sqft_lot15':float, 'sqft_living':float, 'floors':str, 'condition':int, 'lat':float, 'date':str, 'sqft_basement':int, 'yr_built':int, 'id':str, 'sqft_lot':int, 'view':int})"
   ]
  },
  {
   "cell_type": "code",
   "execution_count": 30,
   "metadata": {
    "collapsed": false,
    "deletable": true,
    "editable": true
   },
   "outputs": [
    {
     "data": {
      "text/html": [
       "<div>\n",
       "<table border=\"1\" class=\"dataframe\">\n",
       "  <thead>\n",
       "    <tr style=\"text-align: right;\">\n",
       "      <th></th>\n",
       "      <th>id</th>\n",
       "      <th>date</th>\n",
       "      <th>price</th>\n",
       "      <th>bedrooms</th>\n",
       "      <th>bathrooms</th>\n",
       "      <th>sqft_living</th>\n",
       "      <th>sqft_lot</th>\n",
       "      <th>floors</th>\n",
       "      <th>waterfront</th>\n",
       "      <th>view</th>\n",
       "      <th>...</th>\n",
       "      <th>grade</th>\n",
       "      <th>sqft_above</th>\n",
       "      <th>sqft_basement</th>\n",
       "      <th>yr_built</th>\n",
       "      <th>yr_renovated</th>\n",
       "      <th>zipcode</th>\n",
       "      <th>lat</th>\n",
       "      <th>long</th>\n",
       "      <th>sqft_living15</th>\n",
       "      <th>sqft_lot15</th>\n",
       "    </tr>\n",
       "  </thead>\n",
       "  <tbody>\n",
       "    <tr>\n",
       "      <th>0</th>\n",
       "      <td>7129300520</td>\n",
       "      <td>20141013T000000</td>\n",
       "      <td>221900.0</td>\n",
       "      <td>3.0</td>\n",
       "      <td>1.00</td>\n",
       "      <td>1180.0</td>\n",
       "      <td>5650</td>\n",
       "      <td>1</td>\n",
       "      <td>0</td>\n",
       "      <td>0</td>\n",
       "      <td>...</td>\n",
       "      <td>7</td>\n",
       "      <td>1180</td>\n",
       "      <td>0</td>\n",
       "      <td>1955</td>\n",
       "      <td>0</td>\n",
       "      <td>98178</td>\n",
       "      <td>47.5112</td>\n",
       "      <td>-122.257</td>\n",
       "      <td>1340.0</td>\n",
       "      <td>5650.0</td>\n",
       "    </tr>\n",
       "    <tr>\n",
       "      <th>1</th>\n",
       "      <td>6414100192</td>\n",
       "      <td>20141209T000000</td>\n",
       "      <td>538000.0</td>\n",
       "      <td>3.0</td>\n",
       "      <td>2.25</td>\n",
       "      <td>2570.0</td>\n",
       "      <td>7242</td>\n",
       "      <td>2</td>\n",
       "      <td>0</td>\n",
       "      <td>0</td>\n",
       "      <td>...</td>\n",
       "      <td>7</td>\n",
       "      <td>2170</td>\n",
       "      <td>400</td>\n",
       "      <td>1951</td>\n",
       "      <td>1991</td>\n",
       "      <td>98125</td>\n",
       "      <td>47.7210</td>\n",
       "      <td>-122.319</td>\n",
       "      <td>1690.0</td>\n",
       "      <td>7639.0</td>\n",
       "    </tr>\n",
       "    <tr>\n",
       "      <th>2</th>\n",
       "      <td>5631500400</td>\n",
       "      <td>20150225T000000</td>\n",
       "      <td>180000.0</td>\n",
       "      <td>2.0</td>\n",
       "      <td>1.00</td>\n",
       "      <td>770.0</td>\n",
       "      <td>10000</td>\n",
       "      <td>1</td>\n",
       "      <td>0</td>\n",
       "      <td>0</td>\n",
       "      <td>...</td>\n",
       "      <td>6</td>\n",
       "      <td>770</td>\n",
       "      <td>0</td>\n",
       "      <td>1933</td>\n",
       "      <td>0</td>\n",
       "      <td>98028</td>\n",
       "      <td>47.7379</td>\n",
       "      <td>-122.233</td>\n",
       "      <td>2720.0</td>\n",
       "      <td>8062.0</td>\n",
       "    </tr>\n",
       "    <tr>\n",
       "      <th>3</th>\n",
       "      <td>2487200875</td>\n",
       "      <td>20141209T000000</td>\n",
       "      <td>604000.0</td>\n",
       "      <td>4.0</td>\n",
       "      <td>3.00</td>\n",
       "      <td>1960.0</td>\n",
       "      <td>5000</td>\n",
       "      <td>1</td>\n",
       "      <td>0</td>\n",
       "      <td>0</td>\n",
       "      <td>...</td>\n",
       "      <td>7</td>\n",
       "      <td>1050</td>\n",
       "      <td>910</td>\n",
       "      <td>1965</td>\n",
       "      <td>0</td>\n",
       "      <td>98136</td>\n",
       "      <td>47.5208</td>\n",
       "      <td>-122.393</td>\n",
       "      <td>1360.0</td>\n",
       "      <td>5000.0</td>\n",
       "    </tr>\n",
       "    <tr>\n",
       "      <th>4</th>\n",
       "      <td>1954400510</td>\n",
       "      <td>20150218T000000</td>\n",
       "      <td>510000.0</td>\n",
       "      <td>3.0</td>\n",
       "      <td>2.00</td>\n",
       "      <td>1680.0</td>\n",
       "      <td>8080</td>\n",
       "      <td>1</td>\n",
       "      <td>0</td>\n",
       "      <td>0</td>\n",
       "      <td>...</td>\n",
       "      <td>8</td>\n",
       "      <td>1680</td>\n",
       "      <td>0</td>\n",
       "      <td>1987</td>\n",
       "      <td>0</td>\n",
       "      <td>98074</td>\n",
       "      <td>47.6168</td>\n",
       "      <td>-122.045</td>\n",
       "      <td>1800.0</td>\n",
       "      <td>7503.0</td>\n",
       "    </tr>\n",
       "    <tr>\n",
       "      <th>5</th>\n",
       "      <td>7237550310</td>\n",
       "      <td>20140512T000000</td>\n",
       "      <td>1225000.0</td>\n",
       "      <td>4.0</td>\n",
       "      <td>4.50</td>\n",
       "      <td>5420.0</td>\n",
       "      <td>101930</td>\n",
       "      <td>1</td>\n",
       "      <td>0</td>\n",
       "      <td>0</td>\n",
       "      <td>...</td>\n",
       "      <td>11</td>\n",
       "      <td>3890</td>\n",
       "      <td>1530</td>\n",
       "      <td>2001</td>\n",
       "      <td>0</td>\n",
       "      <td>98053</td>\n",
       "      <td>47.6561</td>\n",
       "      <td>-122.005</td>\n",
       "      <td>4760.0</td>\n",
       "      <td>101930.0</td>\n",
       "    </tr>\n",
       "    <tr>\n",
       "      <th>6</th>\n",
       "      <td>1321400060</td>\n",
       "      <td>20140627T000000</td>\n",
       "      <td>257500.0</td>\n",
       "      <td>3.0</td>\n",
       "      <td>2.25</td>\n",
       "      <td>1715.0</td>\n",
       "      <td>6819</td>\n",
       "      <td>2</td>\n",
       "      <td>0</td>\n",
       "      <td>0</td>\n",
       "      <td>...</td>\n",
       "      <td>7</td>\n",
       "      <td>1715</td>\n",
       "      <td>0</td>\n",
       "      <td>1995</td>\n",
       "      <td>0</td>\n",
       "      <td>98003</td>\n",
       "      <td>47.3097</td>\n",
       "      <td>-122.327</td>\n",
       "      <td>2238.0</td>\n",
       "      <td>6819.0</td>\n",
       "    </tr>\n",
       "    <tr>\n",
       "      <th>7</th>\n",
       "      <td>2008000270</td>\n",
       "      <td>20150115T000000</td>\n",
       "      <td>291850.0</td>\n",
       "      <td>3.0</td>\n",
       "      <td>1.50</td>\n",
       "      <td>1060.0</td>\n",
       "      <td>9711</td>\n",
       "      <td>1</td>\n",
       "      <td>0</td>\n",
       "      <td>0</td>\n",
       "      <td>...</td>\n",
       "      <td>7</td>\n",
       "      <td>1060</td>\n",
       "      <td>0</td>\n",
       "      <td>1963</td>\n",
       "      <td>0</td>\n",
       "      <td>98198</td>\n",
       "      <td>47.4095</td>\n",
       "      <td>-122.315</td>\n",
       "      <td>1650.0</td>\n",
       "      <td>9711.0</td>\n",
       "    </tr>\n",
       "    <tr>\n",
       "      <th>8</th>\n",
       "      <td>2414600126</td>\n",
       "      <td>20150415T000000</td>\n",
       "      <td>229500.0</td>\n",
       "      <td>3.0</td>\n",
       "      <td>1.00</td>\n",
       "      <td>1780.0</td>\n",
       "      <td>7470</td>\n",
       "      <td>1</td>\n",
       "      <td>0</td>\n",
       "      <td>0</td>\n",
       "      <td>...</td>\n",
       "      <td>7</td>\n",
       "      <td>1050</td>\n",
       "      <td>730</td>\n",
       "      <td>1960</td>\n",
       "      <td>0</td>\n",
       "      <td>98146</td>\n",
       "      <td>47.5123</td>\n",
       "      <td>-122.337</td>\n",
       "      <td>1780.0</td>\n",
       "      <td>8113.0</td>\n",
       "    </tr>\n",
       "    <tr>\n",
       "      <th>9</th>\n",
       "      <td>3793500160</td>\n",
       "      <td>20150312T000000</td>\n",
       "      <td>323000.0</td>\n",
       "      <td>3.0</td>\n",
       "      <td>2.50</td>\n",
       "      <td>1890.0</td>\n",
       "      <td>6560</td>\n",
       "      <td>2</td>\n",
       "      <td>0</td>\n",
       "      <td>0</td>\n",
       "      <td>...</td>\n",
       "      <td>7</td>\n",
       "      <td>1890</td>\n",
       "      <td>0</td>\n",
       "      <td>2003</td>\n",
       "      <td>0</td>\n",
       "      <td>98038</td>\n",
       "      <td>47.3684</td>\n",
       "      <td>-122.031</td>\n",
       "      <td>2390.0</td>\n",
       "      <td>7570.0</td>\n",
       "    </tr>\n",
       "  </tbody>\n",
       "</table>\n",
       "<p>10 rows × 21 columns</p>\n",
       "</div>"
      ],
      "text/plain": [
       "           id             date      price  bedrooms  bathrooms  sqft_living  \\\n",
       "0  7129300520  20141013T000000   221900.0       3.0       1.00       1180.0   \n",
       "1  6414100192  20141209T000000   538000.0       3.0       2.25       2570.0   \n",
       "2  5631500400  20150225T000000   180000.0       2.0       1.00        770.0   \n",
       "3  2487200875  20141209T000000   604000.0       4.0       3.00       1960.0   \n",
       "4  1954400510  20150218T000000   510000.0       3.0       2.00       1680.0   \n",
       "5  7237550310  20140512T000000  1225000.0       4.0       4.50       5420.0   \n",
       "6  1321400060  20140627T000000   257500.0       3.0       2.25       1715.0   \n",
       "7  2008000270  20150115T000000   291850.0       3.0       1.50       1060.0   \n",
       "8  2414600126  20150415T000000   229500.0       3.0       1.00       1780.0   \n",
       "9  3793500160  20150312T000000   323000.0       3.0       2.50       1890.0   \n",
       "\n",
       "   sqft_lot floors  waterfront  view     ...      grade  sqft_above  \\\n",
       "0      5650      1           0     0     ...          7        1180   \n",
       "1      7242      2           0     0     ...          7        2170   \n",
       "2     10000      1           0     0     ...          6         770   \n",
       "3      5000      1           0     0     ...          7        1050   \n",
       "4      8080      1           0     0     ...          8        1680   \n",
       "5    101930      1           0     0     ...         11        3890   \n",
       "6      6819      2           0     0     ...          7        1715   \n",
       "7      9711      1           0     0     ...          7        1060   \n",
       "8      7470      1           0     0     ...          7        1050   \n",
       "9      6560      2           0     0     ...          7        1890   \n",
       "\n",
       "   sqft_basement  yr_built  yr_renovated  zipcode      lat     long  \\\n",
       "0              0      1955             0    98178  47.5112 -122.257   \n",
       "1            400      1951          1991    98125  47.7210 -122.319   \n",
       "2              0      1933             0    98028  47.7379 -122.233   \n",
       "3            910      1965             0    98136  47.5208 -122.393   \n",
       "4              0      1987             0    98074  47.6168 -122.045   \n",
       "5           1530      2001             0    98053  47.6561 -122.005   \n",
       "6              0      1995             0    98003  47.3097 -122.327   \n",
       "7              0      1963             0    98198  47.4095 -122.315   \n",
       "8            730      1960             0    98146  47.5123 -122.337   \n",
       "9              0      2003             0    98038  47.3684 -122.031   \n",
       "\n",
       "   sqft_living15  sqft_lot15  \n",
       "0         1340.0      5650.0  \n",
       "1         1690.0      7639.0  \n",
       "2         2720.0      8062.0  \n",
       "3         1360.0      5000.0  \n",
       "4         1800.0      7503.0  \n",
       "5         4760.0    101930.0  \n",
       "6         2238.0      6819.0  \n",
       "7         1650.0      9711.0  \n",
       "8         1780.0      8113.0  \n",
       "9         2390.0      7570.0  \n",
       "\n",
       "[10 rows x 21 columns]"
      ]
     },
     "execution_count": 30,
     "metadata": {},
     "output_type": "execute_result"
    }
   ],
   "source": [
    "data.head(10)"
   ]
  },
  {
   "cell_type": "code",
   "execution_count": 62,
   "metadata": {
    "collapsed": false,
    "deletable": true,
    "editable": true
   },
   "outputs": [],
   "source": [
    "data['bedroom_squared'] = data['bedrooms']**2\n",
    "data['bed_bath_rooms'] = data['bedrooms']*data['bathrooms']\n",
    "data['log_sqft_living'] = data['sqft_living'].apply(np.math.log)\n",
    "data['lat_plus_long'] = data['lat'] + data['long']\n",
    "\n",
    "data_train['bedroom_squared'] = data['bedrooms']**2\n",
    "data_train['bed_bath_rooms'] = data['bedrooms']*data['bathrooms']\n",
    "data_train['log_sqft_living'] = data['sqft_living'].apply(np.math.log)\n",
    "data_train['lat_plus_long'] = data['lat'] + data['long']\n",
    "\n",
    "data_test['bedroom_squared'] = data['bedrooms']**2\n",
    "data_test['bed_bath_rooms'] = data['bedrooms']*data['bathrooms']\n",
    "data_test['log_sqft_living'] = data['sqft_living'].apply(np.math.log)\n",
    "data_test['lat_plus_long'] = data['lat'] + data['long']\n"
   ]
  },
  {
   "cell_type": "markdown",
   "metadata": {
    "deletable": true,
    "editable": true
   },
   "source": [
    "# Added new input features to the data set \n",
    "* bedrooms squared\n",
    "* bed_bath_rooms\n",
    "* log_sqft_living\n",
    "* lat_plus_long"
   ]
  },
  {
   "cell_type": "code",
   "execution_count": 63,
   "metadata": {
    "collapsed": false,
    "deletable": true,
    "editable": true
   },
   "outputs": [
    {
     "name": "stdout",
     "output_type": "stream",
     "text": [
      "Mean of bedrooms_squared is :  12.1875147789\n",
      "Mean of bed_bath_rooms is :  7.32826909435\n",
      "Mean of log_sqft_living is : 7.54004185613\n",
      "Mean of lat_plus_long is : -74.6559050603\n"
     ]
    }
   ],
   "source": [
    "print \"Mean of bedrooms_squared is : \",data_test['bedroom_squared'].mean()\n",
    "print \"Mean of bed_bath_rooms is : \",data_test['bed_bath_rooms'].mean()\n",
    "print \"Mean of log_sqft_living is :\",data_test['log_sqft_living'].mean()\n",
    "print \"Mean of lat_plus_long is :\",data_test['lat_plus_long'].mean()"
   ]
  },
  {
   "cell_type": "markdown",
   "metadata": {
    "deletable": true,
    "editable": true
   },
   "source": [
    "# Mean of bedrooms_squared is :  12.1875147789\n",
    "# Mean of bed_bath_rooms is :  7.32826909435\n",
    "# Mean of log_sqft_living is : 7.54004185613\n",
    "# Mean of lat_plus_long is : -74.6559050603\n",
    "\n"
   ]
  },
  {
   "cell_type": "code",
   "execution_count": 64,
   "metadata": {
    "collapsed": false,
    "deletable": true,
    "editable": true
   },
   "outputs": [
    {
     "data": {
      "text/plain": [
       "LinearRegression(copy_X=True, fit_intercept=True, n_jobs=1, normalize=False)"
      ]
     },
     "execution_count": 64,
     "metadata": {},
     "output_type": "execute_result"
    }
   ],
   "source": [
    "model_1 = sk.linear_model.LinearRegression()\n",
    "model_1.fit(data_train[['sqft_living','bedrooms','bathrooms','lat','long']],data_train['price'])\n",
    "model_2 = sk.linear_model.LinearRegression()\n",
    "model_2.fit(data_train[['sqft_living','bedrooms','bathrooms','lat','long','bed_bath_rooms']],data_train['price'])\n",
    "model_3 = sk.linear_model.LinearRegression()\n",
    "model_3.fit(data_train[['sqft_living','bedrooms','bathrooms','lat','long','bed_bath_rooms','bedroom_squared',\n",
    "                       'log_sqft_living','lat_plus_long']],data_train['price'])"
   ]
  },
  {
   "cell_type": "code",
   "execution_count": 65,
   "metadata": {
    "collapsed": false,
    "deletable": true,
    "editable": true
   },
   "outputs": [
    {
     "name": "stdout",
     "output_type": "stream",
     "text": [
      "Model 1 coefficients :  -69075726.7926 [  3.12258646e+02  -5.95865332e+04   1.57067421e+04   6.58619264e+05\n",
      "  -3.09374351e+05]\n",
      "Model 2 coefficients :  -69076568.5239 [  3.12306473e+02  -5.95872323e+04   1.56844899e+04   6.58597198e+05\n",
      "  -3.09351344e+05   6.36272345e+02]\n",
      "Model 2 coefficients :  -69640349.6593 [  3.12278591e+02  -5.95775064e+04   1.57113977e+04   6.58576991e+05\n",
      "  -3.09375795e+05   1.17036847e+03  -1.49224586e+02  -3.38252912e+03\n",
      "  -7.83794967e+03]\n"
     ]
    }
   ],
   "source": [
    "print \"Model 1 coefficients : \",model_1.intercept_,model_1.coef_\n",
    "print \"Model 2 coefficients : \",model_2.intercept_,model_2.coef_\n",
    "print \"Model 2 coefficients : \",model_3.intercept_,model_3.coef_\n"
   ]
  },
  {
   "cell_type": "code",
   "execution_count": 68,
   "metadata": {
    "collapsed": false
   },
   "outputs": [],
   "source": [
    "output_1 = model_1.predict(data_test[['sqft_living','bedrooms','bathrooms','lat','long']])\n",
    "output_2 = model_2.predict(data_test[['sqft_living','bedrooms','bathrooms','lat','long','bed_bath_rooms']])\n",
    "output_3 = model_3.predict(data_test[['sqft_living','bedrooms','bathrooms','lat','long','bed_bath_rooms','bedroom_squared',\n",
    "                       'log_sqft_living','lat_plus_long']])\n",
    "\n",
    "output_1_train = model_1.predict(data_train[['sqft_living','bedrooms','bathrooms','lat','long']])\n",
    "output_2_train = model_2.predict(data_train[['sqft_living','bedrooms','bathrooms','lat','long','bed_bath_rooms']])\n",
    "output_3_train = model_3.predict(data_train[['sqft_living','bedrooms','bathrooms','lat','long','bed_bath_rooms','bedroom_squared',\n",
    "                       'log_sqft_living','lat_plus_long']])\n"
   ]
  },
  {
   "cell_type": "code",
   "execution_count": 69,
   "metadata": {
    "collapsed": false
   },
   "outputs": [
    {
     "name": "stdout",
     "output_type": "stream",
     "text": [
      "RSS 1 :  2.25500469795e+14\n",
      "RSS 2 :  2.25661972813e+14\n",
      "RSS 3 :  2.25684652569e+14\n"
     ]
    }
   ],
   "source": [
    "print \"RSS 1 : \",((data_test['price'] - output_1)**2).sum()\n",
    "print \"RSS 2 : \",((data_test['price'] - output_2)**2).sum()\n",
    "print \"RSS 3 : \",((data_test['price'] - output_3)**2).sum()"
   ]
  },
  {
   "cell_type": "markdown",
   "metadata": {},
   "source": [
    "# MODEL 1 HAS LOWEST RSS ON TEST SET"
   ]
  },
  {
   "cell_type": "code",
   "execution_count": 70,
   "metadata": {
    "collapsed": false
   },
   "outputs": [
    {
     "name": "stdout",
     "output_type": "stream",
     "text": [
      "RSS 1 :  9.6787996305e+14\n",
      "RSS 2 :  9.67757281242e+14\n",
      "RSS 3 :  9.67680784989e+14\n"
     ]
    }
   ],
   "source": [
    "print \"RSS 1 : \",((data_train['price'] - output_1_train)**2).sum()\n",
    "print \"RSS 2 : \",((data_train['price'] - output_2_train)**2).sum()\n",
    "print \"RSS 3 : \",((data_train['price'] - output_3_train)**2).sum()"
   ]
  },
  {
   "cell_type": "code",
   "execution_count": null,
   "metadata": {
    "collapsed": true
   },
   "outputs": [],
   "source": []
  }
 ],
 "metadata": {
  "kernelspec": {
   "display_name": "Python 2",
   "language": "python",
   "name": "python2"
  },
  "language_info": {
   "codemirror_mode": {
    "name": "ipython",
    "version": 2
   },
   "file_extension": ".py",
   "mimetype": "text/x-python",
   "name": "python",
   "nbconvert_exporter": "python",
   "pygments_lexer": "ipython2",
   "version": "2.7.12"
  }
 },
 "nbformat": 4,
 "nbformat_minor": 2
}
