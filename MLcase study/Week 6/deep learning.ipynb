{
 "cells": [
  {
   "cell_type": "code",
   "execution_count": 77,
   "metadata": {
    "collapsed": false
   },
   "outputs": [],
   "source": [
    "import graphlab as gl\n",
    "image_train_data = gl.SFrame(\"image_train_data/\")\n",
    "image_test_data = gl.SFrame(\"image_test_data/\")\n",
    "gl.canvas.set_target('ipynb')"
   ]
  },
  {
   "cell_type": "code",
   "execution_count": 78,
   "metadata": {
    "collapsed": false
   },
   "outputs": [
    {
     "name": "stdout",
     "output_type": "stream",
     "text": [
      "+-----+----------------------+------------+-------------------------------+\n",
      "|  id |        image         |   label    |         deep_features         |\n",
      "+-----+----------------------+------------+-------------------------------+\n",
      "|  24 | Height: 32 Width: 32 |    bird    | [0.242871761322, 1.0954537... |\n",
      "|  33 | Height: 32 Width: 32 |    cat     | [0.525087952614, 0.0, 0.0,... |\n",
      "|  36 | Height: 32 Width: 32 |    cat     | [0.566015958786, 0.0, 0.0,... |\n",
      "|  70 | Height: 32 Width: 32 |    dog     | [1.12979578972, 0.0, 0.0, ... |\n",
      "|  90 | Height: 32 Width: 32 |    bird    | [1.71786928177, 0.0, 0.0, ... |\n",
      "|  97 | Height: 32 Width: 32 | automobile | [1.57818555832, 0.0, 0.0, ... |\n",
      "| 107 | Height: 32 Width: 32 |    dog     | [0.0, 0.0, 0.220677852631,... |\n",
      "| 121 | Height: 32 Width: 32 |    bird    | [0.0, 0.23753464222, 0.0, ... |\n",
      "| 136 | Height: 32 Width: 32 | automobile | [0.0, 0.0, 0.0, 0.0, 0.0, ... |\n",
      "| 138 | Height: 32 Width: 32 |    bird    | [0.658935725689, 0.0, 0.0,... |\n",
      "+-----+----------------------+------------+-------------------------------+\n",
      "+-------------------------------+\n",
      "|          image_array          |\n",
      "+-------------------------------+\n",
      "| [73.0, 77.0, 58.0, 71.0, 6... |\n",
      "| [7.0, 5.0, 8.0, 7.0, 5.0, ... |\n",
      "| [169.0, 122.0, 65.0, 131.0... |\n",
      "| [154.0, 179.0, 152.0, 159.... |\n",
      "| [216.0, 195.0, 180.0, 201.... |\n",
      "| [33.0, 44.0, 27.0, 29.0, 4... |\n",
      "| [97.0, 51.0, 31.0, 104.0, ... |\n",
      "| [93.0, 96.0, 88.0, 102.0, ... |\n",
      "| [35.0, 59.0, 53.0, 36.0, 5... |\n",
      "| [205.0, 193.0, 195.0, 200.... |\n",
      "+-------------------------------+\n",
      "[2005 rows x 5 columns]\n",
      "Note: Only the head of the SFrame is printed.\n",
      "You can use print_rows(num_rows=m, num_columns=n) to print more rows and columns.\n",
      "+----+----------------------+------------+-------------------------------+\n",
      "| id |        image         |   label    |         deep_features         |\n",
      "+----+----------------------+------------+-------------------------------+\n",
      "| 0  | Height: 32 Width: 32 |    cat     | [1.13469004631, 0.0, 0.0, ... |\n",
      "| 6  | Height: 32 Width: 32 | automobile | [0.23135882616, 0.0, 0.0, ... |\n",
      "| 8  | Height: 32 Width: 32 |    cat     | [0.0, 0.0, 0.0344192385674... |\n",
      "| 9  | Height: 32 Width: 32 | automobile | [0.0, 0.0, 0.0, 0.0, 0.0, ... |\n",
      "| 12 | Height: 32 Width: 32 |    dog     | [0.322317481041, 0.0, 1.24... |\n",
      "| 16 | Height: 32 Width: 32 |    dog     | [0.0, 0.0, 0.347357034683,... |\n",
      "| 24 | Height: 32 Width: 32 |    dog     | [1.31557655334, 0.0, 0.0, ... |\n",
      "| 25 | Height: 32 Width: 32 |    bird    | [0.0, 0.317288756371, 0.0,... |\n",
      "| 31 | Height: 32 Width: 32 |    dog     | [0.0, 0.0, 0.0, 0.0, 0.0, ... |\n",
      "| 33 | Height: 32 Width: 32 |    dog     | [0.130786716938, 0.7276672... |\n",
      "+----+----------------------+------------+-------------------------------+\n",
      "+-------------------------------+\n",
      "|          image_array          |\n",
      "+-------------------------------+\n",
      "| [158.0, 112.0, 49.0, 159.0... |\n",
      "| [160.0, 37.0, 13.0, 185.0,... |\n",
      "| [23.0, 19.0, 23.0, 19.0, 2... |\n",
      "| [217.0, 215.0, 209.0, 210.... |\n",
      "| [91.0, 64.0, 30.0, 82.0, 5... |\n",
      "| [95.0, 76.0, 78.0, 92.0, 7... |\n",
      "| [136.0, 134.0, 118.0, 142.... |\n",
      "| [100.0, 103.0, 74.0, 68.0,... |\n",
      "| [127.0, 130.0, 81.0, 130.0... |\n",
      "| [118.0, 113.0, 81.0, 122.0... |\n",
      "+-------------------------------+\n",
      "[4000 rows x 5 columns]\n",
      "Note: Only the head of the SFrame is printed.\n",
      "You can use print_rows(num_rows=m, num_columns=n) to print more rows and columns.\n"
     ]
    }
   ],
   "source": [
    "print image_train_data\n",
    "print image_test_data"
   ]
  },
  {
   "cell_type": "code",
   "execution_count": 79,
   "metadata": {
    "collapsed": false
   },
   "outputs": [],
   "source": [
    "image_train_data['image'][0].show()"
   ]
  },
  {
   "cell_type": "code",
   "execution_count": 80,
   "metadata": {
    "collapsed": false
   },
   "outputs": [
    {
     "name": "stdout",
     "output_type": "stream",
     "text": [
      "PROGRESS: Creating a validation set from 5 percent of training data. This may take a while.\n",
      "          You can set ``validation_set=None`` to disable validation tracking.\n",
      "\n"
     ]
    },
    {
     "data": {
      "text/html": [
       "<pre>WARNING: The number of feature dimensions in this problem is very large in comparison with the number of examples. Unless an appropriate regularization value is set, this model may not provide accurate predictions for a validation/test set.</pre>"
      ],
      "text/plain": [
       "WARNING: The number of feature dimensions in this problem is very large in comparison with the number of examples. Unless an appropriate regularization value is set, this model may not provide accurate predictions for a validation/test set."
      ]
     },
     "metadata": {},
     "output_type": "display_data"
    },
    {
     "data": {
      "text/html": [
       "<pre>Logistic regression:</pre>"
      ],
      "text/plain": [
       "Logistic regression:"
      ]
     },
     "metadata": {},
     "output_type": "display_data"
    },
    {
     "data": {
      "text/html": [
       "<pre>--------------------------------------------------------</pre>"
      ],
      "text/plain": [
       "--------------------------------------------------------"
      ]
     },
     "metadata": {},
     "output_type": "display_data"
    },
    {
     "data": {
      "text/html": [
       "<pre>Number of examples          : 1902</pre>"
      ],
      "text/plain": [
       "Number of examples          : 1902"
      ]
     },
     "metadata": {},
     "output_type": "display_data"
    },
    {
     "data": {
      "text/html": [
       "<pre>Number of classes           : 4</pre>"
      ],
      "text/plain": [
       "Number of classes           : 4"
      ]
     },
     "metadata": {},
     "output_type": "display_data"
    },
    {
     "data": {
      "text/html": [
       "<pre>Number of feature columns   : 1</pre>"
      ],
      "text/plain": [
       "Number of feature columns   : 1"
      ]
     },
     "metadata": {},
     "output_type": "display_data"
    },
    {
     "data": {
      "text/html": [
       "<pre>Number of unpacked features : 3072</pre>"
      ],
      "text/plain": [
       "Number of unpacked features : 3072"
      ]
     },
     "metadata": {},
     "output_type": "display_data"
    },
    {
     "data": {
      "text/html": [
       "<pre>Number of coefficients    : 9219</pre>"
      ],
      "text/plain": [
       "Number of coefficients    : 9219"
      ]
     },
     "metadata": {},
     "output_type": "display_data"
    },
    {
     "data": {
      "text/html": [
       "<pre>Starting L-BFGS</pre>"
      ],
      "text/plain": [
       "Starting L-BFGS"
      ]
     },
     "metadata": {},
     "output_type": "display_data"
    },
    {
     "data": {
      "text/html": [
       "<pre>--------------------------------------------------------</pre>"
      ],
      "text/plain": [
       "--------------------------------------------------------"
      ]
     },
     "metadata": {},
     "output_type": "display_data"
    },
    {
     "data": {
      "text/html": [
       "<pre>+-----------+----------+-----------+--------------+-------------------+---------------------+</pre>"
      ],
      "text/plain": [
       "+-----------+----------+-----------+--------------+-------------------+---------------------+"
      ]
     },
     "metadata": {},
     "output_type": "display_data"
    },
    {
     "data": {
      "text/html": [
       "<pre>| Iteration | Passes   | Step size | Elapsed Time | Training-accuracy | Validation-accuracy |</pre>"
      ],
      "text/plain": [
       "| Iteration | Passes   | Step size | Elapsed Time | Training-accuracy | Validation-accuracy |"
      ]
     },
     "metadata": {},
     "output_type": "display_data"
    },
    {
     "data": {
      "text/html": [
       "<pre>+-----------+----------+-----------+--------------+-------------------+---------------------+</pre>"
      ],
      "text/plain": [
       "+-----------+----------+-----------+--------------+-------------------+---------------------+"
      ]
     },
     "metadata": {},
     "output_type": "display_data"
    },
    {
     "data": {
      "text/html": [
       "<pre>| 1         | 6        | 0.000027  | 2.812711     | 0.397476          | 0.398058            |</pre>"
      ],
      "text/plain": [
       "| 1         | 6        | 0.000027  | 2.812711     | 0.397476          | 0.398058            |"
      ]
     },
     "metadata": {},
     "output_type": "display_data"
    },
    {
     "data": {
      "text/html": [
       "<pre>| 2         | 8        | 1.000000  | 4.326422     | 0.401157          | 0.310680            |</pre>"
      ],
      "text/plain": [
       "| 2         | 8        | 1.000000  | 4.326422     | 0.401157          | 0.310680            |"
      ]
     },
     "metadata": {},
     "output_type": "display_data"
    },
    {
     "data": {
      "text/html": [
       "<pre>| 3         | 9        | 1.000000  | 4.973764     | 0.441640          | 0.330097            |</pre>"
      ],
      "text/plain": [
       "| 3         | 9        | 1.000000  | 4.973764     | 0.441640          | 0.330097            |"
      ]
     },
     "metadata": {},
     "output_type": "display_data"
    },
    {
     "data": {
      "text/html": [
       "<pre>| 4         | 10       | 1.000000  | 5.558150     | 0.441115          | 0.359223            |</pre>"
      ],
      "text/plain": [
       "| 4         | 10       | 1.000000  | 5.558150     | 0.441115          | 0.359223            |"
      ]
     },
     "metadata": {},
     "output_type": "display_data"
    },
    {
     "data": {
      "text/html": [
       "<pre>| 5         | 11       | 1.000000  | 6.161933     | 0.447424          | 0.339806            |</pre>"
      ],
      "text/plain": [
       "| 5         | 11       | 1.000000  | 6.161933     | 0.447424          | 0.339806            |"
      ]
     },
     "metadata": {},
     "output_type": "display_data"
    },
    {
     "data": {
      "text/html": [
       "<pre>| 6         | 12       | 1.000000  | 6.742094     | 0.455836          | 0.349515            |</pre>"
      ],
      "text/plain": [
       "| 6         | 12       | 1.000000  | 6.742094     | 0.455836          | 0.349515            |"
      ]
     },
     "metadata": {},
     "output_type": "display_data"
    },
    {
     "data": {
      "text/html": [
       "<pre>| 10        | 16       | 1.000000  | 8.991437     | 0.518402          | 0.427184            |</pre>"
      ],
      "text/plain": [
       "| 10        | 16       | 1.000000  | 8.991437     | 0.518402          | 0.427184            |"
      ]
     },
     "metadata": {},
     "output_type": "display_data"
    },
    {
     "data": {
      "text/html": [
       "<pre>+-----------+----------+-----------+--------------+-------------------+---------------------+</pre>"
      ],
      "text/plain": [
       "+-----------+----------+-----------+--------------+-------------------+---------------------+"
      ]
     },
     "metadata": {},
     "output_type": "display_data"
    },
    {
     "data": {
      "text/html": [
       "<pre>TERMINATED: Iteration limit reached.</pre>"
      ],
      "text/plain": [
       "TERMINATED: Iteration limit reached."
      ]
     },
     "metadata": {},
     "output_type": "display_data"
    },
    {
     "data": {
      "text/html": [
       "<pre>This model may not be optimal. To improve it, consider increasing `max_iterations`.</pre>"
      ],
      "text/plain": [
       "This model may not be optimal. To improve it, consider increasing `max_iterations`."
      ]
     },
     "metadata": {},
     "output_type": "display_data"
    }
   ],
   "source": [
    "simple_model = gl.logistic_classifier.create(image_train_data,features=['image_array'],target='label')"
   ]
  },
  {
   "cell_type": "code",
   "execution_count": 81,
   "metadata": {
    "collapsed": false
   },
   "outputs": [
    {
     "data": {
      "text/html": [
       "<div style=\"max-height:1000px;max-width:1500px;overflow:auto;\"><table frame=\"box\" rules=\"cols\">\n",
       "    <tr>\n",
       "        <th style=\"padding-left: 1em; padding-right: 1em; text-align: center\">id</th>\n",
       "        <th style=\"padding-left: 1em; padding-right: 1em; text-align: center\">image</th>\n",
       "        <th style=\"padding-left: 1em; padding-right: 1em; text-align: center\">label</th>\n",
       "        <th style=\"padding-left: 1em; padding-right: 1em; text-align: center\">deep_features</th>\n",
       "        <th style=\"padding-left: 1em; padding-right: 1em; text-align: center\">image_array</th>\n",
       "    </tr>\n",
       "    <tr>\n",
       "        <td style=\"padding-left: 1em; padding-right: 1em; text-align: center; vertical-align: top\">0</td>\n",
       "        <td style=\"padding-left: 1em; padding-right: 1em; text-align: center; vertical-align: top\">Height: 32 Width: 32</td>\n",
       "        <td style=\"padding-left: 1em; padding-right: 1em; text-align: center; vertical-align: top\">cat</td>\n",
       "        <td style=\"padding-left: 1em; padding-right: 1em; text-align: center; vertical-align: top\">[1.13469004631, 0.0, 0.0,<br>0.0, 0.0366497635841, ...</td>\n",
       "        <td style=\"padding-left: 1em; padding-right: 1em; text-align: center; vertical-align: top\">[158.0, 112.0, 49.0,<br>159.0, 111.0, 47.0, ...</td>\n",
       "    </tr>\n",
       "    <tr>\n",
       "        <td style=\"padding-left: 1em; padding-right: 1em; text-align: center; vertical-align: top\">6</td>\n",
       "        <td style=\"padding-left: 1em; padding-right: 1em; text-align: center; vertical-align: top\">Height: 32 Width: 32</td>\n",
       "        <td style=\"padding-left: 1em; padding-right: 1em; text-align: center; vertical-align: top\">automobile</td>\n",
       "        <td style=\"padding-left: 1em; padding-right: 1em; text-align: center; vertical-align: top\">[0.23135882616, 0.0, 0.0,<br>0.0, 0.0, 0.226023137 ...</td>\n",
       "        <td style=\"padding-left: 1em; padding-right: 1em; text-align: center; vertical-align: top\">[160.0, 37.0, 13.0,<br>185.0, 49.0, 11.0, 20 ...</td>\n",
       "    </tr>\n",
       "    <tr>\n",
       "        <td style=\"padding-left: 1em; padding-right: 1em; text-align: center; vertical-align: top\">8</td>\n",
       "        <td style=\"padding-left: 1em; padding-right: 1em; text-align: center; vertical-align: top\">Height: 32 Width: 32</td>\n",
       "        <td style=\"padding-left: 1em; padding-right: 1em; text-align: center; vertical-align: top\">cat</td>\n",
       "        <td style=\"padding-left: 1em; padding-right: 1em; text-align: center; vertical-align: top\">[0.0, 0.0,<br>0.0344192385674, 0.0, ...</td>\n",
       "        <td style=\"padding-left: 1em; padding-right: 1em; text-align: center; vertical-align: top\">[23.0, 19.0, 23.0, 19.0,<br>21.0, 28.0, 21.0, 16.0, ...</td>\n",
       "    </tr>\n",
       "    <tr>\n",
       "        <td style=\"padding-left: 1em; padding-right: 1em; text-align: center; vertical-align: top\">9</td>\n",
       "        <td style=\"padding-left: 1em; padding-right: 1em; text-align: center; vertical-align: top\">Height: 32 Width: 32</td>\n",
       "        <td style=\"padding-left: 1em; padding-right: 1em; text-align: center; vertical-align: top\">automobile</td>\n",
       "        <td style=\"padding-left: 1em; padding-right: 1em; text-align: center; vertical-align: top\">[0.0, 0.0, 0.0, 0.0, 0.0,<br>0.0, 11.6065092087, 0.0, ...</td>\n",
       "        <td style=\"padding-left: 1em; padding-right: 1em; text-align: center; vertical-align: top\">[217.0, 215.0, 209.0,<br>210.0, 208.0, 202.0, ...</td>\n",
       "    </tr>\n",
       "    <tr>\n",
       "        <td style=\"padding-left: 1em; padding-right: 1em; text-align: center; vertical-align: top\">12</td>\n",
       "        <td style=\"padding-left: 1em; padding-right: 1em; text-align: center; vertical-align: top\">Height: 32 Width: 32</td>\n",
       "        <td style=\"padding-left: 1em; padding-right: 1em; text-align: center; vertical-align: top\">dog</td>\n",
       "        <td style=\"padding-left: 1em; padding-right: 1em; text-align: center; vertical-align: top\">[0.322317481041, 0.0,<br>1.24933350086, 0.0, 0.0, ...</td>\n",
       "        <td style=\"padding-left: 1em; padding-right: 1em; text-align: center; vertical-align: top\">[91.0, 64.0, 30.0, 82.0,<br>58.0, 30.0, 87.0, 73.0, ...</td>\n",
       "    </tr>\n",
       "    <tr>\n",
       "        <td style=\"padding-left: 1em; padding-right: 1em; text-align: center; vertical-align: top\">16</td>\n",
       "        <td style=\"padding-left: 1em; padding-right: 1em; text-align: center; vertical-align: top\">Height: 32 Width: 32</td>\n",
       "        <td style=\"padding-left: 1em; padding-right: 1em; text-align: center; vertical-align: top\">dog</td>\n",
       "        <td style=\"padding-left: 1em; padding-right: 1em; text-align: center; vertical-align: top\">[0.0, 0.0,<br>0.347357034683, 0.0,  ...</td>\n",
       "        <td style=\"padding-left: 1em; padding-right: 1em; text-align: center; vertical-align: top\">[95.0, 76.0, 78.0, 92.0,<br>77.0, 78.0, 89.0, 77.0, ...</td>\n",
       "    </tr>\n",
       "    <tr>\n",
       "        <td style=\"padding-left: 1em; padding-right: 1em; text-align: center; vertical-align: top\">24</td>\n",
       "        <td style=\"padding-left: 1em; padding-right: 1em; text-align: center; vertical-align: top\">Height: 32 Width: 32</td>\n",
       "        <td style=\"padding-left: 1em; padding-right: 1em; text-align: center; vertical-align: top\">dog</td>\n",
       "        <td style=\"padding-left: 1em; padding-right: 1em; text-align: center; vertical-align: top\">[1.31557655334, 0.0, 0.0,<br>0.0, 0.0, 0.0, ...</td>\n",
       "        <td style=\"padding-left: 1em; padding-right: 1em; text-align: center; vertical-align: top\">[136.0, 134.0, 118.0,<br>142.0, 141.0, 126.0, ...</td>\n",
       "    </tr>\n",
       "    <tr>\n",
       "        <td style=\"padding-left: 1em; padding-right: 1em; text-align: center; vertical-align: top\">25</td>\n",
       "        <td style=\"padding-left: 1em; padding-right: 1em; text-align: center; vertical-align: top\">Height: 32 Width: 32</td>\n",
       "        <td style=\"padding-left: 1em; padding-right: 1em; text-align: center; vertical-align: top\">bird</td>\n",
       "        <td style=\"padding-left: 1em; padding-right: 1em; text-align: center; vertical-align: top\">[0.0, 0.317288756371,<br>0.0, 1.36552882195, ...</td>\n",
       "        <td style=\"padding-left: 1em; padding-right: 1em; text-align: center; vertical-align: top\">[100.0, 103.0, 74.0,<br>68.0, 91.0, 65.0, 116.0, ...</td>\n",
       "    </tr>\n",
       "    <tr>\n",
       "        <td style=\"padding-left: 1em; padding-right: 1em; text-align: center; vertical-align: top\">31</td>\n",
       "        <td style=\"padding-left: 1em; padding-right: 1em; text-align: center; vertical-align: top\">Height: 32 Width: 32</td>\n",
       "        <td style=\"padding-left: 1em; padding-right: 1em; text-align: center; vertical-align: top\">dog</td>\n",
       "        <td style=\"padding-left: 1em; padding-right: 1em; text-align: center; vertical-align: top\">[0.0, 0.0, 0.0, 0.0, 0.0,<br>0.0, 9.26018810272, 0.0, ...</td>\n",
       "        <td style=\"padding-left: 1em; padding-right: 1em; text-align: center; vertical-align: top\">[127.0, 130.0, 81.0,<br>130.0, 133.0, 88.0, ...</td>\n",
       "    </tr>\n",
       "    <tr>\n",
       "        <td style=\"padding-left: 1em; padding-right: 1em; text-align: center; vertical-align: top\">33</td>\n",
       "        <td style=\"padding-left: 1em; padding-right: 1em; text-align: center; vertical-align: top\">Height: 32 Width: 32</td>\n",
       "        <td style=\"padding-left: 1em; padding-right: 1em; text-align: center; vertical-align: top\">dog</td>\n",
       "        <td style=\"padding-left: 1em; padding-right: 1em; text-align: center; vertical-align: top\">[0.130786716938,<br>0.727667212486, 0.0,  ...</td>\n",
       "        <td style=\"padding-left: 1em; padding-right: 1em; text-align: center; vertical-align: top\">[118.0, 113.0, 81.0,<br>122.0, 117.0, 83.0, ...</td>\n",
       "    </tr>\n",
       "</table>\n",
       "[10 rows x 5 columns]<br/>\n",
       "</div>"
      ],
      "text/plain": [
       "Columns:\n",
       "\tid\tint\n",
       "\timage\tImage\n",
       "\tlabel\tstr\n",
       "\tdeep_features\tarray\n",
       "\timage_array\tarray\n",
       "\n",
       "Rows: 10\n",
       "\n",
       "Data:\n",
       "+----+----------------------+------------+-------------------------------+\n",
       "| id |        image         |   label    |         deep_features         |\n",
       "+----+----------------------+------------+-------------------------------+\n",
       "| 0  | Height: 32 Width: 32 |    cat     | [1.13469004631, 0.0, 0.0, ... |\n",
       "| 6  | Height: 32 Width: 32 | automobile | [0.23135882616, 0.0, 0.0, ... |\n",
       "| 8  | Height: 32 Width: 32 |    cat     | [0.0, 0.0, 0.0344192385674... |\n",
       "| 9  | Height: 32 Width: 32 | automobile | [0.0, 0.0, 0.0, 0.0, 0.0, ... |\n",
       "| 12 | Height: 32 Width: 32 |    dog     | [0.322317481041, 0.0, 1.24... |\n",
       "| 16 | Height: 32 Width: 32 |    dog     | [0.0, 0.0, 0.347357034683,... |\n",
       "| 24 | Height: 32 Width: 32 |    dog     | [1.31557655334, 0.0, 0.0, ... |\n",
       "| 25 | Height: 32 Width: 32 |    bird    | [0.0, 0.317288756371, 0.0,... |\n",
       "| 31 | Height: 32 Width: 32 |    dog     | [0.0, 0.0, 0.0, 0.0, 0.0, ... |\n",
       "| 33 | Height: 32 Width: 32 |    dog     | [0.130786716938, 0.7276672... |\n",
       "+----+----------------------+------------+-------------------------------+\n",
       "+-------------------------------+\n",
       "|          image_array          |\n",
       "+-------------------------------+\n",
       "| [158.0, 112.0, 49.0, 159.0... |\n",
       "| [160.0, 37.0, 13.0, 185.0,... |\n",
       "| [23.0, 19.0, 23.0, 19.0, 2... |\n",
       "| [217.0, 215.0, 209.0, 210.... |\n",
       "| [91.0, 64.0, 30.0, 82.0, 5... |\n",
       "| [95.0, 76.0, 78.0, 92.0, 7... |\n",
       "| [136.0, 134.0, 118.0, 142.... |\n",
       "| [100.0, 103.0, 74.0, 68.0,... |\n",
       "| [127.0, 130.0, 81.0, 130.0... |\n",
       "| [118.0, 113.0, 81.0, 122.0... |\n",
       "+-------------------------------+\n",
       "[10 rows x 5 columns]"
      ]
     },
     "execution_count": 81,
     "metadata": {},
     "output_type": "execute_result"
    }
   ],
   "source": [
    "image_test_data[0:10]"
   ]
  },
  {
   "cell_type": "code",
   "execution_count": 82,
   "metadata": {
    "collapsed": false
   },
   "outputs": [
    {
     "data": {
      "text/plain": [
       "dtype: str\n",
       "Rows: 10\n",
       "['bird', 'cat', 'bird', 'automobile', 'cat', 'dog', 'bird', 'bird', 'bird', 'bird']"
      ]
     },
     "execution_count": 82,
     "metadata": {},
     "output_type": "execute_result"
    }
   ],
   "source": [
    "simple_model.predict(image_test_data[0:10])"
   ]
  },
  {
   "cell_type": "code",
   "execution_count": 83,
   "metadata": {
    "collapsed": false
   },
   "outputs": [
    {
     "data": {
      "text/plain": [
       "{'accuracy': 0.475, 'auc': 0.7191065833333343, 'confusion_matrix': Columns:\n",
       " \ttarget_label\tstr\n",
       " \tpredicted_label\tstr\n",
       " \tcount\tint\n",
       " \n",
       " Rows: 16\n",
       " \n",
       " Data:\n",
       " +--------------+-----------------+-------+\n",
       " | target_label | predicted_label | count |\n",
       " +--------------+-----------------+-------+\n",
       " |     cat      |       cat       |  315  |\n",
       " |     bird     |       cat       |  148  |\n",
       " |     dog      |       dog       |  414  |\n",
       " |     cat      |       dog       |  299  |\n",
       " |     dog      |    automobile   |  119  |\n",
       " |  automobile  |       bird      |  111  |\n",
       " |     bird     |       bird      |  527  |\n",
       " |     bird     |       dog       |  180  |\n",
       " |     cat      |    automobile   |  175  |\n",
       " |     dog      |       bird      |  245  |\n",
       " +--------------+-----------------+-------+\n",
       " [16 rows x 3 columns]\n",
       " Note: Only the head of the SFrame is printed.\n",
       " You can use print_rows(num_rows=m, num_columns=n) to print more rows and columns., 'f1_score': 0.4703300452285785, 'log_loss': 1.2117710273093654, 'precision': 0.46824115994196924, 'recall': 0.475, 'roc_curve': Columns:\n",
       " \tthreshold\tfloat\n",
       " \tfpr\tfloat\n",
       " \ttpr\tfloat\n",
       " \tp\tint\n",
       " \tn\tint\n",
       " \tclass\tint\n",
       " \n",
       " Rows: 400004\n",
       " \n",
       " Data:\n",
       " +-----------+-----+-----+------+------+-------+\n",
       " | threshold | fpr | tpr |  p   |  n   | class |\n",
       " +-----------+-----+-----+------+------+-------+\n",
       " |    0.0    | 1.0 | 1.0 | 1000 | 3000 |   0   |\n",
       " |   1e-05   | 1.0 | 1.0 | 1000 | 3000 |   0   |\n",
       " |   2e-05   | 1.0 | 1.0 | 1000 | 3000 |   0   |\n",
       " |   3e-05   | 1.0 | 1.0 | 1000 | 3000 |   0   |\n",
       " |   4e-05   | 1.0 | 1.0 | 1000 | 3000 |   0   |\n",
       " |   5e-05   | 1.0 | 1.0 | 1000 | 3000 |   0   |\n",
       " |   6e-05   | 1.0 | 1.0 | 1000 | 3000 |   0   |\n",
       " |   7e-05   | 1.0 | 1.0 | 1000 | 3000 |   0   |\n",
       " |   8e-05   | 1.0 | 1.0 | 1000 | 3000 |   0   |\n",
       " |   9e-05   | 1.0 | 1.0 | 1000 | 3000 |   0   |\n",
       " +-----------+-----+-----+------+------+-------+\n",
       " [400004 rows x 6 columns]\n",
       " Note: Only the head of the SFrame is printed.\n",
       " You can use print_rows(num_rows=m, num_columns=n) to print more rows and columns.}"
      ]
     },
     "execution_count": 83,
     "metadata": {},
     "output_type": "execute_result"
    }
   ],
   "source": [
    "simple_model.evaluate(image_test_data)"
   ]
  },
  {
   "cell_type": "markdown",
   "metadata": {},
   "source": [
    "# Accuracy using simple model : 0.46775\n"
   ]
  },
  {
   "cell_type": "code",
   "execution_count": 84,
   "metadata": {
    "collapsed": false
   },
   "outputs": [
    {
     "name": "stdout",
     "output_type": "stream",
     "text": [
      "PROGRESS: Creating a validation set from 5 percent of training data. This may take a while.\n",
      "          You can set ``validation_set=None`` to disable validation tracking.\n",
      "\n"
     ]
    },
    {
     "data": {
      "text/html": [
       "<pre>WARNING: The number of feature dimensions in this problem is very large in comparison with the number of examples. Unless an appropriate regularization value is set, this model may not provide accurate predictions for a validation/test set.</pre>"
      ],
      "text/plain": [
       "WARNING: The number of feature dimensions in this problem is very large in comparison with the number of examples. Unless an appropriate regularization value is set, this model may not provide accurate predictions for a validation/test set."
      ]
     },
     "metadata": {},
     "output_type": "display_data"
    },
    {
     "data": {
      "text/html": [
       "<pre>WARNING: Detected extremely low variance for feature(s) 'deep_features' because all entries are nearly the same.\n",
       "Proceeding with model training using all features. If the model does not provide results of adequate quality, exclude the above mentioned feature(s) from the input dataset.</pre>"
      ],
      "text/plain": [
       "WARNING: Detected extremely low variance for feature(s) 'deep_features' because all entries are nearly the same.\n",
       "Proceeding with model training using all features. If the model does not provide results of adequate quality, exclude the above mentioned feature(s) from the input dataset."
      ]
     },
     "metadata": {},
     "output_type": "display_data"
    },
    {
     "data": {
      "text/html": [
       "<pre>Logistic regression:</pre>"
      ],
      "text/plain": [
       "Logistic regression:"
      ]
     },
     "metadata": {},
     "output_type": "display_data"
    },
    {
     "data": {
      "text/html": [
       "<pre>--------------------------------------------------------</pre>"
      ],
      "text/plain": [
       "--------------------------------------------------------"
      ]
     },
     "metadata": {},
     "output_type": "display_data"
    },
    {
     "data": {
      "text/html": [
       "<pre>Number of examples          : 1906</pre>"
      ],
      "text/plain": [
       "Number of examples          : 1906"
      ]
     },
     "metadata": {},
     "output_type": "display_data"
    },
    {
     "data": {
      "text/html": [
       "<pre>Number of classes           : 4</pre>"
      ],
      "text/plain": [
       "Number of classes           : 4"
      ]
     },
     "metadata": {},
     "output_type": "display_data"
    },
    {
     "data": {
      "text/html": [
       "<pre>Number of feature columns   : 1</pre>"
      ],
      "text/plain": [
       "Number of feature columns   : 1"
      ]
     },
     "metadata": {},
     "output_type": "display_data"
    },
    {
     "data": {
      "text/html": [
       "<pre>Number of unpacked features : 4096</pre>"
      ],
      "text/plain": [
       "Number of unpacked features : 4096"
      ]
     },
     "metadata": {},
     "output_type": "display_data"
    },
    {
     "data": {
      "text/html": [
       "<pre>Number of coefficients    : 12291</pre>"
      ],
      "text/plain": [
       "Number of coefficients    : 12291"
      ]
     },
     "metadata": {},
     "output_type": "display_data"
    },
    {
     "data": {
      "text/html": [
       "<pre>Starting L-BFGS</pre>"
      ],
      "text/plain": [
       "Starting L-BFGS"
      ]
     },
     "metadata": {},
     "output_type": "display_data"
    },
    {
     "data": {
      "text/html": [
       "<pre>--------------------------------------------------------</pre>"
      ],
      "text/plain": [
       "--------------------------------------------------------"
      ]
     },
     "metadata": {},
     "output_type": "display_data"
    },
    {
     "data": {
      "text/html": [
       "<pre>+-----------+----------+-----------+--------------+-------------------+---------------------+</pre>"
      ],
      "text/plain": [
       "+-----------+----------+-----------+--------------+-------------------+---------------------+"
      ]
     },
     "metadata": {},
     "output_type": "display_data"
    },
    {
     "data": {
      "text/html": [
       "<pre>| Iteration | Passes   | Step size | Elapsed Time | Training-accuracy | Validation-accuracy |</pre>"
      ],
      "text/plain": [
       "| Iteration | Passes   | Step size | Elapsed Time | Training-accuracy | Validation-accuracy |"
      ]
     },
     "metadata": {},
     "output_type": "display_data"
    },
    {
     "data": {
      "text/html": [
       "<pre>+-----------+----------+-----------+--------------+-------------------+---------------------+</pre>"
      ],
      "text/plain": [
       "+-----------+----------+-----------+--------------+-------------------+---------------------+"
      ]
     },
     "metadata": {},
     "output_type": "display_data"
    },
    {
     "data": {
      "text/html": [
       "<pre>| 1         | 5        | 0.000131  | 3.942931     | 0.729276          | 0.737374            |</pre>"
      ],
      "text/plain": [
       "| 1         | 5        | 0.000131  | 3.942931     | 0.729276          | 0.737374            |"
      ]
     },
     "metadata": {},
     "output_type": "display_data"
    },
    {
     "data": {
      "text/html": [
       "<pre>| 2         | 9        | 0.250000  | 7.051418     | 0.764953          | 0.747475            |</pre>"
      ],
      "text/plain": [
       "| 2         | 9        | 0.250000  | 7.051418     | 0.764953          | 0.747475            |"
      ]
     },
     "metadata": {},
     "output_type": "display_data"
    },
    {
     "data": {
      "text/html": [
       "<pre>| 3         | 10       | 0.250000  | 8.021398     | 0.770199          | 0.747475            |</pre>"
      ],
      "text/plain": [
       "| 3         | 10       | 0.250000  | 8.021398     | 0.770199          | 0.747475            |"
      ]
     },
     "metadata": {},
     "output_type": "display_data"
    },
    {
     "data": {
      "text/html": [
       "<pre>| 4         | 11       | 0.250000  | 8.954173     | 0.774397          | 0.757576            |</pre>"
      ],
      "text/plain": [
       "| 4         | 11       | 0.250000  | 8.954173     | 0.774397          | 0.757576            |"
      ]
     },
     "metadata": {},
     "output_type": "display_data"
    },
    {
     "data": {
      "text/html": [
       "<pre>| 5         | 12       | 0.250000  | 10.189627    | 0.783316          | 0.787879            |</pre>"
      ],
      "text/plain": [
       "| 5         | 12       | 0.250000  | 10.189627    | 0.783316          | 0.787879            |"
      ]
     },
     "metadata": {},
     "output_type": "display_data"
    },
    {
     "data": {
      "text/html": [
       "<pre>| 6         | 13       | 0.250000  | 11.239494    | 0.793809          | 0.808081            |</pre>"
      ],
      "text/plain": [
       "| 6         | 13       | 0.250000  | 11.239494    | 0.793809          | 0.808081            |"
      ]
     },
     "metadata": {},
     "output_type": "display_data"
    },
    {
     "data": {
      "text/html": [
       "<pre>| 7         | 14       | 0.250000  | 12.167584    | 0.816894          | 0.818182            |</pre>"
      ],
      "text/plain": [
       "| 7         | 14       | 0.250000  | 12.167584    | 0.816894          | 0.818182            |"
      ]
     },
     "metadata": {},
     "output_type": "display_data"
    },
    {
     "data": {
      "text/html": [
       "<pre>| 8         | 15       | 0.250000  | 13.108394    | 0.832634          | 0.838384            |</pre>"
      ],
      "text/plain": [
       "| 8         | 15       | 0.250000  | 13.108394    | 0.832634          | 0.838384            |"
      ]
     },
     "metadata": {},
     "output_type": "display_data"
    },
    {
     "data": {
      "text/html": [
       "<pre>| 9         | 16       | 0.250000  | 14.019431    | 0.855719          | 0.828283            |</pre>"
      ],
      "text/plain": [
       "| 9         | 16       | 0.250000  | 14.019431    | 0.855719          | 0.828283            |"
      ]
     },
     "metadata": {},
     "output_type": "display_data"
    },
    {
     "data": {
      "text/html": [
       "<pre>| 10        | 17       | 0.250000  | 14.918920    | 0.879328          | 0.818182            |</pre>"
      ],
      "text/plain": [
       "| 10        | 17       | 0.250000  | 14.918920    | 0.879328          | 0.818182            |"
      ]
     },
     "metadata": {},
     "output_type": "display_data"
    },
    {
     "data": {
      "text/html": [
       "<pre>+-----------+----------+-----------+--------------+-------------------+---------------------+</pre>"
      ],
      "text/plain": [
       "+-----------+----------+-----------+--------------+-------------------+---------------------+"
      ]
     },
     "metadata": {},
     "output_type": "display_data"
    },
    {
     "data": {
      "text/html": [
       "<pre>TERMINATED: Iteration limit reached.</pre>"
      ],
      "text/plain": [
       "TERMINATED: Iteration limit reached."
      ]
     },
     "metadata": {},
     "output_type": "display_data"
    },
    {
     "data": {
      "text/html": [
       "<pre>This model may not be optimal. To improve it, consider increasing `max_iterations`.</pre>"
      ],
      "text/plain": [
       "This model may not be optimal. To improve it, consider increasing `max_iterations`."
      ]
     },
     "metadata": {},
     "output_type": "display_data"
    }
   ],
   "source": [
    "deep_learning_model = gl.logistic_classifier.create(image_train_data,features = ['deep_features'],target = \"label\")"
   ]
  },
  {
   "cell_type": "code",
   "execution_count": 85,
   "metadata": {
    "collapsed": false
   },
   "outputs": [
    {
     "name": "stdout",
     "output_type": "stream",
     "text": [
      "+----+----------------------+------------+-------------------------------+\n",
      "| id |        image         |   label    |         deep_features         |\n",
      "+----+----------------------+------------+-------------------------------+\n",
      "| 0  | Height: 32 Width: 32 |    cat     | [1.13469004631, 0.0, 0.0, ... |\n",
      "| 6  | Height: 32 Width: 32 | automobile | [0.23135882616, 0.0, 0.0, ... |\n",
      "| 8  | Height: 32 Width: 32 |    cat     | [0.0, 0.0, 0.0344192385674... |\n",
      "| 9  | Height: 32 Width: 32 | automobile | [0.0, 0.0, 0.0, 0.0, 0.0, ... |\n",
      "| 12 | Height: 32 Width: 32 |    dog     | [0.322317481041, 0.0, 1.24... |\n",
      "| 16 | Height: 32 Width: 32 |    dog     | [0.0, 0.0, 0.347357034683,... |\n",
      "| 24 | Height: 32 Width: 32 |    dog     | [1.31557655334, 0.0, 0.0, ... |\n",
      "| 25 | Height: 32 Width: 32 |    bird    | [0.0, 0.317288756371, 0.0,... |\n",
      "| 31 | Height: 32 Width: 32 |    dog     | [0.0, 0.0, 0.0, 0.0, 0.0, ... |\n",
      "| 33 | Height: 32 Width: 32 |    dog     | [0.130786716938, 0.7276672... |\n",
      "+----+----------------------+------------+-------------------------------+\n",
      "+-------------------------------+\n",
      "|          image_array          |\n",
      "+-------------------------------+\n",
      "| [158.0, 112.0, 49.0, 159.0... |\n",
      "| [160.0, 37.0, 13.0, 185.0,... |\n",
      "| [23.0, 19.0, 23.0, 19.0, 2... |\n",
      "| [217.0, 215.0, 209.0, 210.... |\n",
      "| [91.0, 64.0, 30.0, 82.0, 5... |\n",
      "| [95.0, 76.0, 78.0, 92.0, 7... |\n",
      "| [136.0, 134.0, 118.0, 142.... |\n",
      "| [100.0, 103.0, 74.0, 68.0,... |\n",
      "| [127.0, 130.0, 81.0, 130.0... |\n",
      "| [118.0, 113.0, 81.0, 122.0... |\n",
      "+-------------------------------+\n",
      "[10 rows x 5 columns]\n",
      "\n"
     ]
    },
    {
     "data": {
      "text/plain": [
       "dtype: str\n",
       "Rows: 10\n",
       "['cat', 'automobile', 'cat', 'automobile', 'dog', 'dog', 'dog', 'bird', 'dog', 'cat']"
      ]
     },
     "execution_count": 85,
     "metadata": {},
     "output_type": "execute_result"
    }
   ],
   "source": [
    "print image_test_data[0:10]\n",
    "deep_learning_model.predict(image_test_data[0:10])"
   ]
  },
  {
   "cell_type": "code",
   "execution_count": 40,
   "metadata": {
    "collapsed": false
   },
   "outputs": [
    {
     "data": {
      "text/html": [
       "<pre>Starting brute force nearest neighbors model training.</pre>"
      ],
      "text/plain": [
       "Starting brute force nearest neighbors model training."
      ]
     },
     "metadata": {},
     "output_type": "display_data"
    }
   ],
   "source": [
    "knn_model = gl.nearest_neighbors.create(image_train_data,label='id',features=['deep_features'])"
   ]
  },
  {
   "cell_type": "code",
   "execution_count": 49,
   "metadata": {
    "collapsed": false
   },
   "outputs": [
    {
     "data": {
      "text/html": [
       "<pre>Starting pairwise querying.</pre>"
      ],
      "text/plain": [
       "Starting pairwise querying."
      ]
     },
     "metadata": {},
     "output_type": "display_data"
    },
    {
     "data": {
      "text/html": [
       "<pre>+--------------+---------+-------------+--------------+</pre>"
      ],
      "text/plain": [
       "+--------------+---------+-------------+--------------+"
      ]
     },
     "metadata": {},
     "output_type": "display_data"
    },
    {
     "data": {
      "text/html": [
       "<pre>| Query points | # Pairs | % Complete. | Elapsed Time |</pre>"
      ],
      "text/plain": [
       "| Query points | # Pairs | % Complete. | Elapsed Time |"
      ]
     },
     "metadata": {},
     "output_type": "display_data"
    },
    {
     "data": {
      "text/html": [
       "<pre>+--------------+---------+-------------+--------------+</pre>"
      ],
      "text/plain": [
       "+--------------+---------+-------------+--------------+"
      ]
     },
     "metadata": {},
     "output_type": "display_data"
    },
    {
     "data": {
      "text/html": [
       "<pre>| 0            | 1       | 0.0498753   | 16.067ms     |</pre>"
      ],
      "text/plain": [
       "| 0            | 1       | 0.0498753   | 16.067ms     |"
      ]
     },
     "metadata": {},
     "output_type": "display_data"
    },
    {
     "data": {
      "text/html": [
       "<pre>| Done         |         | 100         | 278.754ms    |</pre>"
      ],
      "text/plain": [
       "| Done         |         | 100         | 278.754ms    |"
      ]
     },
     "metadata": {},
     "output_type": "display_data"
    },
    {
     "data": {
      "text/html": [
       "<pre>+--------------+---------+-------------+--------------+</pre>"
      ],
      "text/plain": [
       "+--------------+---------+-------------+--------------+"
      ]
     },
     "metadata": {},
     "output_type": "display_data"
    },
    {
     "data": {
      "text/html": [
       "<div style=\"max-height:1000px;max-width:1500px;overflow:auto;\"><table frame=\"box\" rules=\"cols\">\n",
       "    <tr>\n",
       "        <th style=\"padding-left: 1em; padding-right: 1em; text-align: center\">query_label</th>\n",
       "        <th style=\"padding-left: 1em; padding-right: 1em; text-align: center\">reference_label</th>\n",
       "        <th style=\"padding-left: 1em; padding-right: 1em; text-align: center\">distance</th>\n",
       "        <th style=\"padding-left: 1em; padding-right: 1em; text-align: center\">rank</th>\n",
       "    </tr>\n",
       "    <tr>\n",
       "        <td style=\"padding-left: 1em; padding-right: 1em; text-align: center; vertical-align: top\">0</td>\n",
       "        <td style=\"padding-left: 1em; padding-right: 1em; text-align: center; vertical-align: top\">16289</td>\n",
       "        <td style=\"padding-left: 1em; padding-right: 1em; text-align: center; vertical-align: top\">34.623719208</td>\n",
       "        <td style=\"padding-left: 1em; padding-right: 1em; text-align: center; vertical-align: top\">1</td>\n",
       "    </tr>\n",
       "    <tr>\n",
       "        <td style=\"padding-left: 1em; padding-right: 1em; text-align: center; vertical-align: top\">0</td>\n",
       "        <td style=\"padding-left: 1em; padding-right: 1em; text-align: center; vertical-align: top\">45646</td>\n",
       "        <td style=\"padding-left: 1em; padding-right: 1em; text-align: center; vertical-align: top\">36.0068799284</td>\n",
       "        <td style=\"padding-left: 1em; padding-right: 1em; text-align: center; vertical-align: top\">2</td>\n",
       "    </tr>\n",
       "    <tr>\n",
       "        <td style=\"padding-left: 1em; padding-right: 1em; text-align: center; vertical-align: top\">0</td>\n",
       "        <td style=\"padding-left: 1em; padding-right: 1em; text-align: center; vertical-align: top\">32139</td>\n",
       "        <td style=\"padding-left: 1em; padding-right: 1em; text-align: center; vertical-align: top\">36.5200813436</td>\n",
       "        <td style=\"padding-left: 1em; padding-right: 1em; text-align: center; vertical-align: top\">3</td>\n",
       "    </tr>\n",
       "    <tr>\n",
       "        <td style=\"padding-left: 1em; padding-right: 1em; text-align: center; vertical-align: top\">0</td>\n",
       "        <td style=\"padding-left: 1em; padding-right: 1em; text-align: center; vertical-align: top\">25713</td>\n",
       "        <td style=\"padding-left: 1em; padding-right: 1em; text-align: center; vertical-align: top\">36.7548502521</td>\n",
       "        <td style=\"padding-left: 1em; padding-right: 1em; text-align: center; vertical-align: top\">4</td>\n",
       "    </tr>\n",
       "    <tr>\n",
       "        <td style=\"padding-left: 1em; padding-right: 1em; text-align: center; vertical-align: top\">0</td>\n",
       "        <td style=\"padding-left: 1em; padding-right: 1em; text-align: center; vertical-align: top\">331</td>\n",
       "        <td style=\"padding-left: 1em; padding-right: 1em; text-align: center; vertical-align: top\">36.8731228168</td>\n",
       "        <td style=\"padding-left: 1em; padding-right: 1em; text-align: center; vertical-align: top\">5</td>\n",
       "    </tr>\n",
       "</table>\n",
       "[5 rows x 4 columns]<br/>\n",
       "</div>"
      ],
      "text/plain": [
       "Columns:\n",
       "\tquery_label\tint\n",
       "\treference_label\tint\n",
       "\tdistance\tfloat\n",
       "\trank\tint\n",
       "\n",
       "Rows: 5\n",
       "\n",
       "Data:\n",
       "+-------------+-----------------+---------------+------+\n",
       "| query_label | reference_label |    distance   | rank |\n",
       "+-------------+-----------------+---------------+------+\n",
       "|      0      |      16289      |  34.623719208 |  1   |\n",
       "|      0      |      45646      | 36.0068799284 |  2   |\n",
       "|      0      |      32139      | 36.5200813436 |  3   |\n",
       "|      0      |      25713      | 36.7548502521 |  4   |\n",
       "|      0      |       331       | 36.8731228168 |  5   |\n",
       "+-------------+-----------------+---------------+------+\n",
       "[5 rows x 4 columns]"
      ]
     },
     "execution_count": 49,
     "metadata": {},
     "output_type": "execute_result"
    }
   ],
   "source": [
    "knn_model.query(image_test_data[0:1])"
   ]
  },
  {
   "cell_type": "code",
   "execution_count": 51,
   "metadata": {
    "collapsed": true
   },
   "outputs": [],
   "source": [
    "def get_images(query_result):\n",
    "    return image_train_data.filter_by(query_result['reference_label'],'id')"
   ]
  },
  {
   "cell_type": "code",
   "execution_count": 52,
   "metadata": {
    "collapsed": false
   },
   "outputs": [
    {
     "data": {
      "text/html": [
       "<pre>Starting pairwise querying.</pre>"
      ],
      "text/plain": [
       "Starting pairwise querying."
      ]
     },
     "metadata": {},
     "output_type": "display_data"
    },
    {
     "data": {
      "text/html": [
       "<pre>+--------------+---------+-------------+--------------+</pre>"
      ],
      "text/plain": [
       "+--------------+---------+-------------+--------------+"
      ]
     },
     "metadata": {},
     "output_type": "display_data"
    },
    {
     "data": {
      "text/html": [
       "<pre>| Query points | # Pairs | % Complete. | Elapsed Time |</pre>"
      ],
      "text/plain": [
       "| Query points | # Pairs | % Complete. | Elapsed Time |"
      ]
     },
     "metadata": {},
     "output_type": "display_data"
    },
    {
     "data": {
      "text/html": [
       "<pre>+--------------+---------+-------------+--------------+</pre>"
      ],
      "text/plain": [
       "+--------------+---------+-------------+--------------+"
      ]
     },
     "metadata": {},
     "output_type": "display_data"
    },
    {
     "data": {
      "text/html": [
       "<pre>| 0            | 1       | 0.0498753   | 22.53ms      |</pre>"
      ],
      "text/plain": [
       "| 0            | 1       | 0.0498753   | 22.53ms      |"
      ]
     },
     "metadata": {},
     "output_type": "display_data"
    },
    {
     "data": {
      "text/html": [
       "<pre>| Done         |         | 100         | 266.108ms    |</pre>"
      ],
      "text/plain": [
       "| Done         |         | 100         | 266.108ms    |"
      ]
     },
     "metadata": {},
     "output_type": "display_data"
    },
    {
     "data": {
      "text/html": [
       "<pre>+--------------+---------+-------------+--------------+</pre>"
      ],
      "text/plain": [
       "+--------------+---------+-------------+--------------+"
      ]
     },
     "metadata": {},
     "output_type": "display_data"
    },
    {
     "data": {
      "text/html": [
       "<div style=\"max-height:1000px;max-width:1500px;overflow:auto;\"><table frame=\"box\" rules=\"cols\">\n",
       "    <tr>\n",
       "        <th style=\"padding-left: 1em; padding-right: 1em; text-align: center\">id</th>\n",
       "        <th style=\"padding-left: 1em; padding-right: 1em; text-align: center\">image</th>\n",
       "        <th style=\"padding-left: 1em; padding-right: 1em; text-align: center\">label</th>\n",
       "        <th style=\"padding-left: 1em; padding-right: 1em; text-align: center\">deep_features</th>\n",
       "        <th style=\"padding-left: 1em; padding-right: 1em; text-align: center\">image_array</th>\n",
       "    </tr>\n",
       "    <tr>\n",
       "        <td style=\"padding-left: 1em; padding-right: 1em; text-align: center; vertical-align: top\">331</td>\n",
       "        <td style=\"padding-left: 1em; padding-right: 1em; text-align: center; vertical-align: top\">Height: 32 Width: 32</td>\n",
       "        <td style=\"padding-left: 1em; padding-right: 1em; text-align: center; vertical-align: top\">cat</td>\n",
       "        <td style=\"padding-left: 1em; padding-right: 1em; text-align: center; vertical-align: top\">[0.0, 0.0,<br>0.510963916779, 0.0,  ...</td>\n",
       "        <td style=\"padding-left: 1em; padding-right: 1em; text-align: center; vertical-align: top\">[45.0, 65.0, 92.0, 72.0,<br>95.0, 110.0, 106.0, ...</td>\n",
       "    </tr>\n",
       "    <tr>\n",
       "        <td style=\"padding-left: 1em; padding-right: 1em; text-align: center; vertical-align: top\">16289</td>\n",
       "        <td style=\"padding-left: 1em; padding-right: 1em; text-align: center; vertical-align: top\">Height: 32 Width: 32</td>\n",
       "        <td style=\"padding-left: 1em; padding-right: 1em; text-align: center; vertical-align: top\">cat</td>\n",
       "        <td style=\"padding-left: 1em; padding-right: 1em; text-align: center; vertical-align: top\">[0.964287519455, 0.0,<br>0.0, 0.0, 1.12515509129, ...</td>\n",
       "        <td style=\"padding-left: 1em; padding-right: 1em; text-align: center; vertical-align: top\">[215.0, 219.0, 231.0,<br>215.0, 219.0, 232.0, ...</td>\n",
       "    </tr>\n",
       "    <tr>\n",
       "        <td style=\"padding-left: 1em; padding-right: 1em; text-align: center; vertical-align: top\">25713</td>\n",
       "        <td style=\"padding-left: 1em; padding-right: 1em; text-align: center; vertical-align: top\">Height: 32 Width: 32</td>\n",
       "        <td style=\"padding-left: 1em; padding-right: 1em; text-align: center; vertical-align: top\">cat</td>\n",
       "        <td style=\"padding-left: 1em; padding-right: 1em; text-align: center; vertical-align: top\">[0.536971271038, 0.0,<br>0.0, 0.0894458889961, ...</td>\n",
       "        <td style=\"padding-left: 1em; padding-right: 1em; text-align: center; vertical-align: top\">[228.0, 222.0, 236.0,<br>224.0, 213.0, 222.0, ...</td>\n",
       "    </tr>\n",
       "    <tr>\n",
       "        <td style=\"padding-left: 1em; padding-right: 1em; text-align: center; vertical-align: top\">32139</td>\n",
       "        <td style=\"padding-left: 1em; padding-right: 1em; text-align: center; vertical-align: top\">Height: 32 Width: 32</td>\n",
       "        <td style=\"padding-left: 1em; padding-right: 1em; text-align: center; vertical-align: top\">cat</td>\n",
       "        <td style=\"padding-left: 1em; padding-right: 1em; text-align: center; vertical-align: top\">[1.29409468174, 0.0, 0.0,<br>0.513800263405, ...</td>\n",
       "        <td style=\"padding-left: 1em; padding-right: 1em; text-align: center; vertical-align: top\">[217.0, 220.0, 205.0,<br>221.0, 227.0, 218.0, ...</td>\n",
       "    </tr>\n",
       "    <tr>\n",
       "        <td style=\"padding-left: 1em; padding-right: 1em; text-align: center; vertical-align: top\">45646</td>\n",
       "        <td style=\"padding-left: 1em; padding-right: 1em; text-align: center; vertical-align: top\">Height: 32 Width: 32</td>\n",
       "        <td style=\"padding-left: 1em; padding-right: 1em; text-align: center; vertical-align: top\">cat</td>\n",
       "        <td style=\"padding-left: 1em; padding-right: 1em; text-align: center; vertical-align: top\">[0.983677506447, 0.0,<br>0.0, 0.0, 0.0, ...</td>\n",
       "        <td style=\"padding-left: 1em; padding-right: 1em; text-align: center; vertical-align: top\">[51.0, 42.0, 26.0, 56.0,<br>47.0, 31.0, 59.0, 50.0, ...</td>\n",
       "    </tr>\n",
       "</table>\n",
       "[5 rows x 5 columns]<br/>\n",
       "</div>"
      ],
      "text/plain": [
       "Columns:\n",
       "\tid\tint\n",
       "\timage\tImage\n",
       "\tlabel\tstr\n",
       "\tdeep_features\tarray\n",
       "\timage_array\tarray\n",
       "\n",
       "Rows: 5\n",
       "\n",
       "Data:\n",
       "+-------+----------------------+-------+-------------------------------+\n",
       "|   id  |        image         | label |         deep_features         |\n",
       "+-------+----------------------+-------+-------------------------------+\n",
       "|  331  | Height: 32 Width: 32 |  cat  | [0.0, 0.0, 0.510963916779,... |\n",
       "| 16289 | Height: 32 Width: 32 |  cat  | [0.964287519455, 0.0, 0.0,... |\n",
       "| 25713 | Height: 32 Width: 32 |  cat  | [0.536971271038, 0.0, 0.0,... |\n",
       "| 32139 | Height: 32 Width: 32 |  cat  | [1.29409468174, 0.0, 0.0, ... |\n",
       "| 45646 | Height: 32 Width: 32 |  cat  | [0.983677506447, 0.0, 0.0,... |\n",
       "+-------+----------------------+-------+-------------------------------+\n",
       "+-------------------------------+\n",
       "|          image_array          |\n",
       "+-------------------------------+\n",
       "| [45.0, 65.0, 92.0, 72.0, 9... |\n",
       "| [215.0, 219.0, 231.0, 215.... |\n",
       "| [228.0, 222.0, 236.0, 224.... |\n",
       "| [217.0, 220.0, 205.0, 221.... |\n",
       "| [51.0, 42.0, 26.0, 56.0, 4... |\n",
       "+-------------------------------+\n",
       "[5 rows x 5 columns]"
      ]
     },
     "execution_count": 52,
     "metadata": {},
     "output_type": "execute_result"
    }
   ],
   "source": [
    "get_images(knn_model.query(image_test_data[0:1]))"
   ]
  },
  {
   "cell_type": "code",
   "execution_count": 64,
   "metadata": {
    "collapsed": true
   },
   "outputs": [],
   "source": [
    "get_result = lambda x : get_images(knn_model.query(image_test_data[x:x+1]))['image'].show()"
   ]
  },
  {
   "cell_type": "code",
   "execution_count": 65,
   "metadata": {
    "collapsed": false
   },
   "outputs": [
    {
     "data": {
      "text/html": [
       "<pre>Starting pairwise querying.</pre>"
      ],
      "text/plain": [
       "Starting pairwise querying."
      ]
     },
     "metadata": {},
     "output_type": "display_data"
    },
    {
     "data": {
      "text/html": [
       "<pre>+--------------+---------+-------------+--------------+</pre>"
      ],
      "text/plain": [
       "+--------------+---------+-------------+--------------+"
      ]
     },
     "metadata": {},
     "output_type": "display_data"
    },
    {
     "data": {
      "text/html": [
       "<pre>| Query points | # Pairs | % Complete. | Elapsed Time |</pre>"
      ],
      "text/plain": [
       "| Query points | # Pairs | % Complete. | Elapsed Time |"
      ]
     },
     "metadata": {},
     "output_type": "display_data"
    },
    {
     "data": {
      "text/html": [
       "<pre>+--------------+---------+-------------+--------------+</pre>"
      ],
      "text/plain": [
       "+--------------+---------+-------------+--------------+"
      ]
     },
     "metadata": {},
     "output_type": "display_data"
    },
    {
     "data": {
      "text/html": [
       "<pre>| 0            | 1       | 0.0498753   | 19.935ms     |</pre>"
      ],
      "text/plain": [
       "| 0            | 1       | 0.0498753   | 19.935ms     |"
      ]
     },
     "metadata": {},
     "output_type": "display_data"
    },
    {
     "data": {
      "text/html": [
       "<pre>| Done         |         | 100         | 271.958ms    |</pre>"
      ],
      "text/plain": [
       "| Done         |         | 100         | 271.958ms    |"
      ]
     },
     "metadata": {},
     "output_type": "display_data"
    },
    {
     "data": {
      "text/html": [
       "<pre>+--------------+---------+-------------+--------------+</pre>"
      ],
      "text/plain": [
       "+--------------+---------+-------------+--------------+"
      ]
     },
     "metadata": {},
     "output_type": "display_data"
    },
    {
     "data": {
      "application/javascript": [
       "$(\"head\").append($(\"<link/>\").attr({\n",
       "  rel:  \"stylesheet\",\n",
       "  type: \"text/css\",\n",
       "  href: \"//cdnjs.cloudflare.com/ajax/libs/font-awesome/4.1.0/css/font-awesome.min.css\"\n",
       "}));\n",
       "$(\"head\").append($(\"<link/>\").attr({\n",
       "  rel:  \"stylesheet\",\n",
       "  type: \"text/css\",\n",
       "  href: \"https://static.turi.com/products/graphlab-create/2.1/canvas/css/canvas.css\"\n",
       "}));\n",
       "\n",
       "            (function(){\n",
       "\n",
       "                var e = null;\n",
       "                if (typeof element == 'undefined') {\n",
       "                    var scripts = document.getElementsByTagName('script');\n",
       "                    var thisScriptTag = scripts[scripts.length-1];\n",
       "                    var parentDiv = thisScriptTag.parentNode;\n",
       "                    e = document.createElement('div');\n",
       "                    parentDiv.appendChild(e);\n",
       "                } else {\n",
       "                    e = element[0];\n",
       "                }\n",
       "\n",
       "                if (typeof requirejs !== 'undefined') {\n",
       "                    // disable load timeout; ipython_app.js is large and can take a while to load.\n",
       "                    requirejs.config({waitSeconds: 0});\n",
       "                }\n",
       "\n",
       "                require(['https://static.turi.com/products/graphlab-create/2.1/canvas/js/ipython_app.js'], function(IPythonApp){\n",
       "                    var app = new IPythonApp();\n",
       "                    app.attachView('sarray','Images', {\"ipython\": true, \"rows\": [{\"format\": \"raw\", \"value\": [113, 46, 2, 111, 45, 2, 115, 46, 1, 114, 47, 2, 115, 47, 1, 117, 48, 2, 120, 50, 2, 124, 54, 2, 123, 54, 2, 127, 56, 2, 129, 61, 3, 131, 61, 4, 130, 62, 4, 131, 62, 1, 131, 65, 2, 131, 66, 3, 128, 67, 2, 129, 67, 2, 132, 68, 3, 129, 68, 2, 129, 67, 2, 126, 66, 2, 123, 63, 1, 118, 60, 0, 116, 60, 2, 117, 58, 2, 115, 56, 2, 115, 56, 2, 114, 53, 2, 120, 56, 2, 114, 52, 1, 117, 55, 3, 118, 46, 2, 116, 46, 2, 118, 46, 1, 118, 47, 3, 119, 47, 2, 123, 49, 2, 128, 51, 2, 133, 56, 2, 133, 57, 3, 137, 59, 3, 138, 63, 2, 140, 65, 3, 136, 64, 3, 138, 65, 1, 136, 67, 1, 137, 68, 1, 134, 69, 1, 136, 70, 2, 138, 70, 3, 136, 71, 3, 137, 70, 2, 135, 68, 2, 131, 67, 2, 125, 64, 1, 122, 62, 1, 122, 60, 1, 121, 58, 2, 120, 58, 2, 119, 55, 2, 123, 58, 3, 116, 54, 2, 120, 57, 3, 119, 45, 2, 118, 45, 2, 118, 44, 2, 119, 46, 3, 118, 46, 2, 125, 49, 2, 128, 53, 2, 136, 58, 2, 138, 59, 2, 142, 61, 2, 143, 65, 1, 146, 68, 2, 141, 67, 4, 142, 68, 3, 141, 69, 2, 140, 69, 3, 138, 70, 3, 141, 72, 5, 143, 73, 9, 142, 74, 10, 142, 72, 8, 140, 70, 6, 135, 68, 5, 128, 66, 4, 125, 63, 2, 125, 61, 2, 123, 59, 2, 123, 59, 2, 121, 56, 3, 124, 58, 3, 117, 54, 2, 120, 57, 3, 119, 44, 3, 120, 44, 2, 118, 43, 3, 120, 45, 2, 118, 47, 2, 123, 49, 5, 127, 57, 6, 142, 65, 12, 146, 68, 14, 153, 72, 16, 154, 77, 20, 156, 78, 17, 151, 78, 20, 154, 80, 20, 151, 77, 18, 149, 78, 24, 145, 80, 24, 146, 81, 25, 146, 81, 26, 147, 83, 28, 146, 83, 28, 143, 80, 24, 141, 77, 24, 136, 73, 19, 129, 64, 5, 127, 62, 3, 125, 60, 2, 124, 59, 4, 122, 57, 4, 125, 58, 2, 119, 56, 2, 120, 58, 2, 119, 43, 3, 119, 43, 1, 116, 43, 3, 120, 43, 2, 117, 46, 3, 97, 47, 16, 104, 54, 20, 128, 68, 28, 147, 77, 31, 162, 81, 28, 161, 88, 33, 163, 89, 30, 159, 86, 30, 159, 87, 29, 155, 85, 29, 151, 82, 30, 147, 82, 31, 148, 85, 36, 147, 84, 34, 148, 86, 33, 146, 85, 32, 143, 81, 26, 143, 79, 26, 139, 74, 20, 132, 66, 6, 129, 63, 5, 124, 60, 2, 122, 59, 4, 119, 57, 4, 123, 58, 2, 118, 55, 2, 119, 57, 1, 119, 43, 3, 118, 42, 1, 115, 42, 2, 118, 42, 2, 106, 42, 6, 68, 41, 23, 96, 54, 30, 108, 58, 24, 133, 68, 22, 160, 73, 11, 158, 77, 12, 160, 79, 10, 154, 77, 11, 152, 76, 10, 147, 77, 12, 147, 74, 10, 143, 74, 13, 143, 74, 17, 143, 75, 19, 143, 75, 18, 142, 74, 15, 141, 71, 9, 136, 68, 3, 131, 64, 0, 129, 61, 0, 127, 61, 2, 124, 60, 3, 119, 59, 3, 116, 57, 4, 120, 58, 3, 115, 55, 3, 118, 56, 1, 118, 43, 3, 118, 43, 2, 114, 41, 2, 116, 43, 3, 102, 48, 19, 80, 56, 37, 98, 54, 29, 77, 42, 19, 99, 52, 19, 150, 65, 3, 153, 70, 4, 155, 73, 4, 150, 71, 7, 150, 71, 6, 143, 70, 7, 144, 70, 8, 139, 72, 14, 145, 76, 27, 148, 85, 40, 148, 92, 45, 146, 92, 45, 147, 89, 42, 143, 83, 32, 139, 77, 23, 135, 70, 14, 127, 61, 5, 121, 56, 2, 117, 59, 4, 116, 55, 4, 119, 56, 4, 114, 53, 3, 117, 56, 2, 117, 43, 3, 117, 43, 3, 112, 40, 1, 113, 45, 10, 97, 66, 44, 88, 73, 56, 69, 48, 27, 35, 25, 19, 63, 39, 25, 142, 64, 8, 148, 69, 5, 149, 73, 6, 145, 70, 8, 146, 70, 8, 141, 71, 13, 145, 83, 33, 160, 114, 79, 187, 156, 136, 207, 185, 174, 219, 202, 192, 223, 210, 199, 224, 210, 198, 219, 203, 190, 203, 182, 168, 189, 161, 146, 161, 126, 100, 128, 76, 28, 117, 56, 0, 115, 55, 4, 117, 55, 4, 113, 52, 3, 115, 56, 3, 116, 41, 2, 114, 43, 2, 110, 41, 0, 100, 43, 13, 61, 51, 38, 67, 55, 44, 77, 59, 47, 37, 31, 30, 40, 26, 20, 135, 62, 8, 146, 69, 6, 146, 72, 8, 139, 70, 12, 141, 71, 12, 135, 71, 20, 153, 98, 56, 153, 118, 95, 122, 111, 99, 118, 116, 115, 141, 140, 141, 183, 185, 186, 217, 220, 221, 147, 150, 149, 105, 101, 96, 102, 91, 82, 122, 108, 96, 148, 118, 98, 119, 60, 10, 111, 54, 2, 114, 55, 4, 110, 52, 3, 110, 55, 3, 115, 40, 3, 113, 42, 1, 107, 41, 0, 87, 41, 13, 47, 37, 30, 45, 38, 24, 61, 50, 37, 37, 31, 26, 32, 22, 17, 121, 58, 10, 143, 68, 7, 142, 71, 9, 135, 71, 17, 141, 76, 25, 131, 69, 22, 118, 64, 23, 84, 56, 36, 60, 46, 33, 42, 35, 28, 39, 38, 31, 96, 96, 91, 126, 125, 124, 40, 38, 33, 44, 34, 17, 58, 37, 11, 63, 43, 20, 132, 118, 107, 137, 93, 56, 104, 50, 0, 111, 56, 4, 107, 52, 2, 107, 54, 3, 114, 40, 4, 112, 41, 2, 101, 39, 1, 77, 38, 12, 46, 34, 29, 41, 37, 26, 42, 38, 29, 30, 26, 22, 25, 19, 17, 99, 49, 11, 139, 68, 7, 138, 70, 7, 153, 104, 65, 141, 87, 50, 125, 68, 21, 94, 61, 29, 65, 51, 35, 59, 54, 42, 41, 41, 36, 33, 36, 34, 115, 117, 113, 72, 73, 70, 36, 35, 28, 40, 32, 21, 50, 37, 23, 75, 64, 49, 165, 159, 153, 174, 147, 130, 103, 51, 2, 106, 54, 3, 105, 52, 1, 107, 53, 2, 111, 40, 4, 108, 40, 1, 92, 36, 0, 75, 35, 9, 47, 36, 29, 47, 42, 31, 40, 35, 28, 26, 23, 22, 24, 19, 19, 94, 47, 11, 135, 65, 5, 134, 70, 9, 152, 116, 89, 136, 92, 61, 104, 74, 43, 67, 62, 48, 53, 54, 45, 62, 72, 65, 81, 96, 91, 64, 72, 69, 118, 119, 118, 113, 113, 112, 114, 113, 110, 77, 73, 68, 113, 106, 101, 163, 157, 154, 219, 216, 217, 203, 190, 188, 112, 66, 25, 100, 50, 0, 101, 52, 2, 104, 52, 2, 108, 40, 3, 104, 40, 2, 86, 36, 0, 78, 34, 6, 46, 36, 26, 49, 42, 33, 51, 40, 27, 37, 26, 19, 25, 20, 19, 94, 49, 16, 149, 91, 46, 171, 134, 98, 149, 121, 103, 129, 101, 82, 92, 87, 80, 72, 74, 72, 64, 68, 65, 75, 88, 87, 102, 120, 116, 107, 116, 112, 113, 114, 115, 169, 168, 171, 196, 196, 197, 184, 182, 182, 212, 208, 208, 219, 216, 216, 206, 204, 206, 199, 196, 198, 133, 99, 69, 94, 47, 0, 98, 51, 2, 100, 51, 2, 103, 41, 3, 97, 40, 2, 78, 36, 0, 79, 36, 6, 45, 34, 24, 46, 42, 33, 58, 43, 27, 49, 30, 15, 58, 43, 36, 143, 120, 104, 214, 190, 176, 229, 220, 214, 220, 211, 209, 205, 197, 195, 182, 181, 182, 169, 168, 168, 142, 143, 142, 120, 125, 125, 111, 118, 116, 156, 159, 158, 186, 187, 188, 192, 192, 195, 220, 220, 223, 227, 226, 229, 207, 205, 206, 185, 184, 183, 177, 174, 176, 177, 175, 176, 117, 94, 73, 93, 47, 2, 96, 49, 2, 97, 49, 3, 96, 39, 1, 92, 39, 1, 73, 35, 0, 73, 37, 12, 36, 26, 22, 35, 31, 26, 45, 33, 21, 79, 62, 49, 170, 155, 147, 224, 220, 219, 244, 238, 237, 244, 240, 239, 248, 243, 245, 250, 246, 247, 245, 244, 245, 242, 242, 242, 233, 233, 233, 224, 225, 225, 221, 222, 222, 234, 234, 234, 243, 244, 245, 213, 214, 217, 200, 201, 203, 197, 197, 199, 179, 178, 180, 164, 162, 162, 166, 164, 167, 124, 120, 122, 59, 41, 25, 96, 50, 6, 94, 47, 1, 95, 47, 2, 90, 38, 1, 88, 37, 2, 72, 34, 1, 69, 37, 10, 38, 25, 19, 21, 18, 18, 64, 56, 51, 185, 176, 171, 238, 233, 233, 239, 239, 240, 242, 239, 237, 246, 244, 242, 246, 244, 244, 245, 243, 243, 245, 244, 244, 246, 246, 246, 250, 250, 250, 252, 252, 252, 252, 252, 252, 244, 244, 244, 222, 223, 224, 201, 202, 204, 181, 181, 183, 181, 181, 183, 168, 167, 169, 154, 152, 153, 153, 151, 153, 92, 90, 92, 62, 51, 39, 83, 45, 8, 85, 46, 5, 88, 46, 5, 87, 39, 3, 85, 37, 2, 70, 33, 2, 85, 46, 6, 53, 33, 14, 28, 28, 30, 154, 150, 151, 240, 235, 235, 236, 235, 236, 243, 239, 240, 244, 245, 242, 245, 246, 244, 245, 246, 245, 245, 246, 245, 246, 246, 246, 248, 248, 248, 246, 246, 246, 242, 242, 242, 233, 233, 233, 214, 214, 214, 202, 203, 204, 194, 195, 198, 186, 187, 189, 174, 174, 176, 160, 159, 161, 156, 155, 155, 152, 150, 151, 81, 79, 82, 75, 70, 63, 60, 35, 7, 62, 35, 4, 66, 36, 4, 81, 37, 3, 82, 36, 2, 68, 34, 2, 89, 41, 7, 48, 25, 10, 71, 68, 69, 211, 205, 207, 234, 231, 232, 237, 237, 237, 244, 242, 242, 243, 243, 242, 243, 243, 242, 246, 247, 246, 248, 249, 249, 245, 245, 245, 243, 243, 242, 242, 242, 241, 243, 243, 243, 233, 233, 233, 217, 217, 217, 195, 195, 198, 188, 189, 194, 183, 184, 187, 171, 172, 174, 166, 166, 168, 170, 170, 170, 140, 138, 138, 67, 66, 68, 63, 56, 49, 59, 37, 8, 58, 35, 5, 59, 34, 5, 75, 34, 2, 73, 34, 3, 59, 29, 8, 81, 39, 8, 45, 23, 7, 103, 96, 95, 207, 200, 202, 213, 209, 210, 231, 231, 231, 240, 240, 240, 244, 244, 244, 241, 241, 241, 225, 225, 225, 214, 214, 213, 202, 202, 202, 203, 203, 203, 237, 237, 237, 221, 221, 221, 148, 148, 148, 154, 154, 153, 194, 194, 198, 186, 187, 192, 182, 183, 187, 180, 181, 183, 175, 175, 177, 160, 160, 160, 117, 116, 116, 71, 68, 70, 77, 65, 56, 62, 38, 12, 63, 39, 12, 62, 36, 11, 61, 30, 5, 57, 30, 9, 50, 27, 13, 59, 31, 10, 38, 23, 15, 79, 70, 72, 129, 123, 124, 166, 163, 164, 214, 213, 213, 232, 232, 232, 224, 224, 224, 161, 161, 161, 142, 142, 142, 148, 148, 147, 162, 162, 159, 187, 187, 190, 232, 231, 233, 143, 143, 143, 39, 39, 39, 57, 57, 57, 172, 173, 176, 189, 191, 196, 189, 190, 193, 181, 182, 184, 162, 162, 164, 142, 142, 142, 82, 82, 82, 49, 46, 46, 77, 60, 49, 70, 44, 24, 70, 45, 25, 69, 42, 22, 53, 29, 10, 53, 31, 15, 50, 31, 15, 43, 27, 12, 33, 28, 21, 52, 45, 44, 45, 38, 39, 77, 73, 74, 132, 131, 132, 199, 200, 199, 150, 151, 149, 74, 74, 72, 126, 127, 125, 140, 141, 138, 168, 168, 166, 216, 217, 220, 198, 199, 200, 73, 74, 73, 46, 47, 47, 47, 48, 47, 139, 140, 143, 196, 197, 203, 183, 184, 187, 170, 171, 173, 141, 142, 142, 83, 83, 81, 27, 26, 25, 30, 28, 26, 67, 51, 41, 78, 54, 40, 77, 51, 36, 73, 47, 32, 56, 31, 11, 56, 31, 14, 51, 33, 17, 46, 34, 23, 47, 43, 37, 53, 47, 45, 29, 22, 22, 27, 22, 23, 51, 50, 50, 149, 152, 150, 115, 117, 114, 102, 104, 101, 144, 146, 145, 151, 152, 152, 172, 173, 174, 218, 220, 222, 149, 151, 151, 51, 52, 50, 73, 76, 76, 76, 77, 76, 119, 121, 124, 185, 187, 192, 176, 177, 180, 138, 139, 142, 68, 69, 69, 29, 29, 26, 30, 30, 28, 45, 47, 43, 77, 67, 61, 86, 66, 57, 83, 60, 47, 76, 54, 41, 57, 31, 14, 59, 34, 19, 57, 39, 26, 58, 43, 35, 62, 53, 49, 59, 55, 53, 28, 22, 22, 23, 18, 19, 44, 44, 44, 143, 146, 145, 165, 167, 165, 170, 171, 171, 179, 179, 184, 183, 184, 189, 189, 190, 192, 208, 210, 212, 109, 109, 110, 56, 55, 54, 89, 92, 92, 88, 90, 89, 118, 122, 124, 181, 186, 190, 126, 129, 132, 54, 55, 57, 28, 30, 31, 45, 48, 47, 63, 67, 66, 84, 89, 86, 101, 95, 91, 100, 86, 77, 96, 79, 68, 93, 77, 67, 63, 36, 23, 67, 41, 29, 66, 47, 37, 69, 51, 45, 68, 54, 52, 68, 65, 63, 34, 28, 28, 17, 12, 12, 52, 51, 51, 144, 147, 147, 164, 165, 169, 170, 171, 175, 176, 177, 181, 176, 177, 181, 187, 187, 190, 188, 189, 191, 80, 78, 79, 56, 52, 51, 79, 80, 81, 77, 79, 78, 116, 122, 123, 104, 112, 116, 38, 42, 45, 33, 34, 36, 52, 55, 57, 71, 75, 77, 87, 92, 94, 94, 101, 101, 104, 100, 98, 101, 92, 85, 103, 91, 81, 116, 104, 98, 66, 39, 28, 68, 41, 30, 67, 45, 37, 69, 52, 45, 69, 58, 53, 74, 72, 68, 61, 51, 51, 23, 17, 16, 57, 57, 56, 131, 135, 137, 133, 139, 143, 147, 152, 156, 111, 112, 114, 119, 120, 122, 190, 192, 196, 167, 170, 174, 62, 58, 59, 75, 67, 66, 102, 104, 104, 81, 83, 82, 48, 52, 52, 25, 33, 36, 35, 43, 48, 68, 75, 79, 88, 95, 99, 102, 109, 112, 107, 115, 117, 100, 104, 105, 102, 98, 95, 101, 92, 87, 122, 112, 106, 113, 100, 94, 74, 46, 35, 75, 49, 38, 76, 54, 45, 75, 59, 51, 72, 61, 55, 63, 59, 55, 69, 61, 60, 60, 55, 52, 78, 78, 77, 140, 144, 145, 146, 154, 152, 162, 168, 167, 112, 113, 115, 113, 114, 116, 183, 185, 190, 148, 152, 157, 53, 50, 51, 75, 68, 66, 92, 94, 93, 86, 88, 87, 20, 24, 24, 51, 58, 61, 88, 98, 103, 101, 110, 115, 113, 121, 126, 121, 129, 132, 115, 123, 126, 109, 112, 113, 112, 106, 103, 119, 110, 105, 125, 115, 110, 101, 88, 83, 74, 46, 35, 72, 45, 34, 69, 47, 38, 69, 50, 43, 68, 54, 49, 53, 49, 45, 37, 35, 32, 52, 48, 45, 86, 85, 84, 156, 159, 160, 188, 192, 190, 188, 191, 190, 167, 168, 170, 167, 168, 170, 185, 187, 192, 138, 141, 146, 40, 40, 39, 65, 63, 59, 91, 92, 92, 64, 66, 65, 32, 35, 35, 63, 70, 73, 104, 114, 119, 129, 138, 143, 132, 140, 144, 127, 135, 138, 120, 127, 130, 107, 109, 111, 124, 118, 116, 130, 121, 116, 111, 101, 97, 100, 89, 87, 71, 43, 31, 69, 42, 32, 67, 44, 37, 68, 48, 41, 67, 51, 46, 52, 46, 43, 32, 33, 29, 23, 21, 18, 36, 35, 34, 89, 91, 92, 139, 140, 142, 152, 153, 155, 153, 154, 155, 147, 148, 149, 128, 130, 134, 78, 80, 83, 26, 27, 26, 62, 63, 60, 72, 73, 73, 39, 41, 40, 56, 59, 60, 76, 82, 86, 98, 105, 110, 125, 133, 138, 140, 148, 152, 137, 146, 149, 128, 135, 138, 121, 122, 123, 131, 125, 122, 115, 105, 101, 101, 92, 87, 100, 90, 87, 71, 41, 28, 68, 42, 34, 69, 45, 39, 70, 48, 42, 65, 49, 45, 53, 48, 45, 40, 38, 36, 25, 25, 22, 18, 18, 16, 22, 22, 21, 32, 32, 32, 44, 44, 43, 48, 48, 48, 42, 42, 42, 31, 31, 32, 20, 21, 21, 18, 18, 18, 28, 29, 28, 37, 38, 39, 44, 45, 46, 70, 73, 76, 95, 99, 104, 106, 110, 115, 113, 117, 122, 126, 133, 138, 138, 146, 149, 141, 144, 146, 134, 132, 132, 119, 112, 109, 103, 92, 88, 99, 88, 84, 94, 84, 80, 69, 41, 30, 67, 41, 35, 69, 44, 39, 69, 47, 41, 63, 48, 43, 57, 52, 50, 50, 47, 46, 33, 33, 31, 22, 22, 20, 16, 16, 14, 15, 15, 13, 15, 15, 14, 17, 17, 17, 17, 17, 17, 19, 19, 19, 22, 22, 22, 25, 25, 25, 31, 31, 31, 48, 48, 50, 58, 59, 61, 74, 76, 80, 99, 102, 107, 109, 112, 117, 112, 115, 120, 110, 114, 119, 124, 128, 130, 143, 143, 143, 129, 126, 125, 105, 97, 94, 101, 90, 86, 97, 86, 82, 92, 81, 77, 67, 41, 32, 66, 41, 35, 68, 43, 38, 69, 47, 41, 67, 52, 47, 64, 58, 56, 57, 54, 53, 37, 37, 35, 28, 28, 26, 24, 24, 22, 22, 22, 20, 23, 23, 22, 24, 24, 24, 25, 25, 25, 27, 27, 27, 30, 30, 30, 36, 36, 36, 45, 45, 45, 61, 62, 63, 67, 68, 70, 77, 80, 83, 100, 103, 108, 108, 111, 116, 106, 109, 114, 110, 112, 117, 120, 119, 120, 121, 116, 116, 124, 120, 120, 107, 99, 96, 98, 87, 83, 93, 82, 78, 89, 78, 74, 65, 41, 32, 63, 41, 36, 66, 45, 39, 69, 51, 44, 67, 53, 46, 63, 56, 51, 58, 55, 54, 44, 45, 44, 37, 37, 36, 34, 34, 33, 33, 33, 32, 33, 33, 33, 34, 34, 35, 35, 35, 37, 37, 38, 39, 39, 40, 41, 41, 42, 43, 53, 53, 54, 75, 76, 77, 75, 76, 78, 85, 87, 91, 101, 104, 109, 103, 105, 110, 104, 106, 109, 112, 114, 115, 119, 111, 106, 106, 91, 85, 115, 107, 107, 111, 106, 106, 95, 85, 85, 91, 79, 77, 86, 74, 72], \"height\": 32, \"channels\": 3, \"width\": 32, \"type\": \"image\", \"id\": 4803039056}, {\"format\": \"raw\", \"value\": [229, 222, 213, 213, 209, 200, 197, 190, 184, 206, 197, 192, 228, 219, 213, 231, 223, 217, 214, 206, 200, 211, 203, 197, 230, 224, 216, 240, 234, 225, 223, 218, 211, 210, 205, 200, 220, 218, 212, 232, 232, 223, 221, 216, 210, 208, 202, 196, 216, 215, 208, 234, 232, 225, 226, 222, 216, 207, 203, 196, 217, 214, 207, 239, 234, 226, 237, 228, 217, 229, 214, 204, 244, 221, 213, 251, 232, 222, 242, 226, 213, 235, 210, 199, 239, 218, 206, 246, 232, 217, 243, 221, 207, 235, 210, 193, 214, 211, 204, 205, 207, 202, 201, 201, 197, 208, 206, 204, 221, 219, 217, 224, 222, 219, 216, 214, 211, 214, 212, 209, 225, 222, 218, 229, 228, 223, 218, 220, 217, 207, 213, 210, 211, 219, 216, 220, 227, 221, 218, 218, 212, 214, 209, 205, 220, 216, 212, 230, 226, 221, 225, 220, 214, 214, 209, 203, 220, 215, 209, 232, 228, 221, 232, 228, 217, 235, 220, 211, 246, 226, 217, 253, 233, 222, 250, 232, 217, 249, 225, 210, 249, 230, 214, 248, 238, 219, 249, 229, 212, 246, 219, 199, 198, 199, 195, 206, 213, 214, 212, 220, 220, 216, 221, 221, 221, 224, 226, 222, 224, 227, 221, 224, 226, 221, 224, 226, 218, 225, 224, 216, 228, 225, 211, 227, 225, 200, 222, 220, 195, 216, 214, 205, 218, 214, 209, 212, 205, 210, 206, 201, 215, 208, 206, 220, 213, 209, 216, 210, 204, 210, 205, 199, 213, 207, 201, 219, 217, 207, 219, 214, 196, 219, 197, 182, 232, 208, 189, 245, 217, 197, 245, 206, 185, 250, 203, 183, 248, 208, 186, 246, 215, 190, 250, 211, 188, 246, 209, 187, 182, 184, 185, 207, 216, 224, 229, 240, 247, 231, 239, 243, 231, 236, 240, 234, 239, 243, 236, 241, 245, 233, 238, 242, 219, 233, 232, 212, 232, 230, 207, 230, 228, 204, 231, 230, 211, 235, 234, 205, 216, 215, 207, 210, 201, 213, 208, 199, 216, 209, 204, 217, 210, 206, 214, 207, 201, 212, 205, 199, 213, 207, 201, 218, 207, 198, 213, 175, 159, 205, 141, 128, 221, 161, 142, 232, 165, 145, 220, 123, 106, 229, 119, 105, 226, 124, 107, 223, 132, 111, 227, 136, 116, 227, 171, 150, 132, 133, 138, 125, 133, 149, 192, 204, 218, 220, 230, 237, 233, 238, 242, 231, 236, 240, 211, 216, 220, 183, 189, 192, 168, 180, 181, 162, 177, 177, 153, 168, 170, 166, 182, 185, 197, 211, 215, 173, 181, 182, 206, 205, 194, 210, 204, 190, 211, 203, 195, 212, 204, 198, 210, 202, 196, 209, 201, 195, 210, 203, 198, 212, 194, 187, 181, 114, 107, 178, 78, 75, 185, 93, 81, 212, 108, 95, 229, 95, 86, 228, 83, 75, 221, 85, 74, 221, 101, 85, 215, 92, 77, 215, 138, 119, 112, 110, 116, 50, 52, 69, 95, 100, 115, 130, 136, 145, 159, 164, 171, 160, 165, 171, 159, 162, 168, 148, 149, 154, 156, 151, 154, 168, 160, 162, 174, 165, 169, 179, 167, 173, 180, 167, 174, 175, 167, 168, 198, 195, 184, 202, 193, 180, 202, 193, 184, 201, 194, 188, 202, 193, 188, 201, 192, 187, 203, 194, 190, 205, 191, 185, 166, 113, 110, 182, 100, 100, 179, 103, 95, 202, 113, 105, 220, 112, 101, 213, 102, 87, 222, 119, 102, 225, 137, 116, 202, 102, 84, 215, 138, 121, 110, 106, 110, 56, 44, 56, 102, 89, 104, 128, 121, 136, 113, 116, 131, 136, 141, 151, 186, 186, 194, 203, 192, 200, 212, 172, 179, 221, 166, 172, 232, 170, 175, 233, 162, 166, 222, 150, 155, 205, 165, 167, 186, 184, 177, 192, 181, 179, 191, 182, 179, 189, 184, 179, 192, 184, 180, 192, 184, 180, 193, 185, 181, 198, 188, 184, 190, 168, 165, 196, 160, 156, 205, 167, 160, 209, 166, 161, 198, 146, 136, 208, 150, 132, 226, 169, 148, 223, 166, 145, 204, 143, 126, 209, 164, 146, 104, 103, 112, 51, 47, 65, 126, 118, 138, 172, 168, 183, 153, 159, 170, 159, 167, 175, 183, 188, 195, 200, 196, 203, 210, 177, 190, 212, 159, 170, 220, 151, 156, 233, 146, 144, 227, 140, 140, 201, 160, 163, 179, 180, 175, 187, 177, 177, 186, 177, 173, 184, 179, 172, 189, 179, 174, 189, 180, 175, 190, 181, 175, 193, 184, 180, 197, 188, 184, 203, 188, 181, 213, 195, 186, 210, 194, 187, 210, 185, 179, 229, 198, 187, 238, 206, 191, 237, 202, 188, 230, 194, 182, 214, 186, 171, 103, 107, 123, 60, 76, 107, 93, 104, 130, 83, 89, 104, 74, 83, 91, 72, 84, 92, 93, 107, 114, 123, 134, 143, 123, 129, 140, 175, 170, 179, 219, 194, 196, 233, 189, 183, 225, 174, 173, 193, 169, 174, 174, 179, 175, 183, 177, 173, 185, 177, 169, 186, 178, 169, 190, 178, 171, 191, 179, 172, 193, 181, 174, 194, 184, 179, 194, 186, 183, 205, 192, 185, 208, 197, 187, 190, 182, 173, 188, 172, 170, 199, 178, 173, 200, 181, 170, 195, 177, 167, 191, 172, 164, 183, 161, 150, 100, 108, 126, 74, 99, 133, 97, 119, 147, 52, 64, 81, 42, 51, 65, 46, 59, 73, 76, 92, 107, 108, 127, 142, 56, 68, 81, 118, 122, 133, 211, 205, 217, 221, 206, 219, 203, 182, 195, 178, 168, 176, 171, 175, 172, 179, 176, 169, 184, 177, 167, 186, 177, 169, 188, 177, 170, 190, 179, 172, 192, 181, 174, 196, 184, 180, 197, 183, 183, 187, 170, 166, 172, 157, 149, 162, 151, 145, 171, 155, 152, 180, 162, 155, 176, 160, 148, 172, 158, 146, 167, 152, 143, 161, 143, 137, 98, 105, 119, 72, 92, 119, 111, 129, 152, 109, 120, 136, 97, 105, 122, 86, 94, 111, 95, 107, 123, 109, 126, 140, 89, 103, 109, 124, 137, 143, 180, 196, 208, 170, 188, 208, 135, 147, 166, 148, 148, 154, 173, 175, 172, 176, 175, 168, 180, 175, 168, 182, 174, 169, 184, 176, 172, 183, 175, 171, 185, 177, 173, 188, 178, 176, 193, 177, 179, 163, 143, 141, 108, 88, 83, 156, 140, 137, 193, 176, 172, 199, 181, 170, 200, 182, 167, 201, 183, 168, 194, 176, 166, 183, 167, 163, 112, 115, 121, 105, 109, 121, 119, 124, 138, 127, 135, 145, 121, 128, 138, 123, 126, 134, 126, 133, 137, 127, 139, 138, 139, 147, 147, 145, 152, 154, 154, 163, 168, 152, 165, 172, 135, 147, 155, 149, 151, 156, 170, 166, 164, 169, 168, 162, 172, 167, 164, 174, 168, 167, 157, 152, 151, 137, 133, 132, 160, 155, 154, 172, 169, 168, 175, 172, 171, 148, 138, 133, 86, 73, 67, 123, 111, 108, 189, 179, 176, 194, 183, 175, 204, 189, 178, 204, 186, 176, 200, 180, 175, 191, 174, 171, 125, 125, 124, 130, 125, 126, 135, 132, 136, 123, 124, 126, 64, 67, 64, 54, 52, 49, 62, 61, 53, 61, 64, 53, 64, 61, 57, 65, 58, 58, 124, 118, 117, 170, 163, 161, 167, 164, 165, 176, 176, 181, 183, 179, 179, 161, 160, 158, 148, 146, 149, 138, 136, 140, 105, 104, 107, 85, 84, 87, 101, 100, 103, 118, 120, 122, 115, 118, 115, 102, 94, 85, 68, 57, 48, 91, 81, 75, 133, 126, 125, 174, 170, 170, 174, 161, 158, 174, 152, 149, 199, 180, 179, 193, 175, 170, 128, 127, 125, 134, 129, 126, 144, 138, 135, 128, 122, 116, 37, 31, 23, 14, 7, 0, 19, 12, 2, 18, 12, 2, 24, 17, 8, 23, 16, 9, 110, 105, 101, 181, 176, 175, 184, 181, 183, 167, 167, 171, 130, 131, 132, 93, 96, 99, 90, 93, 102, 84, 86, 95, 64, 66, 72, 35, 37, 43, 34, 36, 42, 45, 48, 55, 39, 37, 36, 71, 53, 40, 90, 74, 62, 100, 87, 79, 49, 39, 39, 96, 95, 102, 127, 107, 110, 155, 120, 119, 204, 183, 182, 192, 172, 166, 127, 126, 123, 132, 128, 124, 142, 136, 131, 129, 121, 115, 40, 32, 24, 15, 7, 0, 18, 10, 2, 17, 9, 1, 25, 18, 12, 23, 18, 13, 109, 105, 102, 186, 185, 183, 157, 156, 155, 96, 96, 93, 61, 62, 58, 81, 84, 85, 93, 96, 106, 61, 63, 71, 38, 40, 44, 25, 27, 31, 26, 28, 31, 28, 31, 37, 37, 34, 35, 94, 75, 63, 115, 100, 90, 104, 91, 83, 31, 24, 23, 27, 24, 31, 121, 88, 93, 158, 111, 110, 189, 165, 166, 187, 158, 163, 122, 121, 118, 128, 123, 120, 138, 132, 127, 125, 119, 113, 35, 30, 25, 11, 5, 0, 16, 11, 5, 16, 11, 6, 20, 15, 15, 12, 8, 9, 120, 118, 116, 155, 156, 153, 110, 111, 105, 94, 95, 84, 97, 99, 89, 129, 132, 131, 98, 101, 111, 27, 28, 35, 2, 3, 4, 9, 10, 13, 15, 16, 18, 8, 11, 16, 26, 24, 27, 64, 49, 41, 39, 28, 23, 42, 32, 28, 34, 33, 31, 24, 19, 25, 116, 70, 76, 153, 95, 96, 123, 99, 102, 128, 100, 115, 119, 117, 115, 125, 121, 117, 134, 128, 123, 123, 117, 112, 34, 30, 29, 7, 3, 2, 14, 11, 9, 7, 3, 2, 9, 6, 9, 52, 50, 54, 124, 125, 125, 114, 117, 116, 92, 95, 89, 75, 78, 67, 110, 114, 105, 63, 68, 69, 48, 53, 65, 23, 26, 35, 18, 21, 26, 22, 25, 30, 33, 36, 41, 35, 40, 47, 59, 60, 66, 64, 54, 52, 14, 8, 9, 37, 29, 29, 122, 123, 123, 145, 141, 148, 107, 60, 65, 119, 60, 61, 79, 59, 64, 50, 32, 46, 122, 120, 118, 127, 123, 120, 137, 131, 126, 124, 120, 116, 31, 30, 31, 36, 35, 36, 83, 82, 83, 78, 77, 78, 102, 102, 104, 144, 145, 148, 104, 107, 110, 98, 103, 106, 105, 110, 111, 87, 94, 91, 121, 129, 127, 94, 103, 109, 111, 119, 135, 129, 136, 151, 148, 155, 166, 151, 158, 170, 148, 154, 166, 131, 139, 151, 157, 160, 169, 92, 87, 90, 12, 11, 17, 50, 44, 47, 180, 178, 184, 185, 185, 193, 100, 65, 67, 84, 36, 37, 85, 67, 74, 37, 18, 26, 120, 118, 116, 126, 122, 118, 136, 130, 125, 132, 128, 125, 94, 94, 98, 151, 151, 154, 209, 209, 213, 216, 216, 220, 231, 233, 233, 189, 192, 194, 107, 112, 116, 171, 178, 185, 195, 203, 212, 193, 204, 212, 177, 189, 196, 152, 165, 176, 187, 201, 219, 194, 205, 225, 188, 199, 218, 177, 188, 207, 161, 171, 190, 123, 134, 152, 138, 142, 154, 73, 71, 78, 7, 9, 20, 48, 45, 51, 146, 140, 151, 132, 136, 147, 103, 84, 83, 90, 55, 55, 90, 69, 79, 66, 27, 33, 120, 117, 114, 126, 120, 116, 135, 130, 126, 153, 153, 155, 190, 196, 205, 233, 238, 244, 244, 247, 252, 239, 242, 248, 229, 236, 242, 209, 219, 228, 147, 160, 173, 189, 204, 222, 196, 213, 235, 183, 201, 223, 156, 175, 193, 127, 145, 165, 143, 159, 181, 140, 156, 179, 132, 148, 170, 123, 138, 161, 114, 126, 147, 118, 129, 145, 123, 130, 140, 42, 45, 54, 5, 9, 22, 50, 50, 62, 130, 125, 139, 113, 116, 128, 107, 101, 103, 112, 95, 96, 88, 69, 74, 51, 8, 10, 117, 114, 108, 121, 116, 112, 131, 129, 130, 161, 165, 174, 201, 211, 226, 207, 215, 226, 220, 226, 236, 223, 231, 241, 184, 198, 214, 167, 188, 208, 149, 173, 197, 141, 170, 197, 135, 165, 194, 127, 156, 185, 124, 150, 177, 119, 144, 169, 113, 137, 160, 112, 137, 157, 108, 134, 156, 105, 128, 150, 107, 123, 141, 120, 132, 143, 96, 105, 111, 27, 34, 43, 8, 13, 26, 52, 56, 72, 133, 132, 144, 136, 136, 147, 125, 125, 133, 130, 127, 129, 99, 87, 85, 38, 10, 11, 114, 113, 107, 119, 117, 115, 118, 119, 126, 137, 142, 155, 125, 133, 145, 75, 83, 95, 105, 115, 128, 181, 193, 206, 168, 191, 212, 141, 171, 196, 142, 176, 201, 133, 171, 196, 128, 166, 191, 127, 163, 188, 123, 159, 184, 120, 157, 179, 118, 156, 176, 119, 158, 175, 116, 156, 174, 114, 148, 167, 118, 141, 158, 97, 110, 121, 22, 29, 33, 14, 19, 26, 17, 21, 31, 39, 41, 53, 122, 121, 131, 146, 147, 156, 135, 138, 146, 127, 126, 128, 111, 103, 102, 104, 87, 95, 114, 114, 108, 115, 115, 116, 96, 101, 113, 88, 95, 109, 27, 33, 42, 20, 30, 43, 46, 60, 74, 89, 104, 119, 157, 186, 210, 150, 188, 215, 149, 190, 212, 149, 193, 212, 149, 192, 211, 151, 191, 211, 148, 191, 210, 144, 192, 208, 140, 190, 205, 144, 195, 208, 143, 194, 208, 142, 187, 202, 129, 158, 173, 52, 65, 75, 0, 1, 5, 16, 20, 24, 25, 27, 31, 29, 28, 32, 97, 96, 101, 128, 131, 138, 124, 128, 135, 110, 110, 113, 104, 99, 100, 125, 119, 127, 115, 114, 108, 109, 109, 110, 89, 96, 106, 58, 66, 78, 24, 30, 38, 63, 77, 91, 59, 76, 91, 39, 54, 67, 125, 155, 175, 177, 216, 238, 180, 220, 236, 182, 224, 236, 183, 225, 236, 183, 225, 238, 179, 224, 236, 176, 224, 236, 173, 223, 235, 175, 224, 235, 171, 223, 234, 172, 220, 232, 137, 167, 178, 26, 37, 45, 18, 23, 25, 41, 44, 44, 45, 44, 42, 53, 48, 45, 67, 66, 66, 135, 140, 145, 149, 155, 161, 133, 134, 138, 109, 107, 108, 76, 78, 80, 118, 112, 108, 110, 107, 106, 98, 104, 110, 50, 59, 68, 48, 58, 67, 124, 142, 157, 96, 114, 129, 28, 40, 49, 86, 111, 122, 196, 228, 241, 201, 234, 243, 203, 236, 241, 203, 237, 241, 195, 234, 238, 189, 228, 234, 188, 227, 235, 186, 225, 235, 186, 223, 233, 179, 222, 231, 177, 220, 228, 135, 162, 169, 20, 28, 34, 48, 54, 54, 83, 86, 83, 88, 84, 77, 97, 90, 79, 43, 42, 38, 85, 91, 94, 97, 104, 110, 107, 109, 114, 116, 116, 118, 72, 76, 77, 123, 114, 111, 124, 119, 115, 119, 124, 124, 55, 65, 69, 53, 67, 77, 127, 149, 165, 123, 141, 155, 39, 48, 54, 42, 59, 62, 156, 180, 183, 165, 188, 191, 166, 188, 191, 173, 199, 200, 167, 201, 199, 161, 193, 194, 146, 175, 180, 136, 162, 170, 135, 156, 166, 126, 156, 164, 116, 151, 157, 87, 108, 113, 20, 26, 29, 61, 67, 68, 110, 112, 107, 107, 103, 93, 102, 93, 78, 50, 49, 43, 67, 76, 78, 91, 100, 105, 131, 135, 140, 156, 157, 161, 146, 148, 155, 140, 132, 132, 146, 146, 144, 148, 151, 151, 83, 88, 94, 58, 73, 84, 120, 144, 160, 124, 144, 160, 52, 60, 71, 16, 22, 25, 35, 44, 45, 85, 100, 99, 127, 147, 145, 161, 185, 182, 177, 204, 201, 180, 204, 203, 161, 182, 184, 144, 162, 166, 153, 168, 172, 155, 179, 180, 135, 166, 165, 132, 153, 154, 79, 89, 91, 73, 83, 82, 122, 128, 124, 100, 99, 90, 97, 91, 78, 106, 114, 114, 138, 157, 165, 144, 160, 167, 158, 169, 175, 165, 172, 175, 173, 174, 179, 144, 151, 154, 139, 155, 157, 137, 153, 157, 95, 107, 114, 49, 66, 75, 127, 151, 164, 103, 123, 136, 24, 32, 43, 0, 0, 5, 0, 0, 0, 66, 76, 76, 124, 141, 139, 138, 158, 156, 153, 170, 170, 151, 167, 167, 143, 157, 158, 153, 165, 166, 171, 179, 180, 167, 183, 182, 136, 160, 157, 141, 160, 161, 94, 105, 108, 44, 52, 50, 108, 111, 106, 89, 85, 77, 71, 62, 53, 116, 128, 130, 126, 152, 160, 114, 136, 141, 113, 131, 134, 120, 137, 135, 111, 127, 123, 132, 156, 165, 146, 179, 185, 134, 172, 180, 96, 128, 136, 47, 72, 79, 60, 89, 96, 50, 74, 79, 34, 46, 50, 39, 46, 50, 45, 52, 56, 59, 70, 73, 84, 97, 100, 87, 101, 102, 88, 102, 102, 78, 90, 90, 57, 67, 69, 78, 86, 88, 102, 103, 107, 91, 98, 101, 39, 56, 58, 38, 56, 60, 42, 54, 58, 17, 23, 22, 45, 48, 44, 76, 73, 67, 58, 49, 44, 67, 77, 76, 19, 40, 42, 32, 52, 54, 57, 77, 78, 88, 108, 108, 84, 105, 102, 168, 193, 208, 165, 198, 213, 164, 204, 218, 160, 199, 214, 143, 178, 191, 133, 170, 179, 141, 171, 177, 156, 177, 181, 172, 191, 194, 178, 198, 200, 179, 197, 200, 187, 204, 208, 188, 205, 207, 183, 200, 199, 178, 194, 193, 172, 185, 186, 180, 191, 192, 188, 192, 197, 179, 188, 193, 146, 166, 170, 142, 166, 170, 130, 152, 157, 87, 107, 111, 80, 97, 100, 105, 117, 119, 92, 101, 102, 113, 125, 130, 106, 121, 129, 119, 135, 144, 127, 146, 155, 136, 151, 162, 140, 143, 154, 185, 197, 216, 185, 201, 221, 188, 211, 231, 188, 217, 238, 190, 224, 244, 200, 235, 249, 205, 237, 248, 213, 240, 250, 217, 245, 250, 220, 247, 251, 223, 248, 253, 226, 250, 255, 226, 250, 253, 225, 248, 248, 229, 250, 250, 234, 252, 254, 237, 253, 255, 239, 250, 255, 234, 249, 254, 222, 245, 250, 211, 239, 245, 196, 228, 235, 179, 213, 224, 172, 204, 215, 169, 198, 209, 156, 182, 193, 167, 182, 197, 192, 200, 217, 183, 193, 211, 165, 176, 194, 153, 160, 179, 151, 146, 163, 145, 143, 160, 148, 144, 163, 153, 154, 174, 151, 161, 181, 158, 174, 194, 173, 190, 204, 177, 195, 207, 180, 198, 213, 183, 204, 216, 187, 208, 218, 191, 211, 222, 196, 216, 227, 199, 218, 228, 202, 219, 226, 207, 222, 230, 211, 224, 233, 213, 224, 233, 212, 222, 230, 208, 220, 228, 199, 215, 225, 189, 208, 219, 179, 202, 214, 170, 196, 210, 165, 189, 205, 160, 182, 198, 151, 172, 189, 144, 154, 173, 139, 143, 161, 132, 134, 151, 122, 123, 138, 113, 113, 127, 112, 99, 109], \"height\": 32, \"channels\": 3, \"width\": 32, \"type\": \"image\", \"id\": 4803037456}, {\"format\": \"raw\", \"value\": [30, 32, 19, 25, 24, 12, 46, 44, 26, 74, 75, 58, 50, 52, 41, 37, 37, 28, 52, 50, 39, 59, 58, 39, 68, 73, 48, 58, 67, 43, 25, 29, 11, 41, 39, 24, 66, 64, 47, 72, 73, 54, 63, 66, 46, 52, 57, 36, 52, 57, 35, 55, 59, 38, 45, 51, 31, 36, 44, 24, 38, 37, 23, 62, 57, 44, 56, 53, 34, 85, 64, 49, 41, 49, 31, 25, 26, 19, 30, 24, 18, 36, 33, 25, 38, 41, 29, 34, 33, 21, 86, 73, 65, 97, 86, 82, 41, 47, 28, 33, 36, 21, 44, 45, 25, 67, 68, 50, 60, 62, 48, 23, 25, 16, 36, 39, 32, 42, 46, 36, 51, 58, 41, 59, 67, 49, 25, 27, 12, 42, 34, 19, 67, 53, 43, 66, 58, 47, 54, 52, 38, 53, 57, 40, 47, 52, 31, 49, 54, 32, 44, 49, 26, 36, 42, 19, 93, 87, 73, 103, 81, 74, 73, 57, 45, 74, 56, 42, 21, 32, 14, 18, 21, 12, 23, 17, 12, 32, 26, 22, 28, 28, 22, 14, 13, 5, 64, 53, 50, 104, 94, 97, 56, 66, 43, 51, 57, 40, 42, 46, 26, 37, 37, 19, 59, 59, 44, 31, 34, 24, 30, 36, 35, 42, 48, 52, 50, 55, 56, 58, 64, 60, 60, 59, 52, 72, 59, 53, 68, 46, 45, 67, 51, 48, 43, 37, 32, 44, 46, 40, 51, 56, 45, 42, 47, 34, 32, 37, 23, 30, 34, 18, 106, 75, 71, 131, 83, 87, 109, 96, 88, 93, 73, 65, 49, 35, 26, 48, 22, 21, 66, 40, 41, 74, 57, 58, 52, 47, 44, 41, 38, 32, 71, 61, 65, 155, 147, 156, 50, 60, 37, 56, 62, 47, 60, 64, 47, 30, 29, 15, 49, 49, 35, 66, 69, 59, 60, 65, 68, 43, 45, 62, 42, 43, 63, 64, 67, 79, 117, 115, 121, 115, 102, 106, 62, 39, 43, 50, 34, 37, 46, 40, 44, 47, 49, 53, 45, 51, 56, 34, 38, 43, 49, 51, 53, 59, 60, 59, 104, 44, 53, 138, 68, 80, 118, 117, 111, 120, 96, 94, 90, 37, 41, 83, 17, 28, 97, 45, 52, 99, 72, 73, 88, 82, 75, 75, 73, 65, 87, 80, 87, 178, 173, 187, 54, 61, 41, 61, 64, 54, 81, 82, 72, 61, 58, 50, 73, 70, 60, 95, 94, 86, 52, 50, 58, 46, 41, 65, 62, 57, 83, 63, 64, 82, 107, 107, 119, 117, 111, 118, 75, 61, 67, 61, 51, 59, 50, 48, 58, 37, 40, 53, 30, 35, 54, 46, 49, 67, 63, 62, 76, 60, 57, 68, 101, 34, 48, 125, 47, 63, 68, 73, 71, 98, 77, 79, 110, 47, 57, 103, 31, 43, 101, 46, 51, 89, 63, 55, 88, 84, 67, 78, 77, 65, 101, 97, 105, 168, 166, 182, 59, 62, 47, 96, 94, 90, 125, 121, 118, 110, 106, 105, 111, 106, 102, 96, 90, 84, 67, 57, 67, 64, 51, 73, 92, 83, 100, 101, 102, 112, 143, 148, 152, 156, 158, 161, 132, 130, 135, 119, 119, 126, 102, 105, 118, 66, 71, 90, 37, 44, 64, 72, 76, 94, 111, 110, 123, 134, 129, 139, 121, 75, 81, 132, 63, 77, 144, 142, 146, 172, 165, 166, 158, 129, 129, 76, 43, 43, 80, 52, 44, 96, 84, 62, 107, 108, 78, 81, 80, 65, 95, 94, 100, 157, 157, 174, 59, 59, 51, 104, 101, 101, 122, 116, 119, 70, 66, 72, 53, 51, 52, 93, 87, 85, 111, 100, 112, 125, 111, 129, 183, 176, 182, 197, 200, 200, 186, 194, 190, 164, 172, 170, 136, 144, 150, 106, 113, 123, 86, 93, 109, 69, 76, 96, 56, 66, 84, 129, 137, 151, 184, 186, 195, 191, 188, 192, 124, 108, 107, 128, 83, 95, 232, 222, 231, 226, 229, 228, 148, 155, 142, 76, 85, 64, 93, 96, 69, 110, 113, 78, 114, 120, 81, 75, 76, 58, 65, 66, 73, 103, 107, 121, 46, 47, 45, 72, 70, 72, 69, 64, 73, 54, 57, 68, 81, 88, 95, 129, 133, 137, 133, 133, 145, 132, 131, 146, 187, 189, 195, 132, 139, 140, 61, 69, 70, 30, 38, 44, 18, 29, 43, 16, 27, 43, 19, 29, 46, 21, 32, 51, 39, 52, 73, 84, 99, 114, 134, 145, 152, 169, 171, 172, 126, 126, 134, 102, 95, 109, 200, 198, 202, 181, 181, 180, 130, 136, 117, 108, 121, 80, 104, 114, 73, 111, 119, 77, 111, 119, 79, 63, 67, 51, 70, 74, 86, 134, 145, 156, 103, 103, 104, 138, 138, 140, 152, 149, 158, 128, 134, 150, 81, 93, 106, 107, 117, 126, 84, 91, 105, 29, 34, 51, 103, 109, 119, 56, 63, 68, 11, 17, 24, 17, 24, 38, 25, 35, 53, 27, 38, 56, 25, 36, 54, 28, 39, 57, 67, 82, 102, 75, 94, 110, 92, 108, 117, 185, 190, 196, 127, 132, 147, 82, 89, 103, 134, 138, 134, 114, 113, 102, 108, 109, 84, 111, 117, 75, 110, 116, 78, 107, 112, 78, 95, 101, 71, 46, 50, 37, 56, 60, 73, 121, 135, 146, 208, 208, 209, 186, 186, 187, 207, 205, 214, 93, 100, 119, 83, 97, 115, 125, 136, 150, 72, 80, 100, 22, 27, 49, 81, 87, 100, 80, 86, 95, 15, 21, 31, 19, 25, 40, 21, 29, 45, 25, 34, 50, 28, 37, 53, 34, 43, 60, 56, 70, 87, 63, 81, 96, 52, 69, 81, 78, 85, 98, 57, 60, 79, 69, 74, 83, 90, 94, 81, 102, 104, 78, 114, 114, 82, 117, 118, 82, 115, 116, 86, 89, 88, 66, 47, 48, 29, 18, 19, 8, 18, 22, 31, 58, 72, 85, 157, 155, 157, 112, 112, 114, 154, 154, 163, 49, 59, 79, 49, 63, 85, 120, 132, 148, 62, 70, 93, 19, 24, 48, 57, 61, 77, 96, 100, 111, 13, 17, 30, 16, 19, 37, 15, 21, 36, 24, 30, 44, 31, 37, 51, 39, 46, 60, 58, 70, 84, 51, 68, 81, 43, 59, 74, 45, 52, 70, 44, 46, 66, 84, 87, 93, 116, 120, 103, 121, 124, 91, 122, 123, 85, 121, 119, 85, 106, 103, 76, 63, 58, 40, 34, 31, 17, 28, 26, 15, 21, 23, 27, 46, 59, 75, 72, 69, 72, 127, 128, 130, 127, 129, 138, 35, 44, 63, 36, 48, 68, 118, 127, 143, 62, 69, 90, 24, 27, 51, 44, 45, 62, 109, 111, 121, 27, 28, 42, 16, 17, 35, 22, 26, 38, 27, 31, 43, 30, 34, 46, 37, 41, 53, 53, 62, 73, 58, 71, 82, 63, 76, 90, 78, 84, 102, 104, 104, 122, 145, 145, 150, 145, 147, 133, 133, 136, 109, 123, 124, 92, 116, 114, 82, 104, 102, 75, 85, 81, 61, 79, 76, 61, 77, 72, 59, 45, 46, 45, 50, 61, 80, 113, 109, 112, 175, 176, 178, 113, 117, 125, 38, 47, 63, 48, 58, 72, 123, 130, 140, 66, 70, 86, 30, 31, 50, 43, 43, 57, 110, 111, 120, 52, 52, 64, 16, 16, 31, 26, 28, 38, 34, 37, 46, 51, 53, 63, 73, 75, 85, 98, 100, 111, 121, 128, 139, 144, 153, 165, 176, 179, 194, 197, 194, 210, 205, 202, 209, 200, 199, 194, 187, 187, 178, 161, 161, 147, 143, 143, 123, 135, 134, 115, 123, 122, 105, 119, 116, 103, 125, 118, 104, 76, 74, 68, 53, 63, 85, 199, 194, 196, 216, 216, 218, 156, 161, 168, 104, 111, 123, 97, 103, 111, 127, 131, 135, 67, 68, 78, 27, 26, 41, 32, 31, 43, 95, 96, 102, 87, 87, 96, 38, 37, 50, 76, 76, 84, 109, 110, 117, 140, 141, 149, 174, 174, 183, 205, 201, 213, 218, 218, 229, 221, 225, 233, 224, 224, 232, 227, 222, 234, 227, 221, 231, 227, 223, 229, 226, 222, 234, 218, 215, 225, 207, 207, 206, 194, 195, 191, 177, 179, 171, 159, 158, 152, 155, 146, 132, 98, 96, 87, 46, 55, 78, 199, 192, 195, 207, 204, 207, 191, 189, 197, 202, 203, 209, 183, 186, 187, 171, 174, 176, 132, 135, 142, 60, 62, 73, 51, 51, 60, 113, 114, 120, 161, 161, 168, 141, 141, 151, 185, 185, 193, 216, 216, 223, 230, 230, 237, 234, 233, 241, 236, 233, 245, 233, 234, 245, 231, 234, 242, 233, 233, 239, 236, 232, 241, 236, 231, 242, 236, 232, 244, 236, 231, 250, 234, 231, 248, 232, 232, 242, 229, 230, 235, 222, 223, 225, 209, 208, 210, 195, 190, 183, 119, 121, 115, 41, 49, 67, 176, 168, 170, 186, 175, 180, 176, 163, 172, 212, 204, 206, 205, 202, 200, 177, 178, 182, 174, 179, 189, 111, 115, 127, 149, 149, 156, 191, 191, 197, 227, 227, 234, 236, 236, 243, 241, 240, 248, 238, 238, 246, 238, 237, 245, 238, 237, 245, 239, 239, 247, 238, 241, 250, 238, 242, 249, 240, 241, 247, 242, 241, 248, 244, 242, 251, 243, 241, 251, 243, 241, 252, 241, 240, 250, 239, 239, 247, 239, 239, 245, 232, 233, 237, 210, 211, 215, 211, 212, 214, 151, 157, 159, 44, 49, 59, 148, 140, 139, 137, 125, 128, 171, 156, 162, 175, 159, 163, 178, 165, 168, 155, 146, 155, 144, 140, 157, 138, 135, 150, 195, 192, 199, 224, 222, 227, 231, 229, 232, 235, 234, 236, 238, 237, 245, 241, 240, 248, 242, 241, 249, 242, 241, 248, 243, 241, 244, 244, 243, 245, 245, 245, 247, 244, 244, 246, 246, 245, 250, 248, 247, 253, 248, 247, 253, 248, 246, 253, 246, 246, 252, 241, 242, 246, 209, 210, 215, 152, 153, 157, 104, 104, 110, 126, 129, 137, 169, 175, 181, 69, 73, 79, 120, 113, 108, 74, 65, 65, 157, 146, 148, 166, 148, 153, 165, 145, 154, 145, 129, 143, 138, 125, 145, 155, 146, 165, 166, 159, 170, 198, 191, 199, 214, 208, 209, 223, 219, 219, 228, 226, 233, 235, 233, 241, 239, 238, 245, 244, 242, 249, 247, 244, 245, 248, 245, 242, 247, 245, 243, 244, 244, 244, 245, 245, 248, 249, 249, 252, 250, 250, 253, 252, 251, 254, 241, 241, 245, 177, 178, 183, 99, 100, 105, 45, 46, 51, 23, 23, 30, 57, 57, 70, 173, 178, 186, 117, 120, 123, 128, 121, 114, 49, 43, 40, 120, 113, 111, 176, 163, 167, 171, 157, 166, 124, 112, 125, 113, 103, 121, 131, 120, 142, 128, 117, 139, 151, 141, 156, 176, 167, 175, 196, 189, 193, 216, 212, 219, 225, 221, 228, 233, 229, 236, 238, 235, 241, 242, 243, 247, 249, 248, 247, 251, 249, 247, 247, 248, 249, 247, 248, 250, 250, 250, 250, 250, 250, 251, 251, 251, 252, 210, 210, 213, 76, 77, 82, 22, 23, 28, 22, 24, 28, 25, 26, 33, 40, 39, 53, 178, 181, 189, 155, 157, 158, 147, 140, 134, 51, 47, 44, 70, 66, 64, 140, 135, 136, 151, 146, 152, 145, 141, 150, 128, 125, 137, 119, 113, 132, 105, 95, 121, 124, 114, 136, 171, 162, 178, 184, 177, 187, 187, 182, 188, 164, 160, 165, 200, 195, 200, 230, 227, 232, 228, 234, 242, 238, 239, 242, 233, 226, 224, 232, 229, 230, 236, 236, 238, 241, 240, 242, 233, 232, 234, 221, 220, 222, 184, 185, 188, 49, 50, 55, 15, 16, 21, 26, 27, 32, 26, 26, 33, 67, 65, 77, 177, 179, 185, 142, 143, 143, 117, 110, 107, 50, 46, 45, 64, 62, 63, 128, 127, 128, 134, 133, 134, 136, 135, 139, 137, 136, 142, 141, 139, 150, 140, 134, 152, 147, 142, 158, 181, 176, 189, 183, 178, 187, 106, 101, 105, 55, 50, 54, 89, 84, 88, 180, 176, 181, 224, 228, 239, 218, 211, 214, 171, 150, 142, 175, 155, 148, 187, 180, 181, 205, 205, 210, 205, 204, 209, 202, 201, 206, 187, 187, 192, 73, 74, 79, 17, 18, 23, 28, 29, 34, 64, 64, 69, 162, 160, 166, 142, 143, 146, 90, 89, 91, 60, 53, 53, 41, 38, 40, 48, 47, 51, 89, 88, 88, 131, 128, 126, 143, 138, 138, 143, 137, 139, 141, 138, 141, 141, 141, 144, 148, 148, 151, 171, 171, 174, 166, 164, 167, 51, 45, 49, 23, 17, 21, 31, 26, 29, 91, 86, 92, 205, 202, 212, 206, 187, 185, 139, 102, 85, 148, 109, 90, 168, 153, 151, 183, 182, 191, 207, 206, 212, 196, 195, 202, 185, 185, 191, 113, 114, 119, 44, 45, 50, 72, 73, 78, 96, 96, 100, 126, 124, 126, 99, 99, 100, 77, 75, 78, 72, 62, 61, 31, 26, 27, 30, 29, 31, 40, 36, 37, 78, 72, 72, 110, 105, 105, 134, 129, 131, 148, 146, 147, 145, 147, 146, 144, 145, 145, 157, 155, 156, 150, 147, 147, 53, 48, 46, 24, 18, 19, 23, 17, 21, 38, 31, 39, 152, 144, 154, 203, 185, 185, 135, 108, 94, 130, 102, 82, 176, 166, 162, 181, 182, 189, 206, 206, 212, 196, 196, 203, 214, 214, 220, 179, 179, 185, 95, 96, 102, 78, 78, 85, 64, 64, 70, 87, 86, 88, 136, 136, 136, 98, 95, 95, 130, 119, 111, 53, 46, 41, 26, 22, 20, 25, 20, 19, 25, 19, 19, 46, 42, 43, 74, 72, 75, 99, 100, 102, 126, 129, 128, 155, 155, 154, 160, 156, 156, 150, 144, 143, 68, 63, 58, 16, 11, 9, 16, 9, 15, 23, 15, 26, 101, 94, 103, 209, 201, 204, 198, 189, 184, 181, 173, 162, 203, 200, 198, 211, 211, 216, 225, 225, 229, 232, 232, 236, 244, 244, 248, 234, 233, 238, 120, 120, 126, 52, 52, 59, 72, 71, 77, 158, 158, 160, 182, 180, 180, 102, 98, 95, 146, 134, 116, 110, 100, 89, 54, 46, 39, 49, 42, 36, 21, 15, 11, 17, 12, 12, 23, 21, 25, 38, 38, 40, 63, 64, 59, 91, 91, 87, 126, 122, 119, 149, 143, 140, 58, 53, 48, 14, 9, 8, 13, 7, 12, 16, 10, 19, 67, 64, 70, 198, 196, 199, 226, 224, 224, 224, 222, 220, 233, 233, 233, 239, 239, 242, 247, 246, 248, 250, 250, 252, 251, 250, 253, 241, 240, 244, 120, 119, 124, 49, 48, 54, 115, 114, 119, 207, 206, 206, 157, 155, 152, 89, 84, 80, 118, 105, 77, 124, 112, 91, 122, 111, 95, 129, 119, 105, 96, 88, 76, 42, 36, 32, 17, 12, 15, 15, 12, 14, 19, 17, 13, 33, 31, 28, 56, 52, 51, 87, 82, 81, 44, 38, 36, 18, 12, 12, 33, 27, 31, 23, 17, 24, 39, 38, 41, 165, 165, 167, 185, 185, 189, 174, 174, 179, 202, 202, 205, 222, 221, 222, 236, 235, 236, 232, 231, 232, 212, 211, 213, 196, 195, 198, 126, 124, 128, 86, 85, 88, 140, 139, 141, 191, 188, 184, 134, 129, 124, 108, 100, 95, 108, 97, 63, 110, 97, 69, 117, 104, 79, 131, 120, 96, 133, 123, 103, 120, 112, 101, 76, 69, 67, 30, 23, 25, 13, 8, 8, 15, 9, 12, 17, 11, 17, 31, 25, 31, 27, 21, 21, 22, 16, 16, 54, 48, 51, 38, 33, 37, 22, 22, 21, 137, 138, 138, 191, 191, 197, 175, 175, 185, 174, 172, 177, 178, 175, 176, 189, 186, 187, 198, 195, 196, 208, 205, 206, 225, 222, 223, 135, 132, 133, 73, 70, 71, 92, 88, 87, 143, 137, 129, 140, 132, 124, 133, 122, 116, 110, 101, 69, 105, 94, 62, 103, 90, 59, 110, 98, 66, 111, 100, 72, 118, 108, 88, 118, 109, 96, 105, 97, 90, 59, 51, 49, 20, 13, 14, 12, 5, 11, 12, 7, 14, 17, 11, 13, 33, 27, 29, 43, 37, 39, 30, 25, 27, 16, 15, 13, 127, 128, 126, 208, 207, 212, 194, 193, 202, 198, 195, 199, 207, 203, 203, 222, 219, 218, 232, 228, 228, 224, 221, 220, 178, 174, 172, 85, 81, 79, 62, 59, 57, 49, 44, 40, 117, 109, 97, 145, 135, 124, 143, 130, 122, 106, 100, 74, 101, 93, 61, 105, 95, 58, 110, 97, 60, 107, 94, 59, 109, 99, 68, 102, 93, 66, 109, 101, 79, 108, 100, 84, 82, 75, 63, 39, 34, 28, 14, 11, 9, 14, 9, 11, 41, 35, 37, 30, 24, 26, 20, 14, 15, 16, 13, 10, 91, 89, 86, 179, 177, 178, 188, 185, 189, 199, 195, 195, 209, 204, 202, 223, 218, 216, 224, 219, 217, 183, 178, 175, 136, 131, 127, 58, 54, 50, 39, 35, 32, 79, 74, 67, 109, 100, 84, 139, 126, 113, 148, 132, 123, 98, 95, 77, 96, 91, 62, 107, 100, 61, 111, 100, 59, 112, 99, 60, 112, 101, 64, 106, 97, 61, 102, 94, 58, 100, 92, 59, 96, 90, 62, 87, 85, 61, 56, 55, 39, 15, 10, 11, 26, 19, 21, 29, 22, 23, 17, 11, 11, 21, 15, 13, 51, 45, 43, 110, 103, 102, 125, 119, 117, 149, 144, 141, 170, 165, 162, 188, 183, 180, 165, 160, 157, 101, 96, 93, 45, 40, 37, 57, 52, 46, 114, 108, 103, 134, 127, 119, 138, 127, 110, 136, 123, 109, 141, 124, 115, 86, 88, 79, 99, 98, 80, 101, 96, 61, 109, 101, 59, 110, 99, 62, 112, 99, 67, 103, 93, 60, 95, 90, 53, 93, 87, 52, 96, 87, 55, 94, 88, 57, 86, 83, 57, 47, 40, 30, 23, 13, 7, 31, 22, 17, 22, 17, 18, 28, 22, 24, 29, 21, 19, 26, 18, 15, 32, 26, 23, 44, 39, 37, 59, 55, 52, 65, 61, 58, 44, 36, 33, 32, 22, 21, 77, 70, 65, 128, 120, 109, 149, 140, 127, 149, 138, 125, 148, 135, 120, 137, 123, 110, 133, 118, 109, 99, 103, 98, 110, 112, 100, 107, 104, 72, 104, 99, 58, 104, 94, 61, 99, 84, 58, 95, 85, 56, 93, 88, 55, 95, 87, 56, 104, 91, 62, 102, 91, 61, 95, 89, 59, 92, 84, 63, 62, 50, 33, 42, 32, 22, 30, 26, 23, 32, 28, 25, 31, 23, 18, 14, 6, 2, 11, 8, 6, 13, 9, 8, 14, 9, 7, 17, 14, 10, 44, 35, 33, 48, 36, 35, 103, 94, 89, 147, 138, 124, 146, 134, 117, 146, 133, 119, 144, 130, 117, 145, 131, 120, 141, 127, 119], \"height\": 32, \"channels\": 3, \"width\": 32, \"type\": \"image\", \"id\": 4803037584}, {\"format\": \"raw\", \"value\": [241, 175, 114, 241, 190, 114, 245, 186, 114, 246, 186, 118, 250, 188, 116, 250, 188, 116, 250, 188, 116, 242, 189, 115, 237, 190, 114, 236, 184, 110, 236, 179, 107, 236, 173, 103, 236, 168, 100, 232, 162, 95, 226, 155, 91, 223, 150, 85, 220, 144, 74, 218, 139, 70, 217, 131, 66, 216, 125, 62, 214, 119, 55, 210, 114, 50, 207, 111, 47, 205, 107, 44, 207, 102, 43, 208, 99, 42, 206, 97, 40, 202, 94, 37, 203, 91, 35, 204, 86, 30, 203, 82, 24, 209, 84, 23, 247, 182, 124, 248, 197, 120, 252, 194, 115, 253, 196, 120, 254, 197, 118, 253, 198, 119, 255, 198, 120, 247, 198, 117, 243, 202, 118, 242, 200, 117, 242, 199, 116, 242, 198, 118, 244, 200, 123, 246, 200, 123, 247, 198, 121, 248, 197, 119, 249, 197, 118, 250, 196, 120, 250, 191, 121, 250, 189, 123, 245, 186, 119, 242, 184, 116, 240, 181, 114, 240, 180, 112, 242, 177, 105, 242, 171, 98, 233, 166, 93, 227, 160, 87, 227, 153, 83, 227, 144, 78, 224, 137, 75, 229, 136, 78, 246, 187, 132, 248, 204, 129, 250, 201, 121, 249, 204, 127, 250, 205, 127, 248, 204, 125, 249, 205, 126, 249, 201, 124, 250, 199, 124, 250, 200, 124, 249, 200, 123, 246, 198, 121, 249, 201, 124, 250, 200, 123, 251, 199, 120, 250, 199, 117, 244, 205, 120, 244, 203, 123, 245, 199, 126, 246, 199, 130, 245, 200, 128, 245, 201, 127, 244, 200, 126, 245, 200, 126, 248, 202, 125, 249, 202, 123, 249, 203, 125, 249, 204, 125, 249, 199, 123, 251, 196, 125, 250, 192, 129, 254, 194, 139, 244, 193, 140, 246, 212, 144, 249, 211, 136, 246, 212, 141, 247, 214, 143, 247, 214, 143, 247, 214, 143, 249, 213, 143, 250, 210, 141, 247, 207, 139, 245, 207, 138, 248, 208, 137, 250, 210, 136, 248, 209, 135, 246, 210, 135, 246, 211, 136, 245, 212, 138, 244, 209, 137, 244, 206, 137, 246, 206, 139, 246, 209, 135, 245, 208, 133, 246, 209, 134, 246, 209, 134, 248, 208, 135, 249, 208, 136, 250, 210, 137, 249, 208, 136, 247, 208, 135, 247, 208, 138, 247, 203, 143, 251, 205, 153, 239, 198, 147, 241, 217, 158, 244, 216, 151, 241, 217, 156, 241, 217, 158, 243, 219, 160, 244, 219, 160, 240, 221, 160, 236, 220, 158, 237, 218, 157, 242, 219, 160, 246, 216, 158, 248, 213, 157, 238, 211, 158, 229, 212, 162, 229, 214, 167, 239, 211, 168, 243, 213, 167, 247, 214, 165, 251, 217, 164, 252, 220, 157, 249, 218, 152, 244, 213, 148, 243, 212, 147, 245, 212, 150, 247, 212, 152, 248, 214, 153, 248, 213, 153, 249, 217, 153, 249, 218, 155, 249, 213, 158, 252, 215, 165, 238, 204, 155, 237, 222, 170, 241, 221, 166, 238, 221, 172, 239, 220, 172, 241, 222, 174, 240, 221, 173, 238, 220, 173, 240, 222, 175, 246, 220, 176, 233, 198, 157, 211, 168, 134, 200, 149, 127, 167, 128, 111, 117, 92, 81, 113, 96, 90, 125, 105, 97, 148, 126, 112, 174, 150, 128, 200, 176, 146, 220, 197, 156, 234, 210, 166, 242, 218, 175, 247, 223, 177, 243, 219, 169, 243, 219, 167, 245, 220, 169, 244, 220, 168, 250, 223, 170, 253, 222, 169, 252, 218, 168, 255, 221, 174, 239, 212, 167, 239, 230, 189, 240, 227, 186, 238, 228, 189, 241, 226, 187, 239, 227, 186, 240, 228, 185, 243, 226, 192, 232, 211, 183, 192, 156, 133, 154, 104, 93, 111, 73, 66, 110, 76, 74, 109, 73, 79, 29, 0, 10, 20, 1, 16, 20, 9, 22, 24, 14, 20, 28, 18, 20, 39, 28, 30, 60, 44, 45, 89, 72, 73, 129, 111, 109, 179, 163, 148, 228, 215, 183, 238, 225, 186, 238, 223, 183, 239, 225, 180, 242, 226, 189, 246, 224, 186, 248, 222, 186, 243, 226, 186, 241, 219, 176, 241, 236, 202, 242, 233, 199, 238, 234, 201, 241, 233, 200, 240, 233, 199, 242, 234, 199, 239, 226, 204, 159, 145, 129, 149, 120, 109, 146, 104, 106, 114, 89, 93, 108, 89, 93, 102, 77, 86, 59, 38, 48, 46, 34, 44, 22, 16, 25, 17, 12, 16, 9, 4, 10, 13, 6, 18, 19, 8, 21, 17, 6, 20, 30, 19, 29, 57, 47, 45, 142, 134, 120, 234, 224, 205, 236, 226, 203, 238, 228, 202, 238, 230, 207, 241, 229, 201, 244, 227, 202, 237, 232, 198, 242, 224, 185, 242, 240, 213, 243, 237, 209, 237, 240, 214, 239, 240, 215, 241, 237, 215, 247, 238, 217, 186, 175, 166, 134, 128, 124, 199, 182, 178, 157, 132, 136, 153, 138, 145, 123, 104, 112, 103, 83, 89, 89, 76, 77, 116, 111, 108, 87, 82, 78, 97, 92, 86, 67, 61, 60, 38, 31, 39, 83, 76, 79, 60, 53, 58, 45, 38, 44, 102, 95, 97, 74, 67, 65, 175, 168, 164, 240, 234, 226, 237, 231, 222, 236, 234, 223, 238, 234, 214, 240, 231, 215, 236, 235, 208, 243, 229, 196, 243, 245, 226, 244, 243, 221, 237, 247, 227, 240, 245, 231, 249, 246, 237, 223, 213, 208, 140, 132, 136, 185, 187, 192, 210, 201, 203, 146, 130, 135, 151, 141, 149, 121, 100, 111, 111, 94, 97, 78, 68, 62, 170, 164, 153, 136, 129, 119, 203, 196, 184, 161, 153, 150, 72, 63, 69, 165, 160, 159, 148, 144, 143, 56, 51, 56, 135, 130, 137, 115, 109, 111, 89, 83, 82, 214, 211, 208, 238, 237, 233, 233, 237, 232, 235, 239, 228, 237, 236, 229, 235, 239, 218, 243, 233, 205, 241, 247, 237, 244, 247, 232, 236, 245, 232, 202, 204, 199, 220, 217, 217, 174, 163, 170, 174, 165, 178, 228, 231, 240, 204, 193, 197, 160, 140, 145, 169, 153, 160, 142, 117, 126, 133, 112, 113, 112, 94, 86, 181, 164, 153, 114, 104, 97, 188, 179, 171, 170, 160, 159, 66, 56, 64, 133, 127, 129, 170, 165, 166, 73, 67, 72, 100, 92, 105, 179, 171, 174, 88, 81, 77, 133, 131, 128, 239, 241, 237, 230, 238, 236, 229, 238, 234, 232, 238, 239, 236, 240, 223, 243, 237, 213, 238, 248, 245, 244, 251, 242, 220, 225, 217, 74, 69, 69, 75, 68, 75, 137, 126, 141, 213, 205, 223, 231, 229, 240, 198, 178, 180, 189, 153, 154, 189, 159, 161, 160, 128, 134, 188, 159, 159, 165, 130, 126, 172, 135, 133, 114, 100, 107, 121, 111, 114, 126, 114, 120, 87, 74, 89, 96, 86, 99, 131, 122, 129, 85, 75, 84, 83, 71, 89, 184, 170, 179, 144, 133, 134, 67, 62, 66, 195, 195, 199, 238, 246, 248, 230, 242, 241, 232, 241, 245, 237, 240, 224, 243, 240, 221, 237, 249, 251, 243, 252, 248, 220, 222, 217, 60, 50, 51, 12, 2, 8, 70, 59, 71, 151, 141, 156, 195, 188, 195, 185, 157, 158, 191, 145, 144, 164, 124, 124, 174, 140, 143, 217, 182, 182, 203, 154, 153, 157, 103, 109, 66, 46, 63, 66, 48, 60, 77, 62, 72, 96, 79, 95, 115, 99, 121, 118, 103, 119, 114, 99, 113, 116, 100, 121, 129, 110, 128, 131, 114, 129, 83, 74, 90, 127, 124, 140, 218, 222, 230, 228, 237, 239, 233, 243, 248, 238, 240, 225, 239, 240, 230, 238, 250, 249, 236, 251, 250, 240, 241, 241, 183, 174, 169, 101, 86, 74, 121, 98, 81, 179, 162, 152, 207, 197, 194, 231, 210, 209, 215, 184, 187, 159, 131, 138, 208, 186, 191, 222, 192, 188, 227, 175, 168, 146, 80, 78, 60, 18, 23, 92, 17, 32, 52, 9, 12, 78, 26, 36, 113, 89, 108, 123, 105, 125, 124, 105, 124, 119, 101, 122, 119, 100, 120, 124, 102, 126, 115, 107, 128, 100, 97, 111, 110, 102, 118, 130, 118, 137, 188, 197, 205, 236, 242, 237, 239, 239, 234, 239, 249, 247, 236, 251, 252, 225, 225, 231, 211, 204, 204, 222, 209, 196, 235, 214, 197, 234, 216, 202, 210, 198, 184, 241, 225, 211, 205, 184, 182, 190, 171, 179, 232, 219, 223, 221, 199, 189, 212, 166, 153, 142, 76, 70, 82, 22, 26, 122, 17, 37, 76, 11, 17, 102, 27, 41, 107, 80, 97, 113, 97, 115, 107, 90, 108, 103, 86, 104, 111, 97, 116, 119, 100, 124, 118, 104, 125, 85, 51, 67, 55, 20, 38, 58, 22, 46, 135, 123, 136, 238, 236, 236, 239, 241, 236, 241, 247, 247, 233, 244, 247, 218, 217, 224, 223, 218, 223, 241, 235, 231, 247, 239, 237, 241, 230, 227, 230, 219, 200, 241, 230, 202, 211, 195, 186, 224, 209, 217, 240, 231, 228, 227, 211, 193, 206, 170, 151, 147, 97, 89, 81, 42, 47, 103, 31, 48, 71, 27, 35, 90, 36, 50, 101, 79, 94, 87, 72, 87, 70, 53, 69, 76, 61, 76, 75, 61, 80, 90, 75, 98, 116, 97, 116, 110, 45, 66, 71, 13, 29, 62, 12, 31, 113, 78, 93, 234, 223, 220, 241, 242, 237, 245, 245, 247, 230, 235, 241, 226, 223, 223, 235, 233, 226, 236, 237, 226, 236, 236, 233, 237, 235, 234, 235, 233, 214, 216, 213, 181, 205, 195, 184, 228, 218, 225, 236, 231, 222, 232, 220, 196, 222, 196, 174, 170, 140, 133, 104, 98, 102, 112, 84, 97, 93, 80, 88, 102, 81, 92, 96, 83, 96, 55, 43, 56, 60, 46, 60, 65, 51, 66, 64, 47, 66, 66, 52, 74, 94, 86, 100, 110, 57, 73, 65, 17, 25, 64, 17, 30, 98, 60, 74, 220, 211, 204, 240, 242, 236, 230, 226, 230, 210, 210, 216, 223, 218, 206, 228, 225, 201, 234, 233, 210, 234, 234, 219, 234, 237, 228, 236, 239, 220, 217, 214, 186, 163, 149, 134, 195, 181, 180, 235, 229, 219, 236, 223, 199, 225, 205, 185, 166, 146, 146, 125, 115, 132, 134, 114, 135, 130, 113, 133, 132, 112, 133, 113, 100, 117, 78, 67, 83, 62, 50, 66, 61, 48, 65, 66, 47, 67, 62, 47, 69, 77, 80, 94, 106, 86, 99, 77, 56, 60, 79, 48, 61, 98, 76, 90, 210, 210, 200, 242, 244, 238, 168, 158, 164, 127, 122, 130, 239, 231, 215, 234, 228, 196, 240, 234, 204, 245, 236, 215, 244, 240, 219, 244, 238, 212, 201, 182, 157, 140, 103, 75, 170, 138, 119, 198, 186, 180, 213, 197, 177, 216, 200, 186, 163, 146, 157, 137, 117, 146, 132, 112, 142, 132, 103, 136, 130, 103, 135, 123, 109, 132, 115, 103, 124, 90, 78, 100, 84, 72, 93, 71, 62, 78, 97, 82, 104, 114, 112, 134, 99, 96, 115, 77, 71, 83, 99, 78, 101, 129, 123, 141, 213, 215, 207, 241, 241, 236, 122, 110, 118, 77, 70, 81, 232, 219, 206, 237, 222, 195, 240, 224, 198, 240, 221, 204, 233, 217, 186, 212, 189, 150, 139, 97, 75, 160, 99, 60, 169, 121, 86, 200, 182, 178, 235, 214, 197, 230, 211, 201, 191, 179, 193, 139, 133, 163, 130, 131, 159, 133, 119, 152, 126, 116, 147, 121, 110, 138, 114, 103, 130, 111, 100, 127, 109, 99, 126, 98, 99, 116, 118, 104, 129, 129, 112, 147, 105, 96, 128, 93, 84, 111, 103, 85, 119, 129, 130, 156, 221, 216, 210, 217, 211, 209, 74, 63, 80, 69, 66, 78, 203, 183, 169, 217, 185, 163, 235, 204, 190, 228, 207, 199, 227, 203, 178, 203, 166, 122, 111, 70, 55, 123, 77, 61, 122, 87, 67, 174, 151, 143, 232, 203, 184, 230, 201, 185, 192, 172, 177, 132, 123, 152, 132, 126, 156, 136, 125, 156, 133, 123, 154, 131, 120, 153, 130, 119, 154, 131, 119, 157, 128, 116, 155, 122, 114, 151, 126, 112, 153, 127, 111, 155, 123, 109, 153, 123, 111, 147, 113, 107, 139, 133, 132, 170, 222, 212, 204, 188, 181, 180, 55, 45, 64, 47, 44, 59, 172, 152, 142, 205, 170, 158, 214, 180, 176, 204, 181, 182, 201, 174, 165, 150, 113, 85, 86, 51, 43, 101, 69, 68, 103, 76, 69, 128, 98, 94, 217, 180, 167, 225, 186, 174, 189, 159, 163, 115, 100, 126, 112, 98, 126, 119, 105, 132, 123, 110, 137, 123, 111, 141, 125, 114, 147, 126, 114, 151, 126, 114, 152, 125, 113, 153, 126, 114, 155, 125, 113, 154, 125, 112, 153, 126, 111, 153, 123, 114, 153, 130, 118, 169, 184, 163, 164, 172, 168, 166, 59, 51, 69, 46, 43, 59, 112, 98, 98, 177, 152, 152, 178, 150, 156, 169, 143, 153, 157, 129, 140, 85, 54, 50, 72, 44, 47, 103, 77, 81, 93, 69, 67, 79, 49, 53, 163, 129, 126, 197, 159, 157, 141, 111, 120, 63, 51, 69, 67, 57, 75, 72, 61, 80, 78, 68, 87, 81, 72, 93, 87, 78, 102, 95, 85, 112, 101, 91, 120, 106, 96, 127, 112, 101, 132, 115, 104, 135, 115, 105, 135, 117, 101, 140, 117, 102, 141, 114, 95, 144, 162, 134, 139, 167, 166, 163, 65, 58, 75, 52, 49, 68, 56, 46, 57, 119, 104, 114, 133, 113, 125, 128, 104, 119, 123, 99, 120, 73, 48, 60, 79, 58, 68, 106, 85, 94, 84, 66, 69, 38, 20, 30, 77, 58, 62, 112, 90, 94, 49, 30, 38, 21, 13, 24, 28, 21, 32, 24, 17, 28, 23, 16, 28, 25, 20, 32, 29, 24, 39, 36, 30, 48, 41, 35, 55, 47, 41, 61, 55, 49, 69, 62, 55, 76, 67, 60, 81, 74, 64, 91, 76, 67, 87, 88, 72, 99, 169, 148, 136, 173, 174, 172, 64, 59, 74, 50, 47, 69, 30, 22, 39, 39, 32, 46, 47, 37, 49, 50, 33, 43, 53, 36, 53, 48, 32, 41, 73, 56, 63, 103, 83, 95, 75, 61, 68, 16, 13, 23, 17, 17, 22, 25, 22, 27, 12, 5, 12, 31, 26, 33, 39, 34, 41, 22, 17, 24, 15, 10, 17, 10, 7, 15, 9, 7, 16, 7, 4, 16, 5, 2, 17, 5, 2, 16, 9, 6, 19, 11, 8, 22, 14, 11, 25, 27, 23, 34, 56, 53, 48, 128, 117, 115, 208, 193, 158, 192, 198, 195, 65, 61, 75, 67, 62, 88, 35, 28, 47, 0, 0, 10, 32, 31, 36, 76, 69, 69, 51, 40, 42, 45, 33, 28, 63, 49, 45, 95, 74, 86, 65, 51, 61, 8, 9, 21, 4, 10, 18, 2, 4, 10, 7, 2, 9, 19, 15, 23, 27, 24, 32, 18, 15, 23, 9, 6, 15, 1, 0, 7, 1, 0, 10, 3, 2, 16, 4, 2, 17, 6, 4, 17, 6, 4, 16, 6, 4, 15, 0, 0, 9, 55, 47, 53, 176, 163, 146, 221, 202, 185, 233, 207, 164, 229, 235, 233, 91, 88, 102, 57, 51, 76, 34, 25, 43, 2, 2, 9, 128, 133, 130, 229, 229, 221, 184, 179, 170, 128, 119, 107, 99, 86, 79, 122, 101, 109, 57, 41, 51, 7, 3, 15, 2, 3, 14, 9, 6, 15, 13, 5, 13, 8, 5, 14, 6, 4, 12, 30, 28, 35, 24, 22, 29, 29, 29, 33, 31, 29, 33, 17, 13, 19, 11, 8, 18, 6, 5, 15, 3, 3, 12, 5, 4, 13, 0, 0, 9, 63, 50, 57, 171, 143, 130, 178, 139, 129, 199, 154, 120, 198, 191, 208, 128, 128, 145, 41, 36, 52, 33, 25, 44, 51, 50, 58, 184, 186, 188, 227, 228, 225, 227, 226, 228, 215, 211, 217, 189, 179, 183, 114, 97, 101, 40, 26, 29, 18, 13, 18, 45, 42, 49, 18, 13, 22, 12, 5, 14, 8, 6, 13, 31, 30, 33, 156, 156, 153, 179, 179, 173, 190, 190, 183, 193, 182, 163, 130, 110, 90, 62, 45, 41, 15, 9, 19, 5, 3, 16, 5, 3, 15, 3, 1, 12, 44, 36, 46, 109, 87, 83, 121, 86, 88, 176, 125, 99, 105, 95, 131, 88, 91, 121, 80, 78, 101, 78, 69, 107, 92, 87, 120, 116, 109, 142, 118, 112, 143, 129, 125, 152, 124, 119, 142, 113, 106, 122, 107, 96, 106, 82, 73, 78, 61, 58, 62, 116, 113, 120, 50, 47, 56, 20, 17, 30, 22, 21, 36, 121, 122, 130, 225, 226, 227, 228, 230, 230, 198, 192, 199, 194, 174, 169, 157, 127, 120, 77, 55, 64, 24, 15, 34, 7, 2, 21, 8, 3, 20, 7, 2, 20, 60, 52, 68, 105, 84, 88, 102, 71, 81, 167, 116, 92, 102, 93, 117, 87, 87, 113, 92, 86, 111, 89, 77, 117, 92, 80, 122, 91, 79, 124, 82, 69, 117, 85, 73, 117, 97, 86, 125, 95, 84, 120, 106, 95, 128, 106, 96, 126, 84, 76, 101, 93, 85, 113, 80, 71, 102, 68, 60, 91, 69, 68, 93, 128, 128, 148, 155, 157, 171, 145, 145, 158, 114, 104, 118, 119, 99, 104, 113, 92, 94, 74, 62, 75, 42, 37, 50, 21, 17, 26, 16, 12, 23, 25, 21, 32, 81, 72, 90, 99, 80, 95, 95, 69, 88, 158, 112, 92, 184, 166, 151, 172, 158, 150, 169, 151, 146, 161, 144, 145, 154, 140, 142, 149, 133, 141, 140, 124, 136, 133, 115, 135, 133, 115, 141, 129, 113, 140, 123, 109, 138, 114, 99, 128, 107, 91, 119, 106, 90, 120, 98, 80, 114, 87, 72, 104, 97, 90, 109, 123, 118, 132, 118, 114, 125, 115, 110, 121, 114, 103, 123, 109, 95, 114, 102, 90, 109, 85, 83, 107, 73, 72, 97, 63, 60, 83, 57, 53, 80, 61, 57, 86, 78, 73, 103, 82, 72, 96, 76, 64, 93, 150, 118, 105, 237, 209, 151, 230, 202, 153, 229, 200, 154, 224, 202, 151, 220, 202, 148, 217, 199, 149, 215, 196, 150, 212, 193, 151, 209, 189, 151, 204, 185, 148, 202, 182, 148, 198, 178, 147, 199, 176, 150, 196, 173, 149, 185, 162, 141, 171, 148, 130, 177, 157, 142, 191, 171, 155, 177, 157, 140, 176, 157, 141, 177, 160, 159, 165, 148, 155, 148, 135, 146, 128, 122, 133, 115, 108, 127, 113, 104, 128, 111, 102, 130, 105, 94, 128, 95, 89, 116, 90, 87, 103, 77, 75, 101, 157, 134, 120], \"height\": 32, \"channels\": 3, \"width\": 32, \"type\": \"image\", \"id\": 4803038224}, {\"format\": \"raw\", \"value\": [122, 33, 25, 109, 28, 22, 106, 24, 18, 111, 22, 16, 126, 25, 17, 123, 25, 16, 111, 23, 14, 108, 23, 13, 110, 24, 16, 109, 23, 16, 108, 23, 16, 110, 24, 16, 102, 25, 16, 104, 24, 17, 106, 23, 16, 103, 26, 17, 100, 30, 20, 94, 29, 18, 94, 30, 21, 90, 31, 23, 85, 35, 25, 79, 37, 27, 79, 37, 28, 92, 36, 21, 105, 38, 14, 109, 37, 15, 107, 37, 15, 104, 37, 17, 105, 37, 16, 107, 38, 14, 107, 38, 14, 106, 39, 15, 105, 18, 19, 91, 17, 15, 91, 17, 14, 101, 18, 16, 112, 21, 16, 108, 23, 15, 99, 21, 14, 97, 21, 14, 99, 21, 17, 98, 20, 16, 98, 22, 16, 102, 23, 16, 88, 25, 18, 67, 27, 25, 64, 28, 27, 64, 29, 29, 52, 27, 27, 40, 23, 22, 45, 26, 29, 50, 28, 32, 27, 19, 24, 21, 18, 23, 40, 31, 31, 79, 40, 27, 101, 35, 18, 106, 33, 15, 105, 33, 16, 104, 35, 18, 105, 36, 19, 106, 37, 18, 106, 37, 18, 105, 37, 18, 89, 17, 16, 79, 17, 13, 82, 17, 13, 91, 16, 14, 96, 20, 16, 92, 20, 16, 84, 19, 16, 80, 21, 17, 83, 23, 23, 77, 26, 24, 67, 23, 21, 88, 22, 16, 73, 24, 18, 23, 18, 20, 18, 17, 23, 30, 23, 29, 24, 18, 25, 11, 9, 19, 20, 18, 24, 36, 28, 27, 10, 6, 12, 10, 4, 12, 32, 25, 30, 67, 40, 32, 98, 28, 18, 103, 27, 18, 102, 29, 19, 102, 30, 20, 102, 32, 18, 103, 34, 19, 104, 35, 20, 104, 37, 19, 73, 14, 17, 63, 15, 16, 62, 17, 17, 62, 22, 21, 63, 27, 26, 55, 23, 22, 48, 24, 22, 52, 34, 32, 62, 47, 47, 59, 46, 45, 44, 28, 26, 75, 22, 17, 69, 22, 19, 20, 15, 16, 12, 9, 17, 26, 19, 24, 27, 20, 23, 17, 12, 19, 26, 21, 27, 43, 31, 31, 26, 18, 22, 24, 17, 22, 43, 30, 33, 81, 33, 31, 99, 28, 20, 100, 27, 20, 99, 27, 20, 98, 28, 18, 100, 31, 16, 101, 34, 18, 103, 36, 20, 102, 37, 19, 32, 14, 16, 28, 15, 15, 38, 16, 18, 38, 26, 27, 39, 35, 35, 35, 29, 30, 36, 27, 29, 41, 37, 40, 49, 47, 52, 37, 33, 37, 32, 22, 21, 71, 21, 18, 76, 23, 18, 43, 21, 17, 37, 19, 18, 48, 25, 21, 54, 23, 20, 52, 20, 22, 58, 24, 28, 65, 25, 24, 65, 24, 24, 67, 25, 24, 72, 28, 24, 88, 27, 21, 95, 25, 17, 96, 26, 17, 97, 28, 19, 97, 31, 20, 98, 33, 17, 101, 34, 18, 103, 36, 20, 102, 37, 19, 12, 11, 14, 17, 14, 14, 40, 17, 18, 30, 21, 22, 32, 29, 29, 32, 29, 26, 27, 24, 24, 25, 23, 26, 29, 27, 30, 30, 27, 30, 35, 27, 27, 69, 23, 18, 78, 24, 17, 70, 28, 17, 72, 26, 18, 78, 24, 19, 82, 24, 21, 87, 30, 30, 94, 42, 45, 104, 54, 53, 110, 63, 61, 116, 69, 68, 115, 67, 65, 107, 56, 51, 111, 49, 44, 106, 39, 31, 97, 30, 19, 93, 27, 14, 97, 33, 20, 103, 36, 21, 105, 37, 21, 103, 37, 19, 10, 8, 12, 15, 15, 15, 39, 23, 20, 18, 14, 14, 25, 20, 19, 37, 33, 27, 21, 21, 18, 11, 10, 13, 17, 15, 16, 28, 27, 28, 38, 32, 32, 66, 26, 17, 78, 27, 17, 71, 23, 16, 77, 23, 20, 89, 33, 35, 103, 57, 59, 114, 83, 86, 124, 104, 110, 128, 117, 123, 143, 135, 140, 161, 154, 164, 180, 173, 186, 201, 190, 201, 181, 167, 174, 154, 133, 136, 131, 89, 90, 107, 50, 38, 102, 32, 16, 103, 34, 21, 104, 40, 22, 105, 40, 20, 9, 8, 11, 12, 11, 11, 39, 19, 18, 18, 15, 15, 22, 17, 15, 25, 21, 18, 17, 16, 13, 14, 13, 13, 18, 16, 16, 20, 18, 20, 28, 21, 25, 64, 23, 18, 72, 20, 14, 81, 25, 25, 87, 37, 39, 76, 40, 42, 56, 38, 42, 39, 38, 41, 34, 33, 37, 26, 28, 30, 33, 38, 38, 37, 39, 43, 104, 109, 118, 168, 163, 172, 103, 86, 92, 108, 103, 103, 114, 106, 105, 113, 89, 91, 109, 67, 60, 103, 39, 26, 104, 38, 20, 106, 42, 21, 9, 8, 11, 14, 8, 10, 55, 20, 24, 23, 16, 16, 21, 17, 16, 27, 21, 19, 21, 18, 16, 20, 19, 18, 18, 17, 18, 17, 15, 18, 23, 14, 20, 58, 18, 20, 83, 25, 27, 87, 36, 37, 64, 29, 31, 47, 25, 27, 35, 24, 27, 37, 30, 34, 62, 55, 59, 16, 17, 19, 14, 11, 14, 15, 12, 18, 120, 121, 129, 100, 78, 79, 64, 31, 32, 106, 96, 91, 76, 59, 53, 52, 30, 28, 86, 65, 65, 110, 62, 50, 104, 37, 20, 104, 41, 22, 9, 9, 12, 16, 8, 11, 57, 20, 25, 25, 16, 15, 21, 17, 17, 32, 25, 24, 27, 22, 21, 16, 15, 17, 14, 14, 16, 17, 15, 19, 34, 28, 33, 92, 55, 62, 95, 42, 46, 65, 34, 35, 52, 27, 29, 48, 22, 26, 44, 20, 23, 50, 26, 29, 65, 45, 48, 23, 20, 23, 24, 20, 25, 46, 47, 54, 136, 136, 143, 80, 64, 66, 112, 94, 99, 106, 97, 92, 56, 34, 27, 50, 20, 13, 54, 33, 36, 122, 93, 90, 102, 42, 25, 100, 38, 22, 9, 8, 11, 16, 8, 13, 44, 20, 23, 30, 19, 21, 30, 22, 23, 32, 24, 24, 24, 19, 21, 19, 18, 22, 28, 28, 30, 11, 10, 13, 76, 72, 75, 137, 107, 112, 57, 27, 29, 53, 43, 42, 44, 26, 27, 41, 22, 22, 46, 24, 23, 47, 29, 32, 56, 48, 51, 69, 79, 79, 50, 61, 63, 90, 95, 102, 114, 111, 116, 109, 110, 121, 202, 202, 215, 146, 137, 139, 47, 31, 28, 53, 34, 31, 71, 58, 64, 155, 143, 150, 111, 60, 47, 91, 31, 16, 8, 8, 11, 18, 12, 17, 34, 23, 25, 35, 24, 27, 37, 26, 27, 36, 25, 29, 24, 17, 23, 17, 15, 21, 37, 37, 40, 36, 35, 40, 86, 77, 85, 107, 91, 97, 78, 64, 69, 79, 72, 78, 73, 67, 74, 73, 67, 73, 71, 66, 69, 66, 67, 73, 68, 77, 81, 78, 91, 93, 65, 75, 80, 132, 134, 143, 106, 102, 109, 103, 107, 120, 156, 161, 174, 156, 153, 163, 149, 143, 149, 163, 159, 164, 182, 179, 188, 208, 205, 214, 153, 122, 118, 92, 36, 24, 9, 9, 11, 15, 13, 15, 29, 22, 24, 31, 22, 25, 30, 22, 24, 35, 27, 32, 50, 43, 51, 80, 74, 82, 113, 106, 115, 142, 135, 145, 166, 158, 170, 177, 167, 180, 183, 169, 184, 184, 170, 186, 182, 170, 186, 179, 168, 183, 173, 166, 178, 169, 164, 176, 151, 151, 161, 147, 148, 157, 148, 150, 159, 191, 193, 202, 181, 182, 192, 145, 146, 158, 175, 176, 186, 216, 215, 223, 223, 222, 230, 215, 216, 223, 203, 202, 211, 191, 188, 199, 170, 159, 167, 104, 57, 50, 10, 7, 10, 15, 12, 14, 25, 19, 21, 25, 19, 23, 55, 51, 55, 114, 107, 114, 162, 148, 160, 191, 175, 189, 207, 193, 208, 213, 201, 215, 215, 204, 217, 215, 205, 218, 218, 208, 223, 218, 209, 224, 218, 212, 226, 221, 215, 229, 223, 219, 231, 224, 221, 232, 225, 224, 235, 227, 227, 237, 228, 230, 239, 225, 228, 237, 226, 227, 237, 191, 190, 203, 169, 170, 181, 193, 195, 204, 187, 188, 198, 180, 180, 190, 171, 168, 179, 157, 155, 166, 169, 169, 183, 124, 94, 91, 16, 9, 13, 18, 15, 16, 30, 22, 25, 92, 82, 90, 164, 155, 164, 196, 187, 199, 207, 198, 212, 207, 202, 215, 204, 203, 216, 207, 206, 220, 208, 208, 224, 209, 209, 225, 210, 213, 224, 211, 215, 226, 211, 216, 227, 213, 219, 229, 214, 219, 228, 214, 219, 228, 218, 220, 229, 218, 218, 228, 211, 213, 223, 205, 208, 218, 190, 191, 202, 172, 171, 183, 147, 148, 160, 157, 161, 173, 165, 168, 180, 162, 161, 174, 149, 148, 161, 146, 149, 159, 154, 155, 161, 94, 78, 76, 19, 11, 14, 24, 18, 20, 103, 91, 100, 177, 171, 183, 188, 189, 200, 194, 196, 207, 198, 200, 212, 201, 204, 216, 205, 208, 219, 208, 210, 223, 206, 209, 224, 209, 212, 227, 212, 215, 228, 215, 218, 231, 216, 218, 231, 219, 220, 233, 219, 221, 233, 218, 220, 231, 218, 219, 227, 218, 218, 228, 208, 208, 221, 179, 179, 191, 160, 160, 172, 154, 154, 166, 152, 152, 165, 150, 153, 167, 153, 154, 168, 149, 149, 162, 142, 141, 154, 142, 143, 157, 117, 111, 114, 44, 32, 31, 19, 10, 12, 62, 52, 56, 161, 157, 168, 175, 178, 191, 182, 186, 197, 194, 197, 209, 200, 202, 214, 204, 205, 217, 206, 208, 220, 210, 212, 224, 215, 217, 229, 214, 216, 229, 213, 215, 229, 208, 209, 224, 202, 204, 214, 198, 200, 210, 201, 203, 214, 206, 208, 220, 220, 221, 231, 218, 218, 228, 202, 202, 212, 187, 187, 197, 156, 156, 167, 146, 145, 157, 146, 147, 160, 144, 146, 161, 143, 145, 159, 142, 142, 154, 135, 135, 148, 138, 138, 150, 94, 91, 97, 52, 43, 46, 27, 17, 20, 105, 99, 104, 165, 170, 180, 155, 161, 173, 167, 170, 181, 188, 189, 201, 192, 194, 206, 198, 200, 212, 205, 207, 219, 214, 217, 228, 204, 207, 216, 177, 180, 190, 126, 129, 137, 121, 124, 131, 147, 151, 156, 112, 115, 122, 149, 151, 162, 207, 209, 221, 216, 216, 229, 168, 168, 177, 106, 106, 112, 144, 145, 151, 157, 157, 167, 138, 138, 150, 140, 141, 154, 138, 140, 155, 139, 141, 155, 138, 138, 151, 139, 140, 153, 147, 147, 154, 88, 90, 98, 86, 81, 89, 36, 26, 30, 88, 86, 91, 112, 113, 120, 122, 122, 131, 144, 145, 153, 170, 171, 178, 177, 179, 191, 185, 186, 199, 189, 189, 201, 150, 151, 158, 75, 78, 84, 103, 107, 116, 86, 94, 103, 93, 102, 102, 164, 172, 170, 134, 140, 146, 162, 164, 181, 210, 212, 227, 172, 172, 182, 67, 67, 73, 13, 14, 16, 53, 54, 61, 138, 137, 151, 139, 138, 153, 138, 138, 151, 137, 139, 153, 138, 143, 159, 148, 151, 166, 161, 162, 173, 137, 135, 140, 71, 72, 76, 64, 59, 65, 38, 27, 31, 41, 39, 44, 26, 25, 31, 46, 43, 47, 69, 66, 70, 96, 96, 97, 133, 133, 136, 160, 160, 168, 130, 130, 139, 59, 61, 66, 41, 45, 47, 125, 130, 128, 142, 150, 148, 98, 106, 105, 139, 145, 143, 140, 144, 155, 175, 176, 195, 185, 187, 201, 103, 103, 110, 27, 26, 32, 26, 26, 30, 21, 22, 29, 104, 103, 118, 139, 138, 154, 137, 137, 151, 143, 146, 160, 156, 159, 173, 159, 158, 169, 134, 133, 145, 112, 110, 118, 64, 63, 68, 59, 51, 56, 39, 28, 32, 36, 35, 39, 16, 14, 20, 17, 14, 20, 15, 14, 19, 20, 18, 21, 65, 62, 63, 120, 118, 126, 67, 68, 74, 49, 51, 52, 72, 77, 73, 104, 109, 104, 93, 98, 96, 82, 86, 90, 101, 103, 109, 132, 132, 144, 170, 172, 186, 147, 149, 159, 54, 54, 61, 41, 40, 45, 49, 48, 55, 28, 29, 36, 77, 77, 89, 139, 137, 153, 147, 148, 164, 159, 162, 177, 146, 146, 157, 119, 118, 130, 129, 130, 145, 112, 107, 111, 52, 56, 63, 81, 73, 80, 39, 30, 30, 31, 28, 33, 13, 12, 17, 15, 15, 20, 17, 18, 25, 14, 13, 18, 51, 47, 52, 99, 98, 108, 86, 87, 96, 90, 92, 100, 98, 101, 111, 101, 103, 117, 107, 109, 124, 111, 113, 127, 113, 113, 126, 133, 134, 145, 159, 162, 173, 110, 111, 119, 34, 32, 36, 41, 40, 45, 46, 46, 56, 52, 52, 60, 65, 68, 78, 145, 147, 163, 159, 156, 171, 129, 127, 139, 106, 110, 125, 139, 139, 154, 127, 120, 124, 40, 36, 34, 33, 37, 41, 68, 58, 61, 43, 35, 36, 32, 29, 34, 13, 13, 18, 15, 15, 19, 17, 16, 22, 16, 14, 19, 63, 60, 66, 102, 100, 109, 108, 108, 116, 111, 111, 121, 112, 112, 125, 115, 114, 127, 117, 117, 129, 116, 116, 128, 114, 114, 126, 129, 129, 141, 142, 145, 157, 79, 78, 87, 31, 27, 35, 52, 51, 62, 71, 71, 84, 79, 79, 88, 63, 67, 77, 125, 128, 143, 116, 116, 131, 120, 122, 135, 139, 139, 146, 108, 97, 98, 50, 30, 29, 15, 10, 8, 18, 17, 19, 46, 36, 38, 51, 42, 48, 33, 30, 37, 12, 12, 16, 15, 14, 18, 15, 14, 20, 19, 17, 22, 66, 64, 69, 91, 88, 96, 95, 92, 98, 98, 95, 102, 101, 97, 106, 101, 98, 106, 102, 98, 107, 103, 100, 110, 105, 105, 116, 122, 122, 135, 122, 125, 137, 52, 52, 60, 35, 31, 38, 66, 65, 75, 73, 73, 86, 67, 67, 76, 61, 65, 74, 116, 119, 134, 136, 136, 151, 126, 125, 133, 73, 68, 67, 31, 21, 20, 31, 16, 21, 23, 21, 23, 26, 29, 33, 54, 47, 52, 51, 46, 52, 44, 44, 51, 14, 12, 19, 13, 11, 17, 13, 12, 18, 24, 22, 25, 65, 64, 67, 65, 64, 70, 64, 59, 65, 68, 64, 70, 71, 68, 74, 68, 65, 71, 52, 48, 54, 85, 81, 88, 106, 105, 115, 118, 118, 129, 107, 107, 118, 36, 35, 43, 29, 25, 31, 47, 47, 53, 47, 48, 56, 51, 50, 59, 73, 76, 84, 136, 134, 144, 103, 97, 102, 43, 38, 39, 17, 15, 17, 20, 19, 25, 35, 34, 42, 40, 45, 52, 55, 62, 70, 75, 74, 77, 54, 45, 50, 58, 60, 65, 28, 29, 36, 12, 11, 17, 10, 9, 15, 28, 26, 29, 66, 65, 68, 61, 62, 67, 54, 51, 58, 48, 45, 52, 49, 48, 54, 44, 43, 49, 16, 13, 20, 72, 69, 77, 110, 110, 120, 120, 120, 130, 90, 89, 99, 26, 25, 31, 40, 36, 47, 65, 64, 76, 52, 54, 62, 40, 40, 47, 61, 62, 66, 58, 54, 54, 17, 13, 11, 12, 12, 14, 23, 26, 32, 36, 40, 47, 51, 56, 62, 52, 59, 67, 68, 75, 82, 76, 78, 81, 56, 39, 43, 51, 46, 50, 44, 45, 49, 36, 36, 41, 27, 26, 33, 38, 35, 41, 70, 69, 76, 72, 73, 82, 68, 68, 77, 65, 65, 73, 64, 62, 71, 53, 52, 61, 25, 25, 33, 73, 73, 82, 97, 97, 107, 100, 100, 110, 72, 71, 81, 22, 21, 28, 58, 55, 63, 78, 77, 86, 57, 58, 69, 51, 51, 58, 24, 26, 26, 13, 13, 14, 18, 22, 25, 31, 37, 44, 46, 55, 64, 61, 68, 77, 67, 74, 83, 70, 77, 85, 70, 77, 85, 74, 75, 81, 62, 43, 45, 56, 41, 45, 45, 32, 35, 43, 35, 38, 46, 43, 46, 52, 50, 54, 84, 82, 89, 111, 112, 123, 115, 116, 130, 110, 111, 125, 100, 101, 114, 88, 89, 103, 66, 69, 84, 84, 87, 102, 101, 103, 116, 106, 108, 121, 72, 71, 81, 18, 17, 23, 37, 36, 41, 48, 50, 54, 68, 70, 80, 71, 71, 75, 15, 15, 18, 27, 28, 36, 46, 53, 63, 61, 71, 82, 69, 80, 92, 75, 85, 97, 84, 94, 105, 88, 94, 102, 78, 84, 92, 81, 81, 87, 64, 37, 41, 53, 29, 32, 47, 19, 23, 31, 15, 17, 25, 21, 20, 37, 37, 35, 61, 60, 60, 114, 112, 116, 148, 145, 155, 147, 145, 155, 141, 141, 150, 137, 137, 147, 126, 125, 139, 128, 127, 141, 129, 129, 138, 116, 116, 124, 64, 63, 69, 12, 11, 17, 33, 33, 40, 59, 60, 67, 70, 72, 82, 49, 48, 49, 19, 19, 26, 36, 39, 48, 60, 66, 76, 77, 88, 99, 89, 99, 111, 96, 106, 120, 96, 105, 118, 95, 99, 108, 82, 86, 95, 79, 78, 84, 72, 38, 41, 56, 24, 25, 42, 16, 20, 22, 16, 19, 11, 10, 11, 12, 12, 11, 25, 24, 21, 42, 39, 36, 65, 58, 57, 75, 69, 68, 81, 76, 77, 83, 78, 79, 78, 73, 76, 75, 70, 72, 61, 57, 55, 46, 42, 40, 22, 20, 24, 10, 9, 16, 36, 34, 39, 74, 72, 77, 57, 54, 59, 26, 26, 30, 34, 35, 44, 46, 49, 58, 56, 61, 70, 66, 74, 83, 87, 94, 104, 103, 111, 122, 106, 113, 125, 107, 113, 125, 85, 92, 103, 78, 80, 88, 73, 35, 38, 57, 27, 28, 32, 20, 23, 13, 16, 19, 9, 9, 13, 10, 8, 12, 11, 9, 11, 11, 9, 11, 14, 10, 13, 15, 13, 15, 16, 14, 15, 18, 16, 18, 16, 15, 16, 14, 13, 14, 11, 9, 12, 9, 7, 10, 8, 7, 12, 10, 10, 15, 17, 15, 19, 29, 27, 30, 28, 25, 29, 32, 33, 39, 46, 50, 58, 56, 60, 69, 64, 68, 77, 73, 78, 86, 74, 80, 88, 83, 87, 97, 104, 108, 119, 110, 118, 129, 96, 105, 117, 93, 95, 106, 73, 30, 35, 49, 28, 32, 25, 23, 27, 17, 17, 21, 12, 12, 14, 12, 9, 12, 12, 8, 12, 9, 9, 12, 10, 9, 13, 9, 9, 12, 9, 9, 11, 9, 9, 11, 8, 9, 10, 9, 8, 11, 9, 9, 14, 9, 8, 14, 8, 8, 12, 9, 9, 12, 12, 13, 17, 19, 19, 23, 31, 33, 38, 41, 43, 50, 50, 54, 62, 58, 64, 72, 70, 75, 83, 71, 76, 84, 75, 81, 89, 92, 93, 103, 88, 89, 99, 91, 95, 105, 101, 105, 114, 105, 103, 112], \"height\": 32, \"channels\": 3, \"width\": 32, \"type\": \"image\", \"id\": 4803037776}], \"selected_variable\": {\"name\": [\"<SArray>\"], \"dtype\": \"Image\", \"view_component\": \"Images\", \"view_file\": \"sarray\", \"descriptives\": {\"rows\": 5}, \"type\": \"SArray\", \"view_components\": [\"Images\"]}}, e);\n",
       "                });\n",
       "            })();\n",
       "        "
      ]
     },
     "metadata": {},
     "output_type": "display_data"
    }
   ],
   "source": [
    "get_result(1)"
   ]
  },
  {
   "cell_type": "code",
   "execution_count": 86,
   "metadata": {
    "collapsed": false
   },
   "outputs": [
    {
     "data": {
      "text/html": [
       "<pre>Starting pairwise querying.</pre>"
      ],
      "text/plain": [
       "Starting pairwise querying."
      ]
     },
     "metadata": {},
     "output_type": "display_data"
    },
    {
     "data": {
      "text/html": [
       "<pre>+--------------+---------+-------------+--------------+</pre>"
      ],
      "text/plain": [
       "+--------------+---------+-------------+--------------+"
      ]
     },
     "metadata": {},
     "output_type": "display_data"
    },
    {
     "data": {
      "text/html": [
       "<pre>| Query points | # Pairs | % Complete. | Elapsed Time |</pre>"
      ],
      "text/plain": [
       "| Query points | # Pairs | % Complete. | Elapsed Time |"
      ]
     },
     "metadata": {},
     "output_type": "display_data"
    },
    {
     "data": {
      "text/html": [
       "<pre>+--------------+---------+-------------+--------------+</pre>"
      ],
      "text/plain": [
       "+--------------+---------+-------------+--------------+"
      ]
     },
     "metadata": {},
     "output_type": "display_data"
    },
    {
     "data": {
      "text/html": [
       "<pre>| 0            | 1       | 0.0498753   | 16.152ms     |</pre>"
      ],
      "text/plain": [
       "| 0            | 1       | 0.0498753   | 16.152ms     |"
      ]
     },
     "metadata": {},
     "output_type": "display_data"
    },
    {
     "data": {
      "text/html": [
       "<pre>| Done         |         | 100         | 274.704ms    |</pre>"
      ],
      "text/plain": [
       "| Done         |         | 100         | 274.704ms    |"
      ]
     },
     "metadata": {},
     "output_type": "display_data"
    },
    {
     "data": {
      "text/html": [
       "<pre>+--------------+---------+-------------+--------------+</pre>"
      ],
      "text/plain": [
       "+--------------+---------+-------------+--------------+"
      ]
     },
     "metadata": {},
     "output_type": "display_data"
    },
    {
     "data": {
      "application/javascript": [
       "$(\"head\").append($(\"<link/>\").attr({\n",
       "  rel:  \"stylesheet\",\n",
       "  type: \"text/css\",\n",
       "  href: \"//cdnjs.cloudflare.com/ajax/libs/font-awesome/4.1.0/css/font-awesome.min.css\"\n",
       "}));\n",
       "$(\"head\").append($(\"<link/>\").attr({\n",
       "  rel:  \"stylesheet\",\n",
       "  type: \"text/css\",\n",
       "  href: \"https://static.turi.com/products/graphlab-create/2.1/canvas/css/canvas.css\"\n",
       "}));\n",
       "\n",
       "            (function(){\n",
       "\n",
       "                var e = null;\n",
       "                if (typeof element == 'undefined') {\n",
       "                    var scripts = document.getElementsByTagName('script');\n",
       "                    var thisScriptTag = scripts[scripts.length-1];\n",
       "                    var parentDiv = thisScriptTag.parentNode;\n",
       "                    e = document.createElement('div');\n",
       "                    parentDiv.appendChild(e);\n",
       "                } else {\n",
       "                    e = element[0];\n",
       "                }\n",
       "\n",
       "                if (typeof requirejs !== 'undefined') {\n",
       "                    // disable load timeout; ipython_app.js is large and can take a while to load.\n",
       "                    requirejs.config({waitSeconds: 0});\n",
       "                }\n",
       "\n",
       "                require(['https://static.turi.com/products/graphlab-create/2.1/canvas/js/ipython_app.js'], function(IPythonApp){\n",
       "                    var app = new IPythonApp();\n",
       "                    app.attachView('sarray','Images', {\"ipython\": true, \"rows\": [{\"format\": \"raw\", \"value\": [219, 218, 223, 217, 216, 221, 217, 216, 221, 216, 216, 220, 215, 214, 219, 217, 216, 221, 217, 216, 221, 215, 214, 219, 214, 214, 218, 218, 217, 222, 220, 219, 224, 219, 218, 223, 217, 221, 224, 220, 224, 226, 219, 223, 226, 217, 221, 224, 214, 218, 221, 177, 181, 184, 129, 133, 136, 107, 110, 113, 139, 143, 146, 206, 210, 213, 156, 160, 163, 81, 85, 88, 100, 104, 107, 109, 113, 116, 61, 64, 67, 59, 62, 65, 65, 69, 72, 64, 68, 71, 66, 70, 73, 51, 55, 58, 222, 221, 227, 219, 218, 223, 219, 218, 223, 218, 217, 222, 217, 216, 221, 219, 218, 223, 220, 219, 224, 220, 218, 224, 220, 219, 224, 214, 213, 218, 205, 204, 209, 191, 190, 195, 195, 198, 201, 195, 199, 202, 192, 196, 199, 191, 195, 198, 177, 181, 184, 122, 126, 129, 95, 99, 102, 93, 97, 100, 110, 115, 118, 142, 146, 149, 83, 87, 90, 56, 60, 63, 61, 65, 68, 56, 60, 63, 51, 55, 58, 52, 56, 59, 56, 60, 63, 56, 60, 63, 54, 58, 61, 47, 51, 54, 204, 205, 209, 196, 196, 200, 195, 195, 199, 190, 190, 195, 190, 191, 195, 199, 199, 203, 208, 208, 212, 202, 202, 207, 180, 180, 185, 153, 153, 157, 126, 126, 131, 104, 105, 109, 112, 115, 118, 105, 109, 112, 104, 108, 111, 99, 103, 106, 85, 88, 91, 68, 70, 74, 61, 63, 67, 58, 61, 64, 62, 65, 69, 64, 67, 70, 40, 43, 47, 45, 47, 51, 49, 52, 56, 43, 45, 49, 43, 46, 49, 49, 52, 55, 50, 52, 56, 47, 50, 54, 48, 51, 54, 41, 43, 47, 149, 152, 156, 146, 149, 152, 143, 146, 149, 127, 130, 134, 124, 128, 131, 132, 135, 138, 145, 149, 152, 134, 137, 141, 104, 107, 110, 85, 88, 91, 80, 83, 87, 83, 87, 90, 79, 83, 86, 74, 78, 81, 79, 83, 86, 66, 70, 73, 48, 49, 53, 48, 47, 52, 48, 48, 52, 42, 42, 47, 44, 44, 49, 47, 47, 51, 38, 38, 42, 40, 40, 45, 43, 43, 48, 41, 40, 45, 36, 36, 41, 41, 41, 46, 44, 44, 49, 45, 44, 49, 44, 44, 49, 37, 37, 42, 107, 111, 115, 101, 105, 108, 99, 103, 106, 86, 90, 93, 87, 91, 94, 88, 92, 95, 88, 92, 95, 89, 93, 96, 94, 98, 101, 97, 101, 104, 93, 97, 100, 87, 91, 94, 86, 90, 93, 70, 74, 77, 69, 73, 76, 48, 51, 54, 38, 38, 43, 40, 39, 44, 41, 40, 45, 35, 34, 39, 34, 33, 38, 40, 39, 44, 37, 36, 41, 36, 35, 40, 39, 38, 43, 37, 36, 41, 33, 32, 37, 39, 38, 43, 43, 42, 47, 39, 38, 43, 42, 41, 46, 35, 34, 39, 144, 148, 151, 136, 140, 143, 129, 133, 136, 129, 133, 136, 147, 151, 154, 136, 140, 143, 111, 115, 118, 125, 129, 132, 132, 136, 139, 142, 146, 149, 133, 137, 140, 108, 112, 115, 109, 113, 116, 88, 92, 95, 80, 84, 87, 48, 51, 54, 43, 43, 48, 41, 39, 44, 35, 34, 39, 32, 31, 36, 31, 30, 35, 31, 30, 35, 35, 34, 39, 36, 35, 40, 36, 35, 40, 33, 32, 37, 29, 28, 33, 35, 34, 39, 45, 44, 49, 40, 39, 44, 36, 35, 40, 32, 31, 36, 211, 213, 217, 205, 207, 211, 210, 211, 215, 214, 216, 220, 230, 231, 235, 185, 186, 190, 107, 108, 112, 131, 134, 137, 138, 142, 145, 120, 124, 127, 108, 112, 115, 95, 99, 102, 94, 98, 101, 89, 93, 96, 90, 94, 97, 83, 87, 90, 86, 88, 91, 65, 66, 70, 36, 37, 41, 29, 31, 35, 27, 27, 32, 23, 22, 27, 30, 29, 34, 33, 32, 37, 33, 32, 37, 30, 29, 34, 23, 22, 27, 29, 28, 33, 47, 46, 51, 39, 38, 43, 26, 25, 30, 25, 24, 29, 218, 218, 223, 210, 209, 214, 227, 226, 231, 222, 222, 226, 225, 225, 229, 211, 211, 216, 133, 132, 137, 94, 95, 99, 92, 96, 99, 67, 71, 74, 68, 72, 75, 70, 74, 77, 69, 73, 76, 70, 74, 77, 74, 78, 81, 79, 83, 86, 84, 88, 91, 78, 81, 84, 52, 56, 59, 28, 31, 35, 25, 26, 30, 23, 22, 27, 27, 26, 31, 31, 30, 35, 30, 29, 34, 30, 29, 34, 25, 24, 29, 27, 26, 31, 43, 42, 47, 32, 31, 36, 25, 24, 29, 24, 23, 28, 211, 210, 215, 201, 200, 205, 211, 210, 215, 217, 216, 221, 219, 218, 223, 218, 217, 222, 132, 131, 136, 79, 80, 84, 73, 77, 80, 58, 62, 65, 66, 70, 73, 65, 69, 72, 65, 69, 72, 65, 69, 72, 67, 71, 74, 64, 68, 71, 65, 69, 72, 71, 74, 78, 66, 70, 73, 39, 43, 46, 25, 26, 30, 23, 22, 27, 32, 31, 36, 37, 36, 41, 33, 32, 37, 28, 27, 32, 23, 22, 27, 24, 22, 27, 38, 37, 42, 27, 25, 30, 26, 25, 30, 25, 23, 29, 213, 212, 217, 204, 203, 208, 203, 202, 207, 205, 204, 209, 217, 216, 221, 198, 198, 203, 96, 95, 100, 74, 75, 79, 66, 70, 73, 55, 59, 62, 66, 70, 73, 66, 70, 73, 65, 69, 72, 64, 68, 71, 66, 70, 73, 64, 68, 71, 65, 69, 72, 68, 72, 75, 71, 75, 78, 58, 63, 66, 33, 34, 38, 31, 30, 35, 41, 40, 45, 32, 31, 36, 35, 34, 39, 34, 33, 38, 26, 25, 30, 36, 35, 40, 44, 43, 48, 44, 43, 48, 53, 53, 58, 41, 41, 45, 219, 218, 223, 211, 210, 215, 204, 203, 208, 202, 203, 207, 202, 205, 208, 173, 176, 179, 83, 86, 90, 54, 57, 60, 67, 71, 74, 53, 57, 60, 64, 68, 71, 62, 66, 69, 62, 66, 69, 63, 67, 70, 63, 67, 70, 61, 65, 68, 62, 66, 69, 65, 69, 72, 68, 72, 77, 67, 71, 77, 51, 54, 58, 73, 76, 79, 86, 87, 91, 51, 50, 55, 52, 53, 57, 53, 56, 60, 48, 51, 54, 61, 64, 67, 57, 60, 63, 74, 76, 80, 90, 93, 96, 68, 70, 74, 221, 220, 225, 214, 213, 218, 209, 208, 213, 206, 208, 212, 178, 183, 186, 143, 147, 150, 110, 114, 117, 63, 67, 70, 55, 59, 62, 50, 54, 57, 57, 61, 64, 63, 67, 70, 63, 67, 70, 62, 66, 69, 63, 67, 70, 64, 68, 71, 67, 71, 74, 72, 76, 79, 73, 76, 82, 74, 77, 84, 69, 72, 77, 140, 144, 147, 200, 202, 206, 177, 176, 181, 158, 159, 163, 123, 128, 131, 105, 109, 112, 107, 111, 114, 83, 87, 90, 85, 89, 92, 105, 109, 112, 79, 83, 86, 222, 221, 226, 218, 217, 222, 216, 215, 220, 214, 216, 220, 165, 169, 172, 130, 134, 137, 139, 143, 146, 94, 98, 101, 65, 69, 72, 63, 67, 70, 66, 70, 73, 76, 80, 83, 82, 86, 89, 90, 94, 97, 96, 100, 103, 99, 103, 106, 104, 108, 111, 109, 113, 116, 111, 114, 120, 113, 116, 123, 129, 133, 137, 163, 168, 170, 195, 197, 201, 211, 210, 215, 213, 214, 218, 205, 209, 212, 201, 205, 208, 192, 196, 199, 171, 175, 178, 158, 162, 165, 150, 154, 157, 124, 128, 131, 223, 222, 227, 220, 219, 224, 221, 220, 225, 217, 219, 223, 142, 146, 149, 134, 138, 142, 147, 150, 154, 123, 127, 130, 96, 100, 103, 86, 90, 93, 66, 70, 73, 66, 70, 73, 71, 75, 78, 79, 83, 86, 89, 93, 96, 94, 98, 101, 95, 99, 102, 97, 101, 104, 104, 108, 113, 114, 117, 124, 123, 127, 131, 133, 137, 140, 151, 153, 157, 174, 174, 179, 196, 198, 202, 205, 209, 212, 206, 210, 213, 203, 206, 209, 203, 206, 209, 205, 207, 211, 201, 204, 208, 192, 195, 198, 223, 222, 227, 219, 218, 223, 221, 220, 225, 212, 214, 218, 115, 119, 122, 135, 139, 144, 152, 155, 162, 138, 141, 146, 121, 125, 128, 98, 102, 105, 71, 75, 78, 70, 74, 77, 72, 76, 79, 55, 59, 62, 58, 62, 65, 59, 63, 66, 58, 62, 65, 58, 62, 65, 59, 63, 66, 77, 81, 84, 84, 88, 91, 84, 88, 91, 102, 106, 109, 116, 119, 122, 141, 145, 148, 198, 202, 205, 206, 209, 213, 203, 203, 207, 200, 200, 205, 201, 200, 205, 202, 202, 207, 204, 204, 209, 222, 221, 226, 218, 217, 222, 220, 219, 224, 212, 214, 218, 116, 120, 123, 121, 124, 129, 139, 142, 149, 136, 140, 145, 123, 127, 130, 83, 87, 90, 63, 67, 70, 58, 62, 65, 92, 96, 99, 66, 70, 73, 44, 48, 51, 35, 39, 42, 36, 40, 43, 39, 43, 46, 38, 42, 45, 59, 63, 66, 64, 68, 71, 54, 58, 61, 63, 67, 70, 78, 82, 85, 85, 89, 92, 161, 165, 168, 213, 215, 219, 210, 209, 214, 208, 207, 212, 208, 207, 212, 205, 204, 209, 204, 203, 208, 219, 218, 223, 215, 214, 219, 217, 216, 221, 210, 212, 216, 118, 122, 125, 103, 107, 112, 116, 119, 126, 117, 121, 126, 103, 107, 110, 60, 64, 67, 63, 67, 70, 91, 95, 98, 172, 176, 179, 102, 106, 109, 82, 86, 89, 61, 65, 68, 38, 42, 45, 59, 63, 66, 67, 71, 74, 73, 77, 80, 67, 71, 74, 61, 65, 68, 55, 59, 62, 71, 75, 78, 95, 99, 102, 136, 141, 144, 188, 190, 194, 198, 197, 202, 205, 204, 209, 205, 204, 209, 209, 208, 213, 208, 208, 213, 207, 209, 213, 205, 207, 211, 209, 211, 215, 203, 206, 210, 116, 120, 123, 100, 104, 108, 109, 113, 118, 101, 105, 109, 85, 89, 92, 58, 62, 65, 62, 66, 69, 125, 129, 132, 235, 239, 242, 160, 164, 167, 148, 152, 155, 119, 123, 126, 54, 58, 61, 90, 94, 97, 111, 115, 118, 107, 111, 114, 85, 88, 91, 84, 85, 89, 63, 66, 69, 85, 89, 92, 141, 145, 148, 150, 154, 157, 160, 163, 167, 171, 172, 178, 174, 175, 181, 176, 177, 183, 189, 190, 195, 199, 200, 204, 189, 193, 196, 188, 192, 195, 193, 196, 199, 190, 194, 197, 112, 116, 119, 100, 104, 107, 115, 119, 122, 93, 97, 101, 81, 85, 88, 66, 70, 73, 64, 68, 71, 109, 113, 116, 204, 208, 210, 147, 151, 154, 152, 156, 159, 140, 144, 147, 59, 63, 66, 93, 97, 100, 120, 124, 127, 116, 121, 124, 99, 100, 104, 96, 95, 100, 65, 67, 71, 90, 94, 97, 145, 149, 152, 126, 130, 133, 150, 154, 158, 159, 161, 168, 156, 159, 166, 156, 159, 166, 161, 164, 170, 168, 172, 176, 181, 185, 188, 179, 183, 186, 180, 184, 187, 176, 180, 183, 104, 108, 111, 68, 72, 75, 109, 113, 116, 98, 102, 105, 88, 92, 95, 72, 76, 79, 65, 69, 72, 82, 86, 89, 107, 111, 114, 76, 80, 83, 88, 92, 95, 98, 102, 105, 53, 57, 60, 74, 78, 81, 95, 99, 102, 94, 98, 101, 88, 89, 93, 86, 84, 89, 65, 66, 70, 82, 86, 89, 106, 110, 113, 100, 104, 107, 144, 148, 152, 159, 162, 169, 155, 158, 165, 154, 157, 164, 153, 156, 162, 153, 157, 161, 172, 176, 179, 173, 177, 180, 171, 175, 178, 163, 167, 170, 88, 92, 95, 46, 50, 53, 79, 83, 86, 101, 105, 108, 103, 107, 110, 81, 85, 88, 61, 65, 68, 75, 79, 82, 65, 69, 72, 57, 61, 64, 59, 63, 66, 61, 65, 68, 57, 61, 64, 64, 68, 71, 77, 81, 84, 81, 85, 88, 105, 106, 111, 98, 96, 102, 80, 82, 86, 89, 93, 96, 92, 96, 99, 88, 92, 95, 137, 141, 145, 158, 161, 168, 154, 157, 164, 151, 154, 162, 149, 152, 159, 151, 155, 158, 160, 164, 167, 164, 168, 171, 167, 171, 174, 158, 162, 165, 105, 109, 112, 64, 67, 72, 71, 74, 80, 81, 85, 91, 103, 106, 112, 79, 83, 88, 53, 57, 60, 69, 73, 76, 60, 64, 67, 58, 62, 65, 59, 63, 66, 61, 65, 68, 63, 67, 70, 66, 70, 73, 74, 80, 84, 88, 95, 100, 114, 119, 125, 117, 122, 128, 107, 111, 115, 93, 97, 100, 72, 76, 79, 67, 71, 74, 133, 137, 141, 154, 157, 164, 152, 155, 162, 153, 156, 163, 149, 152, 159, 149, 153, 159, 156, 160, 163, 156, 160, 163, 166, 170, 173, 160, 164, 167, 144, 148, 151, 123, 127, 132, 105, 108, 115, 84, 87, 94, 101, 104, 111, 79, 82, 88, 52, 56, 59, 66, 70, 73, 57, 61, 64, 51, 55, 58, 45, 49, 52, 47, 51, 54, 52, 56, 59, 63, 67, 70, 77, 82, 86, 89, 94, 98, 104, 109, 113, 109, 114, 119, 94, 99, 102, 69, 73, 76, 55, 59, 62, 55, 59, 62, 139, 142, 146, 158, 161, 168, 152, 155, 162, 152, 155, 162, 148, 151, 158, 147, 150, 157, 168, 172, 175, 156, 160, 163, 163, 167, 170, 164, 168, 171, 152, 156, 159, 142, 145, 151, 129, 132, 139, 103, 106, 113, 96, 99, 106, 75, 78, 84, 61, 65, 68, 73, 77, 80, 64, 68, 71, 74, 78, 81, 31, 35, 38, 13, 17, 20, 25, 29, 32, 41, 45, 48, 42, 44, 46, 46, 48, 49, 54, 55, 56, 50, 51, 52, 40, 43, 45, 39, 43, 46, 42, 46, 49, 63, 67, 70, 155, 159, 163, 163, 166, 173, 156, 159, 166, 154, 157, 164, 150, 153, 160, 147, 150, 157, 184, 188, 191, 167, 170, 173, 164, 168, 171, 165, 169, 172, 158, 162, 165, 147, 151, 156, 140, 143, 149, 122, 125, 131, 93, 96, 102, 66, 70, 75, 55, 59, 62, 70, 74, 77, 58, 62, 65, 67, 71, 74, 38, 42, 45, 19, 23, 26, 28, 32, 35, 34, 37, 40, 21, 22, 23, 21, 22, 22, 30, 30, 31, 30, 30, 30, 36, 38, 40, 40, 44, 47, 41, 45, 48, 108, 112, 114, 169, 173, 177, 166, 169, 175, 162, 165, 171, 159, 162, 168, 155, 158, 164, 151, 154, 160, 202, 202, 206, 189, 192, 195, 177, 181, 184, 172, 176, 179, 166, 170, 173, 155, 159, 163, 146, 150, 154, 134, 138, 142, 100, 104, 108, 66, 70, 73, 56, 60, 63, 61, 65, 68, 56, 60, 63, 53, 57, 60, 46, 50, 53, 40, 44, 47, 43, 47, 50, 51, 55, 58, 50, 54, 56, 52, 55, 57, 65, 68, 70, 65, 69, 71, 58, 61, 64, 57, 61, 64, 88, 92, 95, 171, 175, 178, 183, 187, 191, 172, 176, 180, 168, 172, 176, 164, 168, 172, 160, 164, 168, 158, 162, 166, 213, 212, 217, 207, 210, 213, 197, 201, 204, 188, 192, 195, 185, 189, 192, 175, 179, 182, 165, 169, 172, 156, 160, 163, 120, 124, 127, 77, 81, 84, 69, 73, 76, 67, 71, 74, 66, 70, 73, 65, 69, 72, 66, 70, 73, 74, 78, 81, 87, 91, 94, 97, 101, 104, 102, 106, 109, 105, 109, 112, 106, 110, 113, 99, 103, 106, 84, 88, 91, 93, 97, 100, 142, 146, 149, 196, 200, 203, 196, 200, 203, 189, 193, 196, 182, 186, 189, 174, 178, 181, 167, 171, 174, 164, 168, 171, 215, 214, 219, 211, 213, 217, 208, 212, 215, 200, 204, 207, 201, 205, 208, 197, 201, 204, 193, 197, 200, 189, 193, 196, 169, 173, 176, 139, 143, 146, 131, 135, 138, 128, 132, 135, 120, 124, 127, 116, 120, 123, 118, 122, 125, 132, 136, 139, 145, 149, 152, 148, 152, 155, 150, 154, 157, 154, 158, 161, 157, 161, 164, 155, 159, 162, 152, 156, 159, 162, 166, 169, 182, 186, 189, 195, 199, 202, 198, 202, 205, 200, 203, 207, 197, 201, 204, 191, 195, 198, 180, 184, 187, 171, 175, 178, 215, 214, 219, 212, 213, 217, 211, 213, 217, 208, 210, 214, 205, 207, 210, 206, 207, 211, 205, 207, 211, 206, 207, 211, 204, 206, 209, 199, 201, 204, 195, 197, 201, 190, 191, 195, 183, 185, 188, 177, 179, 183, 172, 174, 178, 173, 174, 178, 174, 176, 180, 177, 179, 183, 176, 178, 182, 174, 176, 180, 179, 181, 185, 184, 186, 190, 186, 187, 191, 189, 191, 195, 193, 194, 198, 196, 198, 202, 199, 201, 204, 201, 203, 207, 202, 204, 207, 201, 203, 206, 196, 198, 202, 185, 189, 192, 215, 214, 219, 212, 212, 216, 212, 211, 216, 212, 211, 216, 208, 208, 213, 208, 208, 212, 211, 210, 215, 209, 208, 213, 209, 209, 213, 209, 209, 214, 209, 208, 213, 207, 206, 211, 206, 205, 210, 203, 202, 207, 200, 199, 204, 197, 196, 201, 196, 195, 200, 199, 198, 203, 200, 199, 204, 197, 197, 202, 199, 198, 203, 201, 200, 205, 202, 201, 206, 201, 200, 205, 200, 200, 205, 201, 200, 205, 203, 202, 207, 203, 202, 207, 202, 201, 206, 203, 202, 207, 202, 202, 206, 197, 200, 203, 217, 216, 221, 214, 213, 218, 215, 214, 219, 214, 213, 218, 215, 214, 219, 208, 207, 212, 212, 211, 216, 213, 212, 217, 213, 212, 217, 215, 214, 219, 215, 214, 219, 215, 214, 219, 215, 214, 219, 213, 212, 217, 213, 212, 217, 211, 210, 215, 209, 208, 213, 208, 207, 212, 210, 209, 214, 210, 209, 214, 210, 209, 214, 208, 207, 212, 210, 209, 214, 208, 207, 212, 207, 206, 211, 208, 207, 212, 206, 205, 210, 205, 204, 209, 206, 205, 210, 207, 206, 211, 207, 206, 211, 204, 208, 211, 214, 213, 218, 212, 211, 216, 214, 213, 218, 213, 212, 217, 215, 214, 219, 208, 207, 212, 204, 203, 208, 209, 208, 213, 211, 210, 215, 214, 213, 218, 215, 214, 219, 217, 216, 221, 217, 216, 221, 215, 214, 219, 213, 212, 217, 213, 212, 217, 213, 212, 217, 210, 209, 214, 208, 207, 212, 211, 210, 215, 214, 213, 217, 211, 210, 215, 209, 208, 213, 207, 206, 211, 207, 206, 211, 208, 207, 212, 207, 206, 211, 204, 203, 208, 205, 204, 209, 207, 206, 211, 206, 205, 210, 203, 206, 209], \"height\": 32, \"channels\": 3, \"width\": 32, \"type\": \"image\", \"id\": 4803136080}, {\"format\": \"raw\", \"value\": [216, 225, 236, 224, 233, 243, 229, 238, 249, 229, 243, 249, 230, 246, 250, 233, 245, 251, 237, 244, 252, 238, 244, 250, 237, 240, 242, 234, 230, 229, 231, 218, 223, 226, 208, 223, 216, 207, 221, 198, 207, 218, 186, 210, 221, 191, 220, 235, 177, 207, 230, 185, 173, 195, 238, 231, 235, 248, 251, 252, 246, 248, 253, 246, 249, 253, 246, 249, 253, 245, 248, 252, 243, 247, 250, 243, 247, 249, 247, 250, 250, 252, 253, 250, 253, 252, 249, 253, 253, 252, 253, 253, 253, 252, 252, 252, 175, 168, 179, 177, 173, 183, 192, 191, 199, 208, 212, 220, 223, 230, 237, 235, 244, 251, 237, 248, 254, 239, 251, 255, 240, 254, 254, 240, 253, 253, 242, 251, 252, 242, 244, 247, 238, 236, 237, 237, 225, 231, 230, 219, 227, 215, 215, 224, 204, 209, 224, 203, 179, 198, 236, 229, 235, 249, 253, 255, 248, 251, 255, 249, 251, 255, 248, 250, 254, 246, 248, 252, 243, 246, 250, 245, 249, 252, 249, 252, 252, 254, 255, 253, 255, 255, 251, 255, 255, 255, 255, 255, 255, 254, 254, 254, 191, 202, 212, 177, 183, 193, 172, 174, 184, 170, 168, 175, 177, 151, 165, 230, 224, 232, 225, 221, 226, 220, 218, 222, 234, 234, 238, 240, 238, 246, 241, 245, 252, 242, 255, 255, 244, 255, 255, 245, 254, 253, 247, 251, 251, 244, 243, 245, 237, 233, 238, 227, 214, 223, 238, 235, 241, 249, 251, 255, 247, 249, 253, 249, 250, 254, 253, 253, 255, 247, 251, 255, 241, 248, 251, 244, 249, 251, 248, 252, 253, 253, 255, 254, 254, 255, 253, 255, 255, 255, 255, 255, 255, 254, 254, 254, 210, 225, 235, 198, 217, 228, 187, 210, 222, 191, 207, 212, 187, 155, 168, 228, 216, 223, 209, 196, 205, 192, 176, 186, 194, 183, 190, 205, 195, 200, 217, 206, 211, 224, 214, 218, 237, 238, 240, 236, 242, 242, 236, 248, 246, 241, 254, 252, 246, 253, 254, 247, 251, 253, 247, 252, 253, 247, 251, 253, 250, 254, 254, 224, 224, 226, 217, 216, 218, 234, 241, 241, 241, 251, 248, 242, 249, 244, 249, 252, 250, 254, 254, 254, 254, 253, 255, 255, 255, 255, 255, 255, 255, 254, 254, 254, 201, 212, 220, 187, 202, 211, 194, 212, 221, 205, 223, 227, 197, 169, 180, 227, 217, 220, 210, 206, 218, 200, 204, 222, 194, 210, 222, 195, 213, 220, 201, 208, 215, 187, 175, 184, 225, 208, 217, 222, 217, 221, 213, 214, 215, 221, 219, 222, 228, 234, 238, 227, 237, 241, 229, 239, 243, 233, 243, 247, 233, 243, 248, 208, 215, 222, 185, 190, 196, 203, 215, 221, 216, 233, 236, 226, 240, 241, 240, 247, 248, 251, 251, 252, 255, 254, 254, 255, 255, 255, 255, 255, 255, 254, 254, 254, 190, 208, 220, 160, 173, 178, 155, 170, 176, 166, 180, 189, 181, 158, 178, 181, 182, 193, 162, 177, 190, 137, 152, 178, 119, 151, 181, 112, 148, 179, 126, 158, 188, 152, 168, 194, 191, 190, 208, 180, 186, 199, 173, 185, 195, 180, 190, 200, 198, 207, 214, 218, 229, 235, 219, 234, 242, 213, 232, 242, 199, 224, 244, 187, 213, 241, 155, 180, 210, 142, 172, 206, 155, 186, 217, 176, 202, 225, 199, 223, 236, 218, 229, 233, 252, 251, 252, 255, 255, 255, 255, 255, 255, 254, 254, 254, 160, 184, 213, 97, 115, 129, 53, 72, 84, 62, 88, 100, 131, 145, 163, 136, 169, 188, 102, 144, 165, 80, 113, 146, 72, 120, 158, 73, 114, 154, 97, 129, 167, 119, 147, 176, 124, 150, 171, 121, 144, 162, 137, 156, 173, 191, 206, 221, 224, 235, 242, 231, 245, 252, 213, 234, 248, 197, 224, 243, 177, 212, 239, 145, 178, 213, 90, 119, 160, 115, 152, 195, 146, 186, 226, 145, 186, 214, 174, 214, 230, 183, 208, 218, 236, 242, 248, 255, 255, 255, 255, 255, 255, 254, 254, 254, 166, 198, 234, 124, 153, 180, 101, 122, 146, 83, 111, 132, 95, 133, 155, 107, 154, 180, 92, 140, 175, 74, 124, 162, 90, 139, 172, 126, 158, 186, 116, 141, 163, 110, 138, 157, 111, 141, 161, 128, 153, 169, 188, 204, 215, 231, 240, 246, 228, 244, 252, 210, 233, 249, 190, 218, 245, 169, 203, 238, 146, 190, 226, 109, 147, 186, 77, 107, 150, 131, 173, 214, 151, 202, 236, 151, 196, 221, 184, 225, 242, 188, 220, 231, 213, 232, 238, 254, 255, 255, 254, 254, 254, 254, 254, 254, 183, 218, 250, 158, 196, 229, 109, 137, 174, 89, 113, 156, 85, 127, 171, 88, 130, 175, 64, 99, 142, 82, 118, 154, 138, 170, 200, 135, 158, 181, 102, 116, 136, 111, 123, 144, 126, 142, 160, 180, 198, 208, 227, 244, 250, 231, 248, 254, 206, 232, 248, 189, 222, 244, 168, 206, 236, 131, 172, 219, 108, 159, 203, 78, 112, 157, 83, 116, 161, 136, 189, 223, 157, 210, 239, 157, 203, 227, 182, 218, 236, 197, 227, 239, 198, 221, 231, 251, 254, 255, 254, 253, 252, 253, 253, 250, 179, 210, 247, 174, 208, 244, 151, 176, 216, 115, 143, 196, 99, 155, 210, 93, 143, 196, 102, 134, 175, 153, 178, 208, 183, 202, 231, 166, 188, 211, 141, 153, 175, 136, 134, 157, 165, 170, 186, 200, 213, 222, 205, 225, 231, 200, 226, 240, 180, 210, 237, 171, 208, 234, 153, 198, 227, 105, 155, 202, 70, 119, 162, 61, 82, 126, 93, 127, 169, 138, 193, 223, 159, 203, 230, 173, 214, 233, 191, 221, 235, 211, 236, 246, 188, 209, 219, 237, 245, 250, 245, 248, 249, 241, 244, 243, 175, 218, 252, 173, 210, 239, 157, 130, 177, 145, 126, 180, 96, 137, 179, 85, 126, 163, 148, 179, 211, 172, 201, 228, 167, 192, 217, 160, 183, 206, 96, 111, 135, 80, 90, 114, 108, 121, 140, 119, 136, 150, 115, 135, 150, 130, 152, 174, 143, 167, 196, 149, 178, 208, 136, 173, 206, 93, 137, 177, 51, 83, 121, 58, 78, 117, 95, 122, 160, 104, 134, 165, 80, 104, 128, 158, 182, 201, 192, 219, 235, 197, 223, 238, 175, 198, 213, 208, 225, 237, 212, 222, 229, 214, 221, 227, 171, 205, 239, 167, 202, 235, 157, 166, 207, 138, 129, 169, 48, 58, 86, 87, 105, 131, 128, 148, 176, 147, 165, 190, 137, 139, 162, 105, 109, 132, 61, 78, 101, 66, 78, 103, 94, 103, 120, 140, 153, 167, 167, 183, 201, 170, 189, 212, 147, 171, 201, 125, 150, 185, 109, 132, 172, 83, 104, 147, 55, 77, 122, 63, 91, 132, 59, 80, 114, 59, 69, 97, 53, 68, 92, 123, 149, 175, 163, 194, 222, 174, 205, 230, 191, 216, 236, 202, 216, 229, 155, 161, 169, 143, 144, 151, 151, 182, 222, 149, 182, 224, 144, 183, 225, 123, 153, 188, 60, 80, 110, 107, 122, 151, 122, 139, 164, 102, 116, 135, 102, 83, 104, 97, 72, 95, 89, 95, 114, 130, 132, 159, 160, 172, 192, 168, 185, 207, 155, 177, 202, 135, 160, 190, 126, 154, 188, 117, 143, 182, 94, 115, 158, 72, 90, 137, 77, 97, 144, 81, 103, 140, 56, 76, 105, 91, 114, 148, 117, 148, 185, 145, 177, 210, 159, 187, 216, 156, 179, 202, 135, 151, 170, 117, 127, 145, 113, 119, 134, 113, 117, 126, 108, 134, 165, 84, 105, 135, 102, 128, 162, 107, 138, 173, 103, 128, 157, 96, 114, 135, 60, 77, 98, 43, 62, 84, 79, 84, 104, 132, 126, 146, 154, 167, 185, 163, 188, 210, 140, 167, 196, 114, 141, 172, 115, 140, 174, 127, 151, 188, 117, 140, 179, 82, 105, 145, 60, 83, 125, 76, 99, 144, 79, 97, 137, 67, 86, 118, 105, 131, 161, 145, 176, 212, 135, 163, 199, 97, 117, 143, 83, 99, 121, 61, 73, 91, 33, 43, 60, 61, 74, 92, 136, 149, 168, 159, 172, 191, 34, 45, 63, 27, 32, 45, 36, 49, 66, 107, 127, 158, 92, 110, 138, 55, 67, 83, 47, 58, 77, 89, 96, 121, 137, 150, 169, 159, 185, 201, 151, 176, 201, 115, 142, 174, 102, 127, 162, 117, 140, 176, 122, 145, 180, 107, 129, 162, 67, 87, 124, 49, 71, 112, 76, 100, 144, 84, 111, 157, 79, 105, 149, 105, 134, 171, 108, 136, 165, 84, 104, 126, 55, 65, 85, 34, 41, 59, 35, 41, 58, 40, 44, 60, 41, 46, 60, 34, 43, 56, 123, 136, 153, 163, 179, 202, 46, 56, 75, 49, 61, 82, 57, 69, 89, 88, 99, 122, 48, 59, 81, 46, 55, 74, 85, 94, 113, 139, 152, 173, 159, 182, 206, 136, 161, 192, 112, 132, 168, 107, 126, 162, 117, 141, 171, 125, 147, 176, 143, 162, 188, 93, 110, 137, 44, 64, 99, 51, 76, 118, 69, 97, 141, 67, 92, 135, 67, 86, 123, 68, 83, 110, 40, 53, 70, 32, 39, 52, 33, 37, 53, 43, 49, 65, 51, 57, 73, 62, 68, 84, 54, 60, 75, 29, 36, 50, 120, 135, 155, 163, 181, 205, 69, 82, 107, 72, 90, 118, 82, 97, 124, 78, 88, 105, 29, 37, 51, 49, 56, 74, 76, 82, 103, 129, 143, 166, 133, 157, 184, 104, 126, 159, 113, 136, 167, 140, 162, 187, 159, 176, 195, 183, 202, 208, 191, 212, 221, 94, 115, 144, 46, 63, 99, 39, 58, 94, 46, 65, 98, 31, 45, 69, 26, 33, 49, 43, 48, 61, 44, 49, 61, 41, 46, 59, 49, 55, 70, 50, 57, 73, 48, 55, 71, 50, 57, 73, 52, 60, 77, 64, 77, 96, 123, 138, 158, 157, 172, 192, 79, 95, 125, 83, 103, 136, 69, 86, 118, 40, 47, 69, 42, 46, 62, 84, 88, 104, 52, 56, 71, 68, 77, 93, 114, 131, 151, 149, 167, 188, 187, 206, 222, 195, 214, 226, 205, 222, 234, 212, 229, 241, 120, 138, 154, 53, 70, 93, 40, 51, 73, 37, 48, 70, 23, 31, 51, 10, 9, 23, 12, 12, 22, 41, 46, 61, 41, 48, 66, 39, 51, 63, 39, 50, 60, 41, 48, 63, 40, 47, 63, 42, 48, 64, 55, 65, 83, 99, 117, 142, 131, 143, 162, 146, 156, 172, 74, 91, 120, 86, 107, 141, 55, 67, 97, 22, 26, 47, 41, 45, 62, 67, 72, 88, 46, 51, 65, 53, 59, 73, 128, 139, 151, 202, 219, 228, 209, 229, 240, 185, 208, 226, 176, 201, 221, 113, 132, 154, 35, 45, 65, 30, 35, 50, 23, 30, 42, 22, 30, 44, 21, 27, 42, 27, 29, 46, 10, 10, 25, 21, 24, 40, 29, 35, 51, 28, 38, 52, 29, 38, 51, 32, 37, 53, 45, 51, 67, 41, 46, 63, 44, 53, 73, 100, 117, 145, 128, 139, 160, 126, 134, 149, 59, 69, 88, 61, 74, 97, 46, 52, 74, 34, 38, 54, 32, 39, 52, 38, 44, 58, 51, 56, 70, 70, 77, 93, 78, 89, 107, 95, 106, 123, 104, 113, 131, 112, 121, 141, 87, 99, 119, 28, 38, 56, 15, 21, 38, 13, 18, 33, 11, 17, 29, 17, 25, 38, 28, 37, 54, 36, 47, 67, 21, 27, 44, 17, 21, 33, 25, 32, 44, 22, 32, 42, 29, 39, 53, 46, 55, 75, 53, 62, 80, 27, 36, 53, 38, 49, 67, 90, 104, 130, 109, 119, 140, 98, 106, 123, 40, 48, 62, 48, 55, 71, 58, 65, 84, 31, 37, 51, 17, 23, 34, 26, 32, 43, 43, 49, 60, 68, 77, 88, 68, 80, 97, 62, 71, 96, 61, 67, 93, 58, 63, 86, 43, 51, 75, 29, 36, 58, 23, 29, 46, 21, 25, 39, 18, 23, 34, 23, 31, 44, 30, 44, 63, 90, 107, 132, 40, 51, 69, 14, 21, 33, 22, 32, 48, 34, 45, 65, 51, 61, 83, 46, 53, 72, 33, 41, 55, 19, 28, 36, 26, 36, 45, 69, 79, 102, 81, 88, 108, 89, 100, 118, 75, 88, 109, 87, 99, 119, 73, 87, 107, 28, 37, 52, 7, 12, 23, 4, 8, 18, 8, 10, 19, 15, 18, 27, 27, 33, 45, 36, 41, 58, 37, 42, 60, 33, 38, 56, 24, 31, 48, 22, 28, 44, 18, 24, 37, 18, 24, 35, 21, 26, 36, 23, 33, 45, 39, 55, 74, 110, 132, 156, 64, 79, 100, 16, 24, 39, 34, 43, 58, 49, 56, 77, 34, 40, 60, 28, 34, 47, 37, 43, 55, 43, 49, 60, 46, 52, 66, 64, 72, 94, 80, 93, 115, 97, 115, 137, 99, 114, 139, 106, 121, 143, 92, 108, 127, 35, 46, 62, 26, 32, 46, 19, 22, 34, 9, 10, 21, 7, 8, 18, 8, 10, 22, 13, 15, 26, 17, 19, 31, 18, 21, 32, 23, 30, 41, 20, 26, 37, 11, 18, 28, 14, 19, 30, 19, 23, 38, 28, 37, 55, 76, 92, 115, 116, 139, 167, 79, 95, 118, 16, 26, 37, 21, 31, 36, 24, 30, 38, 29, 35, 46, 45, 54, 66, 61, 69, 85, 66, 74, 92, 64, 72, 93, 76, 88, 110, 92, 111, 134, 100, 120, 144, 107, 122, 147, 110, 125, 147, 116, 131, 150, 69, 81, 98, 32, 41, 57, 55, 62, 76, 36, 41, 53, 15, 18, 30, 10, 12, 24, 19, 20, 32, 25, 27, 38, 26, 31, 43, 78, 91, 109, 75, 87, 102, 16, 24, 35, 14, 18, 27, 20, 24, 37, 29, 38, 56, 75, 91, 114, 109, 132, 160, 75, 92, 114, 15, 25, 37, 23, 32, 39, 36, 42, 51, 51, 58, 72, 62, 74, 89, 67, 79, 96, 65, 76, 96, 75, 87, 108, 84, 100, 121, 93, 113, 135, 100, 118, 143, 113, 128, 152, 113, 128, 148, 115, 131, 148, 100, 113, 131, 53, 63, 80, 42, 50, 66, 44, 50, 63, 25, 29, 42, 23, 28, 42, 40, 44, 58, 34, 38, 50, 33, 39, 53, 79, 93, 118, 71, 84, 104, 16, 26, 41, 20, 27, 38, 25, 33, 45, 25, 35, 48, 53, 67, 84, 102, 128, 153, 84, 101, 123, 27, 35, 51, 44, 54, 69, 56, 67, 84, 66, 77, 96, 69, 82, 100, 64, 79, 98, 74, 89, 112, 88, 105, 129, 89, 108, 131, 95, 115, 137, 95, 112, 134, 118, 133, 155, 115, 130, 149, 112, 127, 143, 99, 112, 129, 79, 89, 105, 51, 59, 73, 37, 43, 55, 25, 28, 42, 34, 40, 58, 69, 79, 100, 67, 81, 104, 56, 72, 99, 47, 63, 96, 30, 45, 75, 26, 39, 64, 31, 43, 64, 23, 32, 51, 26, 35, 53, 75, 89, 111, 89, 114, 144, 60, 77, 100, 45, 54, 70, 65, 77, 95, 68, 83, 103, 64, 79, 99, 64, 78, 98, 76, 92, 113, 87, 105, 129, 91, 111, 135, 90, 110, 135, 89, 107, 130, 94, 110, 131, 117, 132, 155, 114, 129, 148, 105, 121, 137, 96, 110, 126, 83, 93, 109, 69, 76, 91, 57, 62, 75, 44, 44, 54, 36, 33, 41, 35, 36, 46, 33, 39, 53, 31, 39, 56, 26, 32, 48, 22, 26, 41, 19, 20, 35, 20, 20, 34, 28, 29, 43, 26, 35, 53, 67, 84, 108, 71, 91, 119, 40, 56, 79, 66, 79, 99, 74, 86, 104, 64, 74, 91, 66, 77, 94, 76, 90, 109, 86, 102, 123, 90, 108, 132, 90, 110, 135, 88, 108, 133, 94, 111, 134, 97, 112, 133, 113, 128, 151, 109, 124, 144, 106, 122, 140, 105, 117, 135, 100, 109, 125, 85, 93, 108, 69, 76, 90, 57, 63, 74, 48, 54, 60, 40, 45, 51, 35, 39, 44, 30, 34, 39, 25, 30, 36, 23, 27, 33, 21, 24, 32, 25, 26, 34, 38, 38, 45, 25, 30, 41, 35, 48, 64, 48, 62, 79, 53, 66, 84, 75, 88, 108, 74, 87, 105, 69, 81, 99, 84, 96, 116, 89, 105, 127, 91, 108, 131, 93, 109, 133, 91, 108, 131, 98, 115, 138, 101, 117, 139, 101, 116, 137, 112, 128, 149, 112, 127, 148, 113, 128, 149, 112, 124, 142, 110, 119, 136, 99, 108, 125, 86, 96, 113, 74, 85, 99, 64, 76, 85, 57, 67, 75, 52, 60, 66, 48, 55, 60, 42, 49, 57, 39, 45, 54, 36, 43, 51, 34, 40, 49, 37, 40, 49, 32, 36, 46, 20, 26, 38, 46, 55, 68, 75, 85, 101, 72, 84, 103, 76, 91, 111, 88, 104, 126, 92, 110, 135, 97, 115, 142, 100, 116, 141, 95, 110, 133, 101, 114, 136, 105, 120, 141, 102, 117, 138, 104, 119, 140, 117, 132, 154, 116, 131, 152, 113, 128, 149, 110, 124, 144, 113, 126, 145, 109, 122, 141, 104, 117, 136, 96, 110, 128, 86, 100, 115, 78, 89, 103, 70, 80, 91, 67, 75, 85, 61, 70, 80, 60, 69, 79, 59, 68, 78, 58, 67, 77, 60, 69, 81, 61, 72, 85, 70, 83, 99, 83, 98, 115, 78, 93, 112, 82, 98, 119, 93, 110, 133, 97, 117, 141, 98, 119, 145, 103, 123, 149, 105, 121, 147, 112, 126, 150, 118, 131, 152, 108, 122, 144, 104, 120, 141, 105, 120, 141, 116, 131, 153, 115, 130, 151, 113, 128, 149, 113, 128, 149, 119, 134, 155, 118, 133, 154, 111, 126, 147, 107, 122, 143, 100, 114, 134, 94, 107, 125, 89, 100, 116, 87, 98, 112, 83, 94, 105, 81, 93, 104, 78, 91, 102, 82, 95, 108, 87, 100, 116, 87, 101, 119, 91, 108, 127, 83, 101, 122, 83, 99, 121, 98, 114, 137, 100, 118, 142, 102, 122, 147, 105, 125, 151, 106, 124, 149, 109, 125, 149, 123, 137, 160, 121, 134, 156, 122, 137, 158, 126, 141, 162, 123, 138, 159, 114, 129, 150, 115, 129, 150, 115, 130, 150, 115, 130, 151, 115, 130, 151, 114, 129, 149, 112, 127, 148, 110, 123, 144, 107, 119, 140, 108, 119, 138, 103, 115, 132, 100, 111, 125, 101, 111, 122, 98, 110, 122, 100, 114, 127, 100, 115, 131, 98, 113, 132, 96, 111, 132, 88, 103, 123, 89, 104, 125, 99, 115, 137, 100, 116, 139, 106, 122, 145, 108, 125, 148, 107, 123, 146, 108, 123, 145, 113, 128, 149, 110, 125, 146, 110, 124, 145, 113, 128, 149, 125, 140, 160, 135, 150, 170], \"height\": 32, \"channels\": 3, \"width\": 32, \"type\": \"image\", \"id\": 4803134608}, {\"format\": \"raw\", \"value\": [127, 129, 122, 155, 154, 163, 153, 150, 167, 132, 137, 158, 144, 154, 184, 148, 156, 195, 145, 153, 194, 151, 159, 195, 159, 166, 200, 166, 168, 207, 178, 174, 210, 190, 184, 214, 189, 183, 216, 187, 181, 217, 196, 191, 222, 203, 200, 221, 208, 205, 224, 205, 200, 220, 208, 201, 219, 216, 208, 224, 208, 199, 222, 203, 195, 223, 196, 191, 217, 187, 186, 209, 190, 189, 216, 192, 186, 219, 177, 172, 204, 163, 165, 200, 153, 162, 201, 153, 158, 200, 156, 162, 206, 157, 166, 211, 117, 117, 109, 136, 135, 135, 145, 144, 144, 132, 134, 143, 141, 144, 167, 152, 154, 185, 153, 155, 188, 178, 180, 210, 188, 189, 219, 195, 192, 226, 208, 200, 231, 215, 207, 230, 202, 198, 221, 196, 191, 221, 196, 191, 222, 198, 194, 221, 190, 191, 217, 191, 191, 215, 202, 196, 217, 211, 201, 219, 205, 197, 220, 195, 191, 215, 185, 183, 202, 162, 162, 176, 173, 172, 193, 187, 182, 211, 172, 167, 191, 167, 169, 194, 162, 169, 204, 153, 157, 202, 154, 160, 206, 155, 163, 208, 121, 119, 108, 117, 116, 107, 131, 131, 117, 142, 142, 138, 145, 142, 155, 159, 156, 177, 159, 156, 178, 189, 186, 207, 199, 195, 221, 201, 195, 224, 201, 193, 219, 205, 197, 215, 206, 204, 218, 197, 193, 217, 190, 185, 215, 187, 183, 212, 175, 178, 207, 180, 183, 211, 188, 186, 211, 195, 189, 212, 196, 192, 218, 191, 191, 214, 170, 171, 186, 147, 147, 153, 164, 165, 178, 169, 166, 188, 150, 146, 158, 164, 165, 179, 175, 179, 206, 160, 163, 204, 153, 157, 200, 152, 158, 201, 121, 118, 106, 105, 102, 91, 124, 122, 104, 146, 145, 131, 143, 139, 140, 148, 143, 152, 144, 139, 149, 169, 164, 178, 185, 180, 205, 184, 178, 206, 181, 175, 199, 181, 177, 192, 181, 179, 190, 184, 181, 201, 182, 178, 203, 170, 167, 190, 168, 169, 197, 167, 168, 199, 165, 167, 197, 165, 167, 198, 173, 175, 207, 180, 182, 210, 156, 159, 174, 134, 135, 138, 153, 154, 163, 154, 153, 169, 131, 128, 129, 149, 147, 151, 168, 169, 187, 160, 162, 190, 154, 158, 190, 154, 160, 196, 142, 138, 125, 122, 118, 108, 149, 145, 130, 145, 144, 126, 141, 140, 130, 140, 138, 137, 125, 122, 123, 155, 152, 161, 177, 174, 199, 176, 172, 201, 172, 171, 194, 166, 165, 180, 155, 153, 165, 165, 161, 180, 164, 161, 181, 149, 146, 163, 163, 159, 184, 164, 163, 193, 155, 160, 195, 150, 160, 199, 153, 160, 199, 166, 169, 202, 137, 140, 158, 106, 107, 111, 137, 139, 147, 154, 153, 165, 128, 125, 119, 133, 130, 126, 147, 147, 157, 144, 147, 160, 148, 152, 172, 158, 163, 195, 180, 168, 151, 171, 160, 144, 192, 181, 163, 174, 163, 143, 153, 143, 128, 142, 134, 126, 137, 131, 127, 164, 160, 165, 163, 161, 183, 168, 167, 195, 170, 167, 189, 154, 148, 157, 144, 137, 139, 152, 142, 151, 151, 143, 155, 140, 136, 149, 158, 151, 175, 159, 154, 185, 156, 157, 193, 155, 162, 204, 152, 157, 196, 150, 156, 186, 120, 129, 148, 86, 93, 102, 122, 124, 137, 132, 130, 143, 122, 121, 113, 123, 124, 114, 130, 130, 133, 136, 137, 136, 136, 140, 142, 151, 156, 179, 222, 201, 175, 225, 204, 179, 235, 214, 188, 222, 200, 177, 181, 161, 142, 161, 145, 132, 161, 148, 141, 156, 148, 150, 137, 134, 151, 161, 162, 186, 167, 163, 181, 139, 129, 130, 139, 129, 118, 146, 131, 127, 145, 132, 135, 136, 130, 138, 150, 144, 157, 158, 153, 171, 166, 162, 186, 163, 160, 190, 137, 136, 165, 120, 125, 148, 103, 114, 130, 85, 93, 105, 114, 115, 132, 108, 104, 119, 110, 111, 104, 123, 126, 114, 120, 120, 118, 135, 132, 124, 129, 131, 119, 139, 144, 158, 243, 216, 181, 248, 222, 187, 251, 224, 190, 248, 223, 193, 225, 203, 178, 204, 186, 168, 178, 163, 151, 158, 146, 143, 147, 140, 151, 162, 159, 176, 156, 154, 165, 124, 121, 117, 130, 124, 109, 133, 121, 112, 131, 120, 118, 122, 117, 117, 139, 138, 133, 149, 147, 144, 155, 150, 153, 152, 144, 153, 131, 125, 142, 104, 104, 121, 98, 102, 113, 111, 112, 118, 133, 128, 140, 112, 107, 118, 106, 103, 98, 116, 113, 105, 113, 108, 106, 128, 124, 116, 129, 131, 120, 143, 146, 158, 241, 209, 167, 247, 215, 174, 249, 217, 176, 249, 220, 183, 244, 220, 187, 239, 219, 193, 218, 202, 181, 194, 180, 169, 175, 163, 163, 161, 152, 156, 141, 138, 138, 114, 113, 102, 126, 121, 102, 125, 114, 102, 121, 112, 108, 112, 111, 109, 125, 128, 124, 147, 149, 147, 159, 156, 157, 159, 151, 157, 163, 157, 170, 124, 123, 135, 103, 105, 111, 109, 105, 108, 116, 108, 115, 108, 103, 110, 120, 115, 111, 107, 99, 93, 105, 97, 95, 121, 118, 110, 124, 125, 115, 144, 145, 154, 241, 207, 164, 243, 209, 166, 245, 210, 168, 251, 220, 177, 249, 223, 182, 246, 225, 189, 242, 225, 195, 235, 219, 196, 219, 204, 188, 195, 178, 166, 155, 143, 130, 119, 112, 94, 144, 135, 111, 145, 135, 121, 128, 124, 122, 102, 107, 112, 90, 99, 112, 113, 120, 136, 135, 139, 156, 156, 157, 176, 184, 185, 201, 185, 191, 200, 169, 175, 181, 150, 149, 153, 125, 121, 125, 113, 112, 113, 114, 111, 107, 94, 87, 82, 101, 92, 88, 117, 115, 106, 127, 127, 119, 135, 133, 141, 243, 208, 170, 236, 202, 164, 237, 203, 166, 253, 223, 177, 252, 224, 176, 248, 224, 182, 244, 224, 189, 247, 231, 197, 249, 232, 198, 243, 218, 190, 220, 196, 172, 187, 168, 144, 181, 163, 136, 189, 174, 162, 139, 139, 143, 87, 102, 118, 63, 79, 108, 55, 71, 102, 48, 64, 94, 59, 77, 106, 74, 90, 113, 99, 115, 131, 139, 153, 164, 186, 191, 199, 214, 215, 218, 199, 204, 198, 142, 143, 138, 82, 77, 72, 94, 87, 82, 111, 111, 101, 131, 131, 123, 130, 126, 131, 240, 206, 172, 230, 197, 163, 230, 197, 162, 247, 215, 171, 248, 219, 171, 251, 227, 183, 246, 223, 184, 245, 224, 188, 251, 229, 193, 251, 219, 182, 249, 220, 183, 235, 211, 181, 217, 197, 173, 186, 177, 168, 123, 130, 139, 87, 105, 127, 78, 97, 128, 58, 79, 113, 34, 57, 89, 34, 61, 90, 56, 80, 102, 71, 93, 110, 65, 86, 103, 78, 92, 111, 117, 129, 142, 185, 199, 203, 182, 189, 198, 149, 148, 150, 128, 118, 106, 119, 113, 99, 126, 122, 113, 138, 130, 135, 243, 208, 174, 233, 199, 164, 231, 197, 161, 249, 213, 174, 248, 217, 175, 250, 225, 182, 250, 220, 178, 246, 215, 177, 249, 219, 190, 244, 209, 176, 239, 215, 178, 205, 190, 173, 135, 127, 126, 112, 122, 128, 88, 110, 121, 96, 114, 131, 85, 102, 126, 60, 77, 108, 45, 62, 94, 46, 65, 92, 66, 87, 102, 88, 109, 122, 82, 102, 124, 64, 82, 112, 50, 75, 105, 105, 133, 164, 115, 136, 177, 157, 166, 190, 184, 166, 154, 141, 125, 107, 131, 122, 111, 171, 158, 161, 251, 213, 175, 232, 193, 155, 236, 197, 159, 248, 209, 170, 252, 217, 175, 249, 219, 174, 248, 214, 168, 246, 213, 164, 239, 212, 180, 224, 199, 194, 207, 198, 201, 162, 166, 188, 84, 99, 136, 73, 102, 134, 53, 86, 108, 63, 87, 102, 65, 81, 102, 43, 58, 87, 36, 51, 82, 42, 57, 84, 44, 62, 80, 75, 92, 110, 70, 87, 110, 52, 69, 97, 59, 85, 120, 104, 137, 182, 101, 131, 189, 102, 126, 172, 179, 175, 182, 160, 144, 140, 153, 145, 135, 173, 156, 151, 251, 208, 168, 237, 192, 155, 238, 194, 158, 239, 196, 159, 247, 208, 167, 244, 208, 162, 241, 203, 154, 242, 210, 158, 208, 189, 170, 151, 144, 175, 118, 130, 171, 97, 124, 168, 84, 122, 175, 83, 126, 176, 67, 106, 145, 60, 88, 118, 59, 84, 113, 52, 76, 111, 44, 68, 106, 34, 59, 90, 38, 60, 87, 63, 82, 109, 69, 87, 113, 59, 76, 101, 69, 93, 124, 119, 147, 191, 108, 136, 195, 90, 121, 179, 153, 164, 190, 145, 140, 158, 148, 147, 148, 169, 151, 139, 246, 203, 167, 239, 196, 165, 234, 190, 162, 231, 189, 160, 236, 195, 163, 238, 196, 159, 238, 199, 153, 236, 207, 168, 163, 153, 161, 74, 84, 134, 55, 85, 125, 50, 88, 115, 49, 94, 127, 59, 102, 145, 69, 106, 152, 74, 106, 150, 63, 101, 139, 65, 106, 146, 73, 113, 156, 66, 107, 145, 63, 98, 132, 60, 90, 122, 62, 88, 119, 60, 84, 114, 75, 99, 128, 105, 125, 156, 112, 134, 179, 94, 125, 178, 122, 141, 176, 133, 148, 184, 128, 142, 165, 171, 157, 148, 233, 196, 169, 228, 190, 169, 223, 185, 168, 221, 185, 168, 226, 186, 167, 229, 186, 160, 232, 194, 157, 221, 198, 170, 137, 138, 155, 74, 99, 140, 45, 81, 102, 29, 60, 68, 42, 71, 85, 51, 80, 105, 54, 83, 114, 58, 91, 121, 56, 100, 129, 58, 104, 139, 59, 105, 142, 64, 110, 143, 69, 118, 150, 72, 118, 154, 67, 108, 145, 71, 107, 146, 85, 118, 150, 84, 109, 131, 93, 119, 151, 90, 127, 172, 96, 127, 166, 95, 134, 185, 112, 145, 196, 163, 159, 161, 207, 179, 159, 200, 171, 158, 201, 172, 164, 204, 174, 167, 206, 170, 161, 211, 172, 157, 219, 186, 161, 162, 147, 124, 71, 84, 89, 50, 83, 103, 48, 82, 89, 32, 49, 54, 47, 56, 65, 68, 81, 93, 34, 57, 65, 39, 72, 73, 75, 113, 125, 84, 120, 143, 79, 114, 137, 96, 131, 147, 88, 138, 161, 78, 138, 170, 83, 135, 171, 89, 133, 175, 90, 133, 167, 81, 117, 135, 85, 120, 145, 84, 128, 168, 87, 130, 165, 81, 136, 188, 99, 143, 212, 155, 160, 171, 201, 188, 169, 182, 168, 152, 184, 169, 154, 189, 173, 160, 210, 193, 181, 221, 205, 192, 214, 201, 186, 131, 131, 116, 49, 69, 63, 44, 69, 75, 49, 77, 78, 51, 73, 72, 43, 63, 66, 48, 69, 75, 32, 57, 62, 63, 92, 96, 99, 127, 143, 108, 130, 153, 149, 163, 177, 197, 207, 198, 141, 170, 164, 92, 147, 153, 81, 120, 138, 76, 100, 127, 98, 129, 144, 80, 107, 111, 76, 101, 107, 72, 100, 111, 70, 99, 109, 87, 126, 155, 104, 135, 179, 149, 151, 159, 208, 198, 176, 159, 150, 128, 155, 148, 125, 183, 172, 151, 243, 234, 215, 253, 248, 231, 249, 243, 228, 141, 144, 130, 48, 63, 55, 53, 69, 69, 51, 70, 69, 54, 77, 71, 50, 77, 75, 49, 76, 77, 55, 81, 86, 73, 100, 107, 70, 104, 112, 80, 112, 124, 144, 168, 173, 165, 185, 168, 130, 158, 143, 87, 133, 130, 63, 89, 99, 53, 61, 78, 89, 107, 113, 79, 98, 96, 72, 90, 88, 67, 86, 84, 74, 94, 92, 90, 115, 127, 65, 82, 106, 134, 130, 128, 196, 177, 156, 144, 132, 109, 123, 117, 91, 189, 176, 151, 242, 226, 202, 239, 226, 205, 255, 244, 224, 155, 153, 137, 35, 42, 33, 38, 47, 43, 37, 48, 44, 43, 59, 53, 47, 69, 65, 50, 72, 70, 51, 73, 73, 56, 80, 79, 56, 94, 86, 71, 114, 110, 104, 146, 144, 83, 127, 113, 70, 108, 99, 68, 103, 107, 85, 100, 114, 65, 66, 80, 82, 92, 97, 80, 98, 98, 77, 95, 95, 74, 92, 92, 81, 100, 98, 90, 108, 114, 49, 58, 71, 132, 123, 109, 202, 179, 163, 189, 174, 156, 161, 154, 133, 204, 190, 168, 222, 201, 181, 222, 204, 186, 239, 223, 206, 173, 165, 152, 55, 55, 48, 41, 43, 36, 31, 35, 31, 29, 38, 35, 29, 46, 44, 31, 49, 46, 33, 50, 47, 38, 56, 52, 38, 66, 51, 43, 76, 64, 61, 99, 93, 61, 105, 97, 57, 96, 91, 70, 92, 99, 130, 135, 150, 85, 83, 94, 84, 89, 94, 84, 102, 103, 82, 100, 101, 80, 98, 100, 90, 107, 106, 102, 113, 115, 75, 76, 81, 143, 130, 107, 209, 189, 185, 205, 190, 185, 201, 191, 184, 193, 180, 172, 182, 167, 160, 180, 167, 162, 184, 173, 169, 162, 154, 152, 64, 61, 58, 36, 36, 30, 31, 33, 31, 35, 38, 42, 33, 43, 46, 33, 44, 45, 36, 48, 47, 41, 53, 49, 38, 52, 42, 35, 53, 43, 49, 73, 65, 55, 85, 77, 59, 93, 85, 84, 94, 101, 178, 177, 191, 103, 107, 117, 84, 91, 97, 85, 102, 106, 82, 100, 103, 82, 100, 103, 89, 106, 107, 147, 153, 158, 117, 113, 117, 172, 159, 135, 189, 175, 183, 189, 175, 183, 191, 177, 185, 169, 157, 164, 138, 130, 138, 113, 107, 116, 94, 90, 101, 84, 80, 89, 39, 35, 38, 21, 20, 17, 31, 32, 33, 48, 50, 60, 38, 44, 53, 35, 41, 48, 30, 37, 39, 33, 41, 40, 42, 51, 48, 57, 69, 63, 55, 73, 61, 51, 74, 60, 50, 79, 66, 85, 87, 91, 191, 189, 202, 110, 123, 133, 77, 88, 97, 80, 97, 103, 75, 92, 98, 75, 92, 97, 78, 94, 98, 175, 180, 190, 159, 154, 161, 195, 182, 161, 184, 169, 184, 185, 169, 183, 186, 169, 184, 183, 169, 185, 173, 162, 180, 157, 148, 166, 141, 132, 151, 117, 110, 124, 82, 76, 81, 51, 47, 48, 41, 37, 41, 42, 39, 47, 37, 37, 44, 35, 36, 41, 29, 30, 33, 25, 27, 28, 25, 29, 28, 37, 42, 38, 41, 48, 39, 42, 52, 41, 35, 50, 37, 72, 74, 72, 193, 194, 201, 127, 136, 149, 93, 101, 117, 93, 103, 117, 88, 99, 109, 83, 94, 101, 77, 89, 93, 175, 180, 187, 187, 185, 191, 195, 185, 179, 176, 160, 170, 174, 158, 168, 175, 159, 169, 174, 159, 172, 174, 160, 175, 178, 164, 178, 180, 166, 181, 180, 167, 179, 172, 161, 169, 154, 143, 151, 130, 119, 126, 99, 90, 96, 68, 64, 66, 47, 43, 44, 35, 31, 32, 26, 23, 24, 21, 18, 17, 21, 17, 16, 24, 21, 19, 29, 25, 24, 25, 26, 20, 65, 68, 64, 186, 187, 192, 143, 143, 157, 142, 142, 161, 156, 158, 175, 160, 163, 174, 102, 105, 110, 59, 64, 65, 188, 192, 195, 189, 189, 194, 183, 175, 183, 172, 161, 165, 170, 159, 163, 170, 159, 163, 172, 159, 166, 173, 159, 168, 172, 158, 167, 172, 158, 167, 174, 161, 171, 176, 164, 175, 177, 164, 176, 176, 163, 175, 172, 161, 171, 163, 156, 158, 148, 142, 143, 127, 121, 123, 104, 98, 99, 85, 78, 78, 70, 64, 63, 61, 55, 54, 51, 45, 44, 36, 33, 33, 51, 49, 52, 115, 112, 118, 70, 66, 75, 75, 71, 82, 103, 99, 107, 131, 127, 131, 87, 84, 83, 38, 37, 34, 147, 147, 151, 168, 163, 170, 173, 163, 172, 177, 165, 172, 173, 161, 168, 174, 162, 169, 175, 161, 170, 178, 162, 173, 180, 163, 174, 179, 162, 173, 179, 163, 174, 177, 163, 173, 176, 162, 172, 176, 162, 172, 177, 164, 172, 177, 167, 168, 177, 167, 168, 178, 168, 169, 176, 166, 166, 169, 160, 158, 162, 153, 150, 153, 144, 142, 141, 132, 129, 120, 111, 114, 106, 98, 103, 123, 116, 119, 116, 109, 110, 112, 103, 104, 114, 103, 102, 122, 112, 108, 111, 102, 95, 81, 72, 66, 122, 116, 119, 169, 160, 165, 173, 162, 168, 178, 162, 170, 174, 159, 166, 176, 161, 168, 177, 160, 168, 178, 159, 169, 178, 160, 169, 178, 159, 169, 178, 161, 167, 177, 163, 163, 177, 162, 163, 177, 162, 163, 178, 164, 163, 178, 166, 161, 178, 166, 161, 177, 165, 160, 177, 165, 160, 177, 165, 158, 179, 167, 160, 181, 169, 162, 182, 170, 163, 180, 168, 165, 177, 165, 163, 179, 167, 163, 182, 170, 164, 182, 170, 162, 184, 170, 162, 182, 169, 160, 175, 162, 152, 167, 154, 146, 172, 160, 159, 179, 167, 167, 180, 167, 167, 190, 172, 161, 188, 170, 160, 190, 172, 162, 189, 172, 161, 191, 174, 162, 190, 173, 162, 192, 175, 164, 193, 178, 165, 192, 179, 163, 192, 179, 163, 191, 178, 162, 191, 177, 162, 193, 179, 165, 194, 180, 167, 194, 180, 167, 194, 181, 166, 194, 181, 165, 195, 182, 165, 196, 183, 167, 195, 182, 165, 195, 181, 165, 195, 180, 166, 195, 180, 166, 193, 178, 165, 191, 177, 164, 189, 176, 163, 192, 178, 166, 191, 178, 166, 193, 179, 169, 195, 179, 171, 192, 177, 169, 192, 178, 169, 200, 184, 165, 198, 182, 163, 196, 180, 161, 195, 181, 163, 193, 180, 163, 192, 179, 162, 194, 181, 164, 192, 179, 164, 191, 179, 165, 192, 179, 166, 190, 178, 164, 189, 176, 163, 190, 176, 166, 190, 176, 167, 190, 176, 168, 190, 176, 168, 190, 176, 167, 190, 177, 167, 191, 176, 167, 192, 176, 167, 192, 178, 167, 191, 177, 167, 189, 175, 166, 189, 174, 168, 187, 173, 167, 184, 172, 166, 185, 173, 168, 184, 172, 169, 183, 169, 167, 184, 168, 165, 186, 171, 167, 187, 173, 168, 184, 172, 170, 182, 170, 168, 180, 169, 167, 181, 169, 171, 180, 168, 172, 181, 169, 173, 182, 170, 174, 180, 168, 173, 181, 168, 174, 183, 171, 176, 185, 172, 178, 184, 171, 176, 183, 172, 176, 183, 171, 177, 182, 170, 178, 184, 172, 182, 184, 172, 182, 183, 171, 180, 185, 170, 181, 187, 170, 181, 186, 171, 181, 185, 173, 182, 184, 172, 182, 185, 173, 183, 184, 172, 182, 183, 171, 182, 184, 172, 182, 183, 171, 182, 183, 171, 182, 181, 169, 179, 182, 170, 180, 182, 170, 181], \"height\": 32, \"channels\": 3, \"width\": 32, \"type\": \"image\", \"id\": 4803134800}, {\"format\": \"raw\", \"value\": [56, 59, 58, 35, 38, 36, 61, 64, 62, 57, 59, 56, 99, 97, 84, 145, 139, 127, 141, 130, 123, 140, 128, 115, 120, 110, 90, 95, 91, 74, 77, 74, 59, 54, 51, 36, 47, 44, 29, 43, 40, 27, 35, 38, 27, 26, 30, 21, 24, 27, 17, 22, 26, 16, 24, 28, 18, 22, 25, 17, 21, 23, 21, 24, 26, 26, 44, 47, 37, 64, 68, 48, 66, 68, 46, 68, 72, 50, 66, 75, 50, 60, 73, 47, 52, 66, 40, 58, 72, 46, 48, 62, 36, 40, 54, 31, 70, 65, 56, 69, 64, 54, 77, 72, 63, 67, 61, 50, 112, 101, 79, 138, 125, 107, 130, 117, 110, 127, 114, 110, 127, 115, 108, 122, 115, 105, 91, 85, 75, 72, 66, 56, 84, 78, 68, 90, 85, 76, 67, 70, 62, 41, 46, 39, 43, 48, 41, 48, 53, 46, 38, 43, 35, 35, 40, 33, 36, 41, 37, 35, 39, 36, 44, 50, 38, 58, 65, 45, 52, 60, 37, 59, 69, 45, 63, 76, 51, 53, 69, 43, 48, 64, 38, 59, 73, 47, 51, 65, 40, 42, 56, 35, 117, 105, 91, 116, 105, 91, 101, 89, 76, 86, 74, 57, 109, 91, 64, 124, 108, 88, 115, 105, 100, 92, 82, 87, 90, 79, 84, 98, 90, 88, 101, 95, 90, 74, 67, 63, 83, 76, 72, 107, 102, 98, 68, 72, 68, 48, 54, 50, 74, 81, 76, 83, 89, 85, 70, 77, 72, 61, 68, 62, 54, 61, 55, 53, 60, 52, 60, 68, 56, 62, 72, 54, 54, 67, 45, 48, 63, 39, 46, 61, 38, 42, 59, 36, 41, 57, 33, 41, 55, 30, 49, 63, 41, 47, 60, 41, 125, 113, 98, 123, 112, 98, 122, 110, 96, 125, 113, 97, 132, 117, 96, 141, 133, 119, 131, 132, 132, 85, 84, 93, 91, 85, 96, 116, 111, 114, 133, 130, 130, 114, 111, 111, 119, 115, 116, 133, 131, 131, 100, 107, 106, 80, 89, 88, 82, 91, 90, 70, 79, 78, 63, 72, 71, 61, 70, 66, 57, 67, 58, 58, 69, 56, 53, 64, 50, 54, 66, 50, 53, 69, 48, 48, 64, 43, 43, 58, 38, 43, 57, 37, 47, 61, 40, 33, 46, 24, 46, 60, 40, 49, 62, 45, 124, 119, 110, 124, 119, 110, 126, 121, 112, 129, 124, 115, 137, 133, 125, 142, 150, 148, 157, 174, 179, 159, 170, 180, 191, 192, 201, 195, 196, 201, 189, 192, 196, 181, 183, 187, 174, 177, 180, 165, 169, 172, 151, 160, 162, 137, 147, 149, 121, 131, 133, 101, 111, 113, 83, 93, 95, 86, 96, 95, 91, 102, 92, 78, 91, 74, 49, 61, 46, 42, 55, 41, 46, 61, 43, 48, 62, 43, 39, 50, 32, 46, 54, 37, 50, 59, 42, 41, 54, 34, 49, 62, 44, 46, 59, 44, 120, 122, 120, 118, 121, 119, 118, 121, 118, 121, 123, 122, 123, 134, 140, 123, 148, 158, 120, 152, 163, 147, 170, 178, 174, 181, 186, 127, 135, 140, 106, 116, 121, 90, 99, 104, 67, 76, 82, 53, 62, 68, 55, 66, 70, 59, 70, 74, 51, 62, 66, 65, 76, 80, 71, 82, 86, 99, 110, 110, 114, 127, 115, 82, 96, 77, 46, 60, 44, 46, 59, 47, 45, 58, 42, 51, 61, 44, 44, 51, 35, 45, 47, 33, 41, 44, 30, 47, 59, 41, 47, 60, 44, 47, 59, 46, 110, 118, 123, 108, 118, 122, 108, 113, 117, 113, 112, 117, 102, 114, 125, 129, 156, 171, 97, 130, 145, 117, 142, 152, 104, 117, 123, 40, 57, 62, 41, 59, 65, 48, 62, 70, 33, 45, 53, 21, 32, 40, 24, 34, 39, 30, 41, 44, 20, 32, 35, 41, 54, 57, 51, 65, 68, 74, 89, 89, 115, 131, 122, 92, 107, 90, 50, 63, 48, 48, 60, 48, 50, 62, 48, 50, 60, 45, 55, 60, 46, 58, 58, 45, 49, 52, 36, 49, 61, 40, 42, 55, 36, 41, 52, 39, 95, 105, 113, 91, 104, 112, 94, 99, 106, 101, 95, 100, 84, 89, 95, 116, 133, 145, 64, 87, 104, 116, 136, 149, 92, 107, 114, 27, 50, 54, 29, 51, 57, 35, 51, 59, 29, 39, 50, 26, 32, 43, 28, 36, 40, 31, 42, 44, 27, 39, 41, 34, 49, 49, 65, 82, 82, 60, 80, 79, 93, 111, 106, 98, 112, 102, 62, 72, 60, 46, 54, 41, 46, 56, 43, 54, 63, 49, 63, 69, 54, 97, 100, 85, 99, 103, 84, 86, 93, 69, 71, 78, 59, 42, 47, 35, 98, 103, 110, 90, 96, 106, 98, 103, 111, 81, 85, 87, 83, 90, 95, 113, 127, 138, 37, 55, 70, 98, 112, 124, 95, 105, 111, 18, 38, 41, 18, 39, 43, 21, 35, 41, 24, 32, 40, 27, 30, 39, 40, 45, 51, 34, 42, 46, 31, 41, 44, 26, 40, 42, 60, 77, 78, 58, 77, 76, 67, 84, 81, 90, 102, 95, 76, 83, 72, 48, 52, 37, 50, 53, 35, 60, 63, 46, 79, 82, 66, 124, 128, 111, 130, 132, 113, 129, 127, 107, 121, 118, 102, 69, 65, 56, 111, 110, 112, 90, 86, 96, 131, 136, 143, 109, 127, 126, 106, 119, 124, 159, 172, 182, 114, 130, 139, 115, 124, 131, 103, 107, 110, 26, 41, 43, 26, 43, 45, 20, 31, 35, 24, 30, 36, 28, 31, 38, 40, 44, 52, 33, 39, 47, 26, 35, 42, 26, 37, 43, 42, 57, 61, 43, 61, 62, 51, 66, 64, 66, 77, 70, 81, 88, 77, 75, 76, 61, 74, 70, 48, 84, 81, 59, 110, 108, 89, 131, 132, 113, 130, 130, 112, 138, 132, 115, 137, 130, 117, 108, 101, 93, 113, 109, 108, 88, 78, 86, 167, 168, 172, 199, 215, 211, 169, 178, 183, 192, 202, 209, 164, 176, 180, 130, 136, 139, 113, 114, 118, 51, 63, 65, 53, 68, 71, 23, 34, 37, 25, 33, 37, 27, 33, 40, 30, 36, 47, 29, 36, 48, 26, 35, 46, 25, 38, 47, 26, 42, 50, 24, 44, 48, 33, 49, 50, 44, 56, 53, 89, 97, 89, 125, 126, 114, 133, 125, 103, 131, 124, 101, 138, 132, 112, 143, 139, 120, 134, 132, 114, 139, 137, 118, 138, 136, 119, 129, 126, 113, 105, 102, 101, 92, 84, 89, 198, 190, 190, 244, 241, 235, 223, 220, 222, 221, 224, 225, 168, 177, 174, 129, 135, 136, 134, 135, 143, 44, 56, 63, 35, 50, 57, 22, 37, 43, 23, 37, 43, 25, 37, 45, 28, 39, 52, 27, 39, 53, 28, 43, 56, 33, 51, 63, 34, 54, 66, 36, 59, 68, 50, 71, 78, 59, 75, 78, 66, 78, 76, 92, 98, 91, 128, 124, 107, 150, 145, 126, 155, 148, 129, 150, 143, 122, 143, 138, 117, 140, 140, 117, 137, 138, 115, 131, 131, 110, 103, 105, 106, 79, 79, 79, 195, 175, 172, 238, 202, 197, 230, 210, 208, 237, 234, 227, 216, 222, 214, 194, 202, 202, 132, 137, 150, 37, 52, 65, 28, 48, 58, 27, 46, 56, 26, 47, 57, 28, 48, 59, 32, 50, 64, 37, 56, 71, 39, 62, 75, 40, 66, 78, 42, 70, 82, 46, 76, 91, 56, 83, 97, 62, 84, 93, 53, 70, 76, 60, 72, 73, 78, 83, 76, 103, 103, 92, 123, 118, 101, 143, 133, 112, 144, 131, 107, 144, 133, 107, 136, 125, 98, 135, 125, 97, 103, 110, 112, 69, 77, 73, 169, 143, 137, 187, 123, 118, 208, 169, 163, 236, 223, 211, 239, 241, 229, 206, 214, 215, 94, 103, 120, 42, 61, 78, 35, 57, 73, 35, 59, 75, 36, 62, 77, 35, 62, 76, 38, 62, 77, 37, 63, 77, 36, 64, 77, 31, 62, 74, 30, 63, 77, 31, 66, 86, 36, 68, 88, 44, 71, 86, 51, 74, 85, 52, 71, 79, 58, 71, 73, 75, 83, 79, 95, 95, 82, 125, 115, 95, 142, 124, 100, 149, 123, 97, 144, 116, 88, 140, 113, 84, 110, 120, 121, 86, 91, 89, 174, 159, 156, 183, 141, 138, 167, 100, 91, 186, 129, 117, 238, 210, 201, 200, 193, 192, 64, 70, 80, 48, 62, 84, 42, 63, 86, 31, 59, 79, 29, 58, 78, 31, 57, 76, 32, 57, 71, 35, 59, 72, 36, 60, 75, 33, 57, 74, 30, 55, 74, 27, 54, 76, 28, 54, 74, 31, 55, 71, 36, 59, 73, 43, 64, 74, 44, 63, 71, 44, 65, 72, 58, 76, 79, 94, 102, 97, 118, 113, 100, 141, 119, 101, 150, 123, 101, 151, 124, 102, 118, 126, 126, 112, 113, 112, 185, 179, 179, 230, 212, 210, 191, 125, 114, 152, 81, 70, 211, 170, 165, 194, 178, 178, 45, 45, 51, 32, 40, 61, 46, 63, 85, 35, 60, 79, 28, 54, 73, 28, 50, 69, 29, 51, 63, 30, 52, 64, 29, 49, 65, 32, 49, 69, 34, 51, 73, 27, 46, 67, 26, 45, 64, 27, 47, 62, 27, 47, 60, 30, 50, 60, 31, 51, 61, 24, 50, 63, 20, 48, 60, 69, 88, 93, 123, 129, 125, 134, 125, 113, 142, 126, 109, 149, 131, 113, 118, 125, 125, 114, 115, 115, 158, 153, 153, 235, 222, 220, 238, 202, 191, 189, 149, 138, 212, 186, 182, 185, 173, 176, 54, 49, 59, 28, 30, 46, 23, 33, 48, 32, 51, 63, 39, 56, 69, 36, 50, 63, 28, 46, 56, 28, 46, 57, 26, 44, 58, 22, 39, 56, 20, 37, 56, 22, 39, 58, 20, 37, 54, 18, 36, 49, 16, 34, 45, 18, 36, 45, 18, 38, 45, 15, 38, 48, 12, 35, 46, 20, 35, 41, 44, 54, 53, 83, 87, 79, 112, 106, 92, 137, 126, 106, 120, 125, 126, 116, 116, 116, 117, 113, 113, 185, 179, 175, 225, 214, 203, 231, 222, 213, 244, 235, 233, 180, 172, 178, 63, 56, 67, 41, 38, 49, 28, 33, 41, 24, 34, 40, 33, 40, 47, 46, 49, 58, 37, 48, 57, 26, 40, 49, 20, 35, 46, 15, 31, 45, 12, 28, 43, 13, 28, 43, 17, 31, 45, 17, 32, 42, 18, 34, 42, 23, 39, 46, 26, 44, 51, 26, 44, 52, 30, 46, 55, 42, 53, 60, 52, 64, 67, 54, 69, 66, 83, 87, 76, 130, 125, 107, 120, 121, 124, 117, 117, 118, 98, 96, 95, 93, 91, 87, 184, 190, 181, 229, 235, 229, 240, 242, 241, 175, 172, 177, 60, 54, 62, 40, 35, 41, 47, 48, 51, 32, 37, 39, 37, 36, 40, 85, 79, 85, 91, 95, 102, 61, 69, 77, 37, 48, 57, 32, 47, 57, 34, 50, 61, 42, 53, 66, 54, 64, 76, 64, 75, 83, 55, 67, 73, 54, 67, 72, 49, 65, 69, 40, 54, 58, 45, 55, 60, 67, 75, 84, 68, 80, 88, 48, 66, 67, 68, 77, 68, 113, 112, 96, 119, 118, 121, 116, 116, 116, 82, 82, 80, 36, 37, 33, 82, 90, 85, 188, 195, 192, 237, 241, 240, 184, 184, 185, 57, 55, 57, 40, 37, 39, 70, 71, 71, 49, 52, 52, 62, 58, 60, 166, 156, 160, 190, 188, 192, 166, 169, 174, 129, 136, 143, 96, 109, 116, 100, 115, 123, 93, 102, 112, 104, 112, 121, 134, 142, 148, 72, 80, 83, 44, 54, 56, 42, 57, 59, 52, 62, 62, 38, 42, 44, 36, 39, 49, 36, 45, 57, 26, 40, 41, 44, 50, 44, 78, 77, 65, 119, 118, 121, 116, 115, 116, 89, 90, 87, 55, 57, 52, 54, 54, 55, 106, 106, 107, 201, 202, 201, 185, 187, 183, 58, 61, 56, 38, 38, 37, 71, 74, 74, 56, 59, 58, 53, 48, 50, 119, 107, 111, 160, 154, 157, 165, 165, 168, 146, 152, 156, 79, 92, 96, 85, 99, 105, 77, 83, 92, 83, 88, 95, 121, 126, 130, 64, 70, 71, 30, 38, 38, 25, 38, 38, 48, 54, 52, 33, 31, 31, 14, 14, 24, 13, 19, 33, 26, 33, 35, 50, 51, 46, 82, 79, 72, 124, 122, 126, 118, 118, 119, 112, 113, 112, 105, 106, 103, 108, 104, 106, 107, 102, 104, 132, 131, 129, 153, 154, 147, 70, 73, 65, 40, 40, 40, 76, 79, 81, 59, 63, 64, 50, 49, 52, 50, 43, 48, 67, 62, 66, 94, 94, 98, 65, 68, 73, 35, 44, 49, 28, 39, 44, 29, 34, 40, 28, 32, 36, 28, 33, 34, 26, 31, 29, 30, 36, 33, 17, 25, 23, 41, 43, 39, 35, 31, 30, 18, 16, 24, 17, 20, 30, 25, 27, 27, 43, 42, 38, 55, 54, 50, 123, 122, 128, 121, 120, 123, 122, 122, 122, 120, 120, 118, 119, 118, 118, 119, 117, 117, 117, 115, 111, 122, 119, 112, 90, 86, 80, 47, 46, 48, 81, 83, 87, 56, 61, 63, 57, 62, 65, 68, 71, 74, 62, 64, 69, 73, 75, 81, 39, 42, 49, 19, 23, 30, 18, 23, 29, 19, 23, 25, 21, 25, 25, 20, 24, 21, 22, 27, 21, 31, 36, 28, 27, 28, 22, 39, 37, 33, 33, 29, 28, 23, 20, 23, 20, 18, 22, 22, 23, 22, 30, 33, 32, 33, 38, 39, 125, 124, 131, 124, 123, 127, 124, 124, 124, 122, 122, 121, 121, 122, 122, 122, 122, 121, 119, 117, 114, 119, 114, 109, 108, 102, 98, 78, 76, 78, 93, 94, 98, 50, 54, 56, 38, 44, 45, 56, 64, 66, 65, 69, 74, 79, 82, 89, 68, 71, 77, 40, 43, 50, 38, 42, 47, 32, 36, 37, 30, 34, 33, 27, 32, 27, 21, 27, 18, 28, 33, 23, 29, 28, 20, 30, 27, 22, 28, 25, 23, 21, 18, 19, 17, 15, 16, 21, 23, 21, 22, 26, 26, 30, 38, 39, 126, 125, 132, 123, 123, 126, 123, 123, 123, 125, 125, 124, 126, 127, 128, 124, 124, 125, 120, 118, 116, 121, 115, 112, 120, 113, 109, 110, 107, 108, 98, 97, 99, 47, 49, 50, 34, 39, 39, 33, 39, 39, 39, 43, 47, 64, 68, 72, 63, 66, 71, 44, 47, 52, 40, 43, 47, 31, 35, 35, 25, 29, 27, 20, 25, 20, 14, 20, 12, 26, 30, 21, 24, 24, 17, 23, 22, 17, 23, 23, 20, 16, 14, 15, 16, 16, 17, 21, 23, 21, 26, 30, 29, 35, 43, 44, 124, 123, 130, 123, 122, 126, 124, 124, 125, 127, 127, 127, 129, 129, 132, 126, 126, 129, 125, 122, 123, 124, 119, 117, 126, 118, 116, 123, 118, 118, 100, 97, 99, 45, 45, 46, 30, 33, 32, 35, 40, 39, 34, 38, 40, 45, 49, 51, 35, 39, 41, 20, 24, 26, 19, 23, 25, 17, 21, 22, 16, 20, 19, 15, 20, 15, 13, 18, 10, 24, 29, 20, 28, 29, 21, 22, 23, 17, 20, 20, 18, 17, 16, 17, 18, 19, 19, 22, 24, 23, 28, 32, 31, 34, 42, 43, 121, 120, 127, 122, 121, 125, 124, 124, 125, 127, 127, 127, 128, 128, 133, 127, 126, 132, 128, 125, 128, 130, 124, 124, 130, 121, 121, 127, 120, 121, 105, 101, 101, 43, 41, 40, 26, 27, 26, 41, 44, 42, 37, 41, 40, 39, 43, 44, 32, 36, 36, 22, 26, 26, 19, 23, 23, 17, 21, 21, 16, 20, 18, 14, 19, 14, 15, 21, 13, 24, 29, 19, 23, 26, 17, 17, 19, 13, 15, 16, 13, 20, 21, 21, 25, 26, 26, 28, 30, 28, 29, 33, 33, 30, 37, 39, 119, 118, 125, 121, 121, 124, 125, 125, 125, 128, 128, 128, 127, 127, 132, 126, 125, 131, 127, 123, 128, 128, 122, 125, 130, 121, 122, 127, 119, 119, 103, 98, 96, 39, 35, 33, 23, 23, 20, 31, 33, 29, 23, 27, 26, 22, 26, 26, 21, 25, 24, 17, 21, 20, 14, 18, 17, 13, 17, 17, 12, 17, 15, 13, 18, 12, 22, 28, 19, 24, 30, 20, 15, 19, 10, 11, 15, 8, 14, 18, 14, 22, 25, 23, 27, 29, 29, 30, 32, 30, 29, 34, 33, 28, 35, 37, 118, 117, 124, 120, 119, 123, 123, 123, 124, 126, 126, 126, 126, 126, 132, 125, 124, 131, 126, 122, 128, 128, 121, 125, 131, 122, 125, 129, 120, 120, 104, 97, 95, 39, 35, 32, 22, 21, 17, 18, 19, 15, 14, 17, 15, 16, 20, 17, 17, 20, 18, 14, 18, 16, 14, 18, 16, 15, 19, 19, 17, 21, 19, 14, 19, 14, 17, 23, 15, 16, 22, 12, 11, 17, 8, 13, 18, 11, 17, 21, 17, 21, 25, 24, 24, 27, 27, 27, 29, 28, 29, 33, 33, 28, 35, 37, 117, 116, 124, 115, 114, 120, 118, 118, 122, 122, 121, 125, 123, 123, 127, 124, 124, 127, 125, 123, 126, 126, 123, 125, 126, 122, 123, 124, 118, 121, 113, 107, 108, 67, 62, 62, 44, 41, 39, 33, 31, 28, 34, 32, 28, 36, 34, 31, 40, 38, 34, 42, 40, 36, 49, 47, 44, 56, 56, 54, 61, 62, 61, 39, 42, 40, 17, 22, 20, 16, 21, 19, 13, 18, 14, 15, 20, 16, 17, 22, 19, 22, 26, 25, 24, 28, 28, 28, 31, 32, 30, 34, 36, 31, 36, 39, 117, 116, 124, 115, 114, 121, 118, 117, 125, 120, 120, 126, 122, 121, 123, 122, 122, 122, 122, 122, 122, 122, 121, 122, 121, 120, 121, 119, 115, 120, 117, 112, 116, 113, 109, 110, 106, 102, 101, 100, 96, 93, 100, 93, 90, 100, 92, 89, 107, 100, 97, 107, 100, 97, 84, 78, 75, 61, 57, 54, 47, 46, 45, 32, 33, 34, 19, 23, 26, 19, 24, 26, 18, 23, 22, 19, 24, 22, 21, 25, 24, 23, 27, 26, 28, 32, 32, 31, 35, 38, 32, 36, 39, 34, 38, 41, 116, 115, 123, 114, 113, 121, 116, 115, 123, 117, 116, 123, 117, 117, 119, 117, 117, 117, 118, 118, 118, 118, 118, 118, 117, 116, 117, 117, 112, 117, 113, 108, 112, 115, 111, 112, 116, 112, 111, 119, 115, 112, 121, 114, 111, 121, 113, 110, 123, 115, 112, 120, 112, 109, 115, 108, 105, 100, 95, 92, 72, 69, 67, 42, 42, 42, 26, 28, 31, 23, 27, 29, 26, 30, 29, 26, 30, 29, 25, 29, 28, 26, 30, 29, 30, 34, 34, 33, 37, 39, 41, 45, 47, 45, 49, 51], \"height\": 32, \"channels\": 3, \"width\": 32, \"type\": \"image\", \"id\": 4803135312}, {\"format\": \"raw\", \"value\": [73, 82, 81, 33, 40, 37, 30, 34, 30, 41, 44, 39, 47, 53, 47, 63, 72, 70, 81, 91, 97, 68, 77, 91, 65, 76, 90, 63, 75, 86, 117, 127, 133, 132, 140, 144, 45, 50, 54, 32, 34, 39, 44, 44, 49, 40, 43, 46, 26, 31, 30, 26, 27, 22, 26, 26, 20, 23, 27, 24, 26, 33, 34, 28, 32, 34, 29, 33, 34, 24, 27, 28, 21, 25, 25, 26, 30, 29, 29, 34, 34, 38, 43, 43, 39, 43, 41, 43, 44, 41, 34, 34, 31, 31, 30, 28, 140, 153, 158, 70, 81, 84, 50, 58, 60, 58, 65, 65, 79, 89, 88, 97, 109, 112, 76, 86, 95, 50, 59, 71, 50, 57, 66, 45, 53, 58, 120, 129, 135, 121, 129, 136, 45, 51, 59, 47, 51, 60, 45, 47, 56, 85, 88, 95, 90, 94, 95, 57, 56, 54, 52, 50, 47, 47, 49, 49, 36, 41, 45, 32, 38, 44, 32, 38, 44, 23, 29, 35, 30, 36, 42, 42, 48, 54, 42, 51, 58, 27, 38, 44, 46, 55, 60, 76, 83, 86, 25, 30, 31, 19, 24, 22, 146, 163, 172, 123, 137, 145, 118, 130, 136, 84, 96, 100, 88, 100, 104, 85, 99, 105, 67, 78, 88, 48, 54, 65, 54, 57, 62, 82, 85, 85, 139, 146, 151, 106, 113, 122, 82, 89, 99, 90, 96, 108, 70, 75, 89, 112, 118, 128, 137, 141, 146, 100, 100, 101, 83, 81, 81, 64, 66, 69, 37, 43, 50, 28, 37, 45, 38, 47, 56, 40, 48, 59, 40, 47, 60, 40, 47, 62, 40, 53, 65, 21, 36, 48, 46, 60, 72, 91, 104, 113, 31, 42, 45, 21, 32, 29, 116, 134, 146, 137, 152, 162, 144, 158, 166, 121, 132, 140, 109, 121, 127, 105, 116, 123, 114, 122, 132, 102, 107, 117, 105, 108, 110, 150, 152, 149, 133, 139, 141, 93, 101, 107, 112, 120, 128, 99, 108, 119, 82, 90, 104, 109, 118, 130, 127, 134, 141, 127, 130, 134, 117, 119, 122, 104, 108, 114, 85, 95, 103, 77, 89, 97, 78, 90, 99, 79, 90, 102, 81, 91, 107, 79, 89, 107, 66, 81, 96, 50, 68, 82, 52, 68, 86, 76, 91, 104, 42, 56, 57, 31, 45, 40, 62, 77, 89, 78, 91, 101, 116, 128, 136, 142, 152, 159, 107, 114, 120, 97, 102, 107, 109, 113, 122, 144, 148, 156, 149, 154, 155, 137, 142, 138, 86, 92, 90, 81, 89, 89, 117, 127, 130, 89, 100, 108, 64, 77, 88, 77, 92, 103, 86, 100, 108, 88, 97, 101, 90, 98, 101, 91, 103, 110, 90, 106, 114, 93, 109, 114, 102, 117, 123, 109, 124, 135, 127, 141, 157, 105, 119, 138, 81, 97, 112, 76, 94, 109, 69, 84, 105, 64, 78, 93, 53, 67, 66, 52, 65, 57, 44, 57, 68, 59, 69, 79, 95, 103, 111, 77, 83, 90, 68, 71, 75, 75, 75, 78, 63, 64, 71, 84, 88, 97, 92, 99, 102, 84, 94, 90, 84, 92, 87, 86, 95, 90, 98, 109, 109, 84, 97, 102, 56, 72, 80, 44, 63, 73, 50, 69, 77, 55, 69, 74, 56, 69, 73, 55, 72, 78, 54, 75, 82, 60, 79, 81, 67, 86, 88, 86, 104, 112, 125, 142, 156, 74, 90, 108, 76, 93, 107, 90, 106, 121, 79, 92, 113, 61, 72, 88, 58, 69, 66, 79, 90, 80, 55, 74, 82, 88, 98, 107, 73, 77, 85, 14, 17, 23, 21, 23, 26, 22, 22, 24, 16, 18, 22, 32, 37, 43, 70, 79, 84, 86, 98, 102, 85, 98, 99, 81, 95, 96, 81, 95, 98, 56, 72, 78, 46, 63, 70, 43, 62, 70, 53, 69, 78, 61, 70, 78, 58, 64, 72, 51, 60, 68, 46, 59, 66, 43, 61, 63, 46, 62, 65, 81, 95, 101, 111, 127, 135, 74, 93, 102, 71, 88, 96, 78, 93, 104, 75, 89, 106, 55, 66, 79, 17, 22, 25, 28, 37, 31, 73, 98, 104, 130, 140, 149, 117, 119, 127, 69, 71, 77, 20, 22, 25, 0, 2, 4, 19, 22, 25, 60, 67, 72, 115, 124, 132, 153, 165, 174, 118, 134, 142, 82, 99, 107, 63, 80, 87, 50, 67, 74, 60, 77, 84, 67, 84, 90, 72, 85, 91, 69, 76, 84, 60, 64, 74, 46, 53, 62, 33, 47, 53, 35, 53, 57, 40, 55, 60, 95, 106, 112, 106, 119, 125, 69, 88, 92, 59, 75, 80, 71, 87, 94, 83, 99, 111, 58, 68, 79, 7, 9, 16, 5, 3, 4, 133, 153, 159, 163, 174, 182, 143, 148, 156, 152, 157, 163, 111, 115, 120, 113, 117, 121, 161, 167, 172, 192, 200, 206, 157, 166, 174, 98, 109, 117, 94, 108, 116, 70, 85, 92, 63, 78, 85, 63, 78, 85, 72, 87, 94, 80, 97, 100, 72, 88, 88, 61, 73, 77, 49, 63, 71, 32, 54, 62, 25, 53, 60, 33, 59, 63, 38, 56, 62, 103, 114, 122, 88, 97, 106, 52, 64, 72, 54, 68, 74, 58, 74, 81, 68, 84, 96, 97, 108, 119, 53, 58, 64, 17, 8, 12, 195, 212, 219, 184, 197, 204, 111, 121, 128, 142, 150, 157, 186, 193, 200, 182, 190, 197, 174, 182, 189, 162, 171, 178, 113, 122, 130, 61, 71, 79, 64, 76, 84, 54, 67, 75, 56, 69, 77, 58, 70, 78, 67, 80, 88, 74, 90, 91, 70, 86, 83, 62, 78, 79, 51, 73, 78, 47, 80, 88, 41, 81, 87, 47, 79, 82, 52, 73, 78, 106, 118, 126, 83, 90, 101, 85, 94, 104, 64, 76, 83, 42, 57, 65, 81, 97, 109, 136, 148, 158, 104, 109, 115, 38, 24, 30, 189, 203, 208, 172, 186, 192, 131, 145, 152, 121, 132, 141, 138, 148, 157, 125, 136, 146, 116, 127, 135, 107, 117, 126, 93, 102, 111, 82, 91, 98, 73, 83, 92, 71, 81, 90, 66, 77, 85, 59, 69, 78, 53, 64, 73, 47, 59, 61, 48, 61, 59, 52, 66, 68, 59, 81, 86, 82, 117, 124, 85, 127, 132, 88, 119, 123, 77, 98, 105, 104, 115, 125, 74, 80, 92, 109, 117, 128, 102, 114, 121, 103, 118, 126, 131, 147, 159, 147, 158, 168, 120, 125, 131, 39, 31, 35, 127, 138, 142, 121, 137, 142, 97, 114, 121, 92, 106, 115, 96, 110, 121, 102, 117, 129, 99, 112, 123, 80, 92, 101, 76, 86, 94, 79, 87, 94, 74, 84, 92, 73, 82, 91, 68, 78, 87, 58, 68, 77, 48, 58, 67, 40, 49, 55, 37, 45, 48, 41, 49, 55, 45, 60, 67, 54, 80, 87, 66, 100, 104, 86, 111, 119, 112, 129, 139, 102, 112, 125, 52, 61, 74, 81, 93, 105, 95, 109, 117, 118, 134, 141, 107, 123, 135, 115, 126, 136, 94, 98, 104, 25, 24, 27, 65, 72, 77, 95, 112, 116, 70, 90, 96, 78, 95, 104, 103, 119, 131, 97, 114, 128, 83, 98, 109, 51, 63, 73, 40, 50, 58, 43, 51, 58, 46, 54, 63, 47, 56, 65, 47, 55, 64, 45, 54, 63, 46, 55, 64, 46, 52, 62, 48, 51, 61, 46, 49, 59, 47, 53, 62, 61, 77, 83, 96, 118, 123, 131, 150, 161, 156, 169, 183, 118, 128, 143, 88, 100, 114, 106, 123, 134, 105, 121, 129, 93, 108, 116, 80, 96, 107, 81, 92, 102, 59, 63, 70, 20, 19, 21, 35, 40, 43, 88, 100, 104, 85, 100, 107, 103, 118, 128, 106, 118, 130, 82, 92, 104, 67, 76, 86, 49, 56, 64, 36, 43, 48, 33, 39, 44, 35, 40, 48, 36, 40, 49, 37, 42, 50, 44, 49, 56, 60, 65, 72, 60, 62, 71, 50, 54, 64, 62, 70, 76, 105, 111, 118, 146, 153, 162, 164, 179, 190, 168, 187, 202, 154, 170, 189, 132, 145, 164, 105, 118, 133, 93, 109, 117, 89, 103, 110, 84, 96, 105, 79, 91, 101, 58, 66, 74, 38, 41, 45, 23, 24, 24, 31, 34, 37, 92, 99, 103, 105, 115, 123, 99, 112, 123, 77, 86, 97, 66, 69, 80, 59, 62, 71, 58, 61, 67, 60, 64, 68, 62, 65, 69, 58, 59, 67, 54, 54, 63, 53, 53, 61, 70, 71, 77, 74, 75, 80, 64, 63, 71, 95, 102, 108, 150, 166, 166, 180, 187, 192, 188, 191, 204, 179, 193, 208, 157, 177, 195, 146, 164, 187, 135, 150, 173, 87, 100, 116, 68, 81, 86, 81, 91, 98, 93, 101, 111, 92, 100, 107, 55, 61, 64, 52, 55, 55, 73, 74, 73, 30, 33, 35, 84, 89, 94, 105, 115, 123, 78, 91, 101, 39, 49, 60, 47, 50, 61, 59, 63, 72, 61, 65, 72, 73, 77, 82, 78, 83, 87, 80, 83, 89, 79, 81, 88, 78, 80, 87, 84, 86, 93, 78, 80, 87, 138, 138, 147, 193, 202, 208, 193, 208, 208, 200, 203, 209, 198, 199, 212, 182, 195, 210, 177, 195, 212, 168, 183, 203, 124, 137, 157, 75, 87, 101, 67, 78, 84, 90, 100, 107, 90, 97, 107, 84, 90, 96, 45, 49, 52, 55, 57, 56, 100, 100, 98, 34, 36, 38, 86, 92, 96, 106, 116, 123, 69, 82, 93, 29, 40, 51, 27, 33, 45, 39, 45, 55, 54, 61, 69, 64, 71, 76, 68, 75, 79, 76, 79, 86, 78, 81, 88, 80, 83, 91, 96, 99, 109, 170, 173, 182, 235, 237, 247, 227, 237, 243, 224, 236, 239, 229, 228, 235, 219, 216, 228, 213, 223, 236, 195, 207, 223, 125, 136, 152, 85, 96, 111, 77, 87, 98, 74, 85, 91, 81, 90, 98, 74, 80, 89, 80, 84, 89, 52, 54, 56, 63, 65, 61, 87, 88, 84, 26, 28, 30, 73, 79, 83, 96, 106, 113, 90, 103, 113, 49, 60, 72, 37, 44, 57, 34, 42, 53, 42, 50, 59, 49, 57, 64, 54, 62, 67, 64, 69, 74, 66, 71, 77, 65, 69, 78, 132, 136, 147, 206, 210, 221, 206, 211, 224, 202, 213, 221, 205, 215, 219, 218, 211, 220, 205, 199, 209, 191, 199, 209, 137, 144, 158, 37, 44, 56, 40, 48, 57, 79, 88, 95, 70, 79, 86, 70, 77, 85, 87, 91, 98, 105, 107, 111, 73, 74, 74, 77, 76, 72, 90, 89, 84, 23, 25, 27, 58, 64, 68, 93, 102, 110, 104, 117, 128, 52, 62, 75, 32, 38, 52, 43, 51, 63, 46, 54, 64, 47, 56, 64, 45, 54, 59, 52, 60, 64, 62, 69, 74, 79, 86, 95, 102, 108, 122, 108, 113, 131, 108, 115, 133, 100, 113, 124, 98, 104, 111, 132, 120, 129, 119, 109, 120, 122, 128, 138, 88, 91, 103, 25, 28, 36, 34, 39, 43, 74, 82, 86, 75, 83, 91, 87, 92, 100, 86, 88, 94, 63, 64, 67, 43, 43, 41, 77, 75, 70, 89, 88, 81, 61, 63, 65, 68, 74, 78, 80, 89, 97, 91, 104, 114, 81, 93, 106, 68, 76, 91, 56, 65, 77, 50, 58, 69, 47, 56, 65, 43, 51, 58, 57, 65, 68, 77, 85, 90, 93, 101, 111, 74, 80, 97, 89, 94, 115, 92, 100, 120, 81, 94, 107, 80, 84, 92, 102, 86, 97, 98, 86, 97, 107, 110, 119, 67, 66, 76, 21, 20, 25, 40, 43, 43, 82, 88, 89, 89, 96, 104, 70, 74, 83, 43, 44, 49, 34, 34, 36, 52, 50, 48, 80, 77, 71, 86, 84, 77, 120, 125, 124, 89, 96, 99, 66, 76, 84, 84, 96, 109, 72, 81, 95, 87, 93, 106, 96, 103, 115, 95, 104, 116, 91, 100, 112, 83, 93, 103, 90, 100, 105, 107, 117, 123, 115, 124, 137, 103, 111, 128, 117, 125, 143, 110, 119, 136, 110, 121, 133, 126, 130, 139, 123, 115, 127, 115, 109, 122, 100, 104, 113, 45, 44, 51, 14, 13, 16, 56, 58, 57, 110, 113, 115, 71, 75, 81, 27, 29, 34, 39, 39, 39, 69, 69, 68, 84, 83, 79, 87, 84, 78, 87, 86, 79, 123, 129, 126, 74, 82, 84, 48, 57, 67, 69, 80, 96, 56, 64, 78, 69, 73, 83, 74, 79, 90, 73, 80, 93, 73, 82, 96, 76, 87, 100, 93, 104, 109, 107, 118, 124, 109, 119, 132, 110, 120, 135, 117, 127, 139, 123, 132, 144, 130, 137, 149, 139, 145, 155, 123, 127, 139, 107, 110, 123, 81, 85, 96, 29, 30, 33, 16, 15, 16, 62, 62, 63, 96, 97, 98, 40, 41, 43, 43, 43, 41, 73, 72, 68, 85, 84, 80, 88, 87, 82, 88, 87, 82, 86, 86, 80, 69, 71, 72, 62, 67, 74, 50, 59, 71, 63, 75, 93, 35, 46, 60, 36, 43, 52, 40, 47, 56, 48, 55, 63, 59, 66, 74, 66, 74, 80, 61, 70, 70, 69, 78, 81, 78, 85, 95, 78, 85, 96, 80, 87, 95, 82, 90, 98, 87, 93, 105, 88, 94, 106, 80, 86, 98, 77, 83, 96, 63, 68, 78, 29, 30, 32, 25, 25, 25, 39, 39, 39, 47, 47, 47, 53, 53, 53, 81, 80, 77, 89, 88, 83, 89, 88, 83, 88, 87, 82, 89, 88, 83, 88, 89, 83, 29, 26, 33, 57, 60, 70, 84, 92, 106, 85, 99, 116, 30, 44, 58, 11, 23, 31, 18, 27, 33, 26, 33, 37, 29, 34, 36, 39, 42, 41, 43, 47, 42, 51, 55, 54, 66, 69, 75, 49, 51, 59, 45, 48, 51, 43, 48, 54, 53, 60, 71, 61, 68, 79, 46, 53, 63, 58, 65, 76, 56, 62, 70, 26, 27, 28, 32, 32, 30, 29, 29, 28, 49, 49, 48, 79, 79, 78, 91, 90, 87, 93, 92, 87, 91, 90, 85, 90, 89, 84, 87, 86, 81, 84, 84, 79, 17, 13, 21, 29, 30, 40, 95, 101, 114, 109, 121, 135, 65, 79, 92, 30, 43, 51, 15, 25, 31, 13, 20, 23, 12, 15, 16, 18, 20, 17, 40, 41, 35, 55, 56, 53, 33, 33, 37, 14, 13, 19, 13, 14, 15, 15, 18, 22, 46, 53, 61, 49, 57, 65, 30, 36, 45, 56, 63, 72, 54, 60, 66, 15, 17, 15, 31, 32, 27, 53, 54, 50, 76, 77, 73, 86, 87, 82, 94, 93, 89, 94, 93, 88, 91, 90, 85, 91, 90, 85, 84, 82, 77, 82, 82, 77, 20, 19, 25, 14, 14, 22, 37, 41, 50, 90, 96, 106, 104, 111, 122, 87, 97, 106, 75, 83, 90, 57, 64, 70, 48, 54, 58, 44, 48, 50, 49, 51, 46, 54, 55, 53, 24, 24, 29, 28, 27, 33, 25, 25, 28, 41, 44, 47, 77, 84, 90, 101, 108, 114, 81, 88, 95, 68, 75, 82, 47, 53, 57, 23, 24, 20, 58, 59, 53, 73, 74, 69, 80, 81, 76, 86, 87, 81, 93, 92, 87, 94, 93, 88, 92, 92, 86, 91, 90, 85, 86, 85, 80, 103, 103, 98, 26, 30, 30, 11, 14, 16, 10, 10, 14, 18, 16, 22, 51, 52, 60, 91, 96, 105, 107, 113, 123, 115, 121, 132, 116, 124, 136, 106, 114, 124, 57, 62, 60, 78, 81, 81, 76, 78, 85, 65, 67, 75, 76, 78, 83, 108, 113, 117, 144, 151, 156, 172, 179, 184, 128, 135, 140, 70, 78, 83, 35, 40, 44, 31, 32, 28, 67, 68, 62, 77, 78, 72, 83, 84, 78, 85, 86, 80, 88, 87, 82, 89, 88, 83, 89, 88, 83, 89, 88, 83, 86, 85, 80, 138, 138, 133, 112, 120, 118, 59, 63, 64, 28, 29, 31, 13, 10, 14, 9, 8, 13, 13, 16, 22, 33, 38, 46, 61, 66, 76, 79, 85, 97, 87, 94, 104, 55, 61, 58, 78, 82, 81, 97, 100, 107, 89, 91, 99, 93, 96, 100, 102, 106, 110, 107, 111, 115, 93, 98, 102, 67, 71, 76, 42, 47, 51, 17, 20, 23, 24, 25, 21, 60, 61, 54, 80, 80, 74, 81, 82, 75, 82, 83, 77, 85, 84, 78, 86, 85, 79, 85, 84, 79, 83, 82, 77, 96, 96, 91, 175, 176, 171, 222, 227, 230, 181, 186, 189, 126, 130, 134, 76, 78, 82, 38, 44, 46, 13, 20, 20, 6, 11, 13, 4, 8, 11, 6, 8, 13, 20, 21, 24, 46, 48, 39, 41, 43, 38, 35, 35, 39, 30, 30, 36, 29, 30, 31, 31, 32, 32, 32, 32, 35, 29, 29, 32, 23, 22, 25, 18, 18, 21, 20, 20, 21, 44, 43, 38, 71, 71, 63, 81, 81, 74, 82, 82, 74, 84, 84, 77, 86, 84, 76, 86, 84, 76, 83, 83, 77, 82, 83, 78, 130, 133, 128, 194, 198, 193, 236, 241, 245, 229, 234, 238, 191, 196, 199, 170, 175, 179, 156, 164, 166, 119, 128, 128, 73, 80, 80, 31, 35, 37, 12, 14, 17, 12, 13, 13, 43, 45, 36, 17, 18, 13, 3, 2, 4, 4, 3, 6, 3, 3, 2, 5, 5, 2, 6, 5, 4, 9, 8, 7, 20, 19, 17, 45, 43, 42, 58, 57, 54, 71, 71, 63, 80, 81, 72, 79, 79, 71, 76, 76, 68, 79, 79, 71, 84, 82, 74, 87, 85, 76, 82, 83, 76, 95, 97, 92, 177, 181, 176, 186, 190, 185, 224, 229, 233, 201, 206, 210, 165, 170, 174, 212, 217, 221, 235, 241, 244, 224, 231, 233, 181, 187, 189, 146, 151, 153, 107, 110, 113, 74, 76, 78, 59, 60, 55, 35, 36, 32, 19, 19, 18, 17, 17, 18, 17, 17, 15, 18, 18, 14, 26, 25, 19, 42, 42, 35, 60, 59, 52, 79, 79, 72, 87, 87, 80, 88, 88, 80, 90, 90, 82, 85, 85, 77, 68, 68, 60, 64, 64, 56, 69, 67, 58, 76, 74, 65, 76, 77, 70, 119, 121, 115, 195, 199, 195, 150, 154, 150, 191, 196, 200, 191, 196, 200, 204, 209, 213, 227, 232, 235, 227, 231, 235, 216, 220, 224, 177, 181, 184, 205, 210, 213, 174, 179, 182, 142, 146, 149, 81, 82, 81, 85, 85, 82, 68, 69, 66, 57, 57, 54, 59, 60, 56, 63, 63, 56, 69, 69, 58, 77, 77, 67, 83, 83, 72, 84, 84, 74, 86, 86, 76, 89, 89, 80, 89, 89, 81, 84, 84, 76, 74, 74, 66, 68, 68, 60, 64, 62, 53, 61, 59, 50, 71, 72, 65, 142, 144, 138, 168, 172, 168, 102, 106, 101], \"height\": 32, \"channels\": 3, \"width\": 32, \"type\": \"image\", \"id\": 4803135376}], \"selected_variable\": {\"name\": [\"<SArray>\"], \"dtype\": \"Image\", \"view_component\": \"Images\", \"view_file\": \"sarray\", \"descriptives\": {\"rows\": 5}, \"type\": \"SArray\", \"view_components\": [\"Images\"]}}, e);\n",
       "                });\n",
       "            })();\n",
       "        "
      ]
     },
     "metadata": {},
     "output_type": "display_data"
    }
   ],
   "source": [
    "get_result(3)"
   ]
  },
  {
   "cell_type": "code",
   "execution_count": 67,
   "metadata": {
    "collapsed": false
   },
   "outputs": [
    {
     "data": {
      "text/html": [
       "<pre>Starting pairwise querying.</pre>"
      ],
      "text/plain": [
       "Starting pairwise querying."
      ]
     },
     "metadata": {},
     "output_type": "display_data"
    },
    {
     "data": {
      "text/html": [
       "<pre>+--------------+---------+-------------+--------------+</pre>"
      ],
      "text/plain": [
       "+--------------+---------+-------------+--------------+"
      ]
     },
     "metadata": {},
     "output_type": "display_data"
    },
    {
     "data": {
      "text/html": [
       "<pre>| Query points | # Pairs | % Complete. | Elapsed Time |</pre>"
      ],
      "text/plain": [
       "| Query points | # Pairs | % Complete. | Elapsed Time |"
      ]
     },
     "metadata": {},
     "output_type": "display_data"
    },
    {
     "data": {
      "text/html": [
       "<pre>+--------------+---------+-------------+--------------+</pre>"
      ],
      "text/plain": [
       "+--------------+---------+-------------+--------------+"
      ]
     },
     "metadata": {},
     "output_type": "display_data"
    },
    {
     "data": {
      "text/html": [
       "<pre>| 0            | 1       | 0.0498753   | 12.065ms     |</pre>"
      ],
      "text/plain": [
       "| 0            | 1       | 0.0498753   | 12.065ms     |"
      ]
     },
     "metadata": {},
     "output_type": "display_data"
    },
    {
     "data": {
      "text/html": [
       "<pre>| Done         |         | 100         | 279.639ms    |</pre>"
      ],
      "text/plain": [
       "| Done         |         | 100         | 279.639ms    |"
      ]
     },
     "metadata": {},
     "output_type": "display_data"
    },
    {
     "data": {
      "text/html": [
       "<pre>+--------------+---------+-------------+--------------+</pre>"
      ],
      "text/plain": [
       "+--------------+---------+-------------+--------------+"
      ]
     },
     "metadata": {},
     "output_type": "display_data"
    },
    {
     "data": {
      "application/javascript": [
       "$(\"head\").append($(\"<link/>\").attr({\n",
       "  rel:  \"stylesheet\",\n",
       "  type: \"text/css\",\n",
       "  href: \"//cdnjs.cloudflare.com/ajax/libs/font-awesome/4.1.0/css/font-awesome.min.css\"\n",
       "}));\n",
       "$(\"head\").append($(\"<link/>\").attr({\n",
       "  rel:  \"stylesheet\",\n",
       "  type: \"text/css\",\n",
       "  href: \"https://static.turi.com/products/graphlab-create/2.1/canvas/css/canvas.css\"\n",
       "}));\n",
       "\n",
       "            (function(){\n",
       "\n",
       "                var e = null;\n",
       "                if (typeof element == 'undefined') {\n",
       "                    var scripts = document.getElementsByTagName('script');\n",
       "                    var thisScriptTag = scripts[scripts.length-1];\n",
       "                    var parentDiv = thisScriptTag.parentNode;\n",
       "                    e = document.createElement('div');\n",
       "                    parentDiv.appendChild(e);\n",
       "                } else {\n",
       "                    e = element[0];\n",
       "                }\n",
       "\n",
       "                if (typeof requirejs !== 'undefined') {\n",
       "                    // disable load timeout; ipython_app.js is large and can take a while to load.\n",
       "                    requirejs.config({waitSeconds: 0});\n",
       "                }\n",
       "\n",
       "                require(['https://static.turi.com/products/graphlab-create/2.1/canvas/js/ipython_app.js'], function(IPythonApp){\n",
       "                    var app = new IPythonApp();\n",
       "                    app.attachView('sarray','Images', {\"ipython\": true, \"rows\": [{\"format\": \"raw\", \"value\": [219, 218, 223, 217, 216, 221, 217, 216, 221, 216, 216, 220, 215, 214, 219, 217, 216, 221, 217, 216, 221, 215, 214, 219, 214, 214, 218, 218, 217, 222, 220, 219, 224, 219, 218, 223, 217, 221, 224, 220, 224, 226, 219, 223, 226, 217, 221, 224, 214, 218, 221, 177, 181, 184, 129, 133, 136, 107, 110, 113, 139, 143, 146, 206, 210, 213, 156, 160, 163, 81, 85, 88, 100, 104, 107, 109, 113, 116, 61, 64, 67, 59, 62, 65, 65, 69, 72, 64, 68, 71, 66, 70, 73, 51, 55, 58, 222, 221, 227, 219, 218, 223, 219, 218, 223, 218, 217, 222, 217, 216, 221, 219, 218, 223, 220, 219, 224, 220, 218, 224, 220, 219, 224, 214, 213, 218, 205, 204, 209, 191, 190, 195, 195, 198, 201, 195, 199, 202, 192, 196, 199, 191, 195, 198, 177, 181, 184, 122, 126, 129, 95, 99, 102, 93, 97, 100, 110, 115, 118, 142, 146, 149, 83, 87, 90, 56, 60, 63, 61, 65, 68, 56, 60, 63, 51, 55, 58, 52, 56, 59, 56, 60, 63, 56, 60, 63, 54, 58, 61, 47, 51, 54, 204, 205, 209, 196, 196, 200, 195, 195, 199, 190, 190, 195, 190, 191, 195, 199, 199, 203, 208, 208, 212, 202, 202, 207, 180, 180, 185, 153, 153, 157, 126, 126, 131, 104, 105, 109, 112, 115, 118, 105, 109, 112, 104, 108, 111, 99, 103, 106, 85, 88, 91, 68, 70, 74, 61, 63, 67, 58, 61, 64, 62, 65, 69, 64, 67, 70, 40, 43, 47, 45, 47, 51, 49, 52, 56, 43, 45, 49, 43, 46, 49, 49, 52, 55, 50, 52, 56, 47, 50, 54, 48, 51, 54, 41, 43, 47, 149, 152, 156, 146, 149, 152, 143, 146, 149, 127, 130, 134, 124, 128, 131, 132, 135, 138, 145, 149, 152, 134, 137, 141, 104, 107, 110, 85, 88, 91, 80, 83, 87, 83, 87, 90, 79, 83, 86, 74, 78, 81, 79, 83, 86, 66, 70, 73, 48, 49, 53, 48, 47, 52, 48, 48, 52, 42, 42, 47, 44, 44, 49, 47, 47, 51, 38, 38, 42, 40, 40, 45, 43, 43, 48, 41, 40, 45, 36, 36, 41, 41, 41, 46, 44, 44, 49, 45, 44, 49, 44, 44, 49, 37, 37, 42, 107, 111, 115, 101, 105, 108, 99, 103, 106, 86, 90, 93, 87, 91, 94, 88, 92, 95, 88, 92, 95, 89, 93, 96, 94, 98, 101, 97, 101, 104, 93, 97, 100, 87, 91, 94, 86, 90, 93, 70, 74, 77, 69, 73, 76, 48, 51, 54, 38, 38, 43, 40, 39, 44, 41, 40, 45, 35, 34, 39, 34, 33, 38, 40, 39, 44, 37, 36, 41, 36, 35, 40, 39, 38, 43, 37, 36, 41, 33, 32, 37, 39, 38, 43, 43, 42, 47, 39, 38, 43, 42, 41, 46, 35, 34, 39, 144, 148, 151, 136, 140, 143, 129, 133, 136, 129, 133, 136, 147, 151, 154, 136, 140, 143, 111, 115, 118, 125, 129, 132, 132, 136, 139, 142, 146, 149, 133, 137, 140, 108, 112, 115, 109, 113, 116, 88, 92, 95, 80, 84, 87, 48, 51, 54, 43, 43, 48, 41, 39, 44, 35, 34, 39, 32, 31, 36, 31, 30, 35, 31, 30, 35, 35, 34, 39, 36, 35, 40, 36, 35, 40, 33, 32, 37, 29, 28, 33, 35, 34, 39, 45, 44, 49, 40, 39, 44, 36, 35, 40, 32, 31, 36, 211, 213, 217, 205, 207, 211, 210, 211, 215, 214, 216, 220, 230, 231, 235, 185, 186, 190, 107, 108, 112, 131, 134, 137, 138, 142, 145, 120, 124, 127, 108, 112, 115, 95, 99, 102, 94, 98, 101, 89, 93, 96, 90, 94, 97, 83, 87, 90, 86, 88, 91, 65, 66, 70, 36, 37, 41, 29, 31, 35, 27, 27, 32, 23, 22, 27, 30, 29, 34, 33, 32, 37, 33, 32, 37, 30, 29, 34, 23, 22, 27, 29, 28, 33, 47, 46, 51, 39, 38, 43, 26, 25, 30, 25, 24, 29, 218, 218, 223, 210, 209, 214, 227, 226, 231, 222, 222, 226, 225, 225, 229, 211, 211, 216, 133, 132, 137, 94, 95, 99, 92, 96, 99, 67, 71, 74, 68, 72, 75, 70, 74, 77, 69, 73, 76, 70, 74, 77, 74, 78, 81, 79, 83, 86, 84, 88, 91, 78, 81, 84, 52, 56, 59, 28, 31, 35, 25, 26, 30, 23, 22, 27, 27, 26, 31, 31, 30, 35, 30, 29, 34, 30, 29, 34, 25, 24, 29, 27, 26, 31, 43, 42, 47, 32, 31, 36, 25, 24, 29, 24, 23, 28, 211, 210, 215, 201, 200, 205, 211, 210, 215, 217, 216, 221, 219, 218, 223, 218, 217, 222, 132, 131, 136, 79, 80, 84, 73, 77, 80, 58, 62, 65, 66, 70, 73, 65, 69, 72, 65, 69, 72, 65, 69, 72, 67, 71, 74, 64, 68, 71, 65, 69, 72, 71, 74, 78, 66, 70, 73, 39, 43, 46, 25, 26, 30, 23, 22, 27, 32, 31, 36, 37, 36, 41, 33, 32, 37, 28, 27, 32, 23, 22, 27, 24, 22, 27, 38, 37, 42, 27, 25, 30, 26, 25, 30, 25, 23, 29, 213, 212, 217, 204, 203, 208, 203, 202, 207, 205, 204, 209, 217, 216, 221, 198, 198, 203, 96, 95, 100, 74, 75, 79, 66, 70, 73, 55, 59, 62, 66, 70, 73, 66, 70, 73, 65, 69, 72, 64, 68, 71, 66, 70, 73, 64, 68, 71, 65, 69, 72, 68, 72, 75, 71, 75, 78, 58, 63, 66, 33, 34, 38, 31, 30, 35, 41, 40, 45, 32, 31, 36, 35, 34, 39, 34, 33, 38, 26, 25, 30, 36, 35, 40, 44, 43, 48, 44, 43, 48, 53, 53, 58, 41, 41, 45, 219, 218, 223, 211, 210, 215, 204, 203, 208, 202, 203, 207, 202, 205, 208, 173, 176, 179, 83, 86, 90, 54, 57, 60, 67, 71, 74, 53, 57, 60, 64, 68, 71, 62, 66, 69, 62, 66, 69, 63, 67, 70, 63, 67, 70, 61, 65, 68, 62, 66, 69, 65, 69, 72, 68, 72, 77, 67, 71, 77, 51, 54, 58, 73, 76, 79, 86, 87, 91, 51, 50, 55, 52, 53, 57, 53, 56, 60, 48, 51, 54, 61, 64, 67, 57, 60, 63, 74, 76, 80, 90, 93, 96, 68, 70, 74, 221, 220, 225, 214, 213, 218, 209, 208, 213, 206, 208, 212, 178, 183, 186, 143, 147, 150, 110, 114, 117, 63, 67, 70, 55, 59, 62, 50, 54, 57, 57, 61, 64, 63, 67, 70, 63, 67, 70, 62, 66, 69, 63, 67, 70, 64, 68, 71, 67, 71, 74, 72, 76, 79, 73, 76, 82, 74, 77, 84, 69, 72, 77, 140, 144, 147, 200, 202, 206, 177, 176, 181, 158, 159, 163, 123, 128, 131, 105, 109, 112, 107, 111, 114, 83, 87, 90, 85, 89, 92, 105, 109, 112, 79, 83, 86, 222, 221, 226, 218, 217, 222, 216, 215, 220, 214, 216, 220, 165, 169, 172, 130, 134, 137, 139, 143, 146, 94, 98, 101, 65, 69, 72, 63, 67, 70, 66, 70, 73, 76, 80, 83, 82, 86, 89, 90, 94, 97, 96, 100, 103, 99, 103, 106, 104, 108, 111, 109, 113, 116, 111, 114, 120, 113, 116, 123, 129, 133, 137, 163, 168, 170, 195, 197, 201, 211, 210, 215, 213, 214, 218, 205, 209, 212, 201, 205, 208, 192, 196, 199, 171, 175, 178, 158, 162, 165, 150, 154, 157, 124, 128, 131, 223, 222, 227, 220, 219, 224, 221, 220, 225, 217, 219, 223, 142, 146, 149, 134, 138, 142, 147, 150, 154, 123, 127, 130, 96, 100, 103, 86, 90, 93, 66, 70, 73, 66, 70, 73, 71, 75, 78, 79, 83, 86, 89, 93, 96, 94, 98, 101, 95, 99, 102, 97, 101, 104, 104, 108, 113, 114, 117, 124, 123, 127, 131, 133, 137, 140, 151, 153, 157, 174, 174, 179, 196, 198, 202, 205, 209, 212, 206, 210, 213, 203, 206, 209, 203, 206, 209, 205, 207, 211, 201, 204, 208, 192, 195, 198, 223, 222, 227, 219, 218, 223, 221, 220, 225, 212, 214, 218, 115, 119, 122, 135, 139, 144, 152, 155, 162, 138, 141, 146, 121, 125, 128, 98, 102, 105, 71, 75, 78, 70, 74, 77, 72, 76, 79, 55, 59, 62, 58, 62, 65, 59, 63, 66, 58, 62, 65, 58, 62, 65, 59, 63, 66, 77, 81, 84, 84, 88, 91, 84, 88, 91, 102, 106, 109, 116, 119, 122, 141, 145, 148, 198, 202, 205, 206, 209, 213, 203, 203, 207, 200, 200, 205, 201, 200, 205, 202, 202, 207, 204, 204, 209, 222, 221, 226, 218, 217, 222, 220, 219, 224, 212, 214, 218, 116, 120, 123, 121, 124, 129, 139, 142, 149, 136, 140, 145, 123, 127, 130, 83, 87, 90, 63, 67, 70, 58, 62, 65, 92, 96, 99, 66, 70, 73, 44, 48, 51, 35, 39, 42, 36, 40, 43, 39, 43, 46, 38, 42, 45, 59, 63, 66, 64, 68, 71, 54, 58, 61, 63, 67, 70, 78, 82, 85, 85, 89, 92, 161, 165, 168, 213, 215, 219, 210, 209, 214, 208, 207, 212, 208, 207, 212, 205, 204, 209, 204, 203, 208, 219, 218, 223, 215, 214, 219, 217, 216, 221, 210, 212, 216, 118, 122, 125, 103, 107, 112, 116, 119, 126, 117, 121, 126, 103, 107, 110, 60, 64, 67, 63, 67, 70, 91, 95, 98, 172, 176, 179, 102, 106, 109, 82, 86, 89, 61, 65, 68, 38, 42, 45, 59, 63, 66, 67, 71, 74, 73, 77, 80, 67, 71, 74, 61, 65, 68, 55, 59, 62, 71, 75, 78, 95, 99, 102, 136, 141, 144, 188, 190, 194, 198, 197, 202, 205, 204, 209, 205, 204, 209, 209, 208, 213, 208, 208, 213, 207, 209, 213, 205, 207, 211, 209, 211, 215, 203, 206, 210, 116, 120, 123, 100, 104, 108, 109, 113, 118, 101, 105, 109, 85, 89, 92, 58, 62, 65, 62, 66, 69, 125, 129, 132, 235, 239, 242, 160, 164, 167, 148, 152, 155, 119, 123, 126, 54, 58, 61, 90, 94, 97, 111, 115, 118, 107, 111, 114, 85, 88, 91, 84, 85, 89, 63, 66, 69, 85, 89, 92, 141, 145, 148, 150, 154, 157, 160, 163, 167, 171, 172, 178, 174, 175, 181, 176, 177, 183, 189, 190, 195, 199, 200, 204, 189, 193, 196, 188, 192, 195, 193, 196, 199, 190, 194, 197, 112, 116, 119, 100, 104, 107, 115, 119, 122, 93, 97, 101, 81, 85, 88, 66, 70, 73, 64, 68, 71, 109, 113, 116, 204, 208, 210, 147, 151, 154, 152, 156, 159, 140, 144, 147, 59, 63, 66, 93, 97, 100, 120, 124, 127, 116, 121, 124, 99, 100, 104, 96, 95, 100, 65, 67, 71, 90, 94, 97, 145, 149, 152, 126, 130, 133, 150, 154, 158, 159, 161, 168, 156, 159, 166, 156, 159, 166, 161, 164, 170, 168, 172, 176, 181, 185, 188, 179, 183, 186, 180, 184, 187, 176, 180, 183, 104, 108, 111, 68, 72, 75, 109, 113, 116, 98, 102, 105, 88, 92, 95, 72, 76, 79, 65, 69, 72, 82, 86, 89, 107, 111, 114, 76, 80, 83, 88, 92, 95, 98, 102, 105, 53, 57, 60, 74, 78, 81, 95, 99, 102, 94, 98, 101, 88, 89, 93, 86, 84, 89, 65, 66, 70, 82, 86, 89, 106, 110, 113, 100, 104, 107, 144, 148, 152, 159, 162, 169, 155, 158, 165, 154, 157, 164, 153, 156, 162, 153, 157, 161, 172, 176, 179, 173, 177, 180, 171, 175, 178, 163, 167, 170, 88, 92, 95, 46, 50, 53, 79, 83, 86, 101, 105, 108, 103, 107, 110, 81, 85, 88, 61, 65, 68, 75, 79, 82, 65, 69, 72, 57, 61, 64, 59, 63, 66, 61, 65, 68, 57, 61, 64, 64, 68, 71, 77, 81, 84, 81, 85, 88, 105, 106, 111, 98, 96, 102, 80, 82, 86, 89, 93, 96, 92, 96, 99, 88, 92, 95, 137, 141, 145, 158, 161, 168, 154, 157, 164, 151, 154, 162, 149, 152, 159, 151, 155, 158, 160, 164, 167, 164, 168, 171, 167, 171, 174, 158, 162, 165, 105, 109, 112, 64, 67, 72, 71, 74, 80, 81, 85, 91, 103, 106, 112, 79, 83, 88, 53, 57, 60, 69, 73, 76, 60, 64, 67, 58, 62, 65, 59, 63, 66, 61, 65, 68, 63, 67, 70, 66, 70, 73, 74, 80, 84, 88, 95, 100, 114, 119, 125, 117, 122, 128, 107, 111, 115, 93, 97, 100, 72, 76, 79, 67, 71, 74, 133, 137, 141, 154, 157, 164, 152, 155, 162, 153, 156, 163, 149, 152, 159, 149, 153, 159, 156, 160, 163, 156, 160, 163, 166, 170, 173, 160, 164, 167, 144, 148, 151, 123, 127, 132, 105, 108, 115, 84, 87, 94, 101, 104, 111, 79, 82, 88, 52, 56, 59, 66, 70, 73, 57, 61, 64, 51, 55, 58, 45, 49, 52, 47, 51, 54, 52, 56, 59, 63, 67, 70, 77, 82, 86, 89, 94, 98, 104, 109, 113, 109, 114, 119, 94, 99, 102, 69, 73, 76, 55, 59, 62, 55, 59, 62, 139, 142, 146, 158, 161, 168, 152, 155, 162, 152, 155, 162, 148, 151, 158, 147, 150, 157, 168, 172, 175, 156, 160, 163, 163, 167, 170, 164, 168, 171, 152, 156, 159, 142, 145, 151, 129, 132, 139, 103, 106, 113, 96, 99, 106, 75, 78, 84, 61, 65, 68, 73, 77, 80, 64, 68, 71, 74, 78, 81, 31, 35, 38, 13, 17, 20, 25, 29, 32, 41, 45, 48, 42, 44, 46, 46, 48, 49, 54, 55, 56, 50, 51, 52, 40, 43, 45, 39, 43, 46, 42, 46, 49, 63, 67, 70, 155, 159, 163, 163, 166, 173, 156, 159, 166, 154, 157, 164, 150, 153, 160, 147, 150, 157, 184, 188, 191, 167, 170, 173, 164, 168, 171, 165, 169, 172, 158, 162, 165, 147, 151, 156, 140, 143, 149, 122, 125, 131, 93, 96, 102, 66, 70, 75, 55, 59, 62, 70, 74, 77, 58, 62, 65, 67, 71, 74, 38, 42, 45, 19, 23, 26, 28, 32, 35, 34, 37, 40, 21, 22, 23, 21, 22, 22, 30, 30, 31, 30, 30, 30, 36, 38, 40, 40, 44, 47, 41, 45, 48, 108, 112, 114, 169, 173, 177, 166, 169, 175, 162, 165, 171, 159, 162, 168, 155, 158, 164, 151, 154, 160, 202, 202, 206, 189, 192, 195, 177, 181, 184, 172, 176, 179, 166, 170, 173, 155, 159, 163, 146, 150, 154, 134, 138, 142, 100, 104, 108, 66, 70, 73, 56, 60, 63, 61, 65, 68, 56, 60, 63, 53, 57, 60, 46, 50, 53, 40, 44, 47, 43, 47, 50, 51, 55, 58, 50, 54, 56, 52, 55, 57, 65, 68, 70, 65, 69, 71, 58, 61, 64, 57, 61, 64, 88, 92, 95, 171, 175, 178, 183, 187, 191, 172, 176, 180, 168, 172, 176, 164, 168, 172, 160, 164, 168, 158, 162, 166, 213, 212, 217, 207, 210, 213, 197, 201, 204, 188, 192, 195, 185, 189, 192, 175, 179, 182, 165, 169, 172, 156, 160, 163, 120, 124, 127, 77, 81, 84, 69, 73, 76, 67, 71, 74, 66, 70, 73, 65, 69, 72, 66, 70, 73, 74, 78, 81, 87, 91, 94, 97, 101, 104, 102, 106, 109, 105, 109, 112, 106, 110, 113, 99, 103, 106, 84, 88, 91, 93, 97, 100, 142, 146, 149, 196, 200, 203, 196, 200, 203, 189, 193, 196, 182, 186, 189, 174, 178, 181, 167, 171, 174, 164, 168, 171, 215, 214, 219, 211, 213, 217, 208, 212, 215, 200, 204, 207, 201, 205, 208, 197, 201, 204, 193, 197, 200, 189, 193, 196, 169, 173, 176, 139, 143, 146, 131, 135, 138, 128, 132, 135, 120, 124, 127, 116, 120, 123, 118, 122, 125, 132, 136, 139, 145, 149, 152, 148, 152, 155, 150, 154, 157, 154, 158, 161, 157, 161, 164, 155, 159, 162, 152, 156, 159, 162, 166, 169, 182, 186, 189, 195, 199, 202, 198, 202, 205, 200, 203, 207, 197, 201, 204, 191, 195, 198, 180, 184, 187, 171, 175, 178, 215, 214, 219, 212, 213, 217, 211, 213, 217, 208, 210, 214, 205, 207, 210, 206, 207, 211, 205, 207, 211, 206, 207, 211, 204, 206, 209, 199, 201, 204, 195, 197, 201, 190, 191, 195, 183, 185, 188, 177, 179, 183, 172, 174, 178, 173, 174, 178, 174, 176, 180, 177, 179, 183, 176, 178, 182, 174, 176, 180, 179, 181, 185, 184, 186, 190, 186, 187, 191, 189, 191, 195, 193, 194, 198, 196, 198, 202, 199, 201, 204, 201, 203, 207, 202, 204, 207, 201, 203, 206, 196, 198, 202, 185, 189, 192, 215, 214, 219, 212, 212, 216, 212, 211, 216, 212, 211, 216, 208, 208, 213, 208, 208, 212, 211, 210, 215, 209, 208, 213, 209, 209, 213, 209, 209, 214, 209, 208, 213, 207, 206, 211, 206, 205, 210, 203, 202, 207, 200, 199, 204, 197, 196, 201, 196, 195, 200, 199, 198, 203, 200, 199, 204, 197, 197, 202, 199, 198, 203, 201, 200, 205, 202, 201, 206, 201, 200, 205, 200, 200, 205, 201, 200, 205, 203, 202, 207, 203, 202, 207, 202, 201, 206, 203, 202, 207, 202, 202, 206, 197, 200, 203, 217, 216, 221, 214, 213, 218, 215, 214, 219, 214, 213, 218, 215, 214, 219, 208, 207, 212, 212, 211, 216, 213, 212, 217, 213, 212, 217, 215, 214, 219, 215, 214, 219, 215, 214, 219, 215, 214, 219, 213, 212, 217, 213, 212, 217, 211, 210, 215, 209, 208, 213, 208, 207, 212, 210, 209, 214, 210, 209, 214, 210, 209, 214, 208, 207, 212, 210, 209, 214, 208, 207, 212, 207, 206, 211, 208, 207, 212, 206, 205, 210, 205, 204, 209, 206, 205, 210, 207, 206, 211, 207, 206, 211, 204, 208, 211, 214, 213, 218, 212, 211, 216, 214, 213, 218, 213, 212, 217, 215, 214, 219, 208, 207, 212, 204, 203, 208, 209, 208, 213, 211, 210, 215, 214, 213, 218, 215, 214, 219, 217, 216, 221, 217, 216, 221, 215, 214, 219, 213, 212, 217, 213, 212, 217, 213, 212, 217, 210, 209, 214, 208, 207, 212, 211, 210, 215, 214, 213, 217, 211, 210, 215, 209, 208, 213, 207, 206, 211, 207, 206, 211, 208, 207, 212, 207, 206, 211, 204, 203, 208, 205, 204, 209, 207, 206, 211, 206, 205, 210, 203, 206, 209], \"height\": 32, \"channels\": 3, \"width\": 32, \"type\": \"image\", \"id\": 4803036176}, {\"format\": \"raw\", \"value\": [216, 225, 236, 224, 233, 243, 229, 238, 249, 229, 243, 249, 230, 246, 250, 233, 245, 251, 237, 244, 252, 238, 244, 250, 237, 240, 242, 234, 230, 229, 231, 218, 223, 226, 208, 223, 216, 207, 221, 198, 207, 218, 186, 210, 221, 191, 220, 235, 177, 207, 230, 185, 173, 195, 238, 231, 235, 248, 251, 252, 246, 248, 253, 246, 249, 253, 246, 249, 253, 245, 248, 252, 243, 247, 250, 243, 247, 249, 247, 250, 250, 252, 253, 250, 253, 252, 249, 253, 253, 252, 253, 253, 253, 252, 252, 252, 175, 168, 179, 177, 173, 183, 192, 191, 199, 208, 212, 220, 223, 230, 237, 235, 244, 251, 237, 248, 254, 239, 251, 255, 240, 254, 254, 240, 253, 253, 242, 251, 252, 242, 244, 247, 238, 236, 237, 237, 225, 231, 230, 219, 227, 215, 215, 224, 204, 209, 224, 203, 179, 198, 236, 229, 235, 249, 253, 255, 248, 251, 255, 249, 251, 255, 248, 250, 254, 246, 248, 252, 243, 246, 250, 245, 249, 252, 249, 252, 252, 254, 255, 253, 255, 255, 251, 255, 255, 255, 255, 255, 255, 254, 254, 254, 191, 202, 212, 177, 183, 193, 172, 174, 184, 170, 168, 175, 177, 151, 165, 230, 224, 232, 225, 221, 226, 220, 218, 222, 234, 234, 238, 240, 238, 246, 241, 245, 252, 242, 255, 255, 244, 255, 255, 245, 254, 253, 247, 251, 251, 244, 243, 245, 237, 233, 238, 227, 214, 223, 238, 235, 241, 249, 251, 255, 247, 249, 253, 249, 250, 254, 253, 253, 255, 247, 251, 255, 241, 248, 251, 244, 249, 251, 248, 252, 253, 253, 255, 254, 254, 255, 253, 255, 255, 255, 255, 255, 255, 254, 254, 254, 210, 225, 235, 198, 217, 228, 187, 210, 222, 191, 207, 212, 187, 155, 168, 228, 216, 223, 209, 196, 205, 192, 176, 186, 194, 183, 190, 205, 195, 200, 217, 206, 211, 224, 214, 218, 237, 238, 240, 236, 242, 242, 236, 248, 246, 241, 254, 252, 246, 253, 254, 247, 251, 253, 247, 252, 253, 247, 251, 253, 250, 254, 254, 224, 224, 226, 217, 216, 218, 234, 241, 241, 241, 251, 248, 242, 249, 244, 249, 252, 250, 254, 254, 254, 254, 253, 255, 255, 255, 255, 255, 255, 255, 254, 254, 254, 201, 212, 220, 187, 202, 211, 194, 212, 221, 205, 223, 227, 197, 169, 180, 227, 217, 220, 210, 206, 218, 200, 204, 222, 194, 210, 222, 195, 213, 220, 201, 208, 215, 187, 175, 184, 225, 208, 217, 222, 217, 221, 213, 214, 215, 221, 219, 222, 228, 234, 238, 227, 237, 241, 229, 239, 243, 233, 243, 247, 233, 243, 248, 208, 215, 222, 185, 190, 196, 203, 215, 221, 216, 233, 236, 226, 240, 241, 240, 247, 248, 251, 251, 252, 255, 254, 254, 255, 255, 255, 255, 255, 255, 254, 254, 254, 190, 208, 220, 160, 173, 178, 155, 170, 176, 166, 180, 189, 181, 158, 178, 181, 182, 193, 162, 177, 190, 137, 152, 178, 119, 151, 181, 112, 148, 179, 126, 158, 188, 152, 168, 194, 191, 190, 208, 180, 186, 199, 173, 185, 195, 180, 190, 200, 198, 207, 214, 218, 229, 235, 219, 234, 242, 213, 232, 242, 199, 224, 244, 187, 213, 241, 155, 180, 210, 142, 172, 206, 155, 186, 217, 176, 202, 225, 199, 223, 236, 218, 229, 233, 252, 251, 252, 255, 255, 255, 255, 255, 255, 254, 254, 254, 160, 184, 213, 97, 115, 129, 53, 72, 84, 62, 88, 100, 131, 145, 163, 136, 169, 188, 102, 144, 165, 80, 113, 146, 72, 120, 158, 73, 114, 154, 97, 129, 167, 119, 147, 176, 124, 150, 171, 121, 144, 162, 137, 156, 173, 191, 206, 221, 224, 235, 242, 231, 245, 252, 213, 234, 248, 197, 224, 243, 177, 212, 239, 145, 178, 213, 90, 119, 160, 115, 152, 195, 146, 186, 226, 145, 186, 214, 174, 214, 230, 183, 208, 218, 236, 242, 248, 255, 255, 255, 255, 255, 255, 254, 254, 254, 166, 198, 234, 124, 153, 180, 101, 122, 146, 83, 111, 132, 95, 133, 155, 107, 154, 180, 92, 140, 175, 74, 124, 162, 90, 139, 172, 126, 158, 186, 116, 141, 163, 110, 138, 157, 111, 141, 161, 128, 153, 169, 188, 204, 215, 231, 240, 246, 228, 244, 252, 210, 233, 249, 190, 218, 245, 169, 203, 238, 146, 190, 226, 109, 147, 186, 77, 107, 150, 131, 173, 214, 151, 202, 236, 151, 196, 221, 184, 225, 242, 188, 220, 231, 213, 232, 238, 254, 255, 255, 254, 254, 254, 254, 254, 254, 183, 218, 250, 158, 196, 229, 109, 137, 174, 89, 113, 156, 85, 127, 171, 88, 130, 175, 64, 99, 142, 82, 118, 154, 138, 170, 200, 135, 158, 181, 102, 116, 136, 111, 123, 144, 126, 142, 160, 180, 198, 208, 227, 244, 250, 231, 248, 254, 206, 232, 248, 189, 222, 244, 168, 206, 236, 131, 172, 219, 108, 159, 203, 78, 112, 157, 83, 116, 161, 136, 189, 223, 157, 210, 239, 157, 203, 227, 182, 218, 236, 197, 227, 239, 198, 221, 231, 251, 254, 255, 254, 253, 252, 253, 253, 250, 179, 210, 247, 174, 208, 244, 151, 176, 216, 115, 143, 196, 99, 155, 210, 93, 143, 196, 102, 134, 175, 153, 178, 208, 183, 202, 231, 166, 188, 211, 141, 153, 175, 136, 134, 157, 165, 170, 186, 200, 213, 222, 205, 225, 231, 200, 226, 240, 180, 210, 237, 171, 208, 234, 153, 198, 227, 105, 155, 202, 70, 119, 162, 61, 82, 126, 93, 127, 169, 138, 193, 223, 159, 203, 230, 173, 214, 233, 191, 221, 235, 211, 236, 246, 188, 209, 219, 237, 245, 250, 245, 248, 249, 241, 244, 243, 175, 218, 252, 173, 210, 239, 157, 130, 177, 145, 126, 180, 96, 137, 179, 85, 126, 163, 148, 179, 211, 172, 201, 228, 167, 192, 217, 160, 183, 206, 96, 111, 135, 80, 90, 114, 108, 121, 140, 119, 136, 150, 115, 135, 150, 130, 152, 174, 143, 167, 196, 149, 178, 208, 136, 173, 206, 93, 137, 177, 51, 83, 121, 58, 78, 117, 95, 122, 160, 104, 134, 165, 80, 104, 128, 158, 182, 201, 192, 219, 235, 197, 223, 238, 175, 198, 213, 208, 225, 237, 212, 222, 229, 214, 221, 227, 171, 205, 239, 167, 202, 235, 157, 166, 207, 138, 129, 169, 48, 58, 86, 87, 105, 131, 128, 148, 176, 147, 165, 190, 137, 139, 162, 105, 109, 132, 61, 78, 101, 66, 78, 103, 94, 103, 120, 140, 153, 167, 167, 183, 201, 170, 189, 212, 147, 171, 201, 125, 150, 185, 109, 132, 172, 83, 104, 147, 55, 77, 122, 63, 91, 132, 59, 80, 114, 59, 69, 97, 53, 68, 92, 123, 149, 175, 163, 194, 222, 174, 205, 230, 191, 216, 236, 202, 216, 229, 155, 161, 169, 143, 144, 151, 151, 182, 222, 149, 182, 224, 144, 183, 225, 123, 153, 188, 60, 80, 110, 107, 122, 151, 122, 139, 164, 102, 116, 135, 102, 83, 104, 97, 72, 95, 89, 95, 114, 130, 132, 159, 160, 172, 192, 168, 185, 207, 155, 177, 202, 135, 160, 190, 126, 154, 188, 117, 143, 182, 94, 115, 158, 72, 90, 137, 77, 97, 144, 81, 103, 140, 56, 76, 105, 91, 114, 148, 117, 148, 185, 145, 177, 210, 159, 187, 216, 156, 179, 202, 135, 151, 170, 117, 127, 145, 113, 119, 134, 113, 117, 126, 108, 134, 165, 84, 105, 135, 102, 128, 162, 107, 138, 173, 103, 128, 157, 96, 114, 135, 60, 77, 98, 43, 62, 84, 79, 84, 104, 132, 126, 146, 154, 167, 185, 163, 188, 210, 140, 167, 196, 114, 141, 172, 115, 140, 174, 127, 151, 188, 117, 140, 179, 82, 105, 145, 60, 83, 125, 76, 99, 144, 79, 97, 137, 67, 86, 118, 105, 131, 161, 145, 176, 212, 135, 163, 199, 97, 117, 143, 83, 99, 121, 61, 73, 91, 33, 43, 60, 61, 74, 92, 136, 149, 168, 159, 172, 191, 34, 45, 63, 27, 32, 45, 36, 49, 66, 107, 127, 158, 92, 110, 138, 55, 67, 83, 47, 58, 77, 89, 96, 121, 137, 150, 169, 159, 185, 201, 151, 176, 201, 115, 142, 174, 102, 127, 162, 117, 140, 176, 122, 145, 180, 107, 129, 162, 67, 87, 124, 49, 71, 112, 76, 100, 144, 84, 111, 157, 79, 105, 149, 105, 134, 171, 108, 136, 165, 84, 104, 126, 55, 65, 85, 34, 41, 59, 35, 41, 58, 40, 44, 60, 41, 46, 60, 34, 43, 56, 123, 136, 153, 163, 179, 202, 46, 56, 75, 49, 61, 82, 57, 69, 89, 88, 99, 122, 48, 59, 81, 46, 55, 74, 85, 94, 113, 139, 152, 173, 159, 182, 206, 136, 161, 192, 112, 132, 168, 107, 126, 162, 117, 141, 171, 125, 147, 176, 143, 162, 188, 93, 110, 137, 44, 64, 99, 51, 76, 118, 69, 97, 141, 67, 92, 135, 67, 86, 123, 68, 83, 110, 40, 53, 70, 32, 39, 52, 33, 37, 53, 43, 49, 65, 51, 57, 73, 62, 68, 84, 54, 60, 75, 29, 36, 50, 120, 135, 155, 163, 181, 205, 69, 82, 107, 72, 90, 118, 82, 97, 124, 78, 88, 105, 29, 37, 51, 49, 56, 74, 76, 82, 103, 129, 143, 166, 133, 157, 184, 104, 126, 159, 113, 136, 167, 140, 162, 187, 159, 176, 195, 183, 202, 208, 191, 212, 221, 94, 115, 144, 46, 63, 99, 39, 58, 94, 46, 65, 98, 31, 45, 69, 26, 33, 49, 43, 48, 61, 44, 49, 61, 41, 46, 59, 49, 55, 70, 50, 57, 73, 48, 55, 71, 50, 57, 73, 52, 60, 77, 64, 77, 96, 123, 138, 158, 157, 172, 192, 79, 95, 125, 83, 103, 136, 69, 86, 118, 40, 47, 69, 42, 46, 62, 84, 88, 104, 52, 56, 71, 68, 77, 93, 114, 131, 151, 149, 167, 188, 187, 206, 222, 195, 214, 226, 205, 222, 234, 212, 229, 241, 120, 138, 154, 53, 70, 93, 40, 51, 73, 37, 48, 70, 23, 31, 51, 10, 9, 23, 12, 12, 22, 41, 46, 61, 41, 48, 66, 39, 51, 63, 39, 50, 60, 41, 48, 63, 40, 47, 63, 42, 48, 64, 55, 65, 83, 99, 117, 142, 131, 143, 162, 146, 156, 172, 74, 91, 120, 86, 107, 141, 55, 67, 97, 22, 26, 47, 41, 45, 62, 67, 72, 88, 46, 51, 65, 53, 59, 73, 128, 139, 151, 202, 219, 228, 209, 229, 240, 185, 208, 226, 176, 201, 221, 113, 132, 154, 35, 45, 65, 30, 35, 50, 23, 30, 42, 22, 30, 44, 21, 27, 42, 27, 29, 46, 10, 10, 25, 21, 24, 40, 29, 35, 51, 28, 38, 52, 29, 38, 51, 32, 37, 53, 45, 51, 67, 41, 46, 63, 44, 53, 73, 100, 117, 145, 128, 139, 160, 126, 134, 149, 59, 69, 88, 61, 74, 97, 46, 52, 74, 34, 38, 54, 32, 39, 52, 38, 44, 58, 51, 56, 70, 70, 77, 93, 78, 89, 107, 95, 106, 123, 104, 113, 131, 112, 121, 141, 87, 99, 119, 28, 38, 56, 15, 21, 38, 13, 18, 33, 11, 17, 29, 17, 25, 38, 28, 37, 54, 36, 47, 67, 21, 27, 44, 17, 21, 33, 25, 32, 44, 22, 32, 42, 29, 39, 53, 46, 55, 75, 53, 62, 80, 27, 36, 53, 38, 49, 67, 90, 104, 130, 109, 119, 140, 98, 106, 123, 40, 48, 62, 48, 55, 71, 58, 65, 84, 31, 37, 51, 17, 23, 34, 26, 32, 43, 43, 49, 60, 68, 77, 88, 68, 80, 97, 62, 71, 96, 61, 67, 93, 58, 63, 86, 43, 51, 75, 29, 36, 58, 23, 29, 46, 21, 25, 39, 18, 23, 34, 23, 31, 44, 30, 44, 63, 90, 107, 132, 40, 51, 69, 14, 21, 33, 22, 32, 48, 34, 45, 65, 51, 61, 83, 46, 53, 72, 33, 41, 55, 19, 28, 36, 26, 36, 45, 69, 79, 102, 81, 88, 108, 89, 100, 118, 75, 88, 109, 87, 99, 119, 73, 87, 107, 28, 37, 52, 7, 12, 23, 4, 8, 18, 8, 10, 19, 15, 18, 27, 27, 33, 45, 36, 41, 58, 37, 42, 60, 33, 38, 56, 24, 31, 48, 22, 28, 44, 18, 24, 37, 18, 24, 35, 21, 26, 36, 23, 33, 45, 39, 55, 74, 110, 132, 156, 64, 79, 100, 16, 24, 39, 34, 43, 58, 49, 56, 77, 34, 40, 60, 28, 34, 47, 37, 43, 55, 43, 49, 60, 46, 52, 66, 64, 72, 94, 80, 93, 115, 97, 115, 137, 99, 114, 139, 106, 121, 143, 92, 108, 127, 35, 46, 62, 26, 32, 46, 19, 22, 34, 9, 10, 21, 7, 8, 18, 8, 10, 22, 13, 15, 26, 17, 19, 31, 18, 21, 32, 23, 30, 41, 20, 26, 37, 11, 18, 28, 14, 19, 30, 19, 23, 38, 28, 37, 55, 76, 92, 115, 116, 139, 167, 79, 95, 118, 16, 26, 37, 21, 31, 36, 24, 30, 38, 29, 35, 46, 45, 54, 66, 61, 69, 85, 66, 74, 92, 64, 72, 93, 76, 88, 110, 92, 111, 134, 100, 120, 144, 107, 122, 147, 110, 125, 147, 116, 131, 150, 69, 81, 98, 32, 41, 57, 55, 62, 76, 36, 41, 53, 15, 18, 30, 10, 12, 24, 19, 20, 32, 25, 27, 38, 26, 31, 43, 78, 91, 109, 75, 87, 102, 16, 24, 35, 14, 18, 27, 20, 24, 37, 29, 38, 56, 75, 91, 114, 109, 132, 160, 75, 92, 114, 15, 25, 37, 23, 32, 39, 36, 42, 51, 51, 58, 72, 62, 74, 89, 67, 79, 96, 65, 76, 96, 75, 87, 108, 84, 100, 121, 93, 113, 135, 100, 118, 143, 113, 128, 152, 113, 128, 148, 115, 131, 148, 100, 113, 131, 53, 63, 80, 42, 50, 66, 44, 50, 63, 25, 29, 42, 23, 28, 42, 40, 44, 58, 34, 38, 50, 33, 39, 53, 79, 93, 118, 71, 84, 104, 16, 26, 41, 20, 27, 38, 25, 33, 45, 25, 35, 48, 53, 67, 84, 102, 128, 153, 84, 101, 123, 27, 35, 51, 44, 54, 69, 56, 67, 84, 66, 77, 96, 69, 82, 100, 64, 79, 98, 74, 89, 112, 88, 105, 129, 89, 108, 131, 95, 115, 137, 95, 112, 134, 118, 133, 155, 115, 130, 149, 112, 127, 143, 99, 112, 129, 79, 89, 105, 51, 59, 73, 37, 43, 55, 25, 28, 42, 34, 40, 58, 69, 79, 100, 67, 81, 104, 56, 72, 99, 47, 63, 96, 30, 45, 75, 26, 39, 64, 31, 43, 64, 23, 32, 51, 26, 35, 53, 75, 89, 111, 89, 114, 144, 60, 77, 100, 45, 54, 70, 65, 77, 95, 68, 83, 103, 64, 79, 99, 64, 78, 98, 76, 92, 113, 87, 105, 129, 91, 111, 135, 90, 110, 135, 89, 107, 130, 94, 110, 131, 117, 132, 155, 114, 129, 148, 105, 121, 137, 96, 110, 126, 83, 93, 109, 69, 76, 91, 57, 62, 75, 44, 44, 54, 36, 33, 41, 35, 36, 46, 33, 39, 53, 31, 39, 56, 26, 32, 48, 22, 26, 41, 19, 20, 35, 20, 20, 34, 28, 29, 43, 26, 35, 53, 67, 84, 108, 71, 91, 119, 40, 56, 79, 66, 79, 99, 74, 86, 104, 64, 74, 91, 66, 77, 94, 76, 90, 109, 86, 102, 123, 90, 108, 132, 90, 110, 135, 88, 108, 133, 94, 111, 134, 97, 112, 133, 113, 128, 151, 109, 124, 144, 106, 122, 140, 105, 117, 135, 100, 109, 125, 85, 93, 108, 69, 76, 90, 57, 63, 74, 48, 54, 60, 40, 45, 51, 35, 39, 44, 30, 34, 39, 25, 30, 36, 23, 27, 33, 21, 24, 32, 25, 26, 34, 38, 38, 45, 25, 30, 41, 35, 48, 64, 48, 62, 79, 53, 66, 84, 75, 88, 108, 74, 87, 105, 69, 81, 99, 84, 96, 116, 89, 105, 127, 91, 108, 131, 93, 109, 133, 91, 108, 131, 98, 115, 138, 101, 117, 139, 101, 116, 137, 112, 128, 149, 112, 127, 148, 113, 128, 149, 112, 124, 142, 110, 119, 136, 99, 108, 125, 86, 96, 113, 74, 85, 99, 64, 76, 85, 57, 67, 75, 52, 60, 66, 48, 55, 60, 42, 49, 57, 39, 45, 54, 36, 43, 51, 34, 40, 49, 37, 40, 49, 32, 36, 46, 20, 26, 38, 46, 55, 68, 75, 85, 101, 72, 84, 103, 76, 91, 111, 88, 104, 126, 92, 110, 135, 97, 115, 142, 100, 116, 141, 95, 110, 133, 101, 114, 136, 105, 120, 141, 102, 117, 138, 104, 119, 140, 117, 132, 154, 116, 131, 152, 113, 128, 149, 110, 124, 144, 113, 126, 145, 109, 122, 141, 104, 117, 136, 96, 110, 128, 86, 100, 115, 78, 89, 103, 70, 80, 91, 67, 75, 85, 61, 70, 80, 60, 69, 79, 59, 68, 78, 58, 67, 77, 60, 69, 81, 61, 72, 85, 70, 83, 99, 83, 98, 115, 78, 93, 112, 82, 98, 119, 93, 110, 133, 97, 117, 141, 98, 119, 145, 103, 123, 149, 105, 121, 147, 112, 126, 150, 118, 131, 152, 108, 122, 144, 104, 120, 141, 105, 120, 141, 116, 131, 153, 115, 130, 151, 113, 128, 149, 113, 128, 149, 119, 134, 155, 118, 133, 154, 111, 126, 147, 107, 122, 143, 100, 114, 134, 94, 107, 125, 89, 100, 116, 87, 98, 112, 83, 94, 105, 81, 93, 104, 78, 91, 102, 82, 95, 108, 87, 100, 116, 87, 101, 119, 91, 108, 127, 83, 101, 122, 83, 99, 121, 98, 114, 137, 100, 118, 142, 102, 122, 147, 105, 125, 151, 106, 124, 149, 109, 125, 149, 123, 137, 160, 121, 134, 156, 122, 137, 158, 126, 141, 162, 123, 138, 159, 114, 129, 150, 115, 129, 150, 115, 130, 150, 115, 130, 151, 115, 130, 151, 114, 129, 149, 112, 127, 148, 110, 123, 144, 107, 119, 140, 108, 119, 138, 103, 115, 132, 100, 111, 125, 101, 111, 122, 98, 110, 122, 100, 114, 127, 100, 115, 131, 98, 113, 132, 96, 111, 132, 88, 103, 123, 89, 104, 125, 99, 115, 137, 100, 116, 139, 106, 122, 145, 108, 125, 148, 107, 123, 146, 108, 123, 145, 113, 128, 149, 110, 125, 146, 110, 124, 145, 113, 128, 149, 125, 140, 160, 135, 150, 170], \"height\": 32, \"channels\": 3, \"width\": 32, \"type\": \"image\", \"id\": 4803037584}, {\"format\": \"raw\", \"value\": [127, 129, 122, 155, 154, 163, 153, 150, 167, 132, 137, 158, 144, 154, 184, 148, 156, 195, 145, 153, 194, 151, 159, 195, 159, 166, 200, 166, 168, 207, 178, 174, 210, 190, 184, 214, 189, 183, 216, 187, 181, 217, 196, 191, 222, 203, 200, 221, 208, 205, 224, 205, 200, 220, 208, 201, 219, 216, 208, 224, 208, 199, 222, 203, 195, 223, 196, 191, 217, 187, 186, 209, 190, 189, 216, 192, 186, 219, 177, 172, 204, 163, 165, 200, 153, 162, 201, 153, 158, 200, 156, 162, 206, 157, 166, 211, 117, 117, 109, 136, 135, 135, 145, 144, 144, 132, 134, 143, 141, 144, 167, 152, 154, 185, 153, 155, 188, 178, 180, 210, 188, 189, 219, 195, 192, 226, 208, 200, 231, 215, 207, 230, 202, 198, 221, 196, 191, 221, 196, 191, 222, 198, 194, 221, 190, 191, 217, 191, 191, 215, 202, 196, 217, 211, 201, 219, 205, 197, 220, 195, 191, 215, 185, 183, 202, 162, 162, 176, 173, 172, 193, 187, 182, 211, 172, 167, 191, 167, 169, 194, 162, 169, 204, 153, 157, 202, 154, 160, 206, 155, 163, 208, 121, 119, 108, 117, 116, 107, 131, 131, 117, 142, 142, 138, 145, 142, 155, 159, 156, 177, 159, 156, 178, 189, 186, 207, 199, 195, 221, 201, 195, 224, 201, 193, 219, 205, 197, 215, 206, 204, 218, 197, 193, 217, 190, 185, 215, 187, 183, 212, 175, 178, 207, 180, 183, 211, 188, 186, 211, 195, 189, 212, 196, 192, 218, 191, 191, 214, 170, 171, 186, 147, 147, 153, 164, 165, 178, 169, 166, 188, 150, 146, 158, 164, 165, 179, 175, 179, 206, 160, 163, 204, 153, 157, 200, 152, 158, 201, 121, 118, 106, 105, 102, 91, 124, 122, 104, 146, 145, 131, 143, 139, 140, 148, 143, 152, 144, 139, 149, 169, 164, 178, 185, 180, 205, 184, 178, 206, 181, 175, 199, 181, 177, 192, 181, 179, 190, 184, 181, 201, 182, 178, 203, 170, 167, 190, 168, 169, 197, 167, 168, 199, 165, 167, 197, 165, 167, 198, 173, 175, 207, 180, 182, 210, 156, 159, 174, 134, 135, 138, 153, 154, 163, 154, 153, 169, 131, 128, 129, 149, 147, 151, 168, 169, 187, 160, 162, 190, 154, 158, 190, 154, 160, 196, 142, 138, 125, 122, 118, 108, 149, 145, 130, 145, 144, 126, 141, 140, 130, 140, 138, 137, 125, 122, 123, 155, 152, 161, 177, 174, 199, 176, 172, 201, 172, 171, 194, 166, 165, 180, 155, 153, 165, 165, 161, 180, 164, 161, 181, 149, 146, 163, 163, 159, 184, 164, 163, 193, 155, 160, 195, 150, 160, 199, 153, 160, 199, 166, 169, 202, 137, 140, 158, 106, 107, 111, 137, 139, 147, 154, 153, 165, 128, 125, 119, 133, 130, 126, 147, 147, 157, 144, 147, 160, 148, 152, 172, 158, 163, 195, 180, 168, 151, 171, 160, 144, 192, 181, 163, 174, 163, 143, 153, 143, 128, 142, 134, 126, 137, 131, 127, 164, 160, 165, 163, 161, 183, 168, 167, 195, 170, 167, 189, 154, 148, 157, 144, 137, 139, 152, 142, 151, 151, 143, 155, 140, 136, 149, 158, 151, 175, 159, 154, 185, 156, 157, 193, 155, 162, 204, 152, 157, 196, 150, 156, 186, 120, 129, 148, 86, 93, 102, 122, 124, 137, 132, 130, 143, 122, 121, 113, 123, 124, 114, 130, 130, 133, 136, 137, 136, 136, 140, 142, 151, 156, 179, 222, 201, 175, 225, 204, 179, 235, 214, 188, 222, 200, 177, 181, 161, 142, 161, 145, 132, 161, 148, 141, 156, 148, 150, 137, 134, 151, 161, 162, 186, 167, 163, 181, 139, 129, 130, 139, 129, 118, 146, 131, 127, 145, 132, 135, 136, 130, 138, 150, 144, 157, 158, 153, 171, 166, 162, 186, 163, 160, 190, 137, 136, 165, 120, 125, 148, 103, 114, 130, 85, 93, 105, 114, 115, 132, 108, 104, 119, 110, 111, 104, 123, 126, 114, 120, 120, 118, 135, 132, 124, 129, 131, 119, 139, 144, 158, 243, 216, 181, 248, 222, 187, 251, 224, 190, 248, 223, 193, 225, 203, 178, 204, 186, 168, 178, 163, 151, 158, 146, 143, 147, 140, 151, 162, 159, 176, 156, 154, 165, 124, 121, 117, 130, 124, 109, 133, 121, 112, 131, 120, 118, 122, 117, 117, 139, 138, 133, 149, 147, 144, 155, 150, 153, 152, 144, 153, 131, 125, 142, 104, 104, 121, 98, 102, 113, 111, 112, 118, 133, 128, 140, 112, 107, 118, 106, 103, 98, 116, 113, 105, 113, 108, 106, 128, 124, 116, 129, 131, 120, 143, 146, 158, 241, 209, 167, 247, 215, 174, 249, 217, 176, 249, 220, 183, 244, 220, 187, 239, 219, 193, 218, 202, 181, 194, 180, 169, 175, 163, 163, 161, 152, 156, 141, 138, 138, 114, 113, 102, 126, 121, 102, 125, 114, 102, 121, 112, 108, 112, 111, 109, 125, 128, 124, 147, 149, 147, 159, 156, 157, 159, 151, 157, 163, 157, 170, 124, 123, 135, 103, 105, 111, 109, 105, 108, 116, 108, 115, 108, 103, 110, 120, 115, 111, 107, 99, 93, 105, 97, 95, 121, 118, 110, 124, 125, 115, 144, 145, 154, 241, 207, 164, 243, 209, 166, 245, 210, 168, 251, 220, 177, 249, 223, 182, 246, 225, 189, 242, 225, 195, 235, 219, 196, 219, 204, 188, 195, 178, 166, 155, 143, 130, 119, 112, 94, 144, 135, 111, 145, 135, 121, 128, 124, 122, 102, 107, 112, 90, 99, 112, 113, 120, 136, 135, 139, 156, 156, 157, 176, 184, 185, 201, 185, 191, 200, 169, 175, 181, 150, 149, 153, 125, 121, 125, 113, 112, 113, 114, 111, 107, 94, 87, 82, 101, 92, 88, 117, 115, 106, 127, 127, 119, 135, 133, 141, 243, 208, 170, 236, 202, 164, 237, 203, 166, 253, 223, 177, 252, 224, 176, 248, 224, 182, 244, 224, 189, 247, 231, 197, 249, 232, 198, 243, 218, 190, 220, 196, 172, 187, 168, 144, 181, 163, 136, 189, 174, 162, 139, 139, 143, 87, 102, 118, 63, 79, 108, 55, 71, 102, 48, 64, 94, 59, 77, 106, 74, 90, 113, 99, 115, 131, 139, 153, 164, 186, 191, 199, 214, 215, 218, 199, 204, 198, 142, 143, 138, 82, 77, 72, 94, 87, 82, 111, 111, 101, 131, 131, 123, 130, 126, 131, 240, 206, 172, 230, 197, 163, 230, 197, 162, 247, 215, 171, 248, 219, 171, 251, 227, 183, 246, 223, 184, 245, 224, 188, 251, 229, 193, 251, 219, 182, 249, 220, 183, 235, 211, 181, 217, 197, 173, 186, 177, 168, 123, 130, 139, 87, 105, 127, 78, 97, 128, 58, 79, 113, 34, 57, 89, 34, 61, 90, 56, 80, 102, 71, 93, 110, 65, 86, 103, 78, 92, 111, 117, 129, 142, 185, 199, 203, 182, 189, 198, 149, 148, 150, 128, 118, 106, 119, 113, 99, 126, 122, 113, 138, 130, 135, 243, 208, 174, 233, 199, 164, 231, 197, 161, 249, 213, 174, 248, 217, 175, 250, 225, 182, 250, 220, 178, 246, 215, 177, 249, 219, 190, 244, 209, 176, 239, 215, 178, 205, 190, 173, 135, 127, 126, 112, 122, 128, 88, 110, 121, 96, 114, 131, 85, 102, 126, 60, 77, 108, 45, 62, 94, 46, 65, 92, 66, 87, 102, 88, 109, 122, 82, 102, 124, 64, 82, 112, 50, 75, 105, 105, 133, 164, 115, 136, 177, 157, 166, 190, 184, 166, 154, 141, 125, 107, 131, 122, 111, 171, 158, 161, 251, 213, 175, 232, 193, 155, 236, 197, 159, 248, 209, 170, 252, 217, 175, 249, 219, 174, 248, 214, 168, 246, 213, 164, 239, 212, 180, 224, 199, 194, 207, 198, 201, 162, 166, 188, 84, 99, 136, 73, 102, 134, 53, 86, 108, 63, 87, 102, 65, 81, 102, 43, 58, 87, 36, 51, 82, 42, 57, 84, 44, 62, 80, 75, 92, 110, 70, 87, 110, 52, 69, 97, 59, 85, 120, 104, 137, 182, 101, 131, 189, 102, 126, 172, 179, 175, 182, 160, 144, 140, 153, 145, 135, 173, 156, 151, 251, 208, 168, 237, 192, 155, 238, 194, 158, 239, 196, 159, 247, 208, 167, 244, 208, 162, 241, 203, 154, 242, 210, 158, 208, 189, 170, 151, 144, 175, 118, 130, 171, 97, 124, 168, 84, 122, 175, 83, 126, 176, 67, 106, 145, 60, 88, 118, 59, 84, 113, 52, 76, 111, 44, 68, 106, 34, 59, 90, 38, 60, 87, 63, 82, 109, 69, 87, 113, 59, 76, 101, 69, 93, 124, 119, 147, 191, 108, 136, 195, 90, 121, 179, 153, 164, 190, 145, 140, 158, 148, 147, 148, 169, 151, 139, 246, 203, 167, 239, 196, 165, 234, 190, 162, 231, 189, 160, 236, 195, 163, 238, 196, 159, 238, 199, 153, 236, 207, 168, 163, 153, 161, 74, 84, 134, 55, 85, 125, 50, 88, 115, 49, 94, 127, 59, 102, 145, 69, 106, 152, 74, 106, 150, 63, 101, 139, 65, 106, 146, 73, 113, 156, 66, 107, 145, 63, 98, 132, 60, 90, 122, 62, 88, 119, 60, 84, 114, 75, 99, 128, 105, 125, 156, 112, 134, 179, 94, 125, 178, 122, 141, 176, 133, 148, 184, 128, 142, 165, 171, 157, 148, 233, 196, 169, 228, 190, 169, 223, 185, 168, 221, 185, 168, 226, 186, 167, 229, 186, 160, 232, 194, 157, 221, 198, 170, 137, 138, 155, 74, 99, 140, 45, 81, 102, 29, 60, 68, 42, 71, 85, 51, 80, 105, 54, 83, 114, 58, 91, 121, 56, 100, 129, 58, 104, 139, 59, 105, 142, 64, 110, 143, 69, 118, 150, 72, 118, 154, 67, 108, 145, 71, 107, 146, 85, 118, 150, 84, 109, 131, 93, 119, 151, 90, 127, 172, 96, 127, 166, 95, 134, 185, 112, 145, 196, 163, 159, 161, 207, 179, 159, 200, 171, 158, 201, 172, 164, 204, 174, 167, 206, 170, 161, 211, 172, 157, 219, 186, 161, 162, 147, 124, 71, 84, 89, 50, 83, 103, 48, 82, 89, 32, 49, 54, 47, 56, 65, 68, 81, 93, 34, 57, 65, 39, 72, 73, 75, 113, 125, 84, 120, 143, 79, 114, 137, 96, 131, 147, 88, 138, 161, 78, 138, 170, 83, 135, 171, 89, 133, 175, 90, 133, 167, 81, 117, 135, 85, 120, 145, 84, 128, 168, 87, 130, 165, 81, 136, 188, 99, 143, 212, 155, 160, 171, 201, 188, 169, 182, 168, 152, 184, 169, 154, 189, 173, 160, 210, 193, 181, 221, 205, 192, 214, 201, 186, 131, 131, 116, 49, 69, 63, 44, 69, 75, 49, 77, 78, 51, 73, 72, 43, 63, 66, 48, 69, 75, 32, 57, 62, 63, 92, 96, 99, 127, 143, 108, 130, 153, 149, 163, 177, 197, 207, 198, 141, 170, 164, 92, 147, 153, 81, 120, 138, 76, 100, 127, 98, 129, 144, 80, 107, 111, 76, 101, 107, 72, 100, 111, 70, 99, 109, 87, 126, 155, 104, 135, 179, 149, 151, 159, 208, 198, 176, 159, 150, 128, 155, 148, 125, 183, 172, 151, 243, 234, 215, 253, 248, 231, 249, 243, 228, 141, 144, 130, 48, 63, 55, 53, 69, 69, 51, 70, 69, 54, 77, 71, 50, 77, 75, 49, 76, 77, 55, 81, 86, 73, 100, 107, 70, 104, 112, 80, 112, 124, 144, 168, 173, 165, 185, 168, 130, 158, 143, 87, 133, 130, 63, 89, 99, 53, 61, 78, 89, 107, 113, 79, 98, 96, 72, 90, 88, 67, 86, 84, 74, 94, 92, 90, 115, 127, 65, 82, 106, 134, 130, 128, 196, 177, 156, 144, 132, 109, 123, 117, 91, 189, 176, 151, 242, 226, 202, 239, 226, 205, 255, 244, 224, 155, 153, 137, 35, 42, 33, 38, 47, 43, 37, 48, 44, 43, 59, 53, 47, 69, 65, 50, 72, 70, 51, 73, 73, 56, 80, 79, 56, 94, 86, 71, 114, 110, 104, 146, 144, 83, 127, 113, 70, 108, 99, 68, 103, 107, 85, 100, 114, 65, 66, 80, 82, 92, 97, 80, 98, 98, 77, 95, 95, 74, 92, 92, 81, 100, 98, 90, 108, 114, 49, 58, 71, 132, 123, 109, 202, 179, 163, 189, 174, 156, 161, 154, 133, 204, 190, 168, 222, 201, 181, 222, 204, 186, 239, 223, 206, 173, 165, 152, 55, 55, 48, 41, 43, 36, 31, 35, 31, 29, 38, 35, 29, 46, 44, 31, 49, 46, 33, 50, 47, 38, 56, 52, 38, 66, 51, 43, 76, 64, 61, 99, 93, 61, 105, 97, 57, 96, 91, 70, 92, 99, 130, 135, 150, 85, 83, 94, 84, 89, 94, 84, 102, 103, 82, 100, 101, 80, 98, 100, 90, 107, 106, 102, 113, 115, 75, 76, 81, 143, 130, 107, 209, 189, 185, 205, 190, 185, 201, 191, 184, 193, 180, 172, 182, 167, 160, 180, 167, 162, 184, 173, 169, 162, 154, 152, 64, 61, 58, 36, 36, 30, 31, 33, 31, 35, 38, 42, 33, 43, 46, 33, 44, 45, 36, 48, 47, 41, 53, 49, 38, 52, 42, 35, 53, 43, 49, 73, 65, 55, 85, 77, 59, 93, 85, 84, 94, 101, 178, 177, 191, 103, 107, 117, 84, 91, 97, 85, 102, 106, 82, 100, 103, 82, 100, 103, 89, 106, 107, 147, 153, 158, 117, 113, 117, 172, 159, 135, 189, 175, 183, 189, 175, 183, 191, 177, 185, 169, 157, 164, 138, 130, 138, 113, 107, 116, 94, 90, 101, 84, 80, 89, 39, 35, 38, 21, 20, 17, 31, 32, 33, 48, 50, 60, 38, 44, 53, 35, 41, 48, 30, 37, 39, 33, 41, 40, 42, 51, 48, 57, 69, 63, 55, 73, 61, 51, 74, 60, 50, 79, 66, 85, 87, 91, 191, 189, 202, 110, 123, 133, 77, 88, 97, 80, 97, 103, 75, 92, 98, 75, 92, 97, 78, 94, 98, 175, 180, 190, 159, 154, 161, 195, 182, 161, 184, 169, 184, 185, 169, 183, 186, 169, 184, 183, 169, 185, 173, 162, 180, 157, 148, 166, 141, 132, 151, 117, 110, 124, 82, 76, 81, 51, 47, 48, 41, 37, 41, 42, 39, 47, 37, 37, 44, 35, 36, 41, 29, 30, 33, 25, 27, 28, 25, 29, 28, 37, 42, 38, 41, 48, 39, 42, 52, 41, 35, 50, 37, 72, 74, 72, 193, 194, 201, 127, 136, 149, 93, 101, 117, 93, 103, 117, 88, 99, 109, 83, 94, 101, 77, 89, 93, 175, 180, 187, 187, 185, 191, 195, 185, 179, 176, 160, 170, 174, 158, 168, 175, 159, 169, 174, 159, 172, 174, 160, 175, 178, 164, 178, 180, 166, 181, 180, 167, 179, 172, 161, 169, 154, 143, 151, 130, 119, 126, 99, 90, 96, 68, 64, 66, 47, 43, 44, 35, 31, 32, 26, 23, 24, 21, 18, 17, 21, 17, 16, 24, 21, 19, 29, 25, 24, 25, 26, 20, 65, 68, 64, 186, 187, 192, 143, 143, 157, 142, 142, 161, 156, 158, 175, 160, 163, 174, 102, 105, 110, 59, 64, 65, 188, 192, 195, 189, 189, 194, 183, 175, 183, 172, 161, 165, 170, 159, 163, 170, 159, 163, 172, 159, 166, 173, 159, 168, 172, 158, 167, 172, 158, 167, 174, 161, 171, 176, 164, 175, 177, 164, 176, 176, 163, 175, 172, 161, 171, 163, 156, 158, 148, 142, 143, 127, 121, 123, 104, 98, 99, 85, 78, 78, 70, 64, 63, 61, 55, 54, 51, 45, 44, 36, 33, 33, 51, 49, 52, 115, 112, 118, 70, 66, 75, 75, 71, 82, 103, 99, 107, 131, 127, 131, 87, 84, 83, 38, 37, 34, 147, 147, 151, 168, 163, 170, 173, 163, 172, 177, 165, 172, 173, 161, 168, 174, 162, 169, 175, 161, 170, 178, 162, 173, 180, 163, 174, 179, 162, 173, 179, 163, 174, 177, 163, 173, 176, 162, 172, 176, 162, 172, 177, 164, 172, 177, 167, 168, 177, 167, 168, 178, 168, 169, 176, 166, 166, 169, 160, 158, 162, 153, 150, 153, 144, 142, 141, 132, 129, 120, 111, 114, 106, 98, 103, 123, 116, 119, 116, 109, 110, 112, 103, 104, 114, 103, 102, 122, 112, 108, 111, 102, 95, 81, 72, 66, 122, 116, 119, 169, 160, 165, 173, 162, 168, 178, 162, 170, 174, 159, 166, 176, 161, 168, 177, 160, 168, 178, 159, 169, 178, 160, 169, 178, 159, 169, 178, 161, 167, 177, 163, 163, 177, 162, 163, 177, 162, 163, 178, 164, 163, 178, 166, 161, 178, 166, 161, 177, 165, 160, 177, 165, 160, 177, 165, 158, 179, 167, 160, 181, 169, 162, 182, 170, 163, 180, 168, 165, 177, 165, 163, 179, 167, 163, 182, 170, 164, 182, 170, 162, 184, 170, 162, 182, 169, 160, 175, 162, 152, 167, 154, 146, 172, 160, 159, 179, 167, 167, 180, 167, 167, 190, 172, 161, 188, 170, 160, 190, 172, 162, 189, 172, 161, 191, 174, 162, 190, 173, 162, 192, 175, 164, 193, 178, 165, 192, 179, 163, 192, 179, 163, 191, 178, 162, 191, 177, 162, 193, 179, 165, 194, 180, 167, 194, 180, 167, 194, 181, 166, 194, 181, 165, 195, 182, 165, 196, 183, 167, 195, 182, 165, 195, 181, 165, 195, 180, 166, 195, 180, 166, 193, 178, 165, 191, 177, 164, 189, 176, 163, 192, 178, 166, 191, 178, 166, 193, 179, 169, 195, 179, 171, 192, 177, 169, 192, 178, 169, 200, 184, 165, 198, 182, 163, 196, 180, 161, 195, 181, 163, 193, 180, 163, 192, 179, 162, 194, 181, 164, 192, 179, 164, 191, 179, 165, 192, 179, 166, 190, 178, 164, 189, 176, 163, 190, 176, 166, 190, 176, 167, 190, 176, 168, 190, 176, 168, 190, 176, 167, 190, 177, 167, 191, 176, 167, 192, 176, 167, 192, 178, 167, 191, 177, 167, 189, 175, 166, 189, 174, 168, 187, 173, 167, 184, 172, 166, 185, 173, 168, 184, 172, 169, 183, 169, 167, 184, 168, 165, 186, 171, 167, 187, 173, 168, 184, 172, 170, 182, 170, 168, 180, 169, 167, 181, 169, 171, 180, 168, 172, 181, 169, 173, 182, 170, 174, 180, 168, 173, 181, 168, 174, 183, 171, 176, 185, 172, 178, 184, 171, 176, 183, 172, 176, 183, 171, 177, 182, 170, 178, 184, 172, 182, 184, 172, 182, 183, 171, 180, 185, 170, 181, 187, 170, 181, 186, 171, 181, 185, 173, 182, 184, 172, 182, 185, 173, 183, 184, 172, 182, 183, 171, 182, 184, 172, 182, 183, 171, 182, 183, 171, 182, 181, 169, 179, 182, 170, 180, 182, 170, 181], \"height\": 32, \"channels\": 3, \"width\": 32, \"type\": \"image\", \"id\": 4803038864}, {\"format\": \"raw\", \"value\": [56, 59, 58, 35, 38, 36, 61, 64, 62, 57, 59, 56, 99, 97, 84, 145, 139, 127, 141, 130, 123, 140, 128, 115, 120, 110, 90, 95, 91, 74, 77, 74, 59, 54, 51, 36, 47, 44, 29, 43, 40, 27, 35, 38, 27, 26, 30, 21, 24, 27, 17, 22, 26, 16, 24, 28, 18, 22, 25, 17, 21, 23, 21, 24, 26, 26, 44, 47, 37, 64, 68, 48, 66, 68, 46, 68, 72, 50, 66, 75, 50, 60, 73, 47, 52, 66, 40, 58, 72, 46, 48, 62, 36, 40, 54, 31, 70, 65, 56, 69, 64, 54, 77, 72, 63, 67, 61, 50, 112, 101, 79, 138, 125, 107, 130, 117, 110, 127, 114, 110, 127, 115, 108, 122, 115, 105, 91, 85, 75, 72, 66, 56, 84, 78, 68, 90, 85, 76, 67, 70, 62, 41, 46, 39, 43, 48, 41, 48, 53, 46, 38, 43, 35, 35, 40, 33, 36, 41, 37, 35, 39, 36, 44, 50, 38, 58, 65, 45, 52, 60, 37, 59, 69, 45, 63, 76, 51, 53, 69, 43, 48, 64, 38, 59, 73, 47, 51, 65, 40, 42, 56, 35, 117, 105, 91, 116, 105, 91, 101, 89, 76, 86, 74, 57, 109, 91, 64, 124, 108, 88, 115, 105, 100, 92, 82, 87, 90, 79, 84, 98, 90, 88, 101, 95, 90, 74, 67, 63, 83, 76, 72, 107, 102, 98, 68, 72, 68, 48, 54, 50, 74, 81, 76, 83, 89, 85, 70, 77, 72, 61, 68, 62, 54, 61, 55, 53, 60, 52, 60, 68, 56, 62, 72, 54, 54, 67, 45, 48, 63, 39, 46, 61, 38, 42, 59, 36, 41, 57, 33, 41, 55, 30, 49, 63, 41, 47, 60, 41, 125, 113, 98, 123, 112, 98, 122, 110, 96, 125, 113, 97, 132, 117, 96, 141, 133, 119, 131, 132, 132, 85, 84, 93, 91, 85, 96, 116, 111, 114, 133, 130, 130, 114, 111, 111, 119, 115, 116, 133, 131, 131, 100, 107, 106, 80, 89, 88, 82, 91, 90, 70, 79, 78, 63, 72, 71, 61, 70, 66, 57, 67, 58, 58, 69, 56, 53, 64, 50, 54, 66, 50, 53, 69, 48, 48, 64, 43, 43, 58, 38, 43, 57, 37, 47, 61, 40, 33, 46, 24, 46, 60, 40, 49, 62, 45, 124, 119, 110, 124, 119, 110, 126, 121, 112, 129, 124, 115, 137, 133, 125, 142, 150, 148, 157, 174, 179, 159, 170, 180, 191, 192, 201, 195, 196, 201, 189, 192, 196, 181, 183, 187, 174, 177, 180, 165, 169, 172, 151, 160, 162, 137, 147, 149, 121, 131, 133, 101, 111, 113, 83, 93, 95, 86, 96, 95, 91, 102, 92, 78, 91, 74, 49, 61, 46, 42, 55, 41, 46, 61, 43, 48, 62, 43, 39, 50, 32, 46, 54, 37, 50, 59, 42, 41, 54, 34, 49, 62, 44, 46, 59, 44, 120, 122, 120, 118, 121, 119, 118, 121, 118, 121, 123, 122, 123, 134, 140, 123, 148, 158, 120, 152, 163, 147, 170, 178, 174, 181, 186, 127, 135, 140, 106, 116, 121, 90, 99, 104, 67, 76, 82, 53, 62, 68, 55, 66, 70, 59, 70, 74, 51, 62, 66, 65, 76, 80, 71, 82, 86, 99, 110, 110, 114, 127, 115, 82, 96, 77, 46, 60, 44, 46, 59, 47, 45, 58, 42, 51, 61, 44, 44, 51, 35, 45, 47, 33, 41, 44, 30, 47, 59, 41, 47, 60, 44, 47, 59, 46, 110, 118, 123, 108, 118, 122, 108, 113, 117, 113, 112, 117, 102, 114, 125, 129, 156, 171, 97, 130, 145, 117, 142, 152, 104, 117, 123, 40, 57, 62, 41, 59, 65, 48, 62, 70, 33, 45, 53, 21, 32, 40, 24, 34, 39, 30, 41, 44, 20, 32, 35, 41, 54, 57, 51, 65, 68, 74, 89, 89, 115, 131, 122, 92, 107, 90, 50, 63, 48, 48, 60, 48, 50, 62, 48, 50, 60, 45, 55, 60, 46, 58, 58, 45, 49, 52, 36, 49, 61, 40, 42, 55, 36, 41, 52, 39, 95, 105, 113, 91, 104, 112, 94, 99, 106, 101, 95, 100, 84, 89, 95, 116, 133, 145, 64, 87, 104, 116, 136, 149, 92, 107, 114, 27, 50, 54, 29, 51, 57, 35, 51, 59, 29, 39, 50, 26, 32, 43, 28, 36, 40, 31, 42, 44, 27, 39, 41, 34, 49, 49, 65, 82, 82, 60, 80, 79, 93, 111, 106, 98, 112, 102, 62, 72, 60, 46, 54, 41, 46, 56, 43, 54, 63, 49, 63, 69, 54, 97, 100, 85, 99, 103, 84, 86, 93, 69, 71, 78, 59, 42, 47, 35, 98, 103, 110, 90, 96, 106, 98, 103, 111, 81, 85, 87, 83, 90, 95, 113, 127, 138, 37, 55, 70, 98, 112, 124, 95, 105, 111, 18, 38, 41, 18, 39, 43, 21, 35, 41, 24, 32, 40, 27, 30, 39, 40, 45, 51, 34, 42, 46, 31, 41, 44, 26, 40, 42, 60, 77, 78, 58, 77, 76, 67, 84, 81, 90, 102, 95, 76, 83, 72, 48, 52, 37, 50, 53, 35, 60, 63, 46, 79, 82, 66, 124, 128, 111, 130, 132, 113, 129, 127, 107, 121, 118, 102, 69, 65, 56, 111, 110, 112, 90, 86, 96, 131, 136, 143, 109, 127, 126, 106, 119, 124, 159, 172, 182, 114, 130, 139, 115, 124, 131, 103, 107, 110, 26, 41, 43, 26, 43, 45, 20, 31, 35, 24, 30, 36, 28, 31, 38, 40, 44, 52, 33, 39, 47, 26, 35, 42, 26, 37, 43, 42, 57, 61, 43, 61, 62, 51, 66, 64, 66, 77, 70, 81, 88, 77, 75, 76, 61, 74, 70, 48, 84, 81, 59, 110, 108, 89, 131, 132, 113, 130, 130, 112, 138, 132, 115, 137, 130, 117, 108, 101, 93, 113, 109, 108, 88, 78, 86, 167, 168, 172, 199, 215, 211, 169, 178, 183, 192, 202, 209, 164, 176, 180, 130, 136, 139, 113, 114, 118, 51, 63, 65, 53, 68, 71, 23, 34, 37, 25, 33, 37, 27, 33, 40, 30, 36, 47, 29, 36, 48, 26, 35, 46, 25, 38, 47, 26, 42, 50, 24, 44, 48, 33, 49, 50, 44, 56, 53, 89, 97, 89, 125, 126, 114, 133, 125, 103, 131, 124, 101, 138, 132, 112, 143, 139, 120, 134, 132, 114, 139, 137, 118, 138, 136, 119, 129, 126, 113, 105, 102, 101, 92, 84, 89, 198, 190, 190, 244, 241, 235, 223, 220, 222, 221, 224, 225, 168, 177, 174, 129, 135, 136, 134, 135, 143, 44, 56, 63, 35, 50, 57, 22, 37, 43, 23, 37, 43, 25, 37, 45, 28, 39, 52, 27, 39, 53, 28, 43, 56, 33, 51, 63, 34, 54, 66, 36, 59, 68, 50, 71, 78, 59, 75, 78, 66, 78, 76, 92, 98, 91, 128, 124, 107, 150, 145, 126, 155, 148, 129, 150, 143, 122, 143, 138, 117, 140, 140, 117, 137, 138, 115, 131, 131, 110, 103, 105, 106, 79, 79, 79, 195, 175, 172, 238, 202, 197, 230, 210, 208, 237, 234, 227, 216, 222, 214, 194, 202, 202, 132, 137, 150, 37, 52, 65, 28, 48, 58, 27, 46, 56, 26, 47, 57, 28, 48, 59, 32, 50, 64, 37, 56, 71, 39, 62, 75, 40, 66, 78, 42, 70, 82, 46, 76, 91, 56, 83, 97, 62, 84, 93, 53, 70, 76, 60, 72, 73, 78, 83, 76, 103, 103, 92, 123, 118, 101, 143, 133, 112, 144, 131, 107, 144, 133, 107, 136, 125, 98, 135, 125, 97, 103, 110, 112, 69, 77, 73, 169, 143, 137, 187, 123, 118, 208, 169, 163, 236, 223, 211, 239, 241, 229, 206, 214, 215, 94, 103, 120, 42, 61, 78, 35, 57, 73, 35, 59, 75, 36, 62, 77, 35, 62, 76, 38, 62, 77, 37, 63, 77, 36, 64, 77, 31, 62, 74, 30, 63, 77, 31, 66, 86, 36, 68, 88, 44, 71, 86, 51, 74, 85, 52, 71, 79, 58, 71, 73, 75, 83, 79, 95, 95, 82, 125, 115, 95, 142, 124, 100, 149, 123, 97, 144, 116, 88, 140, 113, 84, 110, 120, 121, 86, 91, 89, 174, 159, 156, 183, 141, 138, 167, 100, 91, 186, 129, 117, 238, 210, 201, 200, 193, 192, 64, 70, 80, 48, 62, 84, 42, 63, 86, 31, 59, 79, 29, 58, 78, 31, 57, 76, 32, 57, 71, 35, 59, 72, 36, 60, 75, 33, 57, 74, 30, 55, 74, 27, 54, 76, 28, 54, 74, 31, 55, 71, 36, 59, 73, 43, 64, 74, 44, 63, 71, 44, 65, 72, 58, 76, 79, 94, 102, 97, 118, 113, 100, 141, 119, 101, 150, 123, 101, 151, 124, 102, 118, 126, 126, 112, 113, 112, 185, 179, 179, 230, 212, 210, 191, 125, 114, 152, 81, 70, 211, 170, 165, 194, 178, 178, 45, 45, 51, 32, 40, 61, 46, 63, 85, 35, 60, 79, 28, 54, 73, 28, 50, 69, 29, 51, 63, 30, 52, 64, 29, 49, 65, 32, 49, 69, 34, 51, 73, 27, 46, 67, 26, 45, 64, 27, 47, 62, 27, 47, 60, 30, 50, 60, 31, 51, 61, 24, 50, 63, 20, 48, 60, 69, 88, 93, 123, 129, 125, 134, 125, 113, 142, 126, 109, 149, 131, 113, 118, 125, 125, 114, 115, 115, 158, 153, 153, 235, 222, 220, 238, 202, 191, 189, 149, 138, 212, 186, 182, 185, 173, 176, 54, 49, 59, 28, 30, 46, 23, 33, 48, 32, 51, 63, 39, 56, 69, 36, 50, 63, 28, 46, 56, 28, 46, 57, 26, 44, 58, 22, 39, 56, 20, 37, 56, 22, 39, 58, 20, 37, 54, 18, 36, 49, 16, 34, 45, 18, 36, 45, 18, 38, 45, 15, 38, 48, 12, 35, 46, 20, 35, 41, 44, 54, 53, 83, 87, 79, 112, 106, 92, 137, 126, 106, 120, 125, 126, 116, 116, 116, 117, 113, 113, 185, 179, 175, 225, 214, 203, 231, 222, 213, 244, 235, 233, 180, 172, 178, 63, 56, 67, 41, 38, 49, 28, 33, 41, 24, 34, 40, 33, 40, 47, 46, 49, 58, 37, 48, 57, 26, 40, 49, 20, 35, 46, 15, 31, 45, 12, 28, 43, 13, 28, 43, 17, 31, 45, 17, 32, 42, 18, 34, 42, 23, 39, 46, 26, 44, 51, 26, 44, 52, 30, 46, 55, 42, 53, 60, 52, 64, 67, 54, 69, 66, 83, 87, 76, 130, 125, 107, 120, 121, 124, 117, 117, 118, 98, 96, 95, 93, 91, 87, 184, 190, 181, 229, 235, 229, 240, 242, 241, 175, 172, 177, 60, 54, 62, 40, 35, 41, 47, 48, 51, 32, 37, 39, 37, 36, 40, 85, 79, 85, 91, 95, 102, 61, 69, 77, 37, 48, 57, 32, 47, 57, 34, 50, 61, 42, 53, 66, 54, 64, 76, 64, 75, 83, 55, 67, 73, 54, 67, 72, 49, 65, 69, 40, 54, 58, 45, 55, 60, 67, 75, 84, 68, 80, 88, 48, 66, 67, 68, 77, 68, 113, 112, 96, 119, 118, 121, 116, 116, 116, 82, 82, 80, 36, 37, 33, 82, 90, 85, 188, 195, 192, 237, 241, 240, 184, 184, 185, 57, 55, 57, 40, 37, 39, 70, 71, 71, 49, 52, 52, 62, 58, 60, 166, 156, 160, 190, 188, 192, 166, 169, 174, 129, 136, 143, 96, 109, 116, 100, 115, 123, 93, 102, 112, 104, 112, 121, 134, 142, 148, 72, 80, 83, 44, 54, 56, 42, 57, 59, 52, 62, 62, 38, 42, 44, 36, 39, 49, 36, 45, 57, 26, 40, 41, 44, 50, 44, 78, 77, 65, 119, 118, 121, 116, 115, 116, 89, 90, 87, 55, 57, 52, 54, 54, 55, 106, 106, 107, 201, 202, 201, 185, 187, 183, 58, 61, 56, 38, 38, 37, 71, 74, 74, 56, 59, 58, 53, 48, 50, 119, 107, 111, 160, 154, 157, 165, 165, 168, 146, 152, 156, 79, 92, 96, 85, 99, 105, 77, 83, 92, 83, 88, 95, 121, 126, 130, 64, 70, 71, 30, 38, 38, 25, 38, 38, 48, 54, 52, 33, 31, 31, 14, 14, 24, 13, 19, 33, 26, 33, 35, 50, 51, 46, 82, 79, 72, 124, 122, 126, 118, 118, 119, 112, 113, 112, 105, 106, 103, 108, 104, 106, 107, 102, 104, 132, 131, 129, 153, 154, 147, 70, 73, 65, 40, 40, 40, 76, 79, 81, 59, 63, 64, 50, 49, 52, 50, 43, 48, 67, 62, 66, 94, 94, 98, 65, 68, 73, 35, 44, 49, 28, 39, 44, 29, 34, 40, 28, 32, 36, 28, 33, 34, 26, 31, 29, 30, 36, 33, 17, 25, 23, 41, 43, 39, 35, 31, 30, 18, 16, 24, 17, 20, 30, 25, 27, 27, 43, 42, 38, 55, 54, 50, 123, 122, 128, 121, 120, 123, 122, 122, 122, 120, 120, 118, 119, 118, 118, 119, 117, 117, 117, 115, 111, 122, 119, 112, 90, 86, 80, 47, 46, 48, 81, 83, 87, 56, 61, 63, 57, 62, 65, 68, 71, 74, 62, 64, 69, 73, 75, 81, 39, 42, 49, 19, 23, 30, 18, 23, 29, 19, 23, 25, 21, 25, 25, 20, 24, 21, 22, 27, 21, 31, 36, 28, 27, 28, 22, 39, 37, 33, 33, 29, 28, 23, 20, 23, 20, 18, 22, 22, 23, 22, 30, 33, 32, 33, 38, 39, 125, 124, 131, 124, 123, 127, 124, 124, 124, 122, 122, 121, 121, 122, 122, 122, 122, 121, 119, 117, 114, 119, 114, 109, 108, 102, 98, 78, 76, 78, 93, 94, 98, 50, 54, 56, 38, 44, 45, 56, 64, 66, 65, 69, 74, 79, 82, 89, 68, 71, 77, 40, 43, 50, 38, 42, 47, 32, 36, 37, 30, 34, 33, 27, 32, 27, 21, 27, 18, 28, 33, 23, 29, 28, 20, 30, 27, 22, 28, 25, 23, 21, 18, 19, 17, 15, 16, 21, 23, 21, 22, 26, 26, 30, 38, 39, 126, 125, 132, 123, 123, 126, 123, 123, 123, 125, 125, 124, 126, 127, 128, 124, 124, 125, 120, 118, 116, 121, 115, 112, 120, 113, 109, 110, 107, 108, 98, 97, 99, 47, 49, 50, 34, 39, 39, 33, 39, 39, 39, 43, 47, 64, 68, 72, 63, 66, 71, 44, 47, 52, 40, 43, 47, 31, 35, 35, 25, 29, 27, 20, 25, 20, 14, 20, 12, 26, 30, 21, 24, 24, 17, 23, 22, 17, 23, 23, 20, 16, 14, 15, 16, 16, 17, 21, 23, 21, 26, 30, 29, 35, 43, 44, 124, 123, 130, 123, 122, 126, 124, 124, 125, 127, 127, 127, 129, 129, 132, 126, 126, 129, 125, 122, 123, 124, 119, 117, 126, 118, 116, 123, 118, 118, 100, 97, 99, 45, 45, 46, 30, 33, 32, 35, 40, 39, 34, 38, 40, 45, 49, 51, 35, 39, 41, 20, 24, 26, 19, 23, 25, 17, 21, 22, 16, 20, 19, 15, 20, 15, 13, 18, 10, 24, 29, 20, 28, 29, 21, 22, 23, 17, 20, 20, 18, 17, 16, 17, 18, 19, 19, 22, 24, 23, 28, 32, 31, 34, 42, 43, 121, 120, 127, 122, 121, 125, 124, 124, 125, 127, 127, 127, 128, 128, 133, 127, 126, 132, 128, 125, 128, 130, 124, 124, 130, 121, 121, 127, 120, 121, 105, 101, 101, 43, 41, 40, 26, 27, 26, 41, 44, 42, 37, 41, 40, 39, 43, 44, 32, 36, 36, 22, 26, 26, 19, 23, 23, 17, 21, 21, 16, 20, 18, 14, 19, 14, 15, 21, 13, 24, 29, 19, 23, 26, 17, 17, 19, 13, 15, 16, 13, 20, 21, 21, 25, 26, 26, 28, 30, 28, 29, 33, 33, 30, 37, 39, 119, 118, 125, 121, 121, 124, 125, 125, 125, 128, 128, 128, 127, 127, 132, 126, 125, 131, 127, 123, 128, 128, 122, 125, 130, 121, 122, 127, 119, 119, 103, 98, 96, 39, 35, 33, 23, 23, 20, 31, 33, 29, 23, 27, 26, 22, 26, 26, 21, 25, 24, 17, 21, 20, 14, 18, 17, 13, 17, 17, 12, 17, 15, 13, 18, 12, 22, 28, 19, 24, 30, 20, 15, 19, 10, 11, 15, 8, 14, 18, 14, 22, 25, 23, 27, 29, 29, 30, 32, 30, 29, 34, 33, 28, 35, 37, 118, 117, 124, 120, 119, 123, 123, 123, 124, 126, 126, 126, 126, 126, 132, 125, 124, 131, 126, 122, 128, 128, 121, 125, 131, 122, 125, 129, 120, 120, 104, 97, 95, 39, 35, 32, 22, 21, 17, 18, 19, 15, 14, 17, 15, 16, 20, 17, 17, 20, 18, 14, 18, 16, 14, 18, 16, 15, 19, 19, 17, 21, 19, 14, 19, 14, 17, 23, 15, 16, 22, 12, 11, 17, 8, 13, 18, 11, 17, 21, 17, 21, 25, 24, 24, 27, 27, 27, 29, 28, 29, 33, 33, 28, 35, 37, 117, 116, 124, 115, 114, 120, 118, 118, 122, 122, 121, 125, 123, 123, 127, 124, 124, 127, 125, 123, 126, 126, 123, 125, 126, 122, 123, 124, 118, 121, 113, 107, 108, 67, 62, 62, 44, 41, 39, 33, 31, 28, 34, 32, 28, 36, 34, 31, 40, 38, 34, 42, 40, 36, 49, 47, 44, 56, 56, 54, 61, 62, 61, 39, 42, 40, 17, 22, 20, 16, 21, 19, 13, 18, 14, 15, 20, 16, 17, 22, 19, 22, 26, 25, 24, 28, 28, 28, 31, 32, 30, 34, 36, 31, 36, 39, 117, 116, 124, 115, 114, 121, 118, 117, 125, 120, 120, 126, 122, 121, 123, 122, 122, 122, 122, 122, 122, 122, 121, 122, 121, 120, 121, 119, 115, 120, 117, 112, 116, 113, 109, 110, 106, 102, 101, 100, 96, 93, 100, 93, 90, 100, 92, 89, 107, 100, 97, 107, 100, 97, 84, 78, 75, 61, 57, 54, 47, 46, 45, 32, 33, 34, 19, 23, 26, 19, 24, 26, 18, 23, 22, 19, 24, 22, 21, 25, 24, 23, 27, 26, 28, 32, 32, 31, 35, 38, 32, 36, 39, 34, 38, 41, 116, 115, 123, 114, 113, 121, 116, 115, 123, 117, 116, 123, 117, 117, 119, 117, 117, 117, 118, 118, 118, 118, 118, 118, 117, 116, 117, 117, 112, 117, 113, 108, 112, 115, 111, 112, 116, 112, 111, 119, 115, 112, 121, 114, 111, 121, 113, 110, 123, 115, 112, 120, 112, 109, 115, 108, 105, 100, 95, 92, 72, 69, 67, 42, 42, 42, 26, 28, 31, 23, 27, 29, 26, 30, 29, 26, 30, 29, 25, 29, 28, 26, 30, 29, 30, 34, 34, 33, 37, 39, 41, 45, 47, 45, 49, 51], \"height\": 32, \"channels\": 3, \"width\": 32, \"type\": \"image\", \"id\": 4803039056}, {\"format\": \"raw\", \"value\": [73, 82, 81, 33, 40, 37, 30, 34, 30, 41, 44, 39, 47, 53, 47, 63, 72, 70, 81, 91, 97, 68, 77, 91, 65, 76, 90, 63, 75, 86, 117, 127, 133, 132, 140, 144, 45, 50, 54, 32, 34, 39, 44, 44, 49, 40, 43, 46, 26, 31, 30, 26, 27, 22, 26, 26, 20, 23, 27, 24, 26, 33, 34, 28, 32, 34, 29, 33, 34, 24, 27, 28, 21, 25, 25, 26, 30, 29, 29, 34, 34, 38, 43, 43, 39, 43, 41, 43, 44, 41, 34, 34, 31, 31, 30, 28, 140, 153, 158, 70, 81, 84, 50, 58, 60, 58, 65, 65, 79, 89, 88, 97, 109, 112, 76, 86, 95, 50, 59, 71, 50, 57, 66, 45, 53, 58, 120, 129, 135, 121, 129, 136, 45, 51, 59, 47, 51, 60, 45, 47, 56, 85, 88, 95, 90, 94, 95, 57, 56, 54, 52, 50, 47, 47, 49, 49, 36, 41, 45, 32, 38, 44, 32, 38, 44, 23, 29, 35, 30, 36, 42, 42, 48, 54, 42, 51, 58, 27, 38, 44, 46, 55, 60, 76, 83, 86, 25, 30, 31, 19, 24, 22, 146, 163, 172, 123, 137, 145, 118, 130, 136, 84, 96, 100, 88, 100, 104, 85, 99, 105, 67, 78, 88, 48, 54, 65, 54, 57, 62, 82, 85, 85, 139, 146, 151, 106, 113, 122, 82, 89, 99, 90, 96, 108, 70, 75, 89, 112, 118, 128, 137, 141, 146, 100, 100, 101, 83, 81, 81, 64, 66, 69, 37, 43, 50, 28, 37, 45, 38, 47, 56, 40, 48, 59, 40, 47, 60, 40, 47, 62, 40, 53, 65, 21, 36, 48, 46, 60, 72, 91, 104, 113, 31, 42, 45, 21, 32, 29, 116, 134, 146, 137, 152, 162, 144, 158, 166, 121, 132, 140, 109, 121, 127, 105, 116, 123, 114, 122, 132, 102, 107, 117, 105, 108, 110, 150, 152, 149, 133, 139, 141, 93, 101, 107, 112, 120, 128, 99, 108, 119, 82, 90, 104, 109, 118, 130, 127, 134, 141, 127, 130, 134, 117, 119, 122, 104, 108, 114, 85, 95, 103, 77, 89, 97, 78, 90, 99, 79, 90, 102, 81, 91, 107, 79, 89, 107, 66, 81, 96, 50, 68, 82, 52, 68, 86, 76, 91, 104, 42, 56, 57, 31, 45, 40, 62, 77, 89, 78, 91, 101, 116, 128, 136, 142, 152, 159, 107, 114, 120, 97, 102, 107, 109, 113, 122, 144, 148, 156, 149, 154, 155, 137, 142, 138, 86, 92, 90, 81, 89, 89, 117, 127, 130, 89, 100, 108, 64, 77, 88, 77, 92, 103, 86, 100, 108, 88, 97, 101, 90, 98, 101, 91, 103, 110, 90, 106, 114, 93, 109, 114, 102, 117, 123, 109, 124, 135, 127, 141, 157, 105, 119, 138, 81, 97, 112, 76, 94, 109, 69, 84, 105, 64, 78, 93, 53, 67, 66, 52, 65, 57, 44, 57, 68, 59, 69, 79, 95, 103, 111, 77, 83, 90, 68, 71, 75, 75, 75, 78, 63, 64, 71, 84, 88, 97, 92, 99, 102, 84, 94, 90, 84, 92, 87, 86, 95, 90, 98, 109, 109, 84, 97, 102, 56, 72, 80, 44, 63, 73, 50, 69, 77, 55, 69, 74, 56, 69, 73, 55, 72, 78, 54, 75, 82, 60, 79, 81, 67, 86, 88, 86, 104, 112, 125, 142, 156, 74, 90, 108, 76, 93, 107, 90, 106, 121, 79, 92, 113, 61, 72, 88, 58, 69, 66, 79, 90, 80, 55, 74, 82, 88, 98, 107, 73, 77, 85, 14, 17, 23, 21, 23, 26, 22, 22, 24, 16, 18, 22, 32, 37, 43, 70, 79, 84, 86, 98, 102, 85, 98, 99, 81, 95, 96, 81, 95, 98, 56, 72, 78, 46, 63, 70, 43, 62, 70, 53, 69, 78, 61, 70, 78, 58, 64, 72, 51, 60, 68, 46, 59, 66, 43, 61, 63, 46, 62, 65, 81, 95, 101, 111, 127, 135, 74, 93, 102, 71, 88, 96, 78, 93, 104, 75, 89, 106, 55, 66, 79, 17, 22, 25, 28, 37, 31, 73, 98, 104, 130, 140, 149, 117, 119, 127, 69, 71, 77, 20, 22, 25, 0, 2, 4, 19, 22, 25, 60, 67, 72, 115, 124, 132, 153, 165, 174, 118, 134, 142, 82, 99, 107, 63, 80, 87, 50, 67, 74, 60, 77, 84, 67, 84, 90, 72, 85, 91, 69, 76, 84, 60, 64, 74, 46, 53, 62, 33, 47, 53, 35, 53, 57, 40, 55, 60, 95, 106, 112, 106, 119, 125, 69, 88, 92, 59, 75, 80, 71, 87, 94, 83, 99, 111, 58, 68, 79, 7, 9, 16, 5, 3, 4, 133, 153, 159, 163, 174, 182, 143, 148, 156, 152, 157, 163, 111, 115, 120, 113, 117, 121, 161, 167, 172, 192, 200, 206, 157, 166, 174, 98, 109, 117, 94, 108, 116, 70, 85, 92, 63, 78, 85, 63, 78, 85, 72, 87, 94, 80, 97, 100, 72, 88, 88, 61, 73, 77, 49, 63, 71, 32, 54, 62, 25, 53, 60, 33, 59, 63, 38, 56, 62, 103, 114, 122, 88, 97, 106, 52, 64, 72, 54, 68, 74, 58, 74, 81, 68, 84, 96, 97, 108, 119, 53, 58, 64, 17, 8, 12, 195, 212, 219, 184, 197, 204, 111, 121, 128, 142, 150, 157, 186, 193, 200, 182, 190, 197, 174, 182, 189, 162, 171, 178, 113, 122, 130, 61, 71, 79, 64, 76, 84, 54, 67, 75, 56, 69, 77, 58, 70, 78, 67, 80, 88, 74, 90, 91, 70, 86, 83, 62, 78, 79, 51, 73, 78, 47, 80, 88, 41, 81, 87, 47, 79, 82, 52, 73, 78, 106, 118, 126, 83, 90, 101, 85, 94, 104, 64, 76, 83, 42, 57, 65, 81, 97, 109, 136, 148, 158, 104, 109, 115, 38, 24, 30, 189, 203, 208, 172, 186, 192, 131, 145, 152, 121, 132, 141, 138, 148, 157, 125, 136, 146, 116, 127, 135, 107, 117, 126, 93, 102, 111, 82, 91, 98, 73, 83, 92, 71, 81, 90, 66, 77, 85, 59, 69, 78, 53, 64, 73, 47, 59, 61, 48, 61, 59, 52, 66, 68, 59, 81, 86, 82, 117, 124, 85, 127, 132, 88, 119, 123, 77, 98, 105, 104, 115, 125, 74, 80, 92, 109, 117, 128, 102, 114, 121, 103, 118, 126, 131, 147, 159, 147, 158, 168, 120, 125, 131, 39, 31, 35, 127, 138, 142, 121, 137, 142, 97, 114, 121, 92, 106, 115, 96, 110, 121, 102, 117, 129, 99, 112, 123, 80, 92, 101, 76, 86, 94, 79, 87, 94, 74, 84, 92, 73, 82, 91, 68, 78, 87, 58, 68, 77, 48, 58, 67, 40, 49, 55, 37, 45, 48, 41, 49, 55, 45, 60, 67, 54, 80, 87, 66, 100, 104, 86, 111, 119, 112, 129, 139, 102, 112, 125, 52, 61, 74, 81, 93, 105, 95, 109, 117, 118, 134, 141, 107, 123, 135, 115, 126, 136, 94, 98, 104, 25, 24, 27, 65, 72, 77, 95, 112, 116, 70, 90, 96, 78, 95, 104, 103, 119, 131, 97, 114, 128, 83, 98, 109, 51, 63, 73, 40, 50, 58, 43, 51, 58, 46, 54, 63, 47, 56, 65, 47, 55, 64, 45, 54, 63, 46, 55, 64, 46, 52, 62, 48, 51, 61, 46, 49, 59, 47, 53, 62, 61, 77, 83, 96, 118, 123, 131, 150, 161, 156, 169, 183, 118, 128, 143, 88, 100, 114, 106, 123, 134, 105, 121, 129, 93, 108, 116, 80, 96, 107, 81, 92, 102, 59, 63, 70, 20, 19, 21, 35, 40, 43, 88, 100, 104, 85, 100, 107, 103, 118, 128, 106, 118, 130, 82, 92, 104, 67, 76, 86, 49, 56, 64, 36, 43, 48, 33, 39, 44, 35, 40, 48, 36, 40, 49, 37, 42, 50, 44, 49, 56, 60, 65, 72, 60, 62, 71, 50, 54, 64, 62, 70, 76, 105, 111, 118, 146, 153, 162, 164, 179, 190, 168, 187, 202, 154, 170, 189, 132, 145, 164, 105, 118, 133, 93, 109, 117, 89, 103, 110, 84, 96, 105, 79, 91, 101, 58, 66, 74, 38, 41, 45, 23, 24, 24, 31, 34, 37, 92, 99, 103, 105, 115, 123, 99, 112, 123, 77, 86, 97, 66, 69, 80, 59, 62, 71, 58, 61, 67, 60, 64, 68, 62, 65, 69, 58, 59, 67, 54, 54, 63, 53, 53, 61, 70, 71, 77, 74, 75, 80, 64, 63, 71, 95, 102, 108, 150, 166, 166, 180, 187, 192, 188, 191, 204, 179, 193, 208, 157, 177, 195, 146, 164, 187, 135, 150, 173, 87, 100, 116, 68, 81, 86, 81, 91, 98, 93, 101, 111, 92, 100, 107, 55, 61, 64, 52, 55, 55, 73, 74, 73, 30, 33, 35, 84, 89, 94, 105, 115, 123, 78, 91, 101, 39, 49, 60, 47, 50, 61, 59, 63, 72, 61, 65, 72, 73, 77, 82, 78, 83, 87, 80, 83, 89, 79, 81, 88, 78, 80, 87, 84, 86, 93, 78, 80, 87, 138, 138, 147, 193, 202, 208, 193, 208, 208, 200, 203, 209, 198, 199, 212, 182, 195, 210, 177, 195, 212, 168, 183, 203, 124, 137, 157, 75, 87, 101, 67, 78, 84, 90, 100, 107, 90, 97, 107, 84, 90, 96, 45, 49, 52, 55, 57, 56, 100, 100, 98, 34, 36, 38, 86, 92, 96, 106, 116, 123, 69, 82, 93, 29, 40, 51, 27, 33, 45, 39, 45, 55, 54, 61, 69, 64, 71, 76, 68, 75, 79, 76, 79, 86, 78, 81, 88, 80, 83, 91, 96, 99, 109, 170, 173, 182, 235, 237, 247, 227, 237, 243, 224, 236, 239, 229, 228, 235, 219, 216, 228, 213, 223, 236, 195, 207, 223, 125, 136, 152, 85, 96, 111, 77, 87, 98, 74, 85, 91, 81, 90, 98, 74, 80, 89, 80, 84, 89, 52, 54, 56, 63, 65, 61, 87, 88, 84, 26, 28, 30, 73, 79, 83, 96, 106, 113, 90, 103, 113, 49, 60, 72, 37, 44, 57, 34, 42, 53, 42, 50, 59, 49, 57, 64, 54, 62, 67, 64, 69, 74, 66, 71, 77, 65, 69, 78, 132, 136, 147, 206, 210, 221, 206, 211, 224, 202, 213, 221, 205, 215, 219, 218, 211, 220, 205, 199, 209, 191, 199, 209, 137, 144, 158, 37, 44, 56, 40, 48, 57, 79, 88, 95, 70, 79, 86, 70, 77, 85, 87, 91, 98, 105, 107, 111, 73, 74, 74, 77, 76, 72, 90, 89, 84, 23, 25, 27, 58, 64, 68, 93, 102, 110, 104, 117, 128, 52, 62, 75, 32, 38, 52, 43, 51, 63, 46, 54, 64, 47, 56, 64, 45, 54, 59, 52, 60, 64, 62, 69, 74, 79, 86, 95, 102, 108, 122, 108, 113, 131, 108, 115, 133, 100, 113, 124, 98, 104, 111, 132, 120, 129, 119, 109, 120, 122, 128, 138, 88, 91, 103, 25, 28, 36, 34, 39, 43, 74, 82, 86, 75, 83, 91, 87, 92, 100, 86, 88, 94, 63, 64, 67, 43, 43, 41, 77, 75, 70, 89, 88, 81, 61, 63, 65, 68, 74, 78, 80, 89, 97, 91, 104, 114, 81, 93, 106, 68, 76, 91, 56, 65, 77, 50, 58, 69, 47, 56, 65, 43, 51, 58, 57, 65, 68, 77, 85, 90, 93, 101, 111, 74, 80, 97, 89, 94, 115, 92, 100, 120, 81, 94, 107, 80, 84, 92, 102, 86, 97, 98, 86, 97, 107, 110, 119, 67, 66, 76, 21, 20, 25, 40, 43, 43, 82, 88, 89, 89, 96, 104, 70, 74, 83, 43, 44, 49, 34, 34, 36, 52, 50, 48, 80, 77, 71, 86, 84, 77, 120, 125, 124, 89, 96, 99, 66, 76, 84, 84, 96, 109, 72, 81, 95, 87, 93, 106, 96, 103, 115, 95, 104, 116, 91, 100, 112, 83, 93, 103, 90, 100, 105, 107, 117, 123, 115, 124, 137, 103, 111, 128, 117, 125, 143, 110, 119, 136, 110, 121, 133, 126, 130, 139, 123, 115, 127, 115, 109, 122, 100, 104, 113, 45, 44, 51, 14, 13, 16, 56, 58, 57, 110, 113, 115, 71, 75, 81, 27, 29, 34, 39, 39, 39, 69, 69, 68, 84, 83, 79, 87, 84, 78, 87, 86, 79, 123, 129, 126, 74, 82, 84, 48, 57, 67, 69, 80, 96, 56, 64, 78, 69, 73, 83, 74, 79, 90, 73, 80, 93, 73, 82, 96, 76, 87, 100, 93, 104, 109, 107, 118, 124, 109, 119, 132, 110, 120, 135, 117, 127, 139, 123, 132, 144, 130, 137, 149, 139, 145, 155, 123, 127, 139, 107, 110, 123, 81, 85, 96, 29, 30, 33, 16, 15, 16, 62, 62, 63, 96, 97, 98, 40, 41, 43, 43, 43, 41, 73, 72, 68, 85, 84, 80, 88, 87, 82, 88, 87, 82, 86, 86, 80, 69, 71, 72, 62, 67, 74, 50, 59, 71, 63, 75, 93, 35, 46, 60, 36, 43, 52, 40, 47, 56, 48, 55, 63, 59, 66, 74, 66, 74, 80, 61, 70, 70, 69, 78, 81, 78, 85, 95, 78, 85, 96, 80, 87, 95, 82, 90, 98, 87, 93, 105, 88, 94, 106, 80, 86, 98, 77, 83, 96, 63, 68, 78, 29, 30, 32, 25, 25, 25, 39, 39, 39, 47, 47, 47, 53, 53, 53, 81, 80, 77, 89, 88, 83, 89, 88, 83, 88, 87, 82, 89, 88, 83, 88, 89, 83, 29, 26, 33, 57, 60, 70, 84, 92, 106, 85, 99, 116, 30, 44, 58, 11, 23, 31, 18, 27, 33, 26, 33, 37, 29, 34, 36, 39, 42, 41, 43, 47, 42, 51, 55, 54, 66, 69, 75, 49, 51, 59, 45, 48, 51, 43, 48, 54, 53, 60, 71, 61, 68, 79, 46, 53, 63, 58, 65, 76, 56, 62, 70, 26, 27, 28, 32, 32, 30, 29, 29, 28, 49, 49, 48, 79, 79, 78, 91, 90, 87, 93, 92, 87, 91, 90, 85, 90, 89, 84, 87, 86, 81, 84, 84, 79, 17, 13, 21, 29, 30, 40, 95, 101, 114, 109, 121, 135, 65, 79, 92, 30, 43, 51, 15, 25, 31, 13, 20, 23, 12, 15, 16, 18, 20, 17, 40, 41, 35, 55, 56, 53, 33, 33, 37, 14, 13, 19, 13, 14, 15, 15, 18, 22, 46, 53, 61, 49, 57, 65, 30, 36, 45, 56, 63, 72, 54, 60, 66, 15, 17, 15, 31, 32, 27, 53, 54, 50, 76, 77, 73, 86, 87, 82, 94, 93, 89, 94, 93, 88, 91, 90, 85, 91, 90, 85, 84, 82, 77, 82, 82, 77, 20, 19, 25, 14, 14, 22, 37, 41, 50, 90, 96, 106, 104, 111, 122, 87, 97, 106, 75, 83, 90, 57, 64, 70, 48, 54, 58, 44, 48, 50, 49, 51, 46, 54, 55, 53, 24, 24, 29, 28, 27, 33, 25, 25, 28, 41, 44, 47, 77, 84, 90, 101, 108, 114, 81, 88, 95, 68, 75, 82, 47, 53, 57, 23, 24, 20, 58, 59, 53, 73, 74, 69, 80, 81, 76, 86, 87, 81, 93, 92, 87, 94, 93, 88, 92, 92, 86, 91, 90, 85, 86, 85, 80, 103, 103, 98, 26, 30, 30, 11, 14, 16, 10, 10, 14, 18, 16, 22, 51, 52, 60, 91, 96, 105, 107, 113, 123, 115, 121, 132, 116, 124, 136, 106, 114, 124, 57, 62, 60, 78, 81, 81, 76, 78, 85, 65, 67, 75, 76, 78, 83, 108, 113, 117, 144, 151, 156, 172, 179, 184, 128, 135, 140, 70, 78, 83, 35, 40, 44, 31, 32, 28, 67, 68, 62, 77, 78, 72, 83, 84, 78, 85, 86, 80, 88, 87, 82, 89, 88, 83, 89, 88, 83, 89, 88, 83, 86, 85, 80, 138, 138, 133, 112, 120, 118, 59, 63, 64, 28, 29, 31, 13, 10, 14, 9, 8, 13, 13, 16, 22, 33, 38, 46, 61, 66, 76, 79, 85, 97, 87, 94, 104, 55, 61, 58, 78, 82, 81, 97, 100, 107, 89, 91, 99, 93, 96, 100, 102, 106, 110, 107, 111, 115, 93, 98, 102, 67, 71, 76, 42, 47, 51, 17, 20, 23, 24, 25, 21, 60, 61, 54, 80, 80, 74, 81, 82, 75, 82, 83, 77, 85, 84, 78, 86, 85, 79, 85, 84, 79, 83, 82, 77, 96, 96, 91, 175, 176, 171, 222, 227, 230, 181, 186, 189, 126, 130, 134, 76, 78, 82, 38, 44, 46, 13, 20, 20, 6, 11, 13, 4, 8, 11, 6, 8, 13, 20, 21, 24, 46, 48, 39, 41, 43, 38, 35, 35, 39, 30, 30, 36, 29, 30, 31, 31, 32, 32, 32, 32, 35, 29, 29, 32, 23, 22, 25, 18, 18, 21, 20, 20, 21, 44, 43, 38, 71, 71, 63, 81, 81, 74, 82, 82, 74, 84, 84, 77, 86, 84, 76, 86, 84, 76, 83, 83, 77, 82, 83, 78, 130, 133, 128, 194, 198, 193, 236, 241, 245, 229, 234, 238, 191, 196, 199, 170, 175, 179, 156, 164, 166, 119, 128, 128, 73, 80, 80, 31, 35, 37, 12, 14, 17, 12, 13, 13, 43, 45, 36, 17, 18, 13, 3, 2, 4, 4, 3, 6, 3, 3, 2, 5, 5, 2, 6, 5, 4, 9, 8, 7, 20, 19, 17, 45, 43, 42, 58, 57, 54, 71, 71, 63, 80, 81, 72, 79, 79, 71, 76, 76, 68, 79, 79, 71, 84, 82, 74, 87, 85, 76, 82, 83, 76, 95, 97, 92, 177, 181, 176, 186, 190, 185, 224, 229, 233, 201, 206, 210, 165, 170, 174, 212, 217, 221, 235, 241, 244, 224, 231, 233, 181, 187, 189, 146, 151, 153, 107, 110, 113, 74, 76, 78, 59, 60, 55, 35, 36, 32, 19, 19, 18, 17, 17, 18, 17, 17, 15, 18, 18, 14, 26, 25, 19, 42, 42, 35, 60, 59, 52, 79, 79, 72, 87, 87, 80, 88, 88, 80, 90, 90, 82, 85, 85, 77, 68, 68, 60, 64, 64, 56, 69, 67, 58, 76, 74, 65, 76, 77, 70, 119, 121, 115, 195, 199, 195, 150, 154, 150, 191, 196, 200, 191, 196, 200, 204, 209, 213, 227, 232, 235, 227, 231, 235, 216, 220, 224, 177, 181, 184, 205, 210, 213, 174, 179, 182, 142, 146, 149, 81, 82, 81, 85, 85, 82, 68, 69, 66, 57, 57, 54, 59, 60, 56, 63, 63, 56, 69, 69, 58, 77, 77, 67, 83, 83, 72, 84, 84, 74, 86, 86, 76, 89, 89, 80, 89, 89, 81, 84, 84, 76, 74, 74, 66, 68, 68, 60, 64, 62, 53, 61, 59, 50, 71, 72, 65, 142, 144, 138, 168, 172, 168, 102, 106, 101], \"height\": 32, \"channels\": 3, \"width\": 32, \"type\": \"image\", \"id\": 4803036560}], \"selected_variable\": {\"name\": [\"<SArray>\"], \"dtype\": \"Image\", \"view_component\": \"Images\", \"view_file\": \"sarray\", \"descriptives\": {\"rows\": 5}, \"type\": \"SArray\", \"view_components\": [\"Images\"]}}, e);\n",
       "                });\n",
       "            })();\n",
       "        "
      ]
     },
     "metadata": {},
     "output_type": "display_data"
    }
   ],
   "source": [
    "get_result(3)"
   ]
  },
  {
   "cell_type": "code",
   "execution_count": 141,
   "metadata": {
    "collapsed": false
   },
   "outputs": [
    {
     "data": {
      "text/html": [
       "<pre>Starting pairwise querying.</pre>"
      ],
      "text/plain": [
       "Starting pairwise querying."
      ]
     },
     "metadata": {},
     "output_type": "display_data"
    },
    {
     "data": {
      "text/html": [
       "<pre>+--------------+---------+-------------+--------------+</pre>"
      ],
      "text/plain": [
       "+--------------+---------+-------------+--------------+"
      ]
     },
     "metadata": {},
     "output_type": "display_data"
    },
    {
     "data": {
      "text/html": [
       "<pre>| Query points | # Pairs | % Complete. | Elapsed Time |</pre>"
      ],
      "text/plain": [
       "| Query points | # Pairs | % Complete. | Elapsed Time |"
      ]
     },
     "metadata": {},
     "output_type": "display_data"
    },
    {
     "data": {
      "text/html": [
       "<pre>+--------------+---------+-------------+--------------+</pre>"
      ],
      "text/plain": [
       "+--------------+---------+-------------+--------------+"
      ]
     },
     "metadata": {},
     "output_type": "display_data"
    },
    {
     "data": {
      "text/html": [
       "<pre>| 0            | 1       | 0.0498753   | 44.78ms      |</pre>"
      ],
      "text/plain": [
       "| 0            | 1       | 0.0498753   | 44.78ms      |"
      ]
     },
     "metadata": {},
     "output_type": "display_data"
    },
    {
     "data": {
      "text/html": [
       "<pre>| Done         |         | 100         | 324.428ms    |</pre>"
      ],
      "text/plain": [
       "| Done         |         | 100         | 324.428ms    |"
      ]
     },
     "metadata": {},
     "output_type": "display_data"
    },
    {
     "data": {
      "text/html": [
       "<pre>+--------------+---------+-------------+--------------+</pre>"
      ],
      "text/plain": [
       "+--------------+---------+-------------+--------------+"
      ]
     },
     "metadata": {},
     "output_type": "display_data"
    },
    {
     "data": {
      "application/javascript": [
       "$(\"head\").append($(\"<link/>\").attr({\n",
       "  rel:  \"stylesheet\",\n",
       "  type: \"text/css\",\n",
       "  href: \"//cdnjs.cloudflare.com/ajax/libs/font-awesome/4.1.0/css/font-awesome.min.css\"\n",
       "}));\n",
       "$(\"head\").append($(\"<link/>\").attr({\n",
       "  rel:  \"stylesheet\",\n",
       "  type: \"text/css\",\n",
       "  href: \"https://static.turi.com/products/graphlab-create/2.1/canvas/css/canvas.css\"\n",
       "}));\n",
       "\n",
       "            (function(){\n",
       "\n",
       "                var e = null;\n",
       "                if (typeof element == 'undefined') {\n",
       "                    var scripts = document.getElementsByTagName('script');\n",
       "                    var thisScriptTag = scripts[scripts.length-1];\n",
       "                    var parentDiv = thisScriptTag.parentNode;\n",
       "                    e = document.createElement('div');\n",
       "                    parentDiv.appendChild(e);\n",
       "                } else {\n",
       "                    e = element[0];\n",
       "                }\n",
       "\n",
       "                if (typeof requirejs !== 'undefined') {\n",
       "                    // disable load timeout; ipython_app.js is large and can take a while to load.\n",
       "                    requirejs.config({waitSeconds: 0});\n",
       "                }\n",
       "\n",
       "                require(['https://static.turi.com/products/graphlab-create/2.1/canvas/js/ipython_app.js'], function(IPythonApp){\n",
       "                    var app = new IPythonApp();\n",
       "                    app.attachView('sarray','Images', {\"ipython\": true, \"rows\": [{\"format\": \"raw\", \"value\": [45, 65, 92, 72, 95, 110, 106, 132, 129, 106, 132, 129, 109, 134, 131, 111, 137, 134, 111, 139, 135, 115, 145, 142, 91, 112, 107, 85, 100, 96, 92, 113, 110, 84, 102, 99, 116, 141, 138, 122, 148, 145, 122, 148, 145, 123, 148, 145, 122, 148, 145, 122, 148, 145, 122, 148, 145, 122, 148, 145, 122, 148, 145, 123, 148, 144, 123, 147, 144, 123, 147, 143, 122, 150, 146, 108, 104, 113, 93, 45, 73, 72, 38, 64, 41, 23, 43, 23, 18, 24, 36, 31, 20, 52, 44, 29, 46, 67, 96, 76, 100, 113, 110, 136, 133, 109, 135, 133, 111, 138, 135, 111, 139, 136, 109, 136, 133, 116, 146, 142, 77, 92, 89, 75, 80, 77, 104, 124, 118, 105, 125, 121, 125, 151, 148, 124, 151, 148, 125, 151, 148, 126, 152, 149, 126, 152, 149, 126, 152, 149, 126, 152, 149, 125, 151, 149, 126, 152, 148, 127, 152, 148, 126, 151, 147, 126, 151, 147, 124, 155, 150, 104, 102, 111, 75, 34, 63, 75, 41, 67, 73, 46, 73, 37, 24, 40, 19, 13, 21, 44, 36, 35, 48, 68, 97, 79, 103, 115, 110, 137, 133, 110, 136, 133, 112, 140, 137, 113, 142, 139, 102, 128, 126, 99, 126, 124, 78, 85, 81, 94, 94, 87, 95, 109, 104, 100, 118, 115, 127, 154, 151, 126, 152, 149, 127, 152, 149, 127, 153, 149, 127, 153, 150, 127, 153, 150, 127, 153, 150, 127, 152, 149, 127, 152, 149, 127, 152, 149, 127, 152, 148, 127, 151, 148, 125, 154, 149, 107, 110, 116, 91, 62, 83, 101, 71, 95, 99, 75, 99, 67, 50, 70, 41, 33, 51, 57, 48, 52, 51, 72, 99, 83, 109, 118, 111, 139, 135, 111, 140, 136, 114, 143, 140, 120, 147, 146, 108, 134, 133, 90, 116, 113, 92, 92, 84, 112, 103, 91, 93, 98, 93, 106, 121, 120, 127, 154, 150, 128, 155, 151, 130, 154, 151, 130, 155, 152, 131, 156, 153, 131, 156, 153, 130, 155, 152, 130, 155, 152, 129, 154, 151, 130, 154, 152, 129, 154, 151, 129, 154, 151, 126, 151, 147, 123, 134, 134, 124, 121, 126, 125, 121, 128, 123, 118, 127, 106, 103, 113, 94, 94, 104, 100, 99, 104, 53, 75, 99, 87, 114, 119, 112, 141, 137, 113, 142, 138, 115, 145, 141, 114, 142, 141, 105, 132, 131, 85, 109, 106, 84, 79, 70, 127, 115, 100, 115, 101, 91, 106, 86, 88, 112, 114, 113, 128, 153, 149, 133, 157, 156, 134, 156, 154, 134, 158, 155, 134, 157, 155, 133, 157, 154, 132, 157, 154, 132, 156, 154, 133, 157, 155, 131, 157, 154, 132, 155, 155, 129, 153, 151, 128, 147, 145, 128, 142, 140, 126, 140, 139, 125, 137, 138, 119, 131, 131, 117, 129, 129, 122, 133, 133, 53, 76, 101, 90, 118, 124, 112, 143, 138, 113, 144, 139, 114, 145, 142, 108, 137, 135, 101, 130, 128, 83, 106, 104, 73, 65, 58, 127, 116, 102, 139, 125, 113, 115, 62, 66, 110, 64, 73, 128, 145, 144, 137, 163, 162, 137, 160, 157, 139, 161, 159, 138, 161, 158, 137, 161, 158, 135, 160, 157, 134, 159, 156, 127, 147, 142, 112, 125, 117, 124, 141, 136, 127, 148, 145, 122, 143, 138, 122, 140, 134, 123, 143, 139, 120, 146, 144, 117, 144, 141, 117, 142, 139, 117, 143, 139, 52, 75, 102, 95, 123, 131, 113, 143, 139, 113, 144, 141, 115, 145, 143, 105, 134, 132, 101, 131, 129, 85, 109, 108, 65, 58, 53, 111, 101, 93, 141, 134, 124, 122, 91, 86, 115, 69, 76, 131, 146, 145, 136, 163, 161, 136, 162, 158, 137, 164, 160, 138, 164, 160, 137, 163, 161, 137, 162, 160, 113, 127, 121, 96, 92, 83, 83, 73, 64, 91, 88, 80, 113, 120, 111, 100, 103, 98, 97, 96, 87, 115, 123, 115, 117, 140, 136, 112, 138, 133, 114, 140, 135, 114, 142, 139, 46, 69, 95, 99, 127, 135, 115, 145, 142, 114, 143, 141, 115, 145, 143, 104, 134, 132, 100, 131, 129, 87, 112, 111, 64, 58, 53, 95, 83, 75, 121, 113, 102, 108, 96, 82, 115, 97, 92, 153, 159, 158, 160, 173, 172, 153, 166, 165, 151, 165, 165, 141, 157, 156, 136, 157, 154, 123, 139, 136, 71, 65, 59, 71, 57, 48, 84, 72, 63, 69, 59, 53, 108, 104, 99, 145, 142, 142, 121, 113, 108, 105, 100, 92, 98, 99, 91, 90, 91, 84, 85, 85, 80, 92, 96, 89, 39, 61, 87, 95, 124, 131, 117, 147, 144, 114, 144, 142, 116, 146, 144, 114, 144, 142, 113, 143, 142, 97, 123, 122, 64, 59, 55, 83, 72, 62, 108, 100, 88, 106, 94, 82, 93, 80, 72, 122, 117, 110, 170, 166, 162, 188, 186, 184, 187, 187, 184, 165, 164, 161, 163, 162, 160, 116, 114, 111, 66, 50, 41, 74, 58, 47, 73, 61, 52, 70, 60, 53, 79, 71, 64, 146, 143, 136, 195, 197, 194, 144, 142, 140, 101, 92, 87, 98, 88, 80, 64, 53, 47, 83, 70, 59, 43, 64, 89, 94, 123, 130, 116, 147, 144, 114, 144, 142, 117, 146, 144, 117, 148, 146, 118, 148, 145, 83, 102, 99, 55, 49, 44, 78, 67, 58, 87, 79, 70, 87, 76, 67, 85, 75, 66, 79, 68, 59, 93, 84, 76, 164, 161, 156, 198, 197, 194, 186, 184, 180, 164, 160, 156, 110, 104, 98, 94, 78, 62, 101, 83, 65, 91, 75, 64, 81, 70, 61, 89, 78, 66, 140, 133, 120, 209, 211, 206, 194, 195, 194, 139, 133, 129, 120, 111, 102, 86, 75, 67, 104, 87, 70, 45, 65, 89, 93, 118, 125, 115, 142, 138, 115, 144, 141, 119, 149, 146, 118, 150, 147, 87, 106, 104, 37, 37, 36, 52, 44, 39, 79, 70, 63, 93, 85, 78, 94, 86, 78, 101, 91, 80, 91, 81, 71, 84, 73, 63, 123, 116, 108, 171, 170, 166, 153, 151, 146, 128, 125, 119, 89, 84, 78, 77, 63, 50, 102, 83, 65, 108, 93, 78, 100, 89, 77, 91, 79, 66, 138, 131, 120, 213, 212, 206, 215, 215, 212, 184, 181, 176, 149, 140, 128, 135, 121, 106, 131, 112, 89, 48, 61, 82, 90, 94, 92, 101, 107, 96, 97, 107, 99, 102, 119, 112, 93, 108, 103, 57, 57, 54, 47, 39, 36, 72, 65, 60, 89, 84, 79, 111, 103, 95, 118, 117, 104, 107, 109, 88, 120, 111, 97, 111, 101, 89, 109, 99, 87, 131, 127, 121, 95, 90, 83, 89, 81, 74, 92, 84, 75, 66, 57, 49, 75, 61, 51, 92, 79, 68, 110, 100, 90, 110, 100, 91, 162, 159, 152, 203, 205, 199, 202, 203, 198, 196, 195, 192, 179, 173, 166, 165, 154, 140, 137, 121, 103, 48, 55, 68, 89, 82, 75, 110, 101, 92, 103, 94, 86, 84, 78, 71, 66, 59, 52, 66, 57, 49, 69, 60, 54, 102, 97, 94, 137, 139, 137, 150, 142, 136, 132, 142, 117, 93, 135, 97, 119, 112, 100, 107, 95, 84, 130, 116, 102, 155, 151, 144, 115, 110, 100, 106, 98, 89, 120, 111, 99, 121, 113, 102, 115, 106, 95, 124, 116, 105, 150, 147, 140, 144, 142, 136, 163, 162, 154, 149, 146, 136, 144, 140, 131, 182, 182, 177, 219, 221, 220, 204, 201, 197, 147, 138, 132, 52, 61, 65, 73, 66, 61, 125, 120, 113, 127, 124, 121, 104, 97, 92, 81, 71, 63, 79, 72, 64, 80, 74, 67, 123, 121, 117, 193, 198, 196, 193, 190, 186, 132, 130, 111, 101, 113, 87, 119, 111, 100, 125, 113, 99, 171, 158, 142, 185, 184, 177, 154, 150, 143, 130, 120, 107, 135, 126, 112, 158, 156, 147, 168, 164, 154, 180, 178, 169, 182, 183, 176, 145, 142, 131, 132, 125, 111, 121, 110, 95, 128, 120, 104, 195, 195, 187, 243, 245, 242, 236, 238, 238, 172, 166, 164, 79, 97, 95, 50, 44, 41, 109, 98, 86, 136, 126, 116, 120, 112, 102, 86, 78, 69, 74, 67, 61, 83, 75, 69, 130, 120, 112, 182, 181, 177, 211, 213, 212, 170, 165, 160, 131, 119, 111, 135, 128, 117, 156, 145, 130, 194, 186, 174, 198, 199, 194, 179, 179, 174, 144, 136, 126, 129, 116, 99, 159, 154, 142, 183, 183, 177, 190, 191, 185, 156, 152, 141, 125, 116, 101, 111, 100, 85, 127, 113, 96, 158, 150, 131, 222, 222, 216, 247, 247, 245, 241, 244, 245, 186, 178, 172, 106, 135, 133, 54, 63, 63, 58, 50, 46, 116, 103, 96, 114, 104, 96, 82, 72, 63, 71, 63, 57, 104, 100, 95, 140, 137, 121, 149, 140, 127, 182, 180, 176, 198, 196, 193, 192, 188, 184, 175, 170, 164, 167, 159, 148, 198, 196, 188, 193, 194, 188, 162, 161, 155, 149, 140, 132, 135, 120, 104, 157, 147, 131, 192, 191, 183, 159, 155, 146, 107, 96, 84, 97, 85, 71, 92, 79, 65, 120, 106, 87, 179, 171, 154, 241, 241, 237, 249, 249, 247, 243, 245, 248, 185, 174, 163, 114, 146, 145, 99, 124, 122, 50, 55, 54, 59, 50, 47, 87, 75, 66, 71, 62, 52, 81, 67, 61, 91, 100, 80, 72, 135, 93, 88, 83, 64, 146, 137, 135, 199, 186, 185, 203, 185, 181, 217, 213, 210, 207, 205, 201, 188, 184, 176, 155, 145, 133, 105, 91, 82, 132, 117, 102, 161, 154, 142, 169, 166, 156, 169, 166, 156, 115, 104, 90, 72, 59, 50, 71, 59, 51, 88, 77, 63, 114, 101, 82, 180, 172, 157, 244, 244, 240, 243, 244, 243, 215, 213, 213, 152, 135, 121, 113, 143, 141, 118, 148, 146, 95, 119, 116, 47, 54, 52, 54, 48, 44, 63, 55, 46, 85, 72, 62, 109, 105, 85, 88, 115, 85, 110, 99, 85, 152, 145, 143, 193, 177, 176, 206, 178, 173, 215, 208, 204, 197, 198, 194, 157, 147, 133, 108, 89, 74, 93, 72, 56, 124, 104, 81, 156, 147, 135, 169, 167, 159, 117, 109, 99, 77, 63, 51, 62, 50, 43, 73, 63, 54, 93, 82, 69, 110, 98, 81, 169, 163, 150, 237, 240, 237, 226, 227, 229, 147, 134, 127, 116, 93, 71, 114, 143, 141, 116, 144, 143, 118, 148, 145, 89, 113, 109, 55, 57, 55, 65, 55, 47, 80, 70, 60, 110, 102, 90, 114, 105, 95, 127, 118, 109, 173, 172, 169, 208, 203, 203, 201, 178, 177, 194, 174, 173, 169, 165, 157, 129, 115, 95, 91, 69, 52, 97, 75, 57, 110, 86, 62, 114, 95, 76, 123, 111, 94, 90, 77, 64, 66, 51, 42, 56, 43, 37, 73, 63, 52, 104, 94, 80, 113, 102, 87, 161, 157, 146, 211, 214, 214, 175, 173, 172, 110, 91, 77, 112, 87, 60, 112, 141, 139, 113, 142, 140, 117, 146, 145, 113, 144, 141, 66, 75, 74, 57, 47, 41, 77, 66, 57, 95, 84, 74, 107, 97, 87, 141, 134, 124, 174, 172, 169, 206, 210, 210, 193, 181, 181, 188, 167, 168, 153, 142, 135, 104, 84, 65, 80, 59, 42, 95, 72, 53, 105, 81, 58, 97, 75, 53, 92, 74, 56, 86, 71, 58, 73, 59, 51, 66, 54, 46, 74, 63, 53, 103, 93, 81, 109, 99, 89, 135, 131, 121, 148, 148, 143, 130, 125, 119, 102, 85, 72, 104, 79, 56, 108, 137, 135, 109, 138, 136, 112, 140, 138, 114, 143, 140, 70, 84, 83, 42, 35, 32, 82, 69, 59, 100, 87, 75, 128, 118, 106, 168, 161, 150, 176, 176, 170, 183, 183, 181, 179, 171, 170, 173, 165, 163, 120, 108, 97, 90, 69, 51, 74, 53, 39, 89, 66, 48, 106, 83, 58, 96, 74, 52, 81, 64, 48, 76, 63, 53, 74, 61, 51, 81, 69, 59, 89, 78, 66, 94, 85, 73, 100, 92, 83, 120, 115, 106, 136, 134, 124, 121, 116, 109, 91, 76, 69, 85, 64, 48, 102, 131, 130, 104, 133, 132, 106, 136, 134, 110, 143, 140, 83, 106, 104, 37, 36, 35, 64, 52, 46, 100, 85, 74, 149, 136, 123, 181, 175, 164, 190, 190, 184, 194, 195, 191, 180, 179, 174, 126, 120, 111, 93, 78, 63, 95, 76, 57, 73, 53, 40, 83, 61, 45, 100, 78, 55, 93, 71, 50, 79, 62, 46, 67, 54, 46, 73, 61, 51, 90, 80, 67, 100, 90, 77, 104, 95, 81, 130, 124, 109, 131, 126, 115, 125, 121, 113, 113, 106, 98, 79, 64, 57, 78, 58, 43, 97, 93, 100, 94, 104, 107, 94, 111, 111, 96, 118, 117, 91, 115, 114, 44, 53, 53, 49, 45, 45, 98, 91, 85, 159, 154, 146, 202, 203, 196, 209, 211, 206, 210, 213, 208, 164, 161, 153, 93, 80, 66, 96, 80, 63, 104, 88, 69, 75, 56, 43, 81, 61, 47, 99, 79, 58, 98, 76, 54, 87, 70, 53, 68, 55, 48, 45, 34, 31, 59, 51, 43, 86, 77, 66, 120, 111, 97, 147, 143, 127, 144, 138, 126, 101, 91, 85, 100, 91, 82, 88, 75, 63, 80, 58, 43, 124, 76, 96, 115, 66, 87, 115, 69, 89, 104, 69, 85, 80, 56, 68, 61, 45, 53, 53, 43, 47, 58, 52, 53, 107, 106, 107, 184, 185, 184, 202, 204, 200, 196, 198, 192, 131, 122, 114, 86, 70, 56, 97, 83, 68, 104, 90, 72, 78, 59, 47, 81, 63, 51, 99, 83, 65, 105, 87, 66, 88, 72, 57, 69, 58, 51, 48, 35, 31, 42, 30, 26, 58, 47, 40, 105, 96, 86, 119, 112, 104, 135, 129, 117, 127, 120, 110, 89, 79, 72, 96, 85, 74, 74, 55, 43, 118, 60, 81, 142, 83, 106, 152, 96, 120, 153, 99, 122, 143, 91, 113, 131, 80, 100, 123, 62, 81, 113, 42, 65, 100, 38, 60, 130, 102, 112, 170, 170, 171, 163, 164, 162, 110, 100, 92, 82, 67, 54, 94, 81, 68, 98, 85, 72, 77, 61, 50, 82, 65, 54, 100, 86, 70, 103, 86, 67, 68, 53, 44, 54, 45, 40, 86, 77, 63, 85, 74, 62, 94, 85, 74, 80, 70, 64, 79, 68, 61, 139, 132, 117, 125, 120, 110, 91, 83, 77, 90, 79, 71, 71, 56, 47, 88, 91, 92, 124, 118, 121, 129, 94, 106, 140, 94, 110, 149, 143, 147, 152, 157, 159, 159, 158, 160, 155, 130, 138, 166, 102, 124, 164, 95, 121, 167, 156, 167, 163, 165, 172, 131, 132, 133, 86, 83, 78, 86, 77, 68, 89, 78, 68, 80, 68, 60, 77, 62, 53, 89, 75, 61, 102, 89, 76, 62, 52, 45, 61, 49, 42, 75, 64, 57, 76, 68, 60, 91, 85, 72, 96, 89, 76, 102, 94, 80, 118, 110, 96, 82, 73, 69, 91, 82, 76, 82, 71, 65, 66, 52, 46, 108, 120, 124, 135, 148, 151, 147, 158, 159, 142, 150, 150, 132, 140, 138, 133, 142, 138, 151, 163, 157, 163, 173, 169, 159, 150, 154, 160, 120, 136, 154, 141, 151, 165, 170, 177, 151, 156, 163, 127, 132, 136, 96, 94, 92, 80, 73, 67, 80, 71, 64, 80, 71, 65, 111, 107, 103, 151, 153, 153, 136, 140, 143, 115, 115, 112, 89, 85, 82, 67, 59, 55, 65, 54, 50, 64, 55, 51, 69, 62, 58, 67, 58, 54, 68, 59, 54, 91, 84, 77, 65, 56, 53, 53, 40, 36, 44, 42, 47, 84, 88, 95, 134, 143, 149, 163, 173, 176, 160, 172, 171, 159, 168, 167, 164, 169, 166, 174, 180, 178, 178, 184, 185, 181, 189, 188, 154, 156, 158, 150, 154, 161, 149, 155, 162, 136, 143, 147, 120, 123, 126, 95, 95, 96, 93, 95, 96, 122, 127, 131, 165, 174, 180, 174, 184, 193, 175, 184, 191, 178, 187, 191, 166, 173, 178, 136, 141, 142, 124, 123, 122, 107, 104, 100, 85, 79, 76, 70, 63, 58, 82, 74, 67, 81, 73, 68, 54, 46, 45, 46, 33, 31, 30, 32, 32, 21, 16, 20, 59, 57, 65, 117, 123, 127, 163, 173, 175, 207, 215, 217, 223, 231, 231, 215, 224, 223, 217, 226, 227, 213, 225, 225, 166, 174, 176, 144, 151, 156, 142, 150, 157, 125, 131, 138, 107, 110, 117, 96, 100, 105, 101, 109, 118, 131, 140, 148, 146, 155, 163, 133, 142, 151, 141, 149, 158, 152, 160, 167, 160, 167, 176, 163, 170, 177, 161, 168, 173, 149, 154, 158, 129, 132, 136, 112, 114, 117, 110, 109, 111, 90, 87, 88, 60, 56, 58, 55, 48, 46, 72, 91, 91, 43, 47, 49, 19, 13, 17, 37, 32, 36, 99, 98, 101, 180, 182, 185, 213, 222, 224, 193, 198, 202, 161, 166, 171, 138, 143, 147, 122, 126, 133, 134, 141, 149, 149, 158, 167, 128, 138, 146, 97, 107, 115, 83, 89, 97, 64, 67, 74, 128, 133, 132, 123, 125, 128, 72, 64, 72, 78, 76, 82, 85, 88, 93, 89, 91, 95, 95, 96, 103, 122, 126, 134, 122, 129, 138, 129, 137, 150, 129, 137, 152, 120, 126, 141, 102, 107, 119, 94, 98, 107, 109, 113, 116, 88, 113, 116, 83, 103, 104, 55, 64, 65, 35, 29, 30, 66, 47, 41, 100, 86, 86, 125, 130, 136, 87, 87, 94, 65, 65, 71, 68, 69, 74, 75, 77, 83, 79, 85, 89, 84, 94, 97, 80, 97, 97, 77, 95, 96, 76, 82, 89, 70, 70, 73, 140, 143, 142, 99, 99, 101, 89, 78, 80, 115, 111, 111, 121, 124, 121, 116, 116, 112, 104, 106, 105, 128, 136, 138, 137, 146, 154, 144, 154, 168, 147, 158, 176, 138, 148, 168, 125, 137, 151, 135, 146, 153, 145, 155, 159, 86, 110, 113, 89, 113, 114, 83, 105, 106, 70, 64, 60, 81, 52, 36, 94, 73, 67, 80, 79, 87, 31, 29, 34, 57, 61, 64, 66, 71, 74, 68, 76, 78, 66, 75, 77, 61, 70, 72, 58, 70, 68, 52, 63, 62, 53, 54, 61, 62, 64, 71, 79, 80, 86, 111, 116, 116, 148, 154, 151, 154, 160, 157, 173, 178, 173, 184, 188, 183, 148, 149, 148, 99, 97, 98, 93, 92, 96, 93, 92, 101, 113, 120, 132, 134, 145, 154, 158, 169, 176, 166, 177, 183, 157, 170, 178], \"height\": 32, \"channels\": 3, \"width\": 32, \"type\": \"image\", \"id\": 4803184976}, {\"format\": \"raw\", \"value\": [215, 219, 231, 215, 219, 232, 216, 219, 233, 214, 217, 230, 213, 216, 230, 209, 215, 226, 208, 217, 221, 206, 215, 219, 201, 208, 217, 197, 203, 218, 194, 200, 221, 199, 204, 221, 142, 128, 131, 76, 46, 46, 81, 55, 57, 147, 136, 139, 160, 149, 154, 152, 141, 144, 156, 147, 150, 159, 148, 154, 160, 153, 157, 164, 156, 160, 160, 154, 158, 158, 151, 156, 159, 149, 157, 159, 150, 156, 157, 147, 154, 156, 145, 153, 152, 142, 149, 147, 137, 143, 141, 131, 136, 142, 131, 136, 215, 219, 231, 215, 219, 232, 215, 219, 232, 213, 217, 229, 212, 216, 229, 212, 214, 217, 206, 215, 217, 203, 211, 219, 197, 205, 218, 194, 201, 218, 196, 201, 218, 178, 180, 192, 92, 56, 55, 77, 50, 49, 112, 98, 100, 173, 162, 169, 162, 153, 157, 160, 152, 154, 164, 157, 159, 164, 155, 160, 165, 158, 163, 165, 155, 162, 167, 160, 166, 164, 155, 162, 160, 148, 155, 153, 142, 149, 160, 150, 159, 162, 154, 162, 157, 151, 156, 152, 143, 148, 139, 129, 133, 135, 124, 128, 215, 219, 231, 215, 219, 231, 214, 218, 230, 214, 218, 229, 214, 217, 227, 216, 211, 207, 207, 213, 215, 200, 207, 218, 195, 202, 220, 193, 201, 216, 196, 202, 216, 125, 101, 101, 79, 49, 48, 88, 67, 67, 157, 147, 152, 168, 160, 166, 164, 155, 158, 170, 163, 168, 169, 164, 166, 169, 160, 165, 169, 162, 167, 167, 159, 167, 166, 156, 164, 166, 155, 163, 163, 153, 158, 160, 150, 157, 160, 151, 158, 159, 150, 156, 157, 148, 155, 155, 145, 152, 152, 141, 147, 143, 131, 135, 216, 220, 232, 215, 219, 231, 214, 218, 230, 214, 218, 230, 214, 217, 227, 216, 213, 207, 205, 210, 216, 199, 203, 219, 196, 202, 219, 194, 204, 220, 164, 155, 162, 89, 54, 48, 77, 52, 52, 126, 110, 113, 173, 162, 168, 167, 159, 163, 170, 162, 166, 172, 163, 168, 171, 164, 168, 171, 163, 168, 171, 162, 169, 169, 161, 167, 165, 153, 160, 165, 154, 160, 163, 153, 158, 166, 155, 162, 165, 154, 160, 155, 144, 149, 156, 144, 151, 153, 143, 151, 151, 140, 148, 143, 131, 137, 217, 221, 233, 215, 219, 231, 215, 219, 231, 215, 219, 231, 217, 219, 229, 221, 222, 219, 199, 203, 211, 195, 202, 217, 198, 202, 220, 190, 193, 206, 109, 80, 77, 78, 50, 49, 94, 72, 74, 163, 154, 155, 166, 157, 158, 169, 158, 158, 173, 163, 167, 170, 158, 161, 172, 161, 168, 173, 166, 170, 173, 163, 170, 171, 161, 164, 169, 155, 160, 170, 158, 162, 162, 151, 157, 162, 151, 157, 167, 156, 164, 164, 153, 160, 158, 147, 153, 157, 146, 151, 149, 138, 144, 143, 132, 137, 217, 221, 233, 215, 219, 231, 214, 218, 230, 213, 217, 229, 222, 224, 232, 228, 227, 233, 192, 196, 211, 196, 202, 220, 196, 209, 225, 150, 128, 133, 80, 48, 46, 76, 51, 56, 144, 129, 134, 167, 158, 161, 165, 155, 156, 173, 161, 163, 175, 164, 168, 173, 162, 168, 175, 167, 171, 175, 165, 167, 174, 162, 169, 168, 157, 159, 156, 145, 146, 171, 159, 162, 168, 157, 163, 167, 156, 163, 167, 155, 165, 168, 157, 165, 159, 147, 155, 151, 140, 144, 145, 133, 137, 149, 137, 141, 217, 221, 233, 216, 220, 232, 214, 218, 230, 215, 219, 231, 166, 167, 174, 200, 198, 206, 194, 201, 218, 194, 200, 219, 177, 173, 184, 93, 65, 61, 75, 53, 53, 120, 100, 97, 172, 162, 166, 169, 158, 161, 167, 154, 156, 177, 166, 169, 181, 171, 175, 174, 166, 173, 175, 166, 172, 171, 160, 164, 173, 163, 171, 136, 125, 129, 101, 91, 88, 155, 141, 141, 175, 164, 169, 174, 162, 170, 167, 156, 165, 165, 154, 162, 161, 150, 157, 150, 138, 143, 148, 136, 140, 147, 135, 139, 217, 221, 233, 216, 220, 232, 215, 219, 231, 217, 221, 234, 113, 108, 113, 140, 130, 127, 163, 161, 169, 144, 143, 149, 153, 139, 139, 139, 122, 116, 132, 114, 102, 164, 147, 139, 161, 150, 142, 150, 138, 130, 135, 122, 116, 152, 138, 134, 149, 132, 127, 175, 162, 161, 180, 168, 175, 176, 164, 170, 177, 171, 180, 136, 126, 130, 87, 76, 68, 137, 121, 119, 178, 168, 173, 173, 162, 169, 168, 157, 164, 163, 152, 158, 158, 146, 151, 160, 147, 155, 163, 150, 158, 160, 147, 154, 218, 220, 233, 216, 219, 232, 215, 219, 232, 208, 212, 224, 92, 82, 85, 96, 78, 69, 111, 99, 93, 129, 116, 110, 167, 156, 155, 179, 168, 171, 171, 161, 158, 157, 137, 124, 120, 103, 92, 117, 98, 86, 102, 86, 81, 127, 108, 96, 147, 122, 108, 139, 122, 116, 168, 157, 155, 155, 145, 145, 200, 199, 207, 157, 149, 147, 116, 102, 91, 150, 137, 137, 176, 166, 170, 173, 162, 168, 169, 156, 164, 159, 147, 153, 159, 146, 150, 164, 151, 158, 166, 153, 161, 159, 145, 153, 217, 219, 232, 216, 218, 231, 217, 218, 229, 193, 195, 207, 95, 79, 74, 110, 88, 80, 154, 138, 132, 181, 165, 159, 207, 200, 205, 205, 207, 219, 199, 200, 209, 159, 138, 131, 143, 118, 101, 137, 110, 93, 115, 98, 91, 118, 103, 92, 184, 166, 159, 125, 113, 114, 149, 132, 126, 117, 101, 102, 213, 214, 226, 172, 170, 179, 133, 121, 123, 157, 143, 143, 147, 131, 129, 174, 158, 166, 169, 156, 165, 162, 149, 157, 168, 156, 164, 166, 154, 162, 162, 151, 158, 158, 146, 154, 218, 220, 233, 216, 218, 232, 216, 220, 234, 174, 176, 187, 90, 73, 70, 148, 125, 109, 194, 169, 157, 215, 204, 208, 220, 221, 230, 220, 223, 231, 218, 216, 224, 174, 154, 152, 162, 140, 127, 127, 100, 84, 146, 120, 103, 147, 124, 116, 169, 145, 133, 138, 122, 113, 148, 134, 124, 123, 103, 97, 154, 143, 141, 153, 143, 144, 133, 124, 127, 151, 136, 137, 140, 119, 111, 156, 139, 134, 175, 164, 169, 175, 160, 169, 170, 156, 165, 164, 151, 158, 156, 144, 150, 158, 146, 152, 218, 220, 233, 214, 218, 231, 216, 219, 233, 173, 164, 169, 134, 106, 90, 184, 152, 131, 205, 184, 171, 218, 214, 222, 221, 222, 232, 225, 226, 235, 218, 220, 231, 187, 172, 169, 156, 136, 127, 140, 116, 102, 147, 115, 98, 126, 99, 84, 171, 135, 105, 105, 81, 71, 132, 112, 105, 95, 80, 75, 130, 118, 114, 140, 127, 123, 128, 115, 114, 140, 125, 124, 159, 143, 139, 126, 113, 112, 165, 156, 163, 159, 144, 150, 163, 147, 148, 161, 145, 149, 161, 145, 149, 163, 148, 151, 217, 219, 232, 214, 218, 230, 218, 216, 229, 152, 133, 128, 169, 146, 138, 194, 172, 157, 201, 173, 151, 210, 197, 193, 215, 213, 223, 216, 218, 226, 203, 201, 209, 157, 129, 111, 145, 112, 92, 141, 114, 99, 133, 104, 90, 114, 84, 72, 183, 145, 108, 135, 106, 86, 143, 110, 95, 110, 95, 93, 200, 199, 207, 153, 147, 148, 129, 112, 111, 119, 102, 100, 144, 131, 127, 152, 145, 156, 188, 186, 198, 108, 92, 95, 99, 83, 78, 160, 140, 141, 176, 157, 168, 153, 134, 136, 218, 220, 233, 217, 219, 232, 209, 210, 222, 141, 114, 104, 212, 201, 202, 212, 206, 208, 184, 150, 123, 193, 164, 138, 202, 187, 180, 209, 207, 215, 200, 193, 196, 146, 111, 92, 141, 107, 88, 120, 97, 84, 86, 68, 60, 117, 87, 74, 163, 126, 95, 140, 103, 84, 139, 102, 78, 169, 141, 129, 218, 219, 228, 131, 123, 125, 104, 88, 81, 98, 83, 76, 122, 105, 97, 143, 138, 161, 209, 208, 226, 154, 141, 139, 99, 80, 73, 153, 127, 129, 156, 139, 144, 135, 116, 116, 219, 221, 234, 216, 218, 232, 204, 204, 219, 154, 126, 110, 213, 204, 206, 217, 214, 217, 170, 136, 110, 157, 118, 88, 170, 135, 108, 197, 174, 168, 170, 142, 125, 143, 103, 83, 122, 90, 75, 98, 76, 68, 68, 55, 55, 76, 59, 56, 118, 84, 71, 111, 79, 63, 107, 76, 63, 158, 121, 101, 196, 192, 200, 115, 101, 104, 106, 90, 83, 103, 87, 77, 128, 107, 97, 111, 97, 127, 206, 205, 220, 206, 209, 220, 157, 142, 127, 113, 91, 76, 121, 105, 101, 164, 149, 152, 220, 221, 234, 215, 218, 232, 208, 209, 223, 159, 136, 126, 213, 211, 218, 204, 202, 208, 140, 115, 102, 132, 104, 88, 148, 112, 93, 160, 124, 97, 136, 92, 70, 122, 86, 69, 97, 73, 60, 101, 74, 64, 84, 63, 60, 67, 53, 52, 82, 62, 57, 92, 71, 60, 82, 59, 53, 145, 116, 103, 125, 116, 120, 105, 91, 87, 92, 77, 76, 94, 76, 73, 119, 96, 84, 131, 113, 124, 207, 209, 223, 217, 219, 236, 157, 150, 150, 127, 115, 114, 138, 122, 119, 173, 160, 166, 219, 221, 234, 218, 223, 235, 173, 164, 171, 129, 109, 105, 219, 218, 228, 186, 179, 188, 102, 86, 85, 96, 82, 77, 108, 88, 76, 136, 106, 91, 129, 93, 74, 105, 73, 61, 79, 60, 55, 76, 57, 54, 73, 55, 54, 74, 55, 53, 71, 57, 55, 88, 70, 68, 84, 66, 63, 79, 66, 70, 76, 65, 70, 99, 87, 86, 67, 53, 55, 102, 84, 78, 118, 94, 83, 150, 132, 131, 211, 204, 220, 213, 184, 201, 202, 191, 208, 177, 176, 188, 146, 130, 133, 170, 157, 160, 219, 221, 233, 211, 210, 220, 116, 88, 81, 132, 117, 117, 226, 229, 238, 171, 156, 160, 104, 84, 77, 96, 80, 77, 95, 83, 77, 105, 87, 80, 119, 94, 77, 95, 70, 60, 72, 56, 54, 68, 54, 55, 75, 56, 53, 77, 60, 55, 78, 65, 63, 95, 79, 77, 79, 65, 65, 51, 40, 52, 84, 74, 81, 94, 83, 86, 74, 60, 60, 127, 109, 101, 125, 102, 92, 140, 120, 118, 207, 199, 211, 216, 198, 214, 195, 188, 197, 183, 180, 187, 146, 132, 139, 169, 153, 163, 222, 227, 240, 167, 132, 134, 121, 81, 62, 101, 85, 78, 172, 167, 178, 163, 155, 154, 127, 115, 110, 130, 116, 114, 125, 113, 112, 111, 95, 90, 117, 98, 88, 79, 63, 58, 63, 51, 52, 71, 56, 55, 88, 69, 62, 90, 72, 69, 90, 75, 73, 101, 87, 79, 70, 58, 61, 55, 45, 56, 109, 100, 107, 68, 56, 59, 86, 72, 72, 133, 116, 110, 130, 109, 101, 113, 94, 92, 210, 210, 217, 221, 228, 244, 177, 167, 158, 122, 107, 95, 140, 123, 124, 168, 151, 161, 201, 189, 197, 125, 74, 57, 137, 92, 70, 99, 73, 63, 69, 58, 67, 117, 113, 124, 138, 134, 143, 123, 113, 115, 124, 112, 112, 152, 136, 134, 114, 97, 90, 76, 60, 57, 64, 52, 54, 82, 68, 66, 96, 80, 73, 104, 90, 85, 77, 66, 65, 68, 56, 58, 65, 55, 62, 63, 53, 64, 83, 74, 81, 78, 66, 67, 117, 104, 103, 120, 105, 102, 90, 71, 67, 113, 97, 98, 222, 223, 233, 211, 207, 217, 150, 131, 121, 127, 101, 90, 145, 122, 128, 165, 147, 150, 149, 103, 96, 116, 73, 57, 133, 95, 73, 122, 85, 68, 65, 55, 58, 73, 68, 72, 122, 118, 130, 121, 114, 121, 107, 95, 98, 136, 121, 117, 102, 87, 81, 75, 59, 57, 77, 64, 66, 92, 79, 77, 87, 74, 70, 100, 89, 86, 79, 69, 66, 66, 50, 55, 51, 39, 48, 63, 53, 60, 89, 78, 82, 104, 92, 93, 94, 83, 81, 93, 80, 81, 127, 110, 113, 162, 149, 155, 199, 193, 203, 141, 122, 124, 104, 83, 79, 151, 126, 128, 168, 146, 155, 160, 140, 144, 118, 60, 49, 113, 84, 73, 131, 92, 70, 126, 97, 72, 90, 77, 71, 70, 62, 64, 74, 67, 71, 91, 85, 89, 87, 77, 78, 103, 90, 86, 78, 66, 65, 74, 61, 61, 88, 75, 76, 98, 85, 83, 93, 82, 83, 87, 76, 78, 87, 73, 70, 83, 64, 58, 52, 39, 44, 60, 49, 53, 81, 69, 71, 93, 80, 80, 117, 104, 102, 164, 150, 155, 188, 172, 179, 188, 174, 182, 171, 157, 162, 134, 117, 120, 143, 124, 126, 172, 153, 156, 169, 151, 157, 167, 147, 154, 100, 62, 57, 106, 83, 73, 111, 83, 67, 118, 97, 89, 167, 154, 161, 153, 145, 150, 118, 109, 114, 78, 69, 74, 87, 78, 80, 86, 76, 76, 77, 65, 65, 76, 62, 60, 87, 72, 71, 125, 112, 111, 158, 149, 153, 174, 164, 169, 158, 145, 152, 119, 105, 106, 75, 62, 65, 86, 75, 79, 131, 117, 121, 169, 155, 157, 174, 158, 161, 180, 164, 168, 182, 165, 170, 185, 169, 172, 189, 174, 177, 190, 174, 181, 186, 169, 179, 178, 159, 165, 174, 158, 161, 178, 161, 167, 90, 71, 67, 84, 66, 64, 92, 73, 70, 163, 145, 150, 187, 175, 181, 191, 181, 188, 191, 179, 189, 181, 170, 178, 174, 165, 171, 159, 148, 153, 128, 117, 121, 139, 128, 129, 163, 151, 155, 189, 177, 183, 191, 179, 185, 191, 178, 186, 193, 180, 191, 191, 180, 188, 171, 160, 163, 175, 162, 165, 187, 170, 174, 188, 171, 177, 185, 168, 174, 186, 170, 175, 186, 169, 175, 187, 171, 175, 186, 169, 174, 186, 170, 176, 185, 170, 177, 180, 161, 167, 176, 159, 163, 176, 159, 166, 75, 61, 60, 70, 60, 54, 138, 124, 124, 195, 182, 186, 195, 183, 184, 195, 183, 187, 191, 179, 184, 186, 174, 175, 189, 177, 179, 195, 184, 188, 194, 183, 188, 194, 182, 185, 196, 184, 190, 195, 183, 191, 195, 182, 189, 191, 179, 184, 189, 178, 184, 191, 179, 185, 193, 180, 183, 186, 169, 172, 183, 165, 169, 186, 168, 174, 190, 173, 179, 188, 172, 177, 188, 171, 176, 192, 175, 181, 193, 177, 182, 191, 175, 181, 188, 173, 179, 181, 163, 167, 181, 164, 168, 182, 165, 173, 65, 57, 56, 126, 114, 115, 191, 176, 178, 195, 183, 184, 201, 187, 193, 202, 188, 197, 200, 186, 192, 192, 175, 177, 189, 172, 176, 196, 181, 188, 193, 179, 185, 193, 178, 182, 195, 180, 187, 199, 186, 194, 197, 185, 191, 193, 182, 188, 191, 178, 183, 190, 175, 180, 190, 173, 177, 187, 168, 172, 182, 165, 168, 183, 165, 168, 184, 167, 170, 186, 170, 173, 184, 168, 172, 186, 170, 176, 188, 173, 179, 186, 171, 176, 185, 168, 173, 180, 161, 165, 184, 167, 171, 185, 168, 177, 87, 78, 82, 186, 171, 175, 202, 186, 189, 203, 192, 196, 201, 188, 194, 199, 184, 191, 200, 188, 192, 203, 191, 194, 195, 180, 184, 199, 185, 192, 199, 186, 193, 198, 186, 193, 200, 186, 192, 199, 187, 193, 199, 188, 192, 195, 183, 187, 193, 176, 181, 191, 173, 178, 192, 174, 180, 188, 171, 175, 184, 168, 171, 180, 163, 166, 182, 163, 165, 187, 171, 172, 187, 170, 172, 186, 169, 174, 185, 169, 176, 186, 170, 176, 185, 168, 174, 182, 163, 167, 187, 170, 177, 185, 169, 178, 150, 139, 143, 195, 180, 182, 196, 182, 181, 203, 190, 191, 204, 189, 193, 204, 186, 191, 195, 178, 179, 198, 185, 186, 198, 183, 187, 203, 189, 196, 202, 190, 196, 199, 188, 194, 202, 188, 195, 196, 183, 189, 197, 184, 188, 191, 177, 181, 193, 176, 182, 194, 180, 185, 195, 180, 186, 195, 180, 184, 192, 177, 181, 186, 168, 171, 183, 164, 166, 186, 169, 172, 190, 172, 175, 191, 173, 176, 186, 170, 175, 187, 170, 176, 185, 168, 174, 186, 167, 171, 189, 171, 178, 189, 173, 181, 190, 177, 181, 200, 183, 186, 202, 187, 188, 204, 189, 194, 203, 190, 195, 203, 190, 193, 199, 183, 182, 197, 182, 181, 203, 189, 192, 204, 191, 197, 199, 186, 191, 196, 182, 186, 203, 189, 195, 198, 183, 188, 196, 181, 185, 195, 179, 184, 196, 182, 186, 198, 186, 190, 199, 184, 190, 193, 178, 183, 190, 175, 178, 187, 169, 170, 190, 171, 173, 190, 174, 178, 190, 172, 176, 184, 167, 169, 185, 169, 174, 189, 172, 178, 186, 168, 174, 187, 168, 171, 185, 166, 171, 191, 173, 180, 200, 186, 189, 201, 185, 187, 201, 184, 188, 206, 191, 198, 204, 192, 197, 203, 191, 195, 199, 185, 185, 197, 180, 179, 202, 188, 191, 204, 191, 196, 202, 187, 190, 195, 180, 181, 198, 184, 190, 198, 183, 187, 199, 184, 186, 194, 179, 181, 192, 180, 181, 193, 178, 181, 193, 176, 181, 190, 172, 176, 184, 167, 169, 185, 167, 167, 187, 170, 170, 190, 175, 178, 191, 172, 177, 192, 174, 179, 193, 176, 182, 193, 176, 182, 186, 168, 174, 181, 162, 164, 177, 157, 160, 183, 164, 168, 204, 190, 194, 198, 182, 182, 195, 177, 175, 203, 188, 188, 203, 189, 191, 203, 186, 190, 201, 181, 184, 195, 177, 174, 203, 189, 191, 204, 191, 197, 202, 188, 191, 193, 178, 178, 192, 177, 181, 197, 182, 186, 199, 185, 187, 192, 176, 176, 184, 168, 168, 189, 171, 172, 188, 168, 170, 187, 168, 169, 185, 166, 166, 185, 166, 166, 186, 169, 169, 190, 173, 176, 192, 174, 179, 195, 179, 185, 195, 179, 186, 194, 178, 184, 187, 169, 175, 182, 163, 165, 177, 158, 160, 187, 169, 173, 206, 192, 195, 203, 187, 187, 195, 176, 172, 196, 175, 172, 198, 182, 180, 195, 178, 175, 193, 172, 169, 191, 171, 166, 198, 182, 181, 201, 187, 194, 199, 185, 190, 190, 173, 174, 190, 175, 175, 194, 179, 185, 193, 179, 182, 186, 168, 167, 187, 167, 167, 187, 167, 168, 187, 167, 169, 186, 166, 164, 186, 166, 165, 183, 163, 163, 188, 169, 169, 191, 172, 174, 193, 177, 183, 196, 182, 188, 193, 178, 185, 192, 176, 184, 187, 170, 176, 188, 170, 173, 192, 173, 177, 194, 178, 187], \"height\": 32, \"channels\": 3, \"width\": 32, \"type\": \"image\", \"id\": 4803185040}, {\"format\": \"raw\", \"value\": [228, 222, 236, 224, 213, 222, 212, 206, 207, 209, 202, 202, 210, 198, 199, 212, 199, 196, 203, 187, 181, 134, 116, 104, 137, 111, 87, 165, 132, 98, 170, 137, 99, 166, 132, 99, 181, 137, 124, 209, 189, 185, 199, 194, 195, 197, 188, 189, 199, 188, 186, 196, 186, 184, 193, 183, 181, 191, 181, 179, 185, 180, 176, 190, 171, 172, 173, 134, 142, 183, 148, 154, 179, 148, 152, 174, 139, 145, 174, 145, 149, 161, 141, 143, 159, 146, 143, 141, 129, 123, 87, 73, 71, 50, 43, 44, 233, 228, 241, 224, 213, 223, 215, 209, 211, 212, 205, 205, 212, 200, 201, 217, 204, 201, 182, 167, 161, 108, 90, 77, 145, 120, 94, 170, 137, 101, 176, 143, 103, 173, 143, 108, 162, 138, 114, 160, 150, 133, 186, 180, 172, 204, 192, 190, 200, 188, 187, 197, 187, 185, 194, 184, 182, 192, 182, 180, 188, 180, 177, 189, 173, 173, 193, 170, 172, 184, 170, 169, 178, 169, 167, 176, 162, 161, 171, 157, 156, 166, 151, 150, 162, 148, 147, 125, 113, 110, 58, 42, 40, 62, 52, 48, 234, 229, 242, 224, 213, 222, 218, 212, 213, 217, 210, 210, 216, 205, 205, 222, 208, 206, 186, 171, 165, 108, 90, 76, 148, 123, 94, 173, 141, 102, 184, 151, 108, 173, 146, 106, 150, 132, 101, 99, 88, 60, 104, 95, 77, 179, 166, 160, 205, 194, 191, 200, 190, 188, 197, 187, 185, 195, 185, 183, 193, 183, 181, 191, 179, 177, 188, 175, 174, 182, 175, 172, 176, 174, 169, 172, 167, 163, 171, 162, 159, 167, 156, 154, 164, 151, 150, 144, 134, 132, 82, 65, 61, 99, 85, 73, 237, 231, 245, 226, 215, 224, 220, 214, 215, 221, 214, 214, 220, 208, 209, 225, 211, 209, 178, 162, 157, 97, 79, 65, 147, 123, 92, 175, 143, 102, 188, 155, 109, 164, 136, 95, 145, 120, 89, 132, 112, 77, 72, 58, 32, 95, 84, 73, 173, 163, 160, 206, 195, 194, 200, 190, 188, 198, 189, 187, 196, 186, 184, 193, 182, 180, 188, 178, 176, 187, 176, 174, 184, 173, 171, 179, 169, 166, 175, 164, 162, 170, 160, 157, 164, 154, 153, 161, 151, 152, 107, 90, 85, 112, 97, 79, 242, 238, 250, 231, 221, 230, 227, 220, 222, 224, 216, 216, 222, 212, 212, 223, 212, 210, 132, 118, 112, 87, 69, 52, 152, 128, 95, 175, 145, 103, 186, 156, 109, 178, 151, 106, 172, 142, 108, 166, 138, 105, 118, 98, 68, 66, 52, 37, 99, 89, 80, 191, 181, 174, 205, 196, 191, 201, 191, 189, 199, 189, 187, 195, 185, 184, 191, 181, 180, 191, 176, 176, 190, 173, 174, 186, 170, 171, 179, 166, 167, 173, 163, 161, 166, 158, 156, 166, 156, 157, 110, 92, 86, 118, 101, 80, 242, 239, 249, 232, 227, 234, 232, 224, 229, 227, 216, 216, 223, 215, 214, 215, 211, 208, 108, 99, 89, 103, 84, 62, 155, 130, 97, 166, 140, 103, 175, 149, 107, 173, 148, 103, 156, 131, 98, 141, 116, 93, 138, 115, 84, 96, 74, 53, 72, 59, 40, 150, 140, 122, 210, 198, 189, 203, 191, 188, 201, 188, 187, 198, 185, 185, 195, 183, 182, 193, 180, 180, 189, 175, 177, 183, 171, 175, 178, 168, 169, 174, 164, 163, 169, 159, 159, 170, 157, 157, 111, 91, 84, 112, 94, 73, 239, 237, 248, 230, 225, 233, 233, 224, 231, 227, 217, 217, 224, 217, 215, 206, 201, 196, 94, 83, 70, 118, 98, 73, 150, 125, 92, 148, 124, 92, 138, 113, 83, 117, 93, 63, 83, 63, 40, 73, 53, 37, 98, 79, 47, 92, 73, 47, 111, 97, 76, 143, 131, 112, 190, 177, 166, 205, 192, 187, 202, 188, 184, 201, 187, 182, 195, 181, 177, 183, 170, 165, 184, 171, 168, 184, 173, 172, 178, 166, 166, 175, 163, 163, 171, 159, 159, 171, 157, 158, 114, 93, 86, 110, 92, 71, 238, 235, 248, 221, 215, 226, 223, 214, 223, 227, 217, 219, 224, 218, 215, 202, 196, 190, 97, 81, 65, 130, 107, 79, 150, 126, 94, 148, 124, 97, 132, 107, 86, 94, 71, 52, 72, 55, 38, 69, 52, 38, 98, 85, 50, 111, 97, 66, 155, 142, 121, 150, 136, 118, 123, 108, 94, 141, 127, 116, 141, 126, 116, 138, 124, 113, 123, 108, 97, 107, 93, 82, 136, 122, 112, 167, 154, 146, 179, 166, 159, 176, 163, 160, 172, 159, 159, 171, 157, 157, 115, 95, 87, 111, 93, 71, 233, 230, 246, 214, 208, 221, 214, 205, 217, 228, 218, 222, 224, 218, 215, 203, 194, 186, 107, 86, 66, 135, 109, 79, 149, 127, 97, 140, 118, 91, 135, 112, 91, 99, 78, 55, 86, 68, 45, 89, 71, 53, 124, 109, 71, 138, 122, 90, 173, 157, 137, 148, 132, 114, 78, 61, 44, 62, 45, 29, 71, 54, 37, 82, 65, 47, 72, 55, 37, 72, 55, 37, 84, 69, 51, 112, 99, 82, 163, 149, 137, 176, 161, 156, 172, 158, 157, 169, 155, 156, 116, 95, 88, 113, 94, 73, 225, 221, 240, 213, 207, 222, 210, 200, 214, 226, 217, 222, 224, 218, 216, 196, 185, 176, 130, 106, 82, 118, 90, 59, 124, 104, 76, 123, 104, 74, 130, 111, 79, 116, 97, 60, 110, 89, 52, 118, 95, 68, 136, 115, 75, 150, 128, 98, 163, 143, 126, 132, 114, 96, 77, 59, 40, 66, 48, 28, 85, 67, 44, 86, 69, 45, 85, 68, 44, 95, 78, 54, 94, 78, 54, 86, 72, 49, 100, 85, 69, 141, 124, 117, 169, 153, 152, 168, 154, 154, 113, 92, 85, 111, 93, 71, 220, 217, 236, 207, 203, 218, 203, 197, 211, 220, 216, 222, 222, 217, 214, 173, 157, 143, 146, 115, 85, 135, 100, 67, 105, 80, 56, 110, 90, 67, 118, 102, 74, 125, 108, 71, 131, 109, 73, 132, 109, 85, 140, 120, 87, 167, 149, 111, 158, 141, 111, 123, 105, 80, 76, 58, 37, 84, 65, 47, 102, 83, 60, 91, 72, 46, 91, 73, 46, 112, 94, 67, 97, 81, 55, 80, 67, 43, 76, 62, 43, 92, 78, 63, 141, 126, 116, 174, 154, 152, 113, 90, 84, 105, 88, 67, 210, 207, 225, 199, 197, 211, 200, 198, 209, 215, 215, 221, 214, 209, 204, 156, 136, 115, 151, 116, 79, 152, 112, 76, 102, 71, 49, 109, 90, 73, 119, 105, 86, 116, 99, 72, 132, 113, 85, 122, 102, 87, 133, 117, 93, 162, 150, 104, 174, 160, 118, 129, 112, 81, 82, 64, 41, 92, 73, 58, 102, 82, 61, 98, 77, 50, 105, 85, 58, 114, 93, 66, 101, 84, 59, 75, 62, 39, 80, 67, 44, 87, 74, 51, 111, 96, 76, 171, 146, 140, 115, 93, 87, 104, 87, 66, 206, 204, 220, 211, 209, 221, 209, 208, 217, 219, 217, 219, 214, 205, 197, 151, 129, 107, 155, 121, 84, 152, 114, 77, 88, 60, 36, 105, 88, 70, 137, 124, 107, 150, 135, 111, 129, 114, 89, 123, 106, 89, 137, 121, 97, 138, 124, 83, 140, 125, 87, 114, 97, 67, 86, 68, 44, 94, 76, 58, 97, 77, 54, 102, 82, 54, 114, 94, 67, 123, 103, 76, 103, 85, 59, 87, 72, 48, 97, 82, 58, 107, 92, 68, 105, 88, 67, 148, 126, 117, 117, 96, 88, 104, 89, 69, 207, 205, 218, 215, 213, 222, 224, 223, 230, 227, 221, 220, 181, 167, 155, 142, 118, 94, 160, 125, 89, 160, 124, 86, 94, 69, 40, 99, 85, 65, 165, 155, 139, 187, 175, 156, 161, 152, 130, 132, 120, 101, 156, 141, 115, 158, 142, 107, 129, 112, 80, 97, 80, 52, 98, 81, 56, 99, 81, 58, 93, 74, 49, 101, 81, 54, 127, 108, 81, 130, 110, 83, 119, 100, 73, 122, 105, 79, 122, 105, 80, 127, 110, 84, 109, 91, 68, 118, 100, 85, 108, 91, 79, 103, 91, 72, 200, 199, 210, 203, 202, 209, 204, 203, 207, 204, 194, 189, 134, 115, 99, 136, 110, 84, 164, 129, 93, 163, 129, 89, 113, 91, 57, 86, 75, 53, 162, 154, 139, 197, 187, 171, 196, 192, 172, 193, 186, 164, 194, 180, 153, 158, 140, 109, 121, 103, 75, 93, 76, 50, 106, 89, 63, 106, 89, 63, 104, 85, 58, 113, 93, 66, 128, 108, 81, 119, 99, 72, 122, 102, 75, 138, 118, 90, 145, 125, 97, 134, 114, 86, 121, 102, 75, 97, 81, 62, 82, 67, 53, 105, 95, 76, 188, 186, 195, 193, 191, 197, 191, 190, 193, 172, 160, 152, 123, 101, 83, 136, 108, 82, 162, 128, 93, 157, 126, 86, 131, 112, 76, 77, 68, 45, 101, 93, 80, 184, 176, 164, 203, 201, 184, 214, 209, 185, 208, 195, 167, 175, 157, 130, 102, 83, 59, 89, 72, 48, 105, 88, 62, 107, 90, 62, 119, 100, 72, 123, 103, 76, 123, 103, 76, 106, 86, 59, 117, 97, 69, 142, 121, 92, 150, 130, 101, 125, 105, 76, 113, 93, 66, 91, 76, 55, 75, 63, 48, 107, 99, 81, 200, 194, 199, 198, 192, 196, 210, 204, 208, 160, 144, 138, 122, 99, 82, 136, 111, 86, 157, 128, 96, 144, 120, 85, 115, 102, 73, 90, 78, 60, 60, 48, 41, 81, 69, 64, 127, 120, 102, 173, 165, 142, 155, 145, 118, 122, 110, 82, 100, 85, 59, 93, 78, 52, 98, 83, 56, 101, 86, 59, 125, 109, 78, 136, 119, 86, 126, 109, 79, 115, 97, 70, 124, 106, 78, 129, 111, 81, 139, 123, 94, 114, 99, 72, 94, 81, 56, 91, 78, 59, 86, 76, 59, 99, 92, 76, 212, 203, 206, 209, 199, 203, 218, 209, 212, 167, 154, 151, 113, 96, 84, 118, 100, 82, 133, 112, 87, 117, 100, 75, 100, 88, 69, 97, 85, 70, 78, 65, 56, 87, 73, 65, 131, 118, 97, 149, 136, 111, 126, 113, 85, 117, 104, 74, 113, 100, 72, 88, 75, 49, 94, 81, 54, 107, 94, 67, 133, 119, 87, 149, 133, 100, 127, 111, 81, 113, 97, 71, 123, 106, 79, 122, 106, 76, 127, 113, 85, 109, 98, 72, 82, 72, 49, 89, 77, 60, 91, 82, 65, 95, 89, 75, 214, 205, 206, 210, 201, 202, 189, 180, 181, 143, 137, 134, 105, 98, 90, 104, 95, 83, 103, 91, 75, 103, 90, 76, 101, 90, 81, 100, 90, 76, 91, 82, 64, 130, 119, 99, 158, 141, 117, 165, 149, 122, 151, 134, 104, 138, 122, 90, 98, 86, 59, 72, 62, 36, 93, 82, 56, 117, 106, 81, 134, 122, 91, 150, 136, 104, 120, 106, 77, 112, 97, 72, 124, 109, 83, 127, 112, 84, 128, 116, 89, 123, 114, 90, 91, 84, 63, 83, 74, 57, 92, 85, 70, 93, 89, 77, 190, 182, 180, 156, 148, 146, 127, 119, 117, 111, 108, 103, 109, 107, 100, 108, 104, 95, 113, 105, 96, 112, 103, 96, 107, 99, 91, 107, 100, 86, 90, 84, 64, 97, 90, 66, 117, 104, 81, 123, 109, 84, 130, 117, 88, 119, 106, 76, 91, 80, 54, 84, 75, 51, 98, 89, 65, 111, 101, 77, 130, 120, 91, 138, 127, 97, 111, 100, 73, 116, 104, 82, 125, 112, 88, 123, 111, 84, 134, 124, 100, 118, 112, 90, 102, 96, 77, 88, 82, 66, 91, 86, 73, 91, 88, 78, 124, 117, 112, 116, 108, 104, 117, 109, 105, 120, 116, 107, 118, 116, 105, 122, 115, 106, 125, 115, 108, 125, 116, 108, 120, 115, 104, 116, 112, 97, 101, 98, 79, 89, 85, 65, 105, 98, 80, 111, 104, 84, 111, 105, 82, 105, 99, 73, 109, 102, 79, 112, 105, 82, 120, 113, 90, 123, 116, 93, 126, 118, 91, 131, 122, 93, 123, 113, 88, 127, 117, 96, 144, 133, 111, 123, 112, 87, 114, 106, 84, 100, 96, 75, 94, 90, 72, 97, 92, 78, 94, 91, 80, 91, 91, 83, 115, 108, 104, 122, 116, 111, 124, 118, 112, 121, 116, 106, 123, 118, 106, 131, 122, 113, 133, 122, 115, 137, 129, 119, 137, 133, 118, 135, 131, 116, 132, 129, 113, 132, 129, 114, 135, 132, 118, 137, 134, 119, 139, 137, 118, 137, 135, 114, 135, 130, 109, 135, 129, 108, 137, 131, 110, 135, 129, 108, 135, 129, 105, 134, 127, 102, 127, 119, 97, 140, 132, 113, 142, 133, 114, 102, 95, 73, 94, 89, 69, 95, 92, 73, 103, 100, 84, 104, 100, 89, 100, 97, 88, 97, 97, 90, 126, 121, 121, 124, 120, 116, 123, 119, 113, 123, 118, 110, 129, 122, 113, 134, 127, 118, 135, 128, 120, 140, 133, 123, 139, 133, 120, 139, 133, 120, 140, 134, 122, 139, 133, 120, 142, 137, 121, 140, 135, 119, 138, 133, 116, 138, 133, 116, 139, 134, 114, 140, 135, 115, 140, 135, 115, 134, 129, 109, 141, 136, 117, 138, 132, 115, 134, 128, 111, 134, 128, 111, 122, 117, 101, 99, 96, 81, 96, 93, 78, 99, 97, 82, 109, 106, 94, 107, 104, 98, 102, 99, 94, 103, 100, 95, 131, 127, 127, 128, 124, 121, 124, 122, 115, 130, 125, 117, 136, 129, 121, 129, 122, 114, 130, 123, 115, 138, 131, 122, 137, 131, 119, 134, 128, 116, 134, 128, 116, 146, 140, 127, 149, 143, 127, 149, 143, 127, 142, 136, 120, 135, 129, 113, 140, 135, 117, 143, 138, 119, 144, 139, 120, 143, 138, 119, 144, 138, 122, 133, 127, 113, 132, 126, 112, 136, 130, 116, 125, 121, 107, 120, 118, 105, 124, 122, 109, 121, 119, 106, 115, 113, 101, 112, 109, 104, 110, 107, 102, 107, 104, 99, 133, 129, 130, 133, 129, 126, 130, 127, 121, 124, 118, 111, 131, 124, 116, 132, 125, 117, 132, 124, 117, 135, 128, 119, 141, 135, 123, 150, 144, 132, 148, 142, 130, 153, 147, 135, 151, 145, 130, 150, 144, 128, 147, 141, 125, 147, 141, 125, 142, 136, 120, 139, 134, 118, 143, 137, 122, 148, 142, 126, 146, 140, 126, 134, 128, 115, 124, 118, 106, 126, 120, 107, 127, 123, 111, 127, 124, 113, 127, 125, 114, 125, 123, 112, 125, 122, 112, 120, 117, 111, 121, 118, 113, 118, 115, 110, 136, 132, 132, 137, 133, 130, 129, 126, 120, 124, 118, 111, 132, 125, 116, 135, 128, 120, 138, 131, 123, 139, 132, 122, 145, 138, 127, 152, 146, 134, 146, 140, 128, 142, 136, 123, 140, 134, 119, 136, 130, 114, 140, 134, 118, 139, 133, 118, 133, 127, 114, 130, 124, 111, 133, 127, 114, 139, 134, 121, 139, 133, 122, 134, 127, 117, 133, 127, 116, 134, 127, 116, 132, 127, 118, 135, 132, 124, 134, 131, 124, 136, 133, 125, 130, 127, 119, 123, 120, 115, 122, 119, 114, 119, 116, 111, 130, 126, 127, 143, 139, 136, 136, 133, 127, 135, 130, 122, 137, 130, 122, 142, 135, 127, 145, 138, 130, 143, 137, 127, 138, 132, 120, 136, 130, 118, 133, 127, 115, 134, 128, 115, 134, 128, 112, 130, 124, 108, 128, 122, 107, 129, 123, 108, 127, 121, 109, 132, 125, 114, 133, 127, 116, 134, 128, 116, 140, 133, 124, 140, 133, 124, 140, 133, 124, 134, 127, 119, 134, 128, 121, 138, 135, 129, 138, 135, 129, 140, 137, 131, 131, 128, 122, 130, 127, 122, 129, 126, 121, 117, 115, 110, 116, 114, 112, 142, 140, 136, 146, 145, 140, 141, 137, 129, 149, 142, 133, 147, 140, 131, 143, 135, 126, 138, 130, 121, 134, 128, 117, 130, 123, 112, 130, 124, 113, 130, 124, 113, 131, 127, 114, 132, 128, 115, 136, 132, 118, 133, 129, 115, 134, 130, 118, 135, 131, 120, 137, 133, 122, 140, 136, 125, 147, 142, 133, 142, 137, 130, 135, 130, 123, 137, 132, 125, 137, 133, 126, 136, 133, 126, 136, 133, 126, 133, 130, 123, 127, 125, 118, 126, 127, 122, 132, 133, 129, 130, 131, 126, 107, 108, 103, 127, 128, 123, 138, 139, 135, 141, 137, 130, 143, 137, 127, 134, 128, 118, 132, 125, 115, 131, 124, 114, 134, 128, 118, 137, 130, 121, 141, 135, 125, 134, 128, 118, 135, 132, 121, 148, 146, 134, 142, 140, 128, 139, 137, 126, 150, 148, 137, 154, 152, 140, 150, 148, 136, 151, 148, 137, 152, 149, 141, 146, 143, 137, 136, 133, 127, 133, 130, 123, 136, 133, 126, 138, 135, 128, 137, 135, 127, 137, 134, 127, 140, 139, 133, 138, 141, 140, 142, 146, 145, 139, 143, 143, 108, 108, 107, 119, 119, 117, 125, 125, 123, 134, 132, 126, 134, 130, 122, 131, 127, 119, 132, 128, 120, 133, 129, 121, 139, 135, 126, 145, 141, 133, 148, 144, 136, 146, 142, 134, 152, 149, 140, 156, 153, 144, 150, 148, 139, 151, 148, 139, 155, 152, 143, 158, 155, 147, 155, 152, 144, 151, 149, 140, 146, 143, 137, 144, 141, 137, 141, 138, 133, 142, 138, 134, 144, 142, 137, 147, 146, 142, 143, 143, 138, 139, 139, 134, 146, 146, 144, 146, 149, 154, 144, 147, 153, 134, 137, 143, 119, 119, 119, 122, 122, 122, 124, 124, 124, 137, 136, 133, 135, 133, 127, 138, 137, 131, 142, 141, 135, 144, 142, 137, 146, 144, 138, 139, 138, 132, 147, 146, 140, 151, 149, 143, 156, 153, 147, 153, 150, 144, 151, 148, 143, 151, 148, 143, 151, 148, 142, 149, 145, 140, 146, 143, 137, 146, 143, 137, 149, 145, 142, 148, 144, 143, 146, 142, 140, 153, 149, 147, 150, 148, 147, 147, 147, 148, 140, 140, 141, 136, 136, 137, 151, 151, 154, 147, 149, 158, 130, 133, 142, 110, 113, 122, 130, 129, 132, 130, 129, 132, 125, 125, 127, 138, 138, 136, 136, 136, 132, 141, 142, 138, 150, 151, 147, 156, 156, 152, 158, 158, 154, 143, 143, 139, 136, 136, 132, 144, 143, 140, 148, 144, 141, 152, 148, 145, 161, 158, 155, 170, 166, 163, 168, 164, 161, 159, 156, 153, 158, 154, 152, 157, 153, 151, 158, 154, 154, 164, 160, 161, 153, 149, 149, 144, 140, 140, 139, 137, 140, 133, 134, 139, 126, 127, 132, 128, 129, 134, 138, 140, 145, 103, 107, 111, 60, 63, 67, 43, 47, 51], \"height\": 32, \"channels\": 3, \"width\": 32, \"type\": \"image\", \"id\": 4803186064}, {\"format\": \"raw\", \"value\": [217, 220, 205, 221, 227, 218, 195, 209, 205, 156, 176, 170, 150, 163, 149, 128, 138, 125, 124, 129, 121, 164, 165, 157, 228, 228, 224, 235, 239, 239, 214, 225, 223, 176, 196, 195, 196, 223, 228, 204, 228, 240, 216, 229, 237, 217, 217, 215, 235, 232, 228, 236, 239, 238, 236, 237, 239, 234, 236, 241, 216, 227, 234, 193, 214, 223, 182, 209, 218, 180, 209, 213, 189, 223, 229, 200, 233, 242, 212, 235, 238, 224, 236, 232, 227, 231, 230, 226, 230, 229, 226, 230, 229, 222, 227, 226, 222, 235, 221, 228, 241, 232, 188, 206, 204, 133, 155, 150, 140, 155, 131, 128, 136, 123, 148, 151, 151, 136, 140, 134, 188, 191, 186, 234, 237, 240, 211, 220, 220, 146, 162, 160, 181, 203, 202, 203, 220, 224, 170, 179, 182, 162, 164, 161, 233, 232, 227, 245, 246, 244, 242, 242, 246, 238, 242, 249, 227, 240, 250, 213, 236, 250, 202, 231, 247, 199, 230, 241, 203, 236, 247, 209, 239, 251, 220, 240, 246, 228, 238, 239, 230, 234, 233, 229, 233, 232, 229, 233, 232, 227, 231, 230, 207, 220, 198, 221, 233, 216, 187, 201, 196, 129, 148, 143, 111, 129, 106, 121, 130, 120, 145, 146, 150, 120, 125, 120, 109, 115, 108, 143, 146, 150, 145, 151, 152, 121, 131, 129, 129, 143, 138, 131, 140, 136, 130, 136, 135, 151, 159, 159, 221, 229, 230, 231, 239, 241, 231, 239, 240, 229, 241, 243, 223, 243, 249, 214, 243, 253, 206, 238, 250, 210, 236, 247, 217, 240, 250, 220, 239, 247, 228, 236, 240, 233, 236, 235, 231, 235, 234, 230, 234, 233, 229, 233, 232, 228, 232, 231, 166, 178, 147, 185, 198, 176, 179, 194, 189, 133, 155, 160, 124, 146, 140, 126, 137, 132, 118, 119, 117, 109, 112, 106, 76, 82, 75, 73, 77, 75, 76, 80, 81, 73, 78, 77, 75, 80, 75, 105, 107, 98, 151, 156, 152, 159, 176, 183, 163, 188, 200, 168, 193, 205, 175, 199, 204, 180, 206, 210, 183, 212, 219, 183, 217, 225, 177, 212, 221, 169, 195, 206, 180, 200, 209, 192, 204, 209, 209, 213, 213, 231, 230, 228, 231, 235, 234, 229, 233, 232, 229, 233, 232, 228, 232, 231, 132, 151, 120, 134, 156, 137, 146, 174, 176, 162, 195, 214, 175, 203, 219, 136, 149, 151, 111, 112, 103, 114, 113, 104, 84, 88, 80, 62, 67, 59, 77, 79, 78, 72, 73, 74, 73, 72, 69, 119, 116, 106, 154, 160, 157, 157, 185, 198, 148, 189, 213, 146, 188, 212, 149, 188, 208, 153, 190, 208, 155, 191, 209, 158, 193, 211, 159, 194, 212, 152, 187, 204, 159, 186, 200, 181, 199, 207, 200, 210, 214, 223, 229, 230, 231, 236, 235, 229, 233, 232, 228, 232, 231, 227, 231, 230, 119, 143, 123, 127, 159, 156, 159, 199, 213, 173, 218, 241, 160, 193, 213, 103, 117, 119, 88, 89, 82, 98, 95, 92, 88, 85, 81, 70, 72, 64, 80, 80, 75, 81, 79, 76, 84, 82, 78, 129, 126, 116, 152, 158, 155, 147, 172, 188, 126, 163, 188, 111, 147, 169, 104, 137, 155, 99, 129, 147, 98, 125, 146, 102, 127, 150, 122, 146, 170, 141, 172, 189, 142, 168, 179, 153, 173, 178, 190, 213, 218, 209, 231, 235, 219, 229, 227, 227, 235, 231, 226, 233, 229, 225, 230, 227, 139, 168, 168, 169, 208, 227, 165, 213, 238, 151, 200, 224, 129, 163, 175, 91, 102, 100, 89, 91, 88, 95, 94, 95, 89, 83, 81, 80, 79, 73, 76, 74, 67, 83, 81, 74, 99, 99, 93, 113, 113, 102, 121, 127, 123, 100, 117, 130, 63, 84, 101, 58, 77, 87, 68, 85, 91, 48, 65, 73, 38, 53, 65, 41, 54, 70, 41, 55, 73, 63, 81, 91, 88, 102, 104, 81, 94, 94, 97, 122, 127, 182, 211, 217, 214, 232, 233, 212, 227, 225, 222, 234, 229, 222, 231, 224, 168, 206, 226, 158, 202, 232, 141, 188, 220, 138, 184, 210, 117, 145, 155, 95, 102, 97, 92, 95, 87, 104, 107, 101, 96, 95, 86, 87, 86, 80, 66, 65, 60, 80, 79, 73, 100, 99, 93, 113, 112, 102, 116, 121, 115, 69, 81, 88, 16, 29, 38, 32, 40, 42, 50, 61, 63, 53, 66, 72, 42, 55, 60, 40, 53, 59, 30, 43, 50, 27, 38, 43, 56, 61, 62, 77, 82, 80, 57, 71, 75, 87, 109, 117, 184, 207, 217, 208, 228, 233, 208, 225, 224, 216, 229, 222, 153, 201, 228, 135, 185, 215, 128, 178, 204, 124, 168, 190, 99, 121, 130, 89, 92, 85, 105, 108, 98, 103, 111, 100, 95, 97, 84, 101, 98, 90, 100, 100, 96, 102, 102, 98, 104, 101, 94, 122, 121, 109, 122, 126, 117, 85, 91, 91, 15, 20, 19, 56, 56, 50, 56, 60, 58, 47, 55, 56, 49, 58, 57, 57, 68, 65, 42, 53, 50, 19, 23, 23, 30, 29, 28, 53, 53, 50, 59, 63, 65, 47, 59, 68, 94, 118, 134, 185, 210, 222, 208, 231, 235, 191, 209, 206, 135, 189, 213, 122, 177, 200, 119, 171, 193, 115, 158, 178, 100, 119, 128, 108, 109, 102, 103, 104, 94, 92, 98, 88, 94, 94, 80, 112, 108, 99, 162, 164, 161, 132, 134, 131, 99, 95, 88, 122, 120, 107, 118, 121, 109, 76, 77, 71, 20, 19, 14, 69, 66, 56, 80, 80, 74, 60, 63, 60, 45, 50, 46, 54, 63, 56, 58, 68, 61, 30, 32, 28, 21, 20, 17, 29, 29, 27, 39, 39, 40, 54, 59, 66, 43, 62, 74, 121, 148, 162, 202, 231, 241, 199, 222, 225, 128, 182, 207, 113, 168, 193, 108, 161, 190, 102, 146, 176, 98, 119, 131, 108, 109, 103, 98, 97, 90, 83, 86, 79, 98, 94, 83, 107, 102, 93, 200, 204, 201, 151, 156, 154, 103, 99, 91, 108, 104, 89, 116, 117, 102, 72, 71, 62, 22, 22, 14, 48, 48, 38, 79, 76, 68, 64, 62, 55, 48, 50, 45, 32, 38, 34, 48, 57, 53, 52, 58, 53, 28, 33, 30, 21, 26, 26, 26, 28, 31, 43, 45, 47, 36, 47, 49, 89, 113, 124, 180, 211, 227, 210, 237, 250, 123, 173, 204, 112, 162, 195, 108, 155, 194, 104, 144, 184, 115, 136, 153, 104, 108, 108, 127, 126, 121, 133, 133, 127, 123, 117, 106, 118, 113, 103, 207, 209, 209, 202, 205, 207, 137, 135, 130, 112, 110, 96, 118, 116, 102, 72, 71, 61, 24, 25, 18, 34, 36, 29, 70, 67, 57, 68, 63, 53, 54, 54, 46, 34, 38, 35, 30, 37, 37, 55, 62, 59, 50, 58, 56, 23, 30, 31, 23, 28, 30, 29, 32, 31, 47, 52, 48, 96, 115, 122, 149, 178, 194, 194, 224, 242, 95, 138, 170, 89, 130, 162, 89, 126, 161, 87, 119, 154, 110, 132, 153, 129, 139, 148, 142, 143, 140, 168, 167, 157, 136, 132, 119, 135, 131, 122, 156, 154, 157, 224, 224, 231, 200, 203, 203, 130, 130, 122, 106, 103, 93, 63, 62, 53, 28, 29, 22, 32, 33, 27, 70, 65, 55, 78, 72, 60, 55, 55, 43, 39, 42, 35, 24, 29, 28, 39, 45, 43, 66, 72, 70, 30, 35, 34, 24, 30, 29, 24, 29, 26, 54, 60, 56, 100, 113, 117, 113, 136, 148, 180, 208, 228, 46, 83, 107, 35, 69, 93, 36, 65, 90, 30, 58, 84, 64, 89, 113, 159, 175, 188, 153, 160, 161, 166, 168, 161, 150, 151, 142, 147, 147, 142, 122, 123, 129, 211, 213, 222, 220, 225, 227, 142, 144, 138, 105, 101, 94, 71, 70, 64, 41, 42, 36, 29, 29, 24, 62, 58, 50, 90, 85, 72, 68, 67, 55, 48, 51, 43, 31, 35, 34, 27, 31, 30, 67, 70, 69, 41, 45, 43, 21, 25, 24, 23, 27, 25, 62, 68, 65, 74, 86, 88, 80, 99, 110, 123, 148, 166, 123, 160, 181, 99, 134, 155, 82, 116, 137, 71, 105, 128, 94, 125, 151, 176, 198, 216, 193, 206, 212, 182, 190, 190, 172, 179, 178, 135, 142, 143, 134, 140, 147, 195, 201, 209, 199, 205, 207, 135, 135, 131, 92, 89, 82, 80, 78, 73, 54, 54, 50, 30, 30, 26, 40, 37, 31, 85, 81, 71, 91, 90, 78, 70, 71, 64, 43, 45, 43, 21, 23, 21, 52, 55, 52, 56, 58, 56, 26, 28, 26, 34, 38, 35, 57, 65, 62, 51, 62, 64, 71, 87, 95, 74, 94, 107, 166, 206, 231, 154, 193, 218, 140, 181, 205, 117, 158, 183, 125, 160, 187, 171, 197, 217, 214, 229, 240, 204, 216, 221, 194, 206, 209, 173, 185, 190, 166, 176, 182, 175, 181, 185, 142, 146, 145, 104, 103, 99, 79, 76, 71, 71, 69, 65, 56, 55, 53, 38, 37, 36, 32, 29, 27, 57, 55, 48, 96, 95, 86, 95, 95, 89, 59, 59, 57, 24, 25, 22, 40, 41, 38, 58, 60, 56, 37, 39, 35, 48, 52, 49, 45, 54, 52, 42, 53, 54, 64, 76, 81, 85, 98, 106, 134, 167, 192, 140, 175, 199, 144, 181, 204, 138, 177, 201, 143, 180, 205, 168, 196, 214, 215, 232, 242, 218, 230, 238, 210, 223, 230, 202, 216, 223, 189, 200, 203, 126, 131, 129, 87, 86, 81, 86, 82, 77, 79, 75, 72, 68, 67, 64, 53, 53, 51, 38, 38, 38, 34, 33, 33, 32, 31, 26, 57, 57, 49, 96, 94, 89, 83, 82, 79, 34, 35, 30, 29, 30, 25, 49, 50, 45, 51, 52, 47, 72, 76, 72, 47, 57, 57, 51, 61, 62, 71, 80, 83, 100, 108, 112, 113, 134, 154, 110, 133, 152, 115, 139, 156, 134, 161, 179, 129, 163, 187, 141, 168, 186, 198, 215, 225, 224, 236, 245, 221, 233, 242, 214, 228, 235, 141, 149, 150, 64, 65, 60, 69, 65, 56, 79, 74, 68, 81, 77, 74, 73, 71, 69, 54, 53, 53, 36, 36, 37, 39, 39, 41, 41, 41, 38, 30, 29, 23, 64, 61, 56, 94, 91, 88, 54, 55, 50, 28, 29, 24, 40, 41, 36, 67, 68, 62, 108, 111, 107, 68, 78, 79, 53, 63, 63, 78, 85, 85, 115, 119, 120, 178, 205, 226, 158, 182, 201, 137, 148, 158, 183, 190, 198, 171, 199, 223, 166, 193, 211, 178, 196, 206, 217, 232, 244, 220, 231, 244, 179, 185, 193, 95, 96, 96, 73, 70, 64, 71, 69, 59, 73, 72, 65, 78, 77, 75, 78, 77, 77, 52, 52, 52, 33, 33, 36, 35, 36, 41, 49, 50, 54, 33, 32, 31, 48, 45, 41, 77, 73, 69, 74, 73, 72, 43, 43, 41, 39, 39, 35, 74, 74, 68, 131, 135, 130, 95, 107, 107, 39, 48, 44, 49, 55, 50, 109, 115, 111, 187, 221, 246, 179, 210, 233, 171, 188, 202, 192, 201, 211, 181, 206, 228, 180, 202, 218, 166, 182, 189, 207, 220, 231, 203, 212, 224, 126, 130, 134, 97, 96, 93, 73, 71, 63, 55, 55, 46, 53, 54, 48, 58, 58, 56, 58, 58, 58, 27, 27, 28, 37, 37, 40, 42, 44, 48, 35, 38, 41, 36, 36, 35, 50, 48, 44, 69, 67, 60, 80, 80, 78, 65, 65, 64, 44, 44, 40, 80, 81, 74, 117, 121, 115, 105, 114, 112, 66, 72, 67, 47, 52, 47, 101, 110, 107, 168, 209, 233, 163, 203, 230, 167, 199, 222, 167, 193, 212, 178, 202, 222, 176, 193, 204, 138, 147, 152, 171, 179, 186, 189, 198, 203, 109, 115, 112, 78, 79, 71, 60, 59, 50, 70, 71, 63, 62, 63, 58, 35, 36, 33, 51, 52, 51, 33, 34, 35, 44, 44, 47, 50, 52, 53, 42, 45, 43, 40, 41, 37, 52, 53, 47, 68, 69, 61, 82, 84, 81, 82, 85, 81, 39, 41, 36, 50, 52, 46, 51, 54, 49, 49, 51, 48, 45, 47, 43, 28, 34, 33, 70, 83, 88, 153, 197, 225, 146, 191, 222, 146, 189, 221, 151, 188, 217, 199, 223, 240, 207, 218, 226, 136, 138, 141, 90, 94, 98, 147, 156, 159, 109, 118, 112, 78, 80, 71, 127, 127, 118, 166, 168, 162, 130, 133, 128, 45, 47, 44, 49, 51, 50, 58, 60, 60, 36, 37, 39, 50, 51, 51, 40, 42, 39, 32, 35, 31, 58, 62, 56, 71, 75, 69, 70, 75, 72, 71, 77, 75, 18, 24, 21, 8, 13, 11, 8, 12, 11, 10, 12, 11, 12, 15, 15, 5, 14, 19, 51, 69, 82, 142, 184, 216, 136, 179, 213, 134, 177, 214, 139, 179, 214, 190, 216, 234, 211, 221, 228, 158, 158, 160, 36, 40, 44, 65, 76, 80, 120, 129, 129, 107, 111, 106, 168, 169, 163, 167, 170, 165, 148, 153, 148, 85, 90, 86, 33, 37, 35, 49, 53, 53, 40, 43, 45, 45, 47, 47, 40, 42, 42, 30, 33, 33, 68, 74, 72, 64, 72, 69, 39, 47, 47, 33, 41, 43, 7, 15, 19, 6, 13, 18, 6, 14, 20, 12, 19, 27, 14, 23, 31, 17, 31, 44, 85, 108, 129, 132, 172, 208, 129, 167, 203, 127, 165, 204, 126, 164, 201, 123, 151, 171, 108, 119, 129, 90, 89, 94, 24, 30, 35, 25, 38, 45, 64, 73, 81, 78, 82, 84, 143, 144, 141, 136, 140, 135, 128, 134, 129, 89, 94, 90, 49, 53, 52, 44, 48, 48, 45, 49, 51, 36, 38, 41, 35, 36, 40, 42, 46, 49, 62, 69, 72, 33, 42, 46, 22, 31, 36, 18, 27, 34, 12, 20, 30, 15, 23, 35, 16, 27, 41, 22, 37, 54, 27, 42, 58, 41, 60, 79, 116, 143, 168, 123, 161, 200, 120, 157, 194, 117, 154, 193, 116, 152, 190, 92, 122, 148, 67, 87, 103, 58, 68, 78, 34, 45, 52, 43, 55, 66, 37, 46, 58, 27, 33, 41, 75, 79, 80, 83, 88, 86, 77, 83, 81, 68, 72, 72, 51, 55, 57, 36, 42, 44, 29, 35, 40, 26, 31, 39, 22, 26, 36, 31, 38, 47, 38, 48, 57, 26, 38, 47, 28, 38, 52, 28, 39, 53, 21, 33, 49, 29, 41, 57, 31, 45, 65, 34, 52, 75, 39, 58, 81, 58, 82, 104, 128, 157, 181, 113, 152, 192, 109, 147, 186, 107, 145, 184, 106, 143, 182, 106, 139, 174, 98, 127, 152, 70, 92, 108, 70, 86, 98, 75, 86, 100, 36, 47, 59, 26, 36, 45, 28, 37, 41, 21, 29, 30, 20, 26, 28, 26, 30, 36, 24, 30, 37, 18, 26, 33, 15, 25, 34, 17, 26, 41, 19, 29, 45, 21, 32, 47, 31, 44, 59, 34, 49, 64, 34, 47, 67, 30, 44, 65, 29, 45, 65, 48, 66, 85, 50, 69, 90, 41, 60, 85, 49, 72, 96, 84, 113, 135, 142, 175, 196, 104, 143, 182, 101, 139, 178, 99, 137, 176, 97, 134, 174, 95, 132, 170, 87, 120, 149, 72, 98, 118, 90, 109, 126, 81, 96, 112, 36, 49, 62, 35, 46, 57, 43, 53, 61, 28, 38, 43, 24, 34, 41, 19, 29, 41, 17, 28, 41, 18, 32, 45, 20, 35, 50, 24, 36, 57, 25, 37, 59, 29, 43, 64, 33, 49, 70, 34, 51, 72, 35, 51, 74, 31, 48, 71, 34, 53, 75, 49, 69, 91, 49, 71, 94, 42, 68, 94, 74, 104, 128, 120, 154, 177, 140, 178, 200, 95, 134, 174, 93, 131, 170, 92, 130, 169, 89, 127, 167, 85, 124, 166, 82, 118, 151, 82, 111, 135, 88, 110, 131, 80, 98, 117, 46, 62, 77, 32, 46, 60, 45, 57, 70, 46, 57, 67, 35, 48, 61, 26, 41, 59, 22, 39, 57, 22, 40, 60, 23, 42, 64, 27, 44, 70, 30, 44, 72, 31, 48, 75, 34, 54, 80, 35, 55, 81, 33, 53, 79, 32, 53, 79, 35, 57, 83, 40, 64, 89, 39, 66, 92, 52, 86, 113, 105, 141, 167, 127, 166, 191, 129, 169, 194, 89, 127, 167, 87, 125, 164, 86, 124, 163, 83, 121, 162, 78, 117, 161, 78, 114, 149, 81, 111, 136, 84, 107, 130, 83, 102, 123, 61, 79, 96, 34, 50, 67, 37, 52, 68, 49, 62, 78, 43, 58, 77, 29, 48, 69, 25, 45, 68, 26, 48, 71, 27, 50, 75, 31, 51, 79, 31, 50, 80, 33, 54, 83, 36, 60, 87, 32, 57, 84, 32, 56, 85, 34, 59, 88, 34, 60, 89, 38, 66, 94, 43, 74, 103, 79, 116, 145, 113, 152, 180, 118, 157, 185, 120, 160, 188, 82, 121, 161, 80, 118, 157, 80, 118, 157, 78, 116, 157, 75, 112, 155, 75, 109, 143, 75, 103, 127, 76, 97, 119, 81, 99, 120, 75, 95, 113, 45, 63, 82, 31, 47, 67, 35, 50, 71, 36, 52, 75, 32, 50, 73, 31, 51, 75, 29, 50, 76, 31, 54, 80, 34, 57, 84, 35, 59, 87, 36, 62, 89, 35, 62, 88, 30, 59, 86, 36, 63, 94, 38, 65, 97, 36, 65, 97, 37, 68, 99, 57, 92, 122, 97, 135, 166, 109, 146, 178, 112, 149, 180, 114, 150, 182, 75, 114, 154, 74, 112, 151, 74, 112, 151, 74, 111, 152, 71, 108, 150, 71, 103, 136, 69, 95, 120, 64, 84, 107, 59, 79, 101, 59, 81, 101, 51, 71, 92, 37, 55, 77, 33, 50, 74, 33, 50, 74, 34, 52, 76, 34, 53, 78, 32, 53, 79, 32, 55, 83, 37, 61, 89, 40, 66, 93, 37, 64, 91, 35, 63, 90, 35, 64, 91, 37, 66, 97, 36, 66, 98, 38, 69, 101, 49, 82, 114, 79, 114, 146, 101, 137, 168, 105, 141, 172, 106, 142, 173, 108, 142, 174, 69, 109, 148, 68, 106, 144, 68, 105, 144, 69, 105, 145, 65, 103, 142, 63, 94, 127, 60, 84, 111, 50, 72, 98, 42, 65, 90, 43, 66, 88, 47, 68, 91, 49, 69, 92, 45, 63, 87, 37, 56, 80, 34, 54, 79, 31, 53, 80, 31, 56, 84, 35, 61, 89, 39, 66, 96, 42, 69, 98, 45, 73, 102, 44, 72, 101, 38, 67, 96, 37, 69, 97, 40, 73, 101, 55, 88, 118, 76, 108, 140, 91, 125, 156, 97, 132, 162, 98, 133, 163, 99, 134, 164, 99, 134, 164], \"height\": 32, \"channels\": 3, \"width\": 32, \"type\": \"image\", \"id\": 4803185680}, {\"format\": \"raw\", \"value\": [51, 42, 26, 56, 47, 31, 59, 50, 34, 60, 50, 34, 63, 53, 37, 64, 55, 38, 64, 56, 37, 68, 60, 41, 71, 63, 45, 72, 64, 45, 73, 64, 46, 75, 67, 49, 77, 69, 50, 79, 70, 52, 79, 71, 53, 78, 70, 52, 71, 61, 42, 35, 21, 11, 25, 10, 4, 59, 48, 32, 118, 115, 93, 122, 123, 106, 76, 69, 51, 79, 70, 51, 78, 70, 51, 76, 68, 50, 78, 70, 52, 76, 69, 50, 70, 63, 44, 64, 58, 39, 59, 52, 35, 52, 42, 31, 57, 48, 32, 61, 52, 35, 63, 54, 38, 65, 57, 39, 65, 56, 39, 67, 58, 40, 69, 61, 43, 72, 64, 45, 76, 68, 49, 77, 69, 50, 80, 71, 53, 82, 73, 56, 82, 73, 55, 85, 76, 58, 86, 77, 60, 84, 75, 58, 80, 72, 54, 50, 37, 26, 25, 10, 3, 63, 54, 37, 119, 117, 100, 122, 119, 99, 83, 73, 55, 82, 73, 54, 79, 71, 52, 79, 70, 51, 79, 71, 52, 77, 69, 50, 70, 63, 44, 65, 56, 38, 61, 49, 32, 63, 45, 28, 61, 53, 36, 64, 56, 38, 66, 58, 41, 68, 60, 43, 70, 62, 45, 73, 65, 47, 75, 67, 49, 75, 67, 48, 78, 71, 52, 83, 75, 57, 86, 77, 60, 86, 77, 60, 85, 76, 59, 88, 80, 62, 87, 79, 62, 89, 80, 63, 89, 81, 63, 66, 55, 41, 28, 14, 7, 57, 48, 32, 112, 108, 88, 140, 134, 106, 86, 77, 57, 87, 78, 61, 81, 73, 55, 75, 62, 44, 69, 51, 35, 60, 44, 28, 64, 46, 27, 74, 51, 31, 81, 56, 36, 92, 66, 42, 65, 57, 40, 67, 60, 42, 67, 60, 41, 70, 63, 45, 76, 68, 51, 76, 69, 50, 76, 69, 50, 77, 70, 51, 82, 75, 56, 86, 79, 62, 89, 80, 63, 88, 79, 62, 90, 82, 64, 91, 84, 66, 91, 84, 66, 94, 86, 68, 94, 88, 69, 79, 72, 55, 34, 21, 12, 56, 46, 33, 118, 112, 88, 150, 137, 100, 92, 82, 65, 89, 81, 65, 86, 65, 51, 80, 53, 36, 80, 54, 34, 78, 51, 33, 92, 65, 45, 103, 76, 56, 110, 83, 63, 111, 85, 66, 68, 61, 44, 70, 64, 45, 71, 64, 45, 74, 67, 49, 77, 71, 53, 79, 72, 54, 79, 72, 54, 81, 74, 56, 88, 81, 63, 91, 84, 68, 90, 83, 66, 92, 85, 67, 96, 88, 70, 97, 90, 72, 98, 90, 73, 98, 91, 73, 97, 91, 73, 89, 82, 64, 44, 33, 19, 57, 47, 34, 122, 115, 89, 145, 137, 105, 93, 89, 70, 86, 79, 62, 93, 71, 56, 111, 82, 65, 112, 87, 73, 116, 88, 72, 116, 93, 73, 112, 91, 73, 105, 84, 65, 99, 78, 59, 71, 65, 48, 72, 67, 48, 74, 69, 50, 77, 72, 53, 81, 75, 57, 84, 77, 59, 85, 78, 60, 84, 77, 59, 90, 83, 67, 91, 83, 68, 93, 86, 69, 95, 88, 70, 98, 91, 73, 99, 92, 74, 101, 94, 76, 100, 92, 74, 97, 90, 72, 98, 90, 71, 58, 48, 32, 37, 26, 15, 106, 100, 80, 122, 123, 103, 83, 84, 71, 105, 93, 62, 111, 96, 69, 93, 85, 70, 100, 82, 55, 98, 81, 64, 94, 79, 64, 94, 79, 63, 89, 73, 56, 81, 65, 47, 73, 67, 51, 76, 71, 54, 79, 73, 56, 80, 74, 57, 83, 76, 60, 86, 79, 62, 86, 79, 61, 90, 83, 66, 92, 86, 70, 98, 90, 74, 99, 92, 74, 99, 92, 74, 102, 94, 76, 103, 96, 77, 101, 95, 76, 102, 94, 75, 103, 96, 77, 102, 95, 76, 65, 54, 38, 19, 8, 2, 62, 57, 42, 111, 105, 71, 98, 95, 72, 92, 82, 45, 110, 99, 62, 91, 90, 72, 108, 96, 60, 107, 100, 76, 96, 88, 70, 88, 78, 61, 75, 65, 51, 75, 67, 50, 77, 71, 55, 78, 72, 56, 82, 75, 59, 85, 78, 62, 87, 80, 65, 89, 82, 65, 90, 83, 65, 96, 89, 72, 98, 91, 73, 104, 97, 78, 106, 99, 80, 104, 97, 78, 107, 100, 81, 106, 99, 80, 105, 98, 79, 107, 100, 81, 109, 102, 83, 108, 101, 82, 74, 63, 48, 18, 6, 2, 41, 34, 25, 123, 116, 87, 142, 137, 106, 107, 101, 77, 73, 63, 45, 62, 56, 45, 84, 76, 59, 112, 100, 72, 117, 111, 88, 87, 76, 55, 72, 64, 51, 69, 68, 58, 79, 73, 57, 81, 75, 59, 84, 77, 61, 88, 81, 65, 88, 81, 66, 93, 86, 69, 81, 74, 59, 77, 70, 58, 94, 87, 70, 94, 87, 69, 101, 94, 76, 101, 94, 75, 104, 97, 78, 108, 100, 81, 109, 101, 82, 113, 106, 87, 110, 103, 84, 110, 103, 84, 90, 80, 63, 27, 15, 8, 29, 20, 12, 101, 94, 65, 147, 144, 115, 134, 129, 102, 102, 96, 79, 70, 66, 55, 70, 59, 49, 97, 81, 61, 114, 103, 65, 105, 95, 62, 102, 102, 84, 114, 113, 90, 83, 77, 61, 87, 81, 65, 89, 82, 66, 90, 83, 67, 91, 84, 67, 98, 91, 73, 76, 70, 56, 28, 24, 20, 40, 34, 25, 50, 42, 28, 75, 66, 49, 97, 89, 69, 107, 99, 79, 115, 107, 88, 112, 104, 85, 114, 107, 86, 115, 108, 87, 116, 110, 89, 103, 94, 76, 37, 25, 15, 23, 15, 11, 88, 84, 64, 111, 106, 86, 96, 91, 74, 103, 92, 58, 99, 94, 65, 108, 105, 86, 111, 104, 83, 123, 113, 76, 132, 128, 100, 132, 127, 97, 135, 115, 61, 86, 80, 64, 90, 84, 68, 92, 85, 69, 90, 84, 67, 91, 84, 68, 96, 89, 71, 93, 88, 69, 35, 31, 23, 27, 19, 8, 52, 41, 23, 67, 56, 36, 79, 67, 47, 84, 74, 56, 101, 93, 74, 114, 107, 88, 117, 111, 90, 118, 112, 90, 113, 108, 86, 110, 104, 83, 60, 48, 35, 38, 30, 20, 104, 104, 85, 92, 87, 68, 37, 26, 19, 35, 18, 6, 50, 40, 29, 86, 73, 44, 73, 65, 39, 103, 101, 85, 94, 85, 74, 66, 50, 36, 75, 52, 26, 87, 81, 65, 88, 81, 65, 90, 84, 67, 90, 83, 67, 93, 86, 71, 102, 95, 78, 87, 82, 65, 30, 23, 15, 50, 39, 21, 85, 71, 45, 93, 79, 55, 86, 74, 54, 80, 69, 51, 81, 71, 53, 105, 96, 75, 121, 114, 91, 121, 115, 93, 121, 115, 93, 115, 109, 87, 56, 45, 33, 63, 53, 34, 115, 107, 83, 161, 161, 148, 131, 127, 119, 61, 51, 39, 56, 48, 35, 63, 51, 36, 68, 60, 47, 79, 69, 56, 90, 69, 54, 93, 69, 54, 114, 86, 69, 88, 82, 66, 91, 84, 69, 93, 86, 71, 97, 90, 74, 98, 91, 76, 104, 97, 81, 75, 69, 55, 23, 15, 9, 56, 44, 26, 91, 76, 50, 102, 87, 60, 94, 79, 57, 88, 75, 56, 86, 74, 55, 110, 96, 71, 125, 113, 85, 127, 120, 98, 126, 121, 100, 116, 109, 88, 52, 41, 28, 52, 42, 30, 128, 121, 90, 214, 214, 201, 205, 206, 196, 124, 118, 98, 117, 112, 90, 118, 112, 92, 117, 111, 91, 111, 106, 86, 115, 105, 86, 118, 105, 86, 119, 105, 86, 90, 84, 68, 94, 87, 72, 98, 90, 76, 102, 95, 78, 102, 95, 80, 109, 103, 87, 74, 68, 55, 21, 15, 8, 52, 43, 27, 88, 75, 53, 81, 69, 48, 68, 59, 43, 72, 62, 45, 78, 65, 45, 110, 95, 68, 134, 118, 88, 131, 121, 99, 128, 124, 103, 125, 119, 98, 85, 75, 57, 66, 57, 39, 85, 80, 59, 175, 173, 162, 180, 179, 168, 122, 117, 97, 126, 120, 99, 125, 120, 98, 121, 115, 93, 122, 116, 94, 121, 114, 95, 118, 111, 93, 115, 109, 89, 94, 88, 72, 97, 91, 75, 103, 96, 80, 106, 100, 82, 107, 101, 84, 114, 108, 92, 81, 76, 61, 25, 20, 11, 38, 33, 21, 72, 61, 45, 73, 64, 47, 65, 59, 44, 77, 66, 46, 82, 70, 48, 91, 79, 56, 124, 109, 84, 149, 142, 123, 138, 136, 120, 115, 109, 87, 109, 95, 68, 76, 69, 47, 66, 61, 44, 121, 110, 86, 140, 133, 115, 126, 118, 96, 125, 119, 97, 126, 121, 98, 127, 122, 100, 125, 120, 98, 124, 119, 98, 122, 116, 97, 123, 117, 97, 101, 95, 79, 104, 98, 82, 104, 98, 83, 108, 102, 87, 113, 108, 91, 120, 116, 96, 93, 87, 68, 33, 27, 16, 35, 31, 21, 63, 55, 41, 78, 69, 51, 95, 83, 61, 89, 76, 52, 82, 72, 53, 81, 72, 54, 98, 86, 65, 140, 135, 118, 140, 135, 117, 138, 122, 86, 150, 127, 84, 94, 84, 54, 89, 85, 70, 106, 99, 72, 123, 117, 95, 124, 117, 96, 126, 120, 98, 136, 129, 107, 133, 127, 105, 130, 124, 103, 130, 126, 105, 130, 126, 106, 128, 123, 103, 101, 95, 79, 110, 104, 89, 108, 102, 88, 110, 104, 90, 115, 110, 93, 120, 116, 96, 106, 100, 81, 45, 38, 26, 40, 34, 20, 63, 54, 37, 76, 66, 47, 87, 74, 53, 108, 93, 67, 85, 75, 58, 74, 65, 50, 95, 82, 62, 107, 96, 73, 119, 106, 78, 171, 146, 99, 162, 133, 87, 103, 82, 55, 132, 128, 107, 141, 140, 123, 133, 126, 111, 125, 112, 88, 118, 105, 77, 120, 111, 91, 126, 119, 98, 128, 122, 100, 131, 126, 105, 133, 129, 108, 128, 124, 104, 108, 102, 85, 110, 104, 88, 109, 103, 88, 111, 105, 89, 117, 111, 95, 120, 115, 97, 116, 111, 93, 66, 57, 41, 43, 34, 20, 54, 44, 30, 71, 60, 44, 84, 71, 52, 98, 84, 59, 83, 72, 53, 83, 72, 53, 111, 95, 65, 108, 93, 63, 112, 101, 75, 143, 122, 85, 118, 92, 64, 96, 74, 51, 131, 120, 104, 152, 144, 124, 156, 150, 135, 124, 110, 87, 112, 90, 63, 102, 89, 71, 128, 117, 100, 140, 134, 114, 135, 128, 106, 133, 128, 108, 128, 124, 104, 106, 100, 84, 108, 102, 86, 110, 104, 88, 116, 110, 93, 124, 119, 102, 123, 119, 103, 123, 119, 102, 94, 88, 72, 38, 33, 22, 35, 29, 21, 72, 61, 42, 103, 88, 62, 90, 77, 54, 76, 67, 48, 95, 84, 62, 128, 109, 73, 109, 91, 59, 94, 86, 64, 106, 89, 71, 105, 85, 68, 155, 146, 129, 188, 178, 167, 197, 192, 177, 172, 161, 144, 136, 122, 101, 125, 107, 83, 109, 90, 78, 138, 121, 107, 157, 151, 134, 135, 130, 108, 137, 132, 111, 135, 131, 111, 108, 102, 86, 109, 104, 88, 114, 109, 92, 122, 116, 98, 124, 120, 103, 121, 117, 100, 123, 119, 102, 120, 116, 99, 57, 53, 41, 42, 33, 21, 80, 65, 41, 100, 84, 56, 91, 77, 54, 84, 73, 50, 110, 96, 67, 142, 119, 81, 112, 92, 60, 96, 86, 63, 98, 73, 53, 97, 77, 61, 194, 194, 185, 220, 217, 211, 206, 201, 197, 164, 151, 133, 136, 112, 80, 126, 97, 62, 95, 70, 52, 142, 119, 100, 165, 156, 139, 141, 137, 114, 140, 135, 115, 138, 133, 113, 113, 107, 92, 113, 107, 91, 119, 114, 96, 122, 117, 100, 124, 120, 104, 124, 120, 103, 123, 118, 102, 126, 122, 104, 93, 89, 74, 52, 42, 26, 84, 66, 38, 87, 71, 48, 90, 77, 54, 111, 95, 66, 126, 107, 73, 144, 120, 77, 114, 95, 61, 101, 87, 63, 104, 82, 58, 112, 96, 77, 129, 126, 118, 179, 174, 166, 192, 184, 171, 145, 132, 108, 126, 101, 71, 118, 85, 48, 119, 92, 61, 150, 131, 109, 151, 145, 129, 142, 138, 118, 143, 138, 118, 141, 136, 116, 114, 110, 94, 116, 111, 94, 119, 113, 96, 119, 115, 99, 127, 123, 107, 128, 124, 107, 124, 120, 103, 129, 125, 108, 126, 122, 105, 81, 73, 55, 76, 59, 32, 76, 61, 37, 88, 73, 46, 104, 85, 53, 120, 98, 61, 134, 111, 70, 98, 83, 57, 97, 85, 65, 104, 95, 77, 126, 120, 101, 119, 113, 100, 139, 131, 113, 174, 166, 147, 149, 134, 110, 155, 133, 103, 126, 113, 91, 129, 117, 98, 143, 135, 115, 138, 134, 110, 145, 139, 119, 147, 142, 122, 140, 136, 116, 123, 120, 104, 124, 121, 104, 124, 119, 103, 125, 120, 104, 128, 123, 106, 129, 126, 108, 138, 134, 117, 140, 136, 119, 137, 133, 114, 130, 124, 105, 91, 80, 57, 75, 58, 33, 96, 75, 45, 106, 84, 50, 124, 99, 60, 113, 91, 58, 81, 71, 51, 90, 83, 67, 98, 91, 75, 129, 122, 103, 133, 125, 107, 125, 107, 79, 110, 98, 81, 95, 86, 69, 144, 131, 105, 151, 144, 118, 151, 147, 126, 156, 151, 131, 144, 140, 119, 148, 143, 123, 150, 145, 125, 145, 141, 121, 123, 119, 102, 123, 119, 102, 126, 121, 104, 123, 119, 102, 127, 124, 106, 134, 131, 113, 137, 133, 116, 141, 136, 120, 144, 139, 120, 150, 145, 126, 135, 129, 109, 104, 94, 71, 98, 82, 55, 103, 79, 46, 109, 84, 49, 93, 75, 50, 75, 66, 48, 82, 76, 61, 99, 91, 74, 131, 124, 103, 114, 105, 85, 106, 89, 63, 73, 64, 53, 66, 61, 48, 105, 97, 77, 155, 147, 122, 166, 160, 138, 159, 153, 133, 152, 147, 127, 153, 148, 128, 150, 145, 125, 146, 141, 122, 125, 122, 105, 126, 122, 104, 129, 125, 107, 128, 125, 108, 134, 131, 112, 136, 132, 113, 136, 133, 113, 138, 134, 115, 146, 141, 122, 150, 145, 126, 151, 147, 127, 145, 142, 121, 128, 122, 100, 108, 97, 73, 92, 78, 53, 74, 61, 38, 58, 50, 36, 62, 56, 44, 85, 79, 63, 125, 119, 99, 96, 88, 70, 74, 65, 49, 50, 46, 40, 57, 51, 40, 82, 72, 51, 116, 105, 83, 144, 136, 118, 149, 143, 124, 155, 150, 128, 158, 153, 133, 156, 151, 131, 150, 146, 126, 129, 124, 108, 127, 123, 106, 132, 129, 112, 138, 134, 116, 141, 136, 117, 144, 139, 119, 144, 140, 120, 147, 142, 122, 150, 145, 127, 154, 149, 130, 156, 151, 132, 158, 154, 134, 161, 157, 137, 154, 149, 128, 140, 132, 109, 126, 117, 95, 94, 88, 68, 54, 48, 35, 68, 64, 52, 114, 110, 90, 84, 76, 59, 55, 48, 38, 49, 42, 32, 73, 63, 45, 92, 77, 53, 91, 72, 44, 80, 65, 44, 110, 100, 82, 161, 156, 135, 162, 157, 137, 159, 154, 134, 156, 152, 131, 128, 124, 107, 127, 123, 106, 132, 128, 111, 138, 134, 116, 143, 139, 120, 145, 142, 121, 145, 142, 123, 154, 150, 131, 152, 146, 128, 155, 150, 132, 158, 153, 134, 161, 157, 137, 165, 161, 142, 169, 164, 144, 168, 162, 142, 170, 164, 144, 163, 158, 136, 119, 113, 93, 83, 78, 63, 92, 83, 63, 88, 77, 56, 73, 65, 52, 67, 54, 38, 104, 86, 57, 112, 92, 60, 122, 97, 57, 96, 78, 46, 112, 99, 75, 163, 157, 137, 164, 160, 141, 158, 154, 135, 151, 147, 128, 126, 123, 106, 129, 126, 109, 136, 132, 113, 138, 138, 115, 142, 139, 121, 145, 143, 123, 140, 138, 118, 146, 142, 123, 152, 147, 128, 160, 155, 136, 164, 159, 140, 160, 155, 136, 166, 161, 142, 168, 163, 144, 165, 160, 141, 165, 160, 141, 167, 161, 143, 165, 161, 141, 114, 106, 87, 78, 61, 37, 89, 71, 47, 84, 76, 59, 59, 45, 28, 109, 91, 57, 122, 106, 71, 145, 127, 94, 160, 150, 125, 166, 161, 136, 160, 157, 134, 162, 158, 138, 149, 144, 124, 150, 145, 125, 126, 123, 106, 130, 127, 110, 137, 132, 117, 131, 132, 115, 140, 138, 120, 150, 146, 128, 150, 148, 128, 153, 149, 129, 160, 155, 136, 158, 153, 134, 161, 156, 137, 160, 155, 136, 164, 159, 140, 166, 161, 142, 169, 164, 145, 170, 165, 146, 172, 167, 148, 142, 137, 123, 81, 69, 53, 79, 61, 34, 95, 76, 47, 95, 85, 60, 98, 90, 68, 145, 138, 113, 161, 156, 132, 165, 160, 138, 164, 161, 139, 171, 166, 143, 170, 164, 144, 156, 150, 131, 151, 145, 126, 158, 153, 132, 127, 125, 107, 126, 119, 106, 145, 125, 138, 120, 144, 144, 147, 156, 143, 161, 160, 143, 154, 151, 132, 155, 151, 132, 158, 152, 134, 158, 153, 135, 160, 155, 136, 161, 155, 136, 165, 160, 141, 170, 165, 146, 171, 166, 147, 170, 166, 147, 172, 166, 147, 128, 119, 102, 71, 58, 40, 109, 96, 71, 140, 129, 103, 155, 148, 126, 168, 163, 142, 171, 165, 145, 164, 159, 138, 169, 165, 143, 169, 164, 144, 168, 163, 142, 165, 160, 139, 156, 152, 133, 158, 154, 134, 160, 157, 136, 132, 130, 112, 128, 121, 108, 140, 128, 141, 151, 169, 170, 159, 169, 161, 163, 164, 152, 158, 158, 143, 159, 158, 138, 158, 153, 133, 160, 154, 136, 158, 152, 133, 163, 156, 138, 170, 164, 146, 171, 166, 147, 168, 163, 144, 170, 166, 146, 171, 165, 145, 155, 147, 125, 137, 129, 106, 155, 150, 130, 173, 168, 147, 176, 170, 150, 171, 165, 146, 171, 165, 145, 169, 164, 142, 171, 166, 144, 168, 163, 144, 164, 159, 140, 162, 158, 136, 159, 154, 133, 163, 158, 137, 161, 156, 136, 131, 129, 111, 129, 121, 111, 145, 141, 102, 176, 187, 101, 156, 165, 116, 157, 160, 147, 181, 190, 179, 178, 181, 163, 161, 156, 136, 163, 157, 137, 159, 153, 133, 164, 159, 139, 173, 168, 148, 172, 167, 147, 165, 160, 140, 171, 165, 146, 174, 169, 149, 173, 168, 148, 172, 169, 151, 163, 161, 143, 170, 165, 146, 175, 169, 150, 168, 162, 143, 170, 165, 145, 175, 170, 150, 172, 167, 147, 169, 164, 144, 165, 160, 139, 166, 161, 139, 164, 159, 138, 164, 160, 138, 164, 160, 140], \"height\": 32, \"channels\": 3, \"width\": 32, \"type\": \"image\", \"id\": 4803185936}], \"selected_variable\": {\"name\": [\"<SArray>\"], \"dtype\": \"Image\", \"view_component\": \"Images\", \"view_file\": \"sarray\", \"descriptives\": {\"rows\": 5}, \"type\": \"SArray\", \"view_components\": [\"Images\"]}}, e);\n",
       "                });\n",
       "            })();\n",
       "        "
      ]
     },
     "metadata": {},
     "output_type": "display_data"
    }
   ],
   "source": [
    "get_result(0)"
   ]
  },
  {
   "cell_type": "code",
   "execution_count": 70,
   "metadata": {
    "collapsed": false
   },
   "outputs": [
    {
     "data": {
      "text/html": [
       "<pre>Starting pairwise querying.</pre>"
      ],
      "text/plain": [
       "Starting pairwise querying."
      ]
     },
     "metadata": {},
     "output_type": "display_data"
    },
    {
     "data": {
      "text/html": [
       "<pre>+--------------+---------+-------------+--------------+</pre>"
      ],
      "text/plain": [
       "+--------------+---------+-------------+--------------+"
      ]
     },
     "metadata": {},
     "output_type": "display_data"
    },
    {
     "data": {
      "text/html": [
       "<pre>| Query points | # Pairs | % Complete. | Elapsed Time |</pre>"
      ],
      "text/plain": [
       "| Query points | # Pairs | % Complete. | Elapsed Time |"
      ]
     },
     "metadata": {},
     "output_type": "display_data"
    },
    {
     "data": {
      "text/html": [
       "<pre>+--------------+---------+-------------+--------------+</pre>"
      ],
      "text/plain": [
       "+--------------+---------+-------------+--------------+"
      ]
     },
     "metadata": {},
     "output_type": "display_data"
    },
    {
     "data": {
      "text/html": [
       "<pre>| 0            | 1       | 0.0498753   | 14.929ms     |</pre>"
      ],
      "text/plain": [
       "| 0            | 1       | 0.0498753   | 14.929ms     |"
      ]
     },
     "metadata": {},
     "output_type": "display_data"
    },
    {
     "data": {
      "text/html": [
       "<pre>| Done         |         | 100         | 245.787ms    |</pre>"
      ],
      "text/plain": [
       "| Done         |         | 100         | 245.787ms    |"
      ]
     },
     "metadata": {},
     "output_type": "display_data"
    },
    {
     "data": {
      "text/html": [
       "<pre>+--------------+---------+-------------+--------------+</pre>"
      ],
      "text/plain": [
       "+--------------+---------+-------------+--------------+"
      ]
     },
     "metadata": {},
     "output_type": "display_data"
    },
    {
     "data": {
      "application/javascript": [
       "$(\"head\").append($(\"<link/>\").attr({\n",
       "  rel:  \"stylesheet\",\n",
       "  type: \"text/css\",\n",
       "  href: \"//cdnjs.cloudflare.com/ajax/libs/font-awesome/4.1.0/css/font-awesome.min.css\"\n",
       "}));\n",
       "$(\"head\").append($(\"<link/>\").attr({\n",
       "  rel:  \"stylesheet\",\n",
       "  type: \"text/css\",\n",
       "  href: \"https://static.turi.com/products/graphlab-create/2.1/canvas/css/canvas.css\"\n",
       "}));\n",
       "\n",
       "            (function(){\n",
       "\n",
       "                var e = null;\n",
       "                if (typeof element == 'undefined') {\n",
       "                    var scripts = document.getElementsByTagName('script');\n",
       "                    var thisScriptTag = scripts[scripts.length-1];\n",
       "                    var parentDiv = thisScriptTag.parentNode;\n",
       "                    e = document.createElement('div');\n",
       "                    parentDiv.appendChild(e);\n",
       "                } else {\n",
       "                    e = element[0];\n",
       "                }\n",
       "\n",
       "                if (typeof requirejs !== 'undefined') {\n",
       "                    // disable load timeout; ipython_app.js is large and can take a while to load.\n",
       "                    requirejs.config({waitSeconds: 0});\n",
       "                }\n",
       "\n",
       "                require(['https://static.turi.com/products/graphlab-create/2.1/canvas/js/ipython_app.js'], function(IPythonApp){\n",
       "                    var app = new IPythonApp();\n",
       "                    app.attachView('sarray','Images', {\"ipython\": true, \"rows\": [{\"format\": \"raw\", \"value\": [240, 238, 255, 233, 239, 255, 238, 241, 255, 242, 242, 255, 241, 246, 255, 236, 248, 255, 230, 244, 248, 247, 254, 255, 246, 255, 255, 247, 255, 255, 252, 255, 255, 255, 255, 255, 255, 255, 255, 255, 255, 255, 202, 201, 202, 175, 170, 173, 140, 138, 139, 120, 120, 120, 159, 159, 159, 248, 248, 248, 183, 183, 183, 177, 177, 177, 127, 126, 127, 121, 120, 125, 128, 127, 132, 129, 128, 133, 138, 138, 137, 130, 130, 125, 141, 141, 136, 142, 144, 142, 231, 235, 237, 255, 255, 255, 235, 234, 250, 226, 234, 251, 228, 235, 251, 232, 236, 251, 228, 240, 251, 230, 242, 251, 213, 205, 213, 213, 191, 199, 214, 196, 198, 214, 196, 198, 215, 188, 194, 212, 184, 190, 218, 205, 208, 210, 209, 212, 166, 165, 168, 136, 135, 137, 123, 123, 123, 112, 112, 112, 158, 158, 158, 200, 200, 200, 150, 150, 150, 123, 123, 123, 126, 125, 126, 134, 133, 138, 121, 120, 125, 129, 128, 133, 127, 130, 130, 126, 130, 128, 155, 159, 157, 149, 153, 153, 192, 196, 199, 185, 189, 192, 229, 231, 246, 229, 231, 239, 232, 232, 238, 234, 236, 243, 220, 229, 233, 230, 235, 240, 153, 122, 135, 111, 58, 73, 137, 83, 93, 150, 97, 106, 140, 71, 86, 127, 61, 75, 160, 130, 134, 181, 178, 174, 201, 202, 197, 203, 208, 202, 175, 177, 175, 197, 197, 197, 196, 196, 196, 170, 170, 170, 207, 207, 207, 186, 186, 186, 194, 194, 195, 189, 188, 193, 160, 159, 164, 171, 170, 175, 166, 171, 174, 177, 185, 187, 172, 180, 182, 180, 187, 189, 191, 195, 198, 164, 168, 171, 141, 146, 166, 166, 155, 157, 187, 172, 167, 199, 190, 186, 198, 195, 189, 200, 197, 191, 147, 119, 125, 130, 82, 92, 142, 89, 98, 149, 97, 106, 158, 91, 105, 147, 88, 97, 162, 138, 129, 201, 197, 177, 193, 196, 174, 206, 213, 192, 216, 218, 213, 203, 202, 203, 215, 214, 214, 199, 199, 199, 157, 157, 157, 164, 164, 164, 169, 169, 170, 152, 151, 156, 121, 120, 125, 102, 101, 106, 103, 109, 112, 179, 189, 191, 189, 199, 201, 177, 185, 188, 186, 189, 193, 123, 126, 129, 63, 71, 105, 90, 72, 84, 114, 86, 82, 157, 134, 123, 175, 158, 145, 183, 164, 153, 140, 101, 99, 122, 78, 80, 133, 87, 97, 145, 97, 105, 130, 83, 91, 117, 79, 77, 148, 128, 104, 165, 160, 124, 160, 158, 120, 181, 179, 145, 181, 178, 172, 158, 154, 156, 185, 182, 183, 169, 167, 168, 119, 119, 119, 136, 136, 136, 144, 144, 145, 128, 127, 132, 88, 87, 93, 69, 68, 74, 76, 83, 86, 160, 171, 173, 172, 182, 184, 162, 169, 172, 174, 174, 180, 112, 111, 117, 58, 67, 96, 116, 103, 114, 134, 110, 112, 151, 128, 129, 154, 136, 136, 160, 144, 142, 149, 124, 121, 142, 116, 113, 150, 125, 117, 138, 115, 92, 152, 131, 117, 122, 103, 102, 103, 91, 81, 159, 155, 134, 162, 157, 136, 165, 160, 141, 164, 160, 156, 159, 155, 157, 165, 161, 162, 157, 155, 156, 146, 146, 146, 148, 148, 148, 152, 152, 152, 140, 139, 143, 132, 131, 135, 126, 125, 129, 125, 129, 132, 142, 150, 151, 142, 150, 152, 143, 147, 150, 145, 144, 148, 134, 134, 138, 117, 100, 126, 117, 89, 105, 102, 76, 87, 123, 107, 118, 130, 119, 128, 126, 120, 125, 130, 124, 124, 136, 131, 125, 158, 157, 122, 146, 153, 91, 145, 149, 112, 119, 116, 116, 92, 88, 95, 144, 140, 140, 134, 130, 129, 134, 131, 130, 136, 132, 133, 137, 133, 134, 135, 131, 132, 135, 133, 133, 134, 134, 134, 134, 134, 134, 132, 132, 131, 132, 132, 131, 132, 132, 131, 128, 128, 127, 128, 130, 128, 124, 127, 125, 121, 125, 123, 123, 125, 123, 123, 124, 123, 122, 122, 121, 153, 136, 151, 122, 101, 114, 138, 121, 131, 148, 139, 147, 129, 126, 132, 128, 128, 132, 130, 130, 135, 131, 132, 126, 143, 152, 98, 139, 159, 78, 127, 143, 96, 157, 160, 157, 175, 173, 182, 178, 178, 183, 140, 140, 145, 137, 136, 141, 140, 137, 139, 141, 137, 138, 139, 135, 136, 137, 135, 136, 137, 137, 137, 137, 137, 137, 135, 135, 134, 134, 135, 130, 131, 132, 126, 128, 128, 123, 131, 131, 126, 132, 132, 127, 133, 133, 128, 131, 131, 126, 128, 129, 123, 126, 127, 121, 176, 179, 186, 143, 146, 154, 172, 170, 180, 153, 149, 153, 124, 125, 121, 125, 128, 127, 122, 120, 129, 128, 126, 124, 144, 156, 92, 136, 156, 69, 113, 120, 75, 151, 145, 144, 189, 184, 195, 172, 172, 178, 142, 142, 147, 139, 139, 144, 152, 151, 154, 157, 155, 157, 161, 159, 162, 160, 160, 162, 161, 161, 164, 160, 160, 163, 152, 153, 155, 146, 149, 148, 138, 141, 139, 134, 137, 135, 132, 133, 129, 129, 129, 125, 126, 126, 121, 122, 122, 119, 119, 119, 117, 120, 120, 115, 162, 164, 177, 152, 154, 167, 152, 152, 169, 118, 118, 121, 119, 121, 105, 127, 130, 116, 107, 106, 102, 129, 123, 115, 147, 162, 98, 140, 154, 74, 108, 100, 58, 138, 124, 123, 188, 183, 196, 154, 154, 162, 149, 150, 157, 168, 169, 177, 179, 180, 187, 178, 181, 187, 179, 181, 188, 178, 180, 187, 180, 183, 190, 166, 168, 175, 137, 140, 147, 119, 125, 131, 105, 111, 117, 109, 116, 122, 125, 130, 130, 129, 133, 129, 123, 126, 123, 122, 124, 121, 121, 120, 117, 108, 107, 103, 140, 142, 153, 130, 132, 143, 139, 140, 149, 142, 142, 138, 117, 121, 96, 91, 97, 61, 90, 94, 56, 95, 93, 62, 128, 140, 91, 132, 146, 92, 102, 100, 63, 120, 113, 104, 164, 166, 173, 142, 150, 156, 147, 155, 160, 167, 174, 180, 170, 176, 184, 159, 164, 173, 145, 150, 159, 148, 153, 161, 130, 135, 142, 86, 91, 98, 86, 92, 98, 74, 81, 87, 58, 65, 71, 60, 67, 73, 74, 81, 83, 109, 115, 115, 129, 136, 136, 121, 127, 120, 115, 119, 100, 85, 89, 73, 144, 148, 153, 132, 136, 142, 141, 142, 147, 180, 180, 177, 149, 153, 127, 104, 112, 62, 106, 113, 56, 108, 109, 62, 116, 125, 97, 86, 99, 83, 93, 96, 78, 126, 127, 117, 145, 156, 161, 135, 151, 154, 141, 158, 160, 176, 192, 195, 189, 199, 208, 175, 184, 195, 162, 170, 182, 136, 145, 154, 92, 102, 107, 74, 83, 88, 81, 90, 95, 73, 81, 86, 75, 82, 88, 89, 96, 102, 72, 81, 84, 80, 90, 93, 109, 119, 122, 104, 115, 107, 88, 99, 69, 77, 88, 58, 179, 183, 185, 196, 200, 202, 195, 196, 202, 210, 209, 215, 146, 149, 131, 107, 116, 66, 109, 116, 63, 114, 115, 65, 91, 98, 85, 63, 74, 96, 110, 115, 122, 150, 155, 156, 119, 135, 146, 115, 138, 139, 131, 154, 154, 168, 190, 191, 178, 192, 203, 162, 174, 188, 139, 150, 165, 111, 123, 132, 64, 78, 81, 66, 79, 82, 68, 80, 84, 69, 77, 83, 69, 76, 82, 83, 90, 96, 86, 96, 102, 65, 77, 83, 82, 95, 100, 99, 112, 108, 96, 110, 82, 84, 101, 57, 199, 206, 209, 196, 202, 205, 192, 195, 206, 174, 174, 184, 140, 146, 122, 102, 113, 58, 97, 110, 52, 95, 104, 52, 72, 81, 68, 98, 109, 129, 150, 159, 172, 119, 129, 136, 106, 123, 132, 117, 141, 141, 151, 174, 174, 163, 186, 187, 156, 171, 178, 135, 148, 158, 120, 133, 142, 84, 99, 101, 51, 68, 64, 63, 79, 80, 66, 80, 84, 70, 79, 82, 68, 74, 79, 82, 85, 93, 85, 91, 102, 68, 78, 90, 68, 83, 94, 89, 101, 105, 109, 116, 96, 91, 103, 60, 203, 211, 216, 169, 177, 182, 160, 165, 174, 151, 155, 157, 110, 118, 93, 93, 105, 61, 100, 115, 68, 117, 131, 95, 119, 128, 123, 154, 164, 174, 142, 154, 162, 118, 130, 138, 134, 146, 153, 161, 175, 179, 172, 186, 189, 163, 177, 180, 146, 159, 162, 132, 145, 149, 110, 123, 126, 66, 75, 76, 54, 58, 59, 46, 49, 57, 50, 54, 65, 59, 71, 75, 57, 65, 71, 75, 78, 87, 84, 80, 93, 94, 88, 100, 105, 101, 108, 115, 107, 109, 114, 107, 87, 99, 105, 58, 174, 179, 185, 156, 160, 167, 153, 157, 161, 138, 142, 140, 104, 109, 101, 129, 136, 123, 156, 165, 156, 172, 180, 181, 170, 176, 194, 165, 172, 187, 160, 169, 178, 161, 170, 180, 178, 185, 194, 186, 188, 195, 167, 169, 177, 158, 160, 167, 169, 177, 182, 139, 148, 153, 87, 97, 101, 45, 49, 57, 31, 29, 40, 25, 22, 36, 39, 38, 52, 62, 69, 77, 74, 78, 84, 86, 85, 89, 106, 86, 92, 125, 93, 96, 118, 84, 77, 102, 65, 54, 82, 60, 34, 92, 98, 40, 149, 148, 156, 156, 156, 164, 148, 150, 156, 145, 148, 153, 158, 161, 169, 166, 170, 179, 163, 168, 181, 157, 161, 183, 157, 162, 183, 166, 171, 184, 175, 180, 191, 178, 182, 193, 175, 177, 187, 173, 173, 181, 172, 172, 180, 170, 170, 178, 156, 160, 167, 113, 118, 125, 73, 78, 85, 32, 36, 44, 30, 33, 41, 62, 66, 70, 71, 70, 74, 95, 78, 85, 102, 80, 81, 96, 69, 63, 101, 61, 52, 96, 51, 39, 83, 41, 26, 81, 39, 25, 82, 54, 27, 96, 99, 40, 113, 109, 119, 154, 149, 160, 147, 145, 158, 146, 147, 163, 143, 144, 159, 135, 137, 150, 128, 135, 147, 132, 137, 157, 134, 141, 149, 141, 144, 151, 147, 147, 160, 152, 153, 165, 159, 162, 173, 156, 162, 169, 143, 150, 157, 116, 123, 128, 91, 93, 100, 75, 75, 81, 77, 75, 82, 75, 59, 68, 87, 59, 66, 97, 71, 70, 94, 64, 61, 100, 50, 54, 97, 41, 37, 93, 34, 20, 91, 35, 13, 81, 38, 17, 69, 43, 28, 69, 45, 36, 75, 50, 29, 90, 87, 37, 116, 110, 120, 147, 138, 156, 140, 136, 151, 133, 132, 138, 125, 120, 130, 104, 100, 111, 97, 104, 112, 112, 120, 130, 121, 129, 135, 127, 125, 136, 136, 131, 146, 136, 139, 153, 123, 132, 145, 103, 108, 121, 81, 84, 95, 76, 77, 78, 96, 82, 90, 103, 74, 73, 105, 64, 60, 106, 49, 45, 106, 41, 31, 95, 35, 20, 91, 32, 16, 93, 29, 16, 96, 32, 19, 96, 34, 20, 95, 36, 23, 77, 41, 29, 70, 63, 54, 69, 62, 57, 68, 50, 33, 98, 86, 51, 164, 162, 163, 137, 138, 149, 89, 97, 107, 104, 110, 112, 110, 114, 124, 114, 116, 129, 117, 115, 129, 115, 113, 127, 118, 116, 130, 125, 124, 140, 113, 117, 133, 93, 104, 118, 90, 100, 111, 113, 91, 94, 144, 85, 86, 139, 83, 91, 92, 64, 75, 82, 48, 41, 93, 37, 26, 96, 27, 14, 99, 29, 9, 98, 34, 12, 100, 40, 17, 100, 39, 20, 96, 39, 24, 89, 37, 25, 88, 35, 28, 68, 39, 31, 79, 77, 71, 96, 93, 88, 89, 75, 60, 146, 133, 107, 205, 174, 172, 149, 126, 126, 68, 59, 63, 60, 59, 63, 65, 68, 76, 73, 79, 89, 105, 109, 116, 129, 133, 140, 129, 133, 140, 122, 126, 136, 101, 111, 126, 118, 126, 138, 131, 114, 117, 154, 86, 73, 157, 72, 49, 90, 46, 39, 68, 49, 54, 47, 26, 22, 74, 29, 18, 100, 37, 22, 104, 42, 25, 103, 47, 28, 94, 42, 22, 89, 36, 19, 83, 33, 20, 79, 33, 22, 74, 30, 20, 50, 27, 17, 55, 53, 48, 101, 98, 93, 98, 87, 74, 132, 122, 102, 188, 124, 119, 196, 130, 125, 152, 100, 96, 117, 79, 71, 98, 70, 65, 99, 82, 78, 176, 172, 166, 201, 198, 192, 199, 196, 190, 204, 197, 196, 195, 192, 203, 213, 199, 205, 169, 111, 99, 146, 57, 38, 105, 54, 34, 57, 59, 38, 67, 61, 57, 67, 57, 55, 59, 23, 12, 95, 37, 19, 92, 38, 22, 83, 35, 17, 76, 31, 12, 74, 27, 11, 71, 27, 15, 70, 31, 22, 69, 34, 22, 38, 21, 10, 38, 38, 34, 81, 78, 73, 92, 84, 73, 120, 112, 100, 112, 61, 46, 140, 73, 60, 175, 100, 86, 195, 118, 99, 197, 129, 110, 211, 153, 135, 219, 169, 158, 217, 166, 156, 212, 161, 151, 212, 169, 160, 207, 177, 178, 204, 157, 154, 174, 90, 65, 134, 57, 38, 64, 36, 41, 77, 64, 55, 94, 85, 78, 83, 83, 79, 51, 23, 13, 84, 30, 12, 80, 31, 16, 73, 29, 14, 68, 29, 14, 67, 29, 15, 61, 26, 16, 58, 27, 20, 65, 38, 26, 64, 53, 39, 70, 69, 62, 102, 98, 92, 119, 113, 103, 127, 121, 112, 66, 42, 33, 65, 32, 25, 85, 40, 31, 112, 53, 38, 146, 74, 53, 176, 96, 72, 184, 105, 86, 197, 116, 96, 205, 120, 97, 198, 116, 92, 175, 99, 80, 154, 78, 61, 142, 61, 40, 106, 43, 27, 64, 42, 42, 93, 87, 83, 112, 107, 104, 82, 88, 80, 47, 25, 21, 72, 24, 17, 72, 29, 18, 64, 28, 22, 53, 25, 21, 43, 25, 21, 45, 30, 26, 61, 46, 43, 85, 72, 62, 106, 96, 83, 118, 110, 99, 126, 117, 106, 131, 122, 111, 135, 126, 115, 58, 44, 43, 40, 31, 29, 42, 27, 23, 55, 26, 19, 71, 27, 15, 101, 44, 28, 133, 65, 50, 146, 73, 54, 148, 71, 48, 147, 64, 37, 136, 52, 25, 124, 46, 23, 116, 44, 25, 82, 30, 20, 63, 44, 43, 94, 93, 90, 126, 124, 121, 103, 107, 100, 53, 35, 31, 68, 33, 28, 55, 28, 18, 46, 23, 17, 53, 35, 30, 72, 61, 55, 95, 85, 79, 109, 99, 93, 114, 105, 95, 119, 109, 97, 124, 114, 102, 127, 117, 105, 129, 119, 107, 133, 123, 111, 100, 91, 93, 41, 43, 41, 28, 30, 30, 38, 32, 33, 44, 28, 29, 60, 34, 32, 126, 81, 74, 147, 97, 87, 138, 83, 69, 122, 57, 34, 111, 44, 19, 105, 42, 21, 98, 41, 26, 63, 26, 22, 28, 15, 19, 66, 63, 63, 91, 90, 86, 92, 93, 86, 37, 25, 18, 46, 28, 21, 55, 44, 36, 80, 69, 60, 106, 94, 85, 121, 111, 101, 129, 119, 109, 134, 124, 114, 139, 129, 118, 141, 131, 119, 144, 134, 122, 143, 133, 121, 143, 133, 121, 145, 135, 123, 96, 89, 83, 55, 49, 43, 31, 26, 26, 28, 23, 30, 32, 21, 29, 37, 20, 28, 51, 25, 26, 66, 36, 33, 73, 38, 32, 77, 33, 20, 78, 33, 18, 72, 32, 21, 63, 27, 20, 35, 12, 15, 24, 16, 26, 69, 63, 67, 96, 95, 92, 101, 100, 94, 61, 55, 45, 83, 76, 71, 103, 95, 94, 121, 108, 102, 131, 116, 106, 133, 123, 110, 139, 129, 116, 143, 134, 120, 147, 137, 125, 150, 140, 128, 149, 139, 127, 152, 142, 130, 153, 143, 131, 154, 144, 132, 115, 103, 94, 93, 76, 69, 66, 52, 50, 45, 36, 39, 35, 23, 29, 28, 15, 22, 26, 15, 17, 28, 14, 14, 29, 12, 9, 38, 17, 11, 38, 17, 11, 31, 13, 10, 25, 9, 8, 17, 7, 9, 14, 11, 18, 58, 53, 55, 92, 90, 86, 86, 83, 75, 106, 103, 92, 116, 112, 106, 125, 115, 115, 134, 119, 114, 141, 124, 115, 140, 130, 116, 143, 134, 120, 144, 135, 121, 147, 137, 125, 152, 142, 130, 150, 140, 128, 154, 144, 132, 154, 145, 134, 153, 144, 133, 133, 115, 113, 124, 106, 103, 109, 96, 92, 89, 82, 77, 69, 62, 57, 53, 47, 42, 37, 34, 32, 31, 28, 26, 32, 29, 26, 22, 19, 16, 21, 18, 15, 25, 21, 19, 35, 32, 29, 45, 42, 36, 52, 50, 44, 67, 64, 58, 98, 93, 84, 122, 116, 106, 128, 122, 112, 133, 125, 116, 140, 130, 121, 144, 133, 124, 147, 137, 127, 148, 138, 127, 150, 140, 128, 152, 142, 130, 150, 140, 128, 149, 139, 127, 148, 138, 126, 151, 142, 131, 152, 145, 135, 153, 146, 135, 141, 123, 121, 137, 119, 117, 130, 116, 113, 120, 111, 106, 114, 104, 99, 102, 93, 88, 87, 81, 77, 77, 72, 68, 73, 68, 64, 60, 55, 51, 63, 58, 54, 75, 70, 65, 89, 84, 78, 100, 96, 87, 112, 107, 98, 121, 116, 106, 127, 119, 110, 137, 127, 118, 142, 133, 124, 145, 136, 127, 150, 140, 131, 149, 139, 130, 154, 144, 135, 156, 146, 134, 155, 145, 133, 157, 147, 135, 155, 145, 133, 154, 144, 132, 152, 142, 130, 151, 142, 131, 152, 145, 135, 151, 144, 134, 151, 133, 130, 149, 131, 129, 143, 127, 124, 140, 127, 123, 137, 123, 120, 131, 119, 115, 127, 117, 110, 122, 113, 106, 118, 109, 102, 118, 110, 102, 123, 114, 107, 130, 121, 114, 132, 123, 115, 134, 126, 115, 139, 131, 120, 143, 134, 124, 143, 131, 123, 148, 136, 128, 152, 139, 131, 154, 143, 134, 155, 145, 136, 155, 145, 136, 157, 147, 137, 158, 148, 136, 158, 148, 136, 157, 147, 135, 159, 149, 137, 158, 148, 136, 156, 146, 134, 153, 144, 133, 151, 144, 134, 151, 144, 134, 156, 138, 135, 155, 137, 135, 157, 139, 137, 154, 136, 134, 153, 135, 133, 151, 135, 131, 145, 132, 124, 143, 131, 122, 142, 130, 121, 145, 133, 124, 146, 134, 125, 151, 139, 130, 155, 144, 133, 156, 145, 132, 157, 146, 132, 158, 146, 133, 162, 146, 138, 164, 147, 140, 161, 144, 137, 161, 147, 139, 157, 147, 138, 156, 146, 137, 156, 146, 137, 158, 148, 136, 157, 147, 135, 160, 150, 138, 159, 149, 137, 156, 146, 134, 156, 146, 134, 152, 143, 132, 149, 142, 132, 146, 139, 129], \"height\": 32, \"channels\": 3, \"width\": 32, \"type\": \"image\", \"id\": 4803657616}, {\"format\": \"raw\", \"value\": [176, 186, 175, 176, 186, 173, 179, 190, 174, 177, 188, 172, 172, 181, 166, 169, 174, 160, 158, 162, 149, 123, 130, 117, 198, 200, 191, 248, 245, 240, 243, 241, 238, 244, 245, 240, 214, 215, 205, 160, 162, 148, 172, 174, 162, 187, 188, 180, 201, 202, 194, 215, 216, 208, 227, 228, 220, 237, 237, 229, 242, 241, 234, 246, 245, 240, 246, 245, 242, 247, 247, 243, 248, 249, 244, 249, 250, 245, 247, 248, 243, 243, 245, 240, 240, 243, 238, 237, 240, 234, 235, 237, 232, 235, 239, 233, 189, 199, 190, 192, 203, 190, 197, 208, 194, 201, 212, 196, 205, 214, 198, 210, 215, 201, 211, 215, 201, 174, 182, 169, 203, 205, 196, 226, 223, 218, 240, 239, 235, 247, 248, 242, 225, 227, 214, 180, 183, 164, 171, 174, 158, 166, 168, 154, 160, 162, 149, 151, 153, 140, 150, 152, 139, 156, 157, 144, 160, 161, 148, 174, 174, 164, 228, 227, 219, 210, 210, 203, 212, 213, 206, 224, 225, 218, 233, 234, 227, 237, 239, 231, 241, 244, 236, 243, 246, 239, 239, 241, 236, 236, 240, 234, 194, 204, 196, 195, 205, 195, 200, 210, 198, 203, 214, 199, 209, 217, 202, 213, 219, 204, 214, 219, 205, 180, 187, 174, 203, 205, 196, 219, 216, 211, 240, 239, 235, 248, 249, 242, 243, 245, 231, 237, 240, 221, 236, 238, 221, 231, 234, 219, 225, 227, 211, 215, 217, 202, 207, 210, 194, 201, 203, 187, 184, 185, 169, 137, 138, 125, 207, 207, 196, 164, 165, 155, 144, 145, 135, 143, 144, 134, 146, 147, 137, 155, 158, 146, 165, 168, 157, 173, 177, 168, 212, 214, 208, 238, 241, 236, 197, 207, 200, 198, 208, 199, 203, 213, 203, 206, 217, 202, 210, 219, 203, 214, 220, 206, 217, 221, 207, 182, 189, 176, 212, 213, 205, 249, 246, 241, 247, 246, 242, 247, 248, 242, 241, 242, 231, 232, 234, 218, 233, 236, 221, 234, 236, 223, 237, 240, 225, 240, 242, 228, 241, 243, 229, 241, 242, 227, 234, 234, 221, 176, 176, 165, 222, 222, 213, 231, 232, 221, 218, 220, 207, 208, 210, 197, 194, 196, 183, 181, 184, 169, 166, 169, 155, 118, 121, 111, 169, 171, 165, 240, 243, 238, 195, 204, 198, 196, 206, 198, 204, 214, 204, 207, 217, 203, 210, 219, 203, 216, 222, 208, 220, 224, 210, 184, 191, 178, 209, 212, 202, 250, 249, 243, 247, 247, 243, 247, 248, 244, 241, 242, 234, 234, 236, 224, 236, 238, 228, 236, 238, 227, 237, 239, 226, 237, 239, 227, 237, 239, 227, 238, 239, 227, 232, 232, 221, 181, 181, 172, 226, 225, 219, 240, 241, 230, 235, 237, 222, 234, 236, 222, 232, 235, 220, 230, 233, 216, 228, 232, 216, 165, 169, 158, 178, 180, 175, 238, 241, 237, 200, 210, 203, 201, 211, 203, 205, 215, 202, 207, 217, 202, 211, 219, 203, 215, 220, 204, 217, 223, 208, 181, 192, 178, 202, 213, 200, 244, 250, 241, 242, 246, 241, 244, 247, 244, 240, 242, 235, 233, 235, 225, 237, 238, 230, 238, 240, 229, 238, 240, 225, 239, 240, 228, 239, 240, 230, 240, 240, 229, 233, 234, 221, 181, 184, 173, 225, 225, 217, 241, 239, 230, 235, 235, 225, 233, 234, 225, 229, 232, 218, 226, 229, 214, 223, 226, 214, 166, 172, 163, 181, 183, 179, 237, 239, 236, 179, 188, 186, 182, 191, 188, 199, 209, 200, 220, 229, 217, 223, 230, 219, 225, 233, 221, 227, 236, 224, 203, 206, 196, 216, 216, 207, 253, 250, 244, 253, 246, 244, 250, 247, 242, 245, 245, 233, 241, 241, 226, 243, 242, 230, 242, 243, 233, 241, 243, 231, 241, 241, 229, 242, 240, 228, 242, 240, 228, 232, 234, 220, 180, 186, 173, 225, 227, 218, 242, 240, 229, 238, 238, 226, 235, 237, 228, 231, 236, 221, 229, 232, 215, 225, 230, 214, 166, 174, 160, 182, 186, 175, 237, 239, 232, 62, 69, 75, 55, 62, 67, 117, 125, 123, 223, 229, 224, 195, 202, 198, 169, 179, 176, 205, 213, 208, 218, 213, 206, 207, 194, 191, 214, 199, 201, 198, 181, 183, 196, 176, 176, 204, 184, 178, 213, 195, 186, 224, 206, 203, 230, 225, 225, 240, 243, 238, 250, 249, 239, 249, 246, 232, 248, 246, 232, 236, 238, 224, 186, 191, 178, 227, 228, 219, 234, 233, 222, 224, 225, 214, 223, 225, 218, 221, 226, 216, 223, 228, 213, 222, 227, 212, 164, 173, 158, 181, 187, 174, 236, 239, 230, 10, 17, 25, 0, 0, 3, 65, 73, 73, 207, 212, 208, 85, 93, 93, 10, 18, 20, 61, 63, 61, 125, 121, 113, 120, 114, 111, 118, 113, 115, 120, 117, 115, 118, 116, 116, 121, 122, 120, 127, 130, 127, 137, 142, 146, 147, 154, 159, 172, 179, 179, 222, 225, 217, 249, 248, 233, 249, 248, 233, 234, 237, 223, 188, 193, 180, 219, 220, 211, 172, 170, 164, 108, 108, 108, 98, 100, 105, 90, 93, 98, 114, 117, 117, 115, 120, 117, 125, 134, 130, 183, 189, 185, 233, 236, 231, 97, 105, 108, 79, 88, 89, 124, 133, 127, 206, 213, 202, 108, 117, 112, 61, 65, 65, 65, 54, 51, 121, 123, 111, 146, 156, 150, 140, 150, 151, 184, 197, 190, 184, 195, 193, 178, 189, 190, 166, 183, 183, 150, 170, 178, 136, 155, 160, 164, 179, 178, 190, 199, 192, 230, 234, 222, 243, 243, 230, 227, 229, 215, 182, 187, 174, 208, 209, 200, 111, 111, 105, 47, 49, 49, 33, 36, 44, 13, 18, 26, 32, 36, 43, 16, 21, 26, 82, 92, 94, 186, 193, 194, 234, 238, 234, 189, 199, 194, 188, 197, 191, 197, 207, 194, 209, 218, 199, 201, 211, 200, 182, 178, 175, 119, 98, 91, 162, 163, 149, 163, 179, 173, 143, 161, 163, 180, 201, 194, 189, 208, 200, 199, 217, 210, 190, 214, 207, 133, 161, 163, 153, 180, 180, 202, 225, 220, 199, 214, 207, 214, 223, 214, 240, 242, 230, 229, 232, 218, 176, 182, 169, 198, 201, 191, 163, 164, 153, 144, 147, 137, 137, 142, 140, 126, 132, 132, 124, 129, 129, 106, 113, 112, 113, 125, 120, 176, 185, 178, 223, 228, 220, 192, 203, 194, 194, 204, 194, 200, 208, 195, 205, 212, 197, 211, 219, 207, 168, 149, 147, 109, 86, 81, 154, 164, 150, 143, 163, 160, 122, 139, 145, 145, 156, 157, 143, 161, 153, 158, 172, 163, 146, 169, 158, 99, 124, 122, 131, 148, 149, 161, 182, 176, 180, 191, 185, 190, 201, 194, 233, 238, 229, 233, 234, 223, 153, 161, 148, 163, 170, 157, 238, 237, 224, 242, 239, 228, 232, 236, 226, 228, 230, 223, 226, 227, 219, 221, 224, 214, 149, 159, 148, 122, 131, 122, 159, 160, 156, 192, 203, 194, 194, 205, 194, 200, 208, 196, 204, 213, 200, 203, 201, 190, 138, 114, 109, 98, 75, 69, 126, 114, 100, 131, 122, 115, 123, 111, 111, 138, 119, 112, 149, 133, 120, 171, 145, 136, 170, 155, 145, 166, 153, 153, 181, 159, 160, 180, 171, 161, 185, 177, 166, 187, 180, 169, 217, 210, 197, 223, 214, 200, 176, 167, 153, 181, 171, 156, 222, 209, 197, 224, 209, 200, 227, 217, 207, 227, 225, 213, 227, 226, 213, 221, 221, 209, 141, 150, 139, 109, 117, 111, 148, 149, 148, 190, 202, 193, 194, 204, 193, 199, 209, 196, 191, 198, 184, 165, 142, 136, 108, 79, 73, 96, 60, 53, 119, 67, 58, 122, 71, 63, 135, 85, 78, 148, 96, 81, 160, 101, 80, 174, 107, 89, 172, 112, 100, 171, 109, 110, 185, 117, 118, 202, 148, 142, 203, 170, 160, 201, 170, 157, 207, 172, 162, 209, 176, 166, 209, 175, 165, 211, 182, 172, 201, 171, 163, 173, 131, 126, 163, 112, 110, 175, 134, 128, 197, 174, 166, 207, 205, 196, 135, 146, 137, 111, 119, 116, 147, 152, 153, 189, 201, 192, 193, 203, 192, 199, 209, 196, 149, 148, 137, 108, 64, 65, 96, 50, 47, 100, 43, 40, 117, 43, 44, 113, 43, 44, 115, 49, 46, 117, 54, 43, 137, 62, 42, 152, 71, 53, 145, 61, 51, 148, 53, 53, 149, 46, 53, 150, 66, 75, 182, 143, 142, 193, 150, 147, 194, 131, 138, 197, 134, 141, 195, 140, 143, 185, 153, 156, 188, 164, 162, 193, 146, 143, 154, 82, 85, 111, 30, 34, 106, 52, 54, 159, 155, 151, 126, 140, 133, 109, 116, 116, 127, 137, 139, 191, 203, 194, 194, 204, 193, 200, 208, 196, 115, 112, 105, 58, 24, 25, 99, 45, 47, 104, 39, 40, 105, 39, 41, 99, 36, 39, 84, 25, 26, 77, 28, 23, 90, 42, 34, 93, 49, 41, 115, 48, 45, 137, 43, 42, 139, 41, 46, 136, 61, 74, 193, 179, 181, 193, 167, 169, 164, 93, 109, 176, 95, 111, 182, 102, 117, 162, 110, 127, 150, 123, 131, 170, 141, 141, 182, 134, 137, 142, 74, 78, 110, 51, 58, 168, 163, 162, 131, 148, 143, 92, 100, 102, 95, 108, 113, 191, 202, 193, 192, 203, 192, 190, 198, 187, 90, 96, 90, 25, 18, 15, 76, 30, 32, 85, 29, 29, 83, 32, 29, 85, 29, 28, 77, 27, 25, 64, 27, 25, 33, 18, 21, 15, 16, 19, 60, 24, 27, 105, 29, 27, 106, 27, 23, 121, 69, 72, 178, 192, 185, 189, 187, 182, 150, 88, 98, 162, 72, 84, 177, 72, 87, 169, 77, 101, 165, 91, 116, 164, 105, 122, 172, 121, 132, 172, 107, 117, 151, 87, 99, 174, 164, 165, 146, 162, 159, 100, 109, 112, 88, 106, 111, 145, 158, 152, 145, 157, 150, 148, 159, 153, 87, 99, 97, 15, 19, 19, 51, 22, 26, 61, 19, 21, 61, 23, 22, 71, 22, 22, 80, 26, 27, 67, 28, 29, 13, 12, 18, 0, 16, 25, 19, 15, 22, 79, 26, 26, 87, 19, 15, 77, 37, 31, 171, 173, 162, 184, 185, 178, 120, 65, 70, 159, 56, 64, 170, 54, 60, 169, 52, 66, 172, 59, 78, 173, 75, 91, 176, 92, 109, 178, 95, 117, 173, 100, 118, 178, 134, 139, 156, 147, 144, 130, 150, 145, 122, 147, 147, 124, 141, 140, 136, 152, 152, 150, 166, 166, 111, 130, 130, 19, 29, 31, 33, 26, 28, 49, 29, 31, 47, 25, 26, 55, 18, 20, 68, 22, 25, 52, 19, 21, 10, 10, 14, 10, 25, 33, 9, 20, 27, 52, 19, 23, 78, 20, 22, 54, 18, 14, 103, 85, 79, 117, 105, 102, 78, 42, 39, 147, 53, 52, 173, 49, 49, 171, 55, 57, 172, 68, 75, 173, 79, 89, 168, 83, 98, 161, 83, 105, 150, 85, 101, 147, 85, 95, 139, 108, 110, 144, 154, 153, 137, 154, 157, 122, 144, 149, 128, 149, 154, 141, 163, 168, 108, 132, 134, 20, 39, 40, 7, 16, 16, 24, 25, 25, 36, 32, 32, 50, 33, 32, 56, 30, 31, 35, 20, 21, 8, 14, 15, 15, 30, 36, 13, 30, 36, 26, 11, 17, 70, 26, 35, 70, 33, 39, 66, 37, 39, 84, 52, 55, 96, 51, 49, 147, 52, 53, 173, 54, 55, 149, 64, 59, 119, 65, 64, 100, 59, 63, 84, 51, 55, 64, 39, 44, 47, 27, 31, 63, 40, 43, 119, 109, 110, 143, 156, 159, 136, 154, 160, 93, 119, 129, 90, 116, 126, 84, 110, 119, 62, 84, 90, 17, 33, 38, 0, 10, 15, 5, 14, 18, 11, 20, 22, 26, 26, 26, 44, 39, 38, 33, 33, 35, 7, 18, 20, 10, 23, 29, 18, 38, 43, 8, 10, 18, 66, 61, 68, 109, 114, 115, 114, 116, 113, 122, 119, 114, 141, 107, 110, 162, 95, 100, 150, 98, 91, 96, 73, 64, 28, 23, 19, 2, 10, 4, 16, 31, 23, 3, 24, 14, 1, 20, 14, 9, 23, 20, 74, 90, 87, 123, 144, 147, 129, 153, 159, 87, 114, 125, 84, 110, 121, 76, 101, 112, 54, 74, 83, 14, 29, 37, 1, 12, 21, 3, 13, 23, 0, 11, 17, 1, 10, 12, 10, 15, 17, 10, 18, 23, 12, 25, 32, 18, 29, 39, 13, 31, 37, 4, 16, 23, 13, 24, 30, 31, 51, 52, 52, 68, 67, 75, 91, 87, 98, 110, 105, 121, 128, 117, 125, 141, 123, 127, 139, 131, 81, 80, 81, 44, 44, 41, 55, 59, 55, 50, 59, 55, 51, 57, 58, 39, 48, 50, 67, 71, 73, 135, 136, 144, 132, 147, 155, 91, 115, 126, 88, 112, 123, 86, 110, 121, 73, 100, 108, 48, 73, 81, 30, 50, 61, 19, 35, 48, 8, 23, 33, 4, 15, 20, 3, 10, 15, 1, 8, 17, 17, 30, 43, 27, 37, 51, 8, 24, 31, 2, 16, 22, 3, 8, 17, 5, 8, 16, 5, 10, 16, 5, 13, 17, 11, 25, 20, 60, 57, 46, 86, 74, 64, 54, 54, 50, 55, 53, 52, 49, 46, 41, 41, 41, 38, 39, 41, 41, 89, 93, 96, 109, 123, 123, 115, 123, 122, 132, 136, 141, 120, 139, 145, 87, 114, 124, 88, 114, 124, 88, 113, 124, 84, 112, 122, 77, 106, 116, 68, 95, 107, 53, 77, 90, 34, 56, 65, 18, 36, 43, 9, 22, 29, 3, 12, 22, 15, 27, 41, 35, 48, 61, 17, 31, 39, 1, 13, 21, 4, 11, 19, 3, 10, 18, 2, 9, 16, 1, 12, 18, 8, 13, 15, 57, 39, 36, 90, 64, 58, 22, 16, 13, 0, 3, 3, 0, 3, 1, 0, 1, 0, 37, 49, 51, 126, 141, 144, 132, 153, 153, 129, 149, 149, 124, 143, 146, 116, 139, 145, 79, 109, 119, 83, 111, 122, 89, 114, 125, 89, 114, 126, 88, 114, 126, 82, 108, 120, 74, 100, 112, 63, 90, 99, 45, 69, 78, 28, 46, 56, 16, 29, 41, 10, 24, 35, 30, 46, 55, 15, 29, 37, 1, 13, 21, 3, 14, 20, 1, 10, 16, 0, 10, 16, 0, 9, 16, 1, 9, 17, 8, 9, 12, 20, 14, 14, 11, 13, 17, 5, 10, 15, 6, 10, 12, 21, 30, 32, 88, 102, 105, 122, 139, 142, 122, 140, 143, 122, 141, 146, 120, 140, 146, 116, 136, 145, 81, 110, 120, 86, 112, 123, 92, 116, 128, 92, 116, 128, 92, 117, 128, 92, 116, 127, 91, 116, 127, 82, 109, 120, 69, 96, 106, 61, 82, 95, 47, 64, 78, 17, 33, 44, 7, 22, 30, 5, 18, 26, 2, 15, 21, 4, 15, 20, 2, 12, 17, 0, 10, 15, 2, 13, 17, 2, 13, 23, 5, 12, 22, 13, 16, 22, 14, 23, 33, 17, 27, 33, 25, 34, 32, 45, 58, 57, 78, 95, 94, 92, 110, 112, 99, 117, 122, 102, 122, 127, 105, 126, 133, 103, 125, 134, 91, 118, 129, 94, 118, 130, 97, 119, 132, 98, 120, 131, 98, 121, 131, 101, 124, 134, 102, 125, 136, 97, 123, 133, 89, 115, 127, 84, 108, 120, 71, 93, 105, 41, 61, 70, 8, 25, 32, 1, 15, 21, 0, 13, 17, 5, 19, 21, 22, 35, 37, 21, 34, 36, 10, 23, 25, 13, 29, 32, 15, 30, 32, 24, 36, 35, 33, 49, 51, 39, 55, 54, 46, 60, 56, 48, 65, 63, 57, 75, 74, 65, 84, 86, 69, 89, 94, 78, 99, 105, 82, 105, 113, 84, 108, 118, 96, 122, 133, 98, 120, 133, 101, 121, 134, 101, 121, 132, 103, 123, 133, 106, 126, 136, 108, 129, 138, 105, 128, 136, 103, 125, 134, 95, 117, 126, 86, 108, 117, 76, 98, 104, 62, 83, 87, 44, 62, 65, 37, 54, 55, 42, 58, 58, 57, 73, 73, 91, 106, 106, 75, 90, 90, 53, 70, 67, 54, 73, 67, 63, 81, 74, 72, 91, 84, 74, 93, 89, 76, 96, 94, 79, 98, 99, 76, 95, 98, 70, 89, 94, 66, 87, 93, 70, 92, 100, 72, 96, 105, 73, 100, 111, 95, 119, 132, 100, 122, 135, 99, 119, 132, 99, 119, 129, 106, 127, 135, 110, 130, 138, 112, 132, 140, 113, 132, 138, 115, 135, 139, 111, 132, 136, 106, 127, 131, 99, 122, 126, 95, 117, 121, 94, 114, 115, 92, 111, 111, 91, 108, 107, 89, 105, 104, 107, 124, 123, 137, 153, 152, 127, 144, 141, 100, 118, 115, 89, 108, 107, 88, 106, 103, 83, 103, 102, 81, 103, 106, 87, 108, 113, 90, 109, 116, 91, 110, 118, 87, 108, 115, 76, 100, 108, 69, 95, 105, 65, 92, 104, 90, 117, 131, 97, 123, 137, 96, 121, 135, 99, 123, 134, 108, 132, 141, 112, 136, 146, 114, 138, 147, 112, 135, 140, 111, 133, 137, 111, 133, 137, 111, 134, 138, 113, 135, 139, 109, 131, 135, 106, 127, 130, 111, 131, 133, 110, 129, 131, 106, 125, 126, 102, 121, 122, 114, 134, 135, 147, 165, 165, 153, 171, 171, 125, 143, 145, 108, 125, 127, 100, 120, 121, 93, 115, 118, 93, 115, 121, 93, 115, 124, 93, 115, 126, 95, 119, 130, 91, 117, 129, 83, 109, 122, 65, 92, 106, 91, 119, 133, 95, 123, 138, 97, 125, 139, 101, 126, 138, 107, 131, 142, 110, 135, 145, 111, 135, 145, 111, 135, 142, 111, 134, 140, 108, 132, 137, 109, 132, 138, 114, 135, 140, 120, 140, 145, 120, 141, 146, 122, 143, 148, 117, 137, 141, 117, 136, 140, 114, 133, 137, 111, 131, 135, 118, 136, 137, 152, 170, 170, 173, 191, 192, 143, 161, 162, 115, 134, 136, 106, 127, 129, 103, 125, 131, 95, 118, 128, 83, 108, 121, 82, 108, 121, 84, 109, 123, 84, 109, 123, 82, 107, 121, 97, 121, 133, 97, 120, 133, 101, 124, 137, 107, 128, 138, 106, 127, 136, 107, 128, 137, 109, 130, 139, 111, 130, 138, 114, 133, 139, 113, 132, 139, 114, 133, 140, 117, 135, 140, 122, 140, 144, 128, 145, 150, 131, 149, 153, 127, 145, 149, 126, 145, 149, 126, 144, 148, 126, 144, 148, 120, 138, 140, 121, 137, 138, 150, 167, 168, 174, 192, 192, 151, 168, 169, 111, 128, 132, 99, 119, 125, 92, 113, 124, 81, 103, 116, 82, 105, 119, 82, 104, 118, 78, 101, 114, 74, 97, 111], \"height\": 32, \"channels\": 3, \"width\": 32, \"type\": \"image\", \"id\": 4803657680}, {\"format\": \"raw\", \"value\": [90, 93, 93, 78, 82, 79, 70, 75, 69, 79, 82, 73, 68, 68, 56, 40, 39, 27, 37, 36, 24, 57, 56, 44, 60, 58, 48, 39, 37, 26, 35, 32, 18, 36, 31, 14, 27, 20, 5, 28, 21, 11, 31, 26, 15, 24, 22, 11, 19, 19, 6, 21, 22, 7, 25, 26, 8, 32, 30, 11, 37, 33, 13, 34, 29, 9, 31, 28, 11, 25, 24, 10, 19, 19, 10, 15, 17, 11, 15, 15, 10, 13, 12, 8, 12, 11, 7, 12, 11, 7, 14, 13, 8, 14, 13, 8, 69, 70, 66, 61, 63, 57, 64, 67, 58, 63, 64, 53, 57, 56, 44, 38, 38, 26, 25, 27, 14, 31, 36, 22, 39, 43, 29, 28, 29, 16, 28, 26, 12, 33, 25, 11, 33, 24, 11, 27, 23, 10, 22, 21, 7, 20, 21, 6, 18, 21, 5, 21, 22, 6, 25, 24, 7, 33, 30, 10, 40, 35, 12, 39, 33, 10, 36, 32, 12, 27, 25, 8, 22, 22, 10, 18, 19, 10, 15, 15, 9, 13, 12, 7, 13, 12, 7, 13, 12, 7, 15, 14, 9, 15, 14, 9, 67, 68, 58, 56, 58, 45, 56, 58, 44, 57, 58, 44, 41, 40, 28, 25, 25, 13, 23, 24, 12, 25, 26, 13, 28, 33, 16, 25, 30, 12, 26, 27, 12, 28, 24, 12, 28, 22, 10, 25, 20, 8, 22, 19, 6, 21, 21, 7, 21, 22, 8, 23, 22, 8, 28, 25, 8, 35, 30, 9, 44, 38, 11, 43, 37, 9, 39, 34, 10, 30, 26, 6, 25, 23, 7, 22, 21, 9, 17, 17, 8, 14, 13, 6, 15, 15, 7, 16, 16, 8, 16, 16, 9, 18, 17, 12, 51, 51, 36, 49, 49, 32, 43, 44, 24, 47, 48, 30, 31, 31, 19, 20, 18, 6, 25, 19, 9, 28, 18, 9, 38, 22, 11, 44, 26, 14, 48, 31, 22, 52, 35, 28, 54, 40, 34, 54, 43, 38, 49, 40, 34, 40, 34, 27, 27, 22, 15, 24, 20, 9, 30, 25, 9, 36, 30, 8, 47, 41, 11, 48, 41, 9, 43, 36, 10, 38, 32, 9, 31, 28, 9, 27, 25, 10, 21, 21, 9, 17, 17, 8, 20, 20, 10, 20, 20, 10, 19, 19, 10, 20, 19, 13, 34, 34, 16, 34, 34, 13, 33, 32, 10, 28, 30, 10, 20, 23, 10, 42, 34, 25, 73, 55, 50, 93, 65, 61, 115, 70, 68, 123, 76, 74, 116, 77, 77, 111, 80, 80, 108, 85, 86, 109, 94, 96, 112, 100, 101, 119, 108, 109, 105, 95, 95, 59, 51, 44, 33, 25, 10, 43, 34, 11, 54, 43, 12, 56, 46, 12, 46, 40, 10, 39, 33, 8, 35, 30, 9, 28, 24, 7, 18, 17, 4, 15, 15, 4, 16, 16, 5, 15, 15, 4, 14, 14, 4, 14, 14, 8, 28, 33, 11, 28, 31, 7, 33, 31, 11, 32, 31, 18, 63, 67, 60, 148, 133, 135, 178, 152, 153, 140, 90, 93, 84, 47, 50, 75, 51, 55, 69, 63, 64, 66, 73, 72, 78, 89, 88, 93, 102, 102, 105, 112, 112, 124, 129, 130, 159, 162, 163, 156, 161, 158, 80, 77, 68, 53, 39, 21, 65, 47, 18, 69, 56, 20, 62, 55, 26, 53, 45, 24, 49, 43, 26, 49, 47, 28, 46, 49, 34, 49, 49, 40, 52, 50, 43, 52, 51, 44, 53, 56, 49, 56, 58, 55, 26, 33, 10, 24, 28, 8, 29, 29, 17, 78, 73, 72, 156, 159, 165, 196, 216, 219, 194, 194, 198, 112, 72, 80, 18, 10, 10, 36, 46, 47, 52, 71, 72, 49, 71, 75, 63, 83, 89, 91, 108, 111, 105, 126, 127, 111, 137, 136, 122, 151, 150, 154, 184, 185, 170, 186, 186, 117, 114, 107, 113, 99, 83, 120, 112, 87, 105, 118, 92, 106, 116, 99, 106, 113, 100, 107, 114, 100, 111, 122, 108, 117, 125, 116, 123, 125, 120, 126, 125, 124, 127, 127, 127, 124, 127, 125, 50, 54, 32, 48, 51, 36, 73, 73, 70, 150, 153, 159, 199, 216, 222, 211, 233, 237, 199, 207, 210, 137, 95, 107, 34, 23, 25, 29, 49, 45, 30, 50, 53, 33, 51, 61, 49, 64, 75, 81, 99, 102, 110, 132, 133, 123, 150, 149, 121, 152, 151, 124, 152, 156, 163, 176, 183, 170, 162, 166, 138, 110, 111, 156, 129, 122, 149, 146, 131, 139, 139, 129, 128, 128, 120, 125, 124, 112, 122, 128, 109, 116, 128, 107, 112, 122, 106, 114, 115, 105, 113, 108, 103, 105, 107, 97, 113, 113, 91, 134, 131, 123, 177, 170, 175, 185, 187, 191, 204, 197, 199, 217, 150, 167, 203, 177, 175, 159, 117, 119, 66, 28, 33, 13, 19, 15, 7, 20, 20, 12, 29, 34, 31, 46, 51, 58, 68, 66, 79, 82, 82, 92, 87, 89, 110, 98, 103, 120, 104, 109, 121, 94, 100, 122, 77, 83, 148, 84, 90, 172, 90, 96, 185, 96, 101, 159, 92, 95, 115, 73, 67, 95, 64, 48, 92, 69, 42, 82, 75, 39, 79, 86, 47, 71, 76, 38, 58, 56, 23, 44, 48, 17, 123, 118, 96, 192, 180, 176, 225, 206, 211, 211, 187, 191, 191, 127, 137, 192, 73, 92, 189, 122, 119, 155, 114, 105, 114, 57, 62, 60, 23, 25, 69, 38, 39, 97, 67, 69, 120, 85, 88, 133, 90, 91, 150, 99, 103, 173, 112, 119, 197, 129, 139, 207, 131, 140, 205, 126, 132, 210, 126, 132, 225, 127, 134, 224, 120, 128, 220, 126, 131, 218, 133, 137, 211, 126, 129, 187, 88, 89, 164, 69, 59, 144, 88, 59, 115, 104, 54, 97, 105, 42, 90, 96, 32, 80, 87, 29, 175, 166, 146, 221, 195, 192, 221, 183, 185, 226, 188, 190, 228, 170, 180, 220, 160, 159, 194, 93, 103, 190, 101, 112, 205, 134, 142, 190, 116, 123, 200, 114, 122, 222, 118, 127, 235, 122, 132, 243, 128, 137, 246, 137, 144, 245, 143, 148, 247, 149, 153, 247, 152, 158, 245, 155, 160, 246, 160, 161, 249, 159, 162, 251, 157, 165, 247, 162, 172, 247, 168, 178, 251, 172, 180, 248, 156, 161, 227, 102, 111, 195, 92, 86, 152, 118, 78, 105, 110, 46, 100, 110, 36, 101, 109, 33, 179, 162, 150, 203, 132, 133, 170, 78, 79, 175, 105, 102, 218, 158, 161, 232, 201, 194, 229, 166, 175, 227, 150, 169, 235, 171, 181, 238, 163, 171, 244, 141, 152, 242, 109, 121, 241, 83, 93, 245, 71, 76, 240, 71, 72, 239, 75, 76, 245, 87, 89, 244, 98, 104, 249, 101, 105, 245, 111, 107, 241, 117, 115, 251, 112, 122, 251, 114, 126, 243, 123, 136, 233, 132, 143, 238, 149, 154, 248, 140, 153, 212, 94, 102, 142, 105, 92, 104, 110, 85, 129, 134, 86, 128, 129, 81, 145, 130, 122, 165, 81, 83, 175, 60, 62, 166, 70, 63, 166, 77, 72, 174, 103, 96, 198, 135, 130, 225, 158, 159, 235, 180, 186, 234, 176, 187, 234, 150, 166, 239, 136, 150, 240, 109, 118, 245, 73, 82, 231, 50, 64, 216, 43, 61, 200, 50, 66, 189, 60, 71, 199, 66, 77, 229, 73, 89, 246, 83, 97, 250, 96, 101, 249, 101, 104, 245, 109, 120, 244, 117, 133, 240, 118, 134, 244, 120, 140, 234, 115, 130, 128, 97, 97, 97, 101, 96, 160, 154, 129, 164, 161, 135, 90, 85, 79, 119, 55, 57, 173, 65, 68, 174, 70, 64, 175, 72, 65, 173, 63, 57, 169, 60, 51, 180, 82, 71, 212, 149, 148, 239, 182, 194, 231, 157, 176, 229, 147, 162, 235, 146, 154, 219, 124, 130, 173, 93, 105, 153, 105, 118, 134, 114, 124, 119, 109, 111, 120, 117, 120, 155, 97, 117, 215, 83, 107, 249, 92, 102, 252, 101, 109, 244, 116, 127, 233, 127, 139, 212, 118, 128, 177, 97, 103, 179, 85, 93, 166, 87, 97, 165, 88, 97, 172, 119, 105, 164, 161, 137, 89, 92, 88, 131, 92, 93, 162, 66, 69, 172, 64, 63, 170, 67, 66, 187, 63, 65, 194, 68, 65, 183, 73, 62, 173, 94, 87, 154, 88, 94, 193, 121, 135, 230, 144, 155, 227, 129, 135, 202, 128, 135, 171, 164, 167, 160, 190, 195, 138, 161, 174, 117, 134, 142, 128, 156, 166, 123, 149, 158, 154, 120, 121, 203, 97, 94, 198, 83, 83, 139, 57, 59, 97, 39, 40, 74, 24, 25, 77, 15, 14, 136, 28, 37, 203, 65, 79, 212, 71, 77, 166, 98, 80, 158, 155, 135, 115, 121, 120, 153, 137, 137, 148, 69, 70, 167, 58, 60, 164, 64, 67, 175, 61, 66, 181, 62, 64, 179, 68, 65, 130, 54, 48, 55, 14, 12, 104, 59, 62, 202, 113, 118, 217, 78, 83, 193, 62, 70, 175, 122, 126, 160, 144, 149, 140, 111, 121, 133, 108, 115, 158, 118, 134, 164, 119, 133, 171, 114, 116, 196, 96, 97, 192, 84, 86, 127, 44, 49, 124, 46, 56, 150, 62, 77, 188, 85, 96, 208, 109, 121, 184, 80, 82, 170, 39, 30, 139, 75, 56, 100, 96, 80, 127, 134, 135, 153, 152, 152, 138, 75, 74, 178, 69, 69, 173, 68, 67, 163, 58, 57, 182, 72, 70, 180, 68, 68, 97, 38, 37, 48, 50, 47, 99, 99, 98, 158, 86, 90, 210, 61, 64, 194, 28, 27, 184, 44, 53, 188, 72, 83, 204, 96, 101, 208, 95, 108, 209, 97, 110, 213, 97, 107, 221, 96, 110, 230, 95, 112, 227, 92, 103, 206, 116, 124, 200, 146, 151, 203, 155, 159, 191, 153, 155, 189, 168, 176, 188, 134, 134, 156, 38, 36, 129, 72, 64, 96, 91, 79, 125, 130, 132, 167, 167, 172, 114, 79, 79, 160, 80, 80, 210, 109, 112, 183, 85, 84, 168, 63, 61, 185, 70, 72, 99, 39, 43, 87, 113, 111, 146, 159, 165, 122, 85, 83, 201, 76, 78, 216, 60, 62, 207, 40, 45, 199, 45, 43, 210, 45, 45, 214, 46, 54, 221, 68, 74, 217, 76, 76, 208, 66, 72, 211, 45, 58, 187, 23, 31, 205, 145, 141, 183, 185, 181, 134, 140, 139, 138, 139, 145, 135, 154, 160, 108, 93, 96, 105, 37, 43, 151, 122, 118, 159, 155, 147, 104, 108, 110, 131, 131, 138, 54, 39, 39, 56, 18, 16, 114, 55, 57, 168, 97, 98, 177, 83, 85, 174, 57, 63, 109, 38, 44, 118, 137, 137, 181, 188, 198, 112, 95, 91, 152, 39, 41, 207, 42, 49, 215, 41, 44, 209, 37, 36, 200, 18, 22, 193, 13, 17, 191, 19, 19, 191, 18, 15, 188, 14, 9, 188, 12, 10, 151, 12, 18, 142, 105, 103, 121, 130, 130, 83, 86, 90, 68, 59, 60, 44, 38, 34, 56, 11, 15, 107, 34, 42, 147, 111, 107, 136, 133, 125, 82, 87, 86, 68, 74, 77, 32, 27, 25, 25, 15, 11, 26, 12, 12, 59, 25, 25, 118, 52, 52, 161, 64, 69, 123, 57, 60, 129, 137, 136, 183, 192, 201, 121, 119, 117, 120, 24, 24, 188, 21, 17, 187, 19, 14, 187, 15, 18, 148, 14, 16, 126, 18, 21, 111, 19, 15, 132, 10, 8, 167, 11, 10, 138, 21, 11, 67, 18, 11, 37, 28, 22, 33, 25, 24, 41, 19, 19, 62, 21, 15, 83, 28, 22, 109, 27, 31, 126, 46, 50, 127, 101, 91, 122, 121, 113, 76, 80, 77, 72, 78, 78, 68, 70, 67, 59, 60, 59, 42, 43, 47, 25, 18, 17, 32, 6, 3, 74, 26, 24, 95, 52, 50, 134, 134, 133, 179, 190, 197, 134, 143, 143, 92, 25, 22, 175, 31, 20, 179, 33, 23, 177, 25, 26, 108, 18, 17, 69, 36, 36, 27, 15, 10, 81, 12, 14, 139, 17, 25, 98, 11, 8, 63, 11, 8, 75, 19, 21, 100, 20, 27, 115, 25, 29, 116, 25, 30, 107, 36, 39, 110, 66, 64, 112, 89, 84, 105, 106, 97, 107, 109, 103, 66, 69, 63, 76, 78, 75, 82, 82, 81, 83, 79, 82, 78, 73, 78, 60, 61, 60, 39, 40, 35, 26, 20, 14, 29, 16, 11, 110, 113, 112, 183, 195, 199, 136, 146, 146, 76, 29, 27, 175, 39, 41, 177, 23, 28, 170, 14, 22, 140, 22, 27, 110, 32, 29, 96, 26, 17, 142, 34, 33, 162, 31, 34, 132, 22, 23, 117, 23, 32, 106, 25, 30, 97, 20, 23, 74, 15, 12, 47, 12, 8, 30, 16, 13, 39, 45, 38, 71, 68, 68, 98, 80, 87, 96, 96, 93, 98, 100, 93, 63, 59, 56, 77, 70, 73, 83, 77, 80, 82, 80, 78, 77, 82, 78, 71, 76, 74, 58, 60, 59, 29, 34, 31, 72, 81, 80, 183, 195, 198, 123, 128, 127, 59, 35, 32, 174, 77, 86, 198, 68, 78, 192, 67, 71, 187, 58, 63, 181, 61, 62, 179, 63, 65, 172, 66, 71, 121, 44, 45, 80, 21, 20, 57, 16, 14, 38, 14, 8, 32, 9, 7, 20, 9, 9, 10, 12, 8, 19, 13, 11, 32, 29, 27, 52, 58, 54, 78, 80, 78, 88, 92, 88, 178, 179, 171, 113, 110, 104, 60, 55, 53, 70, 67, 65, 77, 77, 74, 77, 78, 76, 82, 83, 83, 84, 83, 84, 68, 72, 70, 52, 58, 56, 135, 140, 140, 86, 87, 85, 17, 12, 9, 53, 24, 26, 80, 32, 35, 94, 45, 45, 103, 42, 45, 94, 38, 42, 79, 29, 34, 59, 23, 27, 28, 15, 16, 14, 9, 8, 12, 12, 6, 10, 13, 7, 16, 12, 12, 21, 16, 20, 23, 25, 24, 46, 41, 39, 69, 61, 61, 79, 80, 76, 85, 92, 86, 91, 93, 90, 105, 105, 97, 173, 173, 165, 129, 129, 121, 68, 68, 61, 64, 63, 60, 74, 73, 70, 78, 77, 74, 82, 81, 78, 82, 81, 79, 73, 73, 71, 61, 61, 58, 30, 30, 28, 11, 12, 9, 7, 9, 6, 9, 6, 5, 14, 5, 6, 18, 4, 7, 14, 6, 7, 9, 5, 5, 9, 5, 4, 14, 9, 8, 18, 14, 13, 19, 19, 17, 28, 28, 26, 39, 39, 37, 53, 53, 51, 66, 66, 64, 76, 77, 75, 86, 86, 84, 91, 91, 89, 93, 92, 90, 92, 91, 90, 64, 64, 57, 94, 94, 87, 166, 166, 159, 154, 154, 146, 81, 81, 74, 63, 62, 55, 75, 75, 67, 81, 80, 74, 83, 83, 79, 86, 86, 84, 76, 76, 74, 60, 60, 58, 47, 49, 46, 37, 42, 38, 31, 32, 29, 29, 25, 24, 27, 20, 21, 26, 20, 20, 26, 22, 21, 31, 27, 26, 38, 33, 33, 45, 42, 40, 54, 54, 52, 67, 67, 65, 76, 76, 74, 82, 82, 80, 87, 87, 85, 89, 89, 87, 92, 92, 90, 92, 92, 90, 89, 89, 87, 88, 88, 86, 64, 63, 59, 57, 56, 52, 75, 74, 69, 164, 164, 158, 178, 178, 169, 87, 87, 77, 58, 58, 48, 66, 66, 57, 71, 71, 66, 73, 73, 72, 76, 76, 73, 77, 77, 75, 74, 76, 73, 65, 71, 67, 57, 62, 58, 52, 53, 50, 48, 48, 46, 48, 47, 45, 51, 50, 48, 57, 55, 53, 63, 61, 59, 66, 65, 63, 67, 67, 65, 71, 71, 69, 74, 74, 72, 76, 76, 74, 77, 77, 75, 77, 77, 75, 78, 78, 76, 78, 78, 76, 76, 76, 74, 74, 74, 72, 103, 102, 100, 105, 104, 101, 100, 99, 97, 116, 115, 112, 200, 200, 193, 200, 200, 194, 117, 116, 110, 96, 95, 89, 103, 103, 100, 105, 105, 103, 107, 107, 105, 108, 108, 106, 110, 111, 109, 110, 112, 109, 108, 111, 108, 107, 108, 106, 105, 106, 103, 106, 106, 104, 104, 104, 102, 106, 106, 104, 108, 107, 105, 107, 107, 105, 106, 106, 104, 107, 107, 105, 109, 109, 107, 108, 108, 106, 108, 108, 106, 108, 108, 106, 108, 108, 106, 108, 108, 106, 108, 108, 106, 107, 107, 105, 226, 225, 223, 207, 206, 204, 196, 195, 193, 208, 207, 205, 232, 231, 228, 250, 249, 247, 234, 232, 230, 218, 217, 215, 220, 220, 218, 221, 221, 219, 222, 222, 220, 223, 223, 221, 215, 215, 213, 211, 210, 208, 215, 214, 213, 213, 213, 211, 211, 212, 209, 210, 211, 209, 213, 213, 211, 211, 211, 209, 211, 211, 209, 208, 209, 206, 212, 212, 210, 212, 212, 210, 211, 211, 209, 220, 220, 218, 222, 222, 220, 222, 222, 220, 222, 222, 220, 222, 222, 220, 222, 222, 220, 223, 223, 221, 255, 255, 255, 196, 195, 194, 142, 142, 141, 206, 205, 205, 255, 255, 255, 252, 252, 252, 252, 252, 252, 254, 254, 254, 255, 255, 255, 255, 255, 255, 255, 255, 255, 255, 255, 255, 227, 227, 226, 181, 179, 179, 197, 196, 196, 192, 192, 191, 181, 181, 180, 179, 179, 178, 197, 197, 196, 195, 196, 195, 180, 181, 179, 187, 188, 187, 202, 202, 201, 195, 195, 194, 197, 197, 196, 252, 252, 251, 255, 255, 255, 255, 255, 255, 255, 255, 255, 255, 255, 255, 255, 255, 255, 255, 255, 254, 245, 245, 245, 180, 180, 180, 142, 142, 142, 185, 185, 185, 246, 246, 246, 253, 253, 253, 251, 251, 251, 239, 239, 239, 235, 235, 235, 235, 235, 235, 235, 235, 235, 236, 236, 236, 227, 227, 227, 204, 204, 204, 210, 210, 210, 209, 209, 209, 200, 200, 200, 197, 197, 197, 207, 207, 207, 205, 205, 205, 202, 202, 202, 209, 209, 209, 209, 209, 209, 206, 206, 206, 209, 209, 209, 233, 233, 233, 243, 243, 243, 241, 241, 241, 233, 233, 234, 236, 236, 236, 249, 249, 249, 253, 253, 253, 242, 242, 242, 208, 208, 208, 198, 198, 198, 202, 202, 202, 243, 243, 243, 253, 253, 253, 250, 250, 250, 236, 236, 236, 223, 223, 223, 220, 220, 220, 224, 224, 224, 224, 224, 224, 227, 227, 227, 226, 226, 226, 229, 229, 229, 226, 226, 226, 223, 223, 223, 219, 219, 219, 225, 225, 225, 223, 223, 223, 226, 226, 226, 227, 227, 227, 227, 227, 227, 224, 224, 224, 226, 226, 226, 225, 225, 225, 237, 237, 237, 234, 234, 234, 223, 223, 223, 228, 228, 228, 247, 247, 247, 254, 254, 254], \"height\": 32, \"channels\": 3, \"width\": 32, \"type\": \"image\", \"id\": 4803656720}, {\"format\": \"raw\", \"value\": [22, 42, 35, 19, 45, 36, 8, 46, 33, 16, 67, 50, 18, 75, 56, 32, 88, 69, 34, 81, 65, 26, 66, 56, 12, 45, 43, 17, 36, 35, 18, 28, 27, 23, 35, 33, 16, 40, 34, 14, 57, 45, 7, 60, 48, 10, 70, 58, 21, 83, 70, 30, 86, 76, 19, 76, 66, 18, 75, 61, 44, 89, 83, 68, 103, 107, 61, 100, 105, 74, 111, 119, 93, 128, 131, 99, 130, 120, 100, 132, 112, 127, 153, 136, 184, 185, 177, 195, 192, 187, 121, 134, 124, 163, 172, 163, 16, 42, 33, 19, 49, 39, 13, 47, 36, 14, 54, 41, 14, 59, 44, 19, 69, 52, 36, 83, 67, 36, 76, 67, 13, 52, 47, 14, 47, 41, 19, 36, 32, 24, 34, 33, 21, 41, 37, 14, 51, 41, 13, 62, 52, 16, 68, 59, 32, 84, 75, 31, 83, 73, 18, 75, 62, 17, 68, 56, 90, 121, 122, 138, 152, 169, 138, 150, 172, 136, 148, 172, 116, 128, 147, 94, 110, 109, 94, 132, 109, 66, 120, 91, 117, 141, 123, 176, 183, 169, 126, 146, 127, 159, 165, 151, 15, 44, 34, 15, 52, 40, 17, 54, 41, 13, 42, 32, 13, 45, 34, 15, 61, 45, 14, 67, 49, 16, 68, 55, 10, 62, 53, 13, 59, 48, 12, 38, 30, 12, 26, 23, 18, 38, 33, 13, 49, 39, 18, 60, 52, 24, 62, 57, 38, 74, 70, 24, 67, 60, 15, 68, 59, 22, 70, 64, 87, 114, 125, 118, 124, 150, 126, 124, 149, 121, 121, 147, 104, 107, 127, 80, 96, 95, 59, 104, 81, 56, 115, 87, 90, 128, 108, 128, 147, 134, 86, 118, 101, 119, 136, 124, 15, 43, 33, 10, 55, 40, 10, 54, 40, 9, 34, 28, 9, 35, 28, 7, 51, 38, 4, 57, 42, 4, 52, 43, 6, 51, 47, 10, 44, 40, 14, 40, 36, 13, 36, 34, 16, 43, 39, 13, 52, 43, 33, 80, 73, 57, 99, 95, 43, 83, 79, 31, 78, 73, 37, 86, 85, 54, 99, 102, 95, 125, 144, 120, 135, 166, 126, 142, 170, 125, 145, 173, 120, 145, 166, 105, 140, 150, 111, 154, 157, 123, 163, 167, 137, 172, 177, 144, 170, 181, 134, 171, 180, 150, 179, 191, 19, 50, 52, 15, 56, 56, 21, 69, 71, 27, 73, 81, 33, 72, 83, 40, 83, 91, 48, 93, 101, 57, 96, 110, 62, 99, 116, 71, 103, 121, 78, 109, 129, 84, 119, 136, 90, 127, 137, 94, 131, 143, 105, 143, 160, 123, 155, 174, 131, 161, 178, 131, 166, 180, 141, 172, 187, 149, 177, 194, 154, 178, 200, 159, 180, 204, 163, 185, 206, 162, 188, 209, 166, 192, 212, 167, 193, 212, 171, 196, 214, 176, 198, 217, 176, 198, 215, 177, 199, 217, 177, 200, 218, 175, 205, 219, 74, 121, 146, 85, 130, 156, 94, 142, 167, 102, 151, 173, 116, 157, 182, 124, 164, 189, 129, 171, 193, 134, 173, 192, 139, 175, 196, 143, 178, 199, 148, 179, 203, 150, 179, 199, 150, 180, 193, 153, 183, 199, 157, 186, 207, 163, 186, 209, 171, 190, 211, 169, 192, 209, 169, 189, 205, 171, 190, 206, 167, 187, 202, 154, 172, 186, 156, 168, 180, 156, 168, 181, 152, 162, 176, 161, 175, 189, 172, 190, 204, 172, 190, 204, 170, 188, 202, 169, 187, 198, 172, 183, 197, 166, 187, 201, 66, 118, 141, 74, 117, 140, 81, 118, 138, 80, 122, 136, 85, 123, 136, 86, 125, 142, 84, 126, 145, 97, 138, 153, 96, 132, 146, 88, 119, 132, 107, 131, 145, 93, 110, 122, 64, 82, 90, 65, 89, 99, 89, 118, 128, 105, 126, 136, 112, 126, 136, 115, 132, 138, 122, 139, 147, 123, 140, 148, 107, 124, 133, 64, 82, 89, 62, 77, 82, 62, 74, 78, 79, 93, 94, 88, 106, 107, 80, 95, 102, 72, 87, 96, 71, 86, 97, 68, 81, 90, 73, 75, 88, 67, 80, 98, 36, 84, 95, 9, 48, 55, 15, 46, 46, 14, 56, 57, 16, 58, 54, 19, 63, 68, 34, 81, 97, 100, 141, 158, 77, 110, 125, 24, 50, 62, 19, 41, 52, 22, 37, 48, 10, 26, 35, 13, 41, 53, 31, 60, 66, 96, 113, 117, 140, 147, 151, 161, 169, 172, 173, 186, 192, 175, 188, 196, 174, 188, 195, 164, 172, 180, 167, 155, 167, 148, 126, 137, 166, 150, 153, 136, 134, 133, 83, 89, 90, 24, 28, 35, 10, 14, 25, 11, 15, 23, 14, 7, 18, 9, 22, 33, 83, 137, 165, 36, 86, 108, 48, 87, 98, 54, 98, 109, 54, 98, 104, 57, 105, 120, 74, 123, 148, 157, 197, 219, 118, 149, 167, 51, 73, 88, 14, 39, 53, 44, 66, 81, 58, 78, 94, 60, 96, 114, 126, 157, 163, 211, 224, 227, 228, 231, 236, 225, 228, 232, 215, 224, 232, 210, 220, 230, 208, 218, 227, 210, 218, 228, 199, 196, 207, 136, 119, 129, 132, 126, 125, 118, 121, 113, 140, 138, 134, 112, 108, 112, 32, 25, 36, 23, 16, 26, 24, 11, 21, 31, 51, 50, 127, 173, 204, 126, 167, 193, 140, 175, 195, 144, 180, 200, 149, 184, 203, 152, 186, 208, 146, 178, 200, 173, 206, 223, 127, 158, 174, 71, 99, 115, 43, 74, 92, 75, 101, 119, 95, 109, 126, 150, 167, 181, 221, 235, 242, 227, 235, 241, 220, 226, 234, 217, 222, 231, 211, 216, 226, 203, 216, 226, 199, 214, 225, 193, 208, 222, 167, 184, 191, 111, 117, 116, 130, 143, 133, 96, 109, 94, 109, 115, 101, 145, 153, 147, 62, 57, 65, 19, 12, 22, 22, 12, 18, 34, 65, 55, 154, 192, 218, 161, 194, 219, 168, 196, 221, 173, 199, 223, 177, 202, 225, 185, 208, 229, 189, 207, 228, 189, 205, 228, 134, 158, 179, 72, 105, 123, 46, 72, 92, 102, 112, 134, 164, 166, 183, 226, 228, 240, 224, 229, 239, 215, 222, 233, 208, 217, 231, 202, 213, 229, 192, 207, 224, 182, 206, 222, 178, 205, 224, 179, 196, 217, 170, 170, 183, 153, 142, 144, 164, 143, 143, 170, 155, 153, 102, 110, 105, 70, 96, 94, 67, 91, 98, 19, 22, 35, 21, 8, 22, 24, 37, 39, 151, 190, 216, 157, 190, 218, 164, 194, 223, 166, 198, 223, 173, 200, 219, 163, 189, 204, 171, 197, 214, 189, 210, 231, 143, 159, 180, 90, 102, 123, 68, 76, 94, 122, 125, 141, 197, 199, 211, 206, 215, 223, 195, 207, 216, 181, 195, 206, 181, 200, 212, 186, 207, 222, 182, 201, 224, 178, 198, 222, 174, 195, 220, 173, 184, 206, 189, 153, 169, 204, 131, 147, 177, 124, 130, 131, 127, 125, 69, 93, 92, 50, 85, 87, 44, 79, 87, 40, 63, 74, 79, 99, 110, 80, 100, 110, 147, 186, 212, 157, 190, 212, 162, 194, 216, 166, 204, 223, 147, 168, 178, 81, 97, 103, 120, 133, 146, 186, 181, 200, 169, 142, 163, 149, 98, 122, 130, 78, 99, 129, 79, 97, 146, 96, 114, 161, 118, 133, 199, 158, 175, 207, 169, 188, 211, 181, 200, 220, 200, 219, 225, 213, 233, 218, 201, 222, 205, 189, 208, 186, 154, 171, 175, 95, 109, 180, 101, 106, 179, 126, 122, 149, 119, 116, 137, 115, 118, 131, 101, 109, 122, 81, 97, 120, 96, 110, 170, 182, 195, 171, 177, 200, 148, 187, 208, 121, 154, 164, 78, 108, 115, 144, 161, 179, 135, 125, 134, 138, 115, 125, 175, 145, 162, 191, 147, 164, 189, 135, 149, 195, 133, 143, 195, 133, 142, 187, 124, 135, 181, 113, 127, 186, 121, 135, 203, 137, 150, 216, 154, 167, 228, 176, 188, 225, 178, 189, 225, 171, 181, 211, 146, 156, 211, 142, 150, 213, 146, 148, 205, 134, 129, 195, 135, 120, 197, 133, 122, 185, 108, 105, 166, 86, 84, 148, 72, 71, 141, 67, 67, 125, 74, 77, 174, 179, 187, 153, 165, 189, 84, 116, 124, 67, 93, 89, 51, 68, 70, 146, 136, 156, 187, 153, 178, 225, 172, 207, 229, 176, 214, 221, 178, 207, 227, 187, 207, 230, 193, 209, 238, 196, 213, 240, 190, 211, 232, 179, 203, 236, 183, 209, 236, 179, 205, 234, 187, 204, 235, 189, 195, 220, 152, 156, 201, 107, 109, 196, 102, 101, 215, 121, 128, 217, 142, 126, 203, 136, 116, 169, 89, 71, 149, 65, 48, 142, 58, 46, 131, 54, 46, 128, 69, 61, 120, 66, 68, 105, 62, 71, 135, 141, 147, 98, 120, 136, 26, 61, 53, 45, 83, 67, 95, 122, 120, 201, 204, 218, 152, 148, 171, 130, 118, 151, 154, 134, 172, 160, 129, 166, 168, 126, 158, 187, 131, 169, 190, 136, 177, 189, 143, 181, 200, 154, 189, 208, 162, 195, 208, 159, 193, 207, 158, 180, 195, 123, 129, 206, 95, 95, 209, 86, 76, 195, 94, 84, 165, 104, 105, 144, 77, 61, 147, 63, 44, 141, 54, 39, 136, 53, 39, 130, 57, 49, 126, 60, 59, 124, 72, 75, 76, 44, 59, 66, 45, 64, 55, 67, 82, 31, 57, 75, 48, 94, 71, 51, 81, 62, 103, 106, 113, 157, 159, 184, 72, 79, 106, 36, 48, 78, 72, 88, 118, 51, 66, 91, 46, 54, 76, 91, 90, 118, 129, 126, 160, 163, 162, 192, 181, 181, 203, 208, 209, 224, 210, 210, 214, 228, 215, 199, 217, 162, 128, 191, 88, 52, 189, 70, 48, 130, 54, 52, 38, 38, 41, 79, 43, 44, 149, 62, 50, 150, 64, 56, 141, 67, 63, 128, 69, 68, 125, 69, 74, 111, 66, 79, 73, 73, 91, 64, 74, 96, 108, 136, 157, 105, 140, 165, 37, 89, 57, 63, 68, 48, 165, 113, 128, 180, 135, 168, 138, 100, 132, 119, 86, 117, 110, 83, 112, 92, 71, 94, 79, 68, 85, 84, 83, 102, 116, 102, 134, 147, 121, 157, 155, 131, 160, 178, 155, 180, 191, 164, 192, 211, 170, 178, 209, 135, 119, 192, 84, 63, 163, 69, 56, 66, 45, 57, 7, 45, 61, 49, 43, 61, 143, 65, 62, 142, 65, 63, 124, 61, 61, 104, 55, 56, 96, 53, 59, 80, 56, 71, 111, 130, 153, 91, 116, 143, 125, 159, 186, 129, 162, 192, 37, 97, 58, 59, 74, 41, 107, 53, 51, 155, 77, 81, 171, 88, 91, 178, 90, 95, 178, 84, 89, 187, 85, 88, 185, 85, 87, 184, 83, 91, 197, 97, 130, 203, 104, 154, 202, 104, 152, 205, 107, 155, 210, 109, 158, 203, 101, 123, 199, 90, 84, 194, 72, 61, 156, 77, 68, 98, 117, 130, 101, 126, 144, 59, 58, 77, 117, 56, 60, 118, 53, 56, 103, 50, 49, 90, 45, 45, 78, 47, 50, 59, 57, 67, 112, 134, 159, 123, 145, 176, 129, 158, 188, 138, 162, 194, 39, 103, 61, 54, 86, 52, 85, 55, 48, 102, 43, 19, 123, 44, 21, 138, 49, 36, 157, 60, 49, 169, 62, 44, 178, 68, 49, 195, 69, 51, 208, 76, 75, 213, 84, 99, 206, 86, 98, 213, 92, 101, 218, 100, 110, 197, 81, 68, 188, 75, 44, 182, 72, 48, 146, 84, 76, 123, 147, 163, 169, 179, 201, 102, 104, 118, 91, 53, 64, 105, 62, 69, 86, 54, 61, 64, 47, 53, 45, 36, 42, 29, 29, 43, 116, 134, 155, 132, 153, 182, 137, 159, 190, 150, 169, 198, 38, 103, 56, 53, 95, 59, 92, 76, 75, 125, 53, 53, 112, 37, 31, 88, 32, 23, 81, 33, 27, 101, 44, 39, 100, 44, 38, 130, 58, 48, 169, 69, 43, 186, 73, 50, 177, 91, 83, 183, 105, 107, 190, 98, 102, 191, 77, 65, 195, 72, 50, 175, 72, 56, 138, 98, 99, 143, 165, 187, 162, 173, 194, 133, 142, 154, 58, 50, 63, 54, 44, 54, 29, 28, 41, 13, 23, 35, 14, 21, 32, 15, 17, 36, 53, 71, 90, 80, 112, 134, 95, 128, 152, 105, 138, 162, 38, 100, 56, 44, 95, 60, 54, 70, 69, 87, 64, 79, 97, 57, 70, 87, 41, 50, 84, 34, 35, 104, 48, 40, 85, 30, 24, 104, 38, 30, 153, 54, 38, 185, 78, 70, 171, 121, 126, 177, 163, 174, 178, 152, 156, 165, 87, 83, 184, 68, 63, 163, 70, 66, 127, 110, 122, 150, 172, 197, 160, 172, 187, 134, 150, 159, 19, 41, 54, 21, 44, 58, 23, 50, 67, 33, 58, 74, 51, 67, 83, 63, 77, 98, 62, 86, 107, 74, 108, 126, 83, 118, 137, 85, 119, 144, 41, 93, 76, 61, 110, 95, 69, 109, 118, 67, 101, 121, 80, 96, 118, 78, 76, 95, 59, 38, 46, 77, 34, 37, 87, 40, 49, 97, 47, 52, 119, 55, 54, 146, 70, 76, 138, 86, 94, 140, 95, 102, 150, 100, 119, 143, 75, 94, 118, 48, 58, 90, 55, 59, 101, 113, 130, 135, 154, 180, 164, 181, 191, 103, 126, 137, 27, 62, 78, 50, 88, 108, 70, 107, 128, 97, 126, 148, 114, 135, 159, 116, 136, 161, 119, 142, 168, 124, 146, 170, 129, 148, 174, 139, 158, 188, 56, 97, 116, 65, 105, 117, 62, 102, 127, 60, 99, 125, 54, 93, 121, 42, 79, 101, 20, 50, 61, 20, 37, 48, 28, 41, 58, 32, 44, 59, 36, 52, 61, 47, 56, 72, 46, 54, 76, 51, 46, 69, 64, 57, 78, 50, 53, 68, 22, 32, 44, 12, 33, 46, 70, 99, 119, 144, 159, 184, 148, 172, 182, 57, 83, 101, 74, 102, 122, 94, 126, 153, 107, 134, 161, 121, 142, 170, 130, 150, 181, 133, 154, 184, 137, 155, 185, 135, 153, 184, 134, 153, 184, 143, 163, 191, 52, 92, 122, 50, 90, 115, 45, 86, 112, 36, 78, 98, 34, 74, 96, 29, 66, 88, 31, 68, 82, 31, 69, 76, 30, 66, 75, 29, 66, 72, 38, 70, 76, 45, 71, 83, 40, 74, 87, 40, 75, 89, 40, 74, 89, 33, 69, 83, 35, 64, 83, 15, 36, 59, 13, 38, 59, 71, 90, 114, 48, 72, 94, 73, 97, 123, 122, 142, 169, 125, 147, 177, 128, 148, 178, 131, 148, 177, 136, 154, 184, 143, 161, 191, 139, 155, 185, 137, 157, 188, 140, 162, 193, 142, 165, 194, 61, 103, 128, 57, 98, 124, 55, 95, 120, 53, 92, 114, 50, 89, 110, 45, 84, 105, 44, 82, 102, 46, 81, 99, 44, 79, 94, 43, 80, 91, 53, 85, 99, 59, 88, 105, 55, 85, 101, 50, 80, 96, 50, 83, 101, 56, 88, 108, 67, 96, 116, 64, 90, 111, 55, 77, 98, 57, 78, 103, 84, 105, 133, 119, 139, 169, 132, 150, 179, 134, 152, 181, 138, 156, 185, 145, 162, 190, 146, 162, 189, 155, 171, 198, 158, 174, 201, 157, 173, 201, 158, 174, 202, 163, 180, 208, 71, 108, 136, 74, 111, 138, 70, 107, 134, 66, 105, 132, 64, 103, 130, 64, 103, 131, 67, 104, 131, 72, 106, 132, 73, 107, 130, 70, 105, 125, 75, 107, 128, 79, 108, 132, 73, 103, 126, 72, 101, 125, 75, 104, 126, 86, 113, 135, 103, 127, 151, 118, 140, 164, 122, 142, 167, 126, 145, 171, 139, 159, 185, 147, 165, 193, 145, 161, 189, 145, 161, 189, 143, 159, 187, 148, 163, 190, 154, 169, 195, 168, 182, 208, 174, 188, 215, 173, 185, 209, 173, 184, 207, 180, 191, 214, 79, 112, 141, 88, 120, 149, 86, 119, 148, 83, 116, 146, 84, 117, 147, 86, 119, 149, 92, 122, 154, 94, 121, 153, 96, 124, 153, 95, 123, 149, 96, 121, 147, 105, 129, 156, 110, 133, 160, 111, 135, 162, 114, 138, 164, 120, 142, 169, 131, 150, 177, 136, 153, 182, 133, 149, 178, 136, 152, 180, 137, 154, 180, 147, 163, 188, 156, 171, 197, 154, 169, 195, 149, 164, 190, 156, 170, 195, 163, 175, 200, 167, 179, 204, 172, 184, 209, 178, 188, 211, 177, 187, 208, 175, 185, 207, 92, 121, 151, 97, 126, 156, 96, 124, 154, 98, 124, 154, 104, 129, 159, 109, 134, 164, 113, 136, 167, 116, 135, 168, 121, 140, 170, 121, 141, 169, 126, 143, 170, 130, 146, 173, 131, 147, 174, 133, 149, 175, 134, 152, 180, 138, 156, 185, 142, 156, 187, 139, 152, 184, 139, 153, 185, 146, 160, 190, 144, 159, 184, 152, 166, 190, 163, 175, 200, 160, 173, 198, 159, 172, 197, 166, 178, 202, 171, 182, 204, 165, 176, 199, 166, 177, 199, 165, 177, 201, 170, 182, 207, 172, 185, 209, 107, 133, 162, 105, 132, 160, 104, 130, 158, 105, 130, 159, 113, 137, 166, 114, 136, 166, 113, 133, 162, 120, 138, 166, 126, 144, 171, 133, 151, 177, 138, 153, 179, 147, 160, 185, 157, 168, 193, 156, 166, 189, 155, 166, 191, 157, 167, 194, 154, 163, 190, 153, 162, 189, 154, 166, 194, 159, 171, 198, 152, 166, 190, 158, 171, 194, 165, 176, 200, 171, 181, 206, 173, 184, 209, 179, 188, 212, 178, 185, 209, 171, 178, 202, 171, 179, 202, 170, 181, 207, 165, 180, 209, 168, 182, 211, 103, 129, 157, 100, 126, 153, 103, 129, 157, 106, 133, 162, 110, 134, 164, 114, 135, 166, 117, 136, 166, 124, 142, 168, 130, 149, 175, 136, 155, 181, 143, 159, 185, 148, 162, 187, 156, 166, 189, 165, 173, 194, 176, 182, 205, 178, 184, 208, 167, 173, 197, 164, 171, 195, 162, 173, 197, 162, 173, 197, 157, 168, 192, 157, 168, 192, 162, 170, 196, 166, 174, 200, 169, 178, 203, 176, 183, 208, 181, 186, 210, 181, 187, 211, 179, 184, 208, 169, 180, 206, 163, 177, 206, 170, 181, 206, 103, 130, 157, 102, 128, 155, 104, 130, 158, 111, 137, 165, 120, 142, 172, 126, 145, 175, 135, 152, 181, 141, 157, 183, 142, 158, 185, 146, 162, 189, 147, 162, 189, 151, 165, 191, 155, 165, 189, 162, 170, 192, 169, 176, 199, 171, 177, 202, 167, 173, 198, 171, 177, 201, 174, 184, 207, 176, 186, 209, 171, 182, 205, 173, 183, 206, 173, 180, 204, 174, 180, 205, 178, 185, 209, 180, 187, 211, 180, 186, 210, 181, 188, 212, 181, 187, 211, 170, 180, 207, 174, 183, 209, 180, 187, 200], \"height\": 32, \"channels\": 3, \"width\": 32, \"type\": \"image\", \"id\": 4803656848}, {\"format\": \"raw\", \"value\": [110, 118, 104, 98, 104, 80, 92, 100, 68, 95, 110, 60, 112, 120, 99, 114, 116, 104, 107, 104, 68, 122, 118, 69, 122, 123, 78, 116, 121, 86, 108, 113, 97, 145, 147, 146, 148, 156, 157, 132, 142, 145, 130, 141, 142, 100, 116, 114, 82, 94, 94, 100, 108, 110, 94, 104, 104, 98, 109, 115, 164, 172, 181, 230, 232, 234, 240, 240, 238, 240, 240, 239, 240, 240, 240, 240, 239, 239, 233, 234, 235, 191, 203, 204, 153, 173, 156, 155, 177, 165, 152, 177, 178, 121, 159, 157, 129, 134, 137, 115, 118, 115, 103, 108, 91, 111, 113, 96, 107, 110, 95, 103, 108, 78, 104, 102, 70, 105, 105, 69, 116, 120, 71, 115, 120, 80, 111, 113, 93, 122, 126, 115, 122, 131, 111, 102, 117, 100, 93, 106, 97, 86, 95, 89, 84, 95, 88, 92, 103, 96, 94, 102, 97, 125, 129, 134, 184, 190, 195, 233, 233, 234, 242, 242, 243, 243, 243, 244, 242, 242, 242, 242, 242, 242, 201, 212, 219, 147, 170, 177, 133, 158, 133, 136, 158, 131, 138, 163, 161, 110, 144, 139, 138, 143, 148, 134, 134, 143, 116, 121, 113, 119, 123, 107, 108, 110, 82, 111, 115, 66, 117, 114, 67, 104, 106, 70, 108, 112, 73, 98, 102, 79, 98, 100, 84, 110, 115, 102, 104, 113, 93, 101, 115, 91, 95, 107, 95, 83, 89, 75, 77, 79, 65, 92, 103, 86, 120, 129, 114, 167, 171, 168, 178, 185, 186, 207, 210, 208, 229, 233, 230, 229, 234, 229, 239, 240, 237, 224, 225, 225, 166, 176, 188, 139, 156, 164, 127, 152, 122, 117, 143, 105, 121, 145, 128, 117, 137, 116, 160, 167, 165, 135, 136, 132, 103, 108, 90, 100, 106, 73, 111, 114, 73, 120, 120, 75, 118, 115, 70, 112, 112, 78, 116, 116, 80, 96, 97, 75, 92, 93, 76, 114, 118, 94, 96, 109, 90, 86, 101, 81, 84, 94, 78, 82, 86, 66, 81, 82, 66, 90, 99, 87, 115, 129, 113, 142, 149, 137, 155, 159, 156, 180, 187, 172, 196, 211, 188, 197, 213, 194, 221, 228, 218, 204, 206, 207, 147, 155, 158, 139, 152, 145, 121, 142, 111, 108, 134, 91, 114, 137, 99, 108, 124, 94, 110, 119, 112, 103, 110, 106, 103, 111, 105, 101, 108, 93, 104, 110, 83, 113, 115, 82, 122, 122, 75, 125, 126, 92, 137, 138, 103, 112, 114, 77, 96, 98, 76, 108, 112, 88, 99, 106, 83, 97, 105, 78, 92, 98, 77, 88, 92, 69, 82, 82, 66, 82, 89, 77, 96, 106, 93, 116, 116, 103, 145, 151, 143, 164, 179, 156, 172, 192, 165, 174, 196, 174, 179, 194, 174, 172, 177, 173, 149, 154, 155, 140, 148, 136, 114, 130, 109, 104, 128, 84, 108, 127, 80, 97, 113, 81, 97, 109, 100, 96, 101, 95, 92, 96, 86, 90, 94, 85, 94, 101, 96, 102, 108, 95, 121, 123, 96, 131, 134, 95, 146, 149, 118, 128, 134, 94, 97, 101, 77, 95, 103, 89, 98, 109, 91, 92, 105, 84, 80, 92, 75, 86, 91, 72, 92, 97, 80, 96, 100, 87, 123, 123, 113, 151, 148, 137, 146, 153, 138, 155, 172, 148, 160, 179, 139, 164, 186, 143, 169, 184, 153, 153, 158, 151, 148, 152, 155, 145, 146, 134, 118, 125, 104, 105, 126, 78, 101, 124, 67, 92, 109, 71, 97, 104, 88, 87, 91, 84, 97, 100, 94, 96, 98, 89, 95, 101, 92, 94, 102, 87, 91, 96, 81, 99, 101, 79, 123, 128, 114, 125, 133, 114, 101, 104, 89, 95, 97, 87, 94, 103, 93, 89, 99, 86, 95, 98, 80, 98, 97, 77, 86, 85, 68, 95, 94, 77, 112, 113, 100, 147, 152, 140, 159, 162, 149, 160, 170, 146, 147, 164, 117, 142, 159, 109, 150, 163, 126, 142, 146, 126, 140, 142, 134, 147, 147, 126, 129, 131, 94, 110, 129, 70, 95, 122, 59, 97, 115, 73, 104, 101, 87, 85, 92, 86, 100, 108, 96, 98, 107, 93, 104, 111, 102, 103, 110, 90, 97, 100, 83, 97, 97, 80, 111, 117, 105, 112, 120, 102, 103, 111, 94, 100, 103, 104, 105, 110, 111, 105, 112, 106, 101, 105, 92, 111, 107, 94, 115, 110, 102, 145, 142, 139, 166, 156, 157, 176, 166, 167, 192, 181, 182, 189, 183, 178, 179, 174, 163, 163, 165, 147, 151, 166, 139, 134, 145, 115, 129, 142, 95, 126, 137, 94, 121, 134, 104, 97, 116, 74, 85, 109, 56, 82, 104, 62, 106, 119, 104, 90, 98, 94, 80, 91, 78, 79, 93, 76, 138, 144, 123, 140, 143, 101, 100, 103, 86, 101, 105, 89, 112, 118, 112, 104, 111, 103, 106, 108, 94, 104, 106, 96, 99, 104, 96, 96, 100, 93, 124, 124, 123, 176, 168, 174, 182, 176, 184, 171, 171, 180, 162, 158, 173, 157, 148, 166, 159, 147, 164, 167, 149, 167, 182, 151, 171, 206, 168, 183, 216, 196, 203, 191, 186, 187, 148, 148, 130, 126, 143, 102, 117, 136, 116, 98, 109, 86, 84, 93, 59, 76, 89, 60, 84, 99, 79, 80, 92, 77, 81, 93, 79, 84, 92, 79, 99, 106, 86, 113, 112, 79, 102, 98, 81, 104, 105, 87, 114, 124, 110, 103, 114, 103, 114, 116, 109, 127, 127, 118, 109, 116, 97, 120, 123, 117, 184, 182, 188, 219, 222, 227, 203, 210, 214, 177, 193, 199, 176, 197, 208, 177, 204, 217, 180, 205, 219, 176, 202, 214, 166, 192, 204, 165, 144, 164, 162, 130, 143, 139, 129, 136, 157, 137, 145, 150, 142, 128, 112, 124, 80, 96, 111, 67, 92, 98, 64, 79, 86, 62, 85, 101, 81, 81, 100, 78, 86, 100, 80, 86, 88, 76, 91, 94, 80, 97, 92, 78, 104, 91, 83, 114, 110, 93, 103, 114, 103, 95, 111, 98, 100, 111, 106, 128, 140, 141, 115, 128, 110, 167, 174, 171, 229, 234, 240, 227, 232, 235, 191, 204, 207, 183, 200, 210, 183, 203, 217, 185, 213, 225, 183, 212, 225, 184, 213, 224, 183, 216, 226, 161, 159, 175, 157, 154, 162, 147, 170, 181, 128, 122, 135, 138, 112, 121, 111, 117, 89, 97, 114, 62, 98, 111, 67, 96, 109, 67, 85, 95, 83, 81, 92, 79, 85, 91, 78, 86, 84, 75, 90, 92, 79, 96, 90, 78, 106, 91, 81, 107, 95, 75, 109, 111, 106, 125, 136, 129, 122, 124, 117, 141, 145, 143, 146, 148, 145, 206, 210, 213, 228, 231, 235, 216, 220, 223, 193, 201, 205, 194, 199, 209, 195, 200, 212, 184, 205, 217, 166, 202, 216, 176, 209, 222, 176, 205, 218, 164, 159, 173, 176, 183, 183, 179, 207, 209, 150, 157, 164, 158, 135, 146, 126, 122, 120, 108, 116, 84, 99, 113, 79, 101, 114, 79, 81, 83, 77, 83, 82, 78, 92, 89, 85, 91, 87, 79, 85, 83, 73, 105, 93, 73, 131, 107, 84, 153, 118, 110, 176, 152, 161, 195, 173, 188, 197, 174, 183, 206, 188, 191, 213, 195, 199, 227, 215, 221, 229, 217, 223, 224, 215, 219, 217, 210, 214, 218, 207, 214, 215, 206, 214, 205, 206, 215, 190, 199, 211, 185, 199, 210, 173, 190, 203, 166, 160, 173, 168, 181, 183, 150, 176, 183, 139, 147, 155, 171, 141, 152, 144, 137, 146, 108, 113, 105, 100, 111, 110, 94, 106, 110, 84, 79, 74, 97, 83, 77, 115, 99, 92, 126, 113, 98, 129, 107, 95, 155, 124, 101, 177, 118, 105, 205, 126, 148, 219, 155, 185, 221, 152, 188, 224, 159, 192, 229, 172, 199, 230, 179, 200, 229, 182, 202, 229, 185, 204, 229, 187, 203, 229, 186, 202, 229, 186, 201, 227, 190, 203, 226, 190, 205, 224, 187, 202, 214, 185, 198, 196, 173, 186, 185, 163, 173, 176, 164, 174, 147, 145, 160, 152, 149, 161, 177, 160, 172, 164, 160, 173, 129, 127, 126, 94, 111, 123, 105, 120, 128, 159, 130, 99, 169, 141, 106, 173, 149, 140, 204, 160, 171, 215, 175, 186, 211, 162, 171, 201, 116, 133, 208, 130, 157, 210, 119, 152, 212, 110, 147, 217, 121, 162, 222, 142, 176, 227, 162, 187, 228, 172, 193, 229, 173, 193, 228, 171, 192, 226, 165, 186, 224, 162, 180, 225, 165, 184, 226, 164, 187, 225, 160, 179, 224, 154, 171, 211, 140, 157, 201, 143, 154, 209, 138, 154, 207, 161, 173, 214, 184, 195, 208, 177, 192, 202, 172, 189, 179, 153, 167, 116, 121, 129, 140, 139, 124, 203, 161, 103, 202, 177, 138, 189, 178, 187, 203, 120, 147, 220, 131, 163, 214, 123, 150, 195, 110, 134, 171, 154, 172, 187, 110, 132, 207, 93, 123, 217, 124, 158, 228, 166, 193, 224, 192, 206, 223, 194, 203, 227, 198, 207, 231, 206, 215, 232, 208, 215, 234, 208, 213, 234, 211, 219, 233, 210, 218, 231, 204, 210, 230, 201, 207, 229, 193, 204, 223, 180, 191, 226, 174, 187, 223, 160, 178, 216, 121, 146, 197, 99, 122, 191, 90, 113, 202, 128, 148, 190, 162, 169, 175, 154, 123, 191, 164, 97, 202, 184, 150, 171, 159, 159, 139, 39, 47, 177, 62, 86, 198, 97, 120, 198, 97, 121, 192, 95, 120, 200, 86, 113, 207, 93, 123, 211, 110, 143, 207, 125, 155, 207, 140, 163, 203, 174, 188, 200, 188, 199, 225, 175, 193, 228, 175, 194, 228, 175, 192, 227, 168, 184, 223, 155, 170, 219, 136, 151, 214, 118, 137, 211, 104, 124, 206, 92, 111, 204, 89, 107, 199, 76, 97, 196, 67, 88, 189, 69, 89, 181, 63, 80, 197, 96, 115, 205, 112, 136, 173, 114, 112, 191, 174, 98, 202, 185, 129, 137, 114, 100, 120, 38, 46, 160, 75, 94, 171, 137, 158, 177, 149, 166, 180, 142, 162, 186, 118, 141, 190, 95, 121, 187, 65, 93, 182, 60, 87, 185, 83, 106, 194, 180, 190, 182, 182, 186, 195, 113, 128, 210, 85, 108, 206, 77, 99, 202, 67, 87, 201, 62, 84, 201, 60, 82, 196, 55, 72, 187, 67, 83, 184, 67, 83, 190, 53, 68, 190, 54, 69, 188, 58, 72, 186, 63, 79, 180, 67, 81, 180, 62, 80, 186, 65, 83, 164, 81, 89, 186, 172, 102, 203, 182, 119, 127, 106, 93, 101, 78, 96, 120, 108, 124, 113, 121, 135, 125, 131, 141, 134, 140, 152, 150, 156, 169, 172, 160, 176, 171, 88, 105, 160, 38, 56, 155, 51, 63, 203, 191, 194, 174, 170, 168, 145, 51, 55, 180, 51, 67, 186, 69, 85, 189, 71, 89, 181, 71, 90, 173, 70, 88, 176, 68, 83, 170, 80, 95, 167, 74, 88, 181, 50, 65, 185, 51, 67, 179, 51, 66, 179, 55, 71, 170, 56, 71, 157, 51, 64, 155, 69, 84, 153, 88, 94, 176, 161, 101, 193, 175, 118, 132, 131, 128, 80, 79, 95, 70, 74, 90, 74, 77, 93, 81, 82, 93, 91, 93, 102, 109, 110, 118, 125, 130, 137, 149, 135, 145, 174, 119, 134, 169, 96, 108, 170, 140, 149, 134, 107, 110, 123, 24, 29, 163, 54, 67, 176, 86, 100, 154, 79, 93, 92, 64, 75, 70, 48, 56, 130, 45, 56, 175, 46, 57, 171, 41, 53, 174, 44, 55, 176, 47, 57, 174, 48, 59, 171, 52, 64, 159, 48, 62, 138, 47, 57, 119, 82, 85, 115, 73, 77, 169, 148, 92, 171, 157, 117, 122, 126, 135, 79, 81, 99, 69, 72, 89, 79, 84, 100, 93, 97, 112, 86, 92, 105, 84, 89, 101, 78, 80, 94, 88, 89, 101, 99, 100, 110, 136, 119, 131, 146, 128, 140, 120, 73, 82, 133, 17, 25, 162, 19, 30, 169, 25, 35, 121, 50, 58, 65, 60, 67, 21, 23, 27, 75, 14, 21, 175, 32, 43, 169, 34, 45, 167, 39, 48, 166, 43, 51, 163, 43, 51, 160, 48, 57, 149, 41, 52, 129, 42, 50, 142, 121, 111, 122, 110, 81, 155, 125, 76, 146, 140, 135, 157, 162, 173, 133, 139, 148, 87, 101, 128, 80, 91, 118, 86, 93, 112, 65, 67, 79, 91, 94, 108, 107, 108, 128, 85, 85, 102, 78, 83, 101, 83, 83, 99, 108, 110, 123, 154, 127, 141, 148, 36, 44, 162, 17, 26, 168, 44, 52, 125, 96, 97, 129, 116, 112, 85, 82, 87, 50, 16, 23, 156, 26, 37, 162, 31, 42, 153, 32, 41, 155, 33, 43, 152, 35, 47, 146, 49, 58, 130, 52, 61, 115, 54, 60, 178, 167, 158, 190, 191, 158, 133, 96, 63, 130, 119, 114, 169, 173, 188, 199, 208, 223, 123, 152, 204, 108, 131, 188, 128, 144, 177, 135, 138, 150, 115, 116, 127, 105, 107, 126, 81, 81, 99, 73, 77, 93, 65, 65, 77, 95, 93, 108, 162, 164, 180, 151, 63, 74, 160, 8, 16, 137, 49, 57, 74, 72, 76, 85, 75, 68, 139, 130, 124, 59, 33, 39, 137, 19, 25, 153, 26, 34, 144, 26, 34, 140, 36, 43, 131, 58, 67, 111, 74, 84, 59, 44, 50, 85, 74, 77, 176, 173, 177, 190, 191, 193, 133, 104, 76, 143, 113, 83, 119, 103, 97, 119, 117, 131, 99, 118, 169, 101, 112, 171, 141, 158, 202, 233, 239, 243, 215, 217, 219, 196, 201, 205, 170, 170, 179, 150, 144, 161, 132, 124, 142, 130, 127, 147, 151, 151, 170, 151, 75, 86, 149, 17, 24, 128, 84, 94, 172, 180, 184, 91, 87, 86, 132, 123, 110, 84, 55, 59, 129, 17, 23, 142, 39, 44, 135, 66, 73, 107, 77, 87, 59, 52, 60, 31, 29, 33, 13, 11, 13, 58, 56, 61, 118, 117, 125, 150, 153, 165, 151, 120, 85, 149, 115, 81, 155, 119, 84, 160, 129, 99, 85, 78, 87, 43, 53, 104, 103, 110, 145, 186, 186, 192, 195, 198, 210, 225, 228, 235, 252, 252, 252, 250, 251, 251, 237, 237, 242, 217, 219, 223, 209, 209, 218, 217, 206, 214, 200, 177, 181, 160, 158, 165, 203, 175, 187, 111, 80, 87, 127, 122, 109, 88, 65, 67, 110, 52, 61, 105, 84, 93, 57, 55, 62, 31, 31, 35, 35, 35, 36, 55, 51, 54, 75, 71, 74, 86, 85, 88, 102, 103, 110, 140, 140, 152, 150, 129, 109, 137, 120, 109, 122, 109, 101, 116, 104, 96, 80, 73, 72, 15, 16, 19, 8, 9, 13, 25, 22, 28, 73, 73, 89, 114, 114, 134, 161, 161, 172, 174, 180, 192, 184, 191, 205, 227, 229, 233, 234, 235, 237, 229, 233, 235, 189, 194, 204, 121, 119, 133, 124, 79, 90, 94, 67, 72, 140, 135, 130, 58, 55, 54, 30, 29, 30, 32, 32, 37, 37, 35, 37, 61, 56, 58, 90, 85, 89, 118, 114, 120, 132, 130, 137, 139, 138, 148, 144, 143, 155, 148, 148, 162, 115, 110, 117, 99, 96, 104, 82, 79, 87, 65, 62, 71, 46, 42, 50, 23, 21, 22, 8, 9, 9, 3, 4, 5, 10, 9, 11, 12, 9, 14, 19, 17, 22, 35, 33, 41, 62, 58, 71, 98, 92, 106, 115, 109, 124, 111, 103, 117, 102, 98, 110, 76, 71, 76, 84, 73, 77, 115, 107, 111, 153, 147, 149, 48, 44, 48, 40, 36, 38, 62, 56, 60, 91, 85, 88, 122, 116, 122, 140, 134, 143, 146, 142, 151, 149, 145, 155, 154, 152, 162, 159, 157, 166, 160, 159, 169, 110, 113, 125, 96, 96, 107, 83, 80, 88, 67, 65, 69, 50, 46, 52, 37, 34, 39, 28, 27, 31, 21, 21, 24, 13, 14, 15, 9, 9, 11, 5, 5, 6, 4, 4, 3, 6, 4, 5, 8, 5, 7, 10, 7, 9, 10, 8, 12, 69, 67, 72, 94, 91, 96, 90, 91, 97, 162, 158, 162, 129, 122, 131, 66, 61, 64, 88, 83, 88, 114, 109, 113, 133, 127, 132, 147, 140, 148, 158, 151, 160, 159, 156, 164, 161, 159, 169, 167, 164, 176, 168, 168, 179, 166, 167, 179, 130, 133, 145, 121, 121, 133, 110, 108, 120, 95, 93, 101, 77, 75, 82, 61, 58, 65, 50, 48, 53, 40, 39, 43, 32, 30, 34, 26, 23, 27, 19, 18, 21, 14, 14, 15, 12, 12, 12, 9, 8, 10, 6, 6, 6, 6, 5, 6, 45, 44, 50, 125, 123, 131, 162, 161, 166, 149, 146, 153, 101, 95, 101, 111, 105, 107, 131, 125, 129, 145, 138, 143, 152, 146, 151, 160, 153, 161, 166, 159, 168, 162, 159, 169, 160, 159, 172, 162, 162, 175, 160, 161, 176, 161, 163, 178, 144, 147, 158, 141, 140, 154, 134, 134, 147, 126, 124, 134, 111, 108, 118, 94, 91, 102, 79, 77, 86, 67, 64, 73, 57, 53, 62, 47, 44, 51, 39, 38, 43, 34, 33, 37, 31, 30, 33, 26, 26, 29, 22, 21, 25, 18, 18, 20, 26, 25, 30, 76, 74, 82, 120, 118, 126, 115, 111, 117, 131, 124, 127, 146, 139, 145, 154, 148, 154, 158, 152, 160, 160, 154, 163, 166, 160, 169, 169, 163, 172, 163, 161, 173, 157, 159, 173, 160, 162, 175, 161, 162, 178, 164, 166, 181, 149, 152, 164, 148, 148, 161, 146, 147, 162, 143, 144, 157, 139, 138, 152, 128, 125, 139, 114, 112, 124, 100, 98, 110, 88, 87, 99, 78, 77, 87, 72, 69, 79, 67, 65, 73, 65, 62, 69, 62, 59, 67, 64, 62, 69, 70, 67, 74, 81, 76, 83, 97, 92, 98, 118, 114, 119, 147, 141, 145, 158, 151, 157, 159, 153, 161, 164, 157, 167, 162, 157, 167, 160, 156, 166, 168, 164, 174, 167, 165, 177, 165, 165, 178, 164, 166, 180, 165, 168, 183, 166, 168, 184, 172, 174, 187, 150, 154, 168, 151, 155, 168, 157, 158, 173, 158, 158, 173, 153, 153, 168, 148, 148, 163, 141, 140, 155, 131, 130, 145, 126, 125, 139, 118, 116, 129, 109, 106, 118, 103, 100, 112, 99, 96, 107, 100, 95, 105, 107, 101, 110, 115, 109, 121, 123, 117, 128, 136, 129, 139, 153, 146, 155, 158, 152, 161, 160, 156, 165, 162, 156, 165, 164, 158, 164, 158, 154, 165, 157, 155, 168, 161, 160, 173, 163, 163, 178, 164, 164, 178, 165, 166, 180, 162, 164, 178, 163, 165, 179, 168, 170, 184], \"height\": 32, \"channels\": 3, \"width\": 32, \"type\": \"image\", \"id\": 4803657424}], \"selected_variable\": {\"name\": [\"<SArray>\"], \"dtype\": \"Image\", \"view_component\": \"Images\", \"view_file\": \"sarray\", \"descriptives\": {\"rows\": 5}, \"type\": \"SArray\", \"view_components\": [\"Images\"]}}, e);\n",
       "                });\n",
       "            })();\n",
       "        "
      ]
     },
     "metadata": {},
     "output_type": "display_data"
    }
   ],
   "source": [
    "get_result(199)"
   ]
  },
  {
   "cell_type": "code",
   "execution_count": 75,
   "metadata": {
    "collapsed": false
   },
   "outputs": [
    {
     "data": {
      "text/html": [
       "<div style=\"max-height:1000px;max-width:1500px;overflow:auto;\"><table frame=\"box\" rules=\"cols\">\n",
       "    <tr>\n",
       "        <th style=\"padding-left: 1em; padding-right: 1em; text-align: center\">label</th>\n",
       "        <th style=\"padding-left: 1em; padding-right: 1em; text-align: center\">image</th>\n",
       "    </tr>\n",
       "    <tr>\n",
       "        <td style=\"padding-left: 1em; padding-right: 1em; text-align: center; vertical-align: top\">bird</td>\n",
       "        <td style=\"padding-left: 1em; padding-right: 1em; text-align: center; vertical-align: top\">Height: 32 Width: 32</td>\n",
       "    </tr>\n",
       "</table>\n",
       "[1 rows x 2 columns]<br/>\n",
       "</div>"
      ],
      "text/plain": [
       "Columns:\n",
       "\tlabel\tstr\n",
       "\timage\tImage\n",
       "\n",
       "Rows: 1\n",
       "\n",
       "Data:\n",
       "+-------+----------------------+\n",
       "| label |        image         |\n",
       "+-------+----------------------+\n",
       "|  bird | Height: 32 Width: 32 |\n",
       "+-------+----------------------+\n",
       "[1 rows x 2 columns]"
      ]
     },
     "execution_count": 75,
     "metadata": {},
     "output_type": "execute_result"
    }
   ],
   "source": [
    "image_test_data[10:11]['label','image']"
   ]
  },
  {
   "cell_type": "code",
   "execution_count": 73,
   "metadata": {
    "collapsed": false
   },
   "outputs": [
    {
     "data": {
      "text/html": [
       "<pre>Starting pairwise querying.</pre>"
      ],
      "text/plain": [
       "Starting pairwise querying."
      ]
     },
     "metadata": {},
     "output_type": "display_data"
    },
    {
     "data": {
      "text/html": [
       "<pre>+--------------+---------+-------------+--------------+</pre>"
      ],
      "text/plain": [
       "+--------------+---------+-------------+--------------+"
      ]
     },
     "metadata": {},
     "output_type": "display_data"
    },
    {
     "data": {
      "text/html": [
       "<pre>| Query points | # Pairs | % Complete. | Elapsed Time |</pre>"
      ],
      "text/plain": [
       "| Query points | # Pairs | % Complete. | Elapsed Time |"
      ]
     },
     "metadata": {},
     "output_type": "display_data"
    },
    {
     "data": {
      "text/html": [
       "<pre>+--------------+---------+-------------+--------------+</pre>"
      ],
      "text/plain": [
       "+--------------+---------+-------------+--------------+"
      ]
     },
     "metadata": {},
     "output_type": "display_data"
    },
    {
     "data": {
      "text/html": [
       "<pre>| 0            | 1       | 0.0498753   | 20.168ms     |</pre>"
      ],
      "text/plain": [
       "| 0            | 1       | 0.0498753   | 20.168ms     |"
      ]
     },
     "metadata": {},
     "output_type": "display_data"
    },
    {
     "data": {
      "text/html": [
       "<pre>| Done         |         | 100         | 269.377ms    |</pre>"
      ],
      "text/plain": [
       "| Done         |         | 100         | 269.377ms    |"
      ]
     },
     "metadata": {},
     "output_type": "display_data"
    },
    {
     "data": {
      "text/html": [
       "<pre>+--------------+---------+-------------+--------------+</pre>"
      ],
      "text/plain": [
       "+--------------+---------+-------------+--------------+"
      ]
     },
     "metadata": {},
     "output_type": "display_data"
    },
    {
     "data": {
      "application/javascript": [
       "$(\"head\").append($(\"<link/>\").attr({\n",
       "  rel:  \"stylesheet\",\n",
       "  type: \"text/css\",\n",
       "  href: \"//cdnjs.cloudflare.com/ajax/libs/font-awesome/4.1.0/css/font-awesome.min.css\"\n",
       "}));\n",
       "$(\"head\").append($(\"<link/>\").attr({\n",
       "  rel:  \"stylesheet\",\n",
       "  type: \"text/css\",\n",
       "  href: \"https://static.turi.com/products/graphlab-create/2.1/canvas/css/canvas.css\"\n",
       "}));\n",
       "\n",
       "            (function(){\n",
       "\n",
       "                var e = null;\n",
       "                if (typeof element == 'undefined') {\n",
       "                    var scripts = document.getElementsByTagName('script');\n",
       "                    var thisScriptTag = scripts[scripts.length-1];\n",
       "                    var parentDiv = thisScriptTag.parentNode;\n",
       "                    e = document.createElement('div');\n",
       "                    parentDiv.appendChild(e);\n",
       "                } else {\n",
       "                    e = element[0];\n",
       "                }\n",
       "\n",
       "                if (typeof requirejs !== 'undefined') {\n",
       "                    // disable load timeout; ipython_app.js is large and can take a while to load.\n",
       "                    requirejs.config({waitSeconds: 0});\n",
       "                }\n",
       "\n",
       "                require(['https://static.turi.com/products/graphlab-create/2.1/canvas/js/ipython_app.js'], function(IPythonApp){\n",
       "                    var app = new IPythonApp();\n",
       "                    app.attachView('sarray','Images', {\"ipython\": true, \"rows\": [{\"format\": \"raw\", \"value\": [163, 153, 157, 143, 134, 137, 146, 137, 140, 149, 139, 139, 143, 132, 130, 133, 118, 117, 129, 112, 112, 121, 102, 96, 108, 83, 67, 105, 75, 55, 106, 80, 63, 113, 93, 79, 119, 99, 82, 108, 82, 63, 89, 55, 35, 93, 58, 40, 107, 82, 70, 115, 88, 76, 133, 114, 107, 202, 192, 192, 196, 180, 179, 205, 194, 199, 203, 197, 206, 192, 183, 188, 196, 184, 189, 164, 153, 157, 157, 147, 146, 159, 150, 145, 156, 147, 144, 149, 139, 138, 145, 135, 134, 138, 128, 127, 158, 149, 152, 138, 129, 132, 139, 130, 132, 138, 128, 128, 134, 123, 121, 129, 115, 114, 132, 115, 116, 122, 103, 99, 110, 86, 75, 105, 77, 61, 103, 78, 66, 106, 87, 77, 112, 90, 78, 107, 81, 68, 92, 62, 46, 90, 58, 42, 95, 66, 51, 111, 80, 64, 127, 103, 92, 198, 183, 180, 197, 180, 178, 204, 193, 198, 198, 192, 201, 186, 176, 181, 196, 185, 189, 167, 156, 160, 154, 144, 144, 157, 148, 144, 156, 146, 144, 150, 140, 139, 145, 135, 134, 139, 129, 128, 164, 155, 158, 144, 135, 138, 142, 133, 136, 136, 126, 126, 131, 120, 118, 126, 112, 111, 122, 105, 106, 112, 95, 93, 111, 89, 83, 110, 83, 72, 102, 79, 72, 101, 81, 76, 102, 78, 73, 99, 74, 66, 88, 62, 50, 85, 58, 45, 92, 63, 49, 101, 70, 54, 114, 90, 80, 193, 178, 175, 198, 181, 180, 204, 193, 198, 198, 191, 200, 184, 174, 180, 196, 185, 190, 168, 158, 161, 150, 140, 140, 154, 144, 140, 154, 145, 142, 151, 141, 140, 146, 136, 135, 141, 131, 130, 165, 156, 159, 151, 142, 145, 139, 130, 133, 135, 125, 125, 127, 116, 114, 126, 112, 111, 115, 98, 97, 97, 80, 80, 87, 67, 64, 82, 57, 50, 73, 52, 48, 71, 51, 52, 71, 45, 45, 63, 39, 35, 55, 33, 24, 55, 34, 23, 64, 40, 30, 69, 44, 32, 82, 64, 58, 178, 168, 169, 197, 181, 180, 201, 190, 195, 207, 201, 210, 198, 188, 193, 198, 187, 191, 168, 157, 160, 147, 137, 136, 152, 142, 138, 152, 143, 140, 152, 141, 141, 147, 137, 136, 142, 132, 131, 157, 151, 151, 131, 126, 127, 130, 123, 122, 134, 124, 122, 121, 110, 108, 101, 87, 86, 90, 74, 73, 70, 53, 52, 54, 35, 32, 50, 28, 23, 48, 29, 25, 49, 30, 30, 51, 28, 27, 46, 25, 22, 41, 21, 16, 39, 21, 15, 43, 25, 20, 45, 26, 18, 57, 42, 38, 167, 157, 159, 194, 180, 179, 199, 188, 191, 211, 205, 212, 208, 200, 206, 202, 192, 199, 169, 159, 164, 146, 138, 138, 149, 141, 137, 150, 141, 138, 151, 141, 140, 148, 138, 137, 144, 134, 133, 127, 126, 125, 93, 94, 95, 117, 112, 109, 128, 118, 115, 101, 90, 88, 91, 77, 76, 85, 68, 68, 68, 50, 49, 53, 35, 31, 47, 29, 25, 46, 28, 25, 47, 29, 24, 46, 29, 23, 46, 28, 23, 44, 26, 23, 42, 24, 23, 44, 28, 28, 45, 30, 23, 55, 40, 34, 169, 153, 153, 197, 184, 180, 199, 188, 186, 210, 202, 206, 206, 200, 208, 194, 187, 197, 177, 170, 177, 147, 141, 143, 145, 140, 136, 148, 140, 137, 150, 140, 138, 148, 138, 136, 146, 136, 134, 97, 95, 101, 88, 88, 95, 108, 103, 105, 122, 112, 110, 89, 78, 76, 83, 69, 68, 84, 67, 67, 68, 50, 48, 51, 33, 29, 45, 27, 23, 44, 26, 22, 44, 26, 22, 42, 25, 19, 42, 24, 18, 42, 25, 18, 51, 33, 28, 91, 73, 69, 84, 68, 56, 81, 65, 54, 156, 139, 134, 173, 158, 150, 191, 178, 171, 198, 187, 186, 184, 174, 179, 158, 149, 156, 167, 158, 163, 148, 140, 141, 147, 139, 137, 149, 140, 138, 150, 140, 138, 148, 138, 136, 146, 136, 134, 89, 87, 95, 86, 86, 97, 106, 101, 106, 122, 112, 111, 98, 86, 84, 81, 67, 66, 83, 66, 66, 66, 48, 46, 49, 31, 27, 43, 25, 21, 43, 25, 21, 43, 25, 21, 40, 23, 18, 47, 30, 22, 57, 41, 30, 79, 62, 50, 155, 136, 124, 163, 146, 126, 144, 126, 108, 151, 132, 120, 164, 144, 130, 184, 166, 154, 182, 167, 161, 170, 157, 156, 154, 143, 143, 146, 135, 136, 144, 133, 133, 147, 136, 136, 149, 138, 137, 150, 140, 138, 148, 138, 136, 145, 135, 133, 88, 86, 92, 83, 83, 91, 98, 93, 96, 114, 104, 103, 105, 93, 92, 83, 69, 68, 82, 65, 65, 65, 47, 45, 47, 29, 25, 40, 22, 18, 41, 23, 19, 44, 26, 22, 59, 41, 37, 79, 62, 53, 119, 103, 88, 130, 114, 95, 164, 144, 125, 188, 168, 141, 181, 161, 135, 176, 155, 136, 181, 158, 136, 181, 159, 140, 178, 159, 147, 172, 155, 148, 164, 150, 144, 140, 127, 123, 145, 131, 130, 147, 133, 135, 147, 135, 135, 148, 138, 136, 146, 136, 134, 144, 134, 132, 109, 107, 106, 91, 92, 93, 97, 92, 89, 109, 99, 96, 109, 97, 96, 84, 70, 69, 83, 67, 66, 68, 50, 47, 47, 29, 25, 39, 21, 17, 52, 34, 30, 77, 59, 56, 109, 91, 87, 110, 93, 82, 134, 118, 99, 140, 124, 100, 158, 136, 112, 178, 157, 126, 180, 159, 128, 177, 154, 130, 180, 154, 129, 186, 162, 139, 184, 163, 146, 176, 156, 144, 161, 146, 136, 135, 122, 115, 130, 116, 114, 136, 122, 125, 141, 129, 130, 144, 134, 132, 144, 134, 132, 143, 133, 131, 144, 136, 136, 122, 116, 116, 111, 103, 102, 105, 92, 93, 99, 84, 86, 83, 68, 66, 80, 65, 60, 67, 52, 45, 48, 32, 26, 42, 25, 19, 73, 56, 49, 132, 115, 105, 155, 139, 123, 140, 122, 103, 127, 108, 84, 138, 116, 89, 163, 136, 105, 175, 149, 118, 176, 153, 122, 172, 149, 121, 180, 157, 130, 195, 171, 150, 194, 171, 153, 185, 164, 143, 171, 152, 140, 122, 107, 101, 62, 53, 49, 53, 50, 47, 69, 62, 60, 85, 75, 73, 93, 83, 81, 101, 92, 90, 148, 137, 138, 134, 124, 124, 114, 103, 103, 99, 88, 90, 110, 98, 98, 127, 116, 113, 123, 113, 105, 99, 88, 80, 62, 48, 41, 49, 33, 25, 88, 70, 60, 144, 126, 111, 164, 147, 125, 154, 136, 111, 141, 118, 92, 153, 128, 99, 164, 134, 101, 167, 139, 109, 174, 149, 121, 173, 151, 123, 181, 160, 135, 197, 175, 157, 198, 175, 159, 191, 170, 147, 186, 166, 150, 155, 137, 128, 70, 60, 51, 33, 30, 22, 31, 24, 19, 30, 20, 17, 27, 16, 14, 28, 17, 15, 154, 140, 140, 135, 121, 121, 119, 106, 106, 120, 112, 109, 163, 159, 155, 210, 205, 200, 198, 194, 187, 185, 178, 171, 157, 146, 139, 114, 99, 89, 119, 100, 86, 143, 123, 104, 148, 130, 106, 147, 126, 100, 147, 123, 95, 159, 131, 102, 165, 134, 105, 160, 131, 103, 165, 140, 114, 174, 151, 127, 181, 161, 139, 194, 174, 160, 196, 176, 164, 193, 173, 154, 193, 170, 152, 177, 155, 141, 130, 112, 99, 105, 91, 80, 96, 84, 77, 90, 78, 72, 78, 65, 60, 64, 52, 46, 134, 119, 116, 119, 105, 101, 119, 104, 101, 171, 163, 158, 202, 198, 191, 207, 202, 197, 197, 192, 188, 198, 193, 188, 200, 192, 184, 172, 157, 144, 146, 124, 105, 146, 122, 100, 142, 122, 96, 139, 115, 88, 147, 120, 91, 149, 120, 90, 158, 126, 99, 158, 130, 104, 156, 130, 106, 166, 143, 121, 174, 157, 139, 185, 167, 158, 191, 173, 166, 190, 173, 157, 190, 168, 151, 173, 150, 136, 145, 124, 112, 138, 118, 110, 136, 120, 112, 132, 119, 111, 126, 113, 105, 118, 104, 96, 124, 107, 102, 112, 96, 90, 107, 91, 85, 155, 143, 135, 174, 163, 157, 179, 168, 165, 190, 178, 178, 201, 194, 193, 198, 193, 185, 162, 149, 134, 143, 120, 97, 145, 119, 93, 144, 121, 94, 141, 114, 86, 145, 115, 84, 147, 117, 85, 145, 113, 88, 152, 123, 99, 150, 123, 102, 151, 128, 109, 159, 143, 129, 174, 158, 153, 190, 174, 170, 189, 174, 163, 185, 168, 155, 170, 152, 141, 152, 132, 126, 149, 129, 126, 151, 133, 127, 145, 129, 120, 140, 125, 116, 137, 121, 112, 138, 121, 112, 127, 111, 102, 120, 104, 95, 149, 137, 126, 169, 158, 150, 171, 159, 157, 188, 175, 179, 204, 196, 198, 187, 180, 172, 149, 133, 116, 141, 116, 91, 144, 116, 89, 144, 119, 90, 148, 122, 92, 142, 114, 84, 141, 112, 82, 145, 114, 88, 139, 112, 91, 138, 114, 96, 137, 111, 96, 132, 114, 102, 150, 133, 131, 153, 137, 136, 167, 154, 146, 192, 181, 172, 192, 179, 175, 175, 159, 158, 154, 136, 137, 155, 138, 134, 152, 136, 128, 149, 133, 126, 147, 131, 124, 140, 124, 111, 133, 117, 103, 127, 111, 98, 137, 128, 116, 155, 149, 140, 161, 155, 149, 179, 172, 171, 196, 185, 186, 172, 157, 149, 144, 125, 103, 142, 116, 91, 146, 117, 91, 146, 120, 89, 156, 131, 102, 155, 132, 106, 138, 115, 87, 140, 113, 80, 96, 77, 57, 83, 62, 50, 122, 93, 80, 125, 100, 89, 137, 117, 114, 104, 87, 88, 138, 127, 121, 203, 196, 191, 203, 195, 193, 192, 180, 180, 161, 146, 146, 156, 141, 141, 156, 142, 140, 154, 140, 138, 153, 139, 137, 140, 126, 115, 131, 117, 106, 128, 114, 103, 124, 111, 104, 125, 114, 108, 131, 120, 112, 127, 117, 106, 120, 108, 99, 137, 122, 108, 143, 125, 97, 144, 119, 88, 146, 118, 89, 151, 125, 96, 166, 142, 114, 166, 144, 120, 161, 139, 114, 156, 130, 100, 79, 59, 38, 52, 29, 16, 117, 89, 76, 144, 123, 107, 150, 132, 124, 135, 120, 117, 156, 145, 136, 202, 196, 190, 205, 198, 196, 196, 184, 183, 165, 150, 150, 159, 144, 144, 161, 147, 146, 160, 146, 145, 156, 142, 141, 142, 128, 122, 132, 118, 112, 128, 115, 109, 129, 114, 113, 128, 112, 111, 120, 106, 97, 104, 91, 76, 98, 85, 72, 129, 115, 97, 142, 124, 92, 144, 120, 84, 147, 119, 88, 151, 124, 98, 166, 142, 116, 169, 147, 125, 171, 149, 128, 170, 146, 122, 125, 101, 79, 92, 67, 50, 132, 108, 92, 143, 129, 110, 153, 140, 129, 174, 160, 155, 178, 166, 156, 197, 190, 183, 194, 187, 185, 189, 177, 177, 168, 153, 154, 160, 145, 145, 158, 144, 143, 158, 144, 143, 158, 144, 143, 157, 145, 144, 144, 132, 131, 137, 125, 124, 146, 132, 133, 146, 133, 133, 136, 123, 119, 148, 136, 128, 151, 139, 131, 148, 133, 118, 141, 123, 93, 145, 120, 87, 148, 120, 91, 147, 119, 96, 158, 133, 111, 165, 142, 123, 165, 144, 127, 167, 144, 126, 153, 125, 103, 127, 99, 78, 149, 129, 112, 97, 89, 72, 97, 88, 81, 185, 172, 171, 190, 176, 171, 174, 166, 161, 173, 166, 164, 174, 162, 162, 167, 153, 153, 164, 149, 149, 159, 145, 144, 157, 143, 142, 157, 143, 142, 167, 156, 158, 152, 141, 143, 145, 134, 136, 150, 142, 141, 145, 138, 137, 152, 144, 147, 162, 153, 160, 169, 157, 161, 152, 136, 127, 139, 120, 97, 150, 124, 98, 150, 121, 98, 145, 118, 96, 150, 124, 104, 150, 126, 109, 154, 134, 119, 156, 135, 120, 147, 117, 95, 142, 113, 89, 147, 129, 111, 67, 62, 51, 56, 50, 50, 169, 156, 163, 181, 165, 169, 143, 135, 133, 160, 153, 151, 175, 163, 162, 168, 154, 154, 163, 148, 148, 162, 148, 147, 162, 148, 147, 157, 143, 142, 165, 154, 158, 152, 141, 146, 146, 135, 140, 151, 144, 146, 158, 152, 156, 159, 152, 161, 168, 161, 175, 177, 167, 173, 151, 137, 130, 135, 116, 99, 150, 125, 103, 151, 122, 98, 147, 118, 94, 148, 122, 99, 139, 116, 96, 124, 102, 85, 125, 102, 86, 135, 109, 91, 137, 114, 97, 139, 123, 110, 99, 91, 86, 98, 90, 91, 162, 151, 155, 149, 137, 139, 134, 124, 123, 171, 161, 160, 183, 169, 169, 174, 158, 159, 169, 154, 154, 166, 152, 151, 164, 150, 149, 159, 145, 144, 165, 154, 153, 164, 153, 152, 162, 152, 151, 170, 162, 163, 174, 167, 171, 170, 162, 169, 179, 170, 182, 182, 172, 176, 155, 142, 135, 135, 117, 103, 150, 126, 104, 152, 125, 98, 151, 123, 97, 151, 126, 101, 140, 118, 95, 117, 95, 76, 110, 87, 74, 110, 89, 79, 111, 93, 85, 129, 114, 109, 143, 132, 131, 159, 149, 148, 164, 154, 153, 144, 135, 134, 148, 138, 137, 182, 170, 170, 184, 170, 170, 174, 157, 158, 170, 154, 154, 166, 152, 151, 164, 150, 149, 161, 146, 145, 166, 155, 143, 167, 156, 145, 169, 158, 147, 171, 161, 155, 175, 166, 165, 180, 170, 171, 182, 172, 177, 178, 169, 171, 157, 146, 141, 136, 120, 107, 149, 127, 107, 154, 129, 104, 152, 126, 101, 152, 129, 106, 146, 126, 105, 131, 112, 96, 118, 96, 90, 116, 96, 93, 129, 111, 111, 144, 129, 131, 159, 148, 151, 163, 152, 155, 164, 154, 156, 162, 152, 154, 165, 155, 155, 185, 173, 173, 182, 168, 168, 173, 155, 157, 167, 151, 152, 164, 150, 149, 162, 148, 147, 159, 145, 144, 146, 134, 117, 151, 139, 122, 155, 143, 126, 159, 148, 135, 165, 154, 146, 171, 160, 154, 175, 163, 160, 175, 166, 165, 159, 150, 147, 129, 115, 104, 141, 123, 104, 151, 129, 105, 149, 125, 101, 147, 127, 106, 144, 126, 108, 138, 121, 107, 127, 107, 104, 132, 114, 114, 154, 139, 142, 155, 143, 147, 156, 144, 149, 166, 155, 159, 171, 160, 164, 172, 161, 166, 176, 166, 167, 185, 173, 173, 180, 166, 166, 173, 155, 156, 167, 151, 151, 165, 151, 150, 162, 148, 147, 159, 145, 144, 140, 125, 109, 142, 128, 112, 147, 132, 116, 141, 129, 112, 135, 124, 108, 147, 135, 123, 158, 145, 136, 158, 150, 147, 150, 143, 142, 129, 117, 108, 136, 119, 101, 150, 129, 107, 147, 125, 104, 145, 126, 107, 139, 124, 107, 137, 122, 109, 134, 117, 111, 136, 121, 117, 151, 139, 138, 150, 140, 141, 154, 144, 149, 166, 155, 162, 171, 160, 166, 173, 162, 168, 179, 168, 169, 181, 170, 169, 176, 161, 162, 172, 154, 156, 169, 153, 153, 169, 155, 154, 166, 152, 151, 161, 147, 146, 159, 144, 131, 153, 138, 125, 157, 141, 128, 142, 128, 111, 126, 113, 95, 133, 120, 104, 135, 121, 108, 131, 121, 115, 137, 129, 126, 138, 126, 117, 135, 119, 103, 149, 131, 110, 146, 126, 106, 143, 125, 108, 139, 124, 110, 134, 121, 108, 134, 118, 109, 135, 121, 114, 140, 130, 125, 148, 139, 137, 155, 145, 151, 161, 150, 159, 167, 156, 164, 173, 163, 170, 179, 170, 171, 179, 167, 167, 171, 158, 157, 170, 154, 154, 169, 154, 153, 167, 155, 153, 166, 153, 151, 163, 148, 146, 153, 140, 130, 151, 138, 128, 150, 137, 127, 149, 134, 121, 154, 138, 124, 149, 134, 120, 146, 130, 117, 142, 127, 114, 143, 129, 117, 137, 121, 111, 126, 110, 97, 144, 128, 109, 146, 127, 108, 141, 119, 108, 139, 124, 115, 128, 120, 108, 133, 117, 110, 137, 123, 118, 139, 127, 125, 147, 137, 137, 155, 146, 152, 159, 149, 157, 164, 154, 162, 172, 162, 170, 182, 174, 176, 184, 164, 167, 168, 155, 153, 167, 152, 148, 171, 152, 149, 166, 153, 149, 163, 148, 143, 160, 143, 137, 153, 140, 131, 155, 142, 133, 147, 134, 125, 151, 137, 127, 155, 141, 129, 153, 138, 127, 154, 140, 129, 154, 140, 128, 145, 130, 119, 134, 119, 108, 122, 107, 96, 132, 117, 104, 144, 127, 112, 136, 115, 104, 132, 116, 108, 127, 118, 108, 135, 119, 113, 139, 124, 120, 141, 128, 128, 149, 138, 140, 157, 148, 154, 160, 150, 158, 165, 155, 163, 179, 169, 177, 189, 174, 176, 184, 151, 153, 174, 150, 146, 170, 145, 138, 177, 138, 132, 175, 140, 133, 167, 140, 134, 156, 139, 134, 156, 143, 134, 158, 145, 136, 157, 144, 135, 157, 144, 134, 158, 145, 135, 158, 145, 136, 158, 145, 135, 155, 142, 136, 144, 130, 124, 140, 128, 117, 142, 129, 121, 135, 122, 117, 144, 129, 120, 140, 119, 107, 135, 117, 106, 133, 120, 114, 134, 117, 115, 141, 125, 124, 155, 142, 143, 165, 154, 159, 167, 157, 164, 166, 156, 164, 169, 159, 167, 183, 173, 180, 184, 163, 163, 173, 131, 132, 173, 140, 134, 168, 135, 126, 177, 122, 115, 175, 122, 114, 165, 130, 126, 155, 137, 135, 157, 144, 135, 162, 149, 140, 164, 151, 142, 161, 149, 140, 159, 148, 140, 156, 145, 136, 155, 144, 135, 156, 144, 143, 148, 135, 134, 147, 136, 125, 147, 135, 131, 144, 132, 138, 150, 137, 136, 144, 124, 111, 137, 118, 106, 129, 112, 110, 134, 116, 117, 144, 128, 130, 168, 154, 159, 176, 165, 172, 166, 156, 164, 165, 156, 163, 172, 162, 170, 179, 170, 177, 173, 154, 155, 173, 135, 136, 171, 142, 137, 171, 141, 134, 181, 132, 128, 177, 131, 127, 167, 135, 134, 154, 136, 136, 159, 146, 137, 161, 148, 139, 163, 150, 141, 162, 151, 143, 158, 149, 142, 153, 144, 137, 154, 145, 137, 156, 145, 149, 150, 140, 142, 147, 138, 127, 151, 141, 140, 156, 146, 158, 153, 142, 146, 146, 127, 114, 137, 116, 104, 125, 105, 106, 138, 119, 122, 149, 133, 137, 171, 157, 165, 154, 142, 151, 148, 138, 146, 161, 151, 159, 176, 166, 174, 168, 159, 166, 157, 147, 149, 166, 141, 144, 161, 145, 142, 164, 146, 141, 170, 143, 144, 163, 142, 144, 159, 138, 141, 152, 133, 135], \"height\": 32, \"channels\": 3, \"width\": 32, \"type\": \"image\", \"id\": 4776463760}, {\"format\": \"raw\", \"value\": [65, 50, 49, 69, 60, 58, 68, 64, 61, 48, 45, 43, 63, 60, 57, 101, 95, 87, 113, 107, 97, 100, 95, 86, 101, 96, 86, 104, 98, 87, 105, 98, 88, 109, 102, 92, 110, 103, 93, 104, 97, 86, 101, 94, 83, 111, 106, 95, 111, 107, 96, 112, 107, 97, 113, 106, 96, 113, 106, 96, 111, 104, 94, 110, 103, 93, 107, 100, 90, 103, 96, 85, 100, 93, 81, 96, 90, 77, 97, 91, 79, 96, 90, 79, 102, 96, 85, 99, 94, 84, 98, 94, 86, 96, 93, 85, 64, 63, 58, 65, 65, 59, 71, 69, 64, 55, 55, 50, 66, 65, 60, 100, 94, 86, 109, 103, 93, 102, 96, 86, 100, 93, 83, 104, 98, 86, 113, 106, 96, 116, 109, 99, 118, 111, 101, 113, 108, 97, 108, 102, 92, 112, 106, 95, 113, 106, 95, 114, 108, 97, 118, 111, 101, 116, 109, 99, 116, 109, 99, 115, 108, 98, 114, 107, 97, 102, 95, 84, 98, 92, 79, 97, 91, 78, 100, 93, 82, 102, 95, 85, 103, 95, 86, 100, 93, 83, 96, 91, 82, 94, 91, 82, 61, 62, 56, 73, 61, 58, 74, 63, 60, 75, 71, 66, 78, 74, 69, 100, 94, 87, 113, 106, 97, 104, 97, 87, 106, 99, 88, 112, 105, 94, 116, 109, 98, 116, 109, 99, 121, 115, 104, 118, 114, 103, 114, 110, 99, 111, 106, 94, 114, 107, 95, 119, 113, 101, 119, 112, 102, 120, 113, 103, 116, 109, 99, 118, 111, 101, 116, 109, 99, 109, 102, 92, 108, 101, 91, 104, 97, 87, 107, 100, 90, 105, 98, 88, 103, 96, 86, 102, 95, 85, 98, 93, 83, 98, 94, 85, 57, 55, 50, 68, 59, 55, 79, 70, 67, 85, 77, 73, 87, 79, 73, 101, 94, 85, 115, 108, 99, 113, 106, 97, 112, 105, 94, 100, 94, 85, 105, 98, 88, 117, 112, 101, 120, 114, 105, 119, 114, 106, 116, 112, 102, 116, 109, 98, 113, 105, 93, 119, 112, 101, 122, 116, 104, 118, 112, 100, 114, 108, 96, 119, 112, 102, 117, 110, 101, 113, 106, 96, 112, 105, 95, 110, 103, 93, 110, 105, 94, 108, 104, 93, 107, 102, 91, 106, 100, 90, 105, 99, 90, 99, 95, 86, 76, 72, 67, 85, 79, 72, 97, 90, 83, 103, 96, 87, 107, 100, 91, 110, 103, 93, 108, 101, 92, 112, 105, 95, 101, 95, 86, 34, 34, 29, 41, 41, 37, 66, 63, 55, 113, 107, 96, 124, 118, 107, 120, 113, 100, 117, 109, 94, 114, 106, 93, 118, 112, 100, 122, 116, 104, 120, 114, 102, 121, 115, 103, 121, 115, 104, 119, 112, 101, 112, 105, 95, 110, 103, 93, 113, 107, 97, 112, 106, 96, 111, 106, 95, 110, 105, 94, 109, 102, 92, 108, 102, 93, 99, 95, 86, 108, 102, 95, 112, 105, 96, 117, 110, 100, 118, 112, 101, 120, 114, 103, 113, 106, 96, 109, 102, 92, 110, 104, 92, 99, 94, 85, 32, 31, 29, 71, 70, 67, 54, 50, 45, 60, 52, 43, 91, 86, 76, 119, 112, 102, 120, 113, 100, 119, 113, 99, 118, 113, 101, 123, 118, 106, 125, 119, 107, 125, 119, 107, 122, 116, 103, 118, 112, 100, 114, 108, 97, 111, 104, 94, 114, 107, 97, 110, 103, 93, 110, 103, 93, 109, 102, 92, 106, 99, 89, 107, 101, 92, 102, 98, 89, 116, 109, 100, 114, 107, 98, 117, 110, 100, 115, 109, 98, 114, 108, 96, 112, 105, 95, 112, 106, 95, 115, 108, 96, 113, 106, 96, 40, 35, 30, 58, 56, 53, 115, 115, 116, 117, 114, 113, 91, 85, 84, 133, 129, 126, 138, 136, 129, 132, 128, 119, 125, 118, 107, 122, 116, 104, 124, 118, 106, 124, 118, 106, 121, 115, 103, 120, 114, 102, 116, 110, 99, 113, 106, 96, 116, 109, 99, 112, 105, 95, 108, 101, 91, 106, 99, 89, 105, 98, 89, 106, 100, 91, 104, 100, 91, 114, 107, 97, 113, 106, 96, 115, 108, 98, 115, 108, 98, 109, 102, 92, 111, 104, 94, 115, 108, 98, 118, 111, 100, 120, 115, 104, 60, 55, 50, 40, 37, 34, 131, 131, 134, 172, 172, 173, 159, 150, 149, 175, 167, 170, 208, 204, 202, 177, 178, 183, 134, 134, 132, 127, 124, 115, 123, 116, 105, 124, 117, 107, 117, 111, 98, 117, 111, 98, 118, 112, 101, 116, 111, 101, 114, 109, 98, 113, 106, 96, 113, 106, 95, 107, 100, 89, 102, 96, 85, 106, 99, 89, 105, 100, 90, 106, 99, 90, 110, 104, 93, 114, 107, 97, 116, 109, 99, 112, 105, 95, 113, 106, 96, 112, 105, 95, 114, 109, 98, 117, 112, 99, 97, 91, 82, 32, 31, 26, 113, 111, 112, 154, 150, 155, 170, 160, 157, 167, 156, 154, 157, 150, 150, 91, 93, 92, 118, 120, 119, 180, 185, 187, 139, 138, 133, 127, 120, 111, 122, 116, 105, 124, 115, 103, 124, 115, 103, 121, 114, 101, 116, 110, 97, 112, 105, 95, 108, 102, 90, 105, 99, 87, 106, 100, 88, 107, 100, 90, 106, 100, 90, 110, 103, 95, 110, 103, 93, 116, 109, 99, 115, 108, 98, 114, 107, 97, 116, 109, 99, 113, 106, 96, 114, 108, 97, 113, 107, 94, 123, 115, 103, 58, 55, 48, 69, 66, 63, 116, 105, 107, 157, 144, 138, 70, 66, 62, 68, 61, 56, 125, 113, 94, 167, 147, 129, 192, 191, 191, 184, 189, 193, 153, 157, 159, 150, 152, 151, 145, 144, 142, 129, 125, 118, 123, 117, 104, 123, 117, 103, 118, 111, 101, 105, 98, 87, 102, 96, 84, 109, 103, 91, 109, 103, 92, 104, 97, 87, 109, 102, 94, 108, 101, 92, 111, 104, 94, 116, 109, 99, 117, 110, 100, 118, 111, 101, 117, 110, 100, 117, 109, 97, 112, 104, 94, 126, 119, 108, 110, 103, 95, 42, 40, 35, 71, 65, 63, 87, 81, 77, 34, 29, 21, 112, 92, 70, 176, 150, 123, 185, 159, 137, 208, 204, 202, 198, 203, 208, 180, 185, 189, 175, 180, 185, 173, 178, 183, 156, 158, 161, 130, 128, 121, 125, 118, 107, 123, 115, 105, 112, 106, 95, 107, 101, 89, 114, 108, 96, 110, 103, 93, 102, 95, 85, 109, 104, 96, 110, 105, 96, 112, 106, 97, 115, 110, 99, 118, 112, 102, 119, 111, 102, 120, 113, 103, 116, 107, 95, 110, 100, 89, 113, 106, 95, 113, 107, 97, 49, 46, 39, 33, 33, 31, 13, 13, 11, 49, 41, 30, 148, 119, 91, 183, 160, 138, 180, 163, 144, 224, 221, 223, 210, 214, 220, 181, 187, 189, 165, 170, 175, 174, 179, 184, 172, 176, 179, 152, 157, 158, 131, 128, 122, 124, 117, 107, 113, 106, 94, 112, 107, 96, 115, 110, 98, 108, 102, 90, 99, 93, 81, 108, 104, 95, 111, 105, 97, 113, 106, 97, 112, 105, 95, 112, 105, 94, 117, 111, 100, 118, 112, 101, 113, 104, 93, 103, 94, 81, 71, 65, 54, 30, 28, 19, 19, 18, 13, 9, 10, 8, 14, 15, 13, 52, 45, 35, 159, 139, 118, 206, 190, 175, 128, 111, 91, 172, 157, 143, 229, 233, 236, 185, 192, 195, 166, 169, 171, 166, 170, 174, 168, 175, 178, 167, 174, 177, 152, 155, 155, 124, 120, 111, 114, 107, 95, 114, 107, 96, 113, 107, 95, 111, 105, 93, 103, 96, 84, 106, 100, 91, 106, 99, 91, 109, 101, 91, 107, 100, 89, 106, 99, 88, 116, 109, 97, 119, 111, 100, 111, 103, 91, 104, 94, 82, 61, 55, 45, 12, 12, 7, 8, 8, 7, 16, 16, 13, 11, 11, 7, 100, 82, 65, 175, 144, 118, 208, 188, 175, 98, 94, 85, 150, 132, 115, 238, 242, 243, 200, 203, 207, 164, 171, 176, 168, 174, 175, 168, 175, 176, 164, 170, 173, 165, 170, 174, 141, 141, 138, 114, 108, 98, 115, 107, 96, 116, 110, 98, 112, 106, 94, 109, 102, 91, 106, 99, 91, 103, 95, 87, 106, 97, 87, 106, 98, 86, 109, 101, 89, 114, 106, 95, 113, 105, 94, 112, 103, 91, 116, 106, 94, 80, 73, 63, 17, 16, 11, 11, 11, 9, 73, 67, 59, 73, 65, 59, 145, 130, 121, 200, 175, 160, 202, 178, 162, 181, 158, 129, 191, 172, 160, 239, 242, 246, 210, 201, 194, 179, 173, 164, 167, 175, 177, 170, 176, 179, 164, 169, 172, 169, 172, 177, 161, 166, 170, 126, 124, 117, 116, 109, 95, 114, 108, 96, 114, 108, 96, 111, 104, 93, 106, 98, 90, 99, 90, 80, 97, 89, 76, 104, 97, 84, 111, 103, 91, 113, 103, 91, 113, 104, 92, 119, 111, 97, 123, 117, 103, 99, 94, 81, 29, 26, 19, 9, 8, 8, 106, 104, 104, 208, 205, 205, 221, 222, 219, 197, 184, 173, 200, 184, 169, 212, 208, 208, 201, 193, 193, 230, 233, 239, 212, 199, 189, 189, 167, 145, 163, 165, 162, 172, 178, 181, 165, 170, 173, 171, 176, 179, 172, 178, 183, 137, 139, 140, 114, 108, 97, 111, 105, 93, 113, 107, 95, 110, 103, 92, 96, 88, 77, 94, 86, 74, 99, 91, 78, 112, 106, 94, 115, 107, 95, 115, 105, 93, 119, 109, 97, 122, 113, 103, 124, 115, 105, 122, 115, 103, 41, 38, 33, 21, 20, 18, 68, 63, 56, 200, 190, 184, 236, 241, 242, 235, 234, 233, 222, 219, 213, 228, 228, 227, 221, 222, 227, 218, 216, 218, 208, 187, 171, 198, 175, 152, 165, 161, 152, 169, 175, 177, 168, 173, 176, 173, 179, 182, 179, 185, 188, 144, 148, 150, 115, 111, 103, 110, 103, 91, 111, 105, 93, 111, 104, 93, 95, 88, 75, 103, 96, 83, 108, 100, 89, 112, 105, 94, 113, 105, 93, 111, 101, 89, 112, 102, 90, 119, 111, 98, 133, 125, 112, 122, 116, 104, 25, 24, 20, 13, 13, 10, 14, 12, 7, 142, 132, 125, 209, 198, 193, 204, 196, 187, 240, 242, 241, 231, 233, 235, 224, 223, 224, 213, 209, 210, 187, 160, 146, 198, 177, 157, 156, 149, 139, 171, 176, 179, 177, 182, 185, 177, 182, 185, 182, 188, 190, 151, 155, 158, 120, 117, 111, 117, 110, 98, 113, 107, 95, 106, 100, 88, 101, 94, 83, 106, 98, 88, 109, 99, 90, 113, 106, 95, 111, 103, 91, 106, 96, 84, 109, 99, 86, 124, 115, 103, 95, 90, 80, 43, 42, 35, 12, 13, 9, 7, 8, 5, 19, 16, 14, 138, 119, 108, 201, 190, 184, 180, 163, 149, 211, 208, 206, 220, 222, 226, 218, 217, 217, 218, 215, 218, 202, 169, 159, 180, 156, 144, 155, 151, 143, 180, 184, 185, 186, 191, 195, 186, 191, 194, 185, 192, 192, 155, 161, 164, 121, 119, 115, 118, 111, 99, 109, 103, 91, 107, 101, 89, 95, 88, 77, 100, 91, 82, 104, 95, 85, 112, 103, 93, 115, 107, 96, 111, 101, 89, 113, 104, 94, 55, 53, 47, 14, 13, 9, 38, 37, 34, 37, 36, 31, 14, 14, 8, 25, 23, 20, 134, 113, 94, 198, 192, 188, 216, 215, 210, 209, 209, 212, 196, 194, 195, 203, 203, 207, 194, 186, 187, 187, 155, 149, 152, 134, 131, 144, 143, 137, 183, 189, 189, 195, 200, 203, 191, 196, 199, 185, 191, 193, 165, 171, 175, 131, 133, 131, 119, 114, 102, 112, 106, 94, 104, 98, 85, 98, 90, 79, 101, 93, 82, 97, 90, 77, 98, 90, 77, 111, 103, 91, 110, 102, 91, 55, 50, 45, 17, 15, 11, 54, 52, 49, 100, 98, 99, 69, 64, 61, 39, 35, 30, 17, 16, 12, 125, 108, 89, 198, 190, 184, 219, 221, 227, 141, 119, 92, 180, 169, 169, 211, 210, 214, 202, 201, 205, 211, 205, 205, 151, 151, 148, 94, 92, 90, 190, 193, 196, 200, 206, 209, 190, 195, 198, 184, 191, 192, 167, 173, 177, 130, 132, 130, 113, 106, 95, 107, 101, 89, 99, 92, 80, 103, 96, 85, 97, 89, 76, 95, 88, 72, 97, 90, 74, 106, 97, 82, 73, 67, 57, 23, 22, 18, 45, 42, 38, 102, 98, 98, 145, 141, 145, 117, 111, 110, 83, 77, 73, 26, 24, 18, 111, 98, 85, 186, 175, 165, 156, 159, 159, 98, 72, 43, 223, 220, 217, 224, 229, 233, 222, 225, 228, 204, 199, 197, 131, 125, 119, 102, 106, 101, 194, 202, 203, 199, 204, 207, 186, 191, 194, 182, 187, 189, 164, 170, 173, 125, 125, 122, 111, 103, 92, 104, 96, 85, 104, 96, 85, 96, 89, 77, 95, 88, 74, 94, 87, 73, 102, 94, 80, 105, 95, 82, 69, 63, 54, 44, 42, 38, 113, 113, 113, 147, 146, 148, 176, 172, 173, 163, 158, 157, 121, 116, 112, 23, 21, 15, 79, 70, 62, 166, 151, 136, 151, 129, 109, 165, 136, 118, 237, 238, 240, 218, 222, 225, 209, 211, 215, 205, 207, 207, 119, 121, 117, 144, 147, 145, 199, 203, 205, 193, 198, 201, 184, 188, 192, 174, 179, 181, 157, 164, 166, 114, 112, 108, 112, 104, 93, 113, 104, 93, 104, 96, 85, 96, 89, 77, 94, 83, 70, 93, 85, 72, 103, 95, 83, 102, 93, 80, 105, 96, 82, 100, 91, 80, 122, 116, 114, 156, 152, 149, 166, 160, 154, 183, 175, 171, 153, 145, 141, 51, 50, 48, 47, 43, 38, 132, 110, 89, 184, 161, 149, 223, 219, 220, 208, 216, 217, 146, 151, 149, 119, 122, 122, 122, 126, 129, 113, 118, 116, 179, 185, 186, 196, 202, 205, 189, 194, 197, 181, 186, 189, 167, 173, 176, 153, 158, 162, 109, 107, 102, 105, 98, 86, 114, 106, 95, 109, 101, 90, 90, 84, 73, 94, 84, 71, 95, 87, 74, 101, 93, 80, 97, 87, 72, 101, 88, 72, 86, 76, 65, 15, 12, 9, 16, 16, 14, 33, 31, 29, 96, 91, 88, 91, 86, 83, 26, 29, 26, 23, 24, 20, 83, 64, 51, 147, 133, 116, 168, 169, 169, 155, 157, 162, 121, 125, 127, 68, 72, 67, 78, 81, 76, 157, 161, 160, 191, 196, 198, 191, 196, 200, 184, 189, 192, 175, 180, 183, 162, 167, 170, 145, 151, 154, 110, 109, 103, 108, 100, 86, 111, 103, 91, 110, 103, 91, 40, 36, 30, 97, 89, 77, 99, 91, 79, 100, 90, 77, 98, 86, 70, 98, 85, 70, 47, 40, 32, 3, 3, 0, 8, 7, 5, 13, 8, 5, 3, 3, 2, 4, 5, 4, 11, 11, 9, 16, 15, 13, 24, 24, 20, 103, 104, 102, 130, 135, 138, 133, 136, 138, 109, 114, 111, 137, 142, 140, 149, 154, 154, 184, 188, 190, 190, 195, 198, 187, 192, 196, 175, 180, 183, 164, 169, 172, 155, 160, 161, 133, 140, 141, 109, 106, 98, 109, 101, 87, 112, 103, 91, 107, 100, 89, 9, 5, 3, 71, 65, 58, 105, 98, 86, 98, 89, 75, 98, 87, 71, 94, 83, 67, 35, 29, 19, 20, 20, 14, 34, 25, 17, 60, 41, 30, 13, 12, 8, 4, 4, 4, 3, 4, 2, 3, 5, 2, 6, 6, 4, 44, 45, 45, 65, 69, 68, 71, 74, 70, 134, 139, 136, 179, 184, 187, 177, 183, 187, 177, 181, 184, 180, 185, 187, 177, 182, 185, 162, 167, 170, 156, 161, 164, 150, 154, 158, 129, 133, 133, 105, 96, 85, 110, 105, 94, 106, 99, 88, 106, 98, 87, 8, 2, 0, 21, 17, 13, 96, 89, 80, 106, 97, 85, 93, 83, 71, 66, 55, 43, 25, 20, 11, 17, 19, 14, 30, 22, 14, 57, 41, 30, 12, 11, 7, 5, 5, 4, 5, 4, 2, 6, 5, 3, 14, 16, 11, 39, 40, 33, 80, 78, 74, 121, 123, 121, 156, 160, 164, 159, 164, 168, 155, 161, 162, 155, 160, 163, 162, 167, 169, 160, 166, 168, 154, 159, 163, 149, 154, 158, 142, 147, 150, 118, 122, 122, 133, 129, 122, 144, 145, 141, 112, 107, 100, 109, 101, 89, 10, 4, 0, 6, 2, 0, 41, 35, 31, 57, 45, 39, 37, 24, 19, 25, 14, 9, 20, 18, 12, 12, 14, 11, 23, 20, 15, 46, 40, 33, 10, 9, 7, 5, 5, 3, 4, 4, 3, 6, 6, 4, 38, 39, 34, 125, 118, 116, 164, 165, 164, 167, 172, 177, 154, 158, 161, 143, 149, 151, 135, 140, 142, 127, 133, 133, 126, 132, 132, 129, 135, 136, 133, 138, 141, 137, 142, 145, 130, 135, 137, 105, 109, 108, 140, 142, 138, 154, 157, 157, 119, 114, 109, 107, 98, 86, 10, 5, 1, 9, 4, 1, 6, 3, 1, 14, 1, 1, 19, 2, 1, 14, 6, 4, 11, 11, 8, 12, 12, 11, 21, 21, 19, 30, 30, 27, 7, 8, 5, 6, 6, 4, 6, 6, 4, 7, 7, 5, 18, 18, 17, 100, 88, 81, 149, 129, 121, 172, 168, 168, 182, 185, 186, 164, 171, 171, 148, 154, 154, 141, 147, 145, 138, 144, 142, 137, 143, 142, 132, 137, 138, 129, 134, 135, 115, 119, 121, 95, 97, 94, 134, 136, 133, 151, 152, 150, 109, 104, 94, 107, 99, 86, 11, 4, 1, 11, 4, 1, 8, 4, 3, 10, 3, 3, 18, 4, 3, 13, 9, 7, 6, 6, 5, 9, 10, 7, 18, 20, 18, 18, 20, 20, 11, 11, 9, 11, 11, 9, 8, 8, 7, 6, 6, 4, 9, 9, 9, 47, 43, 37, 104, 78, 66, 161, 149, 138, 194, 196, 196, 181, 189, 188, 173, 180, 179, 172, 177, 178, 169, 174, 175, 159, 164, 166, 154, 159, 162, 141, 146, 149, 102, 106, 107, 94, 94, 90, 132, 135, 132, 132, 133, 130, 105, 99, 85, 105, 99, 86, 9, 4, 0, 11, 4, 1, 8, 3, 2, 6, 3, 1, 12, 4, 2, 7, 4, 2, 4, 4, 2, 10, 10, 7, 21, 22, 21, 26, 27, 29, 12, 13, 12, 12, 12, 10, 9, 9, 7, 5, 5, 4, 6, 6, 6, 22, 23, 23, 58, 55, 50, 131, 129, 125, 183, 186, 187, 187, 193, 193, 185, 192, 191, 167, 173, 174, 154, 160, 161, 149, 154, 156, 142, 147, 150, 118, 123, 125, 101, 106, 106, 95, 95, 88, 115, 114, 107, 119, 115, 106, 112, 105, 91, 101, 94, 82], \"height\": 32, \"channels\": 3, \"width\": 32, \"type\": \"image\", \"id\": 4803038224}, {\"format\": \"raw\", \"value\": [67, 64, 56, 54, 53, 47, 32, 33, 28, 13, 15, 11, 27, 28, 22, 65, 64, 54, 83, 80, 66, 110, 106, 91, 99, 96, 84, 77, 76, 65, 59, 60, 52, 45, 48, 41, 48, 50, 43, 61, 61, 52, 83, 80, 70, 103, 100, 88, 108, 104, 92, 94, 95, 81, 93, 97, 82, 99, 98, 85, 117, 111, 98, 119, 113, 100, 107, 104, 93, 81, 80, 70, 76, 76, 69, 52, 54, 50, 20, 25, 23, 43, 44, 37, 100, 95, 84, 124, 120, 108, 106, 103, 93, 77, 77, 68, 65, 61, 53, 59, 58, 52, 35, 36, 31, 13, 15, 11, 28, 29, 24, 66, 65, 55, 83, 80, 66, 105, 101, 87, 97, 93, 82, 71, 69, 59, 51, 51, 43, 40, 42, 36, 48, 50, 43, 65, 65, 57, 85, 83, 72, 101, 97, 85, 115, 110, 98, 92, 92, 79, 89, 91, 77, 107, 104, 91, 116, 110, 96, 102, 96, 83, 86, 83, 71, 72, 71, 61, 75, 75, 68, 52, 54, 50, 20, 25, 22, 41, 42, 36, 109, 104, 94, 129, 125, 113, 103, 101, 90, 74, 74, 65, 70, 67, 58, 69, 68, 62, 32, 33, 28, 12, 13, 9, 30, 31, 25, 68, 67, 57, 85, 82, 68, 93, 90, 75, 88, 85, 73, 70, 69, 58, 54, 55, 46, 43, 45, 38, 48, 50, 44, 65, 65, 57, 81, 79, 69, 99, 94, 82, 121, 114, 103, 91, 88, 75, 77, 78, 64, 110, 104, 92, 121, 114, 102, 99, 93, 80, 80, 77, 65, 72, 71, 61, 73, 73, 66, 49, 52, 48, 20, 25, 23, 40, 41, 35, 103, 97, 87, 115, 111, 99, 97, 94, 84, 75, 75, 66, 84, 80, 72, 61, 59, 54, 26, 28, 22, 12, 14, 9, 31, 32, 27, 62, 61, 52, 85, 82, 68, 87, 84, 69, 85, 82, 70, 81, 79, 69, 63, 64, 56, 44, 46, 39, 47, 49, 43, 63, 62, 54, 82, 79, 69, 103, 98, 86, 125, 117, 106, 95, 91, 79, 80, 79, 66, 116, 109, 98, 122, 114, 102, 104, 98, 85, 89, 86, 75, 78, 78, 68, 72, 72, 65, 49, 52, 48, 20, 26, 23, 35, 36, 30, 91, 85, 75, 106, 102, 90, 95, 93, 83, 77, 77, 68, 87, 85, 77, 52, 51, 45, 22, 23, 18, 11, 13, 9, 38, 38, 33, 74, 73, 63, 92, 89, 75, 101, 96, 82, 100, 95, 84, 87, 84, 74, 75, 77, 67, 46, 50, 41, 44, 47, 40, 64, 64, 55, 88, 86, 75, 104, 99, 86, 120, 112, 100, 105, 99, 86, 97, 93, 79, 114, 107, 95, 109, 102, 90, 98, 94, 81, 92, 90, 78, 87, 87, 76, 83, 83, 75, 60, 63, 58, 22, 27, 23, 32, 33, 26, 90, 85, 75, 122, 117, 105, 103, 100, 90, 83, 82, 73, 65, 65, 58, 41, 41, 37, 20, 20, 17, 11, 11, 8, 42, 41, 36, 82, 79, 70, 98, 93, 80, 119, 111, 99, 117, 107, 98, 100, 95, 85, 87, 89, 77, 48, 54, 42, 47, 52, 43, 65, 67, 56, 88, 88, 74, 100, 96, 81, 119, 111, 97, 123, 114, 101, 117, 110, 96, 110, 102, 88, 94, 90, 77, 88, 88, 74, 83, 83, 69, 85, 86, 72, 84, 85, 73, 63, 65, 57, 27, 29, 22, 33, 34, 27, 97, 96, 88, 136, 128, 119, 118, 113, 103, 98, 96, 86, 53, 55, 47, 33, 34, 29, 18, 18, 16, 14, 13, 11, 48, 47, 42, 81, 77, 69, 102, 97, 84, 124, 116, 103, 120, 111, 102, 109, 104, 93, 82, 82, 69, 46, 49, 36, 52, 54, 43, 70, 70, 59, 89, 88, 75, 98, 94, 80, 112, 104, 92, 122, 114, 102, 128, 120, 109, 116, 108, 96, 97, 94, 82, 89, 90, 78, 88, 88, 76, 93, 93, 80, 86, 87, 76, 69, 70, 61, 31, 32, 24, 36, 37, 29, 103, 102, 94, 128, 122, 114, 109, 104, 96, 107, 105, 96, 57, 58, 50, 34, 34, 30, 18, 18, 16, 13, 12, 10, 55, 53, 49, 88, 84, 75, 103, 97, 84, 125, 117, 104, 123, 114, 103, 111, 105, 92, 83, 81, 67, 57, 56, 42, 68, 66, 54, 85, 82, 70, 98, 95, 83, 94, 91, 79, 89, 83, 74, 97, 91, 82, 114, 107, 99, 111, 104, 96, 100, 98, 88, 89, 89, 79, 87, 87, 77, 96, 96, 86, 97, 98, 88, 86, 87, 79, 37, 38, 30, 34, 36, 27, 91, 91, 84, 104, 100, 94, 96, 92, 86, 104, 100, 94, 59, 60, 53, 35, 35, 31, 17, 17, 15, 14, 13, 11, 61, 60, 55, 93, 89, 80, 100, 94, 81, 114, 107, 92, 110, 102, 87, 102, 95, 80, 82, 76, 60, 65, 59, 44, 87, 80, 68, 94, 88, 76, 99, 95, 84, 61, 58, 49, 58, 54, 48, 81, 76, 71, 69, 64, 59, 83, 78, 73, 92, 90, 83, 91, 91, 82, 86, 85, 77, 88, 88, 79, 93, 93, 85, 83, 84, 76, 44, 45, 37, 34, 35, 27, 82, 82, 75, 105, 104, 99, 105, 103, 98, 108, 102, 99, 66, 67, 59, 38, 39, 34, 17, 17, 15, 15, 15, 12, 49, 48, 44, 60, 56, 48, 60, 54, 42, 78, 71, 56, 96, 89, 73, 102, 94, 78, 106, 97, 82, 129, 120, 105, 98, 88, 74, 88, 79, 68, 65, 60, 51, 18, 15, 9, 19, 16, 13, 32, 28, 25, 18, 14, 12, 26, 22, 19, 42, 40, 35, 53, 52, 46, 49, 49, 43, 41, 40, 35, 54, 54, 48, 55, 56, 48, 31, 32, 24, 26, 27, 19, 46, 47, 40, 77, 78, 73, 92, 90, 86, 104, 98, 95, 42, 44, 36, 30, 31, 28, 16, 15, 12, 14, 15, 11, 18, 22, 16, 16, 16, 8, 27, 20, 8, 91, 78, 62, 148, 134, 118, 161, 147, 130, 174, 160, 142, 206, 191, 174, 157, 141, 126, 164, 149, 133, 158, 144, 131, 105, 97, 87, 24, 21, 13, 12, 11, 6, 14, 12, 8, 16, 10, 5, 21, 16, 4, 26, 23, 9, 20, 17, 7, 9, 7, 1, 13, 13, 7, 15, 17, 11, 12, 17, 11, 11, 17, 13, 11, 17, 14, 20, 21, 19, 27, 26, 23, 36, 32, 30, 13, 15, 8, 16, 18, 14, 30, 26, 21, 22, 22, 13, 11, 16, 7, 22, 22, 12, 90, 78, 63, 167, 147, 129, 202, 181, 164, 204, 184, 166, 136, 118, 98, 118, 101, 83, 188, 170, 154, 215, 194, 174, 190, 170, 151, 168, 153, 138, 93, 88, 74, 26, 26, 15, 16, 13, 5, 62, 52, 42, 123, 111, 92, 149, 140, 120, 124, 116, 102, 64, 58, 49, 30, 28, 20, 12, 14, 6, 11, 16, 10, 10, 18, 15, 11, 19, 18, 16, 17, 15, 16, 16, 13, 14, 14, 10, 16, 18, 11, 19, 20, 14, 49, 41, 34, 47, 39, 25, 48, 43, 28, 103, 95, 80, 168, 150, 130, 191, 167, 145, 196, 173, 154, 194, 173, 155, 117, 100, 83, 129, 115, 99, 217, 203, 189, 219, 200, 182, 118, 99, 81, 102, 86, 72, 176, 164, 148, 132, 124, 111, 106, 98, 88, 180, 165, 152, 221, 203, 191, 229, 213, 202, 222, 208, 195, 190, 179, 164, 145, 137, 123, 84, 79, 67, 35, 32, 20, 19, 17, 7, 18, 18, 8, 17, 17, 9, 21, 23, 15, 19, 22, 15, 17, 19, 12, 20, 19, 12, 35, 24, 13, 78, 61, 42, 138, 124, 103, 176, 161, 143, 187, 163, 142, 183, 154, 132, 178, 153, 132, 200, 179, 160, 216, 200, 183, 241, 229, 214, 245, 235, 224, 238, 222, 207, 201, 182, 164, 206, 189, 174, 232, 215, 199, 231, 217, 204, 221, 210, 199, 233, 218, 203, 240, 219, 210, 238, 216, 212, 234, 216, 205, 231, 217, 200, 230, 218, 200, 204, 194, 177, 139, 129, 112, 82, 71, 55, 68, 59, 43, 65, 62, 48, 31, 31, 19, 17, 18, 9, 18, 20, 13, 23, 20, 12, 52, 37, 23, 132, 111, 89, 177, 159, 137, 192, 174, 156, 192, 168, 149, 185, 155, 134, 185, 157, 136, 214, 193, 174, 236, 222, 205, 244, 236, 223, 243, 238, 230, 248, 234, 221, 242, 224, 207, 241, 224, 208, 243, 224, 211, 243, 229, 219, 238, 228, 220, 236, 224, 211, 245, 226, 217, 245, 226, 219, 243, 226, 214, 237, 224, 207, 236, 225, 208, 235, 226, 209, 221, 210, 192, 189, 174, 154, 165, 150, 130, 166, 153, 136, 115, 106, 92, 50, 46, 35, 23, 24, 16, 43, 37, 27, 113, 95, 80, 176, 153, 131, 192, 172, 152, 212, 194, 178, 210, 187, 170, 197, 169, 148, 187, 159, 136, 211, 189, 169, 239, 225, 208, 244, 237, 225, 246, 241, 235, 250, 238, 226, 245, 228, 211, 241, 223, 207, 243, 225, 214, 244, 231, 225, 245, 237, 231, 239, 230, 220, 241, 226, 214, 248, 231, 219, 245, 231, 218, 240, 229, 215, 237, 228, 214, 236, 228, 213, 235, 223, 206, 226, 211, 191, 202, 185, 163, 180, 161, 143, 179, 163, 148, 111, 100, 90, 37, 34, 24, 111, 99, 84, 175, 158, 140, 193, 175, 158, 212, 193, 178, 227, 207, 191, 221, 198, 178, 199, 175, 153, 149, 126, 107, 146, 126, 108, 228, 211, 194, 245, 230, 216, 249, 234, 225, 242, 224, 212, 231, 211, 193, 242, 223, 202, 244, 231, 215, 245, 235, 223, 250, 240, 231, 246, 234, 225, 237, 220, 207, 245, 227, 212, 246, 231, 216, 242, 229, 216, 244, 233, 220, 245, 235, 221, 244, 233, 218, 237, 225, 209, 214, 201, 185, 195, 179, 164, 195, 179, 166, 147, 135, 123, 62, 56, 45, 177, 161, 143, 209, 192, 173, 216, 198, 185, 230, 210, 197, 229, 207, 190, 224, 200, 178, 203, 180, 157, 99, 78, 60, 75, 56, 38, 191, 172, 155, 240, 223, 208, 242, 224, 211, 213, 194, 180, 147, 126, 109, 193, 172, 154, 244, 233, 218, 245, 235, 221, 249, 236, 223, 247, 231, 219, 229, 213, 199, 231, 218, 202, 236, 225, 211, 220, 211, 198, 196, 189, 177, 171, 164, 153, 167, 161, 150, 136, 129, 118, 87, 80, 69, 88, 81, 70, 117, 105, 96, 96, 88, 77, 72, 64, 52, 173, 156, 137, 220, 202, 181, 239, 220, 205, 235, 213, 200, 223, 199, 181, 226, 201, 178, 217, 192, 168, 130, 107, 86, 110, 89, 71, 203, 187, 171, 243, 229, 214, 241, 227, 209, 205, 188, 172, 78, 56, 42, 135, 111, 98, 240, 227, 215, 242, 231, 218, 243, 227, 213, 238, 219, 204, 200, 188, 172, 153, 148, 133, 116, 112, 99, 77, 76, 64, 48, 48, 39, 31, 29, 23, 29, 27, 21, 20, 18, 11, 14, 13, 6, 14, 13, 6, 22, 17, 12, 23, 19, 13, 60, 50, 36, 144, 126, 104, 205, 185, 162, 234, 213, 196, 228, 205, 190, 215, 190, 170, 216, 190, 165, 234, 206, 180, 209, 184, 160, 188, 168, 148, 242, 227, 212, 250, 239, 226, 250, 237, 222, 234, 218, 203, 132, 109, 94, 179, 153, 137, 248, 228, 214, 235, 218, 203, 211, 195, 179, 154, 139, 123, 87, 78, 64, 38, 36, 24, 22, 22, 12, 19, 20, 12, 18, 20, 13, 19, 20, 15, 19, 20, 15, 22, 22, 17, 21, 23, 17, 21, 26, 19, 23, 21, 17, 25, 22, 18, 65, 54, 39, 132, 112, 90, 191, 169, 145, 220, 197, 179, 218, 193, 177, 187, 160, 139, 170, 142, 117, 207, 177, 150, 213, 185, 160, 227, 206, 186, 249, 235, 221, 239, 230, 221, 247, 236, 229, 251, 235, 223, 223, 199, 180, 233, 204, 181, 240, 212, 190, 204, 180, 160, 117, 101, 85, 44, 37, 24, 26, 21, 11, 24, 21, 12, 24, 23, 17, 25, 26, 22, 24, 24, 19, 23, 22, 15, 25, 24, 17, 25, 24, 17, 20, 21, 13, 17, 22, 13, 24, 22, 16, 29, 23, 18, 90, 79, 65, 157, 138, 118, 195, 173, 151, 214, 189, 172, 203, 178, 161, 145, 120, 96, 138, 107, 79, 182, 149, 121, 219, 192, 168, 233, 213, 193, 225, 208, 194, 210, 195, 186, 242, 230, 224, 253, 239, 227, 242, 221, 199, 225, 194, 164, 218, 182, 150, 174, 146, 122, 58, 46, 32, 24, 21, 12, 27, 24, 15, 27, 23, 14, 23, 20, 14, 23, 22, 18, 26, 24, 19, 28, 23, 16, 27, 23, 15, 29, 24, 17, 27, 25, 17, 26, 27, 14, 37, 29, 18, 37, 27, 21, 51, 44, 36, 114, 101, 88, 152, 135, 118, 169, 147, 133, 133, 115, 99, 93, 76, 51, 140, 108, 79, 195, 159, 133, 226, 205, 183, 209, 193, 172, 134, 112, 97, 139, 112, 100, 194, 177, 160, 244, 230, 214, 245, 225, 203, 228, 196, 165, 201, 164, 125, 108, 86, 61, 33, 28, 19, 29, 24, 19, 28, 23, 12, 24, 22, 9, 22, 19, 8, 22, 20, 11, 25, 21, 15, 26, 21, 17, 24, 19, 15, 25, 20, 16, 28, 25, 19, 51, 46, 27, 70, 51, 30, 41, 31, 21, 18, 17, 13, 42, 36, 28, 69, 59, 48, 65, 50, 42, 38, 28, 16, 39, 31, 11, 118, 95, 72, 183, 152, 130, 214, 194, 172, 200, 185, 163, 74, 58, 42, 51, 29, 14, 145, 124, 104, 228, 208, 190, 238, 212, 191, 226, 194, 165, 140, 113, 84, 40, 27, 10, 22, 20, 12, 30, 23, 15, 29, 23, 10, 28, 25, 12, 30, 26, 15, 28, 24, 15, 24, 19, 13, 24, 19, 14, 24, 19, 14, 26, 21, 15, 29, 25, 19, 57, 47, 27, 107, 85, 46, 62, 51, 25, 15, 19, 17, 18, 19, 14, 21, 19, 13, 20, 16, 12, 20, 17, 11, 19, 15, 4, 60, 48, 35, 111, 91, 75, 130, 112, 93, 147, 133, 114, 100, 91, 75, 66, 55, 40, 186, 163, 147, 207, 182, 165, 174, 147, 127, 134, 105, 85, 57, 43, 28, 31, 27, 18, 24, 22, 13, 35, 25, 13, 38, 30, 15, 36, 32, 19, 47, 42, 31, 39, 34, 26, 31, 26, 19, 37, 33, 24, 29, 25, 16, 28, 24, 15, 28, 24, 17, 70, 57, 37, 149, 126, 75, 116, 105, 66, 15, 20, 16, 16, 20, 15, 15, 19, 14, 17, 19, 16, 16, 17, 14, 15, 15, 9, 18, 13, 6, 28, 20, 9, 38, 27, 13, 70, 58, 46, 94, 87, 76, 89, 84, 73, 136, 121, 109, 99, 79, 65, 62, 41, 26, 43, 27, 14, 32, 26, 19, 31, 28, 21, 35, 28, 18, 50, 39, 23, 46, 37, 22, 31, 24, 12, 34, 27, 17, 33, 24, 17, 39, 32, 25, 49, 45, 35, 31, 27, 17, 27, 23, 13, 31, 28, 19, 67, 55, 35, 150, 128, 82, 107, 96, 63, 17, 20, 12, 16, 19, 12, 13, 18, 11, 15, 18, 14, 19, 19, 16, 18, 15, 12, 18, 15, 10, 15, 16, 8, 14, 14, 5, 26, 17, 13, 36, 27, 25, 31, 29, 26, 41, 37, 29, 36, 27, 15, 29, 20, 9, 27, 25, 18, 32, 28, 23, 32, 23, 14, 48, 37, 23, 58, 47, 28, 50, 41, 25, 40, 32, 20, 33, 24, 14, 30, 21, 14, 39, 31, 23, 36, 32, 20, 27, 22, 11, 26, 22, 10, 28, 26, 14, 45, 37, 18, 93, 71, 45, 57, 47, 32, 17, 20, 14, 15, 19, 16, 13, 17, 11, 19, 23, 15, 20, 20, 15, 19, 16, 11, 21, 18, 12, 17, 17, 10, 17, 17, 11, 26, 19, 16, 24, 16, 15, 21, 17, 14, 25, 24, 15, 38, 34, 23, 30, 26, 15, 25, 25, 16, 28, 23, 15, 30, 21, 12, 36, 28, 17, 45, 39, 23, 34, 29, 16, 34, 27, 17, 36, 27, 18, 31, 20, 14, 35, 28, 23, 34, 30, 22, 31, 25, 12, 29, 23, 10, 26, 23, 13, 42, 38, 20, 73, 58, 42, 48, 38, 31, 16, 20, 17, 15, 19, 19, 13, 18, 11, 18, 22, 12, 17, 18, 10, 17, 16, 9, 22, 18, 11, 21, 16, 10, 22, 17, 11, 31, 26, 20, 27, 22, 17, 26, 22, 15, 25, 21, 10, 31, 27, 16, 30, 26, 15, 25, 21, 10, 26, 21, 10, 29, 22, 15, 30, 23, 16, 43, 38, 23, 48, 41, 26, 39, 30, 19, 36, 26, 16, 31, 22, 16, 32, 25, 22, 48, 40, 32, 69, 57, 40, 78, 66, 51, 35, 29, 20, 35, 33, 16, 60, 52, 37, 50, 41, 32, 17, 19, 14, 17, 19, 15, 15, 18, 10, 17, 20, 11, 18, 19, 11, 18, 17, 9, 22, 18, 11, 21, 16, 10, 22, 17, 11, 27, 22, 16, 30, 25, 19, 30, 25, 19, 25, 20, 14, 24, 19, 13, 24, 19, 13, 23, 18, 12, 26, 22, 14, 31, 24, 16, 38, 27, 16, 62, 47, 26, 103, 85, 59, 75, 58, 39, 39, 27, 14, 37, 29, 21, 47, 37, 29, 102, 86, 68, 109, 90, 63, 103, 86, 63, 48, 39, 25, 37, 34, 20, 43, 35, 21, 46, 37, 27, 18, 20, 11, 17, 19, 10, 16, 17, 10, 18, 20, 12, 17, 18, 10, 18, 17, 9, 20, 16, 10, 21, 16, 10, 24, 19, 13, 29, 24, 18, 34, 29, 23, 30, 25, 19, 23, 18, 14, 23, 17, 14, 24, 19, 15, 24, 19, 15, 24, 20, 13, 29, 22, 14, 43, 29, 17, 78, 60, 35, 113, 89, 56, 75, 56, 31, 35, 25, 11, 36, 28, 19, 61, 48, 32, 130, 108, 79, 104, 80, 48, 102, 82, 54, 64, 53, 36, 39, 35, 24, 44, 36, 22, 44, 35, 25, 22, 22, 11, 22, 22, 9, 19, 18, 10, 19, 20, 13, 16, 17, 9, 20, 18, 11, 26, 22, 15, 23, 18, 12, 28, 23, 17, 36, 31, 25, 28, 23, 17, 24, 19, 12, 27, 22, 15, 27, 23, 15, 27, 23, 15, 31, 26, 19, 27, 22, 14, 27, 20, 13, 36, 26, 16, 51, 39, 19, 89, 71, 43, 59, 46, 25, 29, 25, 13, 30, 23, 12, 83, 66, 45, 145, 121, 86, 115, 91, 52, 109, 91, 59, 65, 56, 37, 34, 30, 20, 41, 32, 20, 37, 29, 16], \"height\": 32, \"channels\": 3, \"width\": 32, \"type\": \"image\", \"id\": 4806484560}, {\"format\": \"raw\", \"value\": [123, 124, 149, 158, 152, 166, 159, 151, 162, 149, 146, 154, 124, 125, 130, 78, 80, 85, 43, 44, 52, 33, 34, 45, 34, 35, 40, 32, 32, 35, 31, 30, 32, 38, 37, 39, 50, 49, 55, 54, 54, 67, 45, 46, 61, 42, 46, 62, 55, 58, 76, 80, 80, 98, 111, 112, 129, 133, 136, 153, 151, 156, 173, 165, 170, 187, 172, 177, 194, 181, 187, 205, 178, 185, 203, 164, 171, 191, 151, 158, 179, 132, 138, 158, 87, 90, 104, 47, 46, 51, 36, 31, 29, 31, 28, 27, 136, 131, 146, 171, 156, 169, 172, 157, 168, 156, 146, 154, 139, 134, 141, 130, 128, 136, 110, 112, 125, 80, 83, 102, 75, 79, 99, 78, 80, 99, 66, 68, 86, 68, 69, 87, 79, 82, 100, 78, 81, 101, 61, 66, 85, 62, 67, 87, 87, 92, 112, 102, 104, 125, 125, 126, 147, 126, 129, 149, 126, 128, 147, 134, 136, 153, 149, 152, 167, 175, 179, 195, 150, 156, 174, 135, 142, 161, 140, 146, 166, 110, 115, 131, 73, 74, 83, 51, 45, 48, 43, 35, 33, 39, 33, 32, 144, 137, 147, 182, 167, 175, 182, 168, 177, 172, 160, 168, 162, 151, 160, 149, 141, 150, 129, 125, 136, 115, 115, 130, 103, 107, 126, 95, 101, 119, 89, 95, 112, 89, 93, 110, 92, 95, 112, 91, 94, 111, 84, 86, 103, 76, 78, 95, 98, 100, 116, 120, 122, 139, 127, 129, 147, 116, 118, 137, 103, 104, 124, 100, 101, 119, 114, 116, 131, 144, 147, 163, 125, 129, 146, 123, 128, 147, 121, 128, 145, 89, 96, 108, 55, 56, 62, 39, 34, 34, 39, 31, 29, 37, 31, 30, 135, 124, 138, 183, 166, 164, 185, 169, 170, 172, 159, 166, 164, 152, 160, 159, 146, 153, 142, 130, 138, 119, 108, 117, 121, 117, 129, 121, 122, 134, 114, 118, 132, 110, 114, 129, 108, 111, 125, 110, 113, 126, 117, 119, 133, 88, 90, 103, 71, 72, 85, 119, 121, 134, 136, 138, 153, 124, 126, 145, 109, 112, 132, 100, 103, 121, 100, 102, 118, 119, 124, 140, 117, 121, 139, 98, 100, 118, 90, 94, 109, 62, 64, 74, 35, 34, 38, 29, 24, 23, 37, 30, 27, 38, 33, 31, 104, 95, 115, 167, 151, 152, 183, 165, 163, 175, 157, 159, 162, 145, 149, 149, 132, 136, 134, 118, 122, 107, 91, 96, 78, 65, 70, 112, 106, 112, 118, 119, 128, 112, 115, 127, 107, 109, 122, 112, 114, 127, 132, 134, 146, 113, 115, 127, 78, 79, 92, 91, 92, 104, 106, 108, 121, 101, 104, 119, 101, 105, 121, 110, 116, 132, 115, 122, 138, 112, 121, 138, 107, 115, 133, 75, 81, 99, 49, 54, 63, 25, 28, 32, 13, 12, 13, 18, 14, 12, 33, 26, 23, 40, 34, 31, 66, 66, 87, 135, 126, 133, 168, 149, 150, 163, 140, 139, 143, 120, 119, 128, 107, 107, 133, 114, 115, 117, 99, 102, 68, 54, 57, 75, 69, 73, 106, 105, 112, 130, 132, 141, 125, 127, 138, 103, 105, 116, 102, 104, 114, 117, 119, 129, 91, 93, 103, 88, 90, 101, 89, 91, 102, 75, 78, 90, 93, 98, 110, 132, 139, 151, 143, 152, 165, 136, 147, 161, 123, 133, 148, 99, 106, 122, 61, 66, 76, 27, 29, 34, 12, 11, 13, 20, 15, 13, 36, 28, 25, 44, 36, 32, 65, 59, 67, 118, 103, 103, 145, 118, 113, 147, 117, 111, 138, 113, 108, 127, 105, 102, 114, 95, 95, 107, 92, 94, 110, 103, 107, 121, 120, 125, 143, 145, 151, 171, 173, 180, 179, 182, 190, 157, 160, 169, 127, 131, 139, 125, 128, 136, 116, 119, 128, 87, 89, 98, 104, 107, 115, 112, 116, 124, 131, 136, 144, 162, 168, 177, 176, 184, 193, 167, 177, 186, 154, 163, 174, 154, 161, 174, 131, 136, 150, 73, 75, 86, 29, 27, 32, 21, 16, 15, 35, 27, 24, 43, 35, 31, 74, 72, 71, 122, 114, 113, 145, 127, 126, 154, 133, 129, 157, 140, 135, 152, 138, 134, 140, 129, 128, 152, 144, 144, 146, 145, 144, 173, 173, 175, 191, 193, 197, 196, 199, 205, 195, 199, 207, 185, 190, 198, 160, 165, 171, 147, 151, 156, 143, 146, 151, 98, 99, 106, 104, 104, 110, 127, 128, 135, 145, 149, 158, 162, 168, 178, 179, 186, 195, 170, 179, 188, 156, 165, 176, 148, 159, 172, 119, 129, 144, 63, 69, 81, 26, 26, 32, 21, 16, 17, 33, 25, 23, 39, 31, 29, 57, 57, 56, 97, 96, 97, 110, 105, 107, 117, 109, 110, 131, 124, 123, 145, 139, 140, 154, 150, 153, 169, 167, 170, 178, 177, 179, 194, 194, 197, 189, 191, 195, 185, 188, 194, 174, 178, 184, 163, 168, 174, 182, 185, 190, 194, 196, 200, 163, 164, 169, 113, 114, 120, 108, 108, 113, 133, 134, 140, 143, 147, 155, 146, 152, 162, 163, 169, 180, 154, 161, 173, 148, 156, 170, 142, 152, 167, 125, 137, 154, 82, 92, 107, 36, 40, 49, 12, 10, 12, 11, 6, 5, 12, 7, 6, 91, 90, 94, 124, 125, 130, 116, 118, 121, 105, 105, 107, 117, 116, 118, 143, 142, 145, 162, 162, 165, 176, 176, 179, 171, 170, 176, 159, 159, 165, 145, 146, 152, 161, 163, 169, 164, 167, 173, 151, 154, 159, 183, 185, 189, 223, 224, 227, 173, 173, 176, 122, 123, 127, 116, 117, 120, 152, 153, 157, 157, 161, 167, 141, 146, 155, 150, 154, 164, 146, 151, 162, 131, 138, 149, 132, 139, 152, 120, 129, 144, 94, 104, 120, 57, 67, 80, 23, 27, 35, 3, 3, 5, 1, 1, 1, 131, 128, 137, 128, 126, 133, 104, 104, 108, 101, 102, 103, 130, 130, 131, 157, 157, 158, 159, 158, 159, 170, 169, 171, 177, 176, 182, 153, 153, 161, 129, 129, 136, 137, 139, 144, 157, 160, 163, 161, 162, 166, 166, 165, 170, 216, 217, 218, 179, 179, 181, 124, 124, 128, 120, 121, 123, 152, 153, 155, 163, 166, 170, 160, 163, 168, 169, 172, 176, 166, 169, 175, 163, 167, 176, 150, 156, 163, 122, 128, 138, 118, 127, 142, 109, 121, 138, 69, 80, 93, 19, 24, 31, 1, 1, 3, 132, 132, 140, 115, 115, 122, 110, 110, 116, 124, 124, 128, 149, 149, 151, 164, 164, 166, 158, 158, 160, 167, 167, 169, 185, 185, 189, 168, 167, 173, 151, 151, 154, 146, 147, 148, 168, 168, 167, 198, 195, 194, 200, 195, 198, 213, 215, 212, 202, 203, 206, 157, 158, 164, 143, 147, 149, 156, 159, 158, 178, 177, 176, 175, 173, 172, 137, 136, 136, 110, 109, 107, 127, 121, 126, 131, 134, 141, 88, 94, 106, 98, 105, 119, 122, 131, 147, 111, 122, 139, 59, 68, 83, 7, 9, 16, 147, 148, 152, 148, 149, 153, 151, 152, 156, 152, 153, 156, 157, 157, 160, 164, 164, 166, 150, 150, 152, 159, 158, 160, 177, 172, 178, 141, 138, 135, 122, 124, 110, 81, 84, 77, 58, 60, 58, 109, 106, 96, 200, 195, 183, 231, 232, 225, 205, 205, 211, 174, 179, 184, 156, 161, 170, 165, 167, 173, 179, 178, 173, 142, 141, 130, 58, 58, 53, 47, 46, 35, 133, 127, 111, 181, 179, 188, 117, 122, 134, 96, 102, 113, 113, 121, 134, 123, 135, 150, 89, 102, 116, 21, 29, 37, 189, 190, 191, 196, 198, 198, 181, 183, 183, 161, 161, 163, 137, 137, 139, 107, 107, 109, 95, 95, 97, 149, 148, 149, 198, 193, 198, 152, 145, 141, 133, 132, 107, 76, 80, 59, 38, 41, 27, 75, 73, 51, 141, 135, 115, 226, 225, 222, 209, 208, 211, 187, 190, 195, 166, 172, 180, 169, 174, 180, 157, 159, 155, 113, 113, 99, 71, 69, 52, 73, 72, 52, 153, 147, 131, 186, 186, 193, 115, 120, 129, 97, 101, 110, 109, 115, 125, 123, 134, 146, 111, 125, 138, 55, 68, 78, 191, 193, 191, 192, 194, 192, 180, 181, 180, 161, 162, 161, 139, 139, 140, 121, 121, 122, 129, 129, 130, 174, 175, 174, 206, 205, 207, 174, 168, 168, 136, 132, 108, 104, 105, 73, 95, 96, 66, 91, 88, 60, 83, 76, 64, 184, 181, 183, 210, 207, 206, 199, 198, 201, 177, 181, 184, 156, 163, 165, 109, 113, 114, 74, 73, 64, 97, 92, 69, 124, 120, 104, 178, 171, 174, 139, 141, 147, 92, 96, 102, 107, 111, 117, 127, 132, 141, 130, 140, 151, 114, 127, 140, 72, 84, 97, 176, 177, 176, 181, 181, 178, 185, 185, 181, 181, 180, 178, 163, 163, 161, 142, 142, 140, 133, 133, 132, 141, 141, 139, 152, 153, 152, 169, 168, 169, 157, 153, 147, 144, 139, 123, 137, 132, 111, 114, 108, 94, 78, 72, 70, 127, 122, 125, 190, 186, 186, 197, 195, 197, 177, 178, 182, 134, 137, 142, 97, 99, 101, 116, 116, 112, 179, 176, 168, 167, 164, 165, 129, 127, 135, 101, 101, 110, 98, 99, 105, 132, 134, 140, 152, 157, 165, 148, 158, 167, 127, 140, 152, 92, 104, 120, 169, 170, 168, 182, 182, 179, 194, 193, 189, 192, 192, 188, 178, 178, 175, 165, 165, 162, 162, 162, 160, 150, 150, 147, 139, 140, 137, 138, 137, 139, 142, 139, 142, 153, 148, 147, 171, 166, 161, 174, 170, 166, 139, 135, 138, 118, 115, 122, 158, 157, 160, 180, 179, 178, 184, 184, 186, 149, 150, 155, 113, 116, 122, 118, 120, 124, 140, 143, 144, 113, 116, 120, 83, 86, 89, 82, 86, 86, 102, 104, 103, 136, 138, 139, 153, 158, 162, 149, 160, 166, 132, 145, 156, 101, 113, 128, 175, 175, 174, 190, 190, 187, 194, 193, 190, 189, 189, 185, 177, 178, 173, 164, 165, 160, 169, 170, 165, 172, 173, 168, 151, 152, 150, 135, 135, 136, 121, 120, 124, 114, 113, 117, 128, 126, 130, 153, 152, 156, 159, 159, 164, 135, 136, 142, 127, 129, 133, 168, 168, 170, 193, 192, 193, 166, 167, 170, 127, 129, 135, 116, 120, 128, 124, 128, 136, 101, 105, 112, 62, 65, 67, 92, 95, 91, 147, 149, 145, 175, 177, 177, 177, 183, 187, 166, 177, 185, 141, 155, 166, 98, 111, 125, 164, 166, 164, 175, 176, 173, 181, 181, 176, 180, 179, 174, 172, 171, 166, 158, 158, 152, 144, 144, 138, 149, 150, 145, 139, 139, 137, 129, 129, 128, 140, 141, 140, 158, 159, 161, 175, 175, 179, 183, 183, 188, 180, 181, 185, 171, 174, 176, 132, 137, 140, 129, 132, 136, 163, 161, 163, 152, 150, 150, 130, 132, 134, 122, 127, 132, 106, 109, 117, 79, 81, 88, 81, 81, 84, 134, 134, 132, 168, 169, 169, 180, 183, 186, 181, 187, 195, 158, 169, 181, 109, 122, 136, 62, 74, 86, 172, 176, 174, 179, 182, 178, 182, 184, 178, 190, 189, 183, 200, 196, 192, 201, 198, 193, 188, 186, 181, 173, 172, 167, 157, 156, 151, 142, 142, 137, 130, 131, 128, 140, 142, 139, 162, 163, 163, 183, 183, 185, 205, 205, 207, 220, 219, 221, 144, 144, 146, 65, 59, 63, 76, 58, 58, 83, 62, 59, 115, 102, 99, 145, 142, 142, 128, 129, 132, 124, 125, 126, 133, 134, 133, 170, 171, 169, 184, 186, 188, 183, 189, 192, 171, 181, 187, 141, 154, 165, 96, 110, 123, 63, 75, 85, 148, 152, 152, 167, 170, 167, 185, 188, 183, 196, 198, 191, 200, 200, 195, 204, 203, 197, 206, 204, 199, 209, 206, 201, 200, 199, 191, 154, 154, 146, 139, 140, 133, 165, 167, 161, 193, 195, 192, 201, 201, 201, 209, 206, 205, 228, 222, 218, 225, 219, 214, 132, 126, 123, 64, 51, 46, 102, 87, 79, 162, 152, 143, 168, 165, 160, 143, 143, 143, 148, 150, 149, 163, 165, 163, 186, 189, 189, 188, 192, 195, 164, 171, 175, 132, 142, 149, 102, 114, 124, 78, 90, 101, 65, 75, 85, 145, 150, 151, 175, 179, 178, 195, 198, 194, 208, 210, 205, 215, 217, 211, 221, 221, 215, 227, 227, 221, 227, 226, 220, 220, 219, 212, 204, 204, 197, 170, 171, 164, 163, 165, 159, 176, 178, 175, 190, 190, 188, 204, 202, 199, 210, 205, 201, 215, 211, 208, 186, 186, 189, 108, 107, 110, 128, 126, 126, 152, 150, 148, 134, 134, 131, 128, 127, 126, 140, 140, 140, 187, 190, 190, 204, 209, 210, 196, 203, 207, 169, 177, 184, 131, 140, 149, 93, 103, 112, 71, 81, 89, 72, 81, 89, 147, 151, 154, 168, 172, 173, 182, 185, 183, 193, 195, 191, 202, 202, 197, 207, 209, 203, 218, 220, 214, 215, 218, 212, 203, 203, 199, 183, 183, 180, 161, 161, 160, 141, 142, 141, 131, 133, 132, 133, 134, 133, 135, 136, 136, 126, 128, 128, 132, 134, 136, 127, 132, 136, 112, 118, 120, 97, 103, 102, 82, 85, 82, 80, 80, 77, 112, 111, 109, 163, 164, 164, 203, 207, 208, 206, 213, 215, 193, 201, 205, 156, 165, 174, 116, 125, 135, 82, 92, 100, 65, 74, 81, 75, 82, 90, 120, 124, 129, 136, 141, 144, 151, 156, 158, 163, 167, 167, 176, 179, 177, 194, 197, 194, 206, 208, 204, 206, 207, 203, 196, 196, 194, 179, 179, 178, 158, 158, 158, 139, 139, 140, 119, 120, 122, 95, 98, 100, 78, 82, 85, 99, 102, 107, 114, 118, 124, 118, 125, 130, 98, 105, 108, 85, 90, 91, 103, 106, 104, 143, 145, 143, 177, 178, 179, 189, 191, 193, 199, 203, 206, 200, 206, 210, 188, 197, 202, 150, 159, 169, 112, 121, 132, 81, 90, 99, 56, 64, 71, 49, 54, 62, 78, 81, 86, 95, 98, 102, 108, 111, 114, 125, 129, 130, 146, 150, 150, 165, 167, 166, 184, 185, 183, 192, 192, 189, 181, 181, 178, 160, 159, 156, 152, 152, 146, 156, 157, 150, 160, 162, 156, 154, 156, 153, 137, 140, 138, 117, 119, 119, 107, 110, 110, 101, 103, 103, 119, 120, 119, 164, 165, 162, 205, 205, 202, 218, 219, 218, 208, 210, 212, 188, 192, 195, 182, 187, 191, 177, 183, 188, 169, 177, 184, 148, 156, 166, 108, 116, 128, 75, 83, 92, 59, 66, 72, 47, 51, 56, 59, 60, 66, 74, 75, 79, 90, 92, 95, 107, 110, 112, 121, 124, 126, 132, 134, 134, 149, 149, 149, 153, 153, 151, 157, 155, 151, 181, 179, 174, 204, 202, 196, 211, 209, 202, 211, 211, 204, 210, 211, 205, 198, 200, 195, 187, 188, 185, 168, 169, 166, 167, 166, 161, 186, 186, 182, 204, 203, 201, 210, 210, 210, 205, 207, 209, 193, 197, 201, 177, 182, 186, 164, 171, 177, 161, 169, 175, 146, 153, 161, 124, 130, 141, 102, 107, 120, 76, 82, 92, 54, 59, 64, 56, 58, 61, 86, 87, 93, 86, 87, 91, 101, 102, 105, 125, 127, 130, 140, 144, 146, 137, 139, 142, 125, 126, 127, 130, 129, 129, 172, 170, 167, 207, 204, 201, 226, 223, 221, 225, 222, 221, 215, 213, 212, 210, 210, 207, 212, 212, 210, 210, 210, 209, 196, 196, 195, 176, 176, 172, 183, 185, 182, 186, 189, 189, 180, 183, 187, 171, 175, 180, 166, 171, 175, 168, 174, 178, 162, 169, 175, 155, 162, 170, 133, 138, 147, 103, 108, 119, 77, 81, 93, 64, 68, 77, 67, 70, 74, 87, 88, 89, 111, 111, 117, 117, 116, 121, 121, 121, 125, 143, 145, 148, 162, 166, 170, 153, 157, 160, 135, 137, 139, 140, 141, 142, 162, 162, 162, 177, 177, 176, 191, 190, 190, 197, 196, 196, 198, 198, 198, 201, 201, 201, 202, 202, 202, 189, 189, 188, 194, 194, 194, 179, 181, 179, 178, 181, 181, 176, 179, 182, 170, 174, 179, 163, 167, 174, 161, 163, 170, 164, 168, 172, 166, 171, 177, 152, 157, 168, 121, 127, 139, 72, 79, 90, 39, 46, 55, 38, 42, 48, 62, 64, 67, 105, 106, 106, 119, 119, 120, 165, 165, 166, 178, 178, 179, 168, 170, 172, 147, 151, 154, 132, 134, 136, 147, 148, 149, 173, 173, 173, 179, 179, 179, 180, 180, 180, 188, 188, 188, 207, 207, 207, 219, 219, 219, 208, 208, 209, 189, 189, 190, 199, 199, 200, 200, 201, 202, 193, 194, 195, 177, 179, 181, 169, 172, 176, 168, 172, 177, 169, 172, 179, 169, 172, 179, 168, 171, 179, 152, 157, 166, 135, 141, 152, 100, 105, 117, 58, 65, 74, 30, 37, 44, 25, 28, 33, 54, 54, 56, 118, 118, 117, 143, 143, 145, 194, 194, 196, 204, 204, 207, 180, 181, 184, 152, 154, 156, 145, 145, 146, 150, 150, 149, 183, 182, 181, 191, 190, 190, 191, 191, 191, 199, 199, 199, 218, 218, 218, 228, 228, 229, 222, 222, 225, 219, 219, 223, 220, 219, 223, 200, 199, 203, 192, 193, 198, 170, 172, 177, 156, 159, 164, 156, 159, 164, 166, 169, 175, 177, 179, 187, 172, 175, 186, 137, 141, 153, 91, 97, 108, 73, 77, 88, 51, 56, 65, 32, 36, 42, 32, 34, 37, 74, 73, 73, 155, 153, 150, 159, 159, 165, 180, 180, 187, 168, 168, 175, 153, 153, 157, 162, 162, 164, 187, 186, 186, 181, 179, 178, 163, 160, 159, 146, 144, 144, 144, 144, 144, 167, 167, 167, 191, 191, 191, 208, 207, 210, 218, 217, 222, 215, 214, 219, 201, 200, 206, 186, 185, 191, 175, 175, 182, 162, 164, 171, 155, 157, 164, 149, 153, 159, 149, 153, 160, 157, 159, 169, 156, 158, 173, 128, 131, 146, 62, 67, 78, 56, 59, 68, 59, 63, 70, 47, 50, 55, 52, 53, 55, 105, 102, 100, 173, 169, 166, 126, 130, 135, 143, 146, 152, 141, 142, 147, 143, 144, 146, 170, 170, 172, 212, 209, 210, 220, 215, 215, 204, 195, 197, 166, 160, 162, 142, 141, 141, 141, 141, 141, 156, 155, 157, 180, 178, 183, 197, 195, 203, 191, 190, 198, 182, 181, 188, 170, 169, 177, 165, 165, 173, 164, 166, 175, 158, 161, 171, 150, 153, 163, 135, 139, 149, 118, 122, 134, 119, 122, 137, 109, 113, 127, 72, 75, 85, 68, 70, 75, 64, 66, 74, 47, 47, 54, 58, 55, 57, 120, 114, 111, 183, 179, 176], \"height\": 32, \"channels\": 3, \"width\": 32, \"type\": \"image\", \"id\": 4806484048}, {\"format\": \"raw\", \"value\": [10, 15, 24, 8, 14, 21, 0, 3, 7, 31, 43, 48, 119, 138, 134, 186, 193, 182, 182, 187, 174, 177, 183, 166, 113, 117, 100, 56, 65, 53, 30, 46, 40, 14, 29, 30, 44, 57, 59, 63, 79, 85, 39, 58, 72, 45, 61, 78, 35, 54, 68, 51, 70, 75, 76, 86, 84, 104, 108, 104, 101, 95, 94, 112, 103, 102, 155, 153, 150, 190, 193, 193, 227, 232, 236, 251, 255, 255, 255, 255, 255, 255, 253, 247, 214, 205, 207, 179, 172, 180, 164, 165, 171, 133, 137, 142, 8, 15, 26, 17, 27, 37, 7, 13, 21, 33, 42, 46, 153, 169, 161, 207, 214, 200, 182, 189, 172, 160, 165, 148, 101, 106, 93, 48, 58, 49, 29, 42, 39, 41, 54, 55, 60, 74, 75, 38, 53, 56, 43, 59, 67, 80, 92, 100, 48, 61, 66, 66, 76, 77, 106, 110, 106, 111, 110, 112, 127, 116, 121, 141, 127, 128, 170, 164, 160, 195, 194, 194, 227, 230, 234, 247, 251, 251, 250, 251, 245, 254, 250, 245, 219, 207, 208, 164, 151, 158, 158, 154, 161, 138, 130, 134, 12, 25, 33, 9, 19, 30, 4, 8, 18, 5, 11, 17, 81, 94, 88, 172, 179, 165, 155, 162, 144, 125, 135, 117, 78, 88, 77, 24, 34, 30, 14, 20, 20, 32, 42, 43, 52, 67, 66, 36, 51, 51, 55, 67, 72, 78, 89, 90, 51, 61, 62, 70, 76, 76, 92, 95, 91, 100, 95, 96, 136, 121, 124, 159, 141, 140, 185, 175, 168, 218, 215, 210, 237, 239, 238, 246, 249, 249, 248, 249, 247, 245, 242, 244, 204, 189, 194, 173, 152, 158, 176, 164, 169, 149, 133, 136, 12, 31, 33, 7, 19, 27, 5, 8, 17, 3, 6, 14, 62, 72, 68, 115, 121, 109, 93, 101, 85, 67, 81, 64, 40, 54, 44, 6, 13, 13, 0, 0, 3, 19, 26, 27, 62, 78, 74, 61, 77, 74, 62, 73, 75, 61, 72, 70, 51, 61, 60, 41, 47, 48, 61, 65, 63, 122, 116, 112, 170, 153, 150, 174, 154, 150, 184, 170, 164, 221, 215, 207, 244, 243, 239, 242, 243, 244, 242, 243, 245, 238, 237, 238, 201, 185, 182, 198, 174, 166, 212, 198, 191, 144, 136, 135, 13, 35, 37, 21, 40, 46, 10, 18, 26, 12, 16, 21, 97, 105, 97, 97, 105, 89, 77, 85, 70, 66, 77, 64, 47, 59, 49, 16, 24, 20, 22, 28, 27, 75, 86, 79, 83, 97, 89, 64, 77, 73, 62, 74, 74, 29, 38, 39, 56, 65, 63, 33, 41, 37, 59, 63, 62, 156, 151, 151, 203, 190, 187, 204, 188, 184, 207, 192, 190, 198, 188, 186, 219, 213, 210, 246, 244, 242, 248, 248, 250, 249, 246, 246, 214, 192, 190, 189, 165, 154, 231, 226, 222, 138, 137, 136, 15, 37, 43, 17, 36, 45, 7, 15, 25, 31, 37, 38, 108, 118, 105, 102, 113, 94, 86, 96, 80, 74, 82, 66, 63, 72, 59, 42, 53, 46, 52, 64, 60, 73, 86, 77, 73, 86, 77, 93, 105, 100, 65, 76, 74, 15, 21, 19, 85, 90, 84, 80, 84, 76, 80, 82, 78, 152, 151, 148, 192, 185, 179, 211, 200, 194, 220, 209, 205, 215, 205, 201, 219, 212, 205, 236, 233, 225, 253, 252, 248, 247, 242, 242, 212, 189, 190, 177, 150, 144, 200, 189, 190, 122, 115, 117, 13, 32, 42, 4, 17, 30, 3, 7, 17, 60, 69, 64, 115, 126, 112, 114, 126, 110, 94, 106, 91, 78, 85, 68, 74, 82, 67, 53, 66, 56, 56, 70, 64, 52, 65, 56, 66, 77, 68, 126, 137, 130, 84, 94, 89, 83, 88, 83, 121, 123, 113, 136, 138, 126, 122, 122, 113, 141, 143, 134, 178, 174, 166, 179, 171, 162, 188, 181, 170, 217, 210, 200, 234, 227, 215, 236, 232, 220, 242, 239, 230, 238, 233, 224, 201, 182, 175, 184, 162, 148, 156, 141, 135, 105, 93, 86, 11, 28, 38, 5, 14, 24, 16, 20, 26, 98, 108, 100, 119, 131, 119, 111, 123, 113, 108, 119, 110, 87, 96, 85, 70, 79, 68, 70, 81, 72, 97, 110, 102, 65, 76, 68, 117, 128, 119, 130, 140, 132, 61, 71, 63, 129, 135, 128, 152, 155, 145, 134, 137, 124, 123, 124, 113, 139, 141, 128, 158, 153, 143, 141, 132, 123, 142, 135, 121, 160, 154, 142, 189, 183, 170, 205, 198, 186, 222, 215, 207, 225, 217, 207, 176, 163, 153, 152, 138, 121, 123, 113, 101, 87, 76, 66, 13, 30, 36, 8, 16, 22, 36, 41, 42, 107, 117, 106, 101, 112, 106, 86, 97, 95, 105, 117, 114, 54, 65, 62, 45, 56, 50, 95, 106, 98, 124, 134, 125, 88, 98, 89, 132, 141, 133, 95, 104, 94, 91, 101, 92, 95, 103, 97, 93, 101, 92, 107, 113, 103, 113, 116, 108, 116, 116, 104, 123, 117, 107, 129, 118, 108, 138, 128, 114, 142, 134, 122, 159, 153, 141, 169, 161, 153, 198, 190, 187, 204, 195, 192, 147, 137, 133, 117, 109, 99, 107, 101, 95, 101, 94, 87, 28, 45, 47, 6, 11, 13, 47, 53, 54, 122, 129, 119, 101, 109, 100, 83, 93, 91, 115, 127, 127, 39, 50, 49, 63, 73, 66, 113, 124, 112, 102, 114, 101, 100, 111, 98, 123, 130, 122, 114, 122, 111, 125, 136, 127, 73, 83, 79, 66, 78, 72, 89, 99, 95, 94, 96, 95, 103, 101, 95, 107, 101, 92, 124, 114, 103, 143, 130, 117, 147, 137, 124, 149, 142, 131, 161, 157, 151, 170, 168, 166, 154, 151, 144, 129, 124, 112, 116, 108, 96, 111, 102, 93, 113, 109, 97, 27, 44, 44, 2, 5, 8, 17, 22, 28, 93, 103, 101, 127, 140, 118, 126, 140, 131, 129, 145, 140, 45, 57, 51, 107, 117, 109, 103, 114, 100, 95, 106, 94, 114, 125, 113, 122, 128, 121, 132, 137, 126, 78, 87, 80, 42, 54, 54, 92, 103, 103, 113, 118, 116, 114, 112, 109, 117, 111, 106, 125, 117, 109, 139, 128, 118, 144, 131, 118, 136, 123, 110, 128, 117, 104, 133, 126, 113, 142, 137, 125, 127, 122, 110, 122, 116, 101, 114, 107, 92, 100, 90, 80, 100, 89, 84, 17, 35, 33, 1, 4, 8, 15, 19, 24, 66, 77, 73, 120, 130, 118, 142, 150, 152, 137, 151, 139, 68, 79, 67, 131, 140, 129, 96, 105, 91, 86, 95, 84, 109, 120, 110, 118, 124, 117, 145, 148, 137, 45, 50, 47, 30, 41, 45, 101, 109, 112, 133, 132, 132, 137, 130, 128, 134, 124, 120, 140, 130, 123, 155, 143, 133, 149, 137, 124, 135, 120, 106, 132, 118, 102, 123, 114, 95, 140, 133, 113, 141, 133, 116, 130, 122, 104, 114, 107, 90, 111, 103, 92, 116, 109, 107, 22, 42, 42, 7, 9, 13, 36, 40, 37, 134, 141, 128, 144, 144, 129, 120, 120, 95, 145, 150, 136, 117, 123, 115, 132, 138, 125, 92, 99, 85, 96, 103, 93, 82, 92, 85, 114, 120, 113, 151, 152, 142, 43, 44, 45, 81, 87, 92, 124, 125, 129, 124, 119, 123, 126, 119, 123, 149, 136, 134, 157, 143, 137, 158, 146, 136, 151, 139, 126, 132, 118, 101, 132, 121, 103, 129, 122, 102, 132, 127, 106, 150, 140, 120, 139, 129, 108, 120, 112, 93, 113, 105, 94, 119, 117, 113, 29, 49, 50, 7, 12, 15, 27, 29, 25, 160, 161, 153, 224, 218, 193, 164, 157, 90, 67, 63, 51, 88, 95, 101, 132, 142, 131, 93, 98, 89, 106, 111, 105, 89, 98, 93, 151, 154, 148, 155, 154, 140, 62, 61, 61, 122, 125, 130, 124, 122, 130, 105, 99, 110, 117, 115, 115, 153, 146, 143, 165, 152, 144, 158, 144, 134, 150, 136, 123, 134, 122, 105, 133, 124, 106, 128, 124, 106, 131, 129, 110, 156, 147, 128, 142, 131, 110, 127, 120, 100, 117, 111, 96, 116, 115, 108, 49, 68, 69, 9, 19, 20, 13, 14, 13, 129, 133, 127, 229, 227, 219, 208, 189, 131, 100, 83, 51, 42, 41, 38, 111, 118, 104, 108, 115, 103, 136, 143, 131, 128, 137, 130, 175, 175, 169, 156, 153, 132, 103, 103, 96, 135, 137, 135, 94, 98, 98, 116, 115, 117, 127, 130, 126, 154, 154, 155, 182, 174, 164, 173, 159, 145, 148, 135, 114, 131, 118, 98, 137, 126, 109, 142, 137, 118, 158, 156, 136, 166, 158, 140, 148, 140, 122, 133, 127, 110, 130, 127, 111, 118, 120, 116, 60, 79, 75, 28, 39, 36, 8, 11, 8, 83, 93, 80, 162, 170, 162, 214, 201, 174, 192, 167, 106, 131, 108, 53, 120, 117, 87, 125, 138, 125, 139, 150, 143, 153, 162, 154, 166, 168, 155, 190, 188, 168, 165, 164, 155, 150, 146, 139, 126, 129, 121, 138, 150, 134, 157, 162, 152, 176, 174, 168, 205, 199, 190, 193, 182, 165, 163, 153, 127, 152, 143, 120, 158, 150, 131, 164, 157, 141, 174, 169, 154, 150, 145, 129, 138, 133, 119, 122, 117, 106, 118, 115, 107, 102, 102, 103, 75, 93, 87, 46, 59, 55, 5, 8, 8, 77, 76, 72, 124, 128, 109, 173, 175, 160, 199, 187, 153, 115, 100, 64, 74, 78, 72, 129, 145, 142, 121, 129, 123, 150, 156, 148, 196, 200, 183, 247, 245, 232, 195, 193, 186, 128, 123, 95, 116, 113, 94, 62, 73, 90, 97, 105, 106, 155, 152, 121, 180, 173, 151, 162, 152, 135, 118, 106, 89, 115, 109, 94, 119, 118, 105, 145, 146, 139, 167, 170, 166, 150, 150, 143, 131, 131, 123, 128, 127, 122, 108, 107, 104, 100, 101, 98, 80, 96, 93, 50, 63, 63, 5, 9, 14, 45, 45, 44, 123, 121, 101, 121, 127, 110, 192, 192, 180, 191, 188, 169, 76, 80, 83, 107, 118, 114, 96, 104, 105, 148, 153, 151, 223, 227, 212, 255, 255, 252, 152, 149, 150, 92, 89, 53, 148, 139, 80, 9, 14, 54, 2, 14, 49, 140, 136, 89, 171, 159, 128, 166, 153, 129, 103, 86, 65, 80, 67, 51, 67, 61, 47, 71, 72, 65, 96, 102, 101, 122, 127, 129, 131, 134, 136, 119, 120, 119, 83, 83, 80, 119, 120, 116, 61, 77, 77, 49, 64, 67, 13, 23, 29, 18, 25, 23, 90, 93, 83, 113, 118, 102, 137, 136, 119, 153, 147, 131, 58, 56, 55, 70, 77, 67, 81, 93, 88, 154, 157, 154, 237, 236, 221, 243, 241, 237, 114, 108, 116, 62, 56, 54, 160, 150, 95, 132, 128, 100, 112, 112, 87, 157, 147, 97, 181, 169, 143, 207, 195, 168, 180, 161, 129, 176, 153, 127, 173, 159, 139, 185, 181, 169, 158, 160, 154, 107, 111, 111, 90, 93, 95, 91, 94, 93, 88, 89, 85, 101, 101, 103, 66, 83, 82, 64, 82, 85, 24, 39, 44, 11, 18, 21, 61, 70, 66, 88, 96, 84, 124, 126, 110, 119, 117, 106, 35, 38, 37, 49, 57, 51, 97, 103, 99, 172, 173, 165, 232, 225, 208, 196, 192, 185, 125, 119, 125, 106, 96, 101, 103, 92, 68, 160, 146, 90, 172, 154, 91, 151, 136, 96, 205, 197, 176, 174, 163, 143, 164, 144, 114, 178, 156, 125, 204, 193, 170, 228, 226, 214, 214, 215, 208, 175, 177, 170, 133, 135, 131, 136, 138, 136, 119, 123, 118, 120, 120, 120, 73, 89, 88, 76, 94, 97, 32, 50, 55, 4, 13, 18, 9, 16, 16, 75, 85, 75, 127, 132, 116, 114, 117, 106, 48, 51, 48, 92, 95, 85, 144, 144, 135, 173, 172, 160, 170, 165, 149, 98, 97, 95, 122, 118, 123, 190, 176, 169, 212, 198, 186, 191, 178, 160, 178, 165, 140, 185, 174, 151, 162, 153, 136, 123, 111, 92, 152, 134, 105, 194, 177, 146, 204, 195, 173, 210, 208, 197, 219, 217, 211, 222, 219, 211, 193, 194, 189, 154, 157, 156, 131, 135, 132, 128, 127, 121, 80, 94, 94, 86, 104, 107, 60, 82, 86, 42, 58, 63, 16, 28, 32, 61, 71, 66, 143, 147, 129, 135, 136, 119, 76, 73, 61, 143, 137, 119, 186, 179, 165, 161, 155, 140, 101, 94, 80, 46, 46, 44, 101, 98, 94, 193, 181, 160, 223, 211, 193, 195, 185, 171, 156, 147, 131, 122, 114, 96, 107, 99, 80, 139, 127, 105, 173, 157, 132, 189, 176, 152, 203, 197, 180, 220, 218, 207, 230, 226, 217, 215, 211, 204, 163, 163, 160, 149, 152, 150, 129, 128, 124, 126, 121, 111, 64, 78, 78, 77, 96, 98, 67, 90, 94, 57, 82, 87, 53, 74, 81, 80, 90, 89, 154, 153, 136, 157, 149, 124, 119, 106, 83, 182, 167, 141, 199, 186, 169, 146, 133, 118, 83, 70, 58, 75, 73, 67, 128, 124, 109, 172, 167, 146, 143, 137, 114, 132, 123, 100, 136, 125, 104, 136, 129, 108, 159, 152, 126, 169, 158, 132, 166, 153, 132, 188, 178, 163, 188, 185, 172, 187, 185, 172, 195, 190, 175, 164, 161, 157, 165, 169, 168, 154, 156, 153, 112, 105, 98, 124, 116, 104, 57, 73, 74, 55, 74, 75, 49, 72, 74, 51, 75, 81, 50, 73, 81, 104, 118, 116, 149, 147, 127, 151, 139, 112, 157, 134, 111, 191, 170, 143, 180, 169, 151, 117, 101, 88, 100, 82, 67, 134, 124, 109, 155, 148, 128, 175, 172, 159, 156, 153, 134, 144, 137, 112, 159, 146, 126, 157, 147, 126, 141, 130, 105, 144, 134, 109, 173, 167, 149, 184, 178, 166, 145, 141, 129, 134, 131, 118, 153, 149, 139, 150, 150, 148, 164, 164, 164, 131, 125, 122, 100, 90, 82, 120, 111, 99, 52, 72, 73, 70, 88, 90, 56, 77, 78, 52, 75, 80, 43, 69, 77, 84, 103, 104, 147, 151, 135, 151, 145, 126, 111, 92, 77, 139, 117, 95, 143, 130, 116, 107, 92, 78, 146, 128, 103, 192, 176, 149, 186, 175, 156, 185, 181, 167, 180, 175, 161, 152, 145, 127, 152, 144, 122, 168, 158, 141, 168, 158, 142, 181, 178, 165, 183, 187, 180, 189, 192, 186, 194, 195, 187, 183, 184, 178, 183, 184, 183, 168, 166, 165, 125, 117, 114, 104, 92, 85, 111, 100, 88, 121, 114, 102, 61, 81, 82, 60, 80, 81, 56, 77, 78, 76, 100, 101, 72, 101, 107, 54, 77, 82, 100, 111, 107, 165, 169, 162, 114, 107, 102, 79, 65, 52, 96, 81, 74, 145, 131, 120, 195, 181, 146, 226, 211, 173, 226, 212, 195, 203, 197, 180, 189, 183, 172, 174, 168, 157, 173, 170, 149, 196, 193, 178, 196, 195, 188, 204, 210, 212, 213, 224, 233, 202, 213, 217, 197, 206, 205, 193, 200, 199, 167, 170, 173, 152, 144, 141, 126, 111, 101, 103, 87, 71, 132, 121, 102, 115, 110, 101, 63, 84, 85, 47, 69, 70, 58, 78, 79, 87, 109, 108, 78, 104, 107, 63, 87, 92, 44, 60, 62, 99, 111, 113, 181, 189, 194, 122, 125, 123, 141, 139, 140, 244, 241, 236, 244, 237, 210, 219, 207, 174, 213, 200, 182, 206, 197, 181, 193, 187, 173, 188, 185, 173, 198, 199, 184, 217, 222, 214, 208, 217, 218, 218, 230, 238, 220, 231, 243, 203, 213, 219, 183, 189, 188, 154, 155, 151, 145, 141, 138, 145, 131, 122, 133, 115, 96, 137, 121, 99, 143, 133, 115, 85, 85, 78, 56, 78, 78, 49, 72, 72, 54, 73, 74, 76, 95, 94, 90, 111, 112, 67, 88, 90, 55, 72, 73, 34, 47, 51, 85, 101, 111, 154, 175, 180, 195, 211, 218, 246, 253, 254, 245, 244, 234, 207, 200, 181, 192, 183, 165, 205, 195, 181, 213, 207, 187, 221, 221, 202, 222, 226, 219, 217, 228, 228, 207, 222, 226, 187, 199, 205, 176, 182, 185, 166, 167, 165, 150, 146, 138, 130, 119, 106, 149, 131, 118, 147, 129, 111, 139, 121, 97, 156, 143, 120, 113, 107, 95, 69, 73, 67, 42, 63, 65, 50, 71, 71, 61, 80, 80, 81, 100, 99, 70, 89, 89, 73, 91, 92, 77, 93, 93, 72, 86, 83, 28, 40, 45, 80, 98, 110, 168, 193, 209, 207, 223, 232, 221, 228, 229, 206, 207, 199, 198, 196, 182, 221, 217, 205, 231, 228, 214, 244, 245, 231, 237, 239, 234, 197, 205, 205, 179, 185, 185, 171, 170, 164, 163, 155, 144, 154, 143, 130, 132, 122, 107, 140, 126, 109, 169, 149, 131, 155, 134, 112, 165, 145, 120, 151, 139, 121, 71, 71, 65, 112, 110, 100, 35, 56, 61, 58, 78, 81, 60, 78, 81, 73, 92, 92, 71, 90, 88, 76, 93, 93, 93, 108, 108, 100, 113, 108, 109, 117, 110, 60, 71, 71, 96, 117, 128, 177, 201, 216, 208, 229, 240, 199, 215, 220, 182, 193, 194, 190, 199, 197, 186, 194, 192, 193, 199, 196, 188, 193, 189, 172, 174, 169, 175, 173, 164, 166, 156, 142, 156, 140, 123, 167, 150, 132, 171, 159, 141, 181, 171, 154, 188, 176, 161, 164, 150, 134, 145, 135, 121, 97, 92, 82, 92, 91, 83, 155, 152, 140, 20, 43, 48, 41, 62, 67, 46, 66, 69, 55, 74, 73, 70, 89, 87, 76, 93, 92, 90, 106, 105, 102, 114, 112, 129, 139, 124, 109, 119, 103, 49, 63, 62, 75, 94, 104, 145, 166, 178, 171, 191, 201, 148, 163, 170, 145, 156, 159, 133, 141, 140, 129, 134, 129, 147, 149, 139, 162, 158, 146, 182, 174, 160, 192, 181, 163, 163, 147, 128, 163, 146, 128, 176, 162, 144, 172, 165, 149, 154, 150, 139, 137, 136, 128, 100, 103, 98, 101, 103, 97, 156, 151, 139, 145, 148, 139, 29, 54, 56, 49, 72, 73, 36, 57, 57, 25, 46, 43, 49, 69, 65, 63, 81, 78, 80, 96, 94, 89, 105, 100, 114, 127, 114, 149, 158, 143, 117, 123, 114, 53, 58, 52, 36, 46, 46, 71, 84, 86, 94, 101, 101, 129, 129, 125, 149, 147, 139, 148, 143, 130, 159, 152, 134, 174, 166, 148, 179, 170, 152, 180, 169, 151, 177, 165, 148, 159, 144, 132, 146, 134, 118, 139, 132, 117, 103, 104, 95, 71, 75, 69, 96, 97, 89, 154, 152, 140, 164, 161, 148, 141, 151, 151], \"height\": 32, \"channels\": 3, \"width\": 32, \"type\": \"image\", \"id\": 4806484304}], \"selected_variable\": {\"name\": [\"<SArray>\"], \"dtype\": \"Image\", \"view_component\": \"Images\", \"view_file\": \"sarray\", \"descriptives\": {\"rows\": 5}, \"type\": \"SArray\", \"view_components\": [\"Images\"]}}, e);\n",
       "                });\n",
       "            })();\n",
       "        "
      ]
     },
     "metadata": {},
     "output_type": "display_data"
    }
   ],
   "source": [
    "get_result(10)"
   ]
  },
  {
   "cell_type": "code",
   "execution_count": 88,
   "metadata": {
    "collapsed": false
   },
   "outputs": [
    {
     "data": {
      "text/plain": [
       "\n",
       "+------------------+-------+----------+\n",
       "|       item       | value | is exact |\n",
       "+------------------+-------+----------+\n",
       "|      Length      |  2005 |   Yes    |\n",
       "| # Missing Values |   0   |   Yes    |\n",
       "| # unique values  |   4   |    No    |\n",
       "+------------------+-------+----------+\n",
       "\n",
       "Most frequent items:\n",
       "+-------+------------+-----+-----+------+\n",
       "| value | automobile | cat | dog | bird |\n",
       "+-------+------------+-----+-----+------+\n",
       "| count |    509     | 509 | 509 | 478  |\n",
       "+-------+------------+-----+-----+------+\n"
      ]
     },
     "execution_count": 88,
     "metadata": {},
     "output_type": "execute_result"
    }
   ],
   "source": [
    "image_train_data['label'].sketch_summary()"
   ]
  },
  {
   "cell_type": "markdown",
   "metadata": {},
   "source": [
    "# Bird is the least frequent item"
   ]
  },
  {
   "cell_type": "code",
   "execution_count": 94,
   "metadata": {
    "collapsed": false
   },
   "outputs": [
    {
     "data": {
      "text/html": [
       "<pre>Starting brute force nearest neighbors model training.</pre>"
      ],
      "text/plain": [
       "Starting brute force nearest neighbors model training."
      ]
     },
     "metadata": {},
     "output_type": "display_data"
    },
    {
     "data": {
      "text/html": [
       "<pre>Starting brute force nearest neighbors model training.</pre>"
      ],
      "text/plain": [
       "Starting brute force nearest neighbors model training."
      ]
     },
     "metadata": {},
     "output_type": "display_data"
    },
    {
     "data": {
      "text/html": [
       "<pre>Starting brute force nearest neighbors model training.</pre>"
      ],
      "text/plain": [
       "Starting brute force nearest neighbors model training."
      ]
     },
     "metadata": {},
     "output_type": "display_data"
    },
    {
     "data": {
      "text/html": [
       "<pre>Starting brute force nearest neighbors model training.</pre>"
      ],
      "text/plain": [
       "Starting brute force nearest neighbors model training."
      ]
     },
     "metadata": {},
     "output_type": "display_data"
    }
   ],
   "source": [
    "simple_dog_model = gl.nearest_neighbors.create(image_train_data[image_train_data['label'] == \"dog\"],\n",
    "                                                 features=['deep_features'])\n",
    "simple_cat_model = gl.nearest_neighbors.create(image_train_data[image_train_data['label'] == \"cat\"],\n",
    "                                                 features=['deep_features'])\n",
    "simple_automobile_model = gl.nearest_neighbors.create(image_train_data[image_train_data['label'] == \"automobile\"],\n",
    "                                                 features=['deep_features'])\n",
    "simple_bird_model = gl.nearest_neighbors.create(image_train_data[image_train_data['label'] == \"bird\"],\n",
    "                                                 features=['deep_features'])"
   ]
  },
  {
   "cell_type": "code",
   "execution_count": 153,
   "metadata": {
    "collapsed": false
   },
   "outputs": [
    {
     "data": {
      "application/javascript": [
       "$(\"head\").append($(\"<link/>\").attr({\n",
       "  rel:  \"stylesheet\",\n",
       "  type: \"text/css\",\n",
       "  href: \"//cdnjs.cloudflare.com/ajax/libs/font-awesome/4.1.0/css/font-awesome.min.css\"\n",
       "}));\n",
       "$(\"head\").append($(\"<link/>\").attr({\n",
       "  rel:  \"stylesheet\",\n",
       "  type: \"text/css\",\n",
       "  href: \"https://static.turi.com/products/graphlab-create/2.1/canvas/css/canvas.css\"\n",
       "}));\n",
       "\n",
       "            (function(){\n",
       "\n",
       "                var e = null;\n",
       "                if (typeof element == 'undefined') {\n",
       "                    var scripts = document.getElementsByTagName('script');\n",
       "                    var thisScriptTag = scripts[scripts.length-1];\n",
       "                    var parentDiv = thisScriptTag.parentNode;\n",
       "                    e = document.createElement('div');\n",
       "                    parentDiv.appendChild(e);\n",
       "                } else {\n",
       "                    e = element[0];\n",
       "                }\n",
       "\n",
       "                if (typeof requirejs !== 'undefined') {\n",
       "                    // disable load timeout; ipython_app.js is large and can take a while to load.\n",
       "                    requirejs.config({waitSeconds: 0});\n",
       "                }\n",
       "\n",
       "                require(['https://static.turi.com/products/graphlab-create/2.1/canvas/js/ipython_app.js'], function(IPythonApp){\n",
       "                    var app = new IPythonApp();\n",
       "                    app.attachView('sarray','Images', {\"ipython\": true, \"rows\": [{\"format\": \"raw\", \"value\": [158, 112, 49, 159, 111, 47, 165, 116, 51, 166, 118, 53, 160, 112, 46, 156, 109, 41, 162, 115, 47, 159, 113, 45, 158, 111, 44, 159, 113, 41, 161, 116, 41, 160, 111, 52, 161, 111, 49, 166, 117, 41, 169, 117, 45, 170, 119, 44, 167, 117, 40, 162, 113, 38, 160, 111, 39, 160, 112, 43, 156, 109, 44, 149, 107, 45, 150, 107, 45, 148, 106, 43, 149, 107, 44, 143, 101, 39, 140, 98, 43, 141, 97, 41, 143, 97, 38, 137, 95, 36, 126, 91, 36, 116, 85, 33, 152, 112, 51, 151, 110, 40, 159, 114, 45, 166, 116, 56, 162, 112, 49, 160, 113, 43, 164, 117, 47, 162, 114, 45, 163, 116, 46, 156, 110, 38, 155, 111, 41, 159, 110, 54, 163, 113, 52, 170, 119, 41, 171, 117, 40, 171, 115, 33, 169, 115, 30, 160, 111, 33, 154, 112, 41, 151, 115, 50, 145, 110, 53, 139, 104, 55, 140, 102, 52, 141, 100, 48, 149, 105, 50, 147, 102, 46, 145, 102, 45, 142, 97, 38, 143, 98, 34, 136, 95, 31, 125, 91, 32, 119, 88, 34, 151, 110, 47, 151, 109, 33, 158, 111, 36, 167, 111, 48, 160, 106, 42, 163, 115, 44, 165, 117, 45, 165, 117, 45, 163, 115, 43, 162, 115, 43, 158, 114, 48, 157, 109, 57, 161, 111, 51, 166, 115, 38, 167, 114, 37, 169, 113, 35, 170, 116, 39, 159, 114, 47, 145, 111, 54, 121, 96, 49, 110, 90, 52, 98, 78, 50, 101, 77, 47, 114, 85, 50, 120, 86, 48, 134, 96, 55, 143, 103, 51, 140, 99, 39, 142, 99, 35, 139, 98, 34, 130, 95, 34, 120, 89, 33, 155, 107, 40, 155, 110, 32, 160, 109, 31, 174, 112, 44, 167, 110, 43, 167, 117, 46, 169, 120, 48, 169, 119, 48, 165, 115, 44, 165, 117, 45, 167, 123, 57, 191, 146, 95, 177, 130, 75, 157, 111, 41, 162, 115, 47, 164, 114, 54, 158, 112, 58, 149, 111, 67, 104, 80, 47, 103, 87, 65, 98, 90, 76, 92, 90, 84, 80, 75, 66, 74, 63, 50, 86, 70, 52, 83, 62, 39, 113, 85, 45, 132, 98, 46, 140, 102, 43, 140, 101, 39, 136, 99, 39, 127, 94, 36, 155, 107, 41, 156, 114, 48, 161, 115, 49, 170, 114, 47, 169, 114, 43, 163, 113, 40, 169, 120, 47, 166, 116, 44, 164, 113, 41, 164, 116, 42, 173, 128, 59, 246, 214, 164, 195, 156, 107, 151, 114, 56, 146, 111, 60, 142, 108, 71, 111, 80, 50, 78, 53, 31, 85, 69, 56, 113, 103, 98, 112, 110, 111, 106, 114, 118, 97, 102, 105, 93, 94, 93, 74, 72, 67, 84, 78, 70, 85, 73, 47, 105, 83, 45, 128, 96, 48, 138, 101, 46, 133, 94, 36, 129, 93, 36, 148, 109, 54, 133, 104, 64, 130, 100, 57, 147, 112, 53, 161, 115, 44, 165, 113, 39, 167, 116, 41, 167, 115, 41, 163, 111, 37, 165, 116, 39, 163, 118, 42, 180, 138, 85, 157, 122, 78, 128, 102, 58, 97, 75, 43, 66, 50, 31, 69, 58, 43, 66, 56, 45, 89, 83, 76, 118, 113, 110, 122, 121, 120, 119, 122, 122, 114, 116, 116, 94, 96, 96, 99, 100, 97, 91, 91, 86, 58, 58, 47, 67, 58, 37, 108, 84, 49, 140, 105, 58, 138, 98, 44, 134, 95, 40, 127, 100, 57, 109, 95, 80, 47, 37, 17, 88, 74, 28, 153, 117, 48, 170, 118, 43, 168, 115, 40, 170, 118, 43, 169, 117, 42, 166, 116, 37, 164, 120, 39, 147, 107, 52, 129, 98, 59, 127, 108, 75, 100, 87, 70, 68, 67, 57, 78, 83, 72, 72, 75, 64, 83, 84, 74, 132, 130, 121, 146, 142, 132, 124, 118, 108, 105, 99, 90, 107, 102, 94, 115, 111, 103, 85, 83, 77, 63, 71, 69, 46, 47, 39, 79, 61, 36, 132, 98, 58, 141, 99, 48, 134, 93, 39, 131, 115, 90, 99, 96, 92, 42, 43, 38, 70, 64, 41, 143, 111, 56, 167, 117, 42, 165, 114, 36, 168, 116, 39, 171, 119, 49, 161, 113, 51, 140, 109, 51, 120, 94, 49, 130, 110, 77, 144, 131, 107, 116, 106, 93, 88, 87, 79, 91, 95, 88, 85, 88, 82, 77, 77, 69, 124, 118, 107, 163, 153, 140, 136, 124, 112, 102, 93, 81, 106, 98, 88, 100, 93, 84, 85, 81, 74, 54, 60, 58, 49, 53, 49, 57, 47, 32, 107, 83, 50, 138, 103, 51, 136, 97, 39, 170, 161, 144, 103, 105, 105, 54, 58, 59, 124, 121, 113, 153, 124, 82, 161, 113, 43, 163, 117, 41, 166, 122, 50, 165, 121, 66, 174, 135, 95, 113, 89, 59, 125, 105, 78, 157, 141, 121, 156, 143, 128, 121, 111, 101, 86, 80, 74, 82, 81, 77, 84, 85, 82, 80, 78, 73, 81, 71, 61, 138, 125, 112, 146, 135, 123, 113, 103, 93, 87, 79, 70, 83, 77, 69, 86, 82, 76, 71, 73, 67, 56, 57, 53, 40, 35, 27, 74, 59, 35, 133, 106, 59, 137, 103, 45, 180, 176, 163, 134, 139, 143, 94, 100, 105, 154, 154, 149, 174, 149, 112, 158, 116, 51, 156, 116, 47, 153, 118, 60, 207, 180, 146, 237, 214, 198, 207, 180, 166, 156, 131, 119, 174, 153, 145, 148, 131, 125, 125, 110, 107, 93, 85, 79, 86, 84, 79, 74, 74, 71, 59, 57, 53, 76, 68, 58, 137, 125, 112, 143, 133, 122, 133, 124, 114, 106, 98, 89, 86, 81, 74, 87, 85, 78, 84, 85, 78, 75, 76, 71, 50, 49, 43, 40, 30, 15, 95, 75, 44, 132, 103, 57, 183, 183, 175, 108, 116, 122, 142, 151, 158, 165, 169, 168, 177, 156, 122, 155, 112, 50, 159, 118, 51, 122, 89, 47, 213, 197, 179, 237, 224, 226, 220, 191, 188, 164, 135, 131, 183, 159, 155, 156, 137, 132, 125, 108, 104, 120, 111, 104, 78, 76, 69, 80, 80, 77, 45, 44, 40, 91, 85, 77, 175, 165, 154, 157, 147, 137, 155, 147, 138, 107, 100, 92, 87, 83, 77, 103, 102, 96, 88, 88, 79, 78, 79, 73, 59, 59, 59, 41, 36, 33, 59, 46, 31, 104, 81, 46, 188, 191, 189, 100, 108, 116, 135, 144, 153, 170, 175, 178, 187, 167, 136, 166, 120, 59, 173, 123, 55, 134, 93, 44, 117, 95, 80, 194, 182, 188, 199, 171, 164, 170, 142, 133, 185, 161, 151, 189, 171, 159, 134, 119, 106, 117, 107, 95, 102, 98, 89, 84, 84, 79, 38, 38, 34, 125, 121, 113, 210, 201, 192, 160, 152, 142, 146, 139, 130, 93, 89, 82, 83, 80, 75, 94, 93, 88, 104, 104, 94, 85, 87, 81, 73, 75, 78, 55, 53, 55, 62, 55, 48, 76, 56, 26, 189, 194, 194, 90, 96, 105, 127, 134, 144, 175, 180, 185, 174, 156, 133, 166, 123, 68, 178, 123, 53, 159, 109, 47, 97, 68, 44, 168, 154, 152, 168, 144, 126, 137, 114, 94, 186, 166, 148, 216, 202, 183, 160, 149, 129, 123, 113, 98, 120, 114, 105, 115, 114, 109, 50, 50, 47, 150, 147, 140, 194, 187, 178, 155, 149, 140, 123, 118, 111, 91, 88, 83, 84, 83, 79, 84, 84, 80, 95, 95, 85, 86, 87, 81, 84, 87, 89, 73, 73, 73, 79, 74, 64, 73, 55, 24, 189, 192, 193, 93, 95, 103, 152, 154, 163, 185, 188, 192, 119, 110, 98, 136, 106, 66, 173, 124, 58, 167, 116, 50, 103, 72, 39, 147, 132, 120, 145, 125, 103, 167, 149, 127, 189, 174, 155, 226, 216, 200, 180, 172, 157, 141, 131, 117, 126, 117, 107, 117, 114, 109, 71, 71, 68, 154, 152, 147, 186, 181, 174, 149, 144, 136, 114, 110, 104, 87, 85, 80, 80, 80, 76, 72, 73, 70, 80, 80, 72, 99, 100, 94, 100, 101, 99, 90, 88, 81, 97, 89, 69, 94, 73, 34, 194, 196, 196, 108, 107, 112, 168, 167, 172, 186, 186, 188, 105, 109, 109, 99, 89, 67, 156, 119, 62, 167, 122, 55, 100, 74, 34, 115, 106, 88, 138, 123, 103, 198, 185, 169, 190, 180, 169, 172, 165, 159, 145, 140, 140, 154, 143, 134, 146, 136, 125, 103, 100, 95, 71, 71, 70, 152, 152, 149, 179, 175, 170, 137, 133, 127, 130, 128, 122, 110, 109, 105, 85, 86, 83, 91, 93, 91, 95, 96, 90, 109, 110, 104, 115, 116, 111, 100, 96, 80, 97, 85, 53, 117, 95, 47, 197, 197, 197, 132, 129, 136, 172, 167, 174, 184, 178, 181, 130, 137, 142, 78, 83, 77, 140, 120, 88, 155, 125, 77, 115, 94, 52, 130, 120, 93, 143, 131, 116, 230, 221, 211, 242, 236, 230, 145, 138, 137, 135, 130, 130, 131, 121, 112, 121, 112, 101, 108, 104, 95, 95, 88, 75, 144, 134, 118, 168, 159, 146, 152, 147, 138, 112, 108, 101, 87, 85, 80, 71, 72, 68, 87, 88, 87, 105, 104, 99, 112, 109, 99, 120, 110, 93, 103, 86, 54, 121, 96, 48, 136, 104, 48, 203, 203, 204, 146, 146, 160, 168, 164, 178, 191, 182, 188, 168, 170, 172, 78, 86, 90, 126, 125, 126, 138, 126, 113, 138, 121, 82, 96, 80, 37, 154, 143, 133, 173, 163, 155, 162, 152, 141, 140, 132, 117, 113, 106, 88, 113, 106, 90, 101, 101, 92, 105, 101, 87, 112, 90, 58, 171, 143, 104, 156, 138, 109, 148, 141, 126, 135, 130, 118, 109, 105, 97, 78, 76, 72, 79, 79, 77, 94, 93, 94, 101, 91, 82, 107, 83, 55, 125, 88, 45, 151, 108, 55, 144, 104, 46, 214, 215, 215, 163, 166, 180, 164, 167, 184, 183, 184, 194, 176, 182, 186, 94, 102, 105, 96, 96, 102, 156, 149, 145, 148, 137, 111, 106, 93, 61, 129, 116, 105, 118, 105, 95, 114, 102, 89, 116, 105, 89, 102, 91, 73, 115, 110, 98, 86, 91, 88, 101, 103, 95, 144, 128, 102, 118, 96, 64, 68, 56, 32, 128, 120, 105, 133, 126, 115, 75, 69, 61, 60, 56, 51, 58, 56, 53, 71, 70, 65, 102, 93, 78, 116, 94, 64, 143, 112, 68, 150, 116, 64, 140, 110, 54, 212, 211, 205, 178, 184, 192, 167, 175, 189, 173, 181, 193, 176, 184, 188, 124, 131, 133, 86, 88, 96, 141, 139, 143, 153, 148, 141, 135, 128, 111, 104, 90, 80, 77, 64, 55, 134, 121, 108, 124, 111, 96, 129, 117, 100, 147, 143, 133, 85, 92, 93, 92, 96, 93, 150, 139, 120, 132, 117, 93, 117, 109, 92, 107, 99, 86, 75, 68, 58, 64, 59, 52, 44, 41, 39, 65, 62, 60, 86, 69, 40, 133, 105, 59, 155, 119, 62, 160, 120, 54, 154, 115, 45, 151, 111, 46, 199, 192, 180, 187, 189, 187, 171, 176, 181, 174, 179, 185, 177, 182, 184, 144, 149, 152, 86, 90, 99, 119, 121, 132, 122, 124, 130, 137, 136, 135, 144, 134, 126, 70, 59, 51, 129, 118, 108, 108, 97, 86, 145, 134, 123, 184, 176, 168, 116, 118, 118, 73, 75, 73, 131, 119, 103, 137, 124, 105, 134, 129, 118, 89, 86, 78, 51, 49, 44, 52, 51, 50, 47, 49, 52, 90, 90, 93, 121, 91, 60, 163, 118, 68, 171, 121, 64, 164, 113, 52, 158, 111, 50, 149, 107, 46, 165, 156, 146, 195, 193, 187, 179, 178, 175, 177, 173, 172, 181, 181, 180, 152, 157, 160, 99, 103, 111, 131, 135, 146, 171, 175, 185, 103, 105, 111, 93, 90, 87, 80, 77, 73, 93, 90, 86, 122, 118, 116, 178, 173, 173, 191, 182, 177, 150, 148, 148, 100, 100, 101, 89, 78, 66, 87, 77, 63, 60, 61, 57, 46, 52, 54, 38, 46, 51, 24, 33, 41, 46, 57, 69, 60, 71, 83, 108, 100, 75, 144, 125, 82, 144, 123, 76, 128, 109, 61, 127, 113, 69, 120, 105, 63, 117, 120, 124, 195, 200, 200, 177, 178, 176, 178, 169, 168, 181, 179, 179, 138, 144, 147, 83, 87, 91, 150, 153, 159, 245, 247, 250, 219, 222, 225, 133, 140, 144, 134, 141, 147, 149, 156, 164, 176, 182, 192, 190, 196, 208, 194, 192, 197, 168, 172, 181, 125, 133, 143, 110, 109, 109, 61, 62, 62, 35, 49, 58, 34, 54, 68, 49, 70, 87, 58, 81, 102, 61, 85, 110, 58, 84, 111, 69, 99, 122, 72, 101, 119, 78, 104, 120, 69, 96, 112, 59, 92, 112, 55, 90, 115, 79, 105, 133, 175, 197, 213, 174, 183, 192, 176, 172, 177, 177, 177, 182, 140, 146, 150, 109, 112, 113, 211, 211, 209, 253, 252, 247, 252, 253, 252, 208, 224, 232, 124, 143, 157, 114, 132, 149, 124, 141, 162, 116, 133, 156, 122, 133, 152, 104, 124, 148, 68, 93, 119, 68, 87, 104, 60, 82, 101, 52, 84, 111, 50, 84, 110, 51, 85, 115, 56, 93, 125, 56, 94, 131, 51, 91, 130, 43, 96, 135, 51, 104, 141, 59, 108, 142, 48, 97, 132, 43, 97, 137, 42, 95, 132, 41, 89, 135, 96, 137, 168, 144, 168, 188, 168, 174, 188, 178, 182, 192, 165, 170, 174, 165, 166, 164, 246, 245, 237, 253, 251, 241, 227, 231, 228, 110, 136, 153, 60, 88, 111, 53, 80, 105, 49, 76, 105, 49, 75, 107, 48, 72, 101, 45, 79, 115, 42, 81, 120, 46, 81, 113, 42, 82, 116, 38, 86, 125, 46, 90, 125, 46, 89, 126, 43, 87, 128, 42, 89, 132, 46, 93, 139, 46, 94, 137, 50, 96, 137, 55, 96, 135, 53, 94, 134, 51, 95, 139, 45, 90, 133, 29, 91, 141, 29, 87, 130, 59, 102, 134, 131, 153, 176, 166, 179, 191, 132, 136, 137, 194, 189, 181, 254, 250, 242, 241, 245, 245, 141, 159, 175, 61, 94, 127, 50, 84, 118, 50, 84, 119, 51, 85, 121, 49, 83, 120, 50, 84, 116, 47, 86, 117, 42, 84, 117, 39, 82, 115, 34, 79, 113, 35, 83, 120, 39, 86, 125, 38, 85, 125, 42, 89, 130, 45, 92, 134, 56, 103, 145, 62, 103, 142, 59, 101, 142, 56, 102, 146, 50, 99, 144, 46, 94, 140, 51, 103, 149, 48, 111, 162, 30, 94, 140, 34, 85, 124, 73, 106, 136, 128, 148, 167, 128, 136, 143, 215, 213, 209, 255, 253, 249, 187, 198, 205, 66, 93, 118, 54, 91, 128, 50, 88, 125, 52, 90, 127, 52, 90, 127, 46, 83, 121, 45, 82, 115, 43, 82, 113, 41, 81, 112, 36, 80, 113, 39, 83, 117, 40, 86, 123, 40, 89, 131, 43, 92, 134, 46, 95, 138, 59, 108, 150, 62, 110, 152, 64, 109, 147, 59, 108, 149, 54, 108, 154, 50, 105, 152, 70, 123, 167, 83, 137, 182, 52, 114, 165, 35, 99, 147, 31, 86, 130, 41, 83, 122, 66, 95, 126, 128, 145, 164, 224, 229, 234, 240, 245, 247, 124, 143, 153, 58, 92, 114, 49, 87, 123, 56, 94, 131, 54, 92, 129, 44, 82, 119, 44, 82, 119, 47, 83, 119, 46, 84, 119, 43, 83, 119, 43, 86, 123, 44, 88, 127, 44, 90, 131, 45, 97, 141, 54, 106, 150, 58, 110, 154, 54, 105, 150, 46, 97, 141, 43, 95, 140, 36, 91, 138, 51, 108, 158, 73, 130, 178, 85, 138, 182, 76, 125, 169, 50, 110, 162, 35, 98, 149, 29, 89, 138, 35, 86, 133, 44, 83, 126, 78, 106, 138, 202, 219, 233, 211, 228, 234, 97, 126, 140, 65, 104, 126, 54, 94, 129, 48, 87, 124, 58, 97, 133, 48, 87, 123, 40, 80, 116, 45, 82, 119, 47, 84, 122, 48, 87, 126, 47, 89, 130, 46, 89, 132, 51, 97, 140, 39, 92, 138, 39, 93, 139, 48, 102, 148, 47, 101, 147, 39, 93, 139, 28, 85, 133, 40, 101, 153, 67, 129, 182, 67, 126, 176, 46, 98, 142, 51, 96, 139, 50, 108, 161, 35, 97, 147, 32, 92, 143, 33, 88, 141, 41, 88, 138, 46, 84, 125, 104, 133, 159, 170, 197, 211, 64, 100, 119, 54, 97, 121, 52, 94, 128, 53, 95, 130, 61, 103, 139, 58, 100, 135, 54, 96, 131, 45, 83, 120, 42, 79, 118, 41, 80, 120, 46, 88, 130, 49, 92, 135, 46, 92, 136, 42, 95, 139, 40, 93, 138, 39, 92, 136, 37, 90, 135, 40, 93, 138, 44, 102, 151, 63, 125, 178, 47, 110, 164, 31, 90, 140, 15, 60, 103, 51, 93, 136, 68, 124, 177, 42, 100, 148, 31, 88, 137, 38, 91, 146, 37, 87, 139, 43, 89, 132, 42, 79, 113, 71, 107, 133, 49, 89, 114, 31, 77, 105, 27, 71, 105, 38, 82, 117, 49, 93, 128, 56, 100, 135, 58, 102, 137, 53, 92, 128, 56, 94, 131, 60, 99, 137, 57, 99, 139, 53, 97, 138, 50, 95, 137, 45, 94, 136, 39, 88, 131, 33, 83, 125, 42, 91, 133, 62, 112, 154, 79, 132, 179, 73, 131, 181, 56, 116, 168, 38, 97, 146, 13, 64, 108, 40, 85, 127, 61, 116, 168, 49, 102, 148, 35, 85, 132, 43, 91, 143, 39, 90, 139, 42, 92, 134, 44, 88, 125, 40, 81, 112, 42, 85, 115, 27, 72, 104, 23, 67, 102, 30, 74, 109, 27, 71, 106, 29, 73, 108, 36, 80, 115, 47, 86, 120, 56, 95, 128, 62, 101, 135, 66, 109, 144, 75, 119, 156, 69, 113, 152, 49, 95, 134, 43, 88, 127, 43, 88, 127, 60, 105, 144, 85, 130, 170, 109, 156, 197, 93, 145, 190, 60, 115, 164, 26, 82, 130, 29, 82, 126, 20, 64, 107, 54, 107, 160, 56, 105, 149, 45, 89, 132, 43, 86, 134, 40, 89, 134, 40, 92, 132, 40, 87, 123, 38, 81, 115, 36, 79, 114, 26, 69, 105, 22, 66, 101, 29, 73, 108, 25, 69, 104, 29, 73, 108, 19, 63, 98, 18, 58, 89, 32, 70, 100, 47, 87, 118, 61, 104, 137, 74, 119, 152, 66, 111, 145, 53, 96, 131, 52, 95, 130, 45, 87, 123, 67, 109, 145, 89, 131, 167, 105, 146, 182, 89, 135, 175, 48, 99, 145, 24, 77, 124, 34, 84, 129, 21, 67, 110], \"height\": 32, \"channels\": 3, \"width\": 32, \"type\": \"image\", \"id\": 4803135824}], \"selected_variable\": {\"name\": [\"<SArray>\"], \"dtype\": \"Image\", \"view_component\": \"Images\", \"view_file\": \"sarray\", \"descriptives\": {\"rows\": 1}, \"type\": \"SArray\", \"view_components\": [\"Images\"]}}, e);\n",
       "                });\n",
       "            })();\n",
       "        "
      ]
     },
     "metadata": {},
     "output_type": "display_data"
    },
    {
     "data": {
      "text/html": [
       "<div style=\"max-height:1000px;max-width:1500px;overflow:auto;\"><table frame=\"box\" rules=\"cols\">\n",
       "    <tr>\n",
       "        <th style=\"padding-left: 1em; padding-right: 1em; text-align: center\">id</th>\n",
       "        <th style=\"padding-left: 1em; padding-right: 1em; text-align: center\">image</th>\n",
       "        <th style=\"padding-left: 1em; padding-right: 1em; text-align: center\">label</th>\n",
       "        <th style=\"padding-left: 1em; padding-right: 1em; text-align: center\">deep_features</th>\n",
       "        <th style=\"padding-left: 1em; padding-right: 1em; text-align: center\">image_array</th>\n",
       "    </tr>\n",
       "    <tr>\n",
       "        <td style=\"padding-left: 1em; padding-right: 1em; text-align: center; vertical-align: top\">181</td>\n",
       "        <td style=\"padding-left: 1em; padding-right: 1em; text-align: center; vertical-align: top\">Height: 32 Width: 32</td>\n",
       "        <td style=\"padding-left: 1em; padding-right: 1em; text-align: center; vertical-align: top\">dog</td>\n",
       "        <td style=\"padding-left: 1em; padding-right: 1em; text-align: center; vertical-align: top\">[0.0, 0.0, 1.11186122894,<br>0.0, 0.0, 0.0, ...</td>\n",
       "        <td style=\"padding-left: 1em; padding-right: 1em; text-align: center; vertical-align: top\">[255.0, 255.0, 255.0,<br>255.0, 255.0, 255.0, ...</td>\n",
       "    </tr>\n",
       "</table>\n",
       "[1 rows x 5 columns]<br/>\n",
       "</div>"
      ],
      "text/plain": [
       "Columns:\n",
       "\tid\tint\n",
       "\timage\tImage\n",
       "\tlabel\tstr\n",
       "\tdeep_features\tarray\n",
       "\timage_array\tarray\n",
       "\n",
       "Rows: 1\n",
       "\n",
       "Data:\n",
       "+-----+----------------------+-------+-------------------------------+\n",
       "|  id |        image         | label |         deep_features         |\n",
       "+-----+----------------------+-------+-------------------------------+\n",
       "| 181 | Height: 32 Width: 32 |  dog  | [0.0, 0.0, 1.11186122894, ... |\n",
       "+-----+----------------------+-------+-------------------------------+\n",
       "+-------------------------------+\n",
       "|          image_array          |\n",
       "+-------------------------------+\n",
       "| [255.0, 255.0, 255.0, 255.... |\n",
       "+-------------------------------+\n",
       "[1 rows x 5 columns]"
      ]
     },
     "execution_count": 153,
     "metadata": {},
     "output_type": "execute_result"
    }
   ],
   "source": [
    "image_test_data[0:1]['image'].show()\n",
    "image_test_data[image_test_data['id'] == 181]"
   ]
  },
  {
   "cell_type": "code",
   "execution_count": 151,
   "metadata": {
    "collapsed": false
   },
   "outputs": [
    {
     "data": {
      "text/html": [
       "<pre>Starting pairwise querying.</pre>"
      ],
      "text/plain": [
       "Starting pairwise querying."
      ]
     },
     "metadata": {},
     "output_type": "display_data"
    },
    {
     "data": {
      "text/html": [
       "<pre>+--------------+---------+-------------+--------------+</pre>"
      ],
      "text/plain": [
       "+--------------+---------+-------------+--------------+"
      ]
     },
     "metadata": {},
     "output_type": "display_data"
    },
    {
     "data": {
      "text/html": [
       "<pre>| Query points | # Pairs | % Complete. | Elapsed Time |</pre>"
      ],
      "text/plain": [
       "| Query points | # Pairs | % Complete. | Elapsed Time |"
      ]
     },
     "metadata": {},
     "output_type": "display_data"
    },
    {
     "data": {
      "text/html": [
       "<pre>+--------------+---------+-------------+--------------+</pre>"
      ],
      "text/plain": [
       "+--------------+---------+-------------+--------------+"
      ]
     },
     "metadata": {},
     "output_type": "display_data"
    },
    {
     "data": {
      "text/html": [
       "<pre>| 0            | 1       | 0.196464    | 29.771ms     |</pre>"
      ],
      "text/plain": [
       "| 0            | 1       | 0.196464    | 29.771ms     |"
      ]
     },
     "metadata": {},
     "output_type": "display_data"
    },
    {
     "data": {
      "text/html": [
       "<pre>| Done         |         | 100         | 139.314ms    |</pre>"
      ],
      "text/plain": [
       "| Done         |         | 100         | 139.314ms    |"
      ]
     },
     "metadata": {},
     "output_type": "display_data"
    },
    {
     "data": {
      "text/html": [
       "<pre>+--------------+---------+-------------+--------------+</pre>"
      ],
      "text/plain": [
       "+--------------+---------+-------------+--------------+"
      ]
     },
     "metadata": {},
     "output_type": "display_data"
    },
    {
     "name": "stdout",
     "output_type": "stream",
     "text": [
      "36.1557307098\n",
      "+-------------+-----------------+---------------+------+\n",
      "| query_label | reference_label |    distance   | rank |\n",
      "+-------------+-----------------+---------------+------+\n",
      "|      0      |       181       |  34.623719208 |  1   |\n",
      "|      0      |       467       | 36.0068799284 |  2   |\n",
      "|      0      |       323       | 36.5200813436 |  3   |\n",
      "|      0      |       269       | 36.7548502521 |  4   |\n",
      "|      0      |        3        | 36.8731228168 |  5   |\n",
      "+-------------+-----------------+---------------+------+\n",
      "[5 rows x 4 columns]\n",
      "\n"
     ]
    },
    {
     "data": {
      "application/javascript": [
       "$(\"head\").append($(\"<link/>\").attr({\n",
       "  rel:  \"stylesheet\",\n",
       "  type: \"text/css\",\n",
       "  href: \"//cdnjs.cloudflare.com/ajax/libs/font-awesome/4.1.0/css/font-awesome.min.css\"\n",
       "}));\n",
       "$(\"head\").append($(\"<link/>\").attr({\n",
       "  rel:  \"stylesheet\",\n",
       "  type: \"text/css\",\n",
       "  href: \"https://static.turi.com/products/graphlab-create/2.1/canvas/css/canvas.css\"\n",
       "}));\n",
       "\n",
       "            (function(){\n",
       "\n",
       "                var e = null;\n",
       "                if (typeof element == 'undefined') {\n",
       "                    var scripts = document.getElementsByTagName('script');\n",
       "                    var thisScriptTag = scripts[scripts.length-1];\n",
       "                    var parentDiv = thisScriptTag.parentNode;\n",
       "                    e = document.createElement('div');\n",
       "                    parentDiv.appendChild(e);\n",
       "                } else {\n",
       "                    e = element[0];\n",
       "                }\n",
       "\n",
       "                if (typeof requirejs !== 'undefined') {\n",
       "                    // disable load timeout; ipython_app.js is large and can take a while to load.\n",
       "                    requirejs.config({waitSeconds: 0});\n",
       "                }\n",
       "\n",
       "                require(['https://static.turi.com/products/graphlab-create/2.1/canvas/js/ipython_app.js'], function(IPythonApp){\n",
       "                    var app = new IPythonApp();\n",
       "                    app.attachView('sarray','Images', {\"ipython\": true, \"rows\": [{\"format\": \"raw\", \"value\": [255, 255, 255, 255, 255, 255, 255, 255, 255, 255, 255, 255, 255, 255, 255, 255, 255, 255, 255, 255, 255, 255, 255, 255, 255, 255, 255, 255, 255, 255, 255, 255, 255, 255, 255, 255, 255, 255, 255, 255, 255, 255, 255, 255, 255, 255, 255, 255, 255, 255, 255, 255, 255, 255, 255, 255, 255, 255, 255, 255, 255, 255, 255, 255, 255, 255, 255, 255, 255, 255, 255, 255, 255, 255, 255, 255, 255, 255, 255, 255, 255, 255, 255, 255, 255, 255, 255, 255, 255, 255, 255, 255, 255, 255, 255, 255, 255, 255, 255, 251, 252, 253, 242, 247, 248, 240, 247, 247, 241, 247, 247, 242, 248, 248, 242, 248, 248, 241, 248, 248, 241, 248, 248, 241, 248, 248, 241, 248, 248, 241, 248, 248, 241, 248, 248, 241, 248, 248, 241, 247, 248, 241, 247, 248, 241, 247, 248, 241, 247, 247, 241, 247, 248, 241, 247, 247, 240, 247, 247, 240, 246, 246, 239, 246, 246, 239, 245, 245, 237, 244, 244, 238, 244, 244, 236, 242, 242, 235, 241, 241, 234, 240, 240, 235, 241, 240, 248, 250, 249, 255, 255, 255, 255, 255, 255, 246, 247, 249, 210, 220, 222, 205, 220, 222, 207, 221, 223, 210, 223, 225, 210, 224, 226, 210, 223, 224, 210, 221, 223, 210, 222, 224, 211, 222, 224, 211, 223, 225, 212, 223, 226, 210, 222, 223, 210, 222, 223, 211, 223, 223, 210, 222, 223, 208, 220, 221, 207, 219, 220, 206, 218, 219, 202, 215, 216, 196, 210, 210, 197, 211, 211, 198, 212, 213, 190, 203, 204, 188, 200, 201, 181, 193, 194, 176, 187, 188, 170, 182, 183, 166, 178, 176, 216, 222, 220, 255, 255, 255, 255, 255, 255, 243, 245, 248, 198, 213, 216, 193, 213, 216, 195, 214, 217, 196, 214, 218, 198, 216, 220, 199, 217, 220, 201, 217, 221, 204, 220, 224, 204, 220, 224, 205, 220, 224, 205, 220, 225, 205, 221, 224, 207, 223, 224, 205, 221, 221, 203, 219, 220, 200, 215, 218, 197, 213, 215, 196, 211, 213, 190, 207, 209, 182, 201, 202, 184, 203, 204, 187, 206, 207, 176, 195, 196, 172, 188, 191, 166, 182, 184, 160, 175, 178, 154, 169, 172, 141, 157, 155, 189, 196, 193, 255, 255, 255, 255, 255, 255, 244, 247, 249, 203, 217, 221, 198, 216, 222, 202, 218, 224, 202, 219, 224, 203, 221, 226, 203, 223, 228, 204, 224, 229, 212, 226, 229, 211, 224, 226, 205, 219, 221, 201, 213, 212, 191, 197, 194, 179, 182, 176, 179, 184, 173, 193, 204, 198, 195, 210, 207, 196, 206, 205, 196, 207, 208, 192, 209, 209, 189, 207, 204, 189, 207, 207, 192, 210, 210, 180, 199, 197, 175, 192, 192, 170, 187, 188, 162, 181, 182, 156, 176, 176, 145, 161, 160, 187, 193, 193, 255, 255, 255, 255, 255, 255, 244, 248, 249, 208, 220, 223, 202, 216, 223, 206, 219, 227, 207, 221, 227, 206, 223, 227, 204, 222, 226, 203, 218, 220, 200, 208, 206, 186, 192, 188, 179, 188, 186, 177, 185, 179, 167, 163, 156, 153, 142, 132, 150, 142, 126, 187, 189, 176, 185, 191, 180, 157, 150, 139, 155, 144, 135, 165, 164, 154, 177, 179, 168, 187, 194, 190, 195, 209, 208, 182, 200, 198, 177, 193, 193, 172, 189, 189, 166, 184, 184, 160, 179, 178, 149, 162, 163, 187, 192, 195, 255, 255, 255, 255, 255, 255, 244, 248, 248, 209, 221, 224, 203, 217, 223, 206, 219, 225, 206, 220, 224, 203, 215, 218, 192, 198, 196, 174, 171, 163, 152, 150, 142, 170, 172, 165, 203, 207, 204, 207, 211, 210, 209, 206, 204, 208, 199, 195, 196, 189, 181, 213, 213, 205, 205, 203, 192, 160, 137, 120, 148, 113, 92, 146, 116, 94, 141, 115, 98, 153, 139, 131, 183, 188, 187, 180, 199, 199, 174, 194, 194, 172, 190, 190, 169, 185, 185, 164, 178, 179, 152, 163, 165, 188, 193, 196, 255, 255, 255, 255, 255, 255, 244, 248, 248, 210, 222, 225, 206, 220, 224, 208, 221, 224, 205, 215, 216, 195, 195, 190, 176, 163, 150, 151, 128, 111, 168, 158, 144, 224, 223, 215, 245, 246, 243, 247, 249, 249, 242, 240, 241, 238, 232, 232, 240, 234, 232, 239, 241, 238, 224, 223, 214, 183, 155, 139, 149, 104, 82, 130, 87, 61, 122, 77, 54, 124, 91, 76, 156, 147, 141, 176, 189, 187, 176, 195, 194, 173, 190, 190, 171, 186, 186, 168, 179, 181, 155, 165, 166, 189, 194, 197, 255, 255, 255, 255, 255, 255, 244, 248, 248, 211, 223, 226, 206, 221, 225, 208, 221, 221, 202, 205, 201, 192, 176, 159, 176, 141, 114, 143, 104, 81, 183, 168, 152, 240, 240, 233, 253, 254, 253, 254, 254, 255, 250, 250, 250, 248, 246, 246, 248, 246, 245, 241, 241, 238, 229, 226, 214, 173, 145, 126, 118, 73, 51, 97, 54, 28, 103, 55, 31, 111, 70, 49, 120, 98, 83, 156, 155, 147, 178, 190, 190, 177, 191, 193, 173, 187, 188, 168, 182, 183, 155, 167, 168, 189, 195, 197, 255, 255, 255, 255, 255, 255, 245, 249, 248, 212, 224, 226, 206, 222, 225, 208, 220, 221, 197, 195, 187, 186, 160, 135, 160, 113, 81, 142, 101, 76, 195, 180, 166, 243, 244, 238, 254, 254, 254, 254, 254, 255, 253, 254, 254, 253, 252, 249, 244, 237, 232, 224, 210, 194, 199, 177, 152, 135, 96, 72, 86, 37, 15, 74, 31, 8, 82, 37, 15, 84, 41, 21, 88, 56, 38, 120, 104, 91, 166, 169, 167, 179, 189, 192, 174, 188, 190, 169, 185, 185, 157, 169, 170, 190, 195, 197, 255, 255, 255, 255, 255, 255, 245, 249, 246, 213, 224, 225, 206, 222, 224, 205, 216, 220, 194, 188, 177, 176, 145, 117, 134, 89, 60, 153, 122, 99, 222, 212, 202, 247, 248, 247, 250, 252, 251, 250, 252, 251, 249, 251, 247, 241, 233, 221, 209, 181, 161, 183, 139, 107, 154, 102, 67, 118, 63, 36, 85, 33, 14, 72, 26, 9, 71, 27, 10, 55, 14, 3, 60, 24, 13, 93, 66, 52, 142, 134, 128, 176, 183, 184, 173, 188, 192, 171, 185, 185, 160, 170, 172, 190, 196, 197, 255, 255, 255, 255, 255, 255, 245, 249, 246, 213, 224, 224, 206, 222, 226, 204, 213, 218, 190, 181, 169, 163, 131, 101, 121, 74, 47, 150, 114, 93, 223, 206, 196, 246, 246, 244, 243, 248, 247, 244, 244, 240, 246, 237, 227, 210, 183, 162, 167, 116, 84, 163, 101, 63, 141, 79, 43, 115, 56, 27, 93, 41, 19, 79, 31, 11, 77, 28, 10, 59, 15, 3, 44, 7, 0, 63, 33, 23, 110, 97, 89, 165, 168, 167, 174, 187, 191, 169, 183, 184, 159, 170, 172, 190, 196, 197, 255, 255, 254, 255, 255, 255, 245, 249, 246, 212, 223, 224, 207, 222, 226, 204, 211, 214, 185, 171, 158, 154, 118, 88, 116, 66, 41, 137, 91, 69, 196, 164, 147, 243, 231, 221, 244, 243, 237, 246, 238, 229, 225, 201, 185, 170, 125, 96, 166, 100, 62, 166, 96, 57, 136, 72, 37, 114, 56, 25, 99, 48, 22, 93, 44, 20, 95, 43, 21, 75, 28, 11, 58, 18, 7, 49, 15, 7, 83, 64, 53, 155, 153, 149, 176, 186, 189, 169, 183, 184, 159, 169, 171, 190, 195, 197, 255, 255, 254, 255, 255, 255, 245, 249, 246, 212, 222, 223, 206, 221, 222, 200, 204, 202, 176, 157, 141, 151, 112, 85, 106, 58, 39, 94, 54, 37, 130, 95, 77, 216, 195, 181, 244, 234, 227, 241, 226, 214, 174, 141, 121, 124, 72, 45, 145, 81, 50, 167, 101, 68, 149, 87, 54, 119, 65, 34, 105, 55, 28, 116, 64, 40, 115, 62, 36, 99, 50, 25, 84, 39, 19, 60, 18, 4, 60, 34, 20, 133, 125, 118, 176, 183, 185, 171, 183, 186, 159, 168, 172, 190, 195, 197, 255, 255, 254, 255, 255, 255, 245, 249, 246, 211, 222, 223, 206, 222, 219, 191, 193, 185, 162, 139, 121, 147, 103, 80, 103, 60, 51, 32, 12, 8, 111, 88, 79, 172, 154, 149, 147, 138, 138, 193, 175, 164, 140, 104, 87, 82, 32, 15, 106, 56, 39, 162, 108, 84, 177, 123, 93, 140, 91, 62, 111, 61, 36, 129, 78, 54, 123, 73, 44, 121, 72, 40, 112, 62, 34, 83, 35, 13, 54, 21, 4, 93, 79, 71, 169, 173, 174, 172, 183, 186, 158, 168, 171, 190, 195, 197, 255, 255, 254, 255, 255, 255, 245, 248, 246, 211, 221, 223, 200, 218, 215, 181, 176, 166, 156, 120, 101, 133, 86, 63, 105, 65, 51, 62, 46, 43, 167, 159, 158, 82, 77, 81, 29, 20, 27, 101, 78, 75, 124, 90, 84, 51, 18, 14, 46, 24, 23, 88, 59, 50, 148, 106, 81, 148, 101, 70, 125, 77, 48, 137, 91, 66, 127, 80, 52, 136, 89, 58, 137, 88, 57, 109, 61, 31, 76, 34, 10, 77, 37, 27, 143, 138, 133, 172, 184, 186, 160, 167, 171, 189, 195, 195, 255, 255, 255, 255, 255, 255, 245, 248, 245, 210, 221, 222, 196, 212, 208, 172, 160, 148, 146, 105, 85, 119, 74, 52, 103, 67, 52, 160, 149, 141, 176, 173, 171, 34, 28, 34, 36, 23, 30, 134, 117, 113, 155, 132, 125, 51, 29, 26, 20, 7, 7, 66, 42, 35, 150, 107, 84, 144, 95, 63, 135, 87, 58, 148, 103, 79, 128, 83, 54, 138, 91, 62, 149, 100, 70, 130, 83, 50, 100, 52, 22, 85, 35, 18, 117, 106, 96, 167, 180, 180, 159, 168, 170, 189, 195, 195, 255, 255, 255, 255, 255, 255, 245, 248, 245, 209, 220, 221, 197, 206, 202, 162, 144, 130, 135, 96, 75, 117, 77, 56, 124, 95, 81, 205, 199, 189, 142, 138, 134, 65, 54, 58, 90, 72, 78, 196, 182, 176, 200, 183, 172, 85, 61, 52, 41, 16, 13, 106, 71, 61, 168, 120, 95, 170, 118, 87, 151, 101, 76, 147, 102, 81, 134, 89, 61, 141, 94, 65, 152, 104, 74, 140, 92, 59, 119, 68, 34, 106, 58, 33, 113, 98, 83, 160, 171, 168, 156, 168, 169, 190, 195, 195, 255, 255, 255, 255, 255, 255, 244, 247, 244, 207, 219, 220, 194, 201, 196, 155, 134, 120, 139, 101, 80, 143, 106, 85, 143, 113, 100, 200, 191, 180, 131, 122, 119, 75, 64, 64, 140, 125, 126, 221, 206, 202, 221, 201, 192, 156, 128, 118, 111, 76, 71, 99, 60, 50, 153, 107, 83, 181, 129, 98, 169, 120, 94, 141, 96, 74, 142, 96, 68, 151, 104, 74, 154, 106, 75, 142, 93, 61, 126, 75, 43, 122, 75, 48, 121, 98, 81, 156, 161, 156, 152, 165, 165, 188, 193, 193, 255, 255, 255, 255, 255, 255, 243, 247, 244, 205, 216, 218, 185, 191, 188, 144, 124, 112, 145, 109, 87, 161, 124, 101, 137, 103, 89, 159, 140, 132, 169, 154, 151, 137, 128, 126, 168, 164, 158, 212, 206, 202, 229, 218, 211, 206, 187, 177, 198, 171, 162, 175, 143, 132, 171, 131, 108, 172, 124, 91, 175, 127, 98, 142, 97, 72, 139, 94, 65, 152, 105, 76, 154, 106, 75, 137, 88, 57, 115, 66, 40, 113, 69, 46, 114, 84, 68, 150, 148, 143, 152, 164, 163, 187, 193, 193, 255, 255, 255, 255, 255, 255, 242, 247, 244, 202, 215, 216, 175, 182, 179, 135, 117, 104, 151, 123, 96, 175, 143, 115, 140, 104, 85, 141, 118, 106, 196, 186, 180, 210, 208, 203, 206, 208, 200, 205, 205, 199, 219, 218, 210, 214, 209, 197, 202, 194, 182, 203, 189, 177, 188, 159, 137, 181, 135, 101, 186, 138, 106, 162, 117, 91, 142, 95, 68, 149, 102, 74, 149, 102, 71, 133, 86, 54, 110, 65, 38, 105, 64, 40, 108, 76, 55, 140, 132, 123, 155, 165, 163, 189, 194, 193, 255, 255, 255, 255, 255, 255, 240, 247, 243, 199, 215, 215, 167, 175, 172, 137, 121, 106, 169, 142, 115, 170, 142, 113, 142, 112, 92, 195, 180, 165, 220, 219, 212, 211, 215, 210, 208, 210, 202, 208, 208, 201, 207, 207, 200, 204, 204, 195, 210, 211, 201, 216, 213, 203, 215, 198, 180, 211, 175, 147, 194, 150, 119, 180, 135, 108, 157, 112, 87, 150, 105, 78, 144, 99, 70, 128, 84, 52, 112, 71, 40, 102, 65, 40, 101, 70, 46, 128, 119, 106, 151, 160, 157, 190, 193, 192, 255, 254, 255, 255, 255, 255, 241, 247, 244, 197, 213, 213, 162, 173, 167, 152, 134, 119, 181, 147, 126, 151, 124, 101, 175, 157, 141, 232, 229, 221, 244, 248, 244, 242, 246, 242, 228, 228, 221, 215, 214, 211, 217, 216, 214, 220, 219, 215, 229, 229, 223, 240, 237, 228, 239, 233, 224, 235, 220, 207, 210, 177, 153, 190, 147, 117, 165, 127, 101, 149, 111, 85, 138, 99, 73, 125, 85, 59, 115, 77, 52, 103, 68, 46, 91, 60, 39, 111, 102, 91, 141, 150, 147, 189, 193, 192, 255, 254, 255, 255, 255, 255, 239, 246, 242, 193, 209, 209, 164, 174, 165, 166, 147, 132, 173, 143, 127, 171, 152, 135, 221, 213, 202, 240, 244, 239, 247, 252, 249, 246, 248, 244, 243, 242, 236, 238, 236, 236, 237, 235, 235, 242, 241, 239, 248, 247, 244, 246, 242, 236, 243, 244, 241, 243, 243, 240, 232, 212, 195, 201, 164, 135, 172, 134, 107, 165, 129, 103, 161, 125, 102, 133, 99, 76, 116, 82, 61, 99, 67, 50, 93, 64, 46, 103, 95, 86, 130, 139, 137, 189, 192, 191, 255, 255, 255, 255, 255, 255, 239, 245, 242, 191, 207, 207, 166, 171, 162, 165, 150, 134, 177, 163, 147, 210, 204, 191, 239, 234, 227, 241, 244, 237, 247, 249, 242, 249, 249, 244, 248, 247, 243, 249, 248, 246, 247, 246, 243, 244, 243, 239, 248, 247, 242, 246, 243, 237, 235, 236, 234, 232, 234, 231, 234, 224, 212, 215, 186, 161, 183, 139, 109, 172, 133, 105, 185, 152, 128, 149, 121, 99, 118, 88, 71, 104, 74, 61, 100, 72, 57, 106, 99, 92, 125, 134, 133, 188, 191, 190, 255, 255, 255, 255, 255, 255, 239, 245, 242, 186, 202, 201, 163, 164, 155, 161, 150, 133, 187, 186, 170, 217, 220, 209, 232, 229, 223, 232, 231, 223, 238, 237, 228, 246, 244, 238, 248, 246, 241, 247, 246, 242, 244, 243, 238, 237, 236, 230, 235, 235, 228, 240, 238, 233, 233, 232, 228, 230, 229, 223, 230, 226, 215, 220, 197, 176, 190, 142, 111, 166, 126, 96, 183, 155, 129, 166, 141, 119, 126, 100, 84, 114, 88, 74, 98, 76, 60, 100, 95, 88, 118, 127, 126, 187, 191, 190, 255, 255, 255, 255, 255, 255, 237, 245, 243, 182, 196, 192, 155, 152, 142, 156, 146, 133, 187, 186, 177, 206, 208, 201, 215, 214, 206, 219, 217, 208, 228, 225, 217, 234, 231, 223, 236, 233, 225, 235, 235, 226, 235, 235, 227, 233, 233, 224, 233, 233, 223, 236, 235, 230, 236, 234, 231, 234, 231, 225, 231, 228, 219, 221, 205, 188, 195, 155, 128, 179, 146, 121, 178, 161, 137, 162, 141, 123, 125, 101, 85, 112, 91, 71, 91, 78, 59, 87, 84, 76, 116, 124, 121, 185, 191, 189, 255, 255, 255, 255, 255, 255, 238, 245, 243, 178, 190, 187, 138, 134, 126, 149, 141, 130, 181, 180, 173, 196, 197, 191, 205, 204, 195, 211, 209, 198, 216, 215, 203, 221, 219, 208, 224, 222, 211, 224, 224, 212, 224, 224, 212, 227, 227, 215, 231, 231, 219, 234, 234, 228, 239, 239, 235, 239, 237, 231, 232, 229, 221, 223, 214, 202, 206, 184, 168, 203, 184, 168, 191, 183, 166, 155, 138, 125, 116, 95, 81, 100, 81, 64, 82, 69, 55, 80, 76, 70, 114, 121, 119, 184, 191, 189, 255, 255, 255, 255, 255, 255, 238, 244, 242, 170, 178, 176, 119, 115, 108, 132, 126, 117, 169, 170, 164, 191, 192, 186, 204, 204, 194, 209, 209, 197, 209, 209, 197, 214, 214, 203, 218, 218, 206, 220, 220, 208, 218, 218, 206, 222, 223, 211, 225, 225, 213, 230, 231, 223, 238, 239, 233, 237, 237, 230, 227, 225, 217, 217, 214, 206, 209, 203, 197, 212, 206, 199, 195, 196, 186, 146, 136, 128, 96, 79, 70, 87, 71, 61, 66, 54, 47, 70, 67, 64, 104, 112, 109, 183, 189, 187, 255, 255, 255, 255, 255, 255, 238, 242, 241, 158, 163, 162, 99, 95, 90, 112, 109, 103, 163, 165, 159, 182, 183, 177, 197, 197, 187, 201, 202, 193, 206, 207, 198, 210, 211, 202, 210, 211, 202, 211, 211, 203, 213, 213, 204, 216, 215, 207, 217, 217, 208, 220, 222, 214, 227, 230, 222, 221, 222, 215, 209, 208, 201, 201, 202, 196, 199, 199, 194, 201, 201, 196, 180, 185, 178, 140, 135, 130, 99, 90, 84, 69, 60, 55, 36, 31, 28, 56, 59, 57, 95, 104, 101, 182, 188, 186, 255, 255, 255, 255, 255, 255, 245, 248, 247, 187, 190, 189, 145, 141, 138, 150, 148, 143, 167, 169, 165, 174, 174, 168, 179, 179, 172, 182, 182, 177, 183, 184, 179, 184, 185, 180, 185, 186, 181, 186, 186, 181, 186, 185, 180, 187, 186, 182, 188, 187, 183, 188, 189, 183, 189, 192, 184, 187, 188, 181, 183, 183, 178, 181, 182, 176, 180, 180, 173, 180, 180, 174, 171, 176, 169, 163, 159, 155, 151, 149, 145, 131, 130, 128, 119, 119, 119, 125, 133, 132, 138, 149, 146, 201, 207, 205, 255, 255, 255, 255, 255, 255, 253, 254, 254, 244, 245, 245, 237, 236, 235, 236, 236, 235, 234, 235, 234, 234, 234, 232, 234, 233, 231, 234, 234, 232, 233, 233, 232, 233, 233, 232, 233, 233, 231, 232, 233, 229, 232, 232, 228, 233, 232, 230, 233, 233, 231, 231, 232, 230, 231, 232, 229, 232, 233, 231, 233, 233, 232, 233, 233, 231, 234, 233, 231, 234, 234, 231, 233, 235, 232, 236, 235, 233, 237, 237, 235, 238, 239, 238, 239, 240, 240, 237, 240, 239, 235, 238, 237, 244, 246, 245, 255, 255, 255], \"height\": 32, \"channels\": 3, \"width\": 32, \"type\": \"image\", \"id\": 4349385744}], \"selected_variable\": {\"name\": [\"<SArray>\"], \"dtype\": \"Image\", \"view_component\": \"Images\", \"view_file\": \"sarray\", \"descriptives\": {\"rows\": 1}, \"type\": \"SArray\", \"view_components\": [\"Images\"]}}, e);\n",
       "                });\n",
       "            })();\n",
       "        "
      ]
     },
     "metadata": {},
     "output_type": "display_data"
    }
   ],
   "source": [
    "cat_table = simple_cat_model.query(image_test_data[0:1])\n",
    "cat_mean = sum(cat_table['distance'])/5\n",
    "print cat_mean\n",
    "print cat_table\n",
    "image_test_data[image_test_data['id'] == 181]['image'].show()"
   ]
  },
  {
   "cell_type": "code",
   "execution_count": 102,
   "metadata": {
    "collapsed": false
   },
   "outputs": [
    {
     "data": {
      "text/html": [
       "<pre>Starting pairwise querying.</pre>"
      ],
      "text/plain": [
       "Starting pairwise querying."
      ]
     },
     "metadata": {},
     "output_type": "display_data"
    },
    {
     "data": {
      "text/html": [
       "<pre>+--------------+---------+-------------+--------------+</pre>"
      ],
      "text/plain": [
       "+--------------+---------+-------------+--------------+"
      ]
     },
     "metadata": {},
     "output_type": "display_data"
    },
    {
     "data": {
      "text/html": [
       "<pre>| Query points | # Pairs | % Complete. | Elapsed Time |</pre>"
      ],
      "text/plain": [
       "| Query points | # Pairs | % Complete. | Elapsed Time |"
      ]
     },
     "metadata": {},
     "output_type": "display_data"
    },
    {
     "data": {
      "text/html": [
       "<pre>+--------------+---------+-------------+--------------+</pre>"
      ],
      "text/plain": [
       "+--------------+---------+-------------+--------------+"
      ]
     },
     "metadata": {},
     "output_type": "display_data"
    },
    {
     "data": {
      "text/html": [
       "<pre>| 0            | 1       | 0.196464    | 29.865ms     |</pre>"
      ],
      "text/plain": [
       "| 0            | 1       | 0.196464    | 29.865ms     |"
      ]
     },
     "metadata": {},
     "output_type": "display_data"
    },
    {
     "data": {
      "text/html": [
       "<pre>| Done         |         | 100         | 145.768ms    |</pre>"
      ],
      "text/plain": [
       "| Done         |         | 100         | 145.768ms    |"
      ]
     },
     "metadata": {},
     "output_type": "display_data"
    },
    {
     "data": {
      "text/html": [
       "<pre>+--------------+---------+-------------+--------------+</pre>"
      ],
      "text/plain": [
       "+--------------+---------+-------------+--------------+"
      ]
     },
     "metadata": {},
     "output_type": "display_data"
    },
    {
     "name": "stdout",
     "output_type": "stream",
     "text": [
      "37.7707113618\n"
     ]
    }
   ],
   "source": [
    "dog_table = simple_dog_model.query(image_test_data[0:1])\n",
    "dog_mean = sum(dog_table['distance'])/5\n",
    "print dog_mean"
   ]
  },
  {
   "cell_type": "code",
   "execution_count": 104,
   "metadata": {
    "collapsed": true
   },
   "outputs": [],
   "source": [
    "image_train_cat = image_train_data[image_train_data['label'] == \"cat\"]\n",
    "image_train_dog = image_train_data[image_train_data['label'] == \"dog\"]\n",
    "image_train_automobile = image_train_data[image_train_data['label'] == \"automobile\"]\n",
    "image_train_bird = image_train_data[image_train_data['label'] == \"bird\"]"
   ]
  },
  {
   "cell_type": "code",
   "execution_count": 105,
   "metadata": {
    "collapsed": true
   },
   "outputs": [],
   "source": [
    "image_test_cat = image_test_data[image_test_data['label'] == \"cat\"]\n",
    "image_test_dog = image_test_data[image_test_data['label'] == \"dog\"]\n",
    "image_test_automobile = image_test_data[image_test_data['label'] == \"automobile\"]\n",
    "image_test_bird = image_test_data[image_test_data['label'] == \"bird\"]"
   ]
  },
  {
   "cell_type": "code",
   "execution_count": 110,
   "metadata": {
    "collapsed": false
   },
   "outputs": [
    {
     "data": {
      "text/html": [
       "<pre>Starting blockwise querying.</pre>"
      ],
      "text/plain": [
       "Starting blockwise querying."
      ]
     },
     "metadata": {},
     "output_type": "display_data"
    },
    {
     "data": {
      "text/html": [
       "<pre>max rows per data block: 4348</pre>"
      ],
      "text/plain": [
       "max rows per data block: 4348"
      ]
     },
     "metadata": {},
     "output_type": "display_data"
    },
    {
     "data": {
      "text/html": [
       "<pre>number of reference data blocks: 4</pre>"
      ],
      "text/plain": [
       "number of reference data blocks: 4"
      ]
     },
     "metadata": {},
     "output_type": "display_data"
    },
    {
     "data": {
      "text/html": [
       "<pre>number of query data blocks: 1</pre>"
      ],
      "text/plain": [
       "number of query data blocks: 1"
      ]
     },
     "metadata": {},
     "output_type": "display_data"
    },
    {
     "data": {
      "text/html": [
       "<pre>+--------------+---------+-------------+--------------+</pre>"
      ],
      "text/plain": [
       "+--------------+---------+-------------+--------------+"
      ]
     },
     "metadata": {},
     "output_type": "display_data"
    },
    {
     "data": {
      "text/html": [
       "<pre>| Query points | # Pairs | % Complete. | Elapsed Time |</pre>"
      ],
      "text/plain": [
       "| Query points | # Pairs | % Complete. | Elapsed Time |"
      ]
     },
     "metadata": {},
     "output_type": "display_data"
    },
    {
     "data": {
      "text/html": [
       "<pre>+--------------+---------+-------------+--------------+</pre>"
      ],
      "text/plain": [
       "+--------------+---------+-------------+--------------+"
      ]
     },
     "metadata": {},
     "output_type": "display_data"
    },
    {
     "data": {
      "text/html": [
       "<pre>| 1000         | 127000  | 24.9509     | 477.102ms    |</pre>"
      ],
      "text/plain": [
       "| 1000         | 127000  | 24.9509     | 477.102ms    |"
      ]
     },
     "metadata": {},
     "output_type": "display_data"
    },
    {
     "data": {
      "text/html": [
       "<pre>| Done         | 509000  | 100         | 552.744ms    |</pre>"
      ],
      "text/plain": [
       "| Done         | 509000  | 100         | 552.744ms    |"
      ]
     },
     "metadata": {},
     "output_type": "display_data"
    },
    {
     "data": {
      "text/html": [
       "<pre>+--------------+---------+-------------+--------------+</pre>"
      ],
      "text/plain": [
       "+--------------+---------+-------------+--------------+"
      ]
     },
     "metadata": {},
     "output_type": "display_data"
    },
    {
     "data": {
      "text/html": [
       "<pre>Starting blockwise querying.</pre>"
      ],
      "text/plain": [
       "Starting blockwise querying."
      ]
     },
     "metadata": {},
     "output_type": "display_data"
    },
    {
     "data": {
      "text/html": [
       "<pre>max rows per data block: 4348</pre>"
      ],
      "text/plain": [
       "max rows per data block: 4348"
      ]
     },
     "metadata": {},
     "output_type": "display_data"
    },
    {
     "data": {
      "text/html": [
       "<pre>number of reference data blocks: 4</pre>"
      ],
      "text/plain": [
       "number of reference data blocks: 4"
      ]
     },
     "metadata": {},
     "output_type": "display_data"
    },
    {
     "data": {
      "text/html": [
       "<pre>number of query data blocks: 1</pre>"
      ],
      "text/plain": [
       "number of query data blocks: 1"
      ]
     },
     "metadata": {},
     "output_type": "display_data"
    },
    {
     "data": {
      "text/html": [
       "<pre>+--------------+---------+-------------+--------------+</pre>"
      ],
      "text/plain": [
       "+--------------+---------+-------------+--------------+"
      ]
     },
     "metadata": {},
     "output_type": "display_data"
    },
    {
     "data": {
      "text/html": [
       "<pre>| Query points | # Pairs | % Complete. | Elapsed Time |</pre>"
      ],
      "text/plain": [
       "| Query points | # Pairs | % Complete. | Elapsed Time |"
      ]
     },
     "metadata": {},
     "output_type": "display_data"
    },
    {
     "data": {
      "text/html": [
       "<pre>+--------------+---------+-------------+--------------+</pre>"
      ],
      "text/plain": [
       "+--------------+---------+-------------+--------------+"
      ]
     },
     "metadata": {},
     "output_type": "display_data"
    },
    {
     "data": {
      "text/html": [
       "<pre>| 1000         | 127000  | 24.9509     | 562.803ms    |</pre>"
      ],
      "text/plain": [
       "| 1000         | 127000  | 24.9509     | 562.803ms    |"
      ]
     },
     "metadata": {},
     "output_type": "display_data"
    },
    {
     "data": {
      "text/html": [
       "<pre>| Done         | 509000  | 100         | 612.783ms    |</pre>"
      ],
      "text/plain": [
       "| Done         | 509000  | 100         | 612.783ms    |"
      ]
     },
     "metadata": {},
     "output_type": "display_data"
    },
    {
     "data": {
      "text/html": [
       "<pre>+--------------+---------+-------------+--------------+</pre>"
      ],
      "text/plain": [
       "+--------------+---------+-------------+--------------+"
      ]
     },
     "metadata": {},
     "output_type": "display_data"
    },
    {
     "data": {
      "text/html": [
       "<pre>Starting blockwise querying.</pre>"
      ],
      "text/plain": [
       "Starting blockwise querying."
      ]
     },
     "metadata": {},
     "output_type": "display_data"
    },
    {
     "data": {
      "text/html": [
       "<pre>max rows per data block: 4348</pre>"
      ],
      "text/plain": [
       "max rows per data block: 4348"
      ]
     },
     "metadata": {},
     "output_type": "display_data"
    },
    {
     "data": {
      "text/html": [
       "<pre>number of reference data blocks: 4</pre>"
      ],
      "text/plain": [
       "number of reference data blocks: 4"
      ]
     },
     "metadata": {},
     "output_type": "display_data"
    },
    {
     "data": {
      "text/html": [
       "<pre>number of query data blocks: 1</pre>"
      ],
      "text/plain": [
       "number of query data blocks: 1"
      ]
     },
     "metadata": {},
     "output_type": "display_data"
    },
    {
     "data": {
      "text/html": [
       "<pre>+--------------+---------+-------------+--------------+</pre>"
      ],
      "text/plain": [
       "+--------------+---------+-------------+--------------+"
      ]
     },
     "metadata": {},
     "output_type": "display_data"
    },
    {
     "data": {
      "text/html": [
       "<pre>| Query points | # Pairs | % Complete. | Elapsed Time |</pre>"
      ],
      "text/plain": [
       "| Query points | # Pairs | % Complete. | Elapsed Time |"
      ]
     },
     "metadata": {},
     "output_type": "display_data"
    },
    {
     "data": {
      "text/html": [
       "<pre>+--------------+---------+-------------+--------------+</pre>"
      ],
      "text/plain": [
       "+--------------+---------+-------------+--------------+"
      ]
     },
     "metadata": {},
     "output_type": "display_data"
    },
    {
     "data": {
      "text/html": [
       "<pre>| 1000         | 127000  | 24.9509     | 562.778ms    |</pre>"
      ],
      "text/plain": [
       "| 1000         | 127000  | 24.9509     | 562.778ms    |"
      ]
     },
     "metadata": {},
     "output_type": "display_data"
    },
    {
     "data": {
      "text/html": [
       "<pre>| Done         | 509000  | 100         | 664.839ms    |</pre>"
      ],
      "text/plain": [
       "| Done         | 509000  | 100         | 664.839ms    |"
      ]
     },
     "metadata": {},
     "output_type": "display_data"
    },
    {
     "data": {
      "text/html": [
       "<pre>+--------------+---------+-------------+--------------+</pre>"
      ],
      "text/plain": [
       "+--------------+---------+-------------+--------------+"
      ]
     },
     "metadata": {},
     "output_type": "display_data"
    },
    {
     "data": {
      "text/html": [
       "<pre>Starting blockwise querying.</pre>"
      ],
      "text/plain": [
       "Starting blockwise querying."
      ]
     },
     "metadata": {},
     "output_type": "display_data"
    },
    {
     "data": {
      "text/html": [
       "<pre>max rows per data block: 4348</pre>"
      ],
      "text/plain": [
       "max rows per data block: 4348"
      ]
     },
     "metadata": {},
     "output_type": "display_data"
    },
    {
     "data": {
      "text/html": [
       "<pre>number of reference data blocks: 4</pre>"
      ],
      "text/plain": [
       "number of reference data blocks: 4"
      ]
     },
     "metadata": {},
     "output_type": "display_data"
    },
    {
     "data": {
      "text/html": [
       "<pre>number of query data blocks: 1</pre>"
      ],
      "text/plain": [
       "number of query data blocks: 1"
      ]
     },
     "metadata": {},
     "output_type": "display_data"
    },
    {
     "data": {
      "text/html": [
       "<pre>+--------------+---------+-------------+--------------+</pre>"
      ],
      "text/plain": [
       "+--------------+---------+-------------+--------------+"
      ]
     },
     "metadata": {},
     "output_type": "display_data"
    },
    {
     "data": {
      "text/html": [
       "<pre>| Query points | # Pairs | % Complete. | Elapsed Time |</pre>"
      ],
      "text/plain": [
       "| Query points | # Pairs | % Complete. | Elapsed Time |"
      ]
     },
     "metadata": {},
     "output_type": "display_data"
    },
    {
     "data": {
      "text/html": [
       "<pre>+--------------+---------+-------------+--------------+</pre>"
      ],
      "text/plain": [
       "+--------------+---------+-------------+--------------+"
      ]
     },
     "metadata": {},
     "output_type": "display_data"
    },
    {
     "data": {
      "text/html": [
       "<pre>| 1000         | 120000  | 25.1046     | 597.189ms    |</pre>"
      ],
      "text/plain": [
       "| 1000         | 120000  | 25.1046     | 597.189ms    |"
      ]
     },
     "metadata": {},
     "output_type": "display_data"
    },
    {
     "data": {
      "text/html": [
       "<pre>| Done         | 478000  | 100         | 623.521ms    |</pre>"
      ],
      "text/plain": [
       "| Done         | 478000  | 100         | 623.521ms    |"
      ]
     },
     "metadata": {},
     "output_type": "display_data"
    },
    {
     "data": {
      "text/html": [
       "<pre>+--------------+---------+-------------+--------------+</pre>"
      ],
      "text/plain": [
       "+--------------+---------+-------------+--------------+"
      ]
     },
     "metadata": {},
     "output_type": "display_data"
    },
    {
     "data": {
      "text/html": [
       "<div style=\"max-height:1000px;max-width:1500px;overflow:auto;\"><table frame=\"box\" rules=\"cols\">\n",
       "    <tr>\n",
       "        <th style=\"padding-left: 1em; padding-right: 1em; text-align: center\">query_label</th>\n",
       "        <th style=\"padding-left: 1em; padding-right: 1em; text-align: center\">reference_label</th>\n",
       "        <th style=\"padding-left: 1em; padding-right: 1em; text-align: center\">distance</th>\n",
       "        <th style=\"padding-left: 1em; padding-right: 1em; text-align: center\">rank</th>\n",
       "    </tr>\n",
       "    <tr>\n",
       "        <td style=\"padding-left: 1em; padding-right: 1em; text-align: center; vertical-align: top\">0</td>\n",
       "        <td style=\"padding-left: 1em; padding-right: 1em; text-align: center; vertical-align: top\">506</td>\n",
       "        <td style=\"padding-left: 1em; padding-right: 1em; text-align: center; vertical-align: top\">33.4773590373</td>\n",
       "        <td style=\"padding-left: 1em; padding-right: 1em; text-align: center; vertical-align: top\">1</td>\n",
       "    </tr>\n",
       "    <tr>\n",
       "        <td style=\"padding-left: 1em; padding-right: 1em; text-align: center; vertical-align: top\">1</td>\n",
       "        <td style=\"padding-left: 1em; padding-right: 1em; text-align: center; vertical-align: top\">62</td>\n",
       "        <td style=\"padding-left: 1em; padding-right: 1em; text-align: center; vertical-align: top\">32.8458495684</td>\n",
       "        <td style=\"padding-left: 1em; padding-right: 1em; text-align: center; vertical-align: top\">1</td>\n",
       "    </tr>\n",
       "    <tr>\n",
       "        <td style=\"padding-left: 1em; padding-right: 1em; text-align: center; vertical-align: top\">2</td>\n",
       "        <td style=\"padding-left: 1em; padding-right: 1em; text-align: center; vertical-align: top\">203</td>\n",
       "        <td style=\"padding-left: 1em; padding-right: 1em; text-align: center; vertical-align: top\">35.0397073189</td>\n",
       "        <td style=\"padding-left: 1em; padding-right: 1em; text-align: center; vertical-align: top\">1</td>\n",
       "    </tr>\n",
       "    <tr>\n",
       "        <td style=\"padding-left: 1em; padding-right: 1em; text-align: center; vertical-align: top\">3</td>\n",
       "        <td style=\"padding-left: 1em; padding-right: 1em; text-align: center; vertical-align: top\">129</td>\n",
       "        <td style=\"padding-left: 1em; padding-right: 1em; text-align: center; vertical-align: top\">33.9010327697</td>\n",
       "        <td style=\"padding-left: 1em; padding-right: 1em; text-align: center; vertical-align: top\">1</td>\n",
       "    </tr>\n",
       "    <tr>\n",
       "        <td style=\"padding-left: 1em; padding-right: 1em; text-align: center; vertical-align: top\">4</td>\n",
       "        <td style=\"padding-left: 1em; padding-right: 1em; text-align: center; vertical-align: top\">120</td>\n",
       "        <td style=\"padding-left: 1em; padding-right: 1em; text-align: center; vertical-align: top\">37.4849250909</td>\n",
       "        <td style=\"padding-left: 1em; padding-right: 1em; text-align: center; vertical-align: top\">1</td>\n",
       "    </tr>\n",
       "    <tr>\n",
       "        <td style=\"padding-left: 1em; padding-right: 1em; text-align: center; vertical-align: top\">5</td>\n",
       "        <td style=\"padding-left: 1em; padding-right: 1em; text-align: center; vertical-align: top\">67</td>\n",
       "        <td style=\"padding-left: 1em; padding-right: 1em; text-align: center; vertical-align: top\">34.945165344</td>\n",
       "        <td style=\"padding-left: 1em; padding-right: 1em; text-align: center; vertical-align: top\">1</td>\n",
       "    </tr>\n",
       "    <tr>\n",
       "        <td style=\"padding-left: 1em; padding-right: 1em; text-align: center; vertical-align: top\">6</td>\n",
       "        <td style=\"padding-left: 1em; padding-right: 1em; text-align: center; vertical-align: top\">38</td>\n",
       "        <td style=\"padding-left: 1em; padding-right: 1em; text-align: center; vertical-align: top\">39.0957278345</td>\n",
       "        <td style=\"padding-left: 1em; padding-right: 1em; text-align: center; vertical-align: top\">1</td>\n",
       "    </tr>\n",
       "    <tr>\n",
       "        <td style=\"padding-left: 1em; padding-right: 1em; text-align: center; vertical-align: top\">7</td>\n",
       "        <td style=\"padding-left: 1em; padding-right: 1em; text-align: center; vertical-align: top\">70</td>\n",
       "        <td style=\"padding-left: 1em; padding-right: 1em; text-align: center; vertical-align: top\">37.7696131032</td>\n",
       "        <td style=\"padding-left: 1em; padding-right: 1em; text-align: center; vertical-align: top\">1</td>\n",
       "    </tr>\n",
       "    <tr>\n",
       "        <td style=\"padding-left: 1em; padding-right: 1em; text-align: center; vertical-align: top\">8</td>\n",
       "        <td style=\"padding-left: 1em; padding-right: 1em; text-align: center; vertical-align: top\">15</td>\n",
       "        <td style=\"padding-left: 1em; padding-right: 1em; text-align: center; vertical-align: top\">35.1089144603</td>\n",
       "        <td style=\"padding-left: 1em; padding-right: 1em; text-align: center; vertical-align: top\">1</td>\n",
       "    </tr>\n",
       "    <tr>\n",
       "        <td style=\"padding-left: 1em; padding-right: 1em; text-align: center; vertical-align: top\">9</td>\n",
       "        <td style=\"padding-left: 1em; padding-right: 1em; text-align: center; vertical-align: top\">79</td>\n",
       "        <td style=\"padding-left: 1em; padding-right: 1em; text-align: center; vertical-align: top\">43.2422832585</td>\n",
       "        <td style=\"padding-left: 1em; padding-right: 1em; text-align: center; vertical-align: top\">1</td>\n",
       "    </tr>\n",
       "</table>\n",
       "[1000 rows x 4 columns]<br/>Note: Only the head of the SFrame is printed.<br/>You can use print_rows(num_rows=m, num_columns=n) to print more rows and columns.\n",
       "</div>"
      ],
      "text/plain": [
       "Columns:\n",
       "\tquery_label\tint\n",
       "\treference_label\tint\n",
       "\tdistance\tfloat\n",
       "\trank\tint\n",
       "\n",
       "Rows: 1000\n",
       "\n",
       "Data:\n",
       "+-------------+-----------------+---------------+------+\n",
       "| query_label | reference_label |    distance   | rank |\n",
       "+-------------+-----------------+---------------+------+\n",
       "|      0      |       506       | 33.4773590373 |  1   |\n",
       "|      1      |        62       | 32.8458495684 |  1   |\n",
       "|      2      |       203       | 35.0397073189 |  1   |\n",
       "|      3      |       129       | 33.9010327697 |  1   |\n",
       "|      4      |       120       | 37.4849250909 |  1   |\n",
       "|      5      |        67       |  34.945165344 |  1   |\n",
       "|      6      |        38       | 39.0957278345 |  1   |\n",
       "|      7      |        70       | 37.7696131032 |  1   |\n",
       "|      8      |        15       | 35.1089144603 |  1   |\n",
       "|      9      |        79       | 43.2422832585 |  1   |\n",
       "+-------------+-----------------+---------------+------+\n",
       "[1000 rows x 4 columns]\n",
       "Note: Only the head of the SFrame is printed.\n",
       "You can use print_rows(num_rows=m, num_columns=n) to print more rows and columns."
      ]
     },
     "execution_count": 110,
     "metadata": {},
     "output_type": "execute_result"
    }
   ],
   "source": [
    "dog_cat_neighbour = simple_cat_model.query(image_test_dog, k=1)\n",
    "automobile_dog_neighbour = simple_automobile_model.query(image_test_dog, k=1)\n",
    "dog_dog_neighbour = simple_dog_model.query(image_test_dog, k=1)\n",
    "bird_dog_neighbour = simple_bird_model.query(image_test_dog, k=1)\n",
    "dog_dog_neighbour\n"
   ]
  },
  {
   "cell_type": "code",
   "execution_count": 113,
   "metadata": {
    "collapsed": false
   },
   "outputs": [
    {
     "data": {
      "text/html": [
       "<div style=\"max-height:1000px;max-width:1500px;overflow:auto;\"><table frame=\"box\" rules=\"cols\">\n",
       "    <tr>\n",
       "        <th style=\"padding-left: 1em; padding-right: 1em; text-align: center\">dog_dog</th>\n",
       "        <th style=\"padding-left: 1em; padding-right: 1em; text-align: center\">dog_cat</th>\n",
       "        <th style=\"padding-left: 1em; padding-right: 1em; text-align: center\">dog_bird</th>\n",
       "        <th style=\"padding-left: 1em; padding-right: 1em; text-align: center\">dog_automobile</th>\n",
       "    </tr>\n",
       "    <tr>\n",
       "        <td style=\"padding-left: 1em; padding-right: 1em; text-align: center; vertical-align: top\">33.4773590373</td>\n",
       "        <td style=\"padding-left: 1em; padding-right: 1em; text-align: center; vertical-align: top\">36.4196077068</td>\n",
       "        <td style=\"padding-left: 1em; padding-right: 1em; text-align: center; vertical-align: top\">41.7538647304</td>\n",
       "        <td style=\"padding-left: 1em; padding-right: 1em; text-align: center; vertical-align: top\">41.9579761457</td>\n",
       "    </tr>\n",
       "    <tr>\n",
       "        <td style=\"padding-left: 1em; padding-right: 1em; text-align: center; vertical-align: top\">32.8458495684</td>\n",
       "        <td style=\"padding-left: 1em; padding-right: 1em; text-align: center; vertical-align: top\">38.8353268874</td>\n",
       "        <td style=\"padding-left: 1em; padding-right: 1em; text-align: center; vertical-align: top\">41.3382958925</td>\n",
       "        <td style=\"padding-left: 1em; padding-right: 1em; text-align: center; vertical-align: top\">46.0021331807</td>\n",
       "    </tr>\n",
       "    <tr>\n",
       "        <td style=\"padding-left: 1em; padding-right: 1em; text-align: center; vertical-align: top\">35.0397073189</td>\n",
       "        <td style=\"padding-left: 1em; padding-right: 1em; text-align: center; vertical-align: top\">36.9763410854</td>\n",
       "        <td style=\"padding-left: 1em; padding-right: 1em; text-align: center; vertical-align: top\">38.6157590853</td>\n",
       "        <td style=\"padding-left: 1em; padding-right: 1em; text-align: center; vertical-align: top\">42.9462290692</td>\n",
       "    </tr>\n",
       "    <tr>\n",
       "        <td style=\"padding-left: 1em; padding-right: 1em; text-align: center; vertical-align: top\">33.9010327697</td>\n",
       "        <td style=\"padding-left: 1em; padding-right: 1em; text-align: center; vertical-align: top\">34.5750072914</td>\n",
       "        <td style=\"padding-left: 1em; padding-right: 1em; text-align: center; vertical-align: top\">37.0892269954</td>\n",
       "        <td style=\"padding-left: 1em; padding-right: 1em; text-align: center; vertical-align: top\">41.6866060048</td>\n",
       "    </tr>\n",
       "    <tr>\n",
       "        <td style=\"padding-left: 1em; padding-right: 1em; text-align: center; vertical-align: top\">37.4849250909</td>\n",
       "        <td style=\"padding-left: 1em; padding-right: 1em; text-align: center; vertical-align: top\">34.778824791</td>\n",
       "        <td style=\"padding-left: 1em; padding-right: 1em; text-align: center; vertical-align: top\">38.272288694</td>\n",
       "        <td style=\"padding-left: 1em; padding-right: 1em; text-align: center; vertical-align: top\">39.2269664935</td>\n",
       "    </tr>\n",
       "    <tr>\n",
       "        <td style=\"padding-left: 1em; padding-right: 1em; text-align: center; vertical-align: top\">34.945165344</td>\n",
       "        <td style=\"padding-left: 1em; padding-right: 1em; text-align: center; vertical-align: top\">35.1171578292</td>\n",
       "        <td style=\"padding-left: 1em; padding-right: 1em; text-align: center; vertical-align: top\">39.1462089236</td>\n",
       "        <td style=\"padding-left: 1em; padding-right: 1em; text-align: center; vertical-align: top\">40.5845117698</td>\n",
       "    </tr>\n",
       "    <tr>\n",
       "        <td style=\"padding-left: 1em; padding-right: 1em; text-align: center; vertical-align: top\">39.0957278345</td>\n",
       "        <td style=\"padding-left: 1em; padding-right: 1em; text-align: center; vertical-align: top\">40.6095830913</td>\n",
       "        <td style=\"padding-left: 1em; padding-right: 1em; text-align: center; vertical-align: top\">40.523040106</td>\n",
       "        <td style=\"padding-left: 1em; padding-right: 1em; text-align: center; vertical-align: top\">45.1067352961</td>\n",
       "    </tr>\n",
       "    <tr>\n",
       "        <td style=\"padding-left: 1em; padding-right: 1em; text-align: center; vertical-align: top\">37.7696131032</td>\n",
       "        <td style=\"padding-left: 1em; padding-right: 1em; text-align: center; vertical-align: top\">39.9036867306</td>\n",
       "        <td style=\"padding-left: 1em; padding-right: 1em; text-align: center; vertical-align: top\">38.1947918393</td>\n",
       "        <td style=\"padding-left: 1em; padding-right: 1em; text-align: center; vertical-align: top\">41.3221140974</td>\n",
       "    </tr>\n",
       "    <tr>\n",
       "        <td style=\"padding-left: 1em; padding-right: 1em; text-align: center; vertical-align: top\">35.1089144603</td>\n",
       "        <td style=\"padding-left: 1em; padding-right: 1em; text-align: center; vertical-align: top\">38.0674700168</td>\n",
       "        <td style=\"padding-left: 1em; padding-right: 1em; text-align: center; vertical-align: top\">40.1567131661</td>\n",
       "        <td style=\"padding-left: 1em; padding-right: 1em; text-align: center; vertical-align: top\">41.8244654995</td>\n",
       "    </tr>\n",
       "    <tr>\n",
       "        <td style=\"padding-left: 1em; padding-right: 1em; text-align: center; vertical-align: top\">43.2422832585</td>\n",
       "        <td style=\"padding-left: 1em; padding-right: 1em; text-align: center; vertical-align: top\">42.7258732951</td>\n",
       "        <td style=\"padding-left: 1em; padding-right: 1em; text-align: center; vertical-align: top\">45.5597962603</td>\n",
       "        <td style=\"padding-left: 1em; padding-right: 1em; text-align: center; vertical-align: top\">45.4976929401</td>\n",
       "    </tr>\n",
       "</table>\n",
       "[1000 rows x 4 columns]<br/>Note: Only the head of the SFrame is printed.<br/>You can use print_rows(num_rows=m, num_columns=n) to print more rows and columns.\n",
       "</div>"
      ],
      "text/plain": [
       "Columns:\n",
       "\tdog_dog\tfloat\n",
       "\tdog_cat\tfloat\n",
       "\tdog_bird\tfloat\n",
       "\tdog_automobile\tfloat\n",
       "\n",
       "Rows: 1000\n",
       "\n",
       "Data:\n",
       "+---------------+---------------+---------------+----------------+\n",
       "|    dog_dog    |    dog_cat    |    dog_bird   | dog_automobile |\n",
       "+---------------+---------------+---------------+----------------+\n",
       "| 33.4773590373 | 36.4196077068 | 41.7538647304 | 41.9579761457  |\n",
       "| 32.8458495684 | 38.8353268874 | 41.3382958925 | 46.0021331807  |\n",
       "| 35.0397073189 | 36.9763410854 | 38.6157590853 | 42.9462290692  |\n",
       "| 33.9010327697 | 34.5750072914 | 37.0892269954 | 41.6866060048  |\n",
       "| 37.4849250909 |  34.778824791 |  38.272288694 | 39.2269664935  |\n",
       "|  34.945165344 | 35.1171578292 | 39.1462089236 | 40.5845117698  |\n",
       "| 39.0957278345 | 40.6095830913 |  40.523040106 | 45.1067352961  |\n",
       "| 37.7696131032 | 39.9036867306 | 38.1947918393 | 41.3221140974  |\n",
       "| 35.1089144603 | 38.0674700168 | 40.1567131661 | 41.8244654995  |\n",
       "| 43.2422832585 | 42.7258732951 | 45.5597962603 | 45.4976929401  |\n",
       "+---------------+---------------+---------------+----------------+\n",
       "[1000 rows x 4 columns]\n",
       "Note: Only the head of the SFrame is printed.\n",
       "You can use print_rows(num_rows=m, num_columns=n) to print more rows and columns."
      ]
     },
     "execution_count": 113,
     "metadata": {},
     "output_type": "execute_result"
    }
   ],
   "source": [
    "dog_table = gl.SFrame()\n",
    "dog_table['dog_dog'] = dog_dog_neighbour['distance']\n",
    "dog_table['dog_cat'] = dog_cat_neighbour['distance']\n",
    "dog_table['dog_bird'] = bird_dog_neighbour['distance']\n",
    "dog_table['dog_automobile'] = automobile_dog_neighbour['distance']\n",
    "dog_table"
   ]
  },
  {
   "cell_type": "code",
   "execution_count": 122,
   "metadata": {
    "collapsed": false
   },
   "outputs": [
    {
     "data": {
      "text/html": [
       "<div style=\"max-height:1000px;max-width:1500px;overflow:auto;\"><table frame=\"box\" rules=\"cols\">\n",
       "    <tr>\n",
       "        <th style=\"padding-left: 1em; padding-right: 1em; text-align: center\">dog_dog</th>\n",
       "        <th style=\"padding-left: 1em; padding-right: 1em; text-align: center\">dog_cat</th>\n",
       "        <th style=\"padding-left: 1em; padding-right: 1em; text-align: center\">dog_bird</th>\n",
       "        <th style=\"padding-left: 1em; padding-right: 1em; text-align: center\">dog_automobile</th>\n",
       "    </tr>\n",
       "    <tr>\n",
       "        <td style=\"padding-left: 1em; padding-right: 1em; text-align: center; vertical-align: top\">33.4773590373</td>\n",
       "        <td style=\"padding-left: 1em; padding-right: 1em; text-align: center; vertical-align: top\">36.4196077068</td>\n",
       "        <td style=\"padding-left: 1em; padding-right: 1em; text-align: center; vertical-align: top\">41.7538647304</td>\n",
       "        <td style=\"padding-left: 1em; padding-right: 1em; text-align: center; vertical-align: top\">41.9579761457</td>\n",
       "    </tr>\n",
       "</table>\n",
       "[1 rows x 4 columns]<br/>\n",
       "</div>"
      ],
      "text/plain": [
       "Columns:\n",
       "\tdog_dog\tfloat\n",
       "\tdog_cat\tfloat\n",
       "\tdog_bird\tfloat\n",
       "\tdog_automobile\tfloat\n",
       "\n",
       "Rows: 1\n",
       "\n",
       "Data:\n",
       "+---------------+---------------+---------------+----------------+\n",
       "|    dog_dog    |    dog_cat    |    dog_bird   | dog_automobile |\n",
       "+---------------+---------------+---------------+----------------+\n",
       "| 33.4773590373 | 36.4196077068 | 41.7538647304 | 41.9579761457  |\n",
       "+---------------+---------------+---------------+----------------+\n",
       "[1 rows x 4 columns]"
      ]
     },
     "execution_count": 122,
     "metadata": {},
     "output_type": "execute_result"
    }
   ],
   "source": [
    "dog_table[0:1]"
   ]
  },
  {
   "cell_type": "code",
   "execution_count": 130,
   "metadata": {
    "collapsed": true
   },
   "outputs": [],
   "source": [
    "def find(arr):\n",
    "    a = []\n",
    "    for x in arr :\n",
    "        a.append(arr[x])\n",
    "    if min(a) == arr['dog_dog']:\n",
    "        return 1\n",
    "    return 0"
   ]
  },
  {
   "cell_type": "code",
   "execution_count": 133,
   "metadata": {
    "collapsed": false
   },
   "outputs": [
    {
     "data": {
      "text/plain": [
       "1"
      ]
     },
     "execution_count": 133,
     "metadata": {},
     "output_type": "execute_result"
    }
   ],
   "source": [
    "find(dog_table[2])"
   ]
  },
  {
   "cell_type": "code",
   "execution_count": 134,
   "metadata": {
    "collapsed": true
   },
   "outputs": [],
   "source": [
    "dog_table['is_correct'] = dog_table.apply(find)"
   ]
  },
  {
   "cell_type": "code",
   "execution_count": 135,
   "metadata": {
    "collapsed": false
   },
   "outputs": [
    {
     "data": {
      "text/html": [
       "<div style=\"max-height:1000px;max-width:1500px;overflow:auto;\"><table frame=\"box\" rules=\"cols\">\n",
       "    <tr>\n",
       "        <th style=\"padding-left: 1em; padding-right: 1em; text-align: center\">dog_dog</th>\n",
       "        <th style=\"padding-left: 1em; padding-right: 1em; text-align: center\">dog_cat</th>\n",
       "        <th style=\"padding-left: 1em; padding-right: 1em; text-align: center\">dog_bird</th>\n",
       "        <th style=\"padding-left: 1em; padding-right: 1em; text-align: center\">dog_automobile</th>\n",
       "        <th style=\"padding-left: 1em; padding-right: 1em; text-align: center\">is_correct</th>\n",
       "    </tr>\n",
       "    <tr>\n",
       "        <td style=\"padding-left: 1em; padding-right: 1em; text-align: center; vertical-align: top\">33.4773590373</td>\n",
       "        <td style=\"padding-left: 1em; padding-right: 1em; text-align: center; vertical-align: top\">36.4196077068</td>\n",
       "        <td style=\"padding-left: 1em; padding-right: 1em; text-align: center; vertical-align: top\">41.7538647304</td>\n",
       "        <td style=\"padding-left: 1em; padding-right: 1em; text-align: center; vertical-align: top\">41.9579761457</td>\n",
       "        <td style=\"padding-left: 1em; padding-right: 1em; text-align: center; vertical-align: top\">1</td>\n",
       "    </tr>\n",
       "    <tr>\n",
       "        <td style=\"padding-left: 1em; padding-right: 1em; text-align: center; vertical-align: top\">32.8458495684</td>\n",
       "        <td style=\"padding-left: 1em; padding-right: 1em; text-align: center; vertical-align: top\">38.8353268874</td>\n",
       "        <td style=\"padding-left: 1em; padding-right: 1em; text-align: center; vertical-align: top\">41.3382958925</td>\n",
       "        <td style=\"padding-left: 1em; padding-right: 1em; text-align: center; vertical-align: top\">46.0021331807</td>\n",
       "        <td style=\"padding-left: 1em; padding-right: 1em; text-align: center; vertical-align: top\">1</td>\n",
       "    </tr>\n",
       "    <tr>\n",
       "        <td style=\"padding-left: 1em; padding-right: 1em; text-align: center; vertical-align: top\">35.0397073189</td>\n",
       "        <td style=\"padding-left: 1em; padding-right: 1em; text-align: center; vertical-align: top\">36.9763410854</td>\n",
       "        <td style=\"padding-left: 1em; padding-right: 1em; text-align: center; vertical-align: top\">38.6157590853</td>\n",
       "        <td style=\"padding-left: 1em; padding-right: 1em; text-align: center; vertical-align: top\">42.9462290692</td>\n",
       "        <td style=\"padding-left: 1em; padding-right: 1em; text-align: center; vertical-align: top\">1</td>\n",
       "    </tr>\n",
       "    <tr>\n",
       "        <td style=\"padding-left: 1em; padding-right: 1em; text-align: center; vertical-align: top\">33.9010327697</td>\n",
       "        <td style=\"padding-left: 1em; padding-right: 1em; text-align: center; vertical-align: top\">34.5750072914</td>\n",
       "        <td style=\"padding-left: 1em; padding-right: 1em; text-align: center; vertical-align: top\">37.0892269954</td>\n",
       "        <td style=\"padding-left: 1em; padding-right: 1em; text-align: center; vertical-align: top\">41.6866060048</td>\n",
       "        <td style=\"padding-left: 1em; padding-right: 1em; text-align: center; vertical-align: top\">1</td>\n",
       "    </tr>\n",
       "    <tr>\n",
       "        <td style=\"padding-left: 1em; padding-right: 1em; text-align: center; vertical-align: top\">37.4849250909</td>\n",
       "        <td style=\"padding-left: 1em; padding-right: 1em; text-align: center; vertical-align: top\">34.778824791</td>\n",
       "        <td style=\"padding-left: 1em; padding-right: 1em; text-align: center; vertical-align: top\">38.272288694</td>\n",
       "        <td style=\"padding-left: 1em; padding-right: 1em; text-align: center; vertical-align: top\">39.2269664935</td>\n",
       "        <td style=\"padding-left: 1em; padding-right: 1em; text-align: center; vertical-align: top\">0</td>\n",
       "    </tr>\n",
       "    <tr>\n",
       "        <td style=\"padding-left: 1em; padding-right: 1em; text-align: center; vertical-align: top\">34.945165344</td>\n",
       "        <td style=\"padding-left: 1em; padding-right: 1em; text-align: center; vertical-align: top\">35.1171578292</td>\n",
       "        <td style=\"padding-left: 1em; padding-right: 1em; text-align: center; vertical-align: top\">39.1462089236</td>\n",
       "        <td style=\"padding-left: 1em; padding-right: 1em; text-align: center; vertical-align: top\">40.5845117698</td>\n",
       "        <td style=\"padding-left: 1em; padding-right: 1em; text-align: center; vertical-align: top\">1</td>\n",
       "    </tr>\n",
       "    <tr>\n",
       "        <td style=\"padding-left: 1em; padding-right: 1em; text-align: center; vertical-align: top\">39.0957278345</td>\n",
       "        <td style=\"padding-left: 1em; padding-right: 1em; text-align: center; vertical-align: top\">40.6095830913</td>\n",
       "        <td style=\"padding-left: 1em; padding-right: 1em; text-align: center; vertical-align: top\">40.523040106</td>\n",
       "        <td style=\"padding-left: 1em; padding-right: 1em; text-align: center; vertical-align: top\">45.1067352961</td>\n",
       "        <td style=\"padding-left: 1em; padding-right: 1em; text-align: center; vertical-align: top\">1</td>\n",
       "    </tr>\n",
       "    <tr>\n",
       "        <td style=\"padding-left: 1em; padding-right: 1em; text-align: center; vertical-align: top\">37.7696131032</td>\n",
       "        <td style=\"padding-left: 1em; padding-right: 1em; text-align: center; vertical-align: top\">39.9036867306</td>\n",
       "        <td style=\"padding-left: 1em; padding-right: 1em; text-align: center; vertical-align: top\">38.1947918393</td>\n",
       "        <td style=\"padding-left: 1em; padding-right: 1em; text-align: center; vertical-align: top\">41.3221140974</td>\n",
       "        <td style=\"padding-left: 1em; padding-right: 1em; text-align: center; vertical-align: top\">1</td>\n",
       "    </tr>\n",
       "    <tr>\n",
       "        <td style=\"padding-left: 1em; padding-right: 1em; text-align: center; vertical-align: top\">35.1089144603</td>\n",
       "        <td style=\"padding-left: 1em; padding-right: 1em; text-align: center; vertical-align: top\">38.0674700168</td>\n",
       "        <td style=\"padding-left: 1em; padding-right: 1em; text-align: center; vertical-align: top\">40.1567131661</td>\n",
       "        <td style=\"padding-left: 1em; padding-right: 1em; text-align: center; vertical-align: top\">41.8244654995</td>\n",
       "        <td style=\"padding-left: 1em; padding-right: 1em; text-align: center; vertical-align: top\">1</td>\n",
       "    </tr>\n",
       "    <tr>\n",
       "        <td style=\"padding-left: 1em; padding-right: 1em; text-align: center; vertical-align: top\">43.2422832585</td>\n",
       "        <td style=\"padding-left: 1em; padding-right: 1em; text-align: center; vertical-align: top\">42.7258732951</td>\n",
       "        <td style=\"padding-left: 1em; padding-right: 1em; text-align: center; vertical-align: top\">45.5597962603</td>\n",
       "        <td style=\"padding-left: 1em; padding-right: 1em; text-align: center; vertical-align: top\">45.4976929401</td>\n",
       "        <td style=\"padding-left: 1em; padding-right: 1em; text-align: center; vertical-align: top\">0</td>\n",
       "    </tr>\n",
       "</table>\n",
       "[1000 rows x 5 columns]<br/>Note: Only the head of the SFrame is printed.<br/>You can use print_rows(num_rows=m, num_columns=n) to print more rows and columns.\n",
       "</div>"
      ],
      "text/plain": [
       "Columns:\n",
       "\tdog_dog\tfloat\n",
       "\tdog_cat\tfloat\n",
       "\tdog_bird\tfloat\n",
       "\tdog_automobile\tfloat\n",
       "\tis_correct\tint\n",
       "\n",
       "Rows: 1000\n",
       "\n",
       "Data:\n",
       "+---------------+---------------+---------------+----------------+------------+\n",
       "|    dog_dog    |    dog_cat    |    dog_bird   | dog_automobile | is_correct |\n",
       "+---------------+---------------+---------------+----------------+------------+\n",
       "| 33.4773590373 | 36.4196077068 | 41.7538647304 | 41.9579761457  |     1      |\n",
       "| 32.8458495684 | 38.8353268874 | 41.3382958925 | 46.0021331807  |     1      |\n",
       "| 35.0397073189 | 36.9763410854 | 38.6157590853 | 42.9462290692  |     1      |\n",
       "| 33.9010327697 | 34.5750072914 | 37.0892269954 | 41.6866060048  |     1      |\n",
       "| 37.4849250909 |  34.778824791 |  38.272288694 | 39.2269664935  |     0      |\n",
       "|  34.945165344 | 35.1171578292 | 39.1462089236 | 40.5845117698  |     1      |\n",
       "| 39.0957278345 | 40.6095830913 |  40.523040106 | 45.1067352961  |     1      |\n",
       "| 37.7696131032 | 39.9036867306 | 38.1947918393 | 41.3221140974  |     1      |\n",
       "| 35.1089144603 | 38.0674700168 | 40.1567131661 | 41.8244654995  |     1      |\n",
       "| 43.2422832585 | 42.7258732951 | 45.5597962603 | 45.4976929401  |     0      |\n",
       "+---------------+---------------+---------------+----------------+------------+\n",
       "[1000 rows x 5 columns]\n",
       "Note: Only the head of the SFrame is printed.\n",
       "You can use print_rows(num_rows=m, num_columns=n) to print more rows and columns."
      ]
     },
     "execution_count": 135,
     "metadata": {},
     "output_type": "execute_result"
    }
   ],
   "source": [
    "dog_table"
   ]
  },
  {
   "cell_type": "code",
   "execution_count": 136,
   "metadata": {
    "collapsed": false
   },
   "outputs": [
    {
     "name": "stdout",
     "output_type": "stream",
     "text": [
      "678\n"
     ]
    }
   ],
   "source": [
    "print sum(dog_table['is_correct'])"
   ]
  },
  {
   "cell_type": "code",
   "execution_count": 154,
   "metadata": {
    "collapsed": false
   },
   "outputs": [
    {
     "data": {
      "text/html": [
       "<pre>Starting pairwise querying.</pre>"
      ],
      "text/plain": [
       "Starting pairwise querying."
      ]
     },
     "metadata": {},
     "output_type": "display_data"
    },
    {
     "data": {
      "text/html": [
       "<pre>+--------------+---------+-------------+--------------+</pre>"
      ],
      "text/plain": [
       "+--------------+---------+-------------+--------------+"
      ]
     },
     "metadata": {},
     "output_type": "display_data"
    },
    {
     "data": {
      "text/html": [
       "<pre>| Query points | # Pairs | % Complete. | Elapsed Time |</pre>"
      ],
      "text/plain": [
       "| Query points | # Pairs | % Complete. | Elapsed Time |"
      ]
     },
     "metadata": {},
     "output_type": "display_data"
    },
    {
     "data": {
      "text/html": [
       "<pre>+--------------+---------+-------------+--------------+</pre>"
      ],
      "text/plain": [
       "+--------------+---------+-------------+--------------+"
      ]
     },
     "metadata": {},
     "output_type": "display_data"
    },
    {
     "data": {
      "text/html": [
       "<pre>| 0            | 1       | 0.196464    | 53.397ms     |</pre>"
      ],
      "text/plain": [
       "| 0            | 1       | 0.196464    | 53.397ms     |"
      ]
     },
     "metadata": {},
     "output_type": "display_data"
    },
    {
     "data": {
      "text/html": [
       "<pre>| Done         |         | 100         | 149.204ms    |</pre>"
      ],
      "text/plain": [
       "| Done         |         | 100         | 149.204ms    |"
      ]
     },
     "metadata": {},
     "output_type": "display_data"
    },
    {
     "data": {
      "text/html": [
       "<pre>+--------------+---------+-------------+--------------+</pre>"
      ],
      "text/plain": [
       "+--------------+---------+-------------+--------------+"
      ]
     },
     "metadata": {},
     "output_type": "display_data"
    },
    {
     "data": {
      "text/html": [
       "<div style=\"max-height:1000px;max-width:1500px;overflow:auto;\"><table frame=\"box\" rules=\"cols\">\n",
       "    <tr>\n",
       "        <th style=\"padding-left: 1em; padding-right: 1em; text-align: center\">query_label</th>\n",
       "        <th style=\"padding-left: 1em; padding-right: 1em; text-align: center\">reference_label</th>\n",
       "        <th style=\"padding-left: 1em; padding-right: 1em; text-align: center\">distance</th>\n",
       "        <th style=\"padding-left: 1em; padding-right: 1em; text-align: center\">rank</th>\n",
       "    </tr>\n",
       "    <tr>\n",
       "        <td style=\"padding-left: 1em; padding-right: 1em; text-align: center; vertical-align: top\">0</td>\n",
       "        <td style=\"padding-left: 1em; padding-right: 1em; text-align: center; vertical-align: top\">159</td>\n",
       "        <td style=\"padding-left: 1em; padding-right: 1em; text-align: center; vertical-align: top\">37.4642628784</td>\n",
       "        <td style=\"padding-left: 1em; padding-right: 1em; text-align: center; vertical-align: top\">1</td>\n",
       "    </tr>\n",
       "    <tr>\n",
       "        <td style=\"padding-left: 1em; padding-right: 1em; text-align: center; vertical-align: top\">0</td>\n",
       "        <td style=\"padding-left: 1em; padding-right: 1em; text-align: center; vertical-align: top\">129</td>\n",
       "        <td style=\"padding-left: 1em; padding-right: 1em; text-align: center; vertical-align: top\">37.5666832169</td>\n",
       "        <td style=\"padding-left: 1em; padding-right: 1em; text-align: center; vertical-align: top\">2</td>\n",
       "    </tr>\n",
       "    <tr>\n",
       "        <td style=\"padding-left: 1em; padding-right: 1em; text-align: center; vertical-align: top\">0</td>\n",
       "        <td style=\"padding-left: 1em; padding-right: 1em; text-align: center; vertical-align: top\">362</td>\n",
       "        <td style=\"padding-left: 1em; padding-right: 1em; text-align: center; vertical-align: top\">37.6047267079</td>\n",
       "        <td style=\"padding-left: 1em; padding-right: 1em; text-align: center; vertical-align: top\">3</td>\n",
       "    </tr>\n",
       "    <tr>\n",
       "        <td style=\"padding-left: 1em; padding-right: 1em; text-align: center; vertical-align: top\">0</td>\n",
       "        <td style=\"padding-left: 1em; padding-right: 1em; text-align: center; vertical-align: top\">445</td>\n",
       "        <td style=\"padding-left: 1em; padding-right: 1em; text-align: center; vertical-align: top\">37.7065585153</td>\n",
       "        <td style=\"padding-left: 1em; padding-right: 1em; text-align: center; vertical-align: top\">4</td>\n",
       "    </tr>\n",
       "    <tr>\n",
       "        <td style=\"padding-left: 1em; padding-right: 1em; text-align: center; vertical-align: top\">0</td>\n",
       "        <td style=\"padding-left: 1em; padding-right: 1em; text-align: center; vertical-align: top\">67</td>\n",
       "        <td style=\"padding-left: 1em; padding-right: 1em; text-align: center; vertical-align: top\">38.5113254907</td>\n",
       "        <td style=\"padding-left: 1em; padding-right: 1em; text-align: center; vertical-align: top\">5</td>\n",
       "    </tr>\n",
       "</table>\n",
       "[5 rows x 4 columns]<br/>\n",
       "</div>"
      ],
      "text/plain": [
       "Columns:\n",
       "\tquery_label\tint\n",
       "\treference_label\tint\n",
       "\tdistance\tfloat\n",
       "\trank\tint\n",
       "\n",
       "Rows: 5\n",
       "\n",
       "Data:\n",
       "+-------------+-----------------+---------------+------+\n",
       "| query_label | reference_label |    distance   | rank |\n",
       "+-------------+-----------------+---------------+------+\n",
       "|      0      |       159       | 37.4642628784 |  1   |\n",
       "|      0      |       129       | 37.5666832169 |  2   |\n",
       "|      0      |       362       | 37.6047267079 |  3   |\n",
       "|      0      |       445       | 37.7065585153 |  4   |\n",
       "|      0      |        67       | 38.5113254907 |  5   |\n",
       "+-------------+-----------------+---------------+------+\n",
       "[5 rows x 4 columns]"
      ]
     },
     "execution_count": 154,
     "metadata": {},
     "output_type": "execute_result"
    }
   ],
   "source": [
    "simple_dog_model.query(image_test_data[0:1])"
   ]
  },
  {
   "cell_type": "code",
   "execution_count": 156,
   "metadata": {
    "collapsed": false
   },
   "outputs": [
    {
     "data": {
      "application/javascript": [
       "$(\"head\").append($(\"<link/>\").attr({\n",
       "  rel:  \"stylesheet\",\n",
       "  type: \"text/css\",\n",
       "  href: \"//cdnjs.cloudflare.com/ajax/libs/font-awesome/4.1.0/css/font-awesome.min.css\"\n",
       "}));\n",
       "$(\"head\").append($(\"<link/>\").attr({\n",
       "  rel:  \"stylesheet\",\n",
       "  type: \"text/css\",\n",
       "  href: \"https://static.turi.com/products/graphlab-create/2.1/canvas/css/canvas.css\"\n",
       "}));\n",
       "\n",
       "            (function(){\n",
       "\n",
       "                var e = null;\n",
       "                if (typeof element == 'undefined') {\n",
       "                    var scripts = document.getElementsByTagName('script');\n",
       "                    var thisScriptTag = scripts[scripts.length-1];\n",
       "                    var parentDiv = thisScriptTag.parentNode;\n",
       "                    e = document.createElement('div');\n",
       "                    parentDiv.appendChild(e);\n",
       "                } else {\n",
       "                    e = element[0];\n",
       "                }\n",
       "\n",
       "                if (typeof requirejs !== 'undefined') {\n",
       "                    // disable load timeout; ipython_app.js is large and can take a while to load.\n",
       "                    requirejs.config({waitSeconds: 0});\n",
       "                }\n",
       "\n",
       "                require(['https://static.turi.com/products/graphlab-create/2.1/canvas/js/ipython_app.js'], function(IPythonApp){\n",
       "                    var app = new IPythonApp();\n",
       "                    app.attachView('sarray','Images', {\"ipython\": true, \"rows\": [{\"format\": \"raw\", \"value\": [154, 145, 135, 152, 144, 135, 157, 146, 136, 152, 138, 125, 131, 100, 76, 171, 125, 86, 164, 112, 67, 154, 92, 49, 141, 111, 85, 112, 140, 137, 101, 155, 160, 106, 158, 158, 99, 135, 134, 112, 144, 146, 136, 192, 195, 139, 209, 211, 132, 200, 201, 114, 183, 182, 115, 182, 180, 115, 176, 175, 117, 172, 173, 112, 164, 166, 85, 138, 145, 80, 130, 139, 87, 134, 134, 66, 107, 96, 42, 80, 59, 40, 73, 49, 34, 60, 36, 33, 57, 31, 31, 58, 29, 30, 58, 32, 157, 148, 138, 155, 147, 138, 160, 149, 139, 154, 139, 126, 134, 103, 80, 175, 128, 93, 166, 114, 71, 161, 99, 54, 153, 125, 95, 124, 153, 145, 120, 172, 180, 127, 185, 190, 132, 185, 189, 148, 195, 206, 140, 198, 214, 152, 209, 220, 148, 199, 204, 122, 179, 184, 119, 177, 184, 126, 181, 191, 151, 201, 212, 143, 195, 201, 106, 161, 169, 99, 153, 162, 99, 150, 152, 78, 123, 116, 53, 95, 79, 44, 83, 65, 35, 68, 48, 28, 58, 36, 25, 55, 29, 24, 52, 30, 157, 147, 137, 155, 147, 137, 159, 148, 138, 152, 138, 124, 133, 103, 81, 174, 128, 95, 163, 113, 71, 160, 100, 55, 157, 131, 99, 117, 145, 134, 114, 157, 164, 119, 175, 179, 127, 188, 191, 153, 206, 218, 151, 204, 224, 167, 216, 229, 161, 208, 212, 138, 195, 203, 142, 203, 212, 144, 201, 213, 153, 205, 216, 131, 185, 192, 101, 158, 165, 100, 158, 164, 99, 154, 157, 82, 132, 128, 69, 116, 107, 54, 101, 87, 38, 82, 65, 30, 68, 49, 28, 60, 38, 24, 50, 30, 157, 148, 138, 155, 147, 138, 159, 149, 139, 152, 137, 123, 135, 105, 83, 177, 133, 99, 163, 114, 72, 159, 100, 54, 148, 124, 92, 104, 132, 121, 102, 139, 144, 102, 154, 156, 115, 176, 177, 148, 200, 209, 157, 208, 223, 168, 221, 229, 159, 219, 221, 142, 212, 216, 146, 219, 222, 141, 207, 208, 131, 188, 189, 113, 170, 173, 96, 156, 160, 95, 157, 159, 90, 151, 150, 74, 131, 127, 67, 120, 113, 51, 106, 95, 34, 90, 73, 36, 85, 64, 35, 69, 48, 29, 54, 33, 157, 148, 138, 155, 147, 138, 160, 149, 139, 150, 135, 122, 135, 106, 82, 181, 138, 100, 168, 120, 75, 166, 109, 63, 143, 119, 89, 95, 124, 117, 103, 143, 149, 112, 164, 169, 125, 183, 188, 148, 201, 209, 154, 211, 219, 149, 215, 217, 139, 213, 212, 123, 205, 204, 133, 214, 208, 131, 200, 184, 130, 187, 170, 122, 180, 177, 106, 170, 168, 95, 161, 157, 84, 150, 145, 73, 135, 130, 62, 120, 114, 46, 108, 97, 35, 102, 83, 38, 96, 72, 31, 68, 46, 27, 52, 30, 157, 148, 138, 155, 147, 137, 160, 150, 139, 149, 134, 121, 135, 106, 80, 184, 142, 100, 173, 126, 79, 176, 118, 72, 149, 125, 98, 100, 130, 127, 111, 159, 170, 122, 180, 190, 126, 187, 197, 134, 194, 204, 133, 203, 208, 135, 213, 212, 135, 215, 213, 118, 202, 198, 124, 205, 191, 114, 178, 149, 99, 151, 119, 107, 165, 153, 93, 159, 151, 84, 154, 144, 83, 152, 141, 76, 141, 133, 66, 129, 122, 54, 122, 109, 45, 119, 98, 28, 91, 66, 24, 63, 39, 25, 50, 28, 159, 147, 139, 157, 146, 138, 158, 151, 139, 146, 134, 118, 138, 108, 81, 189, 147, 105, 178, 129, 80, 180, 120, 74, 152, 129, 105, 108, 144, 145, 114, 168, 177, 117, 179, 186, 116, 183, 187, 118, 187, 189, 115, 192, 190, 124, 199, 199, 130, 191, 196, 93, 151, 151, 98, 167, 150, 107, 172, 137, 71, 123, 78, 76, 132, 88, 76, 139, 117, 71, 142, 127, 67, 139, 121, 65, 130, 119, 66, 128, 120, 55, 128, 111, 45, 125, 100, 27, 88, 63, 19, 53, 30, 21, 44, 23, 160, 146, 140, 158, 145, 139, 157, 152, 138, 145, 133, 116, 141, 109, 84, 192, 149, 109, 180, 129, 81, 181, 122, 74, 153, 135, 110, 108, 151, 153, 111, 170, 175, 114, 174, 175, 107, 170, 169, 108, 171, 167, 98, 162, 156, 97, 150, 146, 83, 116, 118, 53, 90, 88, 68, 136, 115, 76, 155, 121, 65, 128, 80, 58, 113, 48, 64, 125, 90, 67, 137, 120, 61, 134, 114, 60, 126, 115, 61, 124, 114, 50, 126, 106, 43, 128, 99, 35, 96, 69, 23, 55, 33, 23, 47, 24, 160, 146, 140, 158, 145, 138, 157, 153, 138, 145, 133, 116, 143, 110, 85, 193, 149, 109, 182, 133, 87, 181, 127, 80, 151, 138, 111, 105, 154, 151, 104, 168, 169, 109, 166, 166, 99, 146, 145, 68, 105, 103, 53, 83, 80, 52, 69, 62, 59, 68, 59, 49, 85, 71, 46, 128, 99, 39, 134, 99, 49, 121, 79, 53, 109, 47, 55, 115, 76, 56, 125, 108, 56, 130, 114, 53, 123, 113, 55, 121, 108, 46, 125, 100, 37, 125, 93, 33, 99, 68, 24, 64, 38, 21, 48, 24, 160, 146, 140, 157, 145, 138, 157, 153, 138, 144, 133, 116, 145, 112, 87, 195, 150, 112, 184, 138, 93, 183, 134, 87, 149, 140, 111, 98, 149, 141, 100, 162, 159, 103, 151, 148, 66, 95, 94, 43, 54, 54, 56, 54, 54, 46, 39, 35, 43, 41, 32, 46, 82, 63, 37, 125, 88, 31, 127, 84, 43, 110, 63, 47, 100, 39, 46, 104, 61, 46, 112, 91, 50, 121, 108, 46, 118, 106, 47, 114, 96, 39, 120, 88, 37, 128, 90, 32, 103, 68, 19, 66, 35, 21, 54, 27, 160, 146, 140, 158, 145, 138, 157, 152, 138, 143, 131, 114, 148, 114, 89, 198, 154, 116, 185, 141, 97, 183, 135, 90, 147, 137, 107, 94, 140, 129, 97, 149, 143, 77, 110, 107, 44, 54, 55, 64, 55, 59, 85, 67, 71, 52, 38, 42, 25, 25, 25, 30, 65, 49, 36, 118, 77, 34, 116, 62, 45, 97, 42, 41, 90, 31, 36, 92, 44, 44, 105, 78, 48, 113, 100, 39, 107, 90, 39, 104, 77, 32, 110, 74, 35, 126, 84, 35, 108, 69, 22, 74, 39, 23, 60, 30, 160, 146, 140, 158, 145, 138, 157, 152, 138, 141, 130, 113, 150, 117, 92, 202, 160, 122, 185, 142, 100, 185, 136, 93, 147, 132, 103, 87, 123, 112, 61, 96, 90, 40, 55, 53, 48, 45, 49, 90, 75, 83, 118, 101, 109, 70, 60, 68, 26, 24, 30, 17, 43, 32, 34, 102, 63, 32, 101, 45, 43, 86, 28, 41, 89, 33, 35, 88, 35, 46, 100, 67, 50, 105, 90, 38, 96, 71, 38, 98, 63, 28, 103, 63, 29, 119, 73, 33, 107, 64, 20, 73, 36, 20, 61, 28, 160, 146, 140, 157, 145, 138, 157, 152, 138, 140, 128, 112, 152, 119, 93, 203, 161, 124, 185, 143, 101, 189, 139, 98, 148, 126, 99, 57, 80, 70, 29, 45, 41, 45, 45, 45, 52, 42, 48, 75, 62, 71, 102, 95, 104, 91, 85, 91, 53, 44, 47, 19, 31, 23, 23, 76, 44, 29, 92, 42, 38, 84, 32, 39, 88, 34, 37, 89, 32, 48, 96, 58, 51, 97, 77, 40, 90, 57, 40, 94, 53, 32, 103, 61, 27, 114, 65, 35, 107, 63, 26, 79, 40, 25, 69, 34, 159, 147, 139, 155, 146, 137, 158, 151, 138, 142, 127, 111, 154, 118, 93, 205, 158, 120, 184, 143, 102, 178, 139, 102, 122, 102, 82, 26, 31, 30, 39, 41, 48, 56, 51, 57, 42, 34, 37, 38, 31, 33, 52, 51, 53, 80, 80, 78, 80, 69, 68, 37, 33, 32, 18, 58, 37, 22, 81, 37, 36, 83, 32, 37, 87, 36, 36, 83, 31, 48, 89, 48, 49, 90, 59, 41, 88, 48, 38, 91, 49, 37, 98, 55, 35, 106, 58, 47, 103, 61, 31, 75, 40, 23, 58, 28, 158, 148, 137, 152, 148, 137, 158, 151, 138, 142, 124, 109, 155, 121, 98, 194, 152, 120, 139, 107, 75, 92, 70, 47, 49, 38, 29, 20, 16, 23, 67, 62, 79, 81, 74, 88, 36, 31, 37, 23, 18, 19, 26, 22, 21, 39, 41, 34, 77, 69, 66, 68, 58, 64, 29, 60, 48, 18, 72, 32, 36, 81, 29, 33, 83, 31, 33, 81, 32, 44, 84, 40, 48, 87, 46, 41, 87, 44, 38, 90, 48, 43, 91, 50, 45, 101, 53, 60, 100, 58, 43, 79, 44, 28, 55, 27, 158, 150, 137, 153, 150, 138, 157, 150, 136, 139, 124, 107, 137, 116, 96, 111, 90, 73, 41, 26, 17, 43, 34, 31, 29, 28, 30, 20, 21, 27, 78, 71, 84, 147, 136, 155, 69, 59, 78, 15, 5, 20, 25, 17, 23, 22, 21, 15, 41, 34, 29, 67, 61, 64, 38, 66, 54, 18, 65, 32, 36, 79, 33, 28, 84, 28, 30, 86, 30, 41, 88, 38, 45, 88, 42, 44, 87, 42, 45, 89, 48, 49, 89, 47, 48, 97, 48, 64, 101, 55, 67, 102, 59, 44, 69, 35, 158, 150, 137, 153, 149, 138, 158, 153, 140, 134, 123, 107, 64, 55, 40, 23, 19, 11, 24, 20, 24, 61, 59, 70, 53, 54, 61, 24, 26, 26, 58, 51, 56, 135, 122, 141, 124, 110, 140, 33, 19, 46, 34, 22, 35, 40, 37, 34, 44, 41, 35, 48, 50, 47, 42, 71, 58, 36, 78, 53, 39, 79, 43, 30, 86, 30, 28, 88, 29, 37, 90, 36, 44, 90, 41, 47, 89, 43, 51, 87, 44, 54, 85, 43, 53, 98, 49, 68, 103, 55, 80, 113, 65, 65, 89, 50, 157, 150, 139, 152, 148, 139, 133, 129, 119, 74, 67, 57, 22, 18, 7, 18, 18, 11, 40, 37, 42, 73, 69, 81, 49, 44, 49, 26, 21, 16, 55, 45, 47, 70, 57, 74, 107, 92, 122, 91, 77, 105, 73, 61, 75, 65, 63, 59, 55, 61, 51, 52, 67, 56, 57, 90, 74, 50, 89, 72, 41, 76, 54, 36, 81, 37, 33, 85, 34, 34, 87, 36, 41, 88, 41, 48, 88, 43, 55, 86, 43, 60, 87, 45, 54, 97, 50, 70, 103, 59, 90, 120, 75, 82, 104, 66, 143, 136, 128, 105, 100, 97, 55, 51, 48, 22, 19, 14, 23, 22, 16, 26, 25, 23, 51, 48, 50, 76, 70, 74, 51, 43, 44, 36, 27, 25, 59, 50, 52, 46, 36, 47, 44, 33, 51, 56, 45, 62, 52, 42, 51, 56, 56, 52, 62, 78, 63, 75, 105, 86, 66, 104, 87, 59, 97, 86, 54, 84, 76, 54, 77, 55, 43, 77, 45, 33, 79, 40, 42, 89, 46, 49, 89, 45, 52, 84, 40, 61, 89, 47, 59, 104, 62, 80, 112, 78, 85, 109, 76, 84, 100, 70, 78, 72, 69, 33, 28, 31, 23, 20, 24, 28, 27, 28, 34, 35, 37, 39, 39, 45, 59, 58, 59, 62, 60, 57, 52, 46, 49, 56, 48, 55, 54, 48, 53, 36, 30, 33, 30, 24, 26, 25, 20, 21, 27, 22, 23, 64, 68, 63, 95, 119, 100, 81, 122, 97, 65, 108, 88, 64, 103, 97, 63, 89, 93, 81, 81, 82, 62, 74, 63, 47, 83, 57, 50, 95, 57, 48, 89, 47, 52, 87, 42, 56, 89, 48, 67, 115, 79, 106, 138, 113, 105, 126, 106, 97, 104, 85, 33, 29, 30, 28, 24, 28, 30, 27, 32, 41, 39, 43, 57, 55, 62, 63, 62, 71, 60, 60, 63, 40, 40, 40, 45, 42, 47, 65, 60, 70, 45, 41, 46, 24, 21, 17, 25, 21, 16, 25, 22, 20, 25, 24, 21, 87, 96, 84, 121, 149, 124, 72, 116, 80, 52, 96, 66, 57, 92, 85, 83, 103, 115, 104, 99, 112, 73, 71, 72, 77, 101, 82, 77, 121, 84, 67, 99, 61, 68, 95, 55, 54, 89, 48, 65, 114, 81, 110, 143, 127, 145, 169, 160, 134, 138, 128, 50, 49, 52, 42, 40, 44, 36, 33, 37, 57, 52, 57, 74, 69, 74, 65, 61, 66, 45, 42, 47, 24, 22, 27, 38, 34, 40, 55, 50, 56, 33, 31, 31, 22, 19, 12, 27, 22, 19, 21, 18, 21, 27, 30, 22, 68, 84, 61, 77, 108, 69, 57, 97, 47, 48, 87, 44, 55, 81, 69, 91, 105, 123, 119, 118, 148, 92, 81, 103, 104, 116, 113, 109, 145, 124, 95, 111, 95, 86, 95, 71, 56, 92, 55, 60, 113, 84, 95, 141, 131, 130, 174, 170, 138, 161, 152, 65, 64, 70, 62, 60, 66, 52, 48, 55, 68, 62, 69, 69, 64, 69, 42, 39, 43, 28, 25, 29, 22, 20, 23, 31, 28, 32, 33, 30, 34, 28, 25, 28, 26, 22, 18, 27, 22, 21, 13, 13, 15, 30, 39, 26, 54, 79, 44, 54, 87, 38, 59, 90, 37, 70, 94, 53, 78, 95, 82, 85, 97, 115, 123, 124, 172, 124, 111, 155, 121, 124, 147, 108, 131, 138, 111, 113, 127, 97, 99, 93, 66, 94, 70, 73, 113, 101, 93, 135, 135, 88, 144, 142, 96, 152, 142, 67, 66, 72, 69, 67, 74, 59, 55, 62, 57, 52, 59, 51, 48, 53, 30, 30, 31, 26, 24, 23, 24, 21, 20, 30, 29, 29, 28, 27, 30, 26, 22, 28, 34, 29, 29, 25, 22, 21, 9, 12, 10, 30, 44, 26, 58, 86, 45, 56, 87, 37, 61, 78, 34, 95, 100, 74, 106, 112, 106, 102, 111, 127, 119, 124, 160, 134, 126, 159, 123, 124, 139, 115, 127, 132, 121, 117, 129, 95, 99, 94, 70, 83, 77, 96, 91, 110, 101, 91, 118, 92, 107, 124, 80, 118, 127, 63, 61, 67, 59, 57, 64, 49, 45, 52, 43, 37, 44, 37, 34, 39, 32, 32, 31, 37, 32, 28, 45, 37, 33, 44, 40, 37, 29, 29, 31, 21, 18, 24, 39, 34, 35, 31, 28, 27, 6, 8, 7, 30, 42, 23, 62, 85, 46, 61, 81, 41, 71, 73, 48, 100, 91, 85, 125, 119, 127, 121, 125, 139, 119, 126, 139, 123, 122, 128, 122, 122, 116, 129, 132, 120, 119, 112, 107, 82, 88, 75, 95, 109, 110, 117, 110, 143, 114, 82, 123, 133, 95, 134, 137, 102, 148, 31, 31, 34, 46, 44, 48, 44, 41, 45, 43, 38, 42, 46, 42, 46, 52, 47, 47, 60, 50, 44, 69, 56, 48, 56, 47, 43, 31, 28, 31, 23, 21, 25, 32, 28, 26, 38, 32, 32, 15, 11, 13, 31, 36, 22, 66, 75, 42, 79, 82, 52, 99, 92, 79, 120, 107, 110, 123, 112, 121, 124, 120, 129, 122, 125, 131, 128, 128, 125, 131, 127, 117, 136, 128, 118, 131, 121, 116, 92, 93, 76, 86, 118, 111, 95, 149, 165, 74, 100, 123, 109, 79, 117, 166, 99, 161, 19, 19, 17, 31, 31, 29, 35, 32, 32, 37, 33, 33, 57, 52, 53, 62, 53, 53, 93, 77, 70, 142, 123, 114, 84, 70, 65, 34, 28, 30, 29, 28, 28, 26, 22, 17, 39, 30, 30, 27, 16, 23, 35, 29, 23, 76, 68, 40, 90, 77, 46, 101, 91, 77, 122, 113, 110, 126, 116, 113, 130, 119, 113, 143, 141, 133, 140, 141, 124, 143, 136, 115, 146, 133, 114, 132, 123, 108, 103, 100, 71, 75, 104, 92, 81, 148, 160, 67, 125, 134, 81, 96, 120, 130, 102, 154, 20, 20, 16, 23, 23, 19, 29, 27, 24, 31, 29, 26, 47, 44, 44, 66, 61, 62, 153, 143, 139, 197, 185, 180, 97, 87, 88, 35, 30, 37, 37, 36, 35, 25, 23, 16, 38, 30, 30, 47, 35, 42, 44, 32, 30, 77, 60, 38, 89, 71, 41, 84, 73, 54, 110, 102, 88, 125, 113, 97, 120, 106, 84, 131, 124, 97, 128, 124, 91, 125, 115, 78, 124, 108, 73, 110, 100, 66, 103, 95, 58, 87, 92, 76, 86, 115, 123, 79, 118, 124, 56, 99, 111, 86, 115, 145, 23, 21, 19, 21, 20, 17, 26, 26, 22, 29, 30, 27, 32, 34, 34, 69, 72, 73, 116, 119, 119, 104, 106, 107, 61, 61, 67, 24, 22, 32, 36, 34, 32, 34, 32, 28, 23, 22, 23, 40, 35, 38, 42, 34, 34, 58, 47, 36, 68, 57, 39, 74, 63, 48, 79, 68, 52, 85, 72, 55, 91, 77, 56, 91, 78, 53, 93, 80, 51, 103, 86, 56, 113, 93, 60, 113, 93, 60, 121, 100, 68, 112, 97, 73, 108, 107, 94, 95, 112, 106, 62, 100, 103, 71, 114, 128, 24, 21, 21, 20, 18, 15, 28, 26, 23, 31, 31, 27, 23, 23, 20, 37, 35, 32, 44, 36, 34, 53, 41, 39, 59, 47, 45, 37, 27, 24, 38, 29, 24, 42, 37, 34, 16, 15, 17, 25, 25, 29, 27, 26, 28, 26, 24, 21, 28, 26, 19, 33, 31, 23, 33, 30, 21, 39, 35, 26, 50, 45, 35, 57, 47, 32, 61, 49, 32, 70, 57, 38, 92, 76, 56, 116, 99, 77, 116, 94, 70, 118, 96, 70, 111, 98, 76, 102, 103, 88, 91, 108, 102, 77, 101, 104, 24, 20, 21, 22, 18, 18, 34, 29, 26, 39, 33, 27, 36, 28, 19, 48, 32, 22, 70, 39, 31, 91, 51, 41, 95, 59, 42, 85, 57, 33, 81, 55, 40, 69, 49, 41, 30, 19, 16, 28, 23, 23, 28, 25, 25, 18, 16, 13, 19, 18, 13, 13, 13, 9, 14, 14, 11, 14, 16, 13, 20, 21, 18, 27, 25, 19, 31, 27, 20, 35, 29, 22, 47, 40, 32, 68, 61, 51, 75, 60, 47, 83, 64, 47, 84, 67, 49, 105, 95, 79, 118, 117, 105, 96, 99, 95, 23, 18, 18, 27, 23, 22, 31, 23, 19, 46, 33, 23, 74, 56, 38, 74, 47, 28, 89, 45, 30, 101, 46, 29, 104, 54, 25, 107, 64, 26, 112, 67, 39, 107, 67, 47, 68, 39, 25, 64, 42, 31, 69, 51, 39, 56, 40, 26, 61, 47, 33, 49, 38, 26, 35, 27, 18, 25, 20, 13, 20, 17, 13, 18, 18, 17, 17, 18, 18, 20, 20, 21, 21, 22, 22, 23, 23, 23, 29, 26, 25, 35, 27, 23, 47, 36, 28, 67, 57, 47, 83, 78, 69, 77, 74, 69], \"height\": 32, \"channels\": 3, \"width\": 32, \"type\": \"image\", \"id\": 4803134800}], \"selected_variable\": {\"name\": [\"<SArray>\"], \"dtype\": \"Image\", \"view_component\": \"Images\", \"view_file\": \"sarray\", \"descriptives\": {\"rows\": 1}, \"type\": \"SArray\", \"view_components\": [\"Images\"]}}, e);\n",
       "                });\n",
       "            })();\n",
       "        "
      ]
     },
     "metadata": {},
     "output_type": "display_data"
    }
   ],
   "source": [
    "image_train_data[image_train_data['id'] == 159]['image'].show()"
   ]
  },
  {
   "cell_type": "code",
   "execution_count": null,
   "metadata": {
    "collapsed": true
   },
   "outputs": [],
   "source": []
  }
 ],
 "metadata": {
  "kernelspec": {
   "display_name": "Python 2",
   "language": "python",
   "name": "python2"
  }
 },
 "nbformat": 4,
 "nbformat_minor": 0
}
